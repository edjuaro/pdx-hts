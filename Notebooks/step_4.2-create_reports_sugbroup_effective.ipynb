{
 "cells": [
  {
   "cell_type": "markdown",
   "metadata": {},
   "source": [
    "Subgroup effective drugs are defined as:\n",
    "\n",
    "A criterion was needed for designating drug as effective or ineffective in each subgroup. Requiring the same number of hits across subgroups would unduly favor larger subgroups, while requiring the same fraction of hits would unduly favor smaller subgroups. Instead we required that it be effective in enough samples to achieve a specified confidence that, in the limit, the frequency of efficacy in similar samples would exceed a given threshold. The required number of hits is k = F^{-1}(1- \\alpha; n, p), where F(k;n,p)= \\sum_{i=0}^{k}{ \\binom{n}{i}p^i (1-p)^{(n-i)}} is the cumulative distribution of the binomial distribution and n is the number of tumors of the subgroup in question. We chose =0.05, corresponding to 95% confidence, and p=0.5. \n",
    "\n",
    "**This required efficacy in 8 of 10 G3 tumors, 5 of 6 SHH tumors, and 4 of 4 G4 tumors.**"
   ]
  },
  {
   "cell_type": "code",
   "execution_count": 1,
   "metadata": {
    "ExecuteTime": {
     "end_time": "2019-04-19T19:45:21.172680Z",
     "start_time": "2019-04-19T19:45:20.781559Z"
    }
   },
   "outputs": [
    {
     "data": {
      "text/plain": [
       "G3         8\n",
       "G4         4\n",
       "SHH        5\n",
       "SHH+p53    3\n",
       "dtype: int64"
      ]
     },
     "execution_count": 1,
     "metadata": {},
     "output_type": "execute_result"
    }
   ],
   "source": [
    "import pandas as pd\n",
    "min_hits = pd.Series(data=[8,4,5,3], index=['G3','G4','SHH','SHH+p53'])\n",
    "min_hits"
   ]
  },
  {
   "cell_type": "code",
   "execution_count": 2,
   "metadata": {
    "ExecuteTime": {
     "end_time": "2019-04-19T19:45:26.202609Z",
     "start_time": "2019-04-19T19:45:25.479275Z"
    }
   },
   "outputs": [],
   "source": [
    "import ccalnoir as ccal\n",
    "import cuzcatlan as cusca\n",
    "import os"
   ]
  },
  {
   "cell_type": "code",
   "execution_count": null,
   "metadata": {
    "ExecuteTime": {
     "end_time": "2018-12-21T15:07:30.793895Z",
     "start_time": "2018-12-21T15:07:30.789871Z"
    }
   },
   "outputs": [],
   "source": []
  },
  {
   "cell_type": "code",
   "execution_count": 3,
   "metadata": {
    "ExecuteTime": {
     "end_time": "2019-04-19T19:45:30.684953Z",
     "start_time": "2019-04-19T19:45:30.679628Z"
    }
   },
   "outputs": [],
   "source": [
    "def cls_to_boolean(file):\n",
    "    with open(file) as f:\n",
    "        f.readline()\n",
    "        f.readline()\n",
    "        line = f.readline()\n",
    "        vals = line.strip('\\n').split(' ')\n",
    "    return [bool(int(val)) for val in vals]"
   ]
  },
  {
   "cell_type": "code",
   "execution_count": null,
   "metadata": {},
   "outputs": [],
   "source": []
  },
  {
   "cell_type": "markdown",
   "metadata": {},
   "source": [
    "## Find effective drugs per PDX"
   ]
  },
  {
   "cell_type": "code",
   "execution_count": 8,
   "metadata": {
    "ExecuteTime": {
     "end_time": "2019-04-19T19:47:08.966111Z",
     "start_time": "2019-04-19T19:47:08.938968Z"
    },
    "scrolled": false
   },
   "outputs": [
    {
     "name": "stdout",
     "output_type": "stream",
     "text": [
      "Computed threshold for the 75-th percentile(0.75-th quantile)\n"
     ]
    }
   ],
   "source": [
    "# Read all drug scores\n",
    "all_drug_scores = 'results/pdx_drug_scores.gct'\n",
    "all_scores = pd.read_table(all_drug_scores, header=2, index_col=0).drop(['Description'],axis=1)\n",
    "\n",
    "#Define a hit as drugs above certain percentile\n",
    "# which_percentile = 99.9 # this is what it was for the drug screen\n",
    "# which_percentile = 90\n",
    "which_percentile = 75\n",
    "which_quantile = which_percentile/100\n",
    "\n",
    "thresholds = all_scores.apply(lambda x: x.quantile(which_quantile), axis=0)\n",
    "print(f\"Computed threshold for the {which_percentile}-th percentile({which_quantile}-th quantile)\")\n",
    "# pd.DataFrame(thresholds).T"
   ]
  },
  {
   "cell_type": "code",
   "execution_count": 9,
   "metadata": {
    "ExecuteTime": {
     "end_time": "2019-04-19T19:47:09.941587Z",
     "start_time": "2019-04-19T19:47:09.935742Z"
    }
   },
   "outputs": [
    {
     "data": {
      "text/plain": [
       "ICB1299    0.32775\n",
       "ICB1572    0.30325\n",
       "MB002      0.32100\n",
       "MB009      0.32825\n",
       "MED1911    0.32200\n",
       "MED211     0.33700\n",
       "MED411     0.33600\n",
       "RCMB20     0.31700\n",
       "RCMB28     0.32900\n",
       "RCMB40     0.33525\n",
       "ICB1487    0.30500\n",
       "MED2312    0.30500\n",
       "RCMB38     0.29025\n",
       "DMB006     0.32100\n",
       "MED1712    0.27100\n",
       "RCMB24     0.28700\n",
       "RCMB32     0.29225\n",
       "BT084      0.32000\n",
       "ICB984     0.31500\n",
       "RCMB18     0.29725\n",
       "dtype: float64"
      ]
     },
     "execution_count": 9,
     "metadata": {},
     "output_type": "execute_result"
    }
   ],
   "source": [
    "thresholds"
   ]
  },
  {
   "cell_type": "code",
   "execution_count": 13,
   "metadata": {
    "ExecuteTime": {
     "end_time": "2019-04-19T19:55:19.617590Z",
     "start_time": "2019-04-19T19:55:18.641838Z"
    },
    "scrolled": false
   },
   "outputs": [
    {
     "name": "stdout",
     "output_type": "stream",
     "text": [
      "Successfully wrote and formated file: `results/hits_per_pdx.xlsx`\n"
     ]
    }
   ],
   "source": [
    "per_pdx_hits = all_scores>=thresholds # scores # Since the \"scores are now rankings, we want them to be lower than the threshold\n",
    "\n",
    "# From: https://xlsxwriter.readthedocs.io/example_pandas_conditional.html\n",
    "# Create a Pandas Excel writer using XlsxWriter as the engine.\n",
    "writer = pd.ExcelWriter('results/hits_per_pdx.xlsx', engine='xlsxwriter')\n",
    "\n",
    "# Convert the dataframe to an XlsxWriter Excel object.\n",
    "per_pdx_hits.to_excel(writer, sheet_name='Effective Drugs')\n",
    "\n",
    "# Get the xlsxwriter workbook and worksheet objects.\n",
    "workbook  = writer.book\n",
    "worksheet = writer.sheets['Effective Drugs']\n",
    "\n",
    "# Apply a conditional format to the cell range.\n",
    "\n",
    "# Black fill with light gray text.\n",
    "true_format = workbook.add_format({'bg_color':   '#000000',\n",
    "                                   'font_color': '#444444'})\n",
    "# White fill with light gray text.\n",
    "false_format = workbook.add_format({'bg_color':   '#FFFFFF',\n",
    "                                    'font_color': '#AAAAAA'})\n",
    "\n",
    "# B1 toU673 is very specific to these results\n",
    "worksheet.conditional_format('B1:U744', {'type':     'text',\n",
    "                                         'criteria': 'containing',\n",
    "                                         'value':    'TRUE',\n",
    "                                         'format':   true_format})\n",
    "worksheet.conditional_format('B1:U744', {'type':     'text',\n",
    "                                         'criteria': 'containing',\n",
    "                                         'value':    'FALSE',\n",
    "                                         'format':   false_format})\n",
    "\n",
    "temp = per_pdx_hits.join(all_scores, lsuffix='_hit',rsuffix='_score')\n",
    "temp.sort_index(axis=1, inplace=True)\n",
    "\n",
    "# Convert the dataframe to an XlsxWriter Excel object.\n",
    "temp.to_excel(writer, sheet_name='Effective Drugs + Scores')\n",
    "\n",
    "# #add scores to the ranks\n",
    "# scores = pd.read_excel('results/drug_ranks_for_all_pdx_models.xlsx', sheet_name='DiSCoVER_all_data')\n",
    "# scores.drop(['moa','drug'],inplace=True,axis=1)\n",
    "\n",
    "# temp = temp.join(scores)\n",
    "# temp.sort_index(axis=1, inplace=True)\n",
    "# #dropping the repeated column \"{pdx}_score\"\n",
    "# cols = [c for c in temp.columns if '_score' not in c]\n",
    "# temp=temp[cols]\n",
    "# temp.to_excel(writer, sheet_name='Effective Drugs + all_scores')\n",
    "\n",
    "worksheet = writer.sheets['Effective Drugs + Scores']\n",
    "# B1 toU673 is very specific to these results\n",
    "worksheet.conditional_format('B1:AO744', {'type':     'text',\n",
    "                                         'criteria': 'containing',\n",
    "                                         'value':    'TRUE',\n",
    "                                         'format':   true_format})\n",
    "worksheet.conditional_format('B1:AO744', {'type':     'text',\n",
    "                                         'criteria': 'containing',\n",
    "                                         'value':    'FALSE',\n",
    "                                         'format':   false_format})\n",
    "\n",
    "worksheet = writer.sheets['Effective Drugs + Scores']\n",
    "# B1 toU673 is very specific to these results\n",
    "worksheet.conditional_format('B1:EK744', {'type':     'text',\n",
    "                                         'criteria': 'containing',\n",
    "                                         'value':    'TRUE',\n",
    "                                         'format':   true_format})\n",
    "worksheet.conditional_format('B1:EK744', {'type':     'text',\n",
    "                                         'criteria': 'containing',\n",
    "                                         'value':    'FALSE',\n",
    "                                         'format':   false_format})\n",
    "\n",
    "\n",
    "thresholds.to_excel(writer, sheet_name='Thresholds')\n",
    "\n",
    "\n",
    "# Close the Pandas Excel writer and output the Excel file.\n",
    "writer.save()\n",
    "\n",
    "# Close the Pandas Excel writer and output the Excel file.\n",
    "writer.save()\n",
    "\n",
    "print(\"Successfully wrote and formated file: `results/hits_per_pdx.xlsx`\")\n",
    "# per_pdx_hits"
   ]
  },
  {
   "cell_type": "code",
   "execution_count": null,
   "metadata": {
    "ExecuteTime": {
     "end_time": "2019-01-05T16:15:09.350145Z",
     "start_time": "2019-01-05T16:15:09.345389Z"
    }
   },
   "outputs": [],
   "source": [
    "# Maybe add sheets for unique hits?"
   ]
  },
  {
   "cell_type": "markdown",
   "metadata": {},
   "source": [
    "## Find hits per subgroup"
   ]
  },
  {
   "cell_type": "code",
   "execution_count": 26,
   "metadata": {
    "ExecuteTime": {
     "end_time": "2019-04-19T20:08:38.749870Z",
     "start_time": "2019-04-19T20:08:37.298509Z"
    },
    "scrolled": true
   },
   "outputs": [
    {
     "name": "stdout",
     "output_type": "stream",
     "text": [
      "Sheet named \"G3\" added successfully to file named \"results/hits_subgroup_effective.xlsx\"!\n",
      "Sheet named \"G3+rank\" added successfully to file named \"results/hits_subgroup_effective.xlsx\"!\n",
      "File results/G3/G3_subgroup_effective.xlsx written.\n",
      "Sheet named \"G4\" added successfully to file named \"results/hits_subgroup_effective.xlsx\"!\n",
      "Sheet named \"G4+rank\" added successfully to file named \"results/hits_subgroup_effective.xlsx\"!\n",
      "File results/G4/G4_subgroup_effective.xlsx written.\n",
      "Sheet named \"SHH\" added successfully to file named \"results/hits_subgroup_effective.xlsx\"!\n",
      "Sheet named \"SHH+rank\" added successfully to file named \"results/hits_subgroup_effective.xlsx\"!\n",
      "File results/SHH/SHH_subgroup_effective.xlsx written.\n",
      "Sheet named \"SHH+p53\" added successfully to file named \"results/hits_subgroup_effective.xlsx\"!\n",
      "Sheet named \"SHH+p53+rank\" added successfully to file named \"results/hits_subgroup_effective.xlsx\"!\n",
      "File results/SHH+p53/SHH+p53_subgroup_effective.xlsx written.\n",
      "Sheet named \"all_subgroups\" added successfully to file named \"results/hits_subgroup_effective.xlsx\"!\n",
      "Sheet named \"all_subgroups+ranks\" added successfully to file named \"results/hits_subgroup_effective.xlsx\"!\n",
      "Sheet named \"effective_drugs\" added successfully to file named \"results/hits_subgroup_effective.xlsx\"!\n"
     ]
    }
   ],
   "source": [
    "writer = pd.ExcelWriter('results/hits_subgroup_effective.xlsx', engine='xlsxwriter')\n",
    "first_subgroup = True\n",
    "combined_sheet = pd.DataFrame()\n",
    "for subgroup in ['G3','G4','SHH','SHH+p53']:\n",
    "    if not os.path.exists(f'results/{subgroup}'):\n",
    "        os.makedirs(f'results/{subgroup}')\n",
    "    \n",
    "    phenotype_file=f'results/{subgroup}.cls'\n",
    "    subgroup_output_filename=f'results/{subgroup}/{subgroup}_subgroup_effective.xlsx'\n",
    "    \n",
    "    sugbroup_bool = cls_to_boolean(phenotype_file)\n",
    "    #This assumes per_pdx_hits was generated in a cell above\n",
    "    subgroup_scores = per_pdx_hits[per_pdx_hits.columns[sugbroup_bool]]\n",
    "    \n",
    "    #find mean scores\n",
    "    subgroup_numeric_scores = all_scores[per_pdx_hits.columns[sugbroup_bool]]\n",
    "    \n",
    "    drug_passes_test = subgroup_scores.sum(axis=1)>=min_hits[subgroup]\n",
    "    drug_passes_test.name = subgroup\n",
    "    if first_subgroup:\n",
    "        hits_per_subgroup = pd.DataFrame(drug_passes_test)\n",
    "        first_subgroup = False\n",
    "    else:\n",
    "        hits_per_subgroup = hits_per_subgroup.join(drug_passes_test)\n",
    "    \n",
    "    ### INDEX>???\n",
    "    drug_passes_test.to_excel(writer,sheet_name=f'{subgroup}')\n",
    "    print(f'Sheet named \"{subgroup}\" added successfully to file named \"results/hits_subgroup_effective.xlsx\"!')\n",
    "    \n",
    "    to_sheet = pd.concat([drug_passes_test, subgroup_numeric_scores.mean(axis=1)], axis=1)\n",
    "    to_sheet.columns = [subgroup,'mean_score('+subgroup+')']\n",
    "    combined_sheet = combined_sheet.join(to_sheet,how='outer')\n",
    "    to_sheet.to_excel(writer,sheet_name=f'{subgroup}+score')\n",
    "    print(f'Sheet named \"{subgroup}+rank\" added successfully to file named \"results/hits_subgroup_effective.xlsx\"!')\n",
    "    \n",
    "    to_sheet_2 = pd.concat([drug_passes_test, subgroup_numeric_scores,subgroup_numeric_scores.mean(axis=1)], axis=1)\n",
    "    to_sheet_2.columns.values[-1] = 'mean_score('+subgroup+')'\n",
    "    to_sheet_2.to_excel(subgroup_output_filename,sheet_name='PDXs')\n",
    "    print(f'File {subgroup_output_filename} written.')\n",
    "\n",
    "hits_per_subgroup.to_excel(writer,sheet_name=f'all_subgroups')\n",
    "print(f'Sheet named \"all_subgroups\" added successfully to file named \"results/hits_subgroup_effective.xlsx\"!')\n",
    "combined_sheet.to_excel(writer,sheet_name=f'all_subgroups+ranks')\n",
    "print(f'Sheet named \"all_subgroups+ranks\" added successfully to file named \"results/hits_subgroup_effective.xlsx\"!')\n",
    "\n",
    "#drop drugs which are not effective\n",
    "effective_exp = combined_sheet[combined_sheet.apply(lambda x: any([x['G3'],x['G4'],x['SHH']]), axis=1)]\n",
    "effective_exp = effective_exp.reset_index(drop=True)\n",
    "effective_exp.to_excel(writer,sheet_name=f'effective_drugs')\n",
    "print(f'Sheet named \"effective_drugs\" added successfully to file named \"results/hits_subgroup_effective.xlsx\"!')\n",
    "\n",
    "# Get the xlsxwriter workbook and worksheet objects.\n",
    "workbook  = writer.book\n",
    "# worksheet = writer.sheets['all_subgroups']\n",
    "\n",
    "# Apply a conditional format to the cell range.\n",
    "\n",
    "# Black fill with light gray text.\n",
    "true_format = workbook.add_format({'bg_color':   '#000000',\n",
    "                                   'font_color': '#444444'})\n",
    "# White fill with light gray text.\n",
    "false_format = workbook.add_format({'bg_color':   '#FFFFFF',\n",
    "                                    'font_color': '#AAAAAA'})\n",
    "\n",
    "for sheet in ['all_subgroups','all_subgroups+ranks','effective_drugs']:\n",
    "    worksheet = writer.sheets[sheet]\n",
    "    # B1 to H673 is very specific to these results\n",
    "    worksheet.conditional_format('B2:H744', {'type':     'text',\n",
    "                                             'criteria': 'containing',\n",
    "                                             'value':    'TRUE',\n",
    "                                             'format':   true_format})\n",
    "    worksheet.conditional_format('B2:H744', {'type':     'text',\n",
    "                                             'criteria': 'containing',\n",
    "                                             'value':    'FALSE',\n",
    "                                             'format':   false_format})\n",
    "writer.save()"
   ]
  },
  {
   "cell_type": "code",
   "execution_count": null,
   "metadata": {},
   "outputs": [],
   "source": []
  },
  {
   "cell_type": "code",
   "execution_count": null,
   "metadata": {},
   "outputs": [],
   "source": []
  }
 ],
 "metadata": {
  "kernelspec": {
   "display_name": "Python 3",
   "language": "python",
   "name": "python3"
  },
  "language_info": {
   "codemirror_mode": {
    "name": "ipython",
    "version": 3
   },
   "file_extension": ".py",
   "mimetype": "text/x-python",
   "name": "python",
   "nbconvert_exporter": "python",
   "pygments_lexer": "ipython3",
   "version": "3.6.3"
  }
 },
 "nbformat": 4,
 "nbformat_minor": 2
}
