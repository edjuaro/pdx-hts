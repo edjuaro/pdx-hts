{
 "cells": [
  {
   "cell_type": "markdown",
   "metadata": {},
   "source": [
    "Subgroup effective drugs are defined as:\n",
    "\n",
    "A criterion was needed for designating drug as effective or ineffective in each subgroup. Requiring the same number of hits across subgroups would unduly favor larger subgroups, while requiring the same fraction of hits would unduly favor smaller subgroups. Instead we required that it be effective in enough samples to achieve a specified confidence that, in the limit, the frequency of efficacy in similar samples would exceed a given threshold. The required number of hits is k = F^{-1}(1- \\alpha; n, p), where F(k;n,p)= \\sum_{i=0}^{k}{ \\binom{n}{i}p^i (1-p)^{(n-i)}} is the cumulative distribution of the binomial distribution and n is the number of tumors of the subgroup in question. We chose =0.05, corresponding to 95% confidence, and p=0.5. \n",
    "\n",
    "**This required efficacy in 8 of 10 G3 tumors, 5 of 6 SHH tumors, and 4 of 4 G4 tumors.**"
   ]
  },
  {
   "cell_type": "code",
   "execution_count": 1,
   "metadata": {
    "ExecuteTime": {
     "end_time": "2019-01-05T16:09:33.092360Z",
     "start_time": "2019-01-05T16:09:32.310470Z"
    }
   },
   "outputs": [
    {
     "data": {
      "text/plain": [
       "G3         8\n",
       "G4         4\n",
       "SHH        5\n",
       "SHH+p53    3\n",
       "dtype: int64"
      ]
     },
     "execution_count": 1,
     "metadata": {},
     "output_type": "execute_result"
    }
   ],
   "source": [
    "import pandas as pd\n",
    "min_hits = pd.Series(data=[8,4,5,3], index=['G3','G4','SHH','SHH+p53'])\n",
    "min_hits"
   ]
  },
  {
   "cell_type": "code",
   "execution_count": 2,
   "metadata": {
    "ExecuteTime": {
     "end_time": "2019-01-05T16:09:34.849763Z",
     "start_time": "2019-01-05T16:09:33.094884Z"
    }
   },
   "outputs": [],
   "source": [
    "import ccalnoir as ccal\n",
    "import cuzcatlan as cusca\n",
    "import os"
   ]
  },
  {
   "cell_type": "code",
   "execution_count": null,
   "metadata": {
    "ExecuteTime": {
     "end_time": "2018-12-21T15:07:30.793895Z",
     "start_time": "2018-12-21T15:07:30.789871Z"
    }
   },
   "outputs": [],
   "source": []
  },
  {
   "cell_type": "code",
   "execution_count": 3,
   "metadata": {
    "ExecuteTime": {
     "end_time": "2019-01-05T16:09:34.859520Z",
     "start_time": "2019-01-05T16:09:34.854659Z"
    }
   },
   "outputs": [],
   "source": [
    "def cls_to_boolean(file):\n",
    "    with open(file) as f:\n",
    "        f.readline()\n",
    "        f.readline()\n",
    "        line = f.readline()\n",
    "        vals = line.strip('\\n').split(' ')\n",
    "    return [bool(int(val)) for val in vals]"
   ]
  },
  {
   "cell_type": "code",
   "execution_count": null,
   "metadata": {},
   "outputs": [],
   "source": []
  },
  {
   "cell_type": "markdown",
   "metadata": {},
   "source": [
    "## Find effective drugs per PDX"
   ]
  },
  {
   "cell_type": "code",
   "execution_count": 4,
   "metadata": {
    "ExecuteTime": {
     "end_time": "2019-01-05T16:09:34.906995Z",
     "start_time": "2019-01-05T16:09:34.865152Z"
    },
    "scrolled": false
   },
   "outputs": [
    {
     "name": "stdout",
     "output_type": "stream",
     "text": [
      "Computed threshold for the 80-th percentile(0.8-th quantile)\n"
     ]
    }
   ],
   "source": [
    "# Read all drug scores\n",
    "all_drug_scores = 'results/pdx_drug_scores.gct'\n",
    "all_scores = pd.read_table(all_drug_scores, header=2, index_col=0).drop(['Description'],axis=1)\n",
    "\n",
    "#Define a hit as drugs above certain percentile\n",
    "# which_percentile = 99.9 # this is what it was for the drug screen\n",
    "which_percentile = 80\n",
    "which_quantile = which_percentile/100\n",
    "\n",
    "thresholds = all_scores.apply(lambda x: x.quantile(which_quantile), axis=0)\n",
    "print(f\"Computed threshold for the {which_percentile}-th percentile({which_quantile}-th quantile)\")\n",
    "# pd.DataFrame(thresholds).T"
   ]
  },
  {
   "cell_type": "code",
   "execution_count": 5,
   "metadata": {
    "ExecuteTime": {
     "end_time": "2019-01-05T16:09:35.324920Z",
     "start_time": "2019-01-05T16:09:34.909887Z"
    },
    "scrolled": true
   },
   "outputs": [
    {
     "name": "stdout",
     "output_type": "stream",
     "text": [
      "Successfully wrote and formated file: `results/hits_per_pdx.xlsx`\n"
     ]
    }
   ],
   "source": [
    "per_pdx_hits = all_scores>=thresholds\n",
    "\n",
    "# From: https://xlsxwriter.readthedocs.io/example_pandas_conditional.html\n",
    "# Create a Pandas Excel writer using XlsxWriter as the engine.\n",
    "writer = pd.ExcelWriter('results/hits_per_pdx.xlsx', engine='xlsxwriter')\n",
    "\n",
    "# Convert the dataframe to an XlsxWriter Excel object.\n",
    "per_pdx_hits.to_excel(writer, sheet_name='Effective Drugs')\n",
    "\n",
    "# Get the xlsxwriter workbook and worksheet objects.\n",
    "workbook  = writer.book\n",
    "worksheet = writer.sheets['Effective Drugs']\n",
    "\n",
    "# Apply a conditional format to the cell range.\n",
    "\n",
    "# Black fill with light gray text.\n",
    "true_format = workbook.add_format({'bg_color':   '#000000',\n",
    "                                   'font_color': '#444444'})\n",
    "# White fill with light gray text.\n",
    "false_format = workbook.add_format({'bg_color':   '#FFFFFF',\n",
    "                                    'font_color': '#AAAAAA'})\n",
    "\n",
    "# B1 toU673 is very specific to these results\n",
    "worksheet.conditional_format('B1:U673', {'type':     'text',\n",
    "                                         'criteria': 'containing',\n",
    "                                         'value':    'TRUE',\n",
    "                                         'format':   true_format})\n",
    "worksheet.conditional_format('B1:U673', {'type':     'text',\n",
    "                                         'criteria': 'containing',\n",
    "                                         'value':    'FALSE',\n",
    "                                         'format':   false_format})\n",
    "\n",
    "# Close the Pandas Excel writer and output the Excel file.\n",
    "writer.save()\n",
    "\n",
    "print(\"Successfully wrote and formated file: `results/hits_per_pdx.xlsx`\")\n",
    "# per_pdx_hits"
   ]
  },
  {
   "cell_type": "code",
   "execution_count": 6,
   "metadata": {
    "ExecuteTime": {
     "end_time": "2019-01-05T16:09:35.329527Z",
     "start_time": "2019-01-05T16:09:35.326656Z"
    }
   },
   "outputs": [],
   "source": [
    "# Maybe add sheets for unique hits?"
   ]
  },
  {
   "cell_type": "markdown",
   "metadata": {},
   "source": [
    "## Find hits per subgroup"
   ]
  },
  {
   "cell_type": "code",
   "execution_count": 7,
   "metadata": {
    "ExecuteTime": {
     "end_time": "2019-01-05T16:09:35.655168Z",
     "start_time": "2019-01-05T16:09:35.333591Z"
    }
   },
   "outputs": [
    {
     "name": "stdout",
     "output_type": "stream",
     "text": [
      "Sheet named \"G3\" added successfully to file named \"results/hitssubgroup_effective.xlsx\"!\n",
      "Sheet named \"G4\" added successfully to file named \"results/hitssubgroup_effective.xlsx\"!\n",
      "Sheet named \"SHH\" added successfully to file named \"results/hitssubgroup_effective.xlsx\"!\n",
      "Sheet named \"SHH+p53\" added successfully to file named \"results/hitssubgroup_effective.xlsx\"!\n"
     ]
    }
   ],
   "source": [
    "writer = pd.ExcelWriter('results/hits_subgroup_effective.xlsx', engine='xlsxwriter')\n",
    "first_subgroup = True\n",
    "for subgroup in ['G3','G4','SHH','SHH+p53']:\n",
    "    if not os.path.exists(f'results/{subgroup}'):\n",
    "        os.makedirs(f'results/{subgroup}')\n",
    "    \n",
    "    phenotype_file=f'results/{subgroup}.cls'\n",
    "    subgroup_output_filename=f'results/{subgroup}/subgroup_effective.xlsx'\n",
    "    \n",
    "    sugbroup_bool = cls_to_boolean(phenotype_file)\n",
    "    #This assumes per_pdx_hits was generated in a cell above\n",
    "    subgroup_scores = per_pdx_hits[per_pdx_hits.columns[sugbroup_bool]]\n",
    "    drug_passes_test = subgroup_scores.sum(axis=1)>=min_hits[subgroup]\n",
    "    drug_passes_test.name = subgroup\n",
    "    if first_subgroup:\n",
    "        hits_per_subgroup = pd.DataFrame(drug_passes_test)\n",
    "        first_subgroup = False\n",
    "    else:\n",
    "        hits_per_subgroup = hits_per_subgroup.join(drug_passes_test)\n",
    "    \n",
    "    ### INDEX>???\n",
    "    drug_passes_test.to_excel(writer,sheet_name=f'{subgroup}')\n",
    "    print(f'Sheet named \"{subgroup}\" added successfully to file named \"results/hitssubgroup_effective.xlsx\"!')\n",
    "\n",
    "hits_per_subgroup.to_excel(writer,sheet_name=f'all_subgroups')\n",
    "\n",
    "\n",
    "# Get the xlsxwriter workbook and worksheet objects.\n",
    "workbook  = writer.book\n",
    "worksheet = writer.sheets['all_subgroups']\n",
    "\n",
    "# Apply a conditional format to the cell range.\n",
    "\n",
    "# Black fill with light gray text.\n",
    "true_format = workbook.add_format({'bg_color':   '#000000',\n",
    "                                   'font_color': '#444444'})\n",
    "# White fill with light gray text.\n",
    "false_format = workbook.add_format({'bg_color':   '#FFFFFF',\n",
    "                                    'font_color': '#AAAAAA'})\n",
    "\n",
    "# B1 to E673 is very specific to these results\n",
    "worksheet.conditional_format('B2:E673', {'type':     'text',\n",
    "                                         'criteria': 'containing',\n",
    "                                         'value':    'TRUE',\n",
    "                                         'format':   true_format})\n",
    "worksheet.conditional_format('B2:E673', {'type':     'text',\n",
    "                                         'criteria': 'containing',\n",
    "                                         'value':    'FALSE',\n",
    "                                         'format':   false_format})\n",
    "writer.save()"
   ]
  },
  {
   "cell_type": "code",
   "execution_count": null,
   "metadata": {},
   "outputs": [],
   "source": []
  }
 ],
 "metadata": {
  "kernelspec": {
   "display_name": "Python 3",
   "language": "python",
   "name": "python3"
  },
  "language_info": {
   "codemirror_mode": {
    "name": "ipython",
    "version": 3
   },
   "file_extension": ".py",
   "mimetype": "text/x-python",
   "name": "python",
   "nbconvert_exporter": "python",
   "pygments_lexer": "ipython3",
   "version": "3.6.3"
  }
 },
 "nbformat": 4,
 "nbformat_minor": 2
}
