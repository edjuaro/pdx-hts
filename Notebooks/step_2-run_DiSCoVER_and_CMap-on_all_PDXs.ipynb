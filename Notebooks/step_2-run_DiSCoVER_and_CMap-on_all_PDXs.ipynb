{
 "cells": [
  {
   "cell_type": "markdown",
   "metadata": {},
   "source": [
    "## RNASeq workflow for PDX-HTS paper\n"
   ]
  },
  {
   "cell_type": "markdown",
   "metadata": {},
   "source": [
    "This notebook contains all the analyses..."
   ]
  },
  {
   "cell_type": "code",
   "execution_count": 9,
   "metadata": {
    "ExecuteTime": {
     "end_time": "2019-01-16T22:21:45.840293Z",
     "start_time": "2019-01-16T22:21:45.786275Z"
    }
   },
   "outputs": [],
   "source": [
    "# Performing common imports ... a few other imports are made automatically by UIBuilder cells bellow. Don't delete them!\n",
    "from common_imports import *"
   ]
  },
  {
   "cell_type": "code",
   "execution_count": 10,
   "metadata": {
    "ExecuteTime": {
     "end_time": "2019-01-16T22:21:46.359369Z",
     "start_time": "2019-01-16T22:21:46.321828Z"
    }
   },
   "outputs": [],
   "source": [
    "#Setting the random number generator seed. This is used by Sklearn's Random Forrest Classifier. Not a crucial part of the pipeline, more like an optional display -- but reproducibility is imperative\n",
    "np.random.seed(0)"
   ]
  },
  {
   "cell_type": "code",
   "execution_count": 11,
   "metadata": {
    "ExecuteTime": {
     "end_time": "2019-01-16T22:21:46.756093Z",
     "start_time": "2019-01-16T22:21:46.723619Z"
    }
   },
   "outputs": [],
   "source": [
    "CLASSIFY = False\n",
    "RUN_DISCOVER = True"
   ]
  },
  {
   "cell_type": "code",
   "execution_count": 14,
   "metadata": {
    "ExecuteTime": {
     "end_time": "2019-01-16T22:23:58.887987Z",
     "start_time": "2019-01-16T22:23:58.838767Z"
    }
   },
   "outputs": [],
   "source": [
    "def run_pipeline(case_id):\n",
    "    print('======================================')\n",
    "    print(\"Step 1: read_user_input\")\n",
    "    print('======================================')\n",
    "    setup = read_user_input(case_id, patient_dir=case_id, dna_nexus_bool=False, is_medullo=True, control='original',custom_control_expression='N/A')\n",
    "    print('======================================')\n",
    "    print(\"Step 2: download_and_preprocess_rnaseq\")\n",
    "    print('======================================')\n",
    "    setup = download_and_preprocess_rnaseq(setup)\n",
    "    print('======================================')\n",
    "    print(\"Step 3: classify_sample\")\n",
    "    print('======================================')\n",
    "    if CLASSIFY:\n",
    "        setup = classify_sample(setup)\n",
    "    else:\n",
    "         print(\"These are not the analyses you are looking for. Move along!\")   \n",
    "    print('======================================')\n",
    "    print(\"Step 4: run_discover\")\n",
    "    print('======================================')\n",
    "    if RUN_DISCOVER:\n",
    "        setup = run_discover(setup)\n",
    "    else:\n",
    "        print(\"These are not the analyses you are looking for. Move along!\") \n",
    "        setup = pickle.load(file=open(os.path.join(setup.out_dir, setup.case_id+'_backup4_DISCoVER.p'),'rb'))\n",
    "    print('======================================')\n",
    "    print(\"Step 5: run_cmap\")\n",
    "    print('======================================')\n",
    "    setup = make_cmap_slide(setup)\n",
    "    setup = merge_discover_and_cmap(setup)\n",
    "    print(f'All analyses completed suscessfully with \"patient\" {case_id}')\n",
    "    return"
   ]
  },
  {
   "cell_type": "code",
   "execution_count": 15,
   "metadata": {
    "ExecuteTime": {
     "end_time": "2019-01-16T22:25:09.203665Z",
     "start_time": "2019-01-16T22:24:01.953446Z"
    },
    "scrolled": false
   },
   "outputs": [
    {
     "name": "stdout",
     "output_type": "stream",
     "text": [
      "======================================\n",
      "Step 1: read_user_input\n",
      "======================================\n",
      "Reminder: if you want to use a custom control expresion, you must set control to 'custom'\n",
      "==> Setting patient_dir = case_id\n",
      "Setup done!\n",
      "======================================\n",
      "Step 2: download_and_preprocess_rnaseq\n",
      "======================================\n",
      "==> Checking if local file (/pdx-hts/Notebooks/data/preprocessed/exp/BT084.csv) exist.\n",
      "==> This file containes the expression of the PDXs. Printing dataframe's info:\n",
      "<class 'pandas.core.frame.DataFrame'>\n",
      "Index: 1 entries, BT084 to BT084\n",
      "Columns: 16247 entries, A1BG to ZZZ3\n",
      "dtypes: float64(16247)\n",
      "memory usage: 126.9+ KB\n",
      "==> None\n",
      "==> File /pdx-hts/Notebooks/patients/BT084/gene_abundance.sleuth.csv saved successfully\n",
      "==> Done preprocessing!\n",
      "======================================\n",
      "Step 3: classify_sample\n",
      "======================================\n",
      "These are not the analyses you are looking for. Move along!\n",
      "======================================\n",
      "Step 4: run_discover\n",
      "======================================\n",
      "==> About to perform DiSCoVER.\n",
      "Writing file: cell_lines_IDs_and_types_ctrp.csv\n",
      "Writing file: cell_lines_IDs_and_types_COSMIC_IDS_gdsc.csv\n",
      "Writing file: cell_lines_IDs_and_types_ccle.csv\n",
      "==> DiSCoVER done!\n",
      "==> Moving files contaiend enrichment of cell lines\n",
      "==> Moved cell_lines_IDs_and_types_ccle.csv to /pdx-hts/Notebooks/patients/BT084/drug_suggestions/discover/cerebellar_stem/cell_lines_IDs_and_types_ccle.csv\n",
      "==> Moved cell_lines_IDs_and_types_COSMIC_IDS_gdsc.csv to /pdx-hts/Notebooks/patients/BT084/drug_suggestions/discover/cerebellar_stem/cell_lines_IDs_and_types_COSMIC_IDS_gdsc.csv\n",
      "==> Moved cell_lines_IDs_and_types_ctrp.csv to /pdx-hts/Notebooks/patients/BT084/drug_suggestions/discover/cerebellar_stem/cell_lines_IDs_and_types_ctrp.csv\n",
      "==> Ranking cell lines by enrichment and saving those\n",
      "==> CCLE is missing 3 cell lines (out of 475)\n",
      "==> CTRP is missing 5 cell lines (out of 633)\n",
      "==> Saving results to file.\n",
      "==> Saving done!\n",
      "==> NOT Restricting to clinically relevant drugs.\n",
      "==> Done restricting to clinically relevant drugs!\n",
      "==> Making the DiSCoVER powerpoint.\n",
      "==> Using all of the drugs\n",
      "==> Done making the DiSCoVER powerpoint slide!\n",
      "==> Savig the variables to a file.\n",
      "==> Saving the formatted results of DiSCoVER to a csv\n",
      "==> Done savig the variables to a file!\n",
      "==> Done with all the taks in this cell. Move along.\n",
      "======================================\n",
      "Step 5: run_cmap\n",
      "======================================\n",
      "==> About to parse CMap results.\n",
      "==> done!\n",
      "==> Merging results from DiSCoVER and CMap.\n",
      "done!\n",
      "==> Done Merging results from DiSCoVER and CMap!\n",
      "==> Saving combined_df and to_slide on setup variable\n",
      "==> Saving the combined DiSCoVER+CMap resuls to a csv called BT084_combined_DISCoVER_and_CMap_results.csv\n",
      "==> Done done!\n",
      "All analyses completed suscessfully with \"patient\" BT084\n"
     ]
    }
   ],
   "source": [
    "# \"BT084\"\n",
    "run_pipeline('BT084')"
   ]
  },
  {
   "cell_type": "code",
   "execution_count": 16,
   "metadata": {
    "ExecuteTime": {
     "end_time": "2019-01-16T22:26:13.518135Z",
     "start_time": "2019-01-16T22:25:09.206640Z"
    },
    "scrolled": false
   },
   "outputs": [
    {
     "name": "stdout",
     "output_type": "stream",
     "text": [
      "======================================\n",
      "Step 1: read_user_input\n",
      "======================================\n",
      "Reminder: if you want to use a custom control expresion, you must set control to 'custom'\n",
      "==> Setting patient_dir = case_id\n",
      "Setup done!\n",
      "======================================\n",
      "Step 2: download_and_preprocess_rnaseq\n",
      "======================================\n",
      "==> Checking if local file (/pdx-hts/Notebooks/data/preprocessed/exp/DMB006.csv) exist.\n",
      "==> This file containes the expression of the PDXs. Printing dataframe's info:\n",
      "<class 'pandas.core.frame.DataFrame'>\n",
      "Index: 1 entries, DMB006 to DMB006\n",
      "Columns: 16247 entries, A1BG to ZZZ3\n",
      "dtypes: float64(16247)\n",
      "memory usage: 126.9+ KB\n",
      "==> None\n",
      "==> File /pdx-hts/Notebooks/patients/DMB006/gene_abundance.sleuth.csv saved successfully\n",
      "==> Done preprocessing!\n",
      "======================================\n",
      "Step 3: classify_sample\n",
      "======================================\n",
      "These are not the analyses you are looking for. Move along!\n",
      "======================================\n",
      "Step 4: run_discover\n",
      "======================================\n",
      "==> About to perform DiSCoVER.\n",
      "Writing file: cell_lines_IDs_and_types_ctrp.csv\n",
      "Writing file: cell_lines_IDs_and_types_COSMIC_IDS_gdsc.csv\n",
      "Writing file: cell_lines_IDs_and_types_ccle.csv\n",
      "==> DiSCoVER done!\n",
      "==> Moving files contaiend enrichment of cell lines\n",
      "==> Moved cell_lines_IDs_and_types_ccle.csv to /pdx-hts/Notebooks/patients/DMB006/drug_suggestions/discover/cerebellar_stem/cell_lines_IDs_and_types_ccle.csv\n",
      "==> Moved cell_lines_IDs_and_types_COSMIC_IDS_gdsc.csv to /pdx-hts/Notebooks/patients/DMB006/drug_suggestions/discover/cerebellar_stem/cell_lines_IDs_and_types_COSMIC_IDS_gdsc.csv\n",
      "==> Moved cell_lines_IDs_and_types_ctrp.csv to /pdx-hts/Notebooks/patients/DMB006/drug_suggestions/discover/cerebellar_stem/cell_lines_IDs_and_types_ctrp.csv\n",
      "==> Ranking cell lines by enrichment and saving those\n",
      "==> CCLE is missing 3 cell lines (out of 475)\n",
      "==> CTRP is missing 5 cell lines (out of 633)\n",
      "==> Saving results to file.\n",
      "==> Saving done!\n",
      "==> NOT Restricting to clinically relevant drugs.\n",
      "==> Done restricting to clinically relevant drugs!\n",
      "==> Making the DiSCoVER powerpoint.\n",
      "==> Using all of the drugs\n",
      "==> Done making the DiSCoVER powerpoint slide!\n",
      "==> Savig the variables to a file.\n",
      "==> Saving the formatted results of DiSCoVER to a csv\n",
      "==> Done savig the variables to a file!\n",
      "==> Done with all the taks in this cell. Move along.\n",
      "======================================\n",
      "Step 5: run_cmap\n",
      "======================================\n",
      "==> About to parse CMap results.\n",
      "==> done!\n",
      "==> Merging results from DiSCoVER and CMap.\n",
      "done!\n",
      "==> Done Merging results from DiSCoVER and CMap!\n",
      "==> Saving combined_df and to_slide on setup variable\n",
      "==> Saving the combined DiSCoVER+CMap resuls to a csv called DMB006_combined_DISCoVER_and_CMap_results.csv\n",
      "==> Done done!\n",
      "All analyses completed suscessfully with \"patient\" DMB006\n"
     ]
    }
   ],
   "source": [
    "# \"DMB006\": \"DMB006\",\n",
    "run_pipeline(\"DMB006\")"
   ]
  },
  {
   "cell_type": "code",
   "execution_count": 17,
   "metadata": {
    "ExecuteTime": {
     "end_time": "2019-01-16T22:27:14.669007Z",
     "start_time": "2019-01-16T22:26:13.520862Z"
    }
   },
   "outputs": [
    {
     "name": "stdout",
     "output_type": "stream",
     "text": [
      "======================================\n",
      "Step 1: read_user_input\n",
      "======================================\n",
      "Reminder: if you want to use a custom control expresion, you must set control to 'custom'\n",
      "==> Setting patient_dir = case_id\n",
      "Setup done!\n",
      "======================================\n",
      "Step 2: download_and_preprocess_rnaseq\n",
      "======================================\n",
      "==> Checking if local file (/pdx-hts/Notebooks/data/preprocessed/exp/ICB984.csv) exist.\n",
      "==> This file containes the expression of the PDXs. Printing dataframe's info:\n",
      "<class 'pandas.core.frame.DataFrame'>\n",
      "Index: 1 entries, ICB984 to ICB984\n",
      "Columns: 16247 entries, A1BG to ZZZ3\n",
      "dtypes: float64(16247)\n",
      "memory usage: 126.9+ KB\n",
      "==> None\n",
      "==> File /pdx-hts/Notebooks/patients/ICB984/gene_abundance.sleuth.csv saved successfully\n",
      "==> Done preprocessing!\n",
      "======================================\n",
      "Step 3: classify_sample\n",
      "======================================\n",
      "These are not the analyses you are looking for. Move along!\n",
      "======================================\n",
      "Step 4: run_discover\n",
      "======================================\n",
      "==> About to perform DiSCoVER.\n",
      "Writing file: cell_lines_IDs_and_types_ctrp.csv\n",
      "Writing file: cell_lines_IDs_and_types_COSMIC_IDS_gdsc.csv\n",
      "Writing file: cell_lines_IDs_and_types_ccle.csv\n",
      "==> DiSCoVER done!\n",
      "==> Moving files contaiend enrichment of cell lines\n",
      "==> Moved cell_lines_IDs_and_types_ccle.csv to /pdx-hts/Notebooks/patients/ICB984/drug_suggestions/discover/cerebellar_stem/cell_lines_IDs_and_types_ccle.csv\n",
      "==> Moved cell_lines_IDs_and_types_COSMIC_IDS_gdsc.csv to /pdx-hts/Notebooks/patients/ICB984/drug_suggestions/discover/cerebellar_stem/cell_lines_IDs_and_types_COSMIC_IDS_gdsc.csv\n",
      "==> Moved cell_lines_IDs_and_types_ctrp.csv to /pdx-hts/Notebooks/patients/ICB984/drug_suggestions/discover/cerebellar_stem/cell_lines_IDs_and_types_ctrp.csv\n",
      "==> Ranking cell lines by enrichment and saving those\n",
      "==> CCLE is missing 3 cell lines (out of 475)\n",
      "==> CTRP is missing 5 cell lines (out of 633)\n",
      "==> Saving results to file.\n",
      "==> Saving done!\n",
      "==> NOT Restricting to clinically relevant drugs.\n",
      "==> Done restricting to clinically relevant drugs!\n",
      "==> Making the DiSCoVER powerpoint.\n",
      "==> Using all of the drugs\n",
      "==> Done making the DiSCoVER powerpoint slide!\n",
      "==> Savig the variables to a file.\n",
      "==> Saving the formatted results of DiSCoVER to a csv\n",
      "==> Done savig the variables to a file!\n",
      "==> Done with all the taks in this cell. Move along.\n",
      "======================================\n",
      "Step 5: run_cmap\n",
      "======================================\n",
      "==> About to parse CMap results.\n",
      "==> done!\n",
      "==> Merging results from DiSCoVER and CMap.\n",
      "done!\n",
      "==> Done Merging results from DiSCoVER and CMap!\n",
      "==> Saving combined_df and to_slide on setup variable\n",
      "==> Saving the combined DiSCoVER+CMap resuls to a csv called ICB984_combined_DISCoVER_and_CMap_results.csv\n",
      "==> Done done!\n",
      "All analyses completed suscessfully with \"patient\" ICB984\n"
     ]
    }
   ],
   "source": [
    "# \"ICB984\": \"ICB984\",\n",
    "run_pipeline(\"ICB984\")"
   ]
  },
  {
   "cell_type": "code",
   "execution_count": 18,
   "metadata": {
    "ExecuteTime": {
     "end_time": "2019-01-16T22:28:22.665934Z",
     "start_time": "2019-01-16T22:27:14.673907Z"
    }
   },
   "outputs": [
    {
     "name": "stdout",
     "output_type": "stream",
     "text": [
      "======================================\n",
      "Step 1: read_user_input\n",
      "======================================\n",
      "Reminder: if you want to use a custom control expresion, you must set control to 'custom'\n",
      "==> Setting patient_dir = case_id\n",
      "Setup done!\n",
      "======================================\n",
      "Step 2: download_and_preprocess_rnaseq\n",
      "======================================\n",
      "==> Checking if local file (/pdx-hts/Notebooks/data/preprocessed/exp/ICB1299.csv) exist.\n",
      "==> This file containes the expression of the PDXs. Printing dataframe's info:\n",
      "<class 'pandas.core.frame.DataFrame'>\n",
      "Index: 1 entries, ICB1299 to ICB1299\n",
      "Columns: 16247 entries, A1BG to ZZZ3\n",
      "dtypes: float64(16247)\n",
      "memory usage: 126.9+ KB\n",
      "==> None\n",
      "==> File /pdx-hts/Notebooks/patients/ICB1299/gene_abundance.sleuth.csv saved successfully\n",
      "==> Done preprocessing!\n",
      "======================================\n",
      "Step 3: classify_sample\n",
      "======================================\n",
      "These are not the analyses you are looking for. Move along!\n",
      "======================================\n",
      "Step 4: run_discover\n",
      "======================================\n",
      "==> About to perform DiSCoVER.\n",
      "Writing file: cell_lines_IDs_and_types_ctrp.csv\n",
      "Writing file: cell_lines_IDs_and_types_COSMIC_IDS_gdsc.csv\n",
      "Writing file: cell_lines_IDs_and_types_ccle.csv\n",
      "==> DiSCoVER done!\n",
      "==> Moving files contaiend enrichment of cell lines\n",
      "==> Moved cell_lines_IDs_and_types_ccle.csv to /pdx-hts/Notebooks/patients/ICB1299/drug_suggestions/discover/cerebellar_stem/cell_lines_IDs_and_types_ccle.csv\n",
      "==> Moved cell_lines_IDs_and_types_COSMIC_IDS_gdsc.csv to /pdx-hts/Notebooks/patients/ICB1299/drug_suggestions/discover/cerebellar_stem/cell_lines_IDs_and_types_COSMIC_IDS_gdsc.csv\n",
      "==> Moved cell_lines_IDs_and_types_ctrp.csv to /pdx-hts/Notebooks/patients/ICB1299/drug_suggestions/discover/cerebellar_stem/cell_lines_IDs_and_types_ctrp.csv\n",
      "==> Ranking cell lines by enrichment and saving those\n",
      "==> CCLE is missing 3 cell lines (out of 475)\n",
      "==> CTRP is missing 5 cell lines (out of 633)\n",
      "==> Saving results to file.\n",
      "==> Saving done!\n",
      "==> NOT Restricting to clinically relevant drugs.\n",
      "==> Done restricting to clinically relevant drugs!\n",
      "==> Making the DiSCoVER powerpoint.\n",
      "==> Using all of the drugs\n",
      "==> Done making the DiSCoVER powerpoint slide!\n",
      "==> Savig the variables to a file.\n",
      "==> Saving the formatted results of DiSCoVER to a csv\n",
      "==> Done savig the variables to a file!\n",
      "==> Done with all the taks in this cell. Move along.\n",
      "======================================\n",
      "Step 5: run_cmap\n",
      "======================================\n",
      "==> About to parse CMap results.\n",
      "==> done!\n",
      "==> Merging results from DiSCoVER and CMap.\n",
      "done!\n",
      "==> Done Merging results from DiSCoVER and CMap!\n",
      "==> Saving combined_df and to_slide on setup variable\n",
      "==> Saving the combined DiSCoVER+CMap resuls to a csv called ICB1299_combined_DISCoVER_and_CMap_results.csv\n",
      "==> Done done!\n",
      "All analyses completed suscessfully with \"patient\" ICB1299\n"
     ]
    }
   ],
   "source": [
    "# \"ICB1299\": \"ICB1299\",\n",
    "run_pipeline(\"ICB1299\")"
   ]
  },
  {
   "cell_type": "code",
   "execution_count": 20,
   "metadata": {
    "ExecuteTime": {
     "end_time": "2019-01-16T22:29:40.273973Z",
     "start_time": "2019-01-16T22:28:37.207314Z"
    }
   },
   "outputs": [
    {
     "name": "stdout",
     "output_type": "stream",
     "text": [
      "======================================\n",
      "Step 1: read_user_input\n",
      "======================================\n",
      "Reminder: if you want to use a custom control expresion, you must set control to 'custom'\n",
      "==> Setting patient_dir = case_id\n",
      "Setup done!\n",
      "======================================\n",
      "Step 2: download_and_preprocess_rnaseq\n",
      "======================================\n",
      "==> Checking if local file (/pdx-hts/Notebooks/data/preprocessed/exp/ICB1487.csv) exist.\n",
      "==> This file containes the expression of the PDXs. Printing dataframe's info:\n",
      "<class 'pandas.core.frame.DataFrame'>\n",
      "Index: 1 entries, ICB1487 to ICB1487\n",
      "Columns: 16247 entries, A1BG to ZZZ3\n",
      "dtypes: float64(16247)\n",
      "memory usage: 126.9+ KB\n",
      "==> None\n",
      "==> File /pdx-hts/Notebooks/patients/ICB1487/gene_abundance.sleuth.csv saved successfully\n",
      "==> Done preprocessing!\n",
      "======================================\n",
      "Step 3: classify_sample\n",
      "======================================\n",
      "These are not the analyses you are looking for. Move along!\n",
      "======================================\n",
      "Step 4: run_discover\n",
      "======================================\n",
      "==> About to perform DiSCoVER.\n",
      "Writing file: cell_lines_IDs_and_types_ctrp.csv\n",
      "Writing file: cell_lines_IDs_and_types_COSMIC_IDS_gdsc.csv\n",
      "Writing file: cell_lines_IDs_and_types_ccle.csv\n",
      "==> DiSCoVER done!\n",
      "==> Moving files contaiend enrichment of cell lines\n",
      "==> Moved cell_lines_IDs_and_types_ccle.csv to /pdx-hts/Notebooks/patients/ICB1487/drug_suggestions/discover/cerebellar_stem/cell_lines_IDs_and_types_ccle.csv\n",
      "==> Moved cell_lines_IDs_and_types_COSMIC_IDS_gdsc.csv to /pdx-hts/Notebooks/patients/ICB1487/drug_suggestions/discover/cerebellar_stem/cell_lines_IDs_and_types_COSMIC_IDS_gdsc.csv\n",
      "==> Moved cell_lines_IDs_and_types_ctrp.csv to /pdx-hts/Notebooks/patients/ICB1487/drug_suggestions/discover/cerebellar_stem/cell_lines_IDs_and_types_ctrp.csv\n",
      "==> Ranking cell lines by enrichment and saving those\n",
      "==> CCLE is missing 3 cell lines (out of 475)\n",
      "==> CTRP is missing 5 cell lines (out of 633)\n",
      "==> Saving results to file.\n",
      "==> Saving done!\n",
      "==> NOT Restricting to clinically relevant drugs.\n",
      "==> Done restricting to clinically relevant drugs!\n",
      "==> Making the DiSCoVER powerpoint.\n",
      "==> Using all of the drugs\n",
      "==> Done making the DiSCoVER powerpoint slide!\n",
      "==> Savig the variables to a file.\n",
      "==> Saving the formatted results of DiSCoVER to a csv\n",
      "==> Done savig the variables to a file!\n",
      "==> Done with all the taks in this cell. Move along.\n",
      "======================================\n",
      "Step 5: run_cmap\n",
      "======================================\n",
      "==> About to parse CMap results.\n",
      "==> done!\n",
      "==> Merging results from DiSCoVER and CMap.\n",
      "done!\n",
      "==> Done Merging results from DiSCoVER and CMap!\n",
      "==> Saving combined_df and to_slide on setup variable\n",
      "==> Saving the combined DiSCoVER+CMap resuls to a csv called ICB1487_combined_DISCoVER_and_CMap_results.csv\n",
      "==> Done done!\n",
      "All analyses completed suscessfully with \"patient\" ICB1487\n"
     ]
    }
   ],
   "source": [
    "# \"ICB1487\": \"ICB1487\",\n",
    "run_pipeline(\"ICB1487\")"
   ]
  },
  {
   "cell_type": "code",
   "execution_count": 21,
   "metadata": {
    "ExecuteTime": {
     "end_time": "2019-01-16T22:30:43.803110Z",
     "start_time": "2019-01-16T22:29:40.277775Z"
    }
   },
   "outputs": [
    {
     "name": "stdout",
     "output_type": "stream",
     "text": [
      "======================================\n",
      "Step 1: read_user_input\n",
      "======================================\n",
      "Reminder: if you want to use a custom control expresion, you must set control to 'custom'\n",
      "==> Setting patient_dir = case_id\n",
      "Setup done!\n",
      "======================================\n",
      "Step 2: download_and_preprocess_rnaseq\n",
      "======================================\n",
      "==> Checking if local file (/pdx-hts/Notebooks/data/preprocessed/exp/ICB1572.csv) exist.\n",
      "==> This file containes the expression of the PDXs. Printing dataframe's info:\n",
      "<class 'pandas.core.frame.DataFrame'>\n",
      "Index: 1 entries, ICB1572 to ICB1572\n",
      "Columns: 16247 entries, A1BG to ZZZ3\n",
      "dtypes: float64(16247)\n",
      "memory usage: 126.9+ KB\n",
      "==> None\n",
      "==> File /pdx-hts/Notebooks/patients/ICB1572/gene_abundance.sleuth.csv saved successfully\n",
      "==> Done preprocessing!\n",
      "======================================\n",
      "Step 3: classify_sample\n",
      "======================================\n",
      "These are not the analyses you are looking for. Move along!\n",
      "======================================\n",
      "Step 4: run_discover\n",
      "======================================\n",
      "==> About to perform DiSCoVER.\n",
      "Writing file: cell_lines_IDs_and_types_ctrp.csv\n",
      "Writing file: cell_lines_IDs_and_types_COSMIC_IDS_gdsc.csv\n",
      "Writing file: cell_lines_IDs_and_types_ccle.csv\n",
      "==> DiSCoVER done!\n",
      "==> Moving files contaiend enrichment of cell lines\n",
      "==> Moved cell_lines_IDs_and_types_ccle.csv to /pdx-hts/Notebooks/patients/ICB1572/drug_suggestions/discover/cerebellar_stem/cell_lines_IDs_and_types_ccle.csv\n",
      "==> Moved cell_lines_IDs_and_types_COSMIC_IDS_gdsc.csv to /pdx-hts/Notebooks/patients/ICB1572/drug_suggestions/discover/cerebellar_stem/cell_lines_IDs_and_types_COSMIC_IDS_gdsc.csv\n",
      "==> Moved cell_lines_IDs_and_types_ctrp.csv to /pdx-hts/Notebooks/patients/ICB1572/drug_suggestions/discover/cerebellar_stem/cell_lines_IDs_and_types_ctrp.csv\n",
      "==> Ranking cell lines by enrichment and saving those\n",
      "==> CCLE is missing 3 cell lines (out of 475)\n",
      "==> CTRP is missing 5 cell lines (out of 633)\n",
      "==> Saving results to file.\n",
      "==> Saving done!\n",
      "==> NOT Restricting to clinically relevant drugs.\n",
      "==> Done restricting to clinically relevant drugs!\n",
      "==> Making the DiSCoVER powerpoint.\n",
      "==> Using all of the drugs\n",
      "==> Done making the DiSCoVER powerpoint slide!\n",
      "==> Savig the variables to a file.\n",
      "==> Saving the formatted results of DiSCoVER to a csv\n",
      "==> Done savig the variables to a file!\n",
      "==> Done with all the taks in this cell. Move along.\n",
      "======================================\n",
      "Step 5: run_cmap\n",
      "======================================\n",
      "==> About to parse CMap results.\n",
      "==> done!\n",
      "==> Merging results from DiSCoVER and CMap.\n",
      "done!\n",
      "==> Done Merging results from DiSCoVER and CMap!\n",
      "==> Saving combined_df and to_slide on setup variable\n",
      "==> Saving the combined DiSCoVER+CMap resuls to a csv called ICB1572_combined_DISCoVER_and_CMap_results.csv\n",
      "==> Done done!\n",
      "All analyses completed suscessfully with \"patient\" ICB1572\n"
     ]
    }
   ],
   "source": [
    "# \"ICB1572\": \"ICB1572\",\n",
    "run_pipeline(\"ICB1572\")"
   ]
  },
  {
   "cell_type": "code",
   "execution_count": 22,
   "metadata": {
    "ExecuteTime": {
     "end_time": "2019-01-16T22:31:44.658561Z",
     "start_time": "2019-01-16T22:30:43.808969Z"
    }
   },
   "outputs": [
    {
     "name": "stdout",
     "output_type": "stream",
     "text": [
      "======================================\n",
      "Step 1: read_user_input\n",
      "======================================\n",
      "Reminder: if you want to use a custom control expresion, you must set control to 'custom'\n",
      "==> Setting patient_dir = case_id\n",
      "Setup done!\n",
      "======================================\n",
      "Step 2: download_and_preprocess_rnaseq\n",
      "======================================\n",
      "==> Checking if local file (/pdx-hts/Notebooks/data/preprocessed/exp/MB002.csv) exist.\n",
      "==> This file containes the expression of the PDXs. Printing dataframe's info:\n",
      "<class 'pandas.core.frame.DataFrame'>\n",
      "Index: 1 entries, MB002 to MB002\n",
      "Columns: 16247 entries, A1BG to ZZZ3\n",
      "dtypes: float64(16247)\n",
      "memory usage: 126.9+ KB\n",
      "==> None\n",
      "==> File /pdx-hts/Notebooks/patients/MB002/gene_abundance.sleuth.csv saved successfully\n",
      "==> Done preprocessing!\n",
      "======================================\n",
      "Step 3: classify_sample\n",
      "======================================\n",
      "These are not the analyses you are looking for. Move along!\n",
      "======================================\n",
      "Step 4: run_discover\n",
      "======================================\n",
      "==> About to perform DiSCoVER.\n",
      "Writing file: cell_lines_IDs_and_types_ctrp.csv\n",
      "Writing file: cell_lines_IDs_and_types_COSMIC_IDS_gdsc.csv\n",
      "Writing file: cell_lines_IDs_and_types_ccle.csv\n",
      "==> DiSCoVER done!\n",
      "==> Moving files contaiend enrichment of cell lines\n",
      "==> Moved cell_lines_IDs_and_types_ccle.csv to /pdx-hts/Notebooks/patients/MB002/drug_suggestions/discover/cerebellar_stem/cell_lines_IDs_and_types_ccle.csv\n",
      "==> Moved cell_lines_IDs_and_types_COSMIC_IDS_gdsc.csv to /pdx-hts/Notebooks/patients/MB002/drug_suggestions/discover/cerebellar_stem/cell_lines_IDs_and_types_COSMIC_IDS_gdsc.csv\n",
      "==> Moved cell_lines_IDs_and_types_ctrp.csv to /pdx-hts/Notebooks/patients/MB002/drug_suggestions/discover/cerebellar_stem/cell_lines_IDs_and_types_ctrp.csv\n",
      "==> Ranking cell lines by enrichment and saving those\n",
      "==> CCLE is missing 3 cell lines (out of 475)\n",
      "==> CTRP is missing 5 cell lines (out of 633)\n",
      "==> Saving results to file.\n",
      "==> Saving done!\n",
      "==> NOT Restricting to clinically relevant drugs.\n",
      "==> Done restricting to clinically relevant drugs!\n",
      "==> Making the DiSCoVER powerpoint.\n",
      "==> Using all of the drugs\n",
      "==> Done making the DiSCoVER powerpoint slide!\n",
      "==> Savig the variables to a file.\n",
      "==> Saving the formatted results of DiSCoVER to a csv\n",
      "==> Done savig the variables to a file!\n",
      "==> Done with all the taks in this cell. Move along.\n",
      "======================================\n",
      "Step 5: run_cmap\n",
      "======================================\n",
      "==> About to parse CMap results.\n",
      "==> done!\n",
      "==> Merging results from DiSCoVER and CMap.\n",
      "done!\n",
      "==> Done Merging results from DiSCoVER and CMap!\n",
      "==> Saving combined_df and to_slide on setup variable\n",
      "==> Saving the combined DiSCoVER+CMap resuls to a csv called MB002_combined_DISCoVER_and_CMap_results.csv\n",
      "==> Done done!\n",
      "All analyses completed suscessfully with \"patient\" MB002\n"
     ]
    }
   ],
   "source": [
    "# \"MB002\": \"MB002\",\n",
    "run_pipeline(\"MB002\")"
   ]
  },
  {
   "cell_type": "code",
   "execution_count": 23,
   "metadata": {
    "ExecuteTime": {
     "end_time": "2019-01-16T22:32:45.973571Z",
     "start_time": "2019-01-16T22:31:44.660997Z"
    }
   },
   "outputs": [
    {
     "name": "stdout",
     "output_type": "stream",
     "text": [
      "======================================\n",
      "Step 1: read_user_input\n",
      "======================================\n",
      "Reminder: if you want to use a custom control expresion, you must set control to 'custom'\n",
      "==> Setting patient_dir = case_id\n",
      "Setup done!\n",
      "======================================\n",
      "Step 2: download_and_preprocess_rnaseq\n",
      "======================================\n",
      "==> Checking if local file (/pdx-hts/Notebooks/data/preprocessed/exp/MB009.csv) exist.\n",
      "==> This file containes the expression of the PDXs. Printing dataframe's info:\n",
      "<class 'pandas.core.frame.DataFrame'>\n",
      "Index: 1 entries, MB009 to MB009\n",
      "Columns: 16247 entries, A1BG to ZZZ3\n",
      "dtypes: float64(16247)\n",
      "memory usage: 126.9+ KB\n",
      "==> None\n",
      "==> File /pdx-hts/Notebooks/patients/MB009/gene_abundance.sleuth.csv saved successfully\n",
      "==> Done preprocessing!\n",
      "======================================\n",
      "Step 3: classify_sample\n",
      "======================================\n",
      "These are not the analyses you are looking for. Move along!\n",
      "======================================\n",
      "Step 4: run_discover\n",
      "======================================\n",
      "==> About to perform DiSCoVER.\n",
      "Writing file: cell_lines_IDs_and_types_ctrp.csv\n",
      "Writing file: cell_lines_IDs_and_types_COSMIC_IDS_gdsc.csv\n",
      "Writing file: cell_lines_IDs_and_types_ccle.csv\n",
      "==> DiSCoVER done!\n",
      "==> Moving files contaiend enrichment of cell lines\n",
      "==> Moved cell_lines_IDs_and_types_ccle.csv to /pdx-hts/Notebooks/patients/MB009/drug_suggestions/discover/cerebellar_stem/cell_lines_IDs_and_types_ccle.csv\n",
      "==> Moved cell_lines_IDs_and_types_COSMIC_IDS_gdsc.csv to /pdx-hts/Notebooks/patients/MB009/drug_suggestions/discover/cerebellar_stem/cell_lines_IDs_and_types_COSMIC_IDS_gdsc.csv\n",
      "==> Moved cell_lines_IDs_and_types_ctrp.csv to /pdx-hts/Notebooks/patients/MB009/drug_suggestions/discover/cerebellar_stem/cell_lines_IDs_and_types_ctrp.csv\n",
      "==> Ranking cell lines by enrichment and saving those\n",
      "==> CCLE is missing 3 cell lines (out of 475)\n",
      "==> CTRP is missing 5 cell lines (out of 633)\n",
      "==> Saving results to file.\n",
      "==> Saving done!\n",
      "==> NOT Restricting to clinically relevant drugs.\n",
      "==> Done restricting to clinically relevant drugs!\n",
      "==> Making the DiSCoVER powerpoint.\n",
      "==> Using all of the drugs\n",
      "==> Done making the DiSCoVER powerpoint slide!\n",
      "==> Savig the variables to a file.\n",
      "==> Saving the formatted results of DiSCoVER to a csv\n",
      "==> Done savig the variables to a file!\n",
      "==> Done with all the taks in this cell. Move along.\n",
      "======================================\n",
      "Step 5: run_cmap\n",
      "======================================\n",
      "==> About to parse CMap results.\n",
      "==> done!\n",
      "==> Merging results from DiSCoVER and CMap.\n",
      "done!\n",
      "==> Done Merging results from DiSCoVER and CMap!\n",
      "==> Saving combined_df and to_slide on setup variable\n",
      "==> Saving the combined DiSCoVER+CMap resuls to a csv called MB009_combined_DISCoVER_and_CMap_results.csv\n",
      "==> Done done!\n",
      "All analyses completed suscessfully with \"patient\" MB009\n"
     ]
    }
   ],
   "source": [
    "# \"MB009\": \"MB009\",\n",
    "run_pipeline(\"MB009\")"
   ]
  },
  {
   "cell_type": "code",
   "execution_count": 24,
   "metadata": {
    "ExecuteTime": {
     "end_time": "2019-01-16T22:33:47.756182Z",
     "start_time": "2019-01-16T22:32:45.984962Z"
    }
   },
   "outputs": [
    {
     "name": "stdout",
     "output_type": "stream",
     "text": [
      "======================================\n",
      "Step 1: read_user_input\n",
      "======================================\n",
      "Reminder: if you want to use a custom control expresion, you must set control to 'custom'\n",
      "==> Setting patient_dir = case_id\n",
      "Setup done!\n",
      "======================================\n",
      "Step 2: download_and_preprocess_rnaseq\n",
      "======================================\n",
      "==> Checking if local file (/pdx-hts/Notebooks/data/preprocessed/exp/MED211.csv) exist.\n",
      "==> This file containes the expression of the PDXs. Printing dataframe's info:\n",
      "<class 'pandas.core.frame.DataFrame'>\n",
      "Index: 1 entries, MED211 to MED211\n",
      "Columns: 16247 entries, A1BG to ZZZ3\n",
      "dtypes: float64(16247)\n",
      "memory usage: 126.9+ KB\n",
      "==> None\n",
      "==> File /pdx-hts/Notebooks/patients/MED211/gene_abundance.sleuth.csv saved successfully\n",
      "==> Done preprocessing!\n",
      "======================================\n",
      "Step 3: classify_sample\n",
      "======================================\n",
      "These are not the analyses you are looking for. Move along!\n",
      "======================================\n",
      "Step 4: run_discover\n",
      "======================================\n",
      "==> About to perform DiSCoVER.\n",
      "Writing file: cell_lines_IDs_and_types_ctrp.csv\n",
      "Writing file: cell_lines_IDs_and_types_COSMIC_IDS_gdsc.csv\n",
      "Writing file: cell_lines_IDs_and_types_ccle.csv\n",
      "==> DiSCoVER done!\n",
      "==> Moving files contaiend enrichment of cell lines\n",
      "==> Moved cell_lines_IDs_and_types_ccle.csv to /pdx-hts/Notebooks/patients/MED211/drug_suggestions/discover/cerebellar_stem/cell_lines_IDs_and_types_ccle.csv\n",
      "==> Moved cell_lines_IDs_and_types_COSMIC_IDS_gdsc.csv to /pdx-hts/Notebooks/patients/MED211/drug_suggestions/discover/cerebellar_stem/cell_lines_IDs_and_types_COSMIC_IDS_gdsc.csv\n",
      "==> Moved cell_lines_IDs_and_types_ctrp.csv to /pdx-hts/Notebooks/patients/MED211/drug_suggestions/discover/cerebellar_stem/cell_lines_IDs_and_types_ctrp.csv\n",
      "==> Ranking cell lines by enrichment and saving those\n",
      "==> CCLE is missing 3 cell lines (out of 475)\n",
      "==> CTRP is missing 5 cell lines (out of 633)\n",
      "==> Saving results to file.\n",
      "==> Saving done!\n",
      "==> NOT Restricting to clinically relevant drugs.\n",
      "==> Done restricting to clinically relevant drugs!\n",
      "==> Making the DiSCoVER powerpoint.\n",
      "==> Using all of the drugs\n",
      "==> Done making the DiSCoVER powerpoint slide!\n",
      "==> Savig the variables to a file.\n",
      "==> Saving the formatted results of DiSCoVER to a csv\n",
      "==> Done savig the variables to a file!\n",
      "==> Done with all the taks in this cell. Move along.\n",
      "======================================\n",
      "Step 5: run_cmap\n",
      "======================================\n",
      "==> About to parse CMap results.\n",
      "==> done!\n",
      "==> Merging results from DiSCoVER and CMap.\n",
      "done!\n",
      "==> Done Merging results from DiSCoVER and CMap!\n",
      "==> Saving combined_df and to_slide on setup variable\n",
      "==> Saving the combined DiSCoVER+CMap resuls to a csv called MED211_combined_DISCoVER_and_CMap_results.csv\n",
      "==> Done done!\n",
      "All analyses completed suscessfully with \"patient\" MED211\n"
     ]
    }
   ],
   "source": [
    "# \"MED211\": \"MED211\",\n",
    "run_pipeline(\"MED211\")"
   ]
  },
  {
   "cell_type": "code",
   "execution_count": 25,
   "metadata": {
    "ExecuteTime": {
     "end_time": "2019-01-16T22:34:51.801162Z",
     "start_time": "2019-01-16T22:33:47.759532Z"
    }
   },
   "outputs": [
    {
     "name": "stdout",
     "output_type": "stream",
     "text": [
      "======================================\n",
      "Step 1: read_user_input\n",
      "======================================\n",
      "Reminder: if you want to use a custom control expresion, you must set control to 'custom'\n",
      "==> Setting patient_dir = case_id\n",
      "Setup done!\n",
      "======================================\n",
      "Step 2: download_and_preprocess_rnaseq\n",
      "======================================\n",
      "==> Checking if local file (/pdx-hts/Notebooks/data/preprocessed/exp/MED411.csv) exist.\n",
      "==> This file containes the expression of the PDXs. Printing dataframe's info:\n",
      "<class 'pandas.core.frame.DataFrame'>\n",
      "Index: 1 entries, MED411 to MED411\n",
      "Columns: 16247 entries, A1BG to ZZZ3\n",
      "dtypes: float64(16247)\n",
      "memory usage: 126.9+ KB\n",
      "==> None\n",
      "==> File /pdx-hts/Notebooks/patients/MED411/gene_abundance.sleuth.csv saved successfully\n",
      "==> Done preprocessing!\n",
      "======================================\n",
      "Step 3: classify_sample\n",
      "======================================\n",
      "These are not the analyses you are looking for. Move along!\n",
      "======================================\n",
      "Step 4: run_discover\n",
      "======================================\n",
      "==> About to perform DiSCoVER.\n",
      "Writing file: cell_lines_IDs_and_types_ctrp.csv\n",
      "Writing file: cell_lines_IDs_and_types_COSMIC_IDS_gdsc.csv\n",
      "Writing file: cell_lines_IDs_and_types_ccle.csv\n",
      "==> DiSCoVER done!\n",
      "==> Moving files contaiend enrichment of cell lines\n",
      "==> Moved cell_lines_IDs_and_types_ccle.csv to /pdx-hts/Notebooks/patients/MED411/drug_suggestions/discover/cerebellar_stem/cell_lines_IDs_and_types_ccle.csv\n",
      "==> Moved cell_lines_IDs_and_types_COSMIC_IDS_gdsc.csv to /pdx-hts/Notebooks/patients/MED411/drug_suggestions/discover/cerebellar_stem/cell_lines_IDs_and_types_COSMIC_IDS_gdsc.csv\n",
      "==> Moved cell_lines_IDs_and_types_ctrp.csv to /pdx-hts/Notebooks/patients/MED411/drug_suggestions/discover/cerebellar_stem/cell_lines_IDs_and_types_ctrp.csv\n",
      "==> Ranking cell lines by enrichment and saving those\n",
      "==> CCLE is missing 3 cell lines (out of 475)\n",
      "==> CTRP is missing 5 cell lines (out of 633)\n",
      "==> Saving results to file.\n",
      "==> Saving done!\n",
      "==> NOT Restricting to clinically relevant drugs.\n",
      "==> Done restricting to clinically relevant drugs!\n",
      "==> Making the DiSCoVER powerpoint.\n",
      "==> Using all of the drugs\n",
      "==> Done making the DiSCoVER powerpoint slide!\n",
      "==> Savig the variables to a file.\n",
      "==> Saving the formatted results of DiSCoVER to a csv\n",
      "==> Done savig the variables to a file!\n",
      "==> Done with all the taks in this cell. Move along.\n",
      "======================================\n",
      "Step 5: run_cmap\n",
      "======================================\n",
      "==> About to parse CMap results.\n",
      "==> done!\n",
      "==> Merging results from DiSCoVER and CMap.\n",
      "done!\n",
      "==> Done Merging results from DiSCoVER and CMap!\n",
      "==> Saving combined_df and to_slide on setup variable\n",
      "==> Saving the combined DiSCoVER+CMap resuls to a csv called MED411_combined_DISCoVER_and_CMap_results.csv\n",
      "==> Done done!\n",
      "All analyses completed suscessfully with \"patient\" MED411\n"
     ]
    }
   ],
   "source": [
    "# \"MED411\": \"MED411\",\n",
    "run_pipeline(\"MED411\")"
   ]
  },
  {
   "cell_type": "code",
   "execution_count": 26,
   "metadata": {
    "ExecuteTime": {
     "end_time": "2019-01-16T22:35:56.404330Z",
     "start_time": "2019-01-16T22:34:51.806548Z"
    }
   },
   "outputs": [
    {
     "name": "stdout",
     "output_type": "stream",
     "text": [
      "======================================\n",
      "Step 1: read_user_input\n",
      "======================================\n",
      "Reminder: if you want to use a custom control expresion, you must set control to 'custom'\n",
      "==> Setting patient_dir = case_id\n",
      "Setup done!\n",
      "======================================\n",
      "Step 2: download_and_preprocess_rnaseq\n",
      "======================================\n",
      "==> Checking if local file (/pdx-hts/Notebooks/data/preprocessed/exp/MED1712.csv) exist.\n",
      "==> This file containes the expression of the PDXs. Printing dataframe's info:\n",
      "<class 'pandas.core.frame.DataFrame'>\n",
      "Index: 1 entries, MED1712 to MED1712\n",
      "Columns: 16247 entries, A1BG to ZZZ3\n",
      "dtypes: float64(16247)\n",
      "memory usage: 126.9+ KB\n",
      "==> None\n",
      "==> File /pdx-hts/Notebooks/patients/MED1712/gene_abundance.sleuth.csv saved successfully\n",
      "==> Done preprocessing!\n",
      "======================================\n",
      "Step 3: classify_sample\n",
      "======================================\n",
      "These are not the analyses you are looking for. Move along!\n",
      "======================================\n",
      "Step 4: run_discover\n",
      "======================================\n",
      "==> About to perform DiSCoVER.\n",
      "Writing file: cell_lines_IDs_and_types_ctrp.csv\n",
      "Writing file: cell_lines_IDs_and_types_COSMIC_IDS_gdsc.csv\n",
      "Writing file: cell_lines_IDs_and_types_ccle.csv\n",
      "==> DiSCoVER done!\n",
      "==> Moving files contaiend enrichment of cell lines\n",
      "==> Moved cell_lines_IDs_and_types_ccle.csv to /pdx-hts/Notebooks/patients/MED1712/drug_suggestions/discover/cerebellar_stem/cell_lines_IDs_and_types_ccle.csv\n",
      "==> Moved cell_lines_IDs_and_types_COSMIC_IDS_gdsc.csv to /pdx-hts/Notebooks/patients/MED1712/drug_suggestions/discover/cerebellar_stem/cell_lines_IDs_and_types_COSMIC_IDS_gdsc.csv\n",
      "==> Moved cell_lines_IDs_and_types_ctrp.csv to /pdx-hts/Notebooks/patients/MED1712/drug_suggestions/discover/cerebellar_stem/cell_lines_IDs_and_types_ctrp.csv\n",
      "==> Ranking cell lines by enrichment and saving those\n",
      "==> CCLE is missing 3 cell lines (out of 475)\n",
      "==> CTRP is missing 5 cell lines (out of 633)\n",
      "==> Saving results to file.\n",
      "==> Saving done!\n",
      "==> NOT Restricting to clinically relevant drugs.\n",
      "==> Done restricting to clinically relevant drugs!\n",
      "==> Making the DiSCoVER powerpoint.\n",
      "==> Using all of the drugs\n",
      "==> Done making the DiSCoVER powerpoint slide!\n",
      "==> Savig the variables to a file.\n",
      "==> Saving the formatted results of DiSCoVER to a csv\n",
      "==> Done savig the variables to a file!\n",
      "==> Done with all the taks in this cell. Move along.\n",
      "======================================\n",
      "Step 5: run_cmap\n",
      "======================================\n",
      "==> About to parse CMap results.\n",
      "==> done!\n",
      "==> Merging results from DiSCoVER and CMap.\n",
      "done!\n",
      "==> Done Merging results from DiSCoVER and CMap!\n",
      "==> Saving combined_df and to_slide on setup variable\n",
      "==> Saving the combined DiSCoVER+CMap resuls to a csv called MED1712_combined_DISCoVER_and_CMap_results.csv\n",
      "==> Done done!\n",
      "All analyses completed suscessfully with \"patient\" MED1712\n"
     ]
    }
   ],
   "source": [
    "# \"MED1712\": \"MED1712\",\n",
    "run_pipeline(\"MED1712\")"
   ]
  },
  {
   "cell_type": "code",
   "execution_count": 27,
   "metadata": {
    "ExecuteTime": {
     "end_time": "2019-01-16T22:37:01.514630Z",
     "start_time": "2019-01-16T22:35:56.409324Z"
    }
   },
   "outputs": [
    {
     "name": "stdout",
     "output_type": "stream",
     "text": [
      "======================================\n",
      "Step 1: read_user_input\n",
      "======================================\n",
      "Reminder: if you want to use a custom control expresion, you must set control to 'custom'\n",
      "==> Setting patient_dir = case_id\n",
      "Setup done!\n",
      "======================================\n",
      "Step 2: download_and_preprocess_rnaseq\n",
      "======================================\n",
      "==> Checking if local file (/pdx-hts/Notebooks/data/preprocessed/exp/MED1911.csv) exist.\n",
      "==> This file containes the expression of the PDXs. Printing dataframe's info:\n",
      "<class 'pandas.core.frame.DataFrame'>\n",
      "Index: 1 entries, MED1911 to MED1911\n",
      "Columns: 16247 entries, A1BG to ZZZ3\n",
      "dtypes: float64(16247)\n",
      "memory usage: 126.9+ KB\n",
      "==> None\n",
      "==> File /pdx-hts/Notebooks/patients/MED1911/gene_abundance.sleuth.csv saved successfully\n",
      "==> Done preprocessing!\n",
      "======================================\n",
      "Step 3: classify_sample\n",
      "======================================\n",
      "These are not the analyses you are looking for. Move along!\n",
      "======================================\n",
      "Step 4: run_discover\n",
      "======================================\n",
      "==> About to perform DiSCoVER.\n",
      "Writing file: cell_lines_IDs_and_types_ctrp.csv\n",
      "Writing file: cell_lines_IDs_and_types_COSMIC_IDS_gdsc.csv\n",
      "Writing file: cell_lines_IDs_and_types_ccle.csv\n",
      "==> DiSCoVER done!\n",
      "==> Moving files contaiend enrichment of cell lines\n",
      "==> Moved cell_lines_IDs_and_types_ccle.csv to /pdx-hts/Notebooks/patients/MED1911/drug_suggestions/discover/cerebellar_stem/cell_lines_IDs_and_types_ccle.csv\n",
      "==> Moved cell_lines_IDs_and_types_COSMIC_IDS_gdsc.csv to /pdx-hts/Notebooks/patients/MED1911/drug_suggestions/discover/cerebellar_stem/cell_lines_IDs_and_types_COSMIC_IDS_gdsc.csv\n",
      "==> Moved cell_lines_IDs_and_types_ctrp.csv to /pdx-hts/Notebooks/patients/MED1911/drug_suggestions/discover/cerebellar_stem/cell_lines_IDs_and_types_ctrp.csv\n",
      "==> Ranking cell lines by enrichment and saving those\n",
      "==> CCLE is missing 3 cell lines (out of 475)\n",
      "==> CTRP is missing 5 cell lines (out of 633)\n",
      "==> Saving results to file.\n",
      "==> Saving done!\n",
      "==> NOT Restricting to clinically relevant drugs.\n",
      "==> Done restricting to clinically relevant drugs!\n",
      "==> Making the DiSCoVER powerpoint.\n",
      "==> Using all of the drugs\n",
      "==> Done making the DiSCoVER powerpoint slide!\n",
      "==> Savig the variables to a file.\n",
      "==> Saving the formatted results of DiSCoVER to a csv\n",
      "==> Done savig the variables to a file!\n",
      "==> Done with all the taks in this cell. Move along.\n",
      "======================================\n",
      "Step 5: run_cmap\n",
      "======================================\n",
      "==> About to parse CMap results.\n",
      "==> done!\n",
      "==> Merging results from DiSCoVER and CMap.\n",
      "done!\n",
      "==> Done Merging results from DiSCoVER and CMap!\n",
      "==> Saving combined_df and to_slide on setup variable\n",
      "==> Saving the combined DiSCoVER+CMap resuls to a csv called MED1911_combined_DISCoVER_and_CMap_results.csv\n",
      "==> Done done!\n",
      "All analyses completed suscessfully with \"patient\" MED1911\n"
     ]
    }
   ],
   "source": [
    "# \"MED1911\": \"MED1911\",\n",
    "run_pipeline(\"MED1911\")"
   ]
  },
  {
   "cell_type": "code",
   "execution_count": 28,
   "metadata": {
    "ExecuteTime": {
     "end_time": "2019-01-16T22:38:06.996044Z",
     "start_time": "2019-01-16T22:37:01.527715Z"
    }
   },
   "outputs": [
    {
     "name": "stdout",
     "output_type": "stream",
     "text": [
      "======================================\n",
      "Step 1: read_user_input\n",
      "======================================\n",
      "Reminder: if you want to use a custom control expresion, you must set control to 'custom'\n",
      "==> Setting patient_dir = case_id\n",
      "Setup done!\n",
      "======================================\n",
      "Step 2: download_and_preprocess_rnaseq\n",
      "======================================\n",
      "==> Checking if local file (/pdx-hts/Notebooks/data/preprocessed/exp/MED2312.csv) exist.\n",
      "==> This file containes the expression of the PDXs. Printing dataframe's info:\n",
      "<class 'pandas.core.frame.DataFrame'>\n",
      "Index: 1 entries, MED2312 to MED2312\n",
      "Columns: 16247 entries, A1BG to ZZZ3\n",
      "dtypes: float64(16247)\n",
      "memory usage: 126.9+ KB\n",
      "==> None\n",
      "==> File /pdx-hts/Notebooks/patients/MED2312/gene_abundance.sleuth.csv saved successfully\n",
      "==> Done preprocessing!\n",
      "======================================\n",
      "Step 3: classify_sample\n",
      "======================================\n",
      "These are not the analyses you are looking for. Move along!\n",
      "======================================\n",
      "Step 4: run_discover\n",
      "======================================\n",
      "==> About to perform DiSCoVER.\n",
      "Writing file: cell_lines_IDs_and_types_ctrp.csv\n",
      "Writing file: cell_lines_IDs_and_types_COSMIC_IDS_gdsc.csv\n",
      "Writing file: cell_lines_IDs_and_types_ccle.csv\n",
      "==> DiSCoVER done!\n",
      "==> Moving files contaiend enrichment of cell lines\n",
      "==> Moved cell_lines_IDs_and_types_ccle.csv to /pdx-hts/Notebooks/patients/MED2312/drug_suggestions/discover/cerebellar_stem/cell_lines_IDs_and_types_ccle.csv\n",
      "==> Moved cell_lines_IDs_and_types_COSMIC_IDS_gdsc.csv to /pdx-hts/Notebooks/patients/MED2312/drug_suggestions/discover/cerebellar_stem/cell_lines_IDs_and_types_COSMIC_IDS_gdsc.csv\n",
      "==> Moved cell_lines_IDs_and_types_ctrp.csv to /pdx-hts/Notebooks/patients/MED2312/drug_suggestions/discover/cerebellar_stem/cell_lines_IDs_and_types_ctrp.csv\n",
      "==> Ranking cell lines by enrichment and saving those\n",
      "==> CCLE is missing 3 cell lines (out of 475)\n",
      "==> CTRP is missing 5 cell lines (out of 633)\n",
      "==> Saving results to file.\n",
      "==> Saving done!\n",
      "==> NOT Restricting to clinically relevant drugs.\n",
      "==> Done restricting to clinically relevant drugs!\n",
      "==> Making the DiSCoVER powerpoint.\n",
      "==> Using all of the drugs\n",
      "==> Done making the DiSCoVER powerpoint slide!\n",
      "==> Savig the variables to a file.\n",
      "==> Saving the formatted results of DiSCoVER to a csv\n",
      "==> Done savig the variables to a file!\n",
      "==> Done with all the taks in this cell. Move along.\n",
      "======================================\n",
      "Step 5: run_cmap\n",
      "======================================\n",
      "==> About to parse CMap results.\n",
      "==> done!\n",
      "==> Merging results from DiSCoVER and CMap.\n",
      "done!\n",
      "==> Done Merging results from DiSCoVER and CMap!\n",
      "==> Saving combined_df and to_slide on setup variable\n",
      "==> Saving the combined DiSCoVER+CMap resuls to a csv called MED2312_combined_DISCoVER_and_CMap_results.csv\n",
      "==> Done done!\n",
      "All analyses completed suscessfully with \"patient\" MED2312\n"
     ]
    }
   ],
   "source": [
    "# \"MED2312\": \"MED2312\",\n",
    "run_pipeline(\"MED2312\")"
   ]
  },
  {
   "cell_type": "code",
   "execution_count": 29,
   "metadata": {
    "ExecuteTime": {
     "end_time": "2019-01-16T22:39:12.134248Z",
     "start_time": "2019-01-16T22:38:07.003612Z"
    }
   },
   "outputs": [
    {
     "name": "stdout",
     "output_type": "stream",
     "text": [
      "======================================\n",
      "Step 1: read_user_input\n",
      "======================================\n",
      "Reminder: if you want to use a custom control expresion, you must set control to 'custom'\n",
      "==> Setting patient_dir = case_id\n",
      "Setup done!\n",
      "======================================\n",
      "Step 2: download_and_preprocess_rnaseq\n",
      "======================================\n",
      "==> Checking if local file (/pdx-hts/Notebooks/data/preprocessed/exp/RCMB18.csv) exist.\n",
      "==> This file containes the expression of the PDXs. Printing dataframe's info:\n",
      "<class 'pandas.core.frame.DataFrame'>\n",
      "Index: 1 entries, RCMB18 to RCMB18\n",
      "Columns: 16247 entries, A1BG to ZZZ3\n",
      "dtypes: float64(16247)\n",
      "memory usage: 126.9+ KB\n",
      "==> None\n",
      "==> File /pdx-hts/Notebooks/patients/RCMB18/gene_abundance.sleuth.csv saved successfully\n",
      "==> Done preprocessing!\n",
      "======================================\n",
      "Step 3: classify_sample\n",
      "======================================\n",
      "These are not the analyses you are looking for. Move along!\n",
      "======================================\n",
      "Step 4: run_discover\n",
      "======================================\n",
      "==> About to perform DiSCoVER.\n",
      "Writing file: cell_lines_IDs_and_types_ctrp.csv\n",
      "Writing file: cell_lines_IDs_and_types_COSMIC_IDS_gdsc.csv\n",
      "Writing file: cell_lines_IDs_and_types_ccle.csv\n",
      "==> DiSCoVER done!\n",
      "==> Moving files contaiend enrichment of cell lines\n",
      "==> Moved cell_lines_IDs_and_types_ccle.csv to /pdx-hts/Notebooks/patients/RCMB18/drug_suggestions/discover/cerebellar_stem/cell_lines_IDs_and_types_ccle.csv\n",
      "==> Moved cell_lines_IDs_and_types_COSMIC_IDS_gdsc.csv to /pdx-hts/Notebooks/patients/RCMB18/drug_suggestions/discover/cerebellar_stem/cell_lines_IDs_and_types_COSMIC_IDS_gdsc.csv\n",
      "==> Moved cell_lines_IDs_and_types_ctrp.csv to /pdx-hts/Notebooks/patients/RCMB18/drug_suggestions/discover/cerebellar_stem/cell_lines_IDs_and_types_ctrp.csv\n",
      "==> Ranking cell lines by enrichment and saving those\n",
      "==> CCLE is missing 3 cell lines (out of 475)\n",
      "==> CTRP is missing 5 cell lines (out of 633)\n",
      "==> Saving results to file.\n",
      "==> Saving done!\n",
      "==> NOT Restricting to clinically relevant drugs.\n",
      "==> Done restricting to clinically relevant drugs!\n",
      "==> Making the DiSCoVER powerpoint.\n",
      "==> Using all of the drugs\n",
      "==> Done making the DiSCoVER powerpoint slide!\n",
      "==> Savig the variables to a file.\n",
      "==> Saving the formatted results of DiSCoVER to a csv\n",
      "==> Done savig the variables to a file!\n",
      "==> Done with all the taks in this cell. Move along.\n",
      "======================================\n",
      "Step 5: run_cmap\n",
      "======================================\n",
      "==> About to parse CMap results.\n",
      "==> done!\n",
      "==> Merging results from DiSCoVER and CMap.\n",
      "done!\n",
      "==> Done Merging results from DiSCoVER and CMap!\n",
      "==> Saving combined_df and to_slide on setup variable\n",
      "==> Saving the combined DiSCoVER+CMap resuls to a csv called RCMB18_combined_DISCoVER_and_CMap_results.csv\n",
      "==> Done done!\n",
      "All analyses completed suscessfully with \"patient\" RCMB18\n"
     ]
    }
   ],
   "source": [
    "# \"RCMB18\": \"RCMB18\",\n",
    "run_pipeline(\"RCMB18\")"
   ]
  },
  {
   "cell_type": "code",
   "execution_count": 30,
   "metadata": {
    "ExecuteTime": {
     "end_time": "2019-01-16T22:40:19.884567Z",
     "start_time": "2019-01-16T22:39:12.143454Z"
    }
   },
   "outputs": [
    {
     "name": "stdout",
     "output_type": "stream",
     "text": [
      "======================================\n",
      "Step 1: read_user_input\n",
      "======================================\n",
      "Reminder: if you want to use a custom control expresion, you must set control to 'custom'\n",
      "==> Setting patient_dir = case_id\n",
      "Setup done!\n",
      "======================================\n",
      "Step 2: download_and_preprocess_rnaseq\n",
      "======================================\n",
      "==> Checking if local file (/pdx-hts/Notebooks/data/preprocessed/exp/RCMB20.csv) exist.\n",
      "==> This file containes the expression of the PDXs. Printing dataframe's info:\n",
      "<class 'pandas.core.frame.DataFrame'>\n",
      "Index: 1 entries, RCMB20 to RCMB20\n",
      "Columns: 16247 entries, A1BG to ZZZ3\n",
      "dtypes: float64(16247)\n",
      "memory usage: 126.9+ KB\n",
      "==> None\n",
      "==> File /pdx-hts/Notebooks/patients/RCMB20/gene_abundance.sleuth.csv saved successfully\n",
      "==> Done preprocessing!\n",
      "======================================\n",
      "Step 3: classify_sample\n",
      "======================================\n",
      "These are not the analyses you are looking for. Move along!\n",
      "======================================\n",
      "Step 4: run_discover\n",
      "======================================\n",
      "==> About to perform DiSCoVER.\n",
      "Writing file: cell_lines_IDs_and_types_ctrp.csv\n",
      "Writing file: cell_lines_IDs_and_types_COSMIC_IDS_gdsc.csv\n",
      "Writing file: cell_lines_IDs_and_types_ccle.csv\n",
      "==> DiSCoVER done!\n",
      "==> Moving files contaiend enrichment of cell lines\n",
      "==> Moved cell_lines_IDs_and_types_ccle.csv to /pdx-hts/Notebooks/patients/RCMB20/drug_suggestions/discover/cerebellar_stem/cell_lines_IDs_and_types_ccle.csv\n",
      "==> Moved cell_lines_IDs_and_types_COSMIC_IDS_gdsc.csv to /pdx-hts/Notebooks/patients/RCMB20/drug_suggestions/discover/cerebellar_stem/cell_lines_IDs_and_types_COSMIC_IDS_gdsc.csv\n",
      "==> Moved cell_lines_IDs_and_types_ctrp.csv to /pdx-hts/Notebooks/patients/RCMB20/drug_suggestions/discover/cerebellar_stem/cell_lines_IDs_and_types_ctrp.csv\n",
      "==> Ranking cell lines by enrichment and saving those\n",
      "==> CCLE is missing 3 cell lines (out of 475)\n",
      "==> CTRP is missing 5 cell lines (out of 633)\n",
      "==> Saving results to file.\n",
      "==> Saving done!\n",
      "==> NOT Restricting to clinically relevant drugs.\n",
      "==> Done restricting to clinically relevant drugs!\n",
      "==> Making the DiSCoVER powerpoint.\n",
      "==> Using all of the drugs\n",
      "==> Done making the DiSCoVER powerpoint slide!\n",
      "==> Savig the variables to a file.\n",
      "==> Saving the formatted results of DiSCoVER to a csv\n",
      "==> Done savig the variables to a file!\n",
      "==> Done with all the taks in this cell. Move along.\n",
      "======================================\n",
      "Step 5: run_cmap\n",
      "======================================\n",
      "==> About to parse CMap results.\n",
      "==> done!\n",
      "==> Merging results from DiSCoVER and CMap.\n",
      "done!\n",
      "==> Done Merging results from DiSCoVER and CMap!\n",
      "==> Saving combined_df and to_slide on setup variable\n",
      "==> Saving the combined DiSCoVER+CMap resuls to a csv called RCMB20_combined_DISCoVER_and_CMap_results.csv\n",
      "==> Done done!\n",
      "All analyses completed suscessfully with \"patient\" RCMB20\n"
     ]
    }
   ],
   "source": [
    "# \"RCMB20\": \"RCMB20\",\n",
    "run_pipeline(\"RCMB20\")"
   ]
  },
  {
   "cell_type": "code",
   "execution_count": 31,
   "metadata": {
    "ExecuteTime": {
     "end_time": "2019-01-16T22:41:24.132235Z",
     "start_time": "2019-01-16T22:40:19.895199Z"
    }
   },
   "outputs": [
    {
     "name": "stdout",
     "output_type": "stream",
     "text": [
      "======================================\n",
      "Step 1: read_user_input\n",
      "======================================\n",
      "Reminder: if you want to use a custom control expresion, you must set control to 'custom'\n",
      "==> Setting patient_dir = case_id\n",
      "Setup done!\n",
      "======================================\n",
      "Step 2: download_and_preprocess_rnaseq\n",
      "======================================\n",
      "==> Checking if local file (/pdx-hts/Notebooks/data/preprocessed/exp/RCMB24.csv) exist.\n",
      "==> This file containes the expression of the PDXs. Printing dataframe's info:\n",
      "<class 'pandas.core.frame.DataFrame'>\n",
      "Index: 1 entries, RCMB24 to RCMB24\n",
      "Columns: 16247 entries, A1BG to ZZZ3\n",
      "dtypes: float64(16247)\n",
      "memory usage: 126.9+ KB\n",
      "==> None\n",
      "==> File /pdx-hts/Notebooks/patients/RCMB24/gene_abundance.sleuth.csv saved successfully\n",
      "==> Done preprocessing!\n",
      "======================================\n",
      "Step 3: classify_sample\n",
      "======================================\n",
      "These are not the analyses you are looking for. Move along!\n",
      "======================================\n",
      "Step 4: run_discover\n",
      "======================================\n",
      "==> About to perform DiSCoVER.\n",
      "Writing file: cell_lines_IDs_and_types_ctrp.csv\n",
      "Writing file: cell_lines_IDs_and_types_COSMIC_IDS_gdsc.csv\n",
      "Writing file: cell_lines_IDs_and_types_ccle.csv\n",
      "==> DiSCoVER done!\n",
      "==> Moving files contaiend enrichment of cell lines\n",
      "==> Moved cell_lines_IDs_and_types_ccle.csv to /pdx-hts/Notebooks/patients/RCMB24/drug_suggestions/discover/cerebellar_stem/cell_lines_IDs_and_types_ccle.csv\n",
      "==> Moved cell_lines_IDs_and_types_COSMIC_IDS_gdsc.csv to /pdx-hts/Notebooks/patients/RCMB24/drug_suggestions/discover/cerebellar_stem/cell_lines_IDs_and_types_COSMIC_IDS_gdsc.csv\n",
      "==> Moved cell_lines_IDs_and_types_ctrp.csv to /pdx-hts/Notebooks/patients/RCMB24/drug_suggestions/discover/cerebellar_stem/cell_lines_IDs_and_types_ctrp.csv\n",
      "==> Ranking cell lines by enrichment and saving those\n",
      "==> CCLE is missing 3 cell lines (out of 475)\n",
      "==> CTRP is missing 5 cell lines (out of 633)\n",
      "==> Saving results to file.\n",
      "==> Saving done!\n",
      "==> NOT Restricting to clinically relevant drugs.\n",
      "==> Done restricting to clinically relevant drugs!\n",
      "==> Making the DiSCoVER powerpoint.\n",
      "==> Using all of the drugs\n",
      "==> Done making the DiSCoVER powerpoint slide!\n",
      "==> Savig the variables to a file.\n",
      "==> Saving the formatted results of DiSCoVER to a csv\n",
      "==> Done savig the variables to a file!\n",
      "==> Done with all the taks in this cell. Move along.\n",
      "======================================\n",
      "Step 5: run_cmap\n",
      "======================================\n",
      "==> About to parse CMap results.\n",
      "==> done!\n",
      "==> Merging results from DiSCoVER and CMap.\n",
      "done!\n",
      "==> Done Merging results from DiSCoVER and CMap!\n",
      "==> Saving combined_df and to_slide on setup variable\n",
      "==> Saving the combined DiSCoVER+CMap resuls to a csv called RCMB24_combined_DISCoVER_and_CMap_results.csv\n",
      "==> Done done!\n",
      "All analyses completed suscessfully with \"patient\" RCMB24\n"
     ]
    }
   ],
   "source": [
    "# \"RCMB24\": \"RCMB24\",\n",
    "run_pipeline(\"RCMB24\")"
   ]
  },
  {
   "cell_type": "code",
   "execution_count": 32,
   "metadata": {
    "ExecuteTime": {
     "end_time": "2019-01-16T22:42:29.717395Z",
     "start_time": "2019-01-16T22:41:24.137163Z"
    }
   },
   "outputs": [
    {
     "name": "stdout",
     "output_type": "stream",
     "text": [
      "======================================\n",
      "Step 1: read_user_input\n",
      "======================================\n",
      "Reminder: if you want to use a custom control expresion, you must set control to 'custom'\n",
      "==> Setting patient_dir = case_id\n",
      "Setup done!\n",
      "======================================\n",
      "Step 2: download_and_preprocess_rnaseq\n",
      "======================================\n",
      "==> Checking if local file (/pdx-hts/Notebooks/data/preprocessed/exp/RCMB28.csv) exist.\n",
      "==> This file containes the expression of the PDXs. Printing dataframe's info:\n",
      "<class 'pandas.core.frame.DataFrame'>\n",
      "Index: 1 entries, RCMB28 to RCMB28\n",
      "Columns: 16247 entries, A1BG to ZZZ3\n",
      "dtypes: float64(16247)\n",
      "memory usage: 126.9+ KB\n",
      "==> None\n",
      "==> File /pdx-hts/Notebooks/patients/RCMB28/gene_abundance.sleuth.csv saved successfully\n",
      "==> Done preprocessing!\n",
      "======================================\n",
      "Step 3: classify_sample\n",
      "======================================\n",
      "These are not the analyses you are looking for. Move along!\n",
      "======================================\n",
      "Step 4: run_discover\n",
      "======================================\n",
      "==> About to perform DiSCoVER.\n",
      "Writing file: cell_lines_IDs_and_types_ctrp.csv\n",
      "Writing file: cell_lines_IDs_and_types_COSMIC_IDS_gdsc.csv\n",
      "Writing file: cell_lines_IDs_and_types_ccle.csv\n",
      "==> DiSCoVER done!\n",
      "==> Moving files contaiend enrichment of cell lines\n",
      "==> Moved cell_lines_IDs_and_types_ccle.csv to /pdx-hts/Notebooks/patients/RCMB28/drug_suggestions/discover/cerebellar_stem/cell_lines_IDs_and_types_ccle.csv\n",
      "==> Moved cell_lines_IDs_and_types_COSMIC_IDS_gdsc.csv to /pdx-hts/Notebooks/patients/RCMB28/drug_suggestions/discover/cerebellar_stem/cell_lines_IDs_and_types_COSMIC_IDS_gdsc.csv\n",
      "==> Moved cell_lines_IDs_and_types_ctrp.csv to /pdx-hts/Notebooks/patients/RCMB28/drug_suggestions/discover/cerebellar_stem/cell_lines_IDs_and_types_ctrp.csv\n",
      "==> Ranking cell lines by enrichment and saving those\n",
      "==> CCLE is missing 3 cell lines (out of 475)\n",
      "==> CTRP is missing 5 cell lines (out of 633)\n",
      "==> Saving results to file.\n",
      "==> Saving done!\n",
      "==> NOT Restricting to clinically relevant drugs.\n",
      "==> Done restricting to clinically relevant drugs!\n",
      "==> Making the DiSCoVER powerpoint.\n",
      "==> Using all of the drugs\n",
      "==> Done making the DiSCoVER powerpoint slide!\n",
      "==> Savig the variables to a file.\n",
      "==> Saving the formatted results of DiSCoVER to a csv\n",
      "==> Done savig the variables to a file!\n",
      "==> Done with all the taks in this cell. Move along.\n",
      "======================================\n",
      "Step 5: run_cmap\n",
      "======================================\n",
      "==> About to parse CMap results.\n",
      "==> done!\n",
      "==> Merging results from DiSCoVER and CMap.\n",
      "done!\n",
      "==> Done Merging results from DiSCoVER and CMap!\n",
      "==> Saving combined_df and to_slide on setup variable\n",
      "==> Saving the combined DiSCoVER+CMap resuls to a csv called RCMB28_combined_DISCoVER_and_CMap_results.csv\n",
      "==> Done done!\n",
      "All analyses completed suscessfully with \"patient\" RCMB28\n"
     ]
    }
   ],
   "source": [
    "# \"RCMB28\": \"RCMB28\",\n",
    "run_pipeline(\"RCMB28\")"
   ]
  },
  {
   "cell_type": "code",
   "execution_count": 33,
   "metadata": {
    "ExecuteTime": {
     "end_time": "2019-01-16T22:43:34.477613Z",
     "start_time": "2019-01-16T22:42:29.723200Z"
    }
   },
   "outputs": [
    {
     "name": "stdout",
     "output_type": "stream",
     "text": [
      "======================================\n",
      "Step 1: read_user_input\n",
      "======================================\n",
      "Reminder: if you want to use a custom control expresion, you must set control to 'custom'\n",
      "==> Setting patient_dir = case_id\n",
      "Setup done!\n",
      "======================================\n",
      "Step 2: download_and_preprocess_rnaseq\n",
      "======================================\n",
      "==> Checking if local file (/pdx-hts/Notebooks/data/preprocessed/exp/RCMB32.csv) exist.\n",
      "==> This file containes the expression of the PDXs. Printing dataframe's info:\n",
      "<class 'pandas.core.frame.DataFrame'>\n",
      "Index: 1 entries, RCMB32 to RCMB32\n",
      "Columns: 16247 entries, A1BG to ZZZ3\n",
      "dtypes: float64(16247)\n",
      "memory usage: 126.9+ KB\n",
      "==> None\n",
      "==> File /pdx-hts/Notebooks/patients/RCMB32/gene_abundance.sleuth.csv saved successfully\n",
      "==> Done preprocessing!\n",
      "======================================\n",
      "Step 3: classify_sample\n",
      "======================================\n",
      "These are not the analyses you are looking for. Move along!\n",
      "======================================\n",
      "Step 4: run_discover\n",
      "======================================\n",
      "==> About to perform DiSCoVER.\n",
      "Writing file: cell_lines_IDs_and_types_ctrp.csv\n",
      "Writing file: cell_lines_IDs_and_types_COSMIC_IDS_gdsc.csv\n",
      "Writing file: cell_lines_IDs_and_types_ccle.csv\n",
      "==> DiSCoVER done!\n",
      "==> Moving files contaiend enrichment of cell lines\n",
      "==> Moved cell_lines_IDs_and_types_ccle.csv to /pdx-hts/Notebooks/patients/RCMB32/drug_suggestions/discover/cerebellar_stem/cell_lines_IDs_and_types_ccle.csv\n",
      "==> Moved cell_lines_IDs_and_types_COSMIC_IDS_gdsc.csv to /pdx-hts/Notebooks/patients/RCMB32/drug_suggestions/discover/cerebellar_stem/cell_lines_IDs_and_types_COSMIC_IDS_gdsc.csv\n",
      "==> Moved cell_lines_IDs_and_types_ctrp.csv to /pdx-hts/Notebooks/patients/RCMB32/drug_suggestions/discover/cerebellar_stem/cell_lines_IDs_and_types_ctrp.csv\n",
      "==> Ranking cell lines by enrichment and saving those\n",
      "==> CCLE is missing 3 cell lines (out of 475)\n",
      "==> CTRP is missing 5 cell lines (out of 633)\n",
      "==> Saving results to file.\n",
      "==> Saving done!\n",
      "==> NOT Restricting to clinically relevant drugs.\n",
      "==> Done restricting to clinically relevant drugs!\n",
      "==> Making the DiSCoVER powerpoint.\n",
      "==> Using all of the drugs\n",
      "==> Done making the DiSCoVER powerpoint slide!\n",
      "==> Savig the variables to a file.\n",
      "==> Saving the formatted results of DiSCoVER to a csv\n",
      "==> Done savig the variables to a file!\n",
      "==> Done with all the taks in this cell. Move along.\n",
      "======================================\n",
      "Step 5: run_cmap\n",
      "======================================\n",
      "==> About to parse CMap results.\n",
      "==> done!\n",
      "==> Merging results from DiSCoVER and CMap.\n",
      "done!\n",
      "==> Done Merging results from DiSCoVER and CMap!\n",
      "==> Saving combined_df and to_slide on setup variable\n",
      "==> Saving the combined DiSCoVER+CMap resuls to a csv called RCMB32_combined_DISCoVER_and_CMap_results.csv\n",
      "==> Done done!\n",
      "All analyses completed suscessfully with \"patient\" RCMB32\n"
     ]
    }
   ],
   "source": [
    "# \"RCMB32\": \"RCMB32\",\n",
    "run_pipeline(\"RCMB32\")"
   ]
  },
  {
   "cell_type": "code",
   "execution_count": 34,
   "metadata": {
    "ExecuteTime": {
     "end_time": "2019-01-16T22:44:38.455901Z",
     "start_time": "2019-01-16T22:43:34.482589Z"
    }
   },
   "outputs": [
    {
     "name": "stdout",
     "output_type": "stream",
     "text": [
      "======================================\n",
      "Step 1: read_user_input\n",
      "======================================\n",
      "Reminder: if you want to use a custom control expresion, you must set control to 'custom'\n",
      "==> Setting patient_dir = case_id\n",
      "Setup done!\n",
      "======================================\n",
      "Step 2: download_and_preprocess_rnaseq\n",
      "======================================\n",
      "==> Checking if local file (/pdx-hts/Notebooks/data/preprocessed/exp/RCMB38.csv) exist.\n",
      "==> This file containes the expression of the PDXs. Printing dataframe's info:\n",
      "<class 'pandas.core.frame.DataFrame'>\n",
      "Index: 1 entries, RCMB38 to RCMB38\n",
      "Columns: 16247 entries, A1BG to ZZZ3\n",
      "dtypes: float64(16247)\n",
      "memory usage: 126.9+ KB\n",
      "==> None\n",
      "==> File /pdx-hts/Notebooks/patients/RCMB38/gene_abundance.sleuth.csv saved successfully\n",
      "==> Done preprocessing!\n",
      "======================================\n",
      "Step 3: classify_sample\n",
      "======================================\n",
      "These are not the analyses you are looking for. Move along!\n",
      "======================================\n",
      "Step 4: run_discover\n",
      "======================================\n",
      "==> About to perform DiSCoVER.\n",
      "Writing file: cell_lines_IDs_and_types_ctrp.csv\n",
      "Writing file: cell_lines_IDs_and_types_COSMIC_IDS_gdsc.csv\n",
      "Writing file: cell_lines_IDs_and_types_ccle.csv\n",
      "==> DiSCoVER done!\n",
      "==> Moving files contaiend enrichment of cell lines\n",
      "==> Moved cell_lines_IDs_and_types_ccle.csv to /pdx-hts/Notebooks/patients/RCMB38/drug_suggestions/discover/cerebellar_stem/cell_lines_IDs_and_types_ccle.csv\n",
      "==> Moved cell_lines_IDs_and_types_COSMIC_IDS_gdsc.csv to /pdx-hts/Notebooks/patients/RCMB38/drug_suggestions/discover/cerebellar_stem/cell_lines_IDs_and_types_COSMIC_IDS_gdsc.csv\n",
      "==> Moved cell_lines_IDs_and_types_ctrp.csv to /pdx-hts/Notebooks/patients/RCMB38/drug_suggestions/discover/cerebellar_stem/cell_lines_IDs_and_types_ctrp.csv\n",
      "==> Ranking cell lines by enrichment and saving those\n",
      "==> CCLE is missing 3 cell lines (out of 475)\n",
      "==> CTRP is missing 5 cell lines (out of 633)\n",
      "==> Saving results to file.\n",
      "==> Saving done!\n",
      "==> NOT Restricting to clinically relevant drugs.\n",
      "==> Done restricting to clinically relevant drugs!\n",
      "==> Making the DiSCoVER powerpoint.\n",
      "==> Using all of the drugs\n",
      "==> Done making the DiSCoVER powerpoint slide!\n",
      "==> Savig the variables to a file.\n",
      "==> Saving the formatted results of DiSCoVER to a csv\n",
      "==> Done savig the variables to a file!\n",
      "==> Done with all the taks in this cell. Move along.\n",
      "======================================\n",
      "Step 5: run_cmap\n",
      "======================================\n",
      "==> About to parse CMap results.\n",
      "==> done!\n",
      "==> Merging results from DiSCoVER and CMap.\n",
      "done!\n",
      "==> Done Merging results from DiSCoVER and CMap!\n",
      "==> Saving combined_df and to_slide on setup variable\n",
      "==> Saving the combined DiSCoVER+CMap resuls to a csv called RCMB38_combined_DISCoVER_and_CMap_results.csv\n",
      "==> Done done!\n",
      "All analyses completed suscessfully with \"patient\" RCMB38\n"
     ]
    }
   ],
   "source": [
    "# \"RCMB38\": \"RCMB38\",\n",
    "run_pipeline(\"RCMB38\")"
   ]
  },
  {
   "cell_type": "code",
   "execution_count": 35,
   "metadata": {
    "ExecuteTime": {
     "end_time": "2019-01-16T22:45:43.788138Z",
     "start_time": "2019-01-16T22:44:38.464166Z"
    }
   },
   "outputs": [
    {
     "name": "stdout",
     "output_type": "stream",
     "text": [
      "======================================\n",
      "Step 1: read_user_input\n",
      "======================================\n",
      "Reminder: if you want to use a custom control expresion, you must set control to 'custom'\n",
      "==> Setting patient_dir = case_id\n",
      "Setup done!\n",
      "======================================\n",
      "Step 2: download_and_preprocess_rnaseq\n",
      "======================================\n",
      "==> Checking if local file (/pdx-hts/Notebooks/data/preprocessed/exp/RCMB40.csv) exist.\n",
      "==> This file containes the expression of the PDXs. Printing dataframe's info:\n",
      "<class 'pandas.core.frame.DataFrame'>\n",
      "Index: 1 entries, RCMB40 to RCMB40\n",
      "Columns: 16247 entries, A1BG to ZZZ3\n",
      "dtypes: float64(16247)\n",
      "memory usage: 126.9+ KB\n",
      "==> None\n",
      "==> File /pdx-hts/Notebooks/patients/RCMB40/gene_abundance.sleuth.csv saved successfully\n",
      "==> Done preprocessing!\n",
      "======================================\n",
      "Step 3: classify_sample\n",
      "======================================\n",
      "These are not the analyses you are looking for. Move along!\n",
      "======================================\n",
      "Step 4: run_discover\n",
      "======================================\n",
      "==> About to perform DiSCoVER.\n",
      "Writing file: cell_lines_IDs_and_types_ctrp.csv\n",
      "Writing file: cell_lines_IDs_and_types_COSMIC_IDS_gdsc.csv\n",
      "Writing file: cell_lines_IDs_and_types_ccle.csv\n",
      "==> DiSCoVER done!\n",
      "==> Moving files contaiend enrichment of cell lines\n",
      "==> Moved cell_lines_IDs_and_types_ccle.csv to /pdx-hts/Notebooks/patients/RCMB40/drug_suggestions/discover/cerebellar_stem/cell_lines_IDs_and_types_ccle.csv\n",
      "==> Moved cell_lines_IDs_and_types_COSMIC_IDS_gdsc.csv to /pdx-hts/Notebooks/patients/RCMB40/drug_suggestions/discover/cerebellar_stem/cell_lines_IDs_and_types_COSMIC_IDS_gdsc.csv\n",
      "==> Moved cell_lines_IDs_and_types_ctrp.csv to /pdx-hts/Notebooks/patients/RCMB40/drug_suggestions/discover/cerebellar_stem/cell_lines_IDs_and_types_ctrp.csv\n",
      "==> Ranking cell lines by enrichment and saving those\n",
      "==> CCLE is missing 3 cell lines (out of 475)\n",
      "==> CTRP is missing 5 cell lines (out of 633)\n",
      "==> Saving results to file.\n",
      "==> Saving done!\n",
      "==> NOT Restricting to clinically relevant drugs.\n",
      "==> Done restricting to clinically relevant drugs!\n",
      "==> Making the DiSCoVER powerpoint.\n",
      "==> Using all of the drugs\n",
      "==> Done making the DiSCoVER powerpoint slide!\n",
      "==> Savig the variables to a file.\n",
      "==> Saving the formatted results of DiSCoVER to a csv\n",
      "==> Done savig the variables to a file!\n",
      "==> Done with all the taks in this cell. Move along.\n",
      "======================================\n",
      "Step 5: run_cmap\n",
      "======================================\n",
      "==> About to parse CMap results.\n",
      "==> done!\n",
      "==> Merging results from DiSCoVER and CMap.\n",
      "done!\n",
      "==> Done Merging results from DiSCoVER and CMap!\n",
      "==> Saving combined_df and to_slide on setup variable\n",
      "==> Saving the combined DiSCoVER+CMap resuls to a csv called RCMB40_combined_DISCoVER_and_CMap_results.csv\n",
      "==> Done done!\n",
      "All analyses completed suscessfully with \"patient\" RCMB40\n"
     ]
    }
   ],
   "source": [
    "# \"RCMB40\": \"RCMB40\"\n",
    "run_pipeline(\"RCMB40\")"
   ]
  },
  {
   "cell_type": "code",
   "execution_count": 36,
   "metadata": {
    "ExecuteTime": {
     "end_time": "2019-01-16T22:45:43.851077Z",
     "start_time": "2019-01-16T22:45:43.791442Z"
    }
   },
   "outputs": [
    {
     "name": "stdout",
     "output_type": "stream",
     "text": [
      "done!\n"
     ]
    }
   ],
   "source": [
    "print('done!')"
   ]
  },
  {
   "cell_type": "code",
   "execution_count": null,
   "metadata": {},
   "outputs": [],
   "source": []
  },
  {
   "cell_type": "code",
   "execution_count": 1,
   "metadata": {
    "ExecuteTime": {
     "end_time": "2019-01-18T21:31:15.414715Z",
     "start_time": "2019-01-18T21:31:15.364899Z"
    },
    "genepattern": {
     "name": "Login",
     "server": "https://cloud.genepattern.org/gp",
     "type": "auth"
    }
   },
   "outputs": [
    {
     "data": {
      "application/vnd.jupyter.widget-view+json": {
       "model_id": "9ca48b19bc434f488bcea27d91f5673d",
       "version_major": 2,
       "version_minor": 0
      },
      "text/plain": [
       "GPAuthWidget()"
      ]
     },
     "metadata": {},
     "output_type": "display_data"
    }
   ],
   "source": [
    "# Requires GenePattern Notebook: pip install genepattern-notebook\n",
    "import gp\n",
    "import genepattern\n",
    "\n",
    "# Username and password removed for security reasons.\n",
    "genepattern.display(genepattern.session.register(\"https://cloud.genepattern.org/gp\", \"\", \"\"))"
   ]
  },
  {
   "cell_type": "code",
   "execution_count": 2,
   "metadata": {
    "ExecuteTime": {
     "end_time": "2019-01-18T21:31:15.504499Z",
     "start_time": "2019-01-18T21:31:15.467662Z"
    },
    "nbtools": {
     "description": "",
     "name": "set_case_id",
     "param_values": {
      "case_id": "BT084",
      "output_var": "case_id"
     },
     "show_code": false,
     "type": "uibuilder"
    }
   },
   "outputs": [
    {
     "data": {
      "application/vnd.jupyter.widget-view+json": {
       "model_id": "a95f45469cf84c3b9e8107cbf9c74321",
       "version_major": 2,
       "version_minor": 0
      },
      "text/plain": [
       "UIBuilder(function_import='set_case_id', name='set_case_id', params=[{'name': 'case_id', 'label': 'case_id', '…"
      ]
     },
     "metadata": {},
     "output_type": "display_data"
    }
   ],
   "source": [
    "@genepattern.build_ui(parameters={\n",
    "    \"output_var\": {\n",
    "        \"default\": \"case_id\",\n",
    "        \"hide\": False,\n",
    "    },\n",
    "    \"case_id\": {\"type\": \"choice\",\n",
    "                \"description\": \"The name of the case, e.g., 'BT084'\",\n",
    "                \"choices\": {\n",
    "                    \"BT084\": \"BT084\",\n",
    "                    \"DMB006\": \"DMB006\",\n",
    "                    \"ICB984\": \"ICB984\",\n",
    "                    \"ICB1299\": \"ICB1299\",\n",
    "                    \"ICB1487\": \"ICB1487\",\n",
    "                    \"ICB1572\": \"ICB1572\",\n",
    "                    \"MB002\": \"MB002\",\n",
    "                    \"MB009\": \"MB009\",\n",
    "                    \"MED211\": \"MED211\",\n",
    "                    \"MED411\": \"MED411\",\n",
    "                    \"MED1712\": \"MED1712\",\n",
    "                    \"MED1911\": \"MED1911\",\n",
    "                    \"MED2312\": \"MED2312\",\n",
    "                    \"RCMB18\": \"RCMB18\",\n",
    "                    \"RCMB20\": \"RCMB20\",\n",
    "                    \"RCMB24\": \"RCMB24\",\n",
    "                    \"RCMB28\": \"RCMB28\",\n",
    "                    \"RCMB32\": \"RCMB32\",\n",
    "                    \"RCMB38\": \"RCMB38\",\n",
    "                    \"RCMB40\": \"RCMB40\",},\n",
    "               \"default\":\"BT084\"},\n",
    "})\n",
    "def set_case_id(case_id):\n",
    "    print(f'case_id set to \"{case_id}\"')\n",
    "    return case_id"
   ]
  },
  {
   "cell_type": "markdown",
   "metadata": {},
   "source": [
    "## User input"
   ]
  },
  {
   "cell_type": "markdown",
   "metadata": {},
   "source": [
    "Select parameters before running the rest of the notebook."
   ]
  },
  {
   "cell_type": "markdown",
   "metadata": {},
   "source": [
    "<div class=\"alert alert-info\">\n",
    "<h3 style=\"margin-top: 0;\"> Instructions <i class=\"fa fa-info-circle\"></i></h3>\n",
    "Select parameters before running the rest of the notebook.\n",
    "</div>"
   ]
  },
  {
   "cell_type": "code",
   "execution_count": 3,
   "metadata": {
    "ExecuteTime": {
     "end_time": "2019-01-18T21:31:18.470720Z",
     "start_time": "2019-01-18T21:31:15.508981Z"
    },
    "nbtools": {
     "description": "",
     "name": "read_user_input",
     "param_values": {
      "DNA_Nexus": "false",
      "case_id": "{{case_id}}",
      "control": "original",
      "custom_control_expression": "None",
      "dna_nexus_bool": "false",
      "is_medullo": "true",
      "output_var": "setup",
      "patient_dir": "PDX1_dir"
     },
     "show_code": false,
     "type": "uibuilder"
    },
    "scrolled": false
   },
   "outputs": [
    {
     "data": {
      "application/vnd.jupyter.widget-view+json": {
       "model_id": "c7889fdec0784a77b143183ad490e173",
       "version_major": 2,
       "version_minor": 0
      },
      "text/plain": [
       "UIBuilder(function_import='read_user_input', name='read_user_input', params=[{'name': 'case_id', 'label': 'cas…"
      ]
     },
     "metadata": {},
     "output_type": "display_data"
    }
   ],
   "source": [
    "from companion_script import *\n",
    "# # Select case\n",
    "# case_id = 'case17'\n",
    "# # This patient directory should match the directory name on DNANexus.\n",
    "# patient_dir = '18-10716_tumor-normal'\n",
    "# is_medullo = True # set False if it is another kind of brain tumor\n",
    "%load_ext autoreload\n",
    "%autoreload 2\n",
    "%matplotlib inline\n",
    "import readline # required for rpy2 extension\n",
    "%load_ext rpy2.ipython\n",
    "\n",
    "\n",
    "def rmagic_warning(\n",
    "    message,\n",
    "    category = rpy2.rinterface.RRuntimeWarning,\n",
    "    filename = '',\n",
    "    lineno = -1,\n",
    "    file=None,\n",
    "    line=None):\n",
    "    print(message)\n",
    "default_showwarning = warnings.showwarning\n",
    "\n",
    "\n",
    "@genepattern.build_ui(parameters={\n",
    "    \"output_var\": {\n",
    "        \"default\": \"setup\",\n",
    "        \"hide\": False,\n",
    "    },\n",
    "    \"case_id\": {\"type\": \"text\",\n",
    "                \"description\": \"The name of the case, e.g., 'PDX1'\",\n",
    "               \"default\":\"PDX1\"},\n",
    "    \"patient_dir\": {\"type\": \"text\",\n",
    "                    \"description\": 'For DNA Nexus downloads only. The name of the \"patient\" directory, e.g. \"18-10716_tumor-normal\" (quotes are required)',\n",
    "                    \"default\":\"PDX1_dir\"},\n",
    "    \"dna_nexus_bool\": {\"type\": \"bool\",\n",
    "                   \"description\": \"Whether or not this sample has been classified as medulloblastoma\",\n",
    "                  \"default\":False},\n",
    "    \"is_medullo\": {\"type\": \"bool\",\n",
    "                   \"description\": \"Whether or not this sample has been classified as medulloblastoma\",},\n",
    "    \"control\": {\"type\": \"choice\",\n",
    "                \"description\": \"Whether or not to use a custom control\",\n",
    "                \"choices\": {\n",
    "                    \"original\": \"original\",\n",
    "                    \"custom\": \"custom\",\n",
    "                            }\n",
    "               },\n",
    "    \"custom_control_expression\": {\"type\": \"file\",\n",
    "                           \"kinds\": [\"gct\"],\n",
    "                           \"description\": \"The file (or path to the GCT file) which contains the gene expression of the custom control.\",\n",
    "                           \"default\":None},\n",
    "})\n",
    "def read_user_input(case_id, patient_dir, dna_nexus_bool=False, is_medullo=False, control='original',custom_control_expression=None):\n",
    "    # Select control for DiSCoVER and Connectivity Map\n",
    "    # Generally, if the tumor is a medulloblastoma, we use `cerebellar_stem` (comment the `neural_stem` line).\n",
    "    # And if it is any other kind of brain tumor, we use `neural_stem`.\n",
    "    if control == 'original':\n",
    "        expression_control = 'cerebellar_stem' if is_medullo else 'neural_stem'\n",
    "    elif control == 'custom':\n",
    "        expression_control = 'custom_control'\n",
    "    else:\n",
    "        print('Unexpected value for variable named control, value:', control)\n",
    "        \n",
    "    if (len(custom_control_expression) is not 0) and (control is not 'custom'):\n",
    "        print(\"Reminder: if you want to use a custom control expresion, you must set control to 'custom'\")\n",
    "\n",
    "    base_dir = os.getcwd()\n",
    "    utilities_dir = '/build'\n",
    "    patients_dir = os.path.join(base_dir, 'patients')\n",
    "    if not dna_nexus_bool:\n",
    "        log('Setting patient_dir = case_id')\n",
    "        patient_dir = case_id\n",
    "        \n",
    "    in_dir = os.path.join(patients_dir, patient_dir)\n",
    "    \n",
    "    out_dir = in_dir\n",
    "    os.makedirs(out_dir, exist_ok=True)\n",
    "    \n",
    "#     out['base_dir'] = base_dir\n",
    "#     out['utilities_dir'] = utilities_dir\n",
    "#     out['patients_dir'] = patients_dir\n",
    "#     \n",
    "\n",
    "    platform = sys.platform\n",
    "    if platform.startswith('linux'):\n",
    "        os_string = 'linux'\n",
    "    elif platform == 'darwin':\n",
    "        os_string = 'mac'\n",
    "    else:\n",
    "        raise ValueError('Platform \"{}\" not supported'.format(platform))\n",
    "\n",
    "    # RNASeq quantification\n",
    "    kallisto_dir = '/build/kallisto'\n",
    "    kallisto_path = os.path.join(kallisto_dir, 'kallisto_{}-v0.44.0/kallisto'.format(os_string))\n",
    "    transcriptome_index_path = os.path.join(kallisto_dir, 'GRCh38.ensembl.transcriptome.idx')\n",
    "    local_fastqs_dir = os.path.join(in_dir, 'fastqs')\n",
    "    os.makedirs(local_fastqs_dir, exist_ok=True)\n",
    "    patient_gexp_file = os.path.join(out_dir, 'gene_abundance.sleuth.csv')\n",
    "\n",
    "    # Medulloblastoma classification\n",
    "#     from sklearn.ensemble import RandomForestClassifier\n",
    "#     from tumor_classification.medulloblastoma import classify_cavalli, classify_cho, classify_northcott\n",
    "    medullo_classify_out_dir = os.path.join(out_dir, 'medulloblastoma_classification')\n",
    "    if not os.path.exists(medullo_classify_out_dir):\n",
    "        os.mkdir(medullo_classify_out_dir)\n",
    "    cavalli_subgroup_file = os.path.join(medullo_classify_out_dir, 'cavalli_subgroups.csv')\n",
    "    cavalli_subgroup_direct_file = os.path.join(medullo_classify_out_dir, 'cavalli_subgroups_direct.csv')\n",
    "    cavalli_subtype_file = os.path.join(medullo_classify_out_dir, 'cavalli_subtypes.csv')\n",
    "    cho_subtype_file = os.path.join(medullo_classify_out_dir, 'cho_subtypes.csv')\n",
    "    cho_subgroup_file = os.path.join(medullo_classify_out_dir, 'cho_subgroups.csv')\n",
    "    northcott_subgroup_file = os.path.join(medullo_classify_out_dir, 'northcott_subgroups.csv')\n",
    "\n",
    "    drug_suggestion_out_dir = os.path.join(out_dir, 'drug_suggestions')\n",
    "    os.makedirs(drug_suggestion_out_dir, exist_ok=True)\n",
    "\n",
    "    # DiSCoVER\n",
    "    discover_out_dir = os.path.join(drug_suggestion_out_dir, 'discover/{}'.format(expression_control))\n",
    "    os.makedirs(discover_out_dir, exist_ok=True)\n",
    "    discover_heatmap_file = os.path.join(discover_out_dir, 'ctrp.png')\n",
    "    full_discover_results_file = os.path.join(discover_out_dir, 'discover.all.csv')\n",
    "    rdrugs_discover_file = os.path.join(discover_out_dir, '{}.discover.{}.reasonable.annotated.csv'.format(case_id, expression_control))\n",
    "\n",
    "    # Connectivity Map\n",
    "    cmap_out_dir = os.path.join(drug_suggestion_out_dir, 'cmap/{}'.format(expression_control))\n",
    "    os.makedirs(cmap_out_dir, exist_ok=True)\n",
    "    cmap_all_ranked_drugs_file = os.path.join(cmap_out_dir, '{}.cmap.{}.all.csv'.format(case_id, expression_control))\n",
    "    cmap_reasonable_ranked_drugs_file = os.path.join(cmap_out_dir, '{}.cmap.{}.reasonable.annotated.csv'.format(case_id, expression_control))\n",
    "    \n",
    "    # Powerpoint for MTB\n",
    "#     from slides import make_medullo_classification_slide, make_discover_workflow_slide, make_exp_drug_ranking_results_slide, make_intersection_slide\n",
    "    mtb_ppt_file = os.path.join(out_dir, '{}.mtb_slides.pptx'.format(case_id))\n",
    "\n",
    "    # DNANexus\n",
    "    dx_source_path = os.path.join(utilities_dir, 'dx-toolkit/environment')\n",
    "    dnanexus_project = 'UW_UCSD_RNAseq_collaboration_share'\n",
    "    # Replace the contents of this file with your own DNANexus token.\n",
    "    dnanexus_token_file = os.path.join(base_dir, 'dnanexus_token.txt')\n",
    "    # To use the dx command, we must update some environment variables. \n",
    "    # From the command line, this is done with source dx-toolkit/environment, \n",
    "    # but from Python we have to use a workaround, because normally any changes \n",
    "    # to environment variables done in a subprocess are not reflected in the \n",
    "    # parent process. The workaround runs the source command in a subprocess, \n",
    "    # fetches the environment variables from the subprocess and updates those \n",
    "    # of the parent process.\n",
    "#     from utils import source_and_update_env_vars\n",
    "    source_and_update_env_vars(dx_source_path)    \n",
    "    out = {\"case_id\": case_id,\n",
    "                 \"patient_dir\": patient_dir,\n",
    "                 \"is_medullo\": is_medullo}\n",
    "    out['dna_nexus_bool']=dna_nexus_bool\n",
    "    out['expression_control'] = expression_control\n",
    "    out['custom_control_expression'] = custom_control_expression\n",
    "    out['dnanexus_token_file'] = dnanexus_token_file\n",
    "    out['local_fastqs_dir'] = local_fastqs_dir\n",
    "    out['dnanexus_project'] = dnanexus_project\n",
    "    out['local_fastqs_dir'] = local_fastqs_dir\n",
    "    out['transcriptome_index_path'] = transcriptome_index_path\n",
    "    out['kallisto_path'] = kallisto_path\n",
    "    out['kallisto_dir'] = kallisto_dir\n",
    "    out['out_dir'] = out_dir\n",
    "    out['r_out_dir'] = out_dir.replace('\\\\',r'\\\\')\n",
    "    out['patient_gexp_file'] = patient_gexp_file\n",
    "    out['in_dir'] = in_dir\n",
    "    out['cavalli_subgroup_file'] = cavalli_subgroup_file\n",
    "    out['cavalli_subtype_file'] = cavalli_subtype_file\n",
    "    out['cavalli_subgroup_direct_file'] = cavalli_subgroup_direct_file\n",
    "    out['cho_subgroup_file'] = cho_subgroup_file\n",
    "    out['cho_subtype_file'] = cho_subtype_file\n",
    "    out['northcott_subgroup_file'] = northcott_subgroup_file\n",
    "    out['mtb_ppt_file'] = mtb_ppt_file\n",
    "    out['expression_control'] = expression_control\n",
    "    out['full_discover_results_file'] = full_discover_results_file\n",
    "    out['discover_out_dir'] = discover_out_dir\n",
    "    out['discover_heatmap_file'] = discover_heatmap_file\n",
    "    out['rdrugs_discover_file'] = rdrugs_discover_file\n",
    "    out['cmap_out_dir'] = cmap_out_dir\n",
    "    out['cmap_all_ranked_drugs_file'] = cmap_all_ranked_drugs_file\n",
    "    out['cmap_reasonable_ranked_drugs_file'] = cmap_reasonable_ranked_drugs_file\n",
    "    out['mtb_ppt_file'] = mtb_ppt_file\n",
    "    out['out_dir'] = os.path.join(patients_dir, case_id)\n",
    "\n",
    "    if not os.path.exists(out['out_dir']):\n",
    "        os.mkdir(out['out_dir'])\n",
    "    print('Setup done!')\n",
    "    pickle.dump(out, file=open(os.path.join(out['out_dir'], case_id+'_backup1_input.p'),'wb'))\n",
    "    return Bunch(out)"
   ]
  },
  {
   "cell_type": "markdown",
   "metadata": {},
   "source": [
    "<div class=\"well\">\n",
    "Running all cells below this point will execute all the analyses except for one: the Connectivity Map analysis at the end of the notebook, which requires two manual steps.\n",
    "</div>"
   ]
  },
  {
   "cell_type": "markdown",
   "metadata": {},
   "source": [
    "# Download RNAseq data"
   ]
  },
  {
   "cell_type": "code",
   "execution_count": 4,
   "metadata": {
    "ExecuteTime": {
     "end_time": "2019-01-18T21:31:18.584622Z",
     "start_time": "2019-01-18T21:31:18.473627Z"
    },
    "nbtools": {
     "description": "",
     "name": "download_and_preprocess_rnaseq",
     "param_values": {
      "input_expression_dir": "None",
      "output_var": "setup",
      "setup": "setup"
     },
     "show_code": false,
     "type": "uibuilder"
    }
   },
   "outputs": [
    {
     "data": {
      "application/vnd.jupyter.widget-view+json": {
       "model_id": "8c04aec0f7164b0d98590cef9fc423f9",
       "version_major": 2,
       "version_minor": 0
      },
      "text/plain": [
       "UIBuilder(function_import='download_and_preprocess_rnaseq', name='download_and_preprocess_rnaseq', params=[{'n…"
      ]
     },
     "metadata": {},
     "output_type": "display_data"
    }
   ],
   "source": [
    "@genepattern.build_ui(parameters={\n",
    "    \"setup\": {\"default\": \"setup\",\n",
    "              \"hide\": False,\n",
    "              \"description\": \"The variable which has the setup information\"},\n",
    "    \"input_expression_dir\":{\"hide\":True},\n",
    "    \"output_var\": {\n",
    "        \"default\": \"setup\",\n",
    "        \"hide\": True,\n",
    "    },\n",
    "})\n",
    "def download_and_preprocess_rnaseq(setup, input_expression_dir = None):\n",
    "    setup.input_expression_dir = f'/pdx-hts/Notebooks/data/preprocessed/exp/{setup.case_id}.csv'\n",
    "    if setup.dna_nexus_bool:\n",
    "        if input_expression_dir is not None:\n",
    "            log(f\"input_expression_dir has a value ({setup.input_expression_dir}), and it will be ignored!\")\n",
    "        log('About to download fastqfiles from DNA Nexus. This may take a while.')\n",
    "        with open(setup.dnanexus_token_file, 'r') as f:\n",
    "            dnanexus_token = f.readline().strip()\n",
    "        login_command = 'dx login --token {} --noprojects; dx select {}'.format(dnanexus_token, setup.dnanexus_project)\n",
    "        # subprocess.check_output('ls', shell=True).decode('utf-8').strip()\n",
    "        subprocess.check_output(login_command, shell=True).decode('utf-8').strip()\n",
    "\n",
    "        find_fastq_command = 'dx find data --name \"*.fastq.gz\" --path {}:{}'.format(setup.dnanexus_project, setup.patient_dir)\n",
    "        find_fastq_return_lines = subprocess.check_output(find_fastq_command, shell=True).decode().strip().split('\\n')\n",
    "        re_string = '.*(/{}/.*\\.fastq.gz) .*'.format(setup.patient_dir)\n",
    "        fastq_path_re = re.compile(re_string)\n",
    "        remote_fastq_paths = []\n",
    "        local_fastq_subdirs = []\n",
    "\n",
    "        for line in find_fastq_return_lines:\n",
    "            search = fastq_path_re.search(line)\n",
    "            remote_fastq_path = search.group(1)\n",
    "            remote_fastq_paths.append(remote_fastq_path)\n",
    "            fastq_subdir_path = os.path.dirname(remote_fastq_path)\n",
    "            fastq_subdir = os.path.basename(fastq_subdir_path)\n",
    "            local_fastq_subdir = os.path.join(setup.local_fastqs_dir, fastq_subdir)\n",
    "            os.makedirs(local_fastq_subdir, exist_ok=True)\n",
    "            local_fastq_subdirs.append(local_fastq_subdir)\n",
    "\n",
    "        for remote_fastq_path, local_fastq_subdir in zip(remote_fastq_paths, local_fastq_subdirs):\n",
    "            download_command = 'dx download \"{}\" -o \"{}\"'.format(remote_fastq_path, local_fastq_subdir)\n",
    "            print('\\t'+download_command)\n",
    "            try:\n",
    "                a=subprocess.check_output(download_command, shell=True)\n",
    "            except subprocess.CalledProcessError as e:\n",
    "                print('\\tEncountered a dx error, this likely means you already have the file indicated above.')\n",
    "                print('\\tContinuing...\\n')\n",
    "                continue\n",
    "        log('Done downloading the fastq files.')\n",
    "        log('Preprocessing RNASeq data now:')\n",
    "        log('Using kallisto to compute transcript abundance.')\n",
    "        preprocess_rna_seq(setup)\n",
    "        log('Done with tanscript abundance.')\n",
    "        log('Using sleuth to aggregate transcript abundance into gene abbundance.')\n",
    "        run_sleuth(setup)\n",
    "        patient_exp = pd.read_csv(setup.patient_gexp_file, index_col=0).T\n",
    "        patient_exp.index = [setup.case_id]\n",
    "        setup.patient_exp = patient_exp\n",
    "        patient_exp.to_csv(setup.patient_gexp_file)\n",
    "        log('Habemus Genus Expressium *release the white smoke*')\n",
    "    else:\n",
    "        log(f'Checking if local file ({setup.input_expression_dir}) exist.')\n",
    "        if os.path.isfile(setup.input_expression_dir):\n",
    "            df = pd.read_csv(setup.input_expression_dir, index_col=0)\n",
    "            setup.expression_input = df\n",
    "            log(\"This file containes the expression of the PDXs. Printing dataframe's info:\")\n",
    "            log(setup.expression_input.info())\n",
    "        else:\n",
    "            log('File could not be located please check and run again.')\n",
    "        patient_exp = df\n",
    "        setup.patient_exp = patient_exp\n",
    "        patient_exp.to_csv(setup.patient_gexp_file)\n",
    "        log(f'File {setup.patient_gexp_file} saved successfully')\n",
    "    \n",
    "    pickle.dump(setup, file=open(os.path.join(setup.out_dir, setup.case_id+'_backup2_download.p'),'wb'))\n",
    "#     pickle.dump(setup, file=open(setup.out_dir+'_backup2_download.p','wb'))\n",
    "    log('Done preprocessing!')\n",
    "    return setup"
   ]
  },
  {
   "cell_type": "markdown",
   "metadata": {},
   "source": [
    "# Classify the tumor by medulloblastoma subgroup and subtype"
   ]
  },
  {
   "cell_type": "code",
   "execution_count": 5,
   "metadata": {
    "ExecuteTime": {
     "end_time": "2019-01-18T21:31:18.641198Z",
     "start_time": "2019-01-18T21:31:18.587576Z"
    },
    "nbtools": {
     "description": "This function classifies a medulloblastoma sample into a subgroup. Non-medulloblastoma samples are ignored.",
     "name": "classify_sample",
     "param_values": {
      "output_var": "setup",
      "setup": "setup"
     },
     "show_code": false,
     "type": "uibuilder"
    },
    "scrolled": true
   },
   "outputs": [
    {
     "data": {
      "application/vnd.jupyter.widget-view+json": {
       "model_id": "f0d649f1769a4a32bf4eb33b698fb125",
       "version_major": 2,
       "version_minor": 0
      },
      "text/plain": [
       "UIBuilder(description='This function classifies a medulloblastoma sample into a subgroup. Non-medulloblastoma …"
      ]
     },
     "metadata": {},
     "output_type": "display_data"
    }
   ],
   "source": [
    "@genepattern.build_ui(\n",
    "    description=\"This function classifies a medulloblastoma sample into a subgroup. Non-medulloblastoma samples are ignored.\",\n",
    "    parameters={\n",
    "    \"setup\": {\"default\": \"setup\",\n",
    "              \"hide\": False,\n",
    "              \"description\": \"The variable which has the setup information\"},\n",
    "    \"output_var\": {\n",
    "        \"default\": \"setup\",\n",
    "        \"hide\": True,\n",
    "    },\n",
    "})\n",
    "def classify_sample(setup):\n",
    "    # We have three datasets we can use to classify based on expression:\n",
    "    # - [Cavalli et al. 2017](http://www.sciencedirect.com/science/article/pii/S1535610817302015) cohort. This cohort includes 763 tumors, and was used to define 12 finer-grained subtypes nested in the 4 subgroups. Both expression and methylation data are available.\n",
    "\n",
    "    # - [Cho et al. 2011](http://www.mesirovlab.org/medulloblastoma/cho/) cohort. This paper identified two subtypes within G3 and two within G4, for a total of 6. It contains 194 tumors.\n",
    "\n",
    "    # - [Northcott et al. 2017](http://www.nature.com/nature/journal/v547/n7663/full/nature22973.html) expression data (shared by Sebastian). The labels we have for this data are of the 4 basic subgroups only. There are 223 tumors.\n",
    "\n",
    "    # When finer-grained subtypes are known, we perform the finer-grained classification first and also collapse the subtypes to the 4 basic subgroups, so as to report both subtype and subgroup probabilities. Classification is done using random forests.\n",
    "\n",
    "    # Since the patient data are from the same platform and contain the same features each time, we can use pre-fit models to classify them. The classification methods also have a fallback in case the data looks different.\n",
    "\n",
    "    # The tumor board is arranging for methylation data to be obtained from patient samples as well, since it seems it may be more informative than expression. Methylation data would also allow comparison to a large and variety collection of brain tumors, currently available through a DKFZ [web portal](https://www.molecularneuropathology.org/mnp).\n",
    "\n",
    "    if setup.is_medullo:\n",
    "        # Read in patient's gene-level RNASeq TPM data\n",
    "        patient_exp = pd.read_csv(setup.patient_gexp_file, index_col=0)\n",
    "\n",
    "        cavalli_subgroups, cavalli_subtypes = classify_cavalli(patient_exp)\n",
    "        cavalli_subgroups.to_csv(setup.cavalli_subgroup_file)\n",
    "        cavalli_subtypes.to_csv(setup.cavalli_subtype_file)\n",
    "        setup.cavalli_subgroups = cavalli_subgroups\n",
    "        setup.cavalli_subgroups.name='Cavalli'\n",
    "        setup.cavalli_subtypes = cavalli_subtypes\n",
    "        setup.cavalli_subtypes.name='Cavalli'\n",
    "\n",
    "        cho_subgroups, cho_subtypes = classify_cho(patient_exp)\n",
    "        cho_subtypes.to_csv(setup.cho_subtype_file)\n",
    "        cho_subgroups.to_csv(setup.cho_subgroup_file)\n",
    "        setup.cho_subtypes = cho_subtypes\n",
    "        setup.cho_subtypes.name = 'Cho'\n",
    "        setup.cho_subgroups = cho_subgroups\n",
    "        setup.cho_subgroups.name = 'Cho'\n",
    "\n",
    "        northcott_subgroups = classify_northcott(patient_exp)\n",
    "        northcott_subgroups.to_csv(setup.northcott_subgroup_file)\n",
    "        setup.northcott_subgroups = northcott_subgroups\n",
    "        setup.northcott_subgroups.name = 'Northcott'\n",
    "        \n",
    "\n",
    "        make_medullo_classification_slide(setup.mtb_ppt_file,\n",
    "                                          setup.cavalli_subgroup_file,\n",
    "                                          setup.cavalli_subtype_file,\n",
    "                                          setup.cho_subgroup_file,\n",
    "                                          setup.cho_subtype_file,\n",
    "                                          setup.northcott_subgroup_file)\n",
    "        subgroups = pd.DataFrame(data=setup.cavalli_subgroups).join(setup.cho_subgroups).join(setup.northcott_subgroups)\n",
    "        setup.subgroups = subgroups\n",
    "        print(setup.subgroups)\n",
    "        cavalli_subtypes = pd.DataFrame(data=setup.cavalli_subtypes)\n",
    "        setup.cavalli_subtypes = cavalli_subtypes\n",
    "        print(cavalli_subtypes)\n",
    "        cho_subtypes = pd.DataFrame(pd.Series(index=[3,1,6,5,4,2], data=['SHH','G3-MYC','WNT','G3-photoreceptor','G4-Mixed','G4-neuronal'],name='Subtypes')).join(setup.cho_subtypes)\n",
    "        setup.cho_subtypes = cho_subtypes\n",
    "        print(cho_subtypes)\n",
    "        \n",
    "        log('Done! Move along')\n",
    "    else:\n",
    "        log('This is not medulloblastoma. Nothing to do here. Move along')\n",
    "#     pickle.dump(setup, file=open(setup.out_dir+'_backup3_classify.p','wb'))\n",
    "    pickle.dump(setup, file=open(os.path.join(setup.out_dir, setup.case_id+'_backup3_classify.p'),'wb'))\n",
    "    \n",
    "    return setup"
   ]
  },
  {
   "cell_type": "code",
   "execution_count": null,
   "metadata": {},
   "outputs": [],
   "source": []
  },
  {
   "cell_type": "markdown",
   "metadata": {},
   "source": [
    "# Suggest drugs based on RNAseq data (DiSCoVER)"
   ]
  },
  {
   "cell_type": "code",
   "execution_count": null,
   "metadata": {},
   "outputs": [],
   "source": []
  },
  {
   "cell_type": "code",
   "execution_count": 177,
   "metadata": {
    "ExecuteTime": {
     "end_time": "2019-01-11T19:55:30.503262Z",
     "start_time": "2019-01-11T19:55:30.448437Z"
    }
   },
   "outputs": [
    {
     "data": {
      "text/plain": [
       "'/pdx-hts/Notebooks/patients/DMB006/drug_suggestions/discover/cerebellar_stem'"
      ]
     },
     "execution_count": 177,
     "metadata": {},
     "output_type": "execute_result"
    }
   ],
   "source": [
    "setup.discover_out_dir"
   ]
  },
  {
   "cell_type": "code",
   "execution_count": 6,
   "metadata": {
    "ExecuteTime": {
     "end_time": "2019-01-18T21:31:18.697695Z",
     "start_time": "2019-01-18T21:31:18.643857Z"
    },
    "nbtools": {
     "description": "Run DiSCoVER on the provided sample and control.",
     "name": "run_discover",
     "param_values": {
      "output_var": "setup",
      "setup": "setup"
     },
     "show_code": true,
     "type": "uibuilder"
    },
    "scrolled": true
   },
   "outputs": [
    {
     "data": {
      "application/vnd.jupyter.widget-view+json": {
       "model_id": "6db68a7e82144096a181c3a8e23d3b78",
       "version_major": 2,
       "version_minor": 0
      },
      "text/plain": [
       "UIBuilder(description='Run DiSCoVER on the provided sample and control.', function_import='run_discover', name…"
      ]
     },
     "metadata": {},
     "output_type": "display_data"
    }
   ],
   "source": [
    "@genepattern.build_ui(\n",
    "  description=\"Run DiSCoVER on the provided sample and control.\",\n",
    "  parameters={\n",
    "    \"setup\": {\"default\": \"setup\",\n",
    "              \"hide\": False,\n",
    "              \"description\": \"The variable which has the setup information\"},\n",
    "    \"output_var\": {\n",
    "        \"default\": \"setup\",\n",
    "        \"hide\": True,\n",
    "    },\n",
    "})\n",
    "def run_discover(setup):\n",
    "    from rpy2.robjects import numpy2ri\n",
    "    numpy2ri.activate()\n",
    "    from discover import discover_from_expression, plot_discover_from_expression\n",
    "    from drug_suggestion.expression.controls import load_control_exp\n",
    "    patient_exp = pd.read_csv(setup.patient_gexp_file, index_col=0)\n",
    "    control_exp = load_control_exp(setup.expression_control)\n",
    "    log(\"About to perform DiSCoVER.\")\n",
    "    discover_results = discover_from_expression(exp=patient_exp, \n",
    "                                                control_exp=control_exp, \n",
    "                                                verbose=False, extra_outputs=True)\n",
    "    setup.raw_discover_results = discover_results\n",
    "#     pickle.dump(setup, file=open(setup.out_dir+'_backup4-0_DISCoVER.p','wb'))\n",
    "#     print(discover_results)\n",
    "    # move some files created by DiSCoVER\n",
    "#     for cl_name in ['ccle','ctrp','gdsc']:\n",
    "#         os.rename(f\"COSMIC_cell_lines_IDs_and_types_{cl_name}.csv\", os.path.join(setup.out_dir, f\"COSMIC_cell_lines_IDs_and_types_{cl_name}.csv\"))\n",
    "    \n",
    "    log(\"DiSCoVER done!\")\n",
    "    numpy2ri.deactivate()\n",
    "    \n",
    "    log(\"Moving files contaiend enrichment of cell lines\")\n",
    "    for current_file in ['cell_lines_IDs_and_types_ccle.csv','cell_lines_IDs_and_types_COSMIC_IDS_gdsc.csv','cell_lines_IDs_and_types_ctrp.csv']:\n",
    "        os.rename(current_file,os.path.join(setup.discover_out_dir,current_file))\n",
    "        log(f'Moved {current_file} to {os.path.join(setup.discover_out_dir,current_file)}')\n",
    "    \n",
    "    \n",
    "    log(\"Ranking cell lines by enrichment and saving those\")\n",
    "    ranked_diseases_from_enrichment = rank_cell_lines(setup)\n",
    "    \n",
    "    log('Saving results to file.')\n",
    "    # display(discover_results)\n",
    "    discover_results.T.sort_values(by=setup.case_id, ascending=False).to_csv(setup.full_discover_results_file)\n",
    "    log(\"Saving done!\")\n",
    "    log(\"NOT Restricting to clinically relevant drugs.\")\n",
    "    #Not all drugs in CCLE, CTRP, and GDSC are realistic candidates for treatment. We compiled a list of medications that are FDA-approved or in late-stage clinical trials, and Dr. Wechsler-Reya curated it to include only those that are relevant for treating brain tumors. Here we limit the results to these drugs and add Dr. Wechsler-Reya's mechanism-of-action annotations. To enable comparison of drug lists, drugs from the different sources have been mapped to PubChem compound IDs (CIDs) using [PubChemPy](http://pubchempy.readthedocs.io/en/latest/).\n",
    "    from drug_suggestion.drug_annotation import subset_to_reasonable_drugs\n",
    "    from drug_suggestion.expression.discover import load_discover_drug_to_cids\n",
    "    disco2cid = load_discover_drug_to_cids()\n",
    "    reasonable_results = subset_to_reasonable_drugs(discover_results, \n",
    "                                                disco2cid, \n",
    "                                                out_prefix='discover.{}'.format(setup.expression_control), \n",
    "                                                out_dir=setup.discover_out_dir)\n",
    "    # This will override the file setup.rdrugs_discover_file\n",
    "    all_drugs = format_drugs(discover_results, \n",
    "                                disco2cid, \n",
    "                                out_prefix='discover.{}'.format(setup.expression_control), \n",
    "                                out_dir=setup.discover_out_dir)\n",
    "    log('Done restricting to clinically relevant drugs!')\n",
    "    \n",
    "##     log('making a discover illustrative method')\n",
    "##     from drug_suggestion.expression.discover import plot_discover_from_expression\n",
    "##     plot_discover_from_expression(case_id, \n",
    "##                                   discover_results, \n",
    "##                                   exp=patient_exp,\n",
    "##                                   control_exp=control_exp,\n",
    "##                                   cl='ctrp',\n",
    "##                                   out_file=discover_heatmap_file)\n",
    "##     make_discover_workflow_slide(mtb_ppt_file, discover_heatmap_file)\n",
    "    log('Making the DiSCoVER powerpoint.')\n",
    "    rdrugs_discover = pd.read_csv(setup.rdrugs_discover_file, index_col=None)\n",
    "\n",
    "    \n",
    "    # Using all of the drugs\n",
    "    log('Using all of the drugs')\n",
    "    df = split_discover_dataframe(df=rdrugs_discover)\n",
    "    df = rank_drugs_discover(df)\n",
    "#     df.head()\n",
    "    make_exp_drug_ranking_results_slide(setup.mtb_ppt_file, df.head(20), setup.expression_control, method='DiSCoVER')\n",
    "    log('Done making the DiSCoVER powerpoint slide!')\n",
    "    log('Savig the variables to a file.')\n",
    "    setup.ranked_diseases_from_enrichment = ranked_diseases_from_enrichment\n",
    "    setup.discover_results = discover_results\n",
    "    setup.disco2cid = disco2cid\n",
    "    setup.control_exp = control_exp\n",
    "    setup.reasonable_results = reasonable_results\n",
    "    setup.df = df\n",
    "    log('Saving the formatted results of DiSCoVER to a csv')\n",
    "    df.to_csv(os.path.join(setup.out_dir, setup.case_id+'_formated_DISCoVER_results.csv'))\n",
    "#     pickle.dump(setup, file=open(setup.out_dir+'_backup4_DISCoVER.p','wb'))\n",
    "    pickle.dump(setup, file=open(os.path.join(setup.out_dir, setup.case_id+'_backup4_DISCoVER.p'),'wb'))\n",
    "#     pickle.dump(setup, file=open(setup.case_id+'_DISCoVER.p','wb'))\n",
    "    log('Done savig the variables to a file!')\n",
    "    \n",
    "    log('Done with all the taks in this cell. Move along.')\n",
    "    return setup"
   ]
  },
  {
   "cell_type": "code",
   "execution_count": null,
   "metadata": {},
   "outputs": [],
   "source": []
  },
  {
   "cell_type": "markdown",
   "metadata": {},
   "source": [
    "# Run CMap"
   ]
  },
  {
   "cell_type": "code",
   "execution_count": null,
   "metadata": {
    "ExecuteTime": {
     "end_time": "2019-01-08T19:34:57.939234Z",
     "start_time": "2019-01-08T19:34:03.353132Z"
    }
   },
   "outputs": [],
   "source": [
    "# delete\n",
    "case_id='BT084'\n",
    "print('======================================')\n",
    "print(\"Step 1: read_user_input\")\n",
    "print('======================================')\n",
    "setup = read_user_input(case_id, patient_dir=case_id, dna_nexus_bool=False, is_medullo=True, control='original',custom_control_expression='N/A')\n",
    "print('======================================')\n",
    "print(\"Step 2: download_and_preprocess_rnaseq\")\n",
    "print('======================================')\n",
    "setup = download_and_preprocess_rnaseq(setup)\n",
    "print('======================================')\n",
    "print(\"Step 3: classify_sample\")\n",
    "print('======================================')\n",
    "if CLASSIFY:\n",
    "    setup = classify_sample(setup)\n",
    "else:\n",
    "     print(\"These are not the analyses you are looking for. Move along!\")   \n",
    "print('======================================')\n",
    "print(\"Step 4: run_discover\")\n",
    "print('======================================')\n",
    "setup = run_discover(setup)\n",
    "print('======================================')\n",
    "print(\"Step 5: run_cmap\")\n",
    "print('======================================')\n",
    "setup = make_cmap_slide(setup)\n",
    "setup = merge_discover_and_cmap(setup)\n",
    "print(f'All analyses completed suscessfully with \"patient\" {case_id}')\n"
   ]
  },
  {
   "cell_type": "code",
   "execution_count": null,
   "metadata": {},
   "outputs": [],
   "source": []
  },
  {
   "cell_type": "code",
   "execution_count": null,
   "metadata": {},
   "outputs": [],
   "source": []
  },
  {
   "cell_type": "code",
   "execution_count": 7,
   "metadata": {
    "ExecuteTime": {
     "end_time": "2019-01-18T21:31:18.756622Z",
     "start_time": "2019-01-18T21:31:18.700660Z"
    },
    "nbtools": {
     "description": "This function parses CMap's results.",
     "name": "make_cmap_slide",
     "param_values": {
      "output_var": "setup",
      "setup": "setup"
     },
     "show_code": false,
     "type": "uibuilder"
    }
   },
   "outputs": [
    {
     "data": {
      "application/vnd.jupyter.widget-view+json": {
       "model_id": "e05f5196647f46d39df1dd0a00fa7691",
       "version_major": 2,
       "version_minor": 0
      },
      "text/plain": [
       "UIBuilder(description=\"This function parses CMap's results.\", function_import='make_cmap_slide', name='make_cm…"
      ]
     },
     "metadata": {},
     "output_type": "display_data"
    }
   ],
   "source": [
    "from cmap import make_cmap_genesets, write_cmap_genesets\n",
    "from cmap import read_cmap_gct, load_cmap_drug_to_cids\n",
    "from controls import load_control_exp\n",
    "\n",
    "@genepattern.build_ui(\n",
    "  description=\"This function parses CMap's results.\",\n",
    "  parameters={\n",
    "    \"setup\": {\"default\": \"setup\",\n",
    "              \"hide\": False,\n",
    "              \"description\": \"The variable which has the setup information\"},\n",
    "    \"output_var\": {\n",
    "        \"default\": \"setup\",\n",
    "        \"hide\": True,\n",
    "    },\n",
    "})\n",
    "def make_cmap_slide(setup):\n",
    "    log('About to parse CMap results.')\n",
    "    patient_exp = pd.read_csv(setup.patient_gexp_file, index_col=0)\n",
    "    control_exp = load_control_exp(setup.expression_control)\n",
    "    cmap_genesets = make_cmap_genesets(patient_exp, control_exp)\n",
    "    write_cmap_genesets(cmap_genesets, setup.cmap_out_dir)\n",
    "\n",
    "    # must match path to downloaded .gct file\n",
    "    cmap_gct = os.path.join(setup.cmap_out_dir, 'cmap_result.gct')\n",
    "\n",
    "    if os.path.exists(cmap_gct):\n",
    "        cmap_ranked_drugs = read_cmap_gct(cmap_gct)\n",
    "        cmap_ranked_drugs.columns = [setup.case_id]\n",
    "        cmap_ranked_drugs.to_csv(setup.cmap_all_ranked_drugs_file)\n",
    "        cmap2cid = load_cmap_drug_to_cids()\n",
    "        cmap_reasonable = subset_to_reasonable_drugs(cmap_ranked_drugs.T, \n",
    "                                   cmap2cid,\n",
    "                                   out_prefix='cmap.{}'.format(setup.expression_control), \n",
    "                                   out_dir=setup.cmap_out_dir).sort_values(by=setup.case_id, ascending=False)\n",
    "        rdrugs_cmap = pd.read_csv(setup.cmap_reasonable_ranked_drugs_file, index_col=None)\n",
    "        make_exp_drug_ranking_results_slide(setup.mtb_ppt_file, rdrugs_cmap, setup.expression_control, method='CMap')\n",
    "        setup.rdrugs_cmap = rdrugs_cmap\n",
    "        setup.cmap_flag = True\n",
    "        pickle.dump(setup, file=open(os.path.join(setup.out_dir, setup.case_id+'_backup5_CMap.p'),'wb'))\n",
    "        log(\"done!\")\n",
    "    else:\n",
    "        setup.cmap_flag = False\n",
    "        log(f\"cmap_result.gct not found! (It should be present in the directiory {setup.cmap_out_dir}).\")\n",
    "        log(\"Try again if you'd like to see CMap results.\")\n",
    "        log(\"Hint, you may want to go here:\")\n",
    "        log(\"https://clue.io/l1000-query#individual\")\n",
    "    return setup"
   ]
  },
  {
   "cell_type": "code",
   "execution_count": null,
   "metadata": {
    "ExecuteTime": {
     "end_time": "2019-01-08T19:36:02.713414Z",
     "start_time": "2019-01-08T19:35:55.244540Z"
    }
   },
   "outputs": [],
   "source": [
    "setup = make_cmap_slide(setup)"
   ]
  },
  {
   "cell_type": "code",
   "execution_count": 8,
   "metadata": {
    "ExecuteTime": {
     "end_time": "2019-01-18T21:31:18.810488Z",
     "start_time": "2019-01-18T21:31:18.759380Z"
    },
    "nbtools": {
     "description": "This function merges the results of DiSCoVER and CMap.",
     "name": "merge_discover_and_cmap",
     "param_values": {
      "output_var": "setup",
      "setup": "setup"
     },
     "show_code": false,
     "type": "uibuilder"
    }
   },
   "outputs": [
    {
     "data": {
      "application/vnd.jupyter.widget-view+json": {
       "model_id": "31784831c418476294c5a3d9953dd300",
       "version_major": 2,
       "version_minor": 0
      },
      "text/plain": [
       "UIBuilder(description='This function merges the results of DiSCoVER and CMap.', function_import='merge_discove…"
      ]
     },
     "metadata": {},
     "output_type": "display_data"
    }
   ],
   "source": [
    "def add_cmap_to_split_df(discover,cmap):\n",
    "    df = discover.rename(index=str, columns={\"score\": \"DiSCoVER\", \"moa\":\"MoA\"},inplace=False)\n",
    "    for index, row in cmap.iterrows():\n",
    "        drug = row['drug'].lower()\n",
    "        try:\n",
    "            if str(df.loc[drug,'CMAP']) != 'nan':\n",
    "                #drug already exists and a CMAP score has been added\n",
    "                df.loc[drug,'CMAP'] = np.nanmean([row['score'], df.loc[drug,'CMAP']])\n",
    "            else:\n",
    "                # drug already exists but a CMAP score has not been added\n",
    "                df.loc[drug,'CMAP'] = row['score']\n",
    "        except KeyError:\n",
    "            # drug didn't exist therefore a CMAP score had not been added\n",
    "            df.loc[drug,'CMAP'] = row['score']    \n",
    "            df.loc[drug,'MoA'] = row['moa']\n",
    "            df.loc[drug,'drug'] = 'cmap_'+drug\n",
    "        if str(df.loc[drug,'evidence'])=='nan': #numpy is not letting me use np.isnan()\n",
    "            df.loc[drug,'evidence'] = '...'+sign_to_letter[str(np.sign(row['score']))]\n",
    "        else:\n",
    "            df.loc[drug,'evidence'] = str(df.loc[drug,'evidence'])+sign_to_letter[str(np.sign(row['score']))]\n",
    "    \n",
    "    #update those rows which are not in cmap\n",
    "    for index, row in df.iterrows():\n",
    "        if len(row['evidence'])==3:\n",
    "            df.loc[index,'evidence']  = df.loc[index,'evidence']+'.'            \n",
    "    \n",
    "    return df[['drug','MoA','GDSC','CTRP','CCLE','DiSCoVER','CMAP','evidence']]\n",
    "\n",
    "\n",
    "def custom_mean(ser):\n",
    "    if pd.isna(ser['DiSCoVER']):\n",
    "        to_mean = ser['CMAP rank']\n",
    "    elif pd.isna(ser['CMAP']):\n",
    "        to_mean = ser['DiSCoVER rank']\n",
    "    else:\n",
    "        to_mean = ser[['DiSCoVER rank','CMAP rank']].mean()\n",
    "#         to_mean = np.mean(ser['DiSCoVER rank','CMAP rank'])\n",
    "    return to_mean\n",
    "\n",
    "\n",
    "def rank_combined_df(df, strict_rules = False):\n",
    "#     df['average'] = df.drop(['MoA','GDSC','CTRP','CCLE','support'],axis=1,inplace=False).mean(axis=1,skipna=True).round(3)\n",
    "    df.sort_values(by=['DiSCoVER'],ascending=False,axis=0,inplace=True)\n",
    "    df['DiSCoVER rank'] = range(1, len(df) + 1)\n",
    "    df.sort_values(by=['CMAP'],ascending=False,axis=0,inplace=True)\n",
    "    df['CMAP rank'] = range(1, len(df) + 1)\n",
    "    \n",
    "    # compute average rank\n",
    "    \n",
    "    #A simple average does not do the trick. It penalizes drugs which show up in only one of the methods\n",
    "    # df['Average rank'] = df[['DiSCoVER rank','CMAP rank']].mean(axis=1)\n",
    "    df['Average rank'] = df[['DiSCoVER','CMAP','DiSCoVER rank','CMAP rank']].apply(custom_mean, axis=1)\n",
    "    \n",
    "    df.sort_values(by=['Average rank'],ascending=True,axis=0,inplace=True)\n",
    "    \n",
    "    if strict_rules:\n",
    "        df = df[((df['DiSCoVER']>0.001).values) & ((df['CMAP']>0.001).values)]\n",
    "#     combined_df = combined_df[((combined_df['DiSCoVER']>0.001).values) & ((combined_df['CMAP']>0.001).values)]\n",
    "\n",
    "    return df.drop(['GDSC','CTRP','CCLE'],axis=1,inplace=False)\n",
    "\n",
    "@genepattern.build_ui(\n",
    "  description=\"This function merges the results of DiSCoVER and CMap.\",\n",
    "  parameters={\n",
    "    \"setup\": {\"default\": \"setup\",\n",
    "              \"hide\": False,\n",
    "              \"description\": \"The variable which has the setup information\"},\n",
    "    \"output_var\": {\n",
    "        \"default\": \"setup\",\n",
    "        \"hide\": True,\n",
    "    },\n",
    "})\n",
    "def merge_discover_and_cmap(setup):\n",
    "    if setup.cmap_flag:\n",
    "        log('Merging results from DiSCoVER and CMap.')\n",
    "        combined_df = add_cmap_to_split_df(discover=setup.df,cmap=setup.rdrugs_cmap)\n",
    "        to_slide = rank_combined_df(combined_df)\n",
    "\n",
    "        #this is commented out, since it is not used for the paper\n",
    "        make_intersection_slide(setup.mtb_ppt_file, to_slide, setup.expression_control, method='DiSCoVER ∩ CMap')\n",
    "\n",
    "        log(\"Done Merging results from DiSCoVER and CMap!\")\n",
    "        log(\"Saving combined_df and to_slide on setup variable\")\n",
    "        setup.combined_df = combined_df\n",
    "        setup.to_slide = to_slide\n",
    "        log(f\"Saving the combined DiSCoVER+CMap resuls to a csv called {setup.case_id+'_combined_DISCoVER_and_CMap_results.csv'}\")\n",
    "        setup.combined_df.to_csv(os.path.join(setup.out_dir, setup.case_id+'_combined_DISCoVER_and_CMap_results.csv'))\n",
    "        pickle.dump(setup, file=open(os.path.join(setup.out_dir, setup.case_id+'_backup6_combined_results.p'),'wb'))\n",
    "        log(\"Done done!\")\n",
    "        \n",
    "    else:\n",
    "        log('CMap has not run! Nothing to do here.')\n",
    "    \n",
    "    return setup"
   ]
  },
  {
   "cell_type": "code",
   "execution_count": null,
   "metadata": {},
   "outputs": [],
   "source": []
  },
  {
   "cell_type": "code",
   "execution_count": null,
   "metadata": {
    "ExecuteTime": {
     "end_time": "2019-01-09T17:39:37.395390Z",
     "start_time": "2019-01-09T17:39:37.318600Z"
    }
   },
   "outputs": [],
   "source": [
    "setup.to_slide"
   ]
  },
  {
   "cell_type": "code",
   "execution_count": null,
   "metadata": {
    "ExecuteTime": {
     "end_time": "2019-01-09T17:40:58.812815Z",
     "start_time": "2019-01-09T17:40:58.775231Z"
    }
   },
   "outputs": [],
   "source": [
    "d_names = [\n",
    "'monafide',\n",
    "'bx-912',\n",
    "'linsitinib',\n",
    "'ABT-737',\n",
    "'anisomycin',\n",
    "'GSK1070916',\n",
    "'topotecan',\n",
    "'etoposide'\n",
    "]\n",
    "\n",
    "d_names = [x.lower() for x in d_names]"
   ]
  },
  {
   "cell_type": "code",
   "execution_count": null,
   "metadata": {
    "ExecuteTime": {
     "end_time": "2019-01-09T17:40:59.303489Z",
     "start_time": "2019-01-09T17:40:59.243255Z"
    }
   },
   "outputs": [],
   "source": [
    "setup.combined_df[setup.combined_df.index.isin(d_names)]"
   ]
  },
  {
   "cell_type": "code",
   "execution_count": null,
   "metadata": {},
   "outputs": [],
   "source": []
  },
  {
   "cell_type": "code",
   "execution_count": null,
   "metadata": {},
   "outputs": [],
   "source": []
  }
 ],
 "metadata": {
  "kernelspec": {
   "display_name": "Python 3",
   "language": "python",
   "name": "python3"
  },
  "language_info": {
   "codemirror_mode": {
    "name": "ipython",
    "version": 3
   },
   "file_extension": ".py",
   "mimetype": "text/x-python",
   "name": "python",
   "nbconvert_exporter": "python",
   "pygments_lexer": "ipython3",
   "version": "3.6.3"
  }
 },
 "nbformat": 4,
 "nbformat_minor": 2
}
