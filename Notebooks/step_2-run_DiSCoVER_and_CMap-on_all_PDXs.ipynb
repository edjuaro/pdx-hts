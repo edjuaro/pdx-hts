{
 "cells": [
  {
   "cell_type": "markdown",
   "metadata": {},
   "source": [
    "## RNASeq workflow for PDX-HTS paper\n"
   ]
  },
  {
   "cell_type": "markdown",
   "metadata": {},
   "source": [
    "This notebook contains all the analyses..."
   ]
  },
  {
   "cell_type": "code",
   "execution_count": 9,
   "metadata": {
    "ExecuteTime": {
     "end_time": "2019-01-16T21:02:15.607023Z",
     "start_time": "2019-01-16T21:02:15.553500Z"
    }
   },
   "outputs": [],
   "source": [
    "# Performing common imports ... a few other imports are made automatically by UIBuilder cells bellow. Don't delete them!\n",
    "from common_imports import *"
   ]
  },
  {
   "cell_type": "code",
   "execution_count": 10,
   "metadata": {
    "ExecuteTime": {
     "end_time": "2019-01-16T21:02:16.538200Z",
     "start_time": "2019-01-16T21:02:16.504685Z"
    }
   },
   "outputs": [],
   "source": [
    "#Setting the random number generator seed. This is used by Sklearn's Random Forrest Classifier. Not a crucial part of the pipeline, more like an optional display -- but reproducibility is imperative\n",
    "np.random.seed(0)"
   ]
  },
  {
   "cell_type": "code",
   "execution_count": 11,
   "metadata": {
    "ExecuteTime": {
     "end_time": "2019-01-16T21:02:18.042601Z",
     "start_time": "2019-01-16T21:02:18.006940Z"
    }
   },
   "outputs": [],
   "source": [
    "CLASSIFY = False\n",
    "RUN_DISCOVER = True"
   ]
  },
  {
   "cell_type": "code",
   "execution_count": 12,
   "metadata": {
    "ExecuteTime": {
     "end_time": "2019-01-16T21:02:18.850469Z",
     "start_time": "2019-01-16T21:02:18.808882Z"
    }
   },
   "outputs": [],
   "source": [
    "def run_pipeline(case_id):\n",
    "    print('======================================')\n",
    "    print(\"Step 1: read_user_input\")\n",
    "    print('======================================')\n",
    "    setup = read_user_input(case_id, patient_dir=case_id, dna_nexus_bool=False, is_medullo=True, control='original',custom_control_expression='N/A')\n",
    "    print('======================================')\n",
    "    print(\"Step 2: download_and_preprocess_rnaseq\")\n",
    "    print('======================================')\n",
    "    setup = download_and_preprocess_rnaseq(setup)\n",
    "    print('======================================')\n",
    "    print(\"Step 3: classify_sample\")\n",
    "    print('======================================')\n",
    "    if CLASSIFY:\n",
    "        setup = classify_sample(setup)\n",
    "    else:\n",
    "         print(\"These are not the analyses you are looking for. Move along!\")   \n",
    "    print('======================================')\n",
    "    print(\"Step 4: run_discover\")\n",
    "    print('======================================')\n",
    "    if RUN_DISCOVER:\n",
    "        setup = run_discover(setup)\n",
    "    else:\n",
    "        print(\"These are not the analyses you are looking for. Move along!\") \n",
    "        setup = pickle.load(file=open(os.path.join(setup.out_dir, setup.case_id+'_backup4_DISCoVER.p'),'rb'))\n",
    "    print('======================================')\n",
    "#     print(\"Step 5: run_cmap\")\n",
    "#     print('======================================')\n",
    "#     setup = make_cmap_slide(setup)\n",
    "#     setup = merge_discover_and_cmap(setup)\n",
    "    print(f'All analyses completed suscessfully with \"patient\" {case_id}')\n",
    "    return"
   ]
  },
  {
   "cell_type": "code",
   "execution_count": 13,
   "metadata": {
    "ExecuteTime": {
     "end_time": "2019-01-16T21:03:15.151086Z",
     "start_time": "2019-01-16T21:02:19.910048Z"
    }
   },
   "outputs": [
    {
     "name": "stdout",
     "output_type": "stream",
     "text": [
      "======================================\n",
      "Step 1: read_user_input\n",
      "======================================\n",
      "Reminder: if you want to use a custom control expresion, you must set control to 'custom'\n",
      "==> Setting patient_dir = case_id\n",
      "Setup done!\n",
      "======================================\n",
      "Step 2: download_and_preprocess_rnaseq\n",
      "======================================\n",
      "==> Checking if local file (/pdx-hts/Notebooks/data/preprocessed/exp/BT084.csv) exist.\n",
      "==> This file containes the expression of the PDXs. Printing dataframe's info:\n",
      "<class 'pandas.core.frame.DataFrame'>\n",
      "Index: 1 entries, BT084 to BT084\n",
      "Columns: 16247 entries, A1BG to ZZZ3\n",
      "dtypes: float64(16247)\n",
      "memory usage: 126.9+ KB\n",
      "==> None\n",
      "==> File /pdx-hts/Notebooks/patients/BT084/gene_abundance.sleuth.csv saved successfully\n",
      "==> Done preprocessing!\n",
      "======================================\n",
      "Step 3: classify_sample\n",
      "======================================\n",
      "These are not the analyses you are looking for. Move along!\n",
      "======================================\n",
      "Step 4: run_discover\n",
      "======================================\n",
      "==> About to perform DiSCoVER.\n",
      "Writing file: cell_lines_IDs_and_types_ctrp.csv\n",
      "Writing file: cell_lines_IDs_and_types_COSMIC_IDS_gdsc.csv\n",
      "Writing file: cell_lines_IDs_and_types_ccle.csv\n",
      "==> DiSCoVER done!\n",
      "==> Moving files contaiend enrichment of cell lines\n",
      "==> Moved cell_lines_IDs_and_types_ccle.csv to /pdx-hts/Notebooks/patients/BT084/drug_suggestions/discover/cerebellar_stem/cell_lines_IDs_and_types_ccle.csv\n",
      "==> Moved cell_lines_IDs_and_types_COSMIC_IDS_gdsc.csv to /pdx-hts/Notebooks/patients/BT084/drug_suggestions/discover/cerebellar_stem/cell_lines_IDs_and_types_COSMIC_IDS_gdsc.csv\n",
      "==> Moved cell_lines_IDs_and_types_ctrp.csv to /pdx-hts/Notebooks/patients/BT084/drug_suggestions/discover/cerebellar_stem/cell_lines_IDs_and_types_ctrp.csv\n",
      "==> Ranking cell lines by enrichment and saving those\n",
      "==> CCLE is missing 3 cell lines (out of 475)\n",
      "==> CTRP is missing 5 cell lines (out of 633)\n",
      "==> Saving results to file.\n",
      "==> Saving done!\n",
      "==> NOT Restricting to clinically relevant drugs.\n",
      "==> Done restricting to clinically relevant drugs!\n",
      "==> Making the DiSCoVER powerpoint.\n",
      "==> Using all of the drugs\n",
      "==> Done making the DiSCoVER powerpoint slide!\n",
      "==> Savig the variables to a file.\n",
      "==> Saving the formatted results of DiSCoVER to a csv\n",
      "==> Done savig the variables to a file!\n",
      "==> Done with all the taks in this cell. Move along.\n",
      "======================================\n",
      "All analyses completed suscessfully with \"patient\" BT084\n"
     ]
    }
   ],
   "source": [
    "# \"BT084\"\n",
    "run_pipeline('BT084')"
   ]
  },
  {
   "cell_type": "code",
   "execution_count": 21,
   "metadata": {
    "ExecuteTime": {
     "end_time": "2019-01-09T20:44:11.771153Z",
     "start_time": "2019-01-09T20:43:56.798506Z"
    },
    "scrolled": false
   },
   "outputs": [
    {
     "name": "stdout",
     "output_type": "stream",
     "text": [
      "======================================\n",
      "Step 1: read_user_input\n",
      "======================================\n",
      "Reminder: if you want to use a custom control expresion, you must set control to 'custom'\n",
      "==> Setting patient_dir = case_id\n",
      "Setup done!\n",
      "======================================\n",
      "Step 2: download_and_preprocess_rnaseq\n",
      "======================================\n",
      "==> Checking if local file (/pdx-hts/Notebooks/data/preprocessed/exp/DMB006.csv) exist.\n",
      "==> This file containes the expression of the PDXs. Printing dataframe's info:\n",
      "<class 'pandas.core.frame.DataFrame'>\n",
      "Index: 1 entries, DMB006 to DMB006\n",
      "Columns: 16247 entries, A1BG to ZZZ3\n",
      "dtypes: float64(16247)\n",
      "memory usage: 126.9+ KB\n",
      "==> None\n",
      "==> File /pdx-hts/Notebooks/patients/DMB006/gene_abundance.sleuth.csv saved successfully\n",
      "==> Done preprocessing!\n",
      "======================================\n",
      "Step 3: classify_sample\n",
      "======================================\n",
      "These are not the analyses you are looking for. Move along!\n",
      "======================================\n",
      "Step 4: run_discover\n",
      "======================================\n",
      "These are not the analyses you are looking for. Move along!\n",
      "======================================\n",
      "Step 5: run_cmap\n",
      "======================================\n",
      "==> About to parse CMap results.\n"
     ]
    },
    {
     "name": "stderr",
     "output_type": "stream",
     "text": [
      "/opt/conda/lib/python3.6/site-packages/pandas/core/indexing.py:1020: FutureWarning: \n",
      "Passing list-likes to .loc or [] with any missing label will raise\n",
      "KeyError in the future, you can use .reindex() as an alternative.\n",
      "\n",
      "See the documentation here:\n",
      "http://pandas.pydata.org/pandas-docs/stable/indexing.html#deprecate-loc-reindex-listlike\n",
      "  return getattr(section, self.name)[new_key]\n",
      "/opt/conda/lib/python3.6/site-packages/pandas/util/_decorators.py:118: FutureWarning: The `sheetname` keyword is deprecated, use `sheet_name` instead\n",
      "  return func(*args, **kwargs)\n"
     ]
    },
    {
     "name": "stdout",
     "output_type": "stream",
     "text": [
      "==> done!\n",
      "==> Merging results from DiSCoVER and CMap.\n",
      "done!\n",
      "==> Done Merging results from DiSCoVER and CMap!\n",
      "==> Saving combined_df and to_slide on setup variable\n",
      "==> Saving the combined DiSCoVER+CMap resuls to a csv called DMB006_combined_DISCoVER_and_CMap_results.csv\n",
      "==> Done done!\n",
      "All analyses completed suscessfully with \"patient\" DMB006\n"
     ]
    }
   ],
   "source": [
    "# \"DMB006\": \"DMB006\",\n",
    "run_pipeline(\"DMB006\")"
   ]
  },
  {
   "cell_type": "code",
   "execution_count": 22,
   "metadata": {
    "ExecuteTime": {
     "end_time": "2019-01-09T20:44:25.046918Z",
     "start_time": "2019-01-09T20:44:11.776899Z"
    }
   },
   "outputs": [
    {
     "name": "stdout",
     "output_type": "stream",
     "text": [
      "======================================\n",
      "Step 1: read_user_input\n",
      "======================================\n",
      "Reminder: if you want to use a custom control expresion, you must set control to 'custom'\n",
      "==> Setting patient_dir = case_id\n",
      "Setup done!\n",
      "======================================\n",
      "Step 2: download_and_preprocess_rnaseq\n",
      "======================================\n",
      "==> Checking if local file (/pdx-hts/Notebooks/data/preprocessed/exp/ICB984.csv) exist.\n",
      "==> This file containes the expression of the PDXs. Printing dataframe's info:\n",
      "<class 'pandas.core.frame.DataFrame'>\n",
      "Index: 1 entries, ICB984 to ICB984\n",
      "Columns: 16247 entries, A1BG to ZZZ3\n",
      "dtypes: float64(16247)\n",
      "memory usage: 126.9+ KB\n",
      "==> None\n",
      "==> File /pdx-hts/Notebooks/patients/ICB984/gene_abundance.sleuth.csv saved successfully\n",
      "==> Done preprocessing!\n",
      "======================================\n",
      "Step 3: classify_sample\n",
      "======================================\n",
      "These are not the analyses you are looking for. Move along!\n",
      "======================================\n",
      "Step 4: run_discover\n",
      "======================================\n",
      "These are not the analyses you are looking for. Move along!\n",
      "======================================\n",
      "Step 5: run_cmap\n",
      "======================================\n",
      "==> About to parse CMap results.\n"
     ]
    },
    {
     "name": "stderr",
     "output_type": "stream",
     "text": [
      "/opt/conda/lib/python3.6/site-packages/pandas/core/indexing.py:1020: FutureWarning: \n",
      "Passing list-likes to .loc or [] with any missing label will raise\n",
      "KeyError in the future, you can use .reindex() as an alternative.\n",
      "\n",
      "See the documentation here:\n",
      "http://pandas.pydata.org/pandas-docs/stable/indexing.html#deprecate-loc-reindex-listlike\n",
      "  return getattr(section, self.name)[new_key]\n",
      "/opt/conda/lib/python3.6/site-packages/pandas/util/_decorators.py:118: FutureWarning: The `sheetname` keyword is deprecated, use `sheet_name` instead\n",
      "  return func(*args, **kwargs)\n"
     ]
    },
    {
     "name": "stdout",
     "output_type": "stream",
     "text": [
      "==> done!\n",
      "==> Merging results from DiSCoVER and CMap.\n",
      "done!\n",
      "==> Done Merging results from DiSCoVER and CMap!\n",
      "==> Saving combined_df and to_slide on setup variable\n",
      "==> Saving the combined DiSCoVER+CMap resuls to a csv called ICB984_combined_DISCoVER_and_CMap_results.csv\n",
      "==> Done done!\n",
      "All analyses completed suscessfully with \"patient\" ICB984\n"
     ]
    }
   ],
   "source": [
    "# \"ICB984\": \"ICB984\",\n",
    "run_pipeline(\"ICB984\")"
   ]
  },
  {
   "cell_type": "code",
   "execution_count": 23,
   "metadata": {
    "ExecuteTime": {
     "end_time": "2019-01-09T20:44:39.890288Z",
     "start_time": "2019-01-09T20:44:25.064213Z"
    }
   },
   "outputs": [
    {
     "name": "stdout",
     "output_type": "stream",
     "text": [
      "======================================\n",
      "Step 1: read_user_input\n",
      "======================================\n",
      "Reminder: if you want to use a custom control expresion, you must set control to 'custom'\n",
      "==> Setting patient_dir = case_id\n",
      "Setup done!\n",
      "======================================\n",
      "Step 2: download_and_preprocess_rnaseq\n",
      "======================================\n",
      "==> Checking if local file (/pdx-hts/Notebooks/data/preprocessed/exp/ICB1299.csv) exist.\n",
      "==> This file containes the expression of the PDXs. Printing dataframe's info:\n",
      "<class 'pandas.core.frame.DataFrame'>\n",
      "Index: 1 entries, ICB1299 to ICB1299\n",
      "Columns: 16247 entries, A1BG to ZZZ3\n",
      "dtypes: float64(16247)\n",
      "memory usage: 126.9+ KB\n",
      "==> None\n",
      "==> File /pdx-hts/Notebooks/patients/ICB1299/gene_abundance.sleuth.csv saved successfully\n",
      "==> Done preprocessing!\n",
      "======================================\n",
      "Step 3: classify_sample\n",
      "======================================\n",
      "These are not the analyses you are looking for. Move along!\n",
      "======================================\n",
      "Step 4: run_discover\n",
      "======================================\n",
      "These are not the analyses you are looking for. Move along!\n",
      "======================================\n",
      "Step 5: run_cmap\n",
      "======================================\n",
      "==> About to parse CMap results.\n"
     ]
    },
    {
     "name": "stderr",
     "output_type": "stream",
     "text": [
      "/opt/conda/lib/python3.6/site-packages/pandas/core/indexing.py:1020: FutureWarning: \n",
      "Passing list-likes to .loc or [] with any missing label will raise\n",
      "KeyError in the future, you can use .reindex() as an alternative.\n",
      "\n",
      "See the documentation here:\n",
      "http://pandas.pydata.org/pandas-docs/stable/indexing.html#deprecate-loc-reindex-listlike\n",
      "  return getattr(section, self.name)[new_key]\n",
      "/opt/conda/lib/python3.6/site-packages/pandas/util/_decorators.py:118: FutureWarning: The `sheetname` keyword is deprecated, use `sheet_name` instead\n",
      "  return func(*args, **kwargs)\n"
     ]
    },
    {
     "name": "stdout",
     "output_type": "stream",
     "text": [
      "==> done!\n",
      "==> Merging results from DiSCoVER and CMap.\n",
      "done!\n",
      "==> Done Merging results from DiSCoVER and CMap!\n",
      "==> Saving combined_df and to_slide on setup variable\n",
      "==> Saving the combined DiSCoVER+CMap resuls to a csv called ICB1299_combined_DISCoVER_and_CMap_results.csv\n",
      "==> Done done!\n",
      "All analyses completed suscessfully with \"patient\" ICB1299\n"
     ]
    }
   ],
   "source": [
    "# \"ICB1299\": \"ICB1299\",\n",
    "run_pipeline(\"ICB1299\")"
   ]
  },
  {
   "cell_type": "code",
   "execution_count": 243,
   "metadata": {
    "ExecuteTime": {
     "end_time": "2019-01-11T21:09:12.415133Z",
     "start_time": "2019-01-11T21:09:12.252073Z"
    }
   },
   "outputs": [
    {
     "data": {
      "text/html": [
       "<div>\n",
       "<style scoped>\n",
       "    .dataframe tbody tr th:only-of-type {\n",
       "        vertical-align: middle;\n",
       "    }\n",
       "\n",
       "    .dataframe tbody tr th {\n",
       "        vertical-align: top;\n",
       "    }\n",
       "\n",
       "    .dataframe thead th {\n",
       "        text-align: right;\n",
       "    }\n",
       "</style>\n",
       "<table border=\"1\" class=\"dataframe\">\n",
       "  <thead>\n",
       "    <tr style=\"text-align: right;\">\n",
       "      <th></th>\n",
       "      <th>CellosaurusID</th>\n",
       "      <th>CosmicIDs</th>\n",
       "      <th>Databases</th>\n",
       "      <th>Disease</th>\n",
       "      <th>Names</th>\n",
       "    </tr>\n",
       "  </thead>\n",
       "  <tbody>\n",
       "    <tr>\n",
       "      <th>CVCL_D231</th>\n",
       "      <td>[CVCL_D231]</td>\n",
       "      <td>[889083, 946049, 1066155]</td>\n",
       "      <td>[ChEMBL-Cells, ChEMBL-Targets, Cosmic, Cosmic,...</td>\n",
       "      <td>Lung adenocarcinoma</td>\n",
       "      <td>[1-87]</td>\n",
       "    </tr>\n",
       "    <tr>\n",
       "      <th>CVCL_7942</th>\n",
       "      <td>[CVCL_7942]</td>\n",
       "      <td>[876687, 905206]</td>\n",
       "      <td>[CGH-DB, Cosmic, Cosmic, Wikidata]</td>\n",
       "      <td>Melanoma</td>\n",
       "      <td>[1011-mel, 1011-MEL, 1011 mel, 1011mel, 1011, ...</td>\n",
       "    </tr>\n",
       "    <tr>\n",
       "      <th>CVCL_4806</th>\n",
       "      <td>[CVCL_4806]</td>\n",
       "      <td>[721372]</td>\n",
       "      <td>[Cosmic, Wikidata]</td>\n",
       "      <td>Prostate carcinoma</td>\n",
       "      <td>[1013L, 1013-L]</td>\n",
       "    </tr>\n",
       "    <tr>\n",
       "      <th>CVCL_8029</th>\n",
       "      <td>[CVCL_8029]</td>\n",
       "      <td>[876702]</td>\n",
       "      <td>[Cosmic, Wikidata]</td>\n",
       "      <td>Melanoma</td>\n",
       "      <td>[1088-mel, 1088-MEL, 1088 Mel, 1088 mel, 1088]</td>\n",
       "    </tr>\n",
       "    <tr>\n",
       "      <th>CVCL_VJ83</th>\n",
       "      <td>[CVCL_VJ83]</td>\n",
       "      <td>[2543722]</td>\n",
       "      <td>[Cosmic]</td>\n",
       "      <td>Cutaneous melanoma</td>\n",
       "      <td>[10CM, 10 CM]</td>\n",
       "    </tr>\n",
       "    <tr>\n",
       "      <th>CVCL_D856</th>\n",
       "      <td>[CVCL_D856]</td>\n",
       "      <td>[1731373]</td>\n",
       "      <td>[Cosmic, Wikidata]</td>\n",
       "      <td>Lung adenocarcinoma</td>\n",
       "      <td>[11-18-ER1-7, 11-18/ER1-7]</td>\n",
       "    </tr>\n",
       "    <tr>\n",
       "      <th>CVCL_D857</th>\n",
       "      <td>[CVCL_D857]</td>\n",
       "      <td>[1731374]</td>\n",
       "      <td>[Cosmic, Wikidata]</td>\n",
       "      <td>Lung adenocarcinoma</td>\n",
       "      <td>[11-18-ER2-1, 11-18/ER2-1]</td>\n",
       "    </tr>\n",
       "    <tr>\n",
       "      <th>CVCL_D776</th>\n",
       "      <td>[CVCL_D776]</td>\n",
       "      <td>[1731375]</td>\n",
       "      <td>[Cosmic, Wikidata]</td>\n",
       "      <td>Lung adenocarcinoma</td>\n",
       "      <td>[11-18-GEF10-1, 11-18/GEF10-1]</td>\n",
       "    </tr>\n",
       "    <tr>\n",
       "      <th>CVCL_D777</th>\n",
       "      <td>[CVCL_D777]</td>\n",
       "      <td>[1731376]</td>\n",
       "      <td>[Cosmic, Wikidata]</td>\n",
       "      <td>Lung adenocarcinoma</td>\n",
       "      <td>[11-18-GEF20-1, 11-18/GEF20-1]</td>\n",
       "    </tr>\n",
       "    <tr>\n",
       "      <th>CVCL_S745</th>\n",
       "      <td>[CVCL_S745]</td>\n",
       "      <td>[1890459]</td>\n",
       "      <td>[Cosmic, Wikidata]</td>\n",
       "      <td>Lung adenocarcinoma</td>\n",
       "      <td>[11-18/R, 11-18R, 11-18/ER]</td>\n",
       "    </tr>\n",
       "    <tr>\n",
       "      <th>CVCL_8030</th>\n",
       "      <td>[CVCL_8030]</td>\n",
       "      <td>[905207, 972280]</td>\n",
       "      <td>[BTO, CGH-DB, Cosmic, Cosmic, GEO, Wikidata]</td>\n",
       "      <td>Melanoma</td>\n",
       "      <td>[1102-mel, 1102-MEL, 1102 mel, 1102mel, 1102, ...</td>\n",
       "    </tr>\n",
       "    <tr>\n",
       "      <th>CVCL_8031</th>\n",
       "      <td>[CVCL_8031]</td>\n",
       "      <td>[876688]</td>\n",
       "      <td>[Cosmic, Wikidata]</td>\n",
       "      <td>Melanoma</td>\n",
       "      <td>[1143-mel, 1143-MEL, 1143 mel, 1143]</td>\n",
       "    </tr>\n",
       "    <tr>\n",
       "      <th>CVCL_8033</th>\n",
       "      <td>[CVCL_8033]</td>\n",
       "      <td>[876689]</td>\n",
       "      <td>[Cosmic, GEO, Wikidata]</td>\n",
       "      <td>Melanoma</td>\n",
       "      <td>[1195-mel, 1195-MEL, 1195 mel, 1195]</td>\n",
       "    </tr>\n",
       "    <tr>\n",
       "      <th>CVCL_8034</th>\n",
       "      <td>[CVCL_8034]</td>\n",
       "      <td>[876690]</td>\n",
       "      <td>[Cosmic, Wikidata]</td>\n",
       "      <td>Melanoma</td>\n",
       "      <td>[1199-mel, 1199-MEL, 1199 mel, 1199]</td>\n",
       "    </tr>\n",
       "    <tr>\n",
       "      <th>CVCL_VJ84</th>\n",
       "      <td>[CVCL_VJ84]</td>\n",
       "      <td>[2543723]</td>\n",
       "      <td>[Cosmic]</td>\n",
       "      <td>Cutaneous melanoma</td>\n",
       "      <td>[11CM, 11 CM]</td>\n",
       "    </tr>\n",
       "    <tr>\n",
       "      <th>CVCL_5239</th>\n",
       "      <td>[CVCL_5239]</td>\n",
       "      <td>[686410, 905861, 972275, 1155274, 1155554, 118...</td>\n",
       "      <td>[BTO, CLO, EFO, ATCC, BioSample, Coriell, Cosm...</td>\n",
       "      <td>Melanoma</td>\n",
       "      <td>[1205Lu, 1205-Lu, 1205 Lu, WM 1205LU, WM-1205L...</td>\n",
       "    </tr>\n",
       "    <tr>\n",
       "      <th>CVCL_N588</th>\n",
       "      <td>[CVCL_N588]</td>\n",
       "      <td>[2307723]</td>\n",
       "      <td>[Cosmic, Wikidata]</td>\n",
       "      <td>Synovial sarcoma</td>\n",
       "      <td>[1273/99, 1273]</td>\n",
       "    </tr>\n",
       "    <tr>\n",
       "      <th>CVCL_8036</th>\n",
       "      <td>[CVCL_8036]</td>\n",
       "      <td>[876691]</td>\n",
       "      <td>[Cosmic, Wikidata]</td>\n",
       "      <td>Melanoma</td>\n",
       "      <td>[1280-mel, 1280-MEL, 1280 mel, 1280]</td>\n",
       "    </tr>\n",
       "    <tr>\n",
       "      <th>CVCL_7943</th>\n",
       "      <td>[CVCL_7943]</td>\n",
       "      <td>[876682, 877280, 1042622]</td>\n",
       "      <td>[Cosmic, Cosmic, Cosmic, GEO, GEO, GEO, Wikidata]</td>\n",
       "      <td>Melanoma</td>\n",
       "      <td>[1290-mel, 1290-MEL, 1290 mel, 1290, MG-1290, ...</td>\n",
       "    </tr>\n",
       "    <tr>\n",
       "      <th>CVCL_0Q73</th>\n",
       "      <td>[CVCL_0Q73]</td>\n",
       "      <td>[1432838]</td>\n",
       "      <td>[BTO, Cosmic, Wikidata]</td>\n",
       "      <td>Endometriosis</td>\n",
       "      <td>[12Z, 12z, 12-Z, Z12, Z-12]</td>\n",
       "    </tr>\n",
       "    <tr>\n",
       "      <th>CVCL_8039</th>\n",
       "      <td>[CVCL_8039]</td>\n",
       "      <td>[876703]</td>\n",
       "      <td>[Cosmic, Wikidata]</td>\n",
       "      <td>Melanoma</td>\n",
       "      <td>[1300-mel, 1300-MEL, 1300 mel, 1300]</td>\n",
       "    </tr>\n",
       "    <tr>\n",
       "      <th>CVCL_2265</th>\n",
       "      <td>[CVCL_2265]</td>\n",
       "      <td>[2402466]</td>\n",
       "      <td>[CLO, CLDB, CCRID, Cosmic, ECACC, ICLC, NCBI_I...</td>\n",
       "      <td>Childhood T acute lymphoblastic leukemia</td>\n",
       "      <td>[1301]</td>\n",
       "    </tr>\n",
       "    <tr>\n",
       "      <th>CVCL_8040</th>\n",
       "      <td>[CVCL_8040]</td>\n",
       "      <td>[876692]</td>\n",
       "      <td>[Cosmic, Wikidata]</td>\n",
       "      <td>Melanoma</td>\n",
       "      <td>[1317-mel, 1317-MEL, 1317 mel, 1317]</td>\n",
       "    </tr>\n",
       "    <tr>\n",
       "      <th>CVCL_Z019</th>\n",
       "      <td>[CVCL_Z019]</td>\n",
       "      <td>[876693]</td>\n",
       "      <td>[Cosmic, Wikidata]</td>\n",
       "      <td>Melanoma</td>\n",
       "      <td>[1335-mel, 1335-MEL]</td>\n",
       "    </tr>\n",
       "    <tr>\n",
       "      <th>CVCL_Z020</th>\n",
       "      <td>[CVCL_Z020]</td>\n",
       "      <td>[876694]</td>\n",
       "      <td>[Cosmic, Wikidata]</td>\n",
       "      <td>Melanoma</td>\n",
       "      <td>[1352-mel, 1352-MEL]</td>\n",
       "    </tr>\n",
       "    <tr>\n",
       "      <th>CVCL_8041</th>\n",
       "      <td>[CVCL_8041]</td>\n",
       "      <td>[2163791]</td>\n",
       "      <td>[Cosmic, ESTDAB, Wikidata]</td>\n",
       "      <td>Melanoma</td>\n",
       "      <td>[1359-mel, 1359-MEL, 1359 mel, 1359, Mel-1359]</td>\n",
       "    </tr>\n",
       "    <tr>\n",
       "      <th>CVCL_W281</th>\n",
       "      <td>[CVCL_W281]</td>\n",
       "      <td>[1418452]</td>\n",
       "      <td>[Cosmic, Wikidata]</td>\n",
       "      <td>Melanoma</td>\n",
       "      <td>[136-2]</td>\n",
       "    </tr>\n",
       "    <tr>\n",
       "      <th>CVCL_S560</th>\n",
       "      <td>[CVCL_S560]</td>\n",
       "      <td>[905208]</td>\n",
       "      <td>[CGH-DB, Cosmic, Wikidata]</td>\n",
       "      <td>Melanoma</td>\n",
       "      <td>[1362-mel, 1362-MEL, 1362 mel, 1362mel]</td>\n",
       "    </tr>\n",
       "    <tr>\n",
       "      <th>CVCL_8042</th>\n",
       "      <td>[CVCL_8042]</td>\n",
       "      <td>[876704]</td>\n",
       "      <td>[Cosmic, Wikidata]</td>\n",
       "      <td>Melanoma</td>\n",
       "      <td>[1363-mel, 1363-MEL, 1363 mel, 1363]</td>\n",
       "    </tr>\n",
       "    <tr>\n",
       "      <th>CVCL_8043</th>\n",
       "      <td>[CVCL_8043]</td>\n",
       "      <td>[876695]</td>\n",
       "      <td>[Cosmic, Wikidata]</td>\n",
       "      <td>Melanoma</td>\n",
       "      <td>[1376-mel, 1376-MEL, 1376 mel, 1376]</td>\n",
       "    </tr>\n",
       "    <tr>\n",
       "      <th>...</th>\n",
       "      <td>...</td>\n",
       "      <td>...</td>\n",
       "      <td>...</td>\n",
       "      <td>...</td>\n",
       "      <td>...</td>\n",
       "    </tr>\n",
       "    <tr>\n",
       "      <th>CVCL_J069</th>\n",
       "      <td>[CVCL_J069]</td>\n",
       "      <td>[1548869, 2439355]</td>\n",
       "      <td>[Cosmic, Cosmic, Wikidata]</td>\n",
       "      <td>Cutaneous melanoma</td>\n",
       "      <td>[YUPLA]</td>\n",
       "    </tr>\n",
       "    <tr>\n",
       "      <th>CVCL_EI23</th>\n",
       "      <td>[CVCL_EI23]</td>\n",
       "      <td>[2439356]</td>\n",
       "      <td>[Cosmic, Wikidata]</td>\n",
       "      <td>Cutaneous melanoma</td>\n",
       "      <td>[YUPOM]</td>\n",
       "    </tr>\n",
       "    <tr>\n",
       "      <th>CVCL_B485</th>\n",
       "      <td>[CVCL_B485]</td>\n",
       "      <td>[1197391, 1548870, 2013572]</td>\n",
       "      <td>[Cosmic, Cosmic, Cosmic, Wikidata]</td>\n",
       "      <td>Cutaneous melanoma</td>\n",
       "      <td>[YURIF]</td>\n",
       "    </tr>\n",
       "    <tr>\n",
       "      <th>CVCL_B486</th>\n",
       "      <td>[CVCL_B486]</td>\n",
       "      <td>[1548871, 2439361]</td>\n",
       "      <td>[Cosmic, Cosmic, Wikidata]</td>\n",
       "      <td>Cutaneous melanoma</td>\n",
       "      <td>[YUROB]</td>\n",
       "    </tr>\n",
       "    <tr>\n",
       "      <th>CVCL_J070</th>\n",
       "      <td>[CVCL_J070]</td>\n",
       "      <td>[1548872, 2439364]</td>\n",
       "      <td>[Cosmic, Cosmic, Wikidata]</td>\n",
       "      <td>Cutaneous melanoma</td>\n",
       "      <td>[YUROL]</td>\n",
       "    </tr>\n",
       "    <tr>\n",
       "      <th>CVCL_A746</th>\n",
       "      <td>[CVCL_A746]</td>\n",
       "      <td>[1197388]</td>\n",
       "      <td>[Cosmic, Wikidata]</td>\n",
       "      <td>Melanoma</td>\n",
       "      <td>[YUSAC2, YUSAC-2, YUSAC 2, YUSAC]</td>\n",
       "    </tr>\n",
       "    <tr>\n",
       "      <th>CVCL_J526</th>\n",
       "      <td>[CVCL_J526]</td>\n",
       "      <td>[1548873]</td>\n",
       "      <td>[Cosmic, Wikidata]</td>\n",
       "      <td>Mucosal melanoma</td>\n",
       "      <td>[YUSAN]</td>\n",
       "    </tr>\n",
       "    <tr>\n",
       "      <th>CVCL_B487</th>\n",
       "      <td>[CVCL_B487]</td>\n",
       "      <td>[1548874]</td>\n",
       "      <td>[Cosmic, Wikidata]</td>\n",
       "      <td>Cutaneous melanoma</td>\n",
       "      <td>[YUSIK]</td>\n",
       "    </tr>\n",
       "    <tr>\n",
       "      <th>CVCL_EI16</th>\n",
       "      <td>[CVCL_EI16]</td>\n",
       "      <td>[2439372]</td>\n",
       "      <td>[Cosmic, Wikidata]</td>\n",
       "      <td>Cutaneous melanoma</td>\n",
       "      <td>[YUSIPU]</td>\n",
       "    </tr>\n",
       "    <tr>\n",
       "      <th>CVCL_A747</th>\n",
       "      <td>[CVCL_A747]</td>\n",
       "      <td>[1197389, 1921229, 2439373]</td>\n",
       "      <td>[Cosmic, Cosmic, Cosmic, Wikidata]</td>\n",
       "      <td>Melanoma</td>\n",
       "      <td>[YUSIT1, YUSIT-1, YUSIT 1, Yusit-1, YUSITI, Yu...</td>\n",
       "    </tr>\n",
       "    <tr>\n",
       "      <th>CVCL_R736</th>\n",
       "      <td>[CVCL_R736]</td>\n",
       "      <td>[1921231]</td>\n",
       "      <td>[Cosmic, Wikidata]</td>\n",
       "      <td>Melanoma</td>\n",
       "      <td>[YUSIT1-B11]</td>\n",
       "    </tr>\n",
       "    <tr>\n",
       "      <th>CVCL_R737</th>\n",
       "      <td>[CVCL_R737]</td>\n",
       "      <td>[1921232]</td>\n",
       "      <td>[Cosmic, Wikidata]</td>\n",
       "      <td>Melanoma</td>\n",
       "      <td>[YUSIT1-B31]</td>\n",
       "    </tr>\n",
       "    <tr>\n",
       "      <th>CVCL_R738</th>\n",
       "      <td>[CVCL_R738]</td>\n",
       "      <td>[1921230]</td>\n",
       "      <td>[Cosmic, Wikidata]</td>\n",
       "      <td>Melanoma</td>\n",
       "      <td>[YUSIT1-B5]</td>\n",
       "    </tr>\n",
       "    <tr>\n",
       "      <th>CVCL_G332</th>\n",
       "      <td>[CVCL_G332]</td>\n",
       "      <td>[1548875, 2439374]</td>\n",
       "      <td>[Cosmic, Cosmic, Wikidata]</td>\n",
       "      <td>Cutaneous melanoma</td>\n",
       "      <td>[YUSIV]</td>\n",
       "    </tr>\n",
       "    <tr>\n",
       "      <th>CVCL_J527</th>\n",
       "      <td>[CVCL_J527]</td>\n",
       "      <td>[1548876]</td>\n",
       "      <td>[Cosmic, Wikidata]</td>\n",
       "      <td>Cutaneous melanoma</td>\n",
       "      <td>[YUSTE]</td>\n",
       "    </tr>\n",
       "    <tr>\n",
       "      <th>CVCL_J528</th>\n",
       "      <td>[CVCL_J528]</td>\n",
       "      <td>[1548881]</td>\n",
       "      <td>[Cosmic, Wikidata]</td>\n",
       "      <td>Melanoma</td>\n",
       "      <td>[YUTHO]</td>\n",
       "    </tr>\n",
       "    <tr>\n",
       "      <th>CVCL_J071</th>\n",
       "      <td>[CVCL_J071]</td>\n",
       "      <td>[1548877, 2439381]</td>\n",
       "      <td>[Cosmic, Cosmic, Wikidata]</td>\n",
       "      <td>Cutaneous melanoma</td>\n",
       "      <td>[YUTICA]</td>\n",
       "    </tr>\n",
       "    <tr>\n",
       "      <th>CVCL_G333</th>\n",
       "      <td>[CVCL_G333]</td>\n",
       "      <td>[1548882]</td>\n",
       "      <td>[Cosmic, Wikidata]</td>\n",
       "      <td>Acral lentiginous melanoma</td>\n",
       "      <td>[YUVON3, YUVON]</td>\n",
       "    </tr>\n",
       "    <tr>\n",
       "      <th>CVCL_J530</th>\n",
       "      <td>[CVCL_J530]</td>\n",
       "      <td>[1548883]</td>\n",
       "      <td>[Cosmic, Wikidata]</td>\n",
       "      <td>Acral lentiginous melanoma</td>\n",
       "      <td>[YUWERA]</td>\n",
       "    </tr>\n",
       "    <tr>\n",
       "      <th>CVCL_J531</th>\n",
       "      <td>[CVCL_J531]</td>\n",
       "      <td>[1548878]</td>\n",
       "      <td>[Cosmic, Wikidata]</td>\n",
       "      <td>Melanoma</td>\n",
       "      <td>[YUWIM]</td>\n",
       "    </tr>\n",
       "    <tr>\n",
       "      <th>CVCL_EI18</th>\n",
       "      <td>[CVCL_EI18]</td>\n",
       "      <td>[2439392]</td>\n",
       "      <td>[Cosmic, Wikidata]</td>\n",
       "      <td>Cutaneous melanoma</td>\n",
       "      <td>[YUZAZ]</td>\n",
       "    </tr>\n",
       "    <tr>\n",
       "      <th>CVCL_J072</th>\n",
       "      <td>[CVCL_J072]</td>\n",
       "      <td>[1548884]</td>\n",
       "      <td>[Cosmic, Wikidata]</td>\n",
       "      <td>Acral lentiginous melanoma</td>\n",
       "      <td>[YUZOR]</td>\n",
       "    </tr>\n",
       "    <tr>\n",
       "      <th>CVCL_IU88</th>\n",
       "      <td>[CVCL_IU88]</td>\n",
       "      <td>[2491094]</td>\n",
       "      <td>[Cosmic, Wikidata]</td>\n",
       "      <td>B acute lymphoblastic leukemia with t(9;22)(q3...</td>\n",
       "      <td>[Z-119, Z119]</td>\n",
       "    </tr>\n",
       "    <tr>\n",
       "      <th>CVCL_B077</th>\n",
       "      <td>[CVCL_B077]</td>\n",
       "      <td>[2078183, 2088021, 2296992]</td>\n",
       "      <td>[EFO, ATCC, BioSample, Cosmic, Cosmic, Cosmic,...</td>\n",
       "      <td>Mantle cell lymphoma</td>\n",
       "      <td>[Z-138, Z138]</td>\n",
       "    </tr>\n",
       "    <tr>\n",
       "      <th>CVCL_IU89</th>\n",
       "      <td>[CVCL_IU89]</td>\n",
       "      <td>[2491095]</td>\n",
       "      <td>[Cosmic, Wikidata]</td>\n",
       "      <td>B acute lymphoblastic leukemia with t(9;22)(q3...</td>\n",
       "      <td>[Z-181, Z181]</td>\n",
       "    </tr>\n",
       "    <tr>\n",
       "      <th>CVCL_D596</th>\n",
       "      <td>[CVCL_D596]</td>\n",
       "      <td>[930337, 1046039, 1123029]</td>\n",
       "      <td>[CGH-DB, Cosmic, Cosmic, Cosmic, Wikidata]</td>\n",
       "      <td>Oral cavity squamous cell carcinoma</td>\n",
       "      <td>[ZA]</td>\n",
       "    </tr>\n",
       "    <tr>\n",
       "      <th>CVCL_9920</th>\n",
       "      <td>[CVCL_9920]</td>\n",
       "      <td>[1529906]</td>\n",
       "      <td>[Cosmic, GEO, Wikidata]</td>\n",
       "      <td>Osteosarcoma</td>\n",
       "      <td>[ZK-58, ZK58]</td>\n",
       "    </tr>\n",
       "    <tr>\n",
       "      <th>CVCL_0588</th>\n",
       "      <td>[CVCL_0588]</td>\n",
       "      <td>[687503, 755295, 871152, 877452, 894094, 90439...</td>\n",
       "      <td>[BTO, CLO, EFO, MCCL, CLDB, CLDB, CLDB, CLDB, ...</td>\n",
       "      <td>Invasive ductal carcinoma, not otherwise speci...</td>\n",
       "      <td>[ZR-75-1, ZR751, ZR75-1, ZR75_1]</td>\n",
       "    </tr>\n",
       "    <tr>\n",
       "      <th>CVCL_1661</th>\n",
       "      <td>[CVCL_1661]</td>\n",
       "      <td>[687504, 871160, 877444, 894095, 904399, 90990...</td>\n",
       "      <td>[BTO, CLO, EFO, CLDB, CLDB, CLDB, ArrayExpress...</td>\n",
       "      <td>Invasive ductal carcinoma, not otherwise speci...</td>\n",
       "      <td>[ZR-75-30, ZR7530, ZR75-30]</td>\n",
       "    </tr>\n",
       "    <tr>\n",
       "      <th>CVCL_5614</th>\n",
       "      <td>[CVCL_5614]</td>\n",
       "      <td>[1136345, 1176641]</td>\n",
       "      <td>[EFO, Cosmic, Cosmic, GEO, GEO, GEO, GEO, LINC...</td>\n",
       "      <td>Invasive ductal carcinoma, not otherwise speci...</td>\n",
       "      <td>[ZR-75-B, ZR75-B, ZR-75B, ZR-75b, ZR75B]</td>\n",
       "    </tr>\n",
       "  </tbody>\n",
       "</table>\n",
       "<p>4752 rows × 5 columns</p>\n",
       "</div>"
      ],
      "text/plain": [
       "          CellosaurusID                                          CosmicIDs  \\\n",
       "CVCL_D231   [CVCL_D231]                          [889083, 946049, 1066155]   \n",
       "CVCL_7942   [CVCL_7942]                                   [876687, 905206]   \n",
       "CVCL_4806   [CVCL_4806]                                           [721372]   \n",
       "CVCL_8029   [CVCL_8029]                                           [876702]   \n",
       "CVCL_VJ83   [CVCL_VJ83]                                          [2543722]   \n",
       "CVCL_D856   [CVCL_D856]                                          [1731373]   \n",
       "CVCL_D857   [CVCL_D857]                                          [1731374]   \n",
       "CVCL_D776   [CVCL_D776]                                          [1731375]   \n",
       "CVCL_D777   [CVCL_D777]                                          [1731376]   \n",
       "CVCL_S745   [CVCL_S745]                                          [1890459]   \n",
       "CVCL_8030   [CVCL_8030]                                   [905207, 972280]   \n",
       "CVCL_8031   [CVCL_8031]                                           [876688]   \n",
       "CVCL_8033   [CVCL_8033]                                           [876689]   \n",
       "CVCL_8034   [CVCL_8034]                                           [876690]   \n",
       "CVCL_VJ84   [CVCL_VJ84]                                          [2543723]   \n",
       "CVCL_5239   [CVCL_5239]  [686410, 905861, 972275, 1155274, 1155554, 118...   \n",
       "CVCL_N588   [CVCL_N588]                                          [2307723]   \n",
       "CVCL_8036   [CVCL_8036]                                           [876691]   \n",
       "CVCL_7943   [CVCL_7943]                          [876682, 877280, 1042622]   \n",
       "CVCL_0Q73   [CVCL_0Q73]                                          [1432838]   \n",
       "CVCL_8039   [CVCL_8039]                                           [876703]   \n",
       "CVCL_2265   [CVCL_2265]                                          [2402466]   \n",
       "CVCL_8040   [CVCL_8040]                                           [876692]   \n",
       "CVCL_Z019   [CVCL_Z019]                                           [876693]   \n",
       "CVCL_Z020   [CVCL_Z020]                                           [876694]   \n",
       "CVCL_8041   [CVCL_8041]                                          [2163791]   \n",
       "CVCL_W281   [CVCL_W281]                                          [1418452]   \n",
       "CVCL_S560   [CVCL_S560]                                           [905208]   \n",
       "CVCL_8042   [CVCL_8042]                                           [876704]   \n",
       "CVCL_8043   [CVCL_8043]                                           [876695]   \n",
       "...                 ...                                                ...   \n",
       "CVCL_J069   [CVCL_J069]                                 [1548869, 2439355]   \n",
       "CVCL_EI23   [CVCL_EI23]                                          [2439356]   \n",
       "CVCL_B485   [CVCL_B485]                        [1197391, 1548870, 2013572]   \n",
       "CVCL_B486   [CVCL_B486]                                 [1548871, 2439361]   \n",
       "CVCL_J070   [CVCL_J070]                                 [1548872, 2439364]   \n",
       "CVCL_A746   [CVCL_A746]                                          [1197388]   \n",
       "CVCL_J526   [CVCL_J526]                                          [1548873]   \n",
       "CVCL_B487   [CVCL_B487]                                          [1548874]   \n",
       "CVCL_EI16   [CVCL_EI16]                                          [2439372]   \n",
       "CVCL_A747   [CVCL_A747]                        [1197389, 1921229, 2439373]   \n",
       "CVCL_R736   [CVCL_R736]                                          [1921231]   \n",
       "CVCL_R737   [CVCL_R737]                                          [1921232]   \n",
       "CVCL_R738   [CVCL_R738]                                          [1921230]   \n",
       "CVCL_G332   [CVCL_G332]                                 [1548875, 2439374]   \n",
       "CVCL_J527   [CVCL_J527]                                          [1548876]   \n",
       "CVCL_J528   [CVCL_J528]                                          [1548881]   \n",
       "CVCL_J071   [CVCL_J071]                                 [1548877, 2439381]   \n",
       "CVCL_G333   [CVCL_G333]                                          [1548882]   \n",
       "CVCL_J530   [CVCL_J530]                                          [1548883]   \n",
       "CVCL_J531   [CVCL_J531]                                          [1548878]   \n",
       "CVCL_EI18   [CVCL_EI18]                                          [2439392]   \n",
       "CVCL_J072   [CVCL_J072]                                          [1548884]   \n",
       "CVCL_IU88   [CVCL_IU88]                                          [2491094]   \n",
       "CVCL_B077   [CVCL_B077]                        [2078183, 2088021, 2296992]   \n",
       "CVCL_IU89   [CVCL_IU89]                                          [2491095]   \n",
       "CVCL_D596   [CVCL_D596]                         [930337, 1046039, 1123029]   \n",
       "CVCL_9920   [CVCL_9920]                                          [1529906]   \n",
       "CVCL_0588   [CVCL_0588]  [687503, 755295, 871152, 877452, 894094, 90439...   \n",
       "CVCL_1661   [CVCL_1661]  [687504, 871160, 877444, 894095, 904399, 90990...   \n",
       "CVCL_5614   [CVCL_5614]                                 [1136345, 1176641]   \n",
       "\n",
       "                                                   Databases  \\\n",
       "CVCL_D231  [ChEMBL-Cells, ChEMBL-Targets, Cosmic, Cosmic,...   \n",
       "CVCL_7942                 [CGH-DB, Cosmic, Cosmic, Wikidata]   \n",
       "CVCL_4806                                 [Cosmic, Wikidata]   \n",
       "CVCL_8029                                 [Cosmic, Wikidata]   \n",
       "CVCL_VJ83                                           [Cosmic]   \n",
       "CVCL_D856                                 [Cosmic, Wikidata]   \n",
       "CVCL_D857                                 [Cosmic, Wikidata]   \n",
       "CVCL_D776                                 [Cosmic, Wikidata]   \n",
       "CVCL_D777                                 [Cosmic, Wikidata]   \n",
       "CVCL_S745                                 [Cosmic, Wikidata]   \n",
       "CVCL_8030       [BTO, CGH-DB, Cosmic, Cosmic, GEO, Wikidata]   \n",
       "CVCL_8031                                 [Cosmic, Wikidata]   \n",
       "CVCL_8033                            [Cosmic, GEO, Wikidata]   \n",
       "CVCL_8034                                 [Cosmic, Wikidata]   \n",
       "CVCL_VJ84                                           [Cosmic]   \n",
       "CVCL_5239  [BTO, CLO, EFO, ATCC, BioSample, Coriell, Cosm...   \n",
       "CVCL_N588                                 [Cosmic, Wikidata]   \n",
       "CVCL_8036                                 [Cosmic, Wikidata]   \n",
       "CVCL_7943  [Cosmic, Cosmic, Cosmic, GEO, GEO, GEO, Wikidata]   \n",
       "CVCL_0Q73                            [BTO, Cosmic, Wikidata]   \n",
       "CVCL_8039                                 [Cosmic, Wikidata]   \n",
       "CVCL_2265  [CLO, CLDB, CCRID, Cosmic, ECACC, ICLC, NCBI_I...   \n",
       "CVCL_8040                                 [Cosmic, Wikidata]   \n",
       "CVCL_Z019                                 [Cosmic, Wikidata]   \n",
       "CVCL_Z020                                 [Cosmic, Wikidata]   \n",
       "CVCL_8041                         [Cosmic, ESTDAB, Wikidata]   \n",
       "CVCL_W281                                 [Cosmic, Wikidata]   \n",
       "CVCL_S560                         [CGH-DB, Cosmic, Wikidata]   \n",
       "CVCL_8042                                 [Cosmic, Wikidata]   \n",
       "CVCL_8043                                 [Cosmic, Wikidata]   \n",
       "...                                                      ...   \n",
       "CVCL_J069                         [Cosmic, Cosmic, Wikidata]   \n",
       "CVCL_EI23                                 [Cosmic, Wikidata]   \n",
       "CVCL_B485                 [Cosmic, Cosmic, Cosmic, Wikidata]   \n",
       "CVCL_B486                         [Cosmic, Cosmic, Wikidata]   \n",
       "CVCL_J070                         [Cosmic, Cosmic, Wikidata]   \n",
       "CVCL_A746                                 [Cosmic, Wikidata]   \n",
       "CVCL_J526                                 [Cosmic, Wikidata]   \n",
       "CVCL_B487                                 [Cosmic, Wikidata]   \n",
       "CVCL_EI16                                 [Cosmic, Wikidata]   \n",
       "CVCL_A747                 [Cosmic, Cosmic, Cosmic, Wikidata]   \n",
       "CVCL_R736                                 [Cosmic, Wikidata]   \n",
       "CVCL_R737                                 [Cosmic, Wikidata]   \n",
       "CVCL_R738                                 [Cosmic, Wikidata]   \n",
       "CVCL_G332                         [Cosmic, Cosmic, Wikidata]   \n",
       "CVCL_J527                                 [Cosmic, Wikidata]   \n",
       "CVCL_J528                                 [Cosmic, Wikidata]   \n",
       "CVCL_J071                         [Cosmic, Cosmic, Wikidata]   \n",
       "CVCL_G333                                 [Cosmic, Wikidata]   \n",
       "CVCL_J530                                 [Cosmic, Wikidata]   \n",
       "CVCL_J531                                 [Cosmic, Wikidata]   \n",
       "CVCL_EI18                                 [Cosmic, Wikidata]   \n",
       "CVCL_J072                                 [Cosmic, Wikidata]   \n",
       "CVCL_IU88                                 [Cosmic, Wikidata]   \n",
       "CVCL_B077  [EFO, ATCC, BioSample, Cosmic, Cosmic, Cosmic,...   \n",
       "CVCL_IU89                                 [Cosmic, Wikidata]   \n",
       "CVCL_D596         [CGH-DB, Cosmic, Cosmic, Cosmic, Wikidata]   \n",
       "CVCL_9920                            [Cosmic, GEO, Wikidata]   \n",
       "CVCL_0588  [BTO, CLO, EFO, MCCL, CLDB, CLDB, CLDB, CLDB, ...   \n",
       "CVCL_1661  [BTO, CLO, EFO, CLDB, CLDB, CLDB, ArrayExpress...   \n",
       "CVCL_5614  [EFO, Cosmic, Cosmic, GEO, GEO, GEO, GEO, LINC...   \n",
       "\n",
       "                                                     Disease  \\\n",
       "CVCL_D231                                Lung adenocarcinoma   \n",
       "CVCL_7942                                           Melanoma   \n",
       "CVCL_4806                                 Prostate carcinoma   \n",
       "CVCL_8029                                           Melanoma   \n",
       "CVCL_VJ83                                 Cutaneous melanoma   \n",
       "CVCL_D856                                Lung adenocarcinoma   \n",
       "CVCL_D857                                Lung adenocarcinoma   \n",
       "CVCL_D776                                Lung adenocarcinoma   \n",
       "CVCL_D777                                Lung adenocarcinoma   \n",
       "CVCL_S745                                Lung adenocarcinoma   \n",
       "CVCL_8030                                           Melanoma   \n",
       "CVCL_8031                                           Melanoma   \n",
       "CVCL_8033                                           Melanoma   \n",
       "CVCL_8034                                           Melanoma   \n",
       "CVCL_VJ84                                 Cutaneous melanoma   \n",
       "CVCL_5239                                           Melanoma   \n",
       "CVCL_N588                                   Synovial sarcoma   \n",
       "CVCL_8036                                           Melanoma   \n",
       "CVCL_7943                                           Melanoma   \n",
       "CVCL_0Q73                                      Endometriosis   \n",
       "CVCL_8039                                           Melanoma   \n",
       "CVCL_2265           Childhood T acute lymphoblastic leukemia   \n",
       "CVCL_8040                                           Melanoma   \n",
       "CVCL_Z019                                           Melanoma   \n",
       "CVCL_Z020                                           Melanoma   \n",
       "CVCL_8041                                           Melanoma   \n",
       "CVCL_W281                                           Melanoma   \n",
       "CVCL_S560                                           Melanoma   \n",
       "CVCL_8042                                           Melanoma   \n",
       "CVCL_8043                                           Melanoma   \n",
       "...                                                      ...   \n",
       "CVCL_J069                                 Cutaneous melanoma   \n",
       "CVCL_EI23                                 Cutaneous melanoma   \n",
       "CVCL_B485                                 Cutaneous melanoma   \n",
       "CVCL_B486                                 Cutaneous melanoma   \n",
       "CVCL_J070                                 Cutaneous melanoma   \n",
       "CVCL_A746                                           Melanoma   \n",
       "CVCL_J526                                   Mucosal melanoma   \n",
       "CVCL_B487                                 Cutaneous melanoma   \n",
       "CVCL_EI16                                 Cutaneous melanoma   \n",
       "CVCL_A747                                           Melanoma   \n",
       "CVCL_R736                                           Melanoma   \n",
       "CVCL_R737                                           Melanoma   \n",
       "CVCL_R738                                           Melanoma   \n",
       "CVCL_G332                                 Cutaneous melanoma   \n",
       "CVCL_J527                                 Cutaneous melanoma   \n",
       "CVCL_J528                                           Melanoma   \n",
       "CVCL_J071                                 Cutaneous melanoma   \n",
       "CVCL_G333                         Acral lentiginous melanoma   \n",
       "CVCL_J530                         Acral lentiginous melanoma   \n",
       "CVCL_J531                                           Melanoma   \n",
       "CVCL_EI18                                 Cutaneous melanoma   \n",
       "CVCL_J072                         Acral lentiginous melanoma   \n",
       "CVCL_IU88  B acute lymphoblastic leukemia with t(9;22)(q3...   \n",
       "CVCL_B077                               Mantle cell lymphoma   \n",
       "CVCL_IU89  B acute lymphoblastic leukemia with t(9;22)(q3...   \n",
       "CVCL_D596                Oral cavity squamous cell carcinoma   \n",
       "CVCL_9920                                       Osteosarcoma   \n",
       "CVCL_0588  Invasive ductal carcinoma, not otherwise speci...   \n",
       "CVCL_1661  Invasive ductal carcinoma, not otherwise speci...   \n",
       "CVCL_5614  Invasive ductal carcinoma, not otherwise speci...   \n",
       "\n",
       "                                                       Names  \n",
       "CVCL_D231                                             [1-87]  \n",
       "CVCL_7942  [1011-mel, 1011-MEL, 1011 mel, 1011mel, 1011, ...  \n",
       "CVCL_4806                                    [1013L, 1013-L]  \n",
       "CVCL_8029     [1088-mel, 1088-MEL, 1088 Mel, 1088 mel, 1088]  \n",
       "CVCL_VJ83                                      [10CM, 10 CM]  \n",
       "CVCL_D856                         [11-18-ER1-7, 11-18/ER1-7]  \n",
       "CVCL_D857                         [11-18-ER2-1, 11-18/ER2-1]  \n",
       "CVCL_D776                     [11-18-GEF10-1, 11-18/GEF10-1]  \n",
       "CVCL_D777                     [11-18-GEF20-1, 11-18/GEF20-1]  \n",
       "CVCL_S745                        [11-18/R, 11-18R, 11-18/ER]  \n",
       "CVCL_8030  [1102-mel, 1102-MEL, 1102 mel, 1102mel, 1102, ...  \n",
       "CVCL_8031               [1143-mel, 1143-MEL, 1143 mel, 1143]  \n",
       "CVCL_8033               [1195-mel, 1195-MEL, 1195 mel, 1195]  \n",
       "CVCL_8034               [1199-mel, 1199-MEL, 1199 mel, 1199]  \n",
       "CVCL_VJ84                                      [11CM, 11 CM]  \n",
       "CVCL_5239  [1205Lu, 1205-Lu, 1205 Lu, WM 1205LU, WM-1205L...  \n",
       "CVCL_N588                                    [1273/99, 1273]  \n",
       "CVCL_8036               [1280-mel, 1280-MEL, 1280 mel, 1280]  \n",
       "CVCL_7943  [1290-mel, 1290-MEL, 1290 mel, 1290, MG-1290, ...  \n",
       "CVCL_0Q73                        [12Z, 12z, 12-Z, Z12, Z-12]  \n",
       "CVCL_8039               [1300-mel, 1300-MEL, 1300 mel, 1300]  \n",
       "CVCL_2265                                             [1301]  \n",
       "CVCL_8040               [1317-mel, 1317-MEL, 1317 mel, 1317]  \n",
       "CVCL_Z019                               [1335-mel, 1335-MEL]  \n",
       "CVCL_Z020                               [1352-mel, 1352-MEL]  \n",
       "CVCL_8041     [1359-mel, 1359-MEL, 1359 mel, 1359, Mel-1359]  \n",
       "CVCL_W281                                            [136-2]  \n",
       "CVCL_S560            [1362-mel, 1362-MEL, 1362 mel, 1362mel]  \n",
       "CVCL_8042               [1363-mel, 1363-MEL, 1363 mel, 1363]  \n",
       "CVCL_8043               [1376-mel, 1376-MEL, 1376 mel, 1376]  \n",
       "...                                                      ...  \n",
       "CVCL_J069                                            [YUPLA]  \n",
       "CVCL_EI23                                            [YUPOM]  \n",
       "CVCL_B485                                            [YURIF]  \n",
       "CVCL_B486                                            [YUROB]  \n",
       "CVCL_J070                                            [YUROL]  \n",
       "CVCL_A746                  [YUSAC2, YUSAC-2, YUSAC 2, YUSAC]  \n",
       "CVCL_J526                                            [YUSAN]  \n",
       "CVCL_B487                                            [YUSIK]  \n",
       "CVCL_EI16                                           [YUSIPU]  \n",
       "CVCL_A747  [YUSIT1, YUSIT-1, YUSIT 1, Yusit-1, YUSITI, Yu...  \n",
       "CVCL_R736                                       [YUSIT1-B11]  \n",
       "CVCL_R737                                       [YUSIT1-B31]  \n",
       "CVCL_R738                                        [YUSIT1-B5]  \n",
       "CVCL_G332                                            [YUSIV]  \n",
       "CVCL_J527                                            [YUSTE]  \n",
       "CVCL_J528                                            [YUTHO]  \n",
       "CVCL_J071                                           [YUTICA]  \n",
       "CVCL_G333                                    [YUVON3, YUVON]  \n",
       "CVCL_J530                                           [YUWERA]  \n",
       "CVCL_J531                                            [YUWIM]  \n",
       "CVCL_EI18                                            [YUZAZ]  \n",
       "CVCL_J072                                            [YUZOR]  \n",
       "CVCL_IU88                                      [Z-119, Z119]  \n",
       "CVCL_B077                                      [Z-138, Z138]  \n",
       "CVCL_IU89                                      [Z-181, Z181]  \n",
       "CVCL_D596                                               [ZA]  \n",
       "CVCL_9920                                      [ZK-58, ZK58]  \n",
       "CVCL_0588                   [ZR-75-1, ZR751, ZR75-1, ZR75_1]  \n",
       "CVCL_1661                        [ZR-75-30, ZR7530, ZR75-30]  \n",
       "CVCL_5614           [ZR-75-B, ZR75-B, ZR-75B, ZR-75b, ZR75B]  \n",
       "\n",
       "[4752 rows x 5 columns]"
      ]
     },
     "execution_count": 243,
     "metadata": {},
     "output_type": "execute_result"
    }
   ],
   "source": [
    "cosmic_lines"
   ]
  },
  {
   "cell_type": "code",
   "execution_count": 24,
   "metadata": {
    "ExecuteTime": {
     "end_time": "2019-01-09T20:44:53.673249Z",
     "start_time": "2019-01-09T20:44:39.905807Z"
    }
   },
   "outputs": [
    {
     "name": "stdout",
     "output_type": "stream",
     "text": [
      "======================================\n",
      "Step 1: read_user_input\n",
      "======================================\n",
      "Reminder: if you want to use a custom control expresion, you must set control to 'custom'\n",
      "==> Setting patient_dir = case_id\n",
      "Setup done!\n",
      "======================================\n",
      "Step 2: download_and_preprocess_rnaseq\n",
      "======================================\n",
      "==> Checking if local file (/pdx-hts/Notebooks/data/preprocessed/exp/ICB1487.csv) exist.\n",
      "==> This file containes the expression of the PDXs. Printing dataframe's info:\n",
      "<class 'pandas.core.frame.DataFrame'>\n",
      "Index: 1 entries, ICB1487 to ICB1487\n",
      "Columns: 16247 entries, A1BG to ZZZ3\n",
      "dtypes: float64(16247)\n",
      "memory usage: 126.9+ KB\n",
      "==> None\n",
      "==> File /pdx-hts/Notebooks/patients/ICB1487/gene_abundance.sleuth.csv saved successfully\n",
      "==> Done preprocessing!\n",
      "======================================\n",
      "Step 3: classify_sample\n",
      "======================================\n",
      "These are not the analyses you are looking for. Move along!\n",
      "======================================\n",
      "Step 4: run_discover\n",
      "======================================\n",
      "These are not the analyses you are looking for. Move along!\n",
      "======================================\n",
      "Step 5: run_cmap\n",
      "======================================\n",
      "==> About to parse CMap results.\n"
     ]
    },
    {
     "name": "stderr",
     "output_type": "stream",
     "text": [
      "/opt/conda/lib/python3.6/site-packages/pandas/core/indexing.py:1020: FutureWarning: \n",
      "Passing list-likes to .loc or [] with any missing label will raise\n",
      "KeyError in the future, you can use .reindex() as an alternative.\n",
      "\n",
      "See the documentation here:\n",
      "http://pandas.pydata.org/pandas-docs/stable/indexing.html#deprecate-loc-reindex-listlike\n",
      "  return getattr(section, self.name)[new_key]\n",
      "/opt/conda/lib/python3.6/site-packages/pandas/util/_decorators.py:118: FutureWarning: The `sheetname` keyword is deprecated, use `sheet_name` instead\n",
      "  return func(*args, **kwargs)\n"
     ]
    },
    {
     "name": "stdout",
     "output_type": "stream",
     "text": [
      "==> done!\n",
      "==> Merging results from DiSCoVER and CMap.\n",
      "done!\n",
      "==> Done Merging results from DiSCoVER and CMap!\n",
      "==> Saving combined_df and to_slide on setup variable\n",
      "==> Saving the combined DiSCoVER+CMap resuls to a csv called ICB1487_combined_DISCoVER_and_CMap_results.csv\n",
      "==> Done done!\n",
      "All analyses completed suscessfully with \"patient\" ICB1487\n"
     ]
    }
   ],
   "source": [
    "# \"ICB1487\": \"ICB1487\",\n",
    "run_pipeline(\"ICB1487\")"
   ]
  },
  {
   "cell_type": "code",
   "execution_count": 25,
   "metadata": {
    "ExecuteTime": {
     "end_time": "2019-01-09T20:45:06.811553Z",
     "start_time": "2019-01-09T20:44:53.687683Z"
    }
   },
   "outputs": [
    {
     "name": "stdout",
     "output_type": "stream",
     "text": [
      "======================================\n",
      "Step 1: read_user_input\n",
      "======================================\n",
      "Reminder: if you want to use a custom control expresion, you must set control to 'custom'\n",
      "==> Setting patient_dir = case_id\n",
      "Setup done!\n",
      "======================================\n",
      "Step 2: download_and_preprocess_rnaseq\n",
      "======================================\n",
      "==> Checking if local file (/pdx-hts/Notebooks/data/preprocessed/exp/ICB1572.csv) exist.\n",
      "==> This file containes the expression of the PDXs. Printing dataframe's info:\n",
      "<class 'pandas.core.frame.DataFrame'>\n",
      "Index: 1 entries, ICB1572 to ICB1572\n",
      "Columns: 16247 entries, A1BG to ZZZ3\n",
      "dtypes: float64(16247)\n",
      "memory usage: 126.9+ KB\n",
      "==> None\n",
      "==> File /pdx-hts/Notebooks/patients/ICB1572/gene_abundance.sleuth.csv saved successfully\n",
      "==> Done preprocessing!\n",
      "======================================\n",
      "Step 3: classify_sample\n",
      "======================================\n",
      "These are not the analyses you are looking for. Move along!\n",
      "======================================\n",
      "Step 4: run_discover\n",
      "======================================\n",
      "These are not the analyses you are looking for. Move along!\n",
      "======================================\n",
      "Step 5: run_cmap\n",
      "======================================\n",
      "==> About to parse CMap results.\n"
     ]
    },
    {
     "name": "stderr",
     "output_type": "stream",
     "text": [
      "/opt/conda/lib/python3.6/site-packages/pandas/core/indexing.py:1020: FutureWarning: \n",
      "Passing list-likes to .loc or [] with any missing label will raise\n",
      "KeyError in the future, you can use .reindex() as an alternative.\n",
      "\n",
      "See the documentation here:\n",
      "http://pandas.pydata.org/pandas-docs/stable/indexing.html#deprecate-loc-reindex-listlike\n",
      "  return getattr(section, self.name)[new_key]\n",
      "/opt/conda/lib/python3.6/site-packages/pandas/util/_decorators.py:118: FutureWarning: The `sheetname` keyword is deprecated, use `sheet_name` instead\n",
      "  return func(*args, **kwargs)\n"
     ]
    },
    {
     "name": "stdout",
     "output_type": "stream",
     "text": [
      "==> done!\n",
      "==> Merging results from DiSCoVER and CMap.\n",
      "done!\n",
      "==> Done Merging results from DiSCoVER and CMap!\n",
      "==> Saving combined_df and to_slide on setup variable\n",
      "==> Saving the combined DiSCoVER+CMap resuls to a csv called ICB1572_combined_DISCoVER_and_CMap_results.csv\n",
      "==> Done done!\n",
      "All analyses completed suscessfully with \"patient\" ICB1572\n"
     ]
    }
   ],
   "source": [
    "# \"ICB1572\": \"ICB1572\",\n",
    "run_pipeline(\"ICB1572\")"
   ]
  },
  {
   "cell_type": "code",
   "execution_count": 26,
   "metadata": {
    "ExecuteTime": {
     "end_time": "2019-01-09T20:45:19.928449Z",
     "start_time": "2019-01-09T20:45:06.825396Z"
    }
   },
   "outputs": [
    {
     "name": "stdout",
     "output_type": "stream",
     "text": [
      "======================================\n",
      "Step 1: read_user_input\n",
      "======================================\n",
      "Reminder: if you want to use a custom control expresion, you must set control to 'custom'\n",
      "==> Setting patient_dir = case_id\n",
      "Setup done!\n",
      "======================================\n",
      "Step 2: download_and_preprocess_rnaseq\n",
      "======================================\n",
      "==> Checking if local file (/pdx-hts/Notebooks/data/preprocessed/exp/MB002.csv) exist.\n",
      "==> This file containes the expression of the PDXs. Printing dataframe's info:\n",
      "<class 'pandas.core.frame.DataFrame'>\n",
      "Index: 1 entries, MB002 to MB002\n",
      "Columns: 16247 entries, A1BG to ZZZ3\n",
      "dtypes: float64(16247)\n",
      "memory usage: 126.9+ KB\n",
      "==> None\n",
      "==> File /pdx-hts/Notebooks/patients/MB002/gene_abundance.sleuth.csv saved successfully\n",
      "==> Done preprocessing!\n",
      "======================================\n",
      "Step 3: classify_sample\n",
      "======================================\n",
      "These are not the analyses you are looking for. Move along!\n",
      "======================================\n",
      "Step 4: run_discover\n",
      "======================================\n",
      "These are not the analyses you are looking for. Move along!\n",
      "======================================\n",
      "Step 5: run_cmap\n",
      "======================================\n",
      "==> About to parse CMap results.\n"
     ]
    },
    {
     "name": "stderr",
     "output_type": "stream",
     "text": [
      "/opt/conda/lib/python3.6/site-packages/pandas/core/indexing.py:1020: FutureWarning: \n",
      "Passing list-likes to .loc or [] with any missing label will raise\n",
      "KeyError in the future, you can use .reindex() as an alternative.\n",
      "\n",
      "See the documentation here:\n",
      "http://pandas.pydata.org/pandas-docs/stable/indexing.html#deprecate-loc-reindex-listlike\n",
      "  return getattr(section, self.name)[new_key]\n",
      "/opt/conda/lib/python3.6/site-packages/pandas/util/_decorators.py:118: FutureWarning: The `sheetname` keyword is deprecated, use `sheet_name` instead\n",
      "  return func(*args, **kwargs)\n"
     ]
    },
    {
     "name": "stdout",
     "output_type": "stream",
     "text": [
      "==> done!\n",
      "==> Merging results from DiSCoVER and CMap.\n",
      "done!\n",
      "==> Done Merging results from DiSCoVER and CMap!\n",
      "==> Saving combined_df and to_slide on setup variable\n",
      "==> Saving the combined DiSCoVER+CMap resuls to a csv called MB002_combined_DISCoVER_and_CMap_results.csv\n",
      "==> Done done!\n",
      "All analyses completed suscessfully with \"patient\" MB002\n"
     ]
    }
   ],
   "source": [
    "# \"MB002\": \"MB002\",\n",
    "run_pipeline(\"MB002\")"
   ]
  },
  {
   "cell_type": "code",
   "execution_count": 27,
   "metadata": {
    "ExecuteTime": {
     "end_time": "2019-01-09T20:45:33.030748Z",
     "start_time": "2019-01-09T20:45:19.940551Z"
    }
   },
   "outputs": [
    {
     "name": "stdout",
     "output_type": "stream",
     "text": [
      "======================================\n",
      "Step 1: read_user_input\n",
      "======================================\n",
      "Reminder: if you want to use a custom control expresion, you must set control to 'custom'\n",
      "==> Setting patient_dir = case_id\n",
      "Setup done!\n",
      "======================================\n",
      "Step 2: download_and_preprocess_rnaseq\n",
      "======================================\n",
      "==> Checking if local file (/pdx-hts/Notebooks/data/preprocessed/exp/MB009.csv) exist.\n",
      "==> This file containes the expression of the PDXs. Printing dataframe's info:\n",
      "<class 'pandas.core.frame.DataFrame'>\n",
      "Index: 1 entries, MB009 to MB009\n",
      "Columns: 16247 entries, A1BG to ZZZ3\n",
      "dtypes: float64(16247)\n",
      "memory usage: 126.9+ KB\n",
      "==> None\n",
      "==> File /pdx-hts/Notebooks/patients/MB009/gene_abundance.sleuth.csv saved successfully\n",
      "==> Done preprocessing!\n",
      "======================================\n",
      "Step 3: classify_sample\n",
      "======================================\n",
      "These are not the analyses you are looking for. Move along!\n",
      "======================================\n",
      "Step 4: run_discover\n",
      "======================================\n",
      "These are not the analyses you are looking for. Move along!\n",
      "======================================\n",
      "Step 5: run_cmap\n",
      "======================================\n",
      "==> About to parse CMap results.\n"
     ]
    },
    {
     "name": "stderr",
     "output_type": "stream",
     "text": [
      "/opt/conda/lib/python3.6/site-packages/pandas/core/indexing.py:1020: FutureWarning: \n",
      "Passing list-likes to .loc or [] with any missing label will raise\n",
      "KeyError in the future, you can use .reindex() as an alternative.\n",
      "\n",
      "See the documentation here:\n",
      "http://pandas.pydata.org/pandas-docs/stable/indexing.html#deprecate-loc-reindex-listlike\n",
      "  return getattr(section, self.name)[new_key]\n",
      "/opt/conda/lib/python3.6/site-packages/pandas/util/_decorators.py:118: FutureWarning: The `sheetname` keyword is deprecated, use `sheet_name` instead\n",
      "  return func(*args, **kwargs)\n"
     ]
    },
    {
     "name": "stdout",
     "output_type": "stream",
     "text": [
      "==> done!\n",
      "==> Merging results from DiSCoVER and CMap.\n",
      "done!\n",
      "==> Done Merging results from DiSCoVER and CMap!\n",
      "==> Saving combined_df and to_slide on setup variable\n",
      "==> Saving the combined DiSCoVER+CMap resuls to a csv called MB009_combined_DISCoVER_and_CMap_results.csv\n",
      "==> Done done!\n",
      "All analyses completed suscessfully with \"patient\" MB009\n"
     ]
    }
   ],
   "source": [
    "# \"MB009\": \"MB009\",\n",
    "run_pipeline(\"MB009\")"
   ]
  },
  {
   "cell_type": "code",
   "execution_count": 28,
   "metadata": {
    "ExecuteTime": {
     "end_time": "2019-01-09T20:45:47.703245Z",
     "start_time": "2019-01-09T20:45:33.051411Z"
    }
   },
   "outputs": [
    {
     "name": "stdout",
     "output_type": "stream",
     "text": [
      "======================================\n",
      "Step 1: read_user_input\n",
      "======================================\n",
      "Reminder: if you want to use a custom control expresion, you must set control to 'custom'\n",
      "==> Setting patient_dir = case_id\n",
      "Setup done!\n",
      "======================================\n",
      "Step 2: download_and_preprocess_rnaseq\n",
      "======================================\n",
      "==> Checking if local file (/pdx-hts/Notebooks/data/preprocessed/exp/MED211.csv) exist.\n",
      "==> This file containes the expression of the PDXs. Printing dataframe's info:\n",
      "<class 'pandas.core.frame.DataFrame'>\n",
      "Index: 1 entries, MED211 to MED211\n",
      "Columns: 16247 entries, A1BG to ZZZ3\n",
      "dtypes: float64(16247)\n",
      "memory usage: 126.9+ KB\n",
      "==> None\n",
      "==> File /pdx-hts/Notebooks/patients/MED211/gene_abundance.sleuth.csv saved successfully\n",
      "==> Done preprocessing!\n",
      "======================================\n",
      "Step 3: classify_sample\n",
      "======================================\n",
      "These are not the analyses you are looking for. Move along!\n",
      "======================================\n",
      "Step 4: run_discover\n",
      "======================================\n",
      "These are not the analyses you are looking for. Move along!\n",
      "======================================\n",
      "Step 5: run_cmap\n",
      "======================================\n",
      "==> About to parse CMap results.\n"
     ]
    },
    {
     "name": "stderr",
     "output_type": "stream",
     "text": [
      "/opt/conda/lib/python3.6/site-packages/pandas/core/indexing.py:1020: FutureWarning: \n",
      "Passing list-likes to .loc or [] with any missing label will raise\n",
      "KeyError in the future, you can use .reindex() as an alternative.\n",
      "\n",
      "See the documentation here:\n",
      "http://pandas.pydata.org/pandas-docs/stable/indexing.html#deprecate-loc-reindex-listlike\n",
      "  return getattr(section, self.name)[new_key]\n",
      "/opt/conda/lib/python3.6/site-packages/pandas/util/_decorators.py:118: FutureWarning: The `sheetname` keyword is deprecated, use `sheet_name` instead\n",
      "  return func(*args, **kwargs)\n"
     ]
    },
    {
     "name": "stdout",
     "output_type": "stream",
     "text": [
      "==> done!\n",
      "==> Merging results from DiSCoVER and CMap.\n",
      "done!\n",
      "==> Done Merging results from DiSCoVER and CMap!\n",
      "==> Saving combined_df and to_slide on setup variable\n",
      "==> Saving the combined DiSCoVER+CMap resuls to a csv called MED211_combined_DISCoVER_and_CMap_results.csv\n",
      "==> Done done!\n",
      "All analyses completed suscessfully with \"patient\" MED211\n"
     ]
    }
   ],
   "source": [
    "# \"MED211\": \"MED211\",\n",
    "run_pipeline(\"MED211\")"
   ]
  },
  {
   "cell_type": "code",
   "execution_count": 29,
   "metadata": {
    "ExecuteTime": {
     "end_time": "2019-01-09T20:46:01.227391Z",
     "start_time": "2019-01-09T20:45:47.713335Z"
    }
   },
   "outputs": [
    {
     "name": "stdout",
     "output_type": "stream",
     "text": [
      "======================================\n",
      "Step 1: read_user_input\n",
      "======================================\n",
      "Reminder: if you want to use a custom control expresion, you must set control to 'custom'\n",
      "==> Setting patient_dir = case_id\n",
      "Setup done!\n",
      "======================================\n",
      "Step 2: download_and_preprocess_rnaseq\n",
      "======================================\n",
      "==> Checking if local file (/pdx-hts/Notebooks/data/preprocessed/exp/MED411.csv) exist.\n",
      "==> This file containes the expression of the PDXs. Printing dataframe's info:\n",
      "<class 'pandas.core.frame.DataFrame'>\n",
      "Index: 1 entries, MED411 to MED411\n",
      "Columns: 16247 entries, A1BG to ZZZ3\n",
      "dtypes: float64(16247)\n",
      "memory usage: 126.9+ KB\n",
      "==> None\n",
      "==> File /pdx-hts/Notebooks/patients/MED411/gene_abundance.sleuth.csv saved successfully\n",
      "==> Done preprocessing!\n",
      "======================================\n",
      "Step 3: classify_sample\n",
      "======================================\n",
      "These are not the analyses you are looking for. Move along!\n",
      "======================================\n",
      "Step 4: run_discover\n",
      "======================================\n",
      "These are not the analyses you are looking for. Move along!\n"
     ]
    },
    {
     "name": "stderr",
     "output_type": "stream",
     "text": [
      "/opt/conda/lib/python3.6/site-packages/pandas/core/indexing.py:1020: FutureWarning: \n",
      "Passing list-likes to .loc or [] with any missing label will raise\n",
      "KeyError in the future, you can use .reindex() as an alternative.\n",
      "\n",
      "See the documentation here:\n",
      "http://pandas.pydata.org/pandas-docs/stable/indexing.html#deprecate-loc-reindex-listlike\n",
      "  return getattr(section, self.name)[new_key]\n",
      "/opt/conda/lib/python3.6/site-packages/pandas/util/_decorators.py:118: FutureWarning: The `sheetname` keyword is deprecated, use `sheet_name` instead\n",
      "  return func(*args, **kwargs)\n"
     ]
    },
    {
     "name": "stdout",
     "output_type": "stream",
     "text": [
      "======================================\n",
      "Step 5: run_cmap\n",
      "======================================\n",
      "==> About to parse CMap results.\n",
      "==> done!\n",
      "==> Merging results from DiSCoVER and CMap.\n",
      "done!\n",
      "==> Done Merging results from DiSCoVER and CMap!\n",
      "==> Saving combined_df and to_slide on setup variable\n",
      "==> Saving the combined DiSCoVER+CMap resuls to a csv called MED411_combined_DISCoVER_and_CMap_results.csv\n",
      "==> Done done!\n",
      "All analyses completed suscessfully with \"patient\" MED411\n"
     ]
    }
   ],
   "source": [
    "# \"MED411\": \"MED411\",\n",
    "run_pipeline(\"MED411\")"
   ]
  },
  {
   "cell_type": "code",
   "execution_count": 30,
   "metadata": {
    "ExecuteTime": {
     "end_time": "2019-01-09T20:46:14.890318Z",
     "start_time": "2019-01-09T20:46:01.237318Z"
    }
   },
   "outputs": [
    {
     "name": "stdout",
     "output_type": "stream",
     "text": [
      "======================================\n",
      "Step 1: read_user_input\n",
      "======================================\n",
      "Reminder: if you want to use a custom control expresion, you must set control to 'custom'\n",
      "==> Setting patient_dir = case_id\n",
      "Setup done!\n",
      "======================================\n",
      "Step 2: download_and_preprocess_rnaseq\n",
      "======================================\n",
      "==> Checking if local file (/pdx-hts/Notebooks/data/preprocessed/exp/MED1712.csv) exist.\n",
      "==> This file containes the expression of the PDXs. Printing dataframe's info:\n",
      "<class 'pandas.core.frame.DataFrame'>\n",
      "Index: 1 entries, MED1712 to MED1712\n",
      "Columns: 16247 entries, A1BG to ZZZ3\n",
      "dtypes: float64(16247)\n",
      "memory usage: 126.9+ KB\n",
      "==> None\n",
      "==> File /pdx-hts/Notebooks/patients/MED1712/gene_abundance.sleuth.csv saved successfully\n",
      "==> Done preprocessing!\n",
      "======================================\n",
      "Step 3: classify_sample\n",
      "======================================\n",
      "These are not the analyses you are looking for. Move along!\n",
      "======================================\n",
      "Step 4: run_discover\n",
      "======================================\n",
      "These are not the analyses you are looking for. Move along!\n",
      "======================================\n",
      "Step 5: run_cmap\n",
      "======================================\n",
      "==> About to parse CMap results.\n"
     ]
    },
    {
     "name": "stderr",
     "output_type": "stream",
     "text": [
      "/opt/conda/lib/python3.6/site-packages/pandas/core/indexing.py:1020: FutureWarning: \n",
      "Passing list-likes to .loc or [] with any missing label will raise\n",
      "KeyError in the future, you can use .reindex() as an alternative.\n",
      "\n",
      "See the documentation here:\n",
      "http://pandas.pydata.org/pandas-docs/stable/indexing.html#deprecate-loc-reindex-listlike\n",
      "  return getattr(section, self.name)[new_key]\n",
      "/opt/conda/lib/python3.6/site-packages/pandas/util/_decorators.py:118: FutureWarning: The `sheetname` keyword is deprecated, use `sheet_name` instead\n",
      "  return func(*args, **kwargs)\n"
     ]
    },
    {
     "name": "stdout",
     "output_type": "stream",
     "text": [
      "==> done!\n",
      "==> Merging results from DiSCoVER and CMap.\n",
      "done!\n",
      "==> Done Merging results from DiSCoVER and CMap!\n",
      "==> Saving combined_df and to_slide on setup variable\n",
      "==> Saving the combined DiSCoVER+CMap resuls to a csv called MED1712_combined_DISCoVER_and_CMap_results.csv\n",
      "==> Done done!\n",
      "All analyses completed suscessfully with \"patient\" MED1712\n"
     ]
    }
   ],
   "source": [
    "# \"MED1712\": \"MED1712\",\n",
    "run_pipeline(\"MED1712\")"
   ]
  },
  {
   "cell_type": "code",
   "execution_count": 31,
   "metadata": {
    "ExecuteTime": {
     "end_time": "2019-01-09T20:46:28.950447Z",
     "start_time": "2019-01-09T20:46:14.894475Z"
    }
   },
   "outputs": [
    {
     "name": "stdout",
     "output_type": "stream",
     "text": [
      "======================================\n",
      "Step 1: read_user_input\n",
      "======================================\n",
      "Reminder: if you want to use a custom control expresion, you must set control to 'custom'\n",
      "==> Setting patient_dir = case_id\n",
      "Setup done!\n",
      "======================================\n",
      "Step 2: download_and_preprocess_rnaseq\n",
      "======================================\n",
      "==> Checking if local file (/pdx-hts/Notebooks/data/preprocessed/exp/MED1911.csv) exist.\n",
      "==> This file containes the expression of the PDXs. Printing dataframe's info:\n",
      "<class 'pandas.core.frame.DataFrame'>\n",
      "Index: 1 entries, MED1911 to MED1911\n",
      "Columns: 16247 entries, A1BG to ZZZ3\n",
      "dtypes: float64(16247)\n",
      "memory usage: 126.9+ KB\n",
      "==> None\n",
      "==> File /pdx-hts/Notebooks/patients/MED1911/gene_abundance.sleuth.csv saved successfully\n",
      "==> Done preprocessing!\n",
      "======================================\n",
      "Step 3: classify_sample\n",
      "======================================\n",
      "These are not the analyses you are looking for. Move along!\n",
      "======================================\n",
      "Step 4: run_discover\n",
      "======================================\n",
      "These are not the analyses you are looking for. Move along!\n",
      "======================================\n",
      "Step 5: run_cmap\n",
      "======================================\n",
      "==> About to parse CMap results.\n"
     ]
    },
    {
     "name": "stderr",
     "output_type": "stream",
     "text": [
      "/opt/conda/lib/python3.6/site-packages/pandas/core/indexing.py:1020: FutureWarning: \n",
      "Passing list-likes to .loc or [] with any missing label will raise\n",
      "KeyError in the future, you can use .reindex() as an alternative.\n",
      "\n",
      "See the documentation here:\n",
      "http://pandas.pydata.org/pandas-docs/stable/indexing.html#deprecate-loc-reindex-listlike\n",
      "  return getattr(section, self.name)[new_key]\n",
      "/opt/conda/lib/python3.6/site-packages/pandas/util/_decorators.py:118: FutureWarning: The `sheetname` keyword is deprecated, use `sheet_name` instead\n",
      "  return func(*args, **kwargs)\n"
     ]
    },
    {
     "name": "stdout",
     "output_type": "stream",
     "text": [
      "==> done!\n",
      "==> Merging results from DiSCoVER and CMap.\n",
      "done!\n",
      "==> Done Merging results from DiSCoVER and CMap!\n",
      "==> Saving combined_df and to_slide on setup variable\n",
      "==> Saving the combined DiSCoVER+CMap resuls to a csv called MED1911_combined_DISCoVER_and_CMap_results.csv\n",
      "==> Done done!\n",
      "All analyses completed suscessfully with \"patient\" MED1911\n"
     ]
    }
   ],
   "source": [
    "# \"MED1911\": \"MED1911\",\n",
    "run_pipeline(\"MED1911\")"
   ]
  },
  {
   "cell_type": "code",
   "execution_count": 32,
   "metadata": {
    "ExecuteTime": {
     "end_time": "2019-01-09T20:46:42.581053Z",
     "start_time": "2019-01-09T20:46:28.956019Z"
    }
   },
   "outputs": [
    {
     "name": "stdout",
     "output_type": "stream",
     "text": [
      "======================================\n",
      "Step 1: read_user_input\n",
      "======================================\n",
      "Reminder: if you want to use a custom control expresion, you must set control to 'custom'\n",
      "==> Setting patient_dir = case_id\n",
      "Setup done!\n",
      "======================================\n",
      "Step 2: download_and_preprocess_rnaseq\n",
      "======================================\n",
      "==> Checking if local file (/pdx-hts/Notebooks/data/preprocessed/exp/MED2312.csv) exist.\n",
      "==> This file containes the expression of the PDXs. Printing dataframe's info:\n",
      "<class 'pandas.core.frame.DataFrame'>\n",
      "Index: 1 entries, MED2312 to MED2312\n",
      "Columns: 16247 entries, A1BG to ZZZ3\n",
      "dtypes: float64(16247)\n",
      "memory usage: 126.9+ KB\n",
      "==> None\n",
      "==> File /pdx-hts/Notebooks/patients/MED2312/gene_abundance.sleuth.csv saved successfully\n",
      "==> Done preprocessing!\n",
      "======================================\n",
      "Step 3: classify_sample\n",
      "======================================\n",
      "These are not the analyses you are looking for. Move along!\n",
      "======================================\n",
      "Step 4: run_discover\n",
      "======================================\n",
      "These are not the analyses you are looking for. Move along!\n",
      "======================================\n",
      "Step 5: run_cmap\n",
      "======================================\n",
      "==> About to parse CMap results.\n"
     ]
    },
    {
     "name": "stderr",
     "output_type": "stream",
     "text": [
      "/opt/conda/lib/python3.6/site-packages/pandas/core/indexing.py:1020: FutureWarning: \n",
      "Passing list-likes to .loc or [] with any missing label will raise\n",
      "KeyError in the future, you can use .reindex() as an alternative.\n",
      "\n",
      "See the documentation here:\n",
      "http://pandas.pydata.org/pandas-docs/stable/indexing.html#deprecate-loc-reindex-listlike\n",
      "  return getattr(section, self.name)[new_key]\n",
      "/opt/conda/lib/python3.6/site-packages/pandas/util/_decorators.py:118: FutureWarning: The `sheetname` keyword is deprecated, use `sheet_name` instead\n",
      "  return func(*args, **kwargs)\n"
     ]
    },
    {
     "name": "stdout",
     "output_type": "stream",
     "text": [
      "==> done!\n",
      "==> Merging results from DiSCoVER and CMap.\n",
      "done!\n",
      "==> Done Merging results from DiSCoVER and CMap!\n",
      "==> Saving combined_df and to_slide on setup variable\n",
      "==> Saving the combined DiSCoVER+CMap resuls to a csv called MED2312_combined_DISCoVER_and_CMap_results.csv\n",
      "==> Done done!\n",
      "All analyses completed suscessfully with \"patient\" MED2312\n"
     ]
    }
   ],
   "source": [
    "# \"MED2312\": \"MED2312\",\n",
    "run_pipeline(\"MED2312\")"
   ]
  },
  {
   "cell_type": "code",
   "execution_count": 33,
   "metadata": {
    "ExecuteTime": {
     "end_time": "2019-01-09T20:46:55.234852Z",
     "start_time": "2019-01-09T20:46:42.591112Z"
    }
   },
   "outputs": [
    {
     "name": "stdout",
     "output_type": "stream",
     "text": [
      "======================================\n",
      "Step 1: read_user_input\n",
      "======================================\n",
      "Reminder: if you want to use a custom control expresion, you must set control to 'custom'\n",
      "==> Setting patient_dir = case_id\n",
      "Setup done!\n",
      "======================================\n",
      "Step 2: download_and_preprocess_rnaseq\n",
      "======================================\n",
      "==> Checking if local file (/pdx-hts/Notebooks/data/preprocessed/exp/RCMB18.csv) exist.\n",
      "==> This file containes the expression of the PDXs. Printing dataframe's info:\n",
      "<class 'pandas.core.frame.DataFrame'>\n",
      "Index: 1 entries, RCMB18 to RCMB18\n",
      "Columns: 16247 entries, A1BG to ZZZ3\n",
      "dtypes: float64(16247)\n",
      "memory usage: 126.9+ KB\n",
      "==> None\n",
      "==> File /pdx-hts/Notebooks/patients/RCMB18/gene_abundance.sleuth.csv saved successfully\n",
      "==> Done preprocessing!\n",
      "======================================\n",
      "Step 3: classify_sample\n",
      "======================================\n",
      "These are not the analyses you are looking for. Move along!\n",
      "======================================\n",
      "Step 4: run_discover\n",
      "======================================\n",
      "These are not the analyses you are looking for. Move along!\n",
      "======================================\n",
      "Step 5: run_cmap\n",
      "======================================\n",
      "==> About to parse CMap results.\n"
     ]
    },
    {
     "name": "stderr",
     "output_type": "stream",
     "text": [
      "/opt/conda/lib/python3.6/site-packages/pandas/core/indexing.py:1020: FutureWarning: \n",
      "Passing list-likes to .loc or [] with any missing label will raise\n",
      "KeyError in the future, you can use .reindex() as an alternative.\n",
      "\n",
      "See the documentation here:\n",
      "http://pandas.pydata.org/pandas-docs/stable/indexing.html#deprecate-loc-reindex-listlike\n",
      "  return getattr(section, self.name)[new_key]\n",
      "/opt/conda/lib/python3.6/site-packages/pandas/util/_decorators.py:118: FutureWarning: The `sheetname` keyword is deprecated, use `sheet_name` instead\n",
      "  return func(*args, **kwargs)\n"
     ]
    },
    {
     "name": "stdout",
     "output_type": "stream",
     "text": [
      "==> done!\n",
      "==> Merging results from DiSCoVER and CMap.\n",
      "done!\n",
      "==> Done Merging results from DiSCoVER and CMap!\n",
      "==> Saving combined_df and to_slide on setup variable\n",
      "==> Saving the combined DiSCoVER+CMap resuls to a csv called RCMB18_combined_DISCoVER_and_CMap_results.csv\n",
      "==> Done done!\n",
      "All analyses completed suscessfully with \"patient\" RCMB18\n"
     ]
    }
   ],
   "source": [
    "# \"RCMB18\": \"RCMB18\",\n",
    "run_pipeline(\"RCMB18\")"
   ]
  },
  {
   "cell_type": "code",
   "execution_count": 34,
   "metadata": {
    "ExecuteTime": {
     "end_time": "2019-01-09T20:47:08.964801Z",
     "start_time": "2019-01-09T20:46:55.240906Z"
    }
   },
   "outputs": [
    {
     "name": "stdout",
     "output_type": "stream",
     "text": [
      "======================================\n",
      "Step 1: read_user_input\n",
      "======================================\n",
      "Reminder: if you want to use a custom control expresion, you must set control to 'custom'\n",
      "==> Setting patient_dir = case_id\n",
      "Setup done!\n",
      "======================================\n",
      "Step 2: download_and_preprocess_rnaseq\n",
      "======================================\n",
      "==> Checking if local file (/pdx-hts/Notebooks/data/preprocessed/exp/RCMB20.csv) exist.\n",
      "==> This file containes the expression of the PDXs. Printing dataframe's info:\n",
      "<class 'pandas.core.frame.DataFrame'>\n",
      "Index: 1 entries, RCMB20 to RCMB20\n",
      "Columns: 16247 entries, A1BG to ZZZ3\n",
      "dtypes: float64(16247)\n",
      "memory usage: 126.9+ KB\n",
      "==> None\n",
      "==> File /pdx-hts/Notebooks/patients/RCMB20/gene_abundance.sleuth.csv saved successfully\n",
      "==> Done preprocessing!\n",
      "======================================\n",
      "Step 3: classify_sample\n",
      "======================================\n",
      "These are not the analyses you are looking for. Move along!\n",
      "======================================\n",
      "Step 4: run_discover\n",
      "======================================\n",
      "These are not the analyses you are looking for. Move along!\n",
      "======================================\n",
      "Step 5: run_cmap\n",
      "======================================\n",
      "==> About to parse CMap results.\n"
     ]
    },
    {
     "name": "stderr",
     "output_type": "stream",
     "text": [
      "/opt/conda/lib/python3.6/site-packages/pandas/core/indexing.py:1020: FutureWarning: \n",
      "Passing list-likes to .loc or [] with any missing label will raise\n",
      "KeyError in the future, you can use .reindex() as an alternative.\n",
      "\n",
      "See the documentation here:\n",
      "http://pandas.pydata.org/pandas-docs/stable/indexing.html#deprecate-loc-reindex-listlike\n",
      "  return getattr(section, self.name)[new_key]\n",
      "/opt/conda/lib/python3.6/site-packages/pandas/util/_decorators.py:118: FutureWarning: The `sheetname` keyword is deprecated, use `sheet_name` instead\n",
      "  return func(*args, **kwargs)\n"
     ]
    },
    {
     "name": "stdout",
     "output_type": "stream",
     "text": [
      "==> done!\n",
      "==> Merging results from DiSCoVER and CMap.\n",
      "done!\n",
      "==> Done Merging results from DiSCoVER and CMap!\n",
      "==> Saving combined_df and to_slide on setup variable\n",
      "==> Saving the combined DiSCoVER+CMap resuls to a csv called RCMB20_combined_DISCoVER_and_CMap_results.csv\n",
      "==> Done done!\n",
      "All analyses completed suscessfully with \"patient\" RCMB20\n"
     ]
    }
   ],
   "source": [
    "# \"RCMB20\": \"RCMB20\",\n",
    "run_pipeline(\"RCMB20\")"
   ]
  },
  {
   "cell_type": "code",
   "execution_count": 35,
   "metadata": {
    "ExecuteTime": {
     "end_time": "2019-01-09T20:47:23.314050Z",
     "start_time": "2019-01-09T20:47:08.977325Z"
    }
   },
   "outputs": [
    {
     "name": "stdout",
     "output_type": "stream",
     "text": [
      "======================================\n",
      "Step 1: read_user_input\n",
      "======================================\n",
      "Reminder: if you want to use a custom control expresion, you must set control to 'custom'\n",
      "==> Setting patient_dir = case_id\n",
      "Setup done!\n",
      "======================================\n",
      "Step 2: download_and_preprocess_rnaseq\n",
      "======================================\n",
      "==> Checking if local file (/pdx-hts/Notebooks/data/preprocessed/exp/RCMB24.csv) exist.\n",
      "==> This file containes the expression of the PDXs. Printing dataframe's info:\n",
      "<class 'pandas.core.frame.DataFrame'>\n",
      "Index: 1 entries, RCMB24 to RCMB24\n",
      "Columns: 16247 entries, A1BG to ZZZ3\n",
      "dtypes: float64(16247)\n",
      "memory usage: 126.9+ KB\n",
      "==> None\n",
      "==> File /pdx-hts/Notebooks/patients/RCMB24/gene_abundance.sleuth.csv saved successfully\n",
      "==> Done preprocessing!\n",
      "======================================\n",
      "Step 3: classify_sample\n",
      "======================================\n",
      "These are not the analyses you are looking for. Move along!\n",
      "======================================\n",
      "Step 4: run_discover\n",
      "======================================\n",
      "These are not the analyses you are looking for. Move along!\n",
      "======================================\n",
      "Step 5: run_cmap\n",
      "======================================\n",
      "==> About to parse CMap results.\n"
     ]
    },
    {
     "name": "stderr",
     "output_type": "stream",
     "text": [
      "/opt/conda/lib/python3.6/site-packages/pandas/core/indexing.py:1020: FutureWarning: \n",
      "Passing list-likes to .loc or [] with any missing label will raise\n",
      "KeyError in the future, you can use .reindex() as an alternative.\n",
      "\n",
      "See the documentation here:\n",
      "http://pandas.pydata.org/pandas-docs/stable/indexing.html#deprecate-loc-reindex-listlike\n",
      "  return getattr(section, self.name)[new_key]\n",
      "/opt/conda/lib/python3.6/site-packages/pandas/util/_decorators.py:118: FutureWarning: The `sheetname` keyword is deprecated, use `sheet_name` instead\n",
      "  return func(*args, **kwargs)\n"
     ]
    },
    {
     "name": "stdout",
     "output_type": "stream",
     "text": [
      "==> done!\n",
      "==> Merging results from DiSCoVER and CMap.\n",
      "done!\n",
      "==> Done Merging results from DiSCoVER and CMap!\n",
      "==> Saving combined_df and to_slide on setup variable\n",
      "==> Saving the combined DiSCoVER+CMap resuls to a csv called RCMB24_combined_DISCoVER_and_CMap_results.csv\n",
      "==> Done done!\n",
      "All analyses completed suscessfully with \"patient\" RCMB24\n"
     ]
    }
   ],
   "source": [
    "# \"RCMB24\": \"RCMB24\",\n",
    "run_pipeline(\"RCMB24\")"
   ]
  },
  {
   "cell_type": "code",
   "execution_count": 36,
   "metadata": {
    "ExecuteTime": {
     "end_time": "2019-01-09T20:47:36.860181Z",
     "start_time": "2019-01-09T20:47:23.328945Z"
    }
   },
   "outputs": [
    {
     "name": "stdout",
     "output_type": "stream",
     "text": [
      "======================================\n",
      "Step 1: read_user_input\n",
      "======================================\n",
      "Reminder: if you want to use a custom control expresion, you must set control to 'custom'\n",
      "==> Setting patient_dir = case_id\n",
      "Setup done!\n",
      "======================================\n",
      "Step 2: download_and_preprocess_rnaseq\n",
      "======================================\n",
      "==> Checking if local file (/pdx-hts/Notebooks/data/preprocessed/exp/RCMB28.csv) exist.\n",
      "==> This file containes the expression of the PDXs. Printing dataframe's info:\n",
      "<class 'pandas.core.frame.DataFrame'>\n",
      "Index: 1 entries, RCMB28 to RCMB28\n",
      "Columns: 16247 entries, A1BG to ZZZ3\n",
      "dtypes: float64(16247)\n",
      "memory usage: 126.9+ KB\n",
      "==> None\n",
      "==> File /pdx-hts/Notebooks/patients/RCMB28/gene_abundance.sleuth.csv saved successfully\n",
      "==> Done preprocessing!\n",
      "======================================\n",
      "Step 3: classify_sample\n",
      "======================================\n",
      "These are not the analyses you are looking for. Move along!\n",
      "======================================\n",
      "Step 4: run_discover\n",
      "======================================\n",
      "These are not the analyses you are looking for. Move along!\n",
      "======================================\n",
      "Step 5: run_cmap\n",
      "======================================\n",
      "==> About to parse CMap results.\n"
     ]
    },
    {
     "name": "stderr",
     "output_type": "stream",
     "text": [
      "/opt/conda/lib/python3.6/site-packages/pandas/core/indexing.py:1020: FutureWarning: \n",
      "Passing list-likes to .loc or [] with any missing label will raise\n",
      "KeyError in the future, you can use .reindex() as an alternative.\n",
      "\n",
      "See the documentation here:\n",
      "http://pandas.pydata.org/pandas-docs/stable/indexing.html#deprecate-loc-reindex-listlike\n",
      "  return getattr(section, self.name)[new_key]\n",
      "/opt/conda/lib/python3.6/site-packages/pandas/util/_decorators.py:118: FutureWarning: The `sheetname` keyword is deprecated, use `sheet_name` instead\n",
      "  return func(*args, **kwargs)\n"
     ]
    },
    {
     "name": "stdout",
     "output_type": "stream",
     "text": [
      "==> done!\n",
      "==> Merging results from DiSCoVER and CMap.\n",
      "done!\n",
      "==> Done Merging results from DiSCoVER and CMap!\n",
      "==> Saving combined_df and to_slide on setup variable\n",
      "==> Saving the combined DiSCoVER+CMap resuls to a csv called RCMB28_combined_DISCoVER_and_CMap_results.csv\n",
      "==> Done done!\n",
      "All analyses completed suscessfully with \"patient\" RCMB28\n"
     ]
    }
   ],
   "source": [
    "# \"RCMB28\": \"RCMB28\",\n",
    "run_pipeline(\"RCMB28\")"
   ]
  },
  {
   "cell_type": "code",
   "execution_count": 37,
   "metadata": {
    "ExecuteTime": {
     "end_time": "2019-01-09T20:47:49.487092Z",
     "start_time": "2019-01-09T20:47:36.877715Z"
    }
   },
   "outputs": [
    {
     "name": "stdout",
     "output_type": "stream",
     "text": [
      "======================================\n",
      "Step 1: read_user_input\n",
      "======================================\n",
      "Reminder: if you want to use a custom control expresion, you must set control to 'custom'\n",
      "==> Setting patient_dir = case_id\n",
      "Setup done!\n",
      "======================================\n",
      "Step 2: download_and_preprocess_rnaseq\n",
      "======================================\n",
      "==> Checking if local file (/pdx-hts/Notebooks/data/preprocessed/exp/RCMB32.csv) exist.\n",
      "==> This file containes the expression of the PDXs. Printing dataframe's info:\n",
      "<class 'pandas.core.frame.DataFrame'>\n",
      "Index: 1 entries, RCMB32 to RCMB32\n",
      "Columns: 16247 entries, A1BG to ZZZ3\n",
      "dtypes: float64(16247)\n",
      "memory usage: 126.9+ KB\n",
      "==> None\n",
      "==> File /pdx-hts/Notebooks/patients/RCMB32/gene_abundance.sleuth.csv saved successfully\n",
      "==> Done preprocessing!\n",
      "======================================\n",
      "Step 3: classify_sample\n",
      "======================================\n",
      "These are not the analyses you are looking for. Move along!\n",
      "======================================\n",
      "Step 4: run_discover\n",
      "======================================\n",
      "These are not the analyses you are looking for. Move along!\n",
      "======================================\n",
      "Step 5: run_cmap\n",
      "======================================\n",
      "==> About to parse CMap results.\n"
     ]
    },
    {
     "name": "stderr",
     "output_type": "stream",
     "text": [
      "/opt/conda/lib/python3.6/site-packages/pandas/core/indexing.py:1020: FutureWarning: \n",
      "Passing list-likes to .loc or [] with any missing label will raise\n",
      "KeyError in the future, you can use .reindex() as an alternative.\n",
      "\n",
      "See the documentation here:\n",
      "http://pandas.pydata.org/pandas-docs/stable/indexing.html#deprecate-loc-reindex-listlike\n",
      "  return getattr(section, self.name)[new_key]\n",
      "/opt/conda/lib/python3.6/site-packages/pandas/util/_decorators.py:118: FutureWarning: The `sheetname` keyword is deprecated, use `sheet_name` instead\n",
      "  return func(*args, **kwargs)\n"
     ]
    },
    {
     "name": "stdout",
     "output_type": "stream",
     "text": [
      "==> done!\n",
      "==> Merging results from DiSCoVER and CMap.\n",
      "done!\n",
      "==> Done Merging results from DiSCoVER and CMap!\n",
      "==> Saving combined_df and to_slide on setup variable\n",
      "==> Saving the combined DiSCoVER+CMap resuls to a csv called RCMB32_combined_DISCoVER_and_CMap_results.csv\n",
      "==> Done done!\n",
      "All analyses completed suscessfully with \"patient\" RCMB32\n"
     ]
    }
   ],
   "source": [
    "# \"RCMB32\": \"RCMB32\",\n",
    "run_pipeline(\"RCMB32\")"
   ]
  },
  {
   "cell_type": "code",
   "execution_count": 38,
   "metadata": {
    "ExecuteTime": {
     "end_time": "2019-01-09T20:48:03.046396Z",
     "start_time": "2019-01-09T20:47:49.491989Z"
    }
   },
   "outputs": [
    {
     "name": "stdout",
     "output_type": "stream",
     "text": [
      "======================================\n",
      "Step 1: read_user_input\n",
      "======================================\n",
      "Reminder: if you want to use a custom control expresion, you must set control to 'custom'\n",
      "==> Setting patient_dir = case_id\n",
      "Setup done!\n",
      "======================================\n",
      "Step 2: download_and_preprocess_rnaseq\n",
      "======================================\n",
      "==> Checking if local file (/pdx-hts/Notebooks/data/preprocessed/exp/RCMB38.csv) exist.\n",
      "==> This file containes the expression of the PDXs. Printing dataframe's info:\n",
      "<class 'pandas.core.frame.DataFrame'>\n",
      "Index: 1 entries, RCMB38 to RCMB38\n",
      "Columns: 16247 entries, A1BG to ZZZ3\n",
      "dtypes: float64(16247)\n",
      "memory usage: 126.9+ KB\n",
      "==> None\n",
      "==> File /pdx-hts/Notebooks/patients/RCMB38/gene_abundance.sleuth.csv saved successfully\n",
      "==> Done preprocessing!\n",
      "======================================\n",
      "Step 3: classify_sample\n",
      "======================================\n",
      "These are not the analyses you are looking for. Move along!\n",
      "======================================\n",
      "Step 4: run_discover\n",
      "======================================\n",
      "These are not the analyses you are looking for. Move along!\n",
      "======================================\n",
      "Step 5: run_cmap\n",
      "======================================\n",
      "==> About to parse CMap results.\n"
     ]
    },
    {
     "name": "stderr",
     "output_type": "stream",
     "text": [
      "/opt/conda/lib/python3.6/site-packages/pandas/core/indexing.py:1020: FutureWarning: \n",
      "Passing list-likes to .loc or [] with any missing label will raise\n",
      "KeyError in the future, you can use .reindex() as an alternative.\n",
      "\n",
      "See the documentation here:\n",
      "http://pandas.pydata.org/pandas-docs/stable/indexing.html#deprecate-loc-reindex-listlike\n",
      "  return getattr(section, self.name)[new_key]\n",
      "/opt/conda/lib/python3.6/site-packages/pandas/util/_decorators.py:118: FutureWarning: The `sheetname` keyword is deprecated, use `sheet_name` instead\n",
      "  return func(*args, **kwargs)\n"
     ]
    },
    {
     "name": "stdout",
     "output_type": "stream",
     "text": [
      "==> done!\n",
      "==> Merging results from DiSCoVER and CMap.\n",
      "done!\n",
      "==> Done Merging results from DiSCoVER and CMap!\n",
      "==> Saving combined_df and to_slide on setup variable\n",
      "==> Saving the combined DiSCoVER+CMap resuls to a csv called RCMB38_combined_DISCoVER_and_CMap_results.csv\n",
      "==> Done done!\n",
      "All analyses completed suscessfully with \"patient\" RCMB38\n"
     ]
    }
   ],
   "source": [
    "# \"RCMB38\": \"RCMB38\",\n",
    "run_pipeline(\"RCMB38\")"
   ]
  },
  {
   "cell_type": "code",
   "execution_count": 39,
   "metadata": {
    "ExecuteTime": {
     "end_time": "2019-01-09T20:48:17.107646Z",
     "start_time": "2019-01-09T20:48:03.057180Z"
    }
   },
   "outputs": [
    {
     "name": "stdout",
     "output_type": "stream",
     "text": [
      "======================================\n",
      "Step 1: read_user_input\n",
      "======================================\n",
      "Reminder: if you want to use a custom control expresion, you must set control to 'custom'\n",
      "==> Setting patient_dir = case_id\n",
      "Setup done!\n",
      "======================================\n",
      "Step 2: download_and_preprocess_rnaseq\n",
      "======================================\n",
      "==> Checking if local file (/pdx-hts/Notebooks/data/preprocessed/exp/RCMB40.csv) exist.\n",
      "==> This file containes the expression of the PDXs. Printing dataframe's info:\n",
      "<class 'pandas.core.frame.DataFrame'>\n",
      "Index: 1 entries, RCMB40 to RCMB40\n",
      "Columns: 16247 entries, A1BG to ZZZ3\n",
      "dtypes: float64(16247)\n",
      "memory usage: 126.9+ KB\n",
      "==> None\n",
      "==> File /pdx-hts/Notebooks/patients/RCMB40/gene_abundance.sleuth.csv saved successfully\n",
      "==> Done preprocessing!\n",
      "======================================\n",
      "Step 3: classify_sample\n",
      "======================================\n",
      "These are not the analyses you are looking for. Move along!\n",
      "======================================\n",
      "Step 4: run_discover\n",
      "======================================\n",
      "These are not the analyses you are looking for. Move along!\n",
      "======================================\n",
      "Step 5: run_cmap\n",
      "======================================\n",
      "==> About to parse CMap results.\n"
     ]
    },
    {
     "name": "stderr",
     "output_type": "stream",
     "text": [
      "/opt/conda/lib/python3.6/site-packages/pandas/core/indexing.py:1020: FutureWarning: \n",
      "Passing list-likes to .loc or [] with any missing label will raise\n",
      "KeyError in the future, you can use .reindex() as an alternative.\n",
      "\n",
      "See the documentation here:\n",
      "http://pandas.pydata.org/pandas-docs/stable/indexing.html#deprecate-loc-reindex-listlike\n",
      "  return getattr(section, self.name)[new_key]\n",
      "/opt/conda/lib/python3.6/site-packages/pandas/util/_decorators.py:118: FutureWarning: The `sheetname` keyword is deprecated, use `sheet_name` instead\n",
      "  return func(*args, **kwargs)\n"
     ]
    },
    {
     "name": "stdout",
     "output_type": "stream",
     "text": [
      "==> done!\n",
      "==> Merging results from DiSCoVER and CMap.\n",
      "done!\n",
      "==> Done Merging results from DiSCoVER and CMap!\n",
      "==> Saving combined_df and to_slide on setup variable\n",
      "==> Saving the combined DiSCoVER+CMap resuls to a csv called RCMB40_combined_DISCoVER_and_CMap_results.csv\n",
      "==> Done done!\n",
      "All analyses completed suscessfully with \"patient\" RCMB40\n"
     ]
    }
   ],
   "source": [
    "# \"RCMB40\": \"RCMB40\"\n",
    "run_pipeline(\"RCMB40\")"
   ]
  },
  {
   "cell_type": "code",
   "execution_count": 40,
   "metadata": {
    "ExecuteTime": {
     "end_time": "2019-01-09T20:48:17.223113Z",
     "start_time": "2019-01-09T20:48:17.116191Z"
    }
   },
   "outputs": [
    {
     "name": "stdout",
     "output_type": "stream",
     "text": [
      "done!\n"
     ]
    }
   ],
   "source": [
    "print('done!')"
   ]
  },
  {
   "cell_type": "code",
   "execution_count": null,
   "metadata": {},
   "outputs": [],
   "source": []
  },
  {
   "cell_type": "code",
   "execution_count": 1,
   "metadata": {
    "ExecuteTime": {
     "end_time": "2019-01-16T21:02:12.040158Z",
     "start_time": "2019-01-16T21:02:11.998058Z"
    },
    "genepattern": {
     "name": "Login",
     "server": "https://cloud.genepattern.org/gp",
     "type": "auth"
    }
   },
   "outputs": [
    {
     "data": {
      "application/vnd.jupyter.widget-view+json": {
       "model_id": "fa1cb27cfae24b67a4c48553949b0af8",
       "version_major": 2,
       "version_minor": 0
      },
      "text/plain": [
       "GPAuthWidget()"
      ]
     },
     "metadata": {},
     "output_type": "display_data"
    }
   ],
   "source": [
    "# Requires GenePattern Notebook: pip install genepattern-notebook\n",
    "import gp\n",
    "import genepattern\n",
    "\n",
    "# Username and password removed for security reasons.\n",
    "genepattern.display(genepattern.session.register(\"https://cloud.genepattern.org/gp\", \"\", \"\"))"
   ]
  },
  {
   "cell_type": "code",
   "execution_count": 2,
   "metadata": {
    "ExecuteTime": {
     "end_time": "2019-01-16T21:02:12.133921Z",
     "start_time": "2019-01-16T21:02:12.098994Z"
    },
    "nbtools": {
     "description": "",
     "name": "set_case_id",
     "param_values": {
      "case_id": "BT084",
      "output_var": "case_id"
     },
     "show_code": false,
     "type": "uibuilder"
    }
   },
   "outputs": [
    {
     "data": {
      "application/vnd.jupyter.widget-view+json": {
       "model_id": "76a6e8b04d374c75b8a38b737a6426f0",
       "version_major": 2,
       "version_minor": 0
      },
      "text/plain": [
       "UIBuilder(function_import='set_case_id', name='set_case_id', params=[{'name': 'case_id', 'label': 'case_id', '…"
      ]
     },
     "metadata": {},
     "output_type": "display_data"
    }
   ],
   "source": [
    "@genepattern.build_ui(parameters={\n",
    "    \"output_var\": {\n",
    "        \"default\": \"case_id\",\n",
    "        \"hide\": False,\n",
    "    },\n",
    "    \"case_id\": {\"type\": \"choice\",\n",
    "                \"description\": \"The name of the case, e.g., 'BT084'\",\n",
    "                \"choices\": {\n",
    "                    \"BT084\": \"BT084\",\n",
    "                    \"DMB006\": \"DMB006\",\n",
    "                    \"ICB984\": \"ICB984\",\n",
    "                    \"ICB1299\": \"ICB1299\",\n",
    "                    \"ICB1487\": \"ICB1487\",\n",
    "                    \"ICB1572\": \"ICB1572\",\n",
    "                    \"MB002\": \"MB002\",\n",
    "                    \"MB009\": \"MB009\",\n",
    "                    \"MED211\": \"MED211\",\n",
    "                    \"MED411\": \"MED411\",\n",
    "                    \"MED1712\": \"MED1712\",\n",
    "                    \"MED1911\": \"MED1911\",\n",
    "                    \"MED2312\": \"MED2312\",\n",
    "                    \"RCMB18\": \"RCMB18\",\n",
    "                    \"RCMB20\": \"RCMB20\",\n",
    "                    \"RCMB24\": \"RCMB24\",\n",
    "                    \"RCMB28\": \"RCMB28\",\n",
    "                    \"RCMB32\": \"RCMB32\",\n",
    "                    \"RCMB38\": \"RCMB38\",\n",
    "                    \"RCMB40\": \"RCMB40\",},\n",
    "               \"default\":\"BT084\"},\n",
    "})\n",
    "def set_case_id(case_id):\n",
    "    print(f'case_id set to \"{case_id}\"')\n",
    "    return case_id"
   ]
  },
  {
   "cell_type": "markdown",
   "metadata": {},
   "source": [
    "## User input"
   ]
  },
  {
   "cell_type": "markdown",
   "metadata": {},
   "source": [
    "Select parameters before running the rest of the notebook."
   ]
  },
  {
   "cell_type": "markdown",
   "metadata": {},
   "source": [
    "<div class=\"alert alert-info\">\n",
    "<h3 style=\"margin-top: 0;\"> Instructions <i class=\"fa fa-info-circle\"></i></h3>\n",
    "Select parameters before running the rest of the notebook.\n",
    "</div>"
   ]
  },
  {
   "cell_type": "code",
   "execution_count": 3,
   "metadata": {
    "ExecuteTime": {
     "end_time": "2019-01-16T21:02:13.884460Z",
     "start_time": "2019-01-16T21:02:12.138912Z"
    },
    "nbtools": {
     "description": "",
     "name": "read_user_input",
     "param_values": {
      "DNA_Nexus": "false",
      "case_id": "{{case_id}}",
      "control": "original",
      "custom_control_expression": "None",
      "dna_nexus_bool": "false",
      "is_medullo": "true",
      "output_var": "setup",
      "patient_dir": "PDX1_dir"
     },
     "show_code": false,
     "type": "uibuilder"
    },
    "scrolled": false
   },
   "outputs": [
    {
     "data": {
      "application/vnd.jupyter.widget-view+json": {
       "model_id": "00331d14ce844905bb0584cb2c7c6c20",
       "version_major": 2,
       "version_minor": 0
      },
      "text/plain": [
       "UIBuilder(function_import='read_user_input', name='read_user_input', params=[{'name': 'case_id', 'label': 'cas…"
      ]
     },
     "metadata": {},
     "output_type": "display_data"
    }
   ],
   "source": [
    "from companion_script import *\n",
    "# # Select case\n",
    "# case_id = 'case17'\n",
    "# # This patient directory should match the directory name on DNANexus.\n",
    "# patient_dir = '18-10716_tumor-normal'\n",
    "# is_medullo = True # set False if it is another kind of brain tumor\n",
    "%load_ext autoreload\n",
    "%autoreload 2\n",
    "%matplotlib inline\n",
    "import readline # required for rpy2 extension\n",
    "%load_ext rpy2.ipython\n",
    "\n",
    "\n",
    "def rmagic_warning(\n",
    "    message,\n",
    "    category = rpy2.rinterface.RRuntimeWarning,\n",
    "    filename = '',\n",
    "    lineno = -1,\n",
    "    file=None,\n",
    "    line=None):\n",
    "    print(message)\n",
    "default_showwarning = warnings.showwarning\n",
    "\n",
    "\n",
    "@genepattern.build_ui(parameters={\n",
    "    \"output_var\": {\n",
    "        \"default\": \"setup\",\n",
    "        \"hide\": False,\n",
    "    },\n",
    "    \"case_id\": {\"type\": \"text\",\n",
    "                \"description\": \"The name of the case, e.g., 'PDX1'\",\n",
    "               \"default\":\"PDX1\"},\n",
    "    \"patient_dir\": {\"type\": \"text\",\n",
    "                    \"description\": 'For DNA Nexus downloads only. The name of the \"patient\" directory, e.g. \"18-10716_tumor-normal\" (quotes are required)',\n",
    "                    \"default\":\"PDX1_dir\"},\n",
    "    \"dna_nexus_bool\": {\"type\": \"bool\",\n",
    "                   \"description\": \"Whether or not this sample has been classified as medulloblastoma\",\n",
    "                  \"default\":False},\n",
    "    \"is_medullo\": {\"type\": \"bool\",\n",
    "                   \"description\": \"Whether or not this sample has been classified as medulloblastoma\",},\n",
    "    \"control\": {\"type\": \"choice\",\n",
    "                \"description\": \"Whether or not to use a custom control\",\n",
    "                \"choices\": {\n",
    "                    \"original\": \"original\",\n",
    "                    \"custom\": \"custom\",\n",
    "                            }\n",
    "               },\n",
    "    \"custom_control_expression\": {\"type\": \"file\",\n",
    "                           \"kinds\": [\"gct\"],\n",
    "                           \"description\": \"The file (or path to the GCT file) which contains the gene expression of the custom control.\",\n",
    "                           \"default\":None},\n",
    "})\n",
    "def read_user_input(case_id, patient_dir, dna_nexus_bool=False, is_medullo=False, control='original',custom_control_expression=None):\n",
    "    # Select control for DiSCoVER and Connectivity Map\n",
    "    # Generally, if the tumor is a medulloblastoma, we use `cerebellar_stem` (comment the `neural_stem` line).\n",
    "    # And if it is any other kind of brain tumor, we use `neural_stem`.\n",
    "    if control == 'original':\n",
    "        expression_control = 'cerebellar_stem' if is_medullo else 'neural_stem'\n",
    "    elif control == 'custom':\n",
    "        expression_control = 'custom_control'\n",
    "    else:\n",
    "        print('Unexpected value for variable named control, value:', control)\n",
    "        \n",
    "    if (len(custom_control_expression) is not 0) and (control is not 'custom'):\n",
    "        print(\"Reminder: if you want to use a custom control expresion, you must set control to 'custom'\")\n",
    "\n",
    "    base_dir = os.getcwd()\n",
    "    utilities_dir = '/build'\n",
    "    patients_dir = os.path.join(base_dir, 'patients')\n",
    "    if not dna_nexus_bool:\n",
    "        log('Setting patient_dir = case_id')\n",
    "        patient_dir = case_id\n",
    "        \n",
    "    in_dir = os.path.join(patients_dir, patient_dir)\n",
    "    \n",
    "    out_dir = in_dir\n",
    "    os.makedirs(out_dir, exist_ok=True)\n",
    "    \n",
    "#     out['base_dir'] = base_dir\n",
    "#     out['utilities_dir'] = utilities_dir\n",
    "#     out['patients_dir'] = patients_dir\n",
    "#     \n",
    "\n",
    "    platform = sys.platform\n",
    "    if platform.startswith('linux'):\n",
    "        os_string = 'linux'\n",
    "    elif platform == 'darwin':\n",
    "        os_string = 'mac'\n",
    "    else:\n",
    "        raise ValueError('Platform \"{}\" not supported'.format(platform))\n",
    "\n",
    "    # RNASeq quantification\n",
    "    kallisto_dir = '/build/kallisto'\n",
    "    kallisto_path = os.path.join(kallisto_dir, 'kallisto_{}-v0.44.0/kallisto'.format(os_string))\n",
    "    transcriptome_index_path = os.path.join(kallisto_dir, 'GRCh38.ensembl.transcriptome.idx')\n",
    "    local_fastqs_dir = os.path.join(in_dir, 'fastqs')\n",
    "    os.makedirs(local_fastqs_dir, exist_ok=True)\n",
    "    patient_gexp_file = os.path.join(out_dir, 'gene_abundance.sleuth.csv')\n",
    "\n",
    "    # Medulloblastoma classification\n",
    "#     from sklearn.ensemble import RandomForestClassifier\n",
    "#     from tumor_classification.medulloblastoma import classify_cavalli, classify_cho, classify_northcott\n",
    "    medullo_classify_out_dir = os.path.join(out_dir, 'medulloblastoma_classification')\n",
    "    if not os.path.exists(medullo_classify_out_dir):\n",
    "        os.mkdir(medullo_classify_out_dir)\n",
    "    cavalli_subgroup_file = os.path.join(medullo_classify_out_dir, 'cavalli_subgroups.csv')\n",
    "    cavalli_subgroup_direct_file = os.path.join(medullo_classify_out_dir, 'cavalli_subgroups_direct.csv')\n",
    "    cavalli_subtype_file = os.path.join(medullo_classify_out_dir, 'cavalli_subtypes.csv')\n",
    "    cho_subtype_file = os.path.join(medullo_classify_out_dir, 'cho_subtypes.csv')\n",
    "    cho_subgroup_file = os.path.join(medullo_classify_out_dir, 'cho_subgroups.csv')\n",
    "    northcott_subgroup_file = os.path.join(medullo_classify_out_dir, 'northcott_subgroups.csv')\n",
    "\n",
    "    drug_suggestion_out_dir = os.path.join(out_dir, 'drug_suggestions')\n",
    "    os.makedirs(drug_suggestion_out_dir, exist_ok=True)\n",
    "\n",
    "    # DiSCoVER\n",
    "    discover_out_dir = os.path.join(drug_suggestion_out_dir, 'discover/{}'.format(expression_control))\n",
    "    os.makedirs(discover_out_dir, exist_ok=True)\n",
    "    discover_heatmap_file = os.path.join(discover_out_dir, 'ctrp.png')\n",
    "    full_discover_results_file = os.path.join(discover_out_dir, 'discover.all.csv')\n",
    "    rdrugs_discover_file = os.path.join(discover_out_dir, '{}.discover.{}.reasonable.annotated.csv'.format(case_id, expression_control))\n",
    "\n",
    "    # Connectivity Map\n",
    "    cmap_out_dir = os.path.join(drug_suggestion_out_dir, 'cmap/{}'.format(expression_control))\n",
    "    os.makedirs(cmap_out_dir, exist_ok=True)\n",
    "    cmap_all_ranked_drugs_file = os.path.join(cmap_out_dir, '{}.cmap.{}.all.csv'.format(case_id, expression_control))\n",
    "    cmap_reasonable_ranked_drugs_file = os.path.join(cmap_out_dir, '{}.cmap.{}.reasonable.annotated.csv'.format(case_id, expression_control))\n",
    "    \n",
    "    # Powerpoint for MTB\n",
    "#     from slides import make_medullo_classification_slide, make_discover_workflow_slide, make_exp_drug_ranking_results_slide, make_intersection_slide\n",
    "    mtb_ppt_file = os.path.join(out_dir, '{}.mtb_slides.pptx'.format(case_id))\n",
    "\n",
    "    # DNANexus\n",
    "    dx_source_path = os.path.join(utilities_dir, 'dx-toolkit/environment')\n",
    "    dnanexus_project = 'UW_UCSD_RNAseq_collaboration_share'\n",
    "    # Replace the contents of this file with your own DNANexus token.\n",
    "    dnanexus_token_file = os.path.join(base_dir, 'dnanexus_token.txt')\n",
    "    # To use the dx command, we must update some environment variables. \n",
    "    # From the command line, this is done with source dx-toolkit/environment, \n",
    "    # but from Python we have to use a workaround, because normally any changes \n",
    "    # to environment variables done in a subprocess are not reflected in the \n",
    "    # parent process. The workaround runs the source command in a subprocess, \n",
    "    # fetches the environment variables from the subprocess and updates those \n",
    "    # of the parent process.\n",
    "#     from utils import source_and_update_env_vars\n",
    "    source_and_update_env_vars(dx_source_path)    \n",
    "    out = {\"case_id\": case_id,\n",
    "                 \"patient_dir\": patient_dir,\n",
    "                 \"is_medullo\": is_medullo}\n",
    "    out['dna_nexus_bool']=dna_nexus_bool\n",
    "    out['expression_control'] = expression_control\n",
    "    out['custom_control_expression'] = custom_control_expression\n",
    "    out['dnanexus_token_file'] = dnanexus_token_file\n",
    "    out['local_fastqs_dir'] = local_fastqs_dir\n",
    "    out['dnanexus_project'] = dnanexus_project\n",
    "    out['local_fastqs_dir'] = local_fastqs_dir\n",
    "    out['transcriptome_index_path'] = transcriptome_index_path\n",
    "    out['kallisto_path'] = kallisto_path\n",
    "    out['kallisto_dir'] = kallisto_dir\n",
    "    out['out_dir'] = out_dir\n",
    "    out['r_out_dir'] = out_dir.replace('\\\\',r'\\\\')\n",
    "    out['patient_gexp_file'] = patient_gexp_file\n",
    "    out['in_dir'] = in_dir\n",
    "    out['cavalli_subgroup_file'] = cavalli_subgroup_file\n",
    "    out['cavalli_subtype_file'] = cavalli_subtype_file\n",
    "    out['cavalli_subgroup_direct_file'] = cavalli_subgroup_direct_file\n",
    "    out['cho_subgroup_file'] = cho_subgroup_file\n",
    "    out['cho_subtype_file'] = cho_subtype_file\n",
    "    out['northcott_subgroup_file'] = northcott_subgroup_file\n",
    "    out['mtb_ppt_file'] = mtb_ppt_file\n",
    "    out['expression_control'] = expression_control\n",
    "    out['full_discover_results_file'] = full_discover_results_file\n",
    "    out['discover_out_dir'] = discover_out_dir\n",
    "    out['discover_heatmap_file'] = discover_heatmap_file\n",
    "    out['rdrugs_discover_file'] = rdrugs_discover_file\n",
    "    out['cmap_out_dir'] = cmap_out_dir\n",
    "    out['cmap_all_ranked_drugs_file'] = cmap_all_ranked_drugs_file\n",
    "    out['cmap_reasonable_ranked_drugs_file'] = cmap_reasonable_ranked_drugs_file\n",
    "    out['mtb_ppt_file'] = mtb_ppt_file\n",
    "    out['out_dir'] = os.path.join(patients_dir, case_id)\n",
    "\n",
    "    if not os.path.exists(out['out_dir']):\n",
    "        os.mkdir(out['out_dir'])\n",
    "    print('Setup done!')\n",
    "    pickle.dump(out, file=open(os.path.join(out['out_dir'], case_id+'_backup1_input.p'),'wb'))\n",
    "    return Bunch(out)"
   ]
  },
  {
   "cell_type": "markdown",
   "metadata": {},
   "source": [
    "<div class=\"well\">\n",
    "Running all cells below this point will execute all the analyses except for one: the Connectivity Map analysis at the end of the notebook, which requires two manual steps.\n",
    "</div>"
   ]
  },
  {
   "cell_type": "markdown",
   "metadata": {},
   "source": [
    "# Download RNAseq data"
   ]
  },
  {
   "cell_type": "code",
   "execution_count": 4,
   "metadata": {
    "ExecuteTime": {
     "end_time": "2019-01-16T21:02:14.006797Z",
     "start_time": "2019-01-16T21:02:13.887304Z"
    },
    "nbtools": {
     "description": "",
     "name": "download_and_preprocess_rnaseq",
     "param_values": {
      "input_expression_dir": "None",
      "output_var": "setup",
      "setup": "setup"
     },
     "show_code": false,
     "type": "uibuilder"
    }
   },
   "outputs": [
    {
     "data": {
      "application/vnd.jupyter.widget-view+json": {
       "model_id": "33b3c12faafe4a94b54365ddc1abb8af",
       "version_major": 2,
       "version_minor": 0
      },
      "text/plain": [
       "UIBuilder(function_import='download_and_preprocess_rnaseq', name='download_and_preprocess_rnaseq', params=[{'n…"
      ]
     },
     "metadata": {},
     "output_type": "display_data"
    }
   ],
   "source": [
    "@genepattern.build_ui(parameters={\n",
    "    \"setup\": {\"default\": \"setup\",\n",
    "              \"hide\": False,\n",
    "              \"description\": \"The variable which has the setup information\"},\n",
    "    \"input_expression_dir\":{\"hide\":True},\n",
    "    \"output_var\": {\n",
    "        \"default\": \"setup\",\n",
    "        \"hide\": True,\n",
    "    },\n",
    "})\n",
    "def download_and_preprocess_rnaseq(setup, input_expression_dir = None):\n",
    "    setup.input_expression_dir = f'/pdx-hts/Notebooks/data/preprocessed/exp/{setup.case_id}.csv'\n",
    "    if setup.dna_nexus_bool:\n",
    "        if input_expression_dir is not None:\n",
    "            log(f\"input_expression_dir has a value ({setup.input_expression_dir}), and it will be ignored!\")\n",
    "        log('About to download fastqfiles from DNA Nexus. This may take a while.')\n",
    "        with open(setup.dnanexus_token_file, 'r') as f:\n",
    "            dnanexus_token = f.readline().strip()\n",
    "        login_command = 'dx login --token {} --noprojects; dx select {}'.format(dnanexus_token, setup.dnanexus_project)\n",
    "        # subprocess.check_output('ls', shell=True).decode('utf-8').strip()\n",
    "        subprocess.check_output(login_command, shell=True).decode('utf-8').strip()\n",
    "\n",
    "        find_fastq_command = 'dx find data --name \"*.fastq.gz\" --path {}:{}'.format(setup.dnanexus_project, setup.patient_dir)\n",
    "        find_fastq_return_lines = subprocess.check_output(find_fastq_command, shell=True).decode().strip().split('\\n')\n",
    "        re_string = '.*(/{}/.*\\.fastq.gz) .*'.format(setup.patient_dir)\n",
    "        fastq_path_re = re.compile(re_string)\n",
    "        remote_fastq_paths = []\n",
    "        local_fastq_subdirs = []\n",
    "\n",
    "        for line in find_fastq_return_lines:\n",
    "            search = fastq_path_re.search(line)\n",
    "            remote_fastq_path = search.group(1)\n",
    "            remote_fastq_paths.append(remote_fastq_path)\n",
    "            fastq_subdir_path = os.path.dirname(remote_fastq_path)\n",
    "            fastq_subdir = os.path.basename(fastq_subdir_path)\n",
    "            local_fastq_subdir = os.path.join(setup.local_fastqs_dir, fastq_subdir)\n",
    "            os.makedirs(local_fastq_subdir, exist_ok=True)\n",
    "            local_fastq_subdirs.append(local_fastq_subdir)\n",
    "\n",
    "        for remote_fastq_path, local_fastq_subdir in zip(remote_fastq_paths, local_fastq_subdirs):\n",
    "            download_command = 'dx download \"{}\" -o \"{}\"'.format(remote_fastq_path, local_fastq_subdir)\n",
    "            print('\\t'+download_command)\n",
    "            try:\n",
    "                a=subprocess.check_output(download_command, shell=True)\n",
    "            except subprocess.CalledProcessError as e:\n",
    "                print('\\tEncountered a dx error, this likely means you already have the file indicated above.')\n",
    "                print('\\tContinuing...\\n')\n",
    "                continue\n",
    "        log('Done downloading the fastq files.')\n",
    "        log('Preprocessing RNASeq data now:')\n",
    "        log('Using kallisto to compute transcript abundance.')\n",
    "        preprocess_rna_seq(setup)\n",
    "        log('Done with tanscript abundance.')\n",
    "        log('Using sleuth to aggregate transcript abundance into gene abbundance.')\n",
    "        run_sleuth(setup)\n",
    "        patient_exp = pd.read_csv(setup.patient_gexp_file, index_col=0).T\n",
    "        patient_exp.index = [setup.case_id]\n",
    "        setup.patient_exp = patient_exp\n",
    "        patient_exp.to_csv(setup.patient_gexp_file)\n",
    "        log('Habemus Genus Expressium *release the white smoke*')\n",
    "    else:\n",
    "        log(f'Checking if local file ({setup.input_expression_dir}) exist.')\n",
    "        if os.path.isfile(setup.input_expression_dir):\n",
    "            df = pd.read_csv(setup.input_expression_dir, index_col=0)\n",
    "            setup.expression_input = df\n",
    "            log(\"This file containes the expression of the PDXs. Printing dataframe's info:\")\n",
    "            log(setup.expression_input.info())\n",
    "        else:\n",
    "            log('File could not be located please check and run again.')\n",
    "        patient_exp = df\n",
    "        setup.patient_exp = patient_exp\n",
    "        patient_exp.to_csv(setup.patient_gexp_file)\n",
    "        log(f'File {setup.patient_gexp_file} saved successfully')\n",
    "    \n",
    "    pickle.dump(setup, file=open(os.path.join(setup.out_dir, setup.case_id+'_backup2_download.p'),'wb'))\n",
    "#     pickle.dump(setup, file=open(setup.out_dir+'_backup2_download.p','wb'))\n",
    "    log('Done preprocessing!')\n",
    "    return setup"
   ]
  },
  {
   "cell_type": "markdown",
   "metadata": {},
   "source": [
    "# Classify the tumor by medulloblastoma subgroup and subtype"
   ]
  },
  {
   "cell_type": "code",
   "execution_count": 5,
   "metadata": {
    "ExecuteTime": {
     "end_time": "2019-01-16T21:02:14.063147Z",
     "start_time": "2019-01-16T21:02:14.009624Z"
    },
    "nbtools": {
     "description": "This function classifies a medulloblastoma sample into a subgroup. Non-medulloblastoma samples are ignored.",
     "name": "classify_sample",
     "param_values": {
      "output_var": "setup",
      "setup": "setup"
     },
     "show_code": false,
     "type": "uibuilder"
    },
    "scrolled": true
   },
   "outputs": [
    {
     "data": {
      "application/vnd.jupyter.widget-view+json": {
       "model_id": "8e8d074a643f4ae0a38c00374a1138b8",
       "version_major": 2,
       "version_minor": 0
      },
      "text/plain": [
       "UIBuilder(description='This function classifies a medulloblastoma sample into a subgroup. Non-medulloblastoma …"
      ]
     },
     "metadata": {},
     "output_type": "display_data"
    }
   ],
   "source": [
    "@genepattern.build_ui(\n",
    "    description=\"This function classifies a medulloblastoma sample into a subgroup. Non-medulloblastoma samples are ignored.\",\n",
    "    parameters={\n",
    "    \"setup\": {\"default\": \"setup\",\n",
    "              \"hide\": False,\n",
    "              \"description\": \"The variable which has the setup information\"},\n",
    "    \"output_var\": {\n",
    "        \"default\": \"setup\",\n",
    "        \"hide\": True,\n",
    "    },\n",
    "})\n",
    "def classify_sample(setup):\n",
    "    # We have three datasets we can use to classify based on expression:\n",
    "    # - [Cavalli et al. 2017](http://www.sciencedirect.com/science/article/pii/S1535610817302015) cohort. This cohort includes 763 tumors, and was used to define 12 finer-grained subtypes nested in the 4 subgroups. Both expression and methylation data are available.\n",
    "\n",
    "    # - [Cho et al. 2011](http://www.mesirovlab.org/medulloblastoma/cho/) cohort. This paper identified two subtypes within G3 and two within G4, for a total of 6. It contains 194 tumors.\n",
    "\n",
    "    # - [Northcott et al. 2017](http://www.nature.com/nature/journal/v547/n7663/full/nature22973.html) expression data (shared by Sebastian). The labels we have for this data are of the 4 basic subgroups only. There are 223 tumors.\n",
    "\n",
    "    # When finer-grained subtypes are known, we perform the finer-grained classification first and also collapse the subtypes to the 4 basic subgroups, so as to report both subtype and subgroup probabilities. Classification is done using random forests.\n",
    "\n",
    "    # Since the patient data are from the same platform and contain the same features each time, we can use pre-fit models to classify them. The classification methods also have a fallback in case the data looks different.\n",
    "\n",
    "    # The tumor board is arranging for methylation data to be obtained from patient samples as well, since it seems it may be more informative than expression. Methylation data would also allow comparison to a large and variety collection of brain tumors, currently available through a DKFZ [web portal](https://www.molecularneuropathology.org/mnp).\n",
    "\n",
    "    if setup.is_medullo:\n",
    "        # Read in patient's gene-level RNASeq TPM data\n",
    "        patient_exp = pd.read_csv(setup.patient_gexp_file, index_col=0)\n",
    "\n",
    "        cavalli_subgroups, cavalli_subtypes = classify_cavalli(patient_exp)\n",
    "        cavalli_subgroups.to_csv(setup.cavalli_subgroup_file)\n",
    "        cavalli_subtypes.to_csv(setup.cavalli_subtype_file)\n",
    "        setup.cavalli_subgroups = cavalli_subgroups\n",
    "        setup.cavalli_subgroups.name='Cavalli'\n",
    "        setup.cavalli_subtypes = cavalli_subtypes\n",
    "        setup.cavalli_subtypes.name='Cavalli'\n",
    "\n",
    "        cho_subgroups, cho_subtypes = classify_cho(patient_exp)\n",
    "        cho_subtypes.to_csv(setup.cho_subtype_file)\n",
    "        cho_subgroups.to_csv(setup.cho_subgroup_file)\n",
    "        setup.cho_subtypes = cho_subtypes\n",
    "        setup.cho_subtypes.name = 'Cho'\n",
    "        setup.cho_subgroups = cho_subgroups\n",
    "        setup.cho_subgroups.name = 'Cho'\n",
    "\n",
    "        northcott_subgroups = classify_northcott(patient_exp)\n",
    "        northcott_subgroups.to_csv(setup.northcott_subgroup_file)\n",
    "        setup.northcott_subgroups = northcott_subgroups\n",
    "        setup.northcott_subgroups.name = 'Northcott'\n",
    "        \n",
    "\n",
    "        make_medullo_classification_slide(setup.mtb_ppt_file,\n",
    "                                          setup.cavalli_subgroup_file,\n",
    "                                          setup.cavalli_subtype_file,\n",
    "                                          setup.cho_subgroup_file,\n",
    "                                          setup.cho_subtype_file,\n",
    "                                          setup.northcott_subgroup_file)\n",
    "        subgroups = pd.DataFrame(data=setup.cavalli_subgroups).join(setup.cho_subgroups).join(setup.northcott_subgroups)\n",
    "        setup.subgroups = subgroups\n",
    "        print(setup.subgroups)\n",
    "        cavalli_subtypes = pd.DataFrame(data=setup.cavalli_subtypes)\n",
    "        setup.cavalli_subtypes = cavalli_subtypes\n",
    "        print(cavalli_subtypes)\n",
    "        cho_subtypes = pd.DataFrame(pd.Series(index=[3,1,6,5,4,2], data=['SHH','G3-MYC','WNT','G3-photoreceptor','G4-Mixed','G4-neuronal'],name='Subtypes')).join(setup.cho_subtypes)\n",
    "        setup.cho_subtypes = cho_subtypes\n",
    "        print(cho_subtypes)\n",
    "        \n",
    "        log('Done! Move along')\n",
    "    else:\n",
    "        log('This is not medulloblastoma. Nothing to do here. Move along')\n",
    "#     pickle.dump(setup, file=open(setup.out_dir+'_backup3_classify.p','wb'))\n",
    "    pickle.dump(setup, file=open(os.path.join(setup.out_dir, setup.case_id+'_backup3_classify.p'),'wb'))\n",
    "    \n",
    "    return setup"
   ]
  },
  {
   "cell_type": "code",
   "execution_count": null,
   "metadata": {},
   "outputs": [],
   "source": []
  },
  {
   "cell_type": "markdown",
   "metadata": {},
   "source": [
    "# Suggest drugs based on RNAseq data (DiSCoVER)"
   ]
  },
  {
   "cell_type": "code",
   "execution_count": null,
   "metadata": {},
   "outputs": [],
   "source": []
  },
  {
   "cell_type": "code",
   "execution_count": 177,
   "metadata": {
    "ExecuteTime": {
     "end_time": "2019-01-11T19:55:30.503262Z",
     "start_time": "2019-01-11T19:55:30.448437Z"
    }
   },
   "outputs": [
    {
     "data": {
      "text/plain": [
       "'/pdx-hts/Notebooks/patients/DMB006/drug_suggestions/discover/cerebellar_stem'"
      ]
     },
     "execution_count": 177,
     "metadata": {},
     "output_type": "execute_result"
    }
   ],
   "source": [
    "setup.discover_out_dir"
   ]
  },
  {
   "cell_type": "code",
   "execution_count": 6,
   "metadata": {
    "ExecuteTime": {
     "end_time": "2019-01-16T21:02:14.127910Z",
     "start_time": "2019-01-16T21:02:14.066301Z"
    },
    "nbtools": {
     "description": "Run DiSCoVER on the provided sample and control.",
     "name": "run_discover",
     "param_values": {
      "output_var": "setup",
      "setup": "setup"
     },
     "show_code": true,
     "type": "uibuilder"
    },
    "scrolled": true
   },
   "outputs": [
    {
     "data": {
      "application/vnd.jupyter.widget-view+json": {
       "model_id": "44e16a6c187d45b0bde6e15db011efb2",
       "version_major": 2,
       "version_minor": 0
      },
      "text/plain": [
       "UIBuilder(description='Run DiSCoVER on the provided sample and control.', function_import='run_discover', name…"
      ]
     },
     "metadata": {},
     "output_type": "display_data"
    }
   ],
   "source": [
    "@genepattern.build_ui(\n",
    "  description=\"Run DiSCoVER on the provided sample and control.\",\n",
    "  parameters={\n",
    "    \"setup\": {\"default\": \"setup\",\n",
    "              \"hide\": False,\n",
    "              \"description\": \"The variable which has the setup information\"},\n",
    "    \"output_var\": {\n",
    "        \"default\": \"setup\",\n",
    "        \"hide\": True,\n",
    "    },\n",
    "})\n",
    "def run_discover(setup):\n",
    "    from rpy2.robjects import numpy2ri\n",
    "    numpy2ri.activate()\n",
    "#     from discover import discover_from_expression, plot_discover_from_expression\n",
    "    from discover_temp import discover_from_expression, plot_discover_from_expression\n",
    "    from drug_suggestion.expression.controls import load_control_exp\n",
    "    patient_exp = pd.read_csv(setup.patient_gexp_file, index_col=0)\n",
    "    control_exp = load_control_exp(setup.expression_control)\n",
    "    log(\"About to perform DiSCoVER.\")\n",
    "    discover_results = discover_from_expression(exp=patient_exp, \n",
    "                                                control_exp=control_exp, \n",
    "                                                verbose=False, extra_outputs=True)\n",
    "    setup.raw_discover_results = discover_results\n",
    "#     pickle.dump(setup, file=open(setup.out_dir+'_backup4-0_DISCoVER.p','wb'))\n",
    "#     print(discover_results)\n",
    "    # move some files created by DiSCoVER\n",
    "#     for cl_name in ['ccle','ctrp','gdsc']:\n",
    "#         os.rename(f\"COSMIC_cell_lines_IDs_and_types_{cl_name}.csv\", os.path.join(setup.out_dir, f\"COSMIC_cell_lines_IDs_and_types_{cl_name}.csv\"))\n",
    "    \n",
    "    log(\"DiSCoVER done!\")\n",
    "    numpy2ri.deactivate()\n",
    "    \n",
    "    log(\"Moving files contaiend enrichment of cell lines\")\n",
    "    for current_file in ['cell_lines_IDs_and_types_ccle.csv','cell_lines_IDs_and_types_COSMIC_IDS_gdsc.csv','cell_lines_IDs_and_types_ctrp.csv']:\n",
    "        os.rename(current_file,os.path.join(setup.discover_out_dir,current_file))\n",
    "        log(f'Moved {current_file} to {os.path.join(setup.discover_out_dir,current_file)}')\n",
    "    \n",
    "    \n",
    "    log(\"Ranking cell lines by enrichment and saving those\")\n",
    "    ranked_diseases_from_enrichment = rank_cell_lines(setup)\n",
    "    \n",
    "    log('Saving results to file.')\n",
    "    # display(discover_results)\n",
    "    discover_results.T.sort_values(by=setup.case_id, ascending=False).to_csv(setup.full_discover_results_file)\n",
    "    log(\"Saving done!\")\n",
    "    log(\"NOT Restricting to clinically relevant drugs.\")\n",
    "    #Not all drugs in CCLE, CTRP, and GDSC are realistic candidates for treatment. We compiled a list of medications that are FDA-approved or in late-stage clinical trials, and Dr. Wechsler-Reya curated it to include only those that are relevant for treating brain tumors. Here we limit the results to these drugs and add Dr. Wechsler-Reya's mechanism-of-action annotations. To enable comparison of drug lists, drugs from the different sources have been mapped to PubChem compound IDs (CIDs) using [PubChemPy](http://pubchempy.readthedocs.io/en/latest/).\n",
    "    from drug_suggestion.drug_annotation import subset_to_reasonable_drugs\n",
    "    from drug_suggestion.expression.discover import load_discover_drug_to_cids\n",
    "    disco2cid = load_discover_drug_to_cids()\n",
    "    reasonable_results = subset_to_reasonable_drugs(discover_results, \n",
    "                                                disco2cid, \n",
    "                                                out_prefix='discover.{}'.format(setup.expression_control), \n",
    "                                                out_dir=setup.discover_out_dir)\n",
    "    # This will override the file setup.rdrugs_discover_file\n",
    "    all_drugs = format_drugs(discover_results, \n",
    "                                disco2cid, \n",
    "                                out_prefix='discover.{}'.format(setup.expression_control), \n",
    "                                out_dir=setup.discover_out_dir)\n",
    "    log('Done restricting to clinically relevant drugs!')\n",
    "    \n",
    "##     log('making a discover illustrative method')\n",
    "##     from drug_suggestion.expression.discover import plot_discover_from_expression\n",
    "##     plot_discover_from_expression(case_id, \n",
    "##                                   discover_results, \n",
    "##                                   exp=patient_exp,\n",
    "##                                   control_exp=control_exp,\n",
    "##                                   cl='ctrp',\n",
    "##                                   out_file=discover_heatmap_file)\n",
    "##     make_discover_workflow_slide(mtb_ppt_file, discover_heatmap_file)\n",
    "    log('Making the DiSCoVER powerpoint.')\n",
    "    rdrugs_discover = pd.read_csv(setup.rdrugs_discover_file, index_col=None)\n",
    "\n",
    "    \n",
    "    # Using all of the drugs\n",
    "    log('Using all of the drugs')\n",
    "    df = split_discover_dataframe(df=rdrugs_discover)\n",
    "    df = rank_drugs_discover(df)\n",
    "#     df.head()\n",
    "    make_exp_drug_ranking_results_slide(setup.mtb_ppt_file, df.head(20), setup.expression_control, method='DiSCoVER')\n",
    "    log('Done making the DiSCoVER powerpoint slide!')\n",
    "    log('Savig the variables to a file.')\n",
    "    setup.ranked_diseases_from_enrichment = ranked_diseases_from_enrichment\n",
    "    setup.discover_results = discover_results\n",
    "    setup.disco2cid = disco2cid\n",
    "    setup.control_exp = control_exp\n",
    "    setup.reasonable_results = reasonable_results\n",
    "    setup.df = df\n",
    "    log('Saving the formatted results of DiSCoVER to a csv')\n",
    "    df.to_csv(os.path.join(setup.out_dir, setup.case_id+'_formated_DISCoVER_results.csv'))\n",
    "#     pickle.dump(setup, file=open(setup.out_dir+'_backup4_DISCoVER.p','wb'))\n",
    "    pickle.dump(setup, file=open(os.path.join(setup.out_dir, setup.case_id+'_backup4_DISCoVER.p'),'wb'))\n",
    "#     pickle.dump(setup, file=open(setup.case_id+'_DISCoVER.p','wb'))\n",
    "    log('Done savig the variables to a file!')\n",
    "    \n",
    "    log('Done with all the taks in this cell. Move along.')\n",
    "    return setup"
   ]
  },
  {
   "cell_type": "code",
   "execution_count": null,
   "metadata": {},
   "outputs": [],
   "source": []
  },
  {
   "cell_type": "markdown",
   "metadata": {},
   "source": [
    "# Run CMap"
   ]
  },
  {
   "cell_type": "code",
   "execution_count": null,
   "metadata": {
    "ExecuteTime": {
     "end_time": "2019-01-08T19:34:57.939234Z",
     "start_time": "2019-01-08T19:34:03.353132Z"
    }
   },
   "outputs": [],
   "source": [
    "# delete\n",
    "case_id='BT084'\n",
    "print('======================================')\n",
    "print(\"Step 1: read_user_input\")\n",
    "print('======================================')\n",
    "setup = read_user_input(case_id, patient_dir=case_id, dna_nexus_bool=False, is_medullo=True, control='original',custom_control_expression='N/A')\n",
    "print('======================================')\n",
    "print(\"Step 2: download_and_preprocess_rnaseq\")\n",
    "print('======================================')\n",
    "setup = download_and_preprocess_rnaseq(setup)\n",
    "print('======================================')\n",
    "print(\"Step 3: classify_sample\")\n",
    "print('======================================')\n",
    "if CLASSIFY:\n",
    "    setup = classify_sample(setup)\n",
    "else:\n",
    "     print(\"These are not the analyses you are looking for. Move along!\")   \n",
    "print('======================================')\n",
    "print(\"Step 4: run_discover\")\n",
    "print('======================================')\n",
    "setup = run_discover(setup)\n",
    "print('======================================')\n",
    "print(\"Step 5: run_cmap\")\n",
    "print('======================================')\n",
    "setup = make_cmap_slide(setup)\n",
    "setup = merge_discover_and_cmap(setup)\n",
    "print(f'All analyses completed suscessfully with \"patient\" {case_id}')\n"
   ]
  },
  {
   "cell_type": "code",
   "execution_count": null,
   "metadata": {},
   "outputs": [],
   "source": []
  },
  {
   "cell_type": "code",
   "execution_count": null,
   "metadata": {},
   "outputs": [],
   "source": []
  },
  {
   "cell_type": "code",
   "execution_count": 7,
   "metadata": {
    "ExecuteTime": {
     "end_time": "2019-01-16T21:02:14.189453Z",
     "start_time": "2019-01-16T21:02:14.131608Z"
    },
    "nbtools": {
     "description": "This function parses CMap's results.",
     "name": "make_cmap_slide",
     "param_values": {
      "output_var": "setup",
      "setup": "setup"
     },
     "show_code": false,
     "type": "uibuilder"
    }
   },
   "outputs": [
    {
     "data": {
      "application/vnd.jupyter.widget-view+json": {
       "model_id": "c2904f43ce0e40dc80c574fb7da64160",
       "version_major": 2,
       "version_minor": 0
      },
      "text/plain": [
       "UIBuilder(description=\"This function parses CMap's results.\", function_import='make_cmap_slide', name='make_cm…"
      ]
     },
     "metadata": {},
     "output_type": "display_data"
    }
   ],
   "source": [
    "from cmap import make_cmap_genesets, write_cmap_genesets\n",
    "from cmap import read_cmap_gct, load_cmap_drug_to_cids\n",
    "from controls import load_control_exp\n",
    "\n",
    "@genepattern.build_ui(\n",
    "  description=\"This function parses CMap's results.\",\n",
    "  parameters={\n",
    "    \"setup\": {\"default\": \"setup\",\n",
    "              \"hide\": False,\n",
    "              \"description\": \"The variable which has the setup information\"},\n",
    "    \"output_var\": {\n",
    "        \"default\": \"setup\",\n",
    "        \"hide\": True,\n",
    "    },\n",
    "})\n",
    "def make_cmap_slide(setup):\n",
    "    log('About to parse CMap results.')\n",
    "    patient_exp = pd.read_csv(setup.patient_gexp_file, index_col=0)\n",
    "    control_exp = load_control_exp(setup.expression_control)\n",
    "    cmap_genesets = make_cmap_genesets(patient_exp, control_exp)\n",
    "    write_cmap_genesets(cmap_genesets, setup.cmap_out_dir)\n",
    "\n",
    "    # must match path to downloaded .gct file\n",
    "    cmap_gct = os.path.join(setup.cmap_out_dir, 'cmap_result.gct')\n",
    "\n",
    "    if os.path.exists(cmap_gct):\n",
    "        cmap_ranked_drugs = read_cmap_gct(cmap_gct)\n",
    "        cmap_ranked_drugs.columns = [setup.case_id]\n",
    "        cmap_ranked_drugs.to_csv(setup.cmap_all_ranked_drugs_file)\n",
    "        cmap2cid = load_cmap_drug_to_cids()\n",
    "        cmap_reasonable = subset_to_reasonable_drugs(cmap_ranked_drugs.T, \n",
    "                                   cmap2cid,\n",
    "                                   out_prefix='cmap.{}'.format(setup.expression_control), \n",
    "                                   out_dir=setup.cmap_out_dir).sort_values(by=setup.case_id, ascending=False)\n",
    "        rdrugs_cmap = pd.read_csv(setup.cmap_reasonable_ranked_drugs_file, index_col=None)\n",
    "        make_exp_drug_ranking_results_slide(setup.mtb_ppt_file, rdrugs_cmap, setup.expression_control, method='CMap')\n",
    "        setup.rdrugs_cmap = rdrugs_cmap\n",
    "        setup.cmap_flag = True\n",
    "        pickle.dump(setup, file=open(os.path.join(setup.out_dir, setup.case_id+'_backup5_CMap.p'),'wb'))\n",
    "        log(\"done!\")\n",
    "    else:\n",
    "        setup.cmap_flag = False\n",
    "        log(f\"cmap_result.gct not found! (It should be present in the directiory {setup.cmap_out_dir}).\")\n",
    "        log(\"Try again if you'd like to see CMap results.\")\n",
    "        log(\"Hint, you may want to go here:\")\n",
    "        log(\"https://clue.io/l1000-query#individual\")\n",
    "    return setup"
   ]
  },
  {
   "cell_type": "code",
   "execution_count": null,
   "metadata": {
    "ExecuteTime": {
     "end_time": "2019-01-08T19:36:02.713414Z",
     "start_time": "2019-01-08T19:35:55.244540Z"
    }
   },
   "outputs": [],
   "source": [
    "setup = make_cmap_slide(setup)"
   ]
  },
  {
   "cell_type": "code",
   "execution_count": 8,
   "metadata": {
    "ExecuteTime": {
     "end_time": "2019-01-16T21:02:14.249514Z",
     "start_time": "2019-01-16T21:02:14.192450Z"
    },
    "nbtools": {
     "description": "This function merges the results of DiSCoVER and CMap.",
     "name": "merge_discover_and_cmap",
     "param_values": {
      "output_var": "setup",
      "setup": "setup"
     },
     "show_code": false,
     "type": "uibuilder"
    }
   },
   "outputs": [
    {
     "data": {
      "application/vnd.jupyter.widget-view+json": {
       "model_id": "1fc628afa4cf4ee99e130cddf766167d",
       "version_major": 2,
       "version_minor": 0
      },
      "text/plain": [
       "UIBuilder(description='This function merges the results of DiSCoVER and CMap.', function_import='merge_discove…"
      ]
     },
     "metadata": {},
     "output_type": "display_data"
    }
   ],
   "source": [
    "def add_cmap_to_split_df(discover,cmap):\n",
    "    df = discover.rename(index=str, columns={\"score\": \"DiSCoVER\", \"moa\":\"MoA\"},inplace=False)\n",
    "    for index, row in cmap.iterrows():\n",
    "        drug = row['drug'].lower()\n",
    "        try:\n",
    "            if str(df.loc[drug,'CMAP']) != 'nan':\n",
    "                #drug already exists and a CMAP score has been added\n",
    "                df.loc[drug,'CMAP'] = np.nanmean([row['score'], df.loc[drug,'CMAP']])\n",
    "            else:\n",
    "                # drug already exists but a CMAP score has not been added\n",
    "                df.loc[drug,'CMAP'] = row['score']\n",
    "        except KeyError:\n",
    "            # drug didn't exist therefore a CMAP score had not been added\n",
    "            df.loc[drug,'CMAP'] = row['score']    \n",
    "            df.loc[drug,'MoA'] = row['moa']\n",
    "            df.loc[drug,'drug'] = 'cmap_'+drug\n",
    "        if str(df.loc[drug,'evidence'])=='nan': #numpy is not letting me use np.isnan()\n",
    "            df.loc[drug,'evidence'] = '...'+sign_to_letter[str(np.sign(row['score']))]\n",
    "        else:\n",
    "            df.loc[drug,'evidence'] = str(df.loc[drug,'evidence'])+sign_to_letter[str(np.sign(row['score']))]\n",
    "    \n",
    "    #update those rows which are not in cmap\n",
    "    for index, row in df.iterrows():\n",
    "        if len(row['evidence'])==3:\n",
    "            df.loc[index,'evidence']  = df.loc[index,'evidence']+'.'            \n",
    "    \n",
    "    return df[['drug','MoA','GDSC','CTRP','CCLE','DiSCoVER','CMAP','evidence']]\n",
    "\n",
    "\n",
    "def custom_mean(ser):\n",
    "    if pd.isna(ser['DiSCoVER']):\n",
    "        to_mean = ser['CMAP rank']\n",
    "    elif pd.isna(ser['CMAP']):\n",
    "        to_mean = ser['DiSCoVER rank']\n",
    "    else:\n",
    "        to_mean = ser[['DiSCoVER rank','CMAP rank']].mean()\n",
    "#         to_mean = np.mean(ser['DiSCoVER rank','CMAP rank'])\n",
    "    return to_mean\n",
    "\n",
    "\n",
    "def rank_combined_df(df, strict_rules = False):\n",
    "#     df['average'] = df.drop(['MoA','GDSC','CTRP','CCLE','support'],axis=1,inplace=False).mean(axis=1,skipna=True).round(3)\n",
    "    df.sort_values(by=['DiSCoVER'],ascending=False,axis=0,inplace=True)\n",
    "    df['DiSCoVER rank'] = range(1, len(df) + 1)\n",
    "    df.sort_values(by=['CMAP'],ascending=False,axis=0,inplace=True)\n",
    "    df['CMAP rank'] = range(1, len(df) + 1)\n",
    "    \n",
    "    # compute average rank\n",
    "    \n",
    "    #A simple average does not do the trick. It penalizes drugs which show up in only one of the methods\n",
    "    # df['Average rank'] = df[['DiSCoVER rank','CMAP rank']].mean(axis=1)\n",
    "    df['Average rank'] = df[['DiSCoVER','CMAP','DiSCoVER rank','CMAP rank']].apply(custom_mean, axis=1)\n",
    "    \n",
    "    df.sort_values(by=['Average rank'],ascending=True,axis=0,inplace=True)\n",
    "    \n",
    "    if strict_rules:\n",
    "        df = df[((df['DiSCoVER']>0.001).values) & ((df['CMAP']>0.001).values)]\n",
    "#     combined_df = combined_df[((combined_df['DiSCoVER']>0.001).values) & ((combined_df['CMAP']>0.001).values)]\n",
    "\n",
    "    return df.drop(['GDSC','CTRP','CCLE'],axis=1,inplace=False)\n",
    "\n",
    "@genepattern.build_ui(\n",
    "  description=\"This function merges the results of DiSCoVER and CMap.\",\n",
    "  parameters={\n",
    "    \"setup\": {\"default\": \"setup\",\n",
    "              \"hide\": False,\n",
    "              \"description\": \"The variable which has the setup information\"},\n",
    "    \"output_var\": {\n",
    "        \"default\": \"setup\",\n",
    "        \"hide\": True,\n",
    "    },\n",
    "})\n",
    "def merge_discover_and_cmap(setup):\n",
    "    if setup.cmap_flag:\n",
    "        log('Merging results from DiSCoVER and CMap.')\n",
    "        combined_df = add_cmap_to_split_df(discover=setup.df,cmap=setup.rdrugs_cmap)\n",
    "        to_slide = rank_combined_df(combined_df)\n",
    "\n",
    "        #this is commented out, since it is not used for the paper\n",
    "        make_intersection_slide(setup.mtb_ppt_file, to_slide, setup.expression_control, method='DiSCoVER ∩ CMap')\n",
    "\n",
    "        log(\"Done Merging results from DiSCoVER and CMap!\")\n",
    "        log(\"Saving combined_df and to_slide on setup variable\")\n",
    "        setup.combined_df = combined_df\n",
    "        setup.to_slide = to_slide\n",
    "        log(f\"Saving the combined DiSCoVER+CMap resuls to a csv called {setup.case_id+'_combined_DISCoVER_and_CMap_results.csv'}\")\n",
    "        setup.combined_df.to_csv(os.path.join(setup.out_dir, setup.case_id+'_combined_DISCoVER_and_CMap_results.csv'))\n",
    "        pickle.dump(setup, file=open(os.path.join(setup.out_dir, setup.case_id+'_backup6_combined_results.p'),'wb'))\n",
    "        log(\"Done done!\")\n",
    "        \n",
    "    else:\n",
    "        log('CMap has not run! Nothing to do here.')\n",
    "    \n",
    "    return setup"
   ]
  },
  {
   "cell_type": "code",
   "execution_count": null,
   "metadata": {},
   "outputs": [],
   "source": []
  },
  {
   "cell_type": "code",
   "execution_count": null,
   "metadata": {
    "ExecuteTime": {
     "end_time": "2019-01-09T17:39:37.395390Z",
     "start_time": "2019-01-09T17:39:37.318600Z"
    }
   },
   "outputs": [],
   "source": [
    "setup.to_slide"
   ]
  },
  {
   "cell_type": "code",
   "execution_count": null,
   "metadata": {
    "ExecuteTime": {
     "end_time": "2019-01-09T17:40:58.812815Z",
     "start_time": "2019-01-09T17:40:58.775231Z"
    }
   },
   "outputs": [],
   "source": [
    "d_names = [\n",
    "'monafide',\n",
    "'bx-912',\n",
    "'linsitinib',\n",
    "'ABT-737',\n",
    "'anisomycin',\n",
    "'GSK1070916',\n",
    "'topotecan',\n",
    "'etoposide'\n",
    "]\n",
    "\n",
    "d_names = [x.lower() for x in d_names]"
   ]
  },
  {
   "cell_type": "code",
   "execution_count": null,
   "metadata": {
    "ExecuteTime": {
     "end_time": "2019-01-09T17:40:59.303489Z",
     "start_time": "2019-01-09T17:40:59.243255Z"
    }
   },
   "outputs": [],
   "source": [
    "setup.combined_df[setup.combined_df.index.isin(d_names)]"
   ]
  },
  {
   "cell_type": "code",
   "execution_count": null,
   "metadata": {},
   "outputs": [],
   "source": []
  },
  {
   "cell_type": "code",
   "execution_count": null,
   "metadata": {},
   "outputs": [],
   "source": []
  }
 ],
 "metadata": {
  "kernelspec": {
   "display_name": "Python 3",
   "language": "python",
   "name": "python3"
  },
  "language_info": {
   "codemirror_mode": {
    "name": "ipython",
    "version": 3
   },
   "file_extension": ".py",
   "mimetype": "text/x-python",
   "name": "python",
   "nbconvert_exporter": "python",
   "pygments_lexer": "ipython3",
   "version": "3.6.3"
  }
 },
 "nbformat": 4,
 "nbformat_minor": 2
}
