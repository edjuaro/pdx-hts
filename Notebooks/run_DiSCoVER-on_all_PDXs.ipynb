{
 "cells": [
  {
   "cell_type": "markdown",
   "metadata": {},
   "source": [
    "## RNASeq workflow for PDX-HTS paper\n"
   ]
  },
  {
   "cell_type": "markdown",
   "metadata": {},
   "source": [
    "This notebook contains all the analyses..."
   ]
  },
  {
   "cell_type": "code",
   "execution_count": 12,
   "metadata": {
    "ExecuteTime": {
     "end_time": "2018-12-17T19:28:51.413120Z",
     "start_time": "2018-12-17T19:28:51.372897Z"
    }
   },
   "outputs": [],
   "source": [
    "# Performing common imports ... a few other imports are made automatically by UIBuilder cells bellow. Don't delete them!\n",
    "%matplotlib inline\n",
    "from common_imports import *"
   ]
  },
  {
   "cell_type": "code",
   "execution_count": 18,
   "metadata": {
    "ExecuteTime": {
     "end_time": "2018-12-17T19:32:45.276353Z",
     "start_time": "2018-12-17T19:32:45.234914Z"
    }
   },
   "outputs": [],
   "source": [
    "def run_pipeline(case_id):\n",
    "    print('======================================')\n",
    "    print(\"Step 1: read_user_input\")\n",
    "    print('======================================')\n",
    "    setup = read_user_input(case_id, patient_dir=case_id, dna_nexus_bool=False, is_medullo=True, control='original',custom_control_expression='N/A')\n",
    "    print('======================================')\n",
    "    print(\"Step 2: download_and_preprocess_rnaseq\")\n",
    "    print('======================================')\n",
    "    setup = download_and_preprocess_rnaseq(setup)\n",
    "    print('======================================')\n",
    "    print(\"Step 3: classify_sample\")\n",
    "    print('======================================')\n",
    "    setup = classify_sample(setup)\n",
    "    print('======================================')\n",
    "    print(\"Step 4: run_discover\")\n",
    "    print('======================================')\n",
    "    setup = run_discover(setup)\n",
    "    print(f'All analyses completed suscessfully with \"patient\" {case_id}')\n",
    "    return"
   ]
  },
  {
   "cell_type": "code",
   "execution_count": 19,
   "metadata": {
    "ExecuteTime": {
     "end_time": "2018-12-17T19:35:34.359463Z",
     "start_time": "2018-12-17T19:32:52.288599Z"
    }
   },
   "outputs": [
    {
     "name": "stdout",
     "output_type": "stream",
     "text": [
      "======================================\n",
      "Step 1: read_user_input\n",
      "======================================\n",
      "Reminder: if you want to use a custom control expresion, you must set control to 'custom'\n",
      "==> Setting patient_dir = case_id\n",
      "Setup done!\n",
      "======================================\n",
      "Step 2: download_and_preprocess_rnaseq\n",
      "======================================\n",
      "==> Checking if local file (/pdx-hts/Notebooks/data/preprocessed/exp/BT084.csv) exist.\n",
      "==> This file containes the expression of the PDXs. Printing dataframe's info:\n",
      "<class 'pandas.core.frame.DataFrame'>\n",
      "Index: 1 entries, BT084 to BT084\n",
      "Columns: 16247 entries, A1BG to ZZZ3\n",
      "dtypes: float64(16247)\n",
      "memory usage: 126.9+ KB\n",
      "==> None\n",
      "==> File /pdx-hts/Notebooks/patients/BT084/gene_abundance.sleuth.csv saved successfully\n",
      "==> Done preprocessing!\n",
      "======================================\n",
      "Step 3: classify_sample\n",
      "======================================\n"
     ]
    },
    {
     "name": "stderr",
     "output_type": "stream",
     "text": [
      "/opt/conda/lib/python3.6/site-packages/pandas/core/series.py:2890: FutureWarning: from_csv is deprecated. Please use read_csv(...) instead. Note that some of the default arguments are different, so please refer to the documentation for from_csv when changing your function calls\n",
      "  infer_datetime_format=infer_datetime_format)\n"
     ]
    },
    {
     "name": "stdout",
     "output_type": "stream",
     "text": [
      "     Cavalli     Cho  Northcott\n",
      "SHH   0.5990  0.6839     0.6310\n",
      "G3    0.1611  0.1687     0.1870\n",
      "G4    0.1200  0.0847     0.1146\n",
      "WNT   0.1199  0.0627     0.0674\n",
      "           Cavalli\n",
      "SHH_alpha   0.3573\n",
      "SHH_delta   0.1147\n",
      "G3_gamma    0.0839\n",
      "SHH_gamma   0.0717\n",
      "G4_alpha    0.0702\n",
      "WNT_alpha   0.0627\n",
      "WNT_beta    0.0572\n",
      "SHH_beta    0.0553\n",
      "G3_beta     0.0411\n",
      "G3_alpha    0.0361\n",
      "G4_beta     0.0259\n",
      "G4_gamma    0.0239\n",
      "           Subtypes     Cho\n",
      "3               SHH  0.6839\n",
      "1            G3-MYC  0.1217\n",
      "6               WNT  0.0627\n",
      "5  G3-photoreceptor  0.0470\n",
      "4          G4-Mixed  0.0484\n",
      "2       G4-neuronal  0.0363\n",
      "==> Done! Move along\n",
      "======================================\n",
      "Step 4: run_discover\n",
      "======================================\n",
      "==> About to perform DiSCoVER.\n"
     ]
    },
    {
     "name": "stderr",
     "output_type": "stream",
     "text": [
      "/opt/conda/lib/python3.6/site-packages/pandas/core/indexing.py:1020: FutureWarning: \n",
      "Passing list-likes to .loc or [] with any missing label will raise\n",
      "KeyError in the future, you can use .reindex() as an alternative.\n",
      "\n",
      "See the documentation here:\n",
      "http://pandas.pydata.org/pandas-docs/stable/indexing.html#deprecate-loc-reindex-listlike\n",
      "  return getattr(section, self.name)[new_key]\n"
     ]
    },
    {
     "name": "stdout",
     "output_type": "stream",
     "text": [
      "==> DiSCoVER done!\n",
      "==> Saving results to file.\n",
      "==> Saving done!\n",
      "==> NOT Restricting to clinically relevant drugs.\n"
     ]
    },
    {
     "name": "stderr",
     "output_type": "stream",
     "text": [
      "/opt/conda/lib/python3.6/site-packages/pandas/util/_decorators.py:118: FutureWarning: The `sheetname` keyword is deprecated, use `sheet_name` instead\n",
      "  return func(*args, **kwargs)\n"
     ]
    },
    {
     "name": "stdout",
     "output_type": "stream",
     "text": [
      "==> Done restricting to clinically relevant drugs!\n",
      "==> Making the DiSCoVER powerpoint.\n",
      "==> Using all of the drugs\n",
      "==> Done making the DiSCoVER powerpoint slide!\n",
      "==> Savig the variables to a file.\n",
      "==> Saving the formatted results of DiSCoVER to a csv\n",
      "==> Done savig the variables to a file!\n",
      "==> Done with all the taks in this cell. Move along.\n",
      "All analyses completed suscessfully with \"patient\" BT084\n"
     ]
    }
   ],
   "source": [
    "# \"BT084\"\n",
    "run_pipeline('BT084')"
   ]
  },
  {
   "cell_type": "code",
   "execution_count": 20,
   "metadata": {
    "ExecuteTime": {
     "end_time": "2018-12-17T19:39:16.441223Z",
     "start_time": "2018-12-17T19:36:37.789316Z"
    }
   },
   "outputs": [
    {
     "name": "stdout",
     "output_type": "stream",
     "text": [
      "======================================\n",
      "Step 1: read_user_input\n",
      "======================================\n",
      "Reminder: if you want to use a custom control expresion, you must set control to 'custom'\n",
      "==> Setting patient_dir = case_id\n",
      "Setup done!\n",
      "======================================\n",
      "Step 2: download_and_preprocess_rnaseq\n",
      "======================================\n",
      "==> Checking if local file (/pdx-hts/Notebooks/data/preprocessed/exp/DMB006.csv) exist.\n",
      "==> This file containes the expression of the PDXs. Printing dataframe's info:\n",
      "<class 'pandas.core.frame.DataFrame'>\n",
      "Index: 1 entries, DMB006 to DMB006\n",
      "Columns: 16247 entries, A1BG to ZZZ3\n",
      "dtypes: float64(16247)\n",
      "memory usage: 126.9+ KB\n",
      "==> None\n",
      "==> File /pdx-hts/Notebooks/patients/DMB006/gene_abundance.sleuth.csv saved successfully\n",
      "==> Done preprocessing!\n",
      "======================================\n",
      "Step 3: classify_sample\n",
      "======================================\n"
     ]
    },
    {
     "name": "stderr",
     "output_type": "stream",
     "text": [
      "/opt/conda/lib/python3.6/site-packages/pandas/core/series.py:2890: FutureWarning: from_csv is deprecated. Please use read_csv(...) instead. Note that some of the default arguments are different, so please refer to the documentation for from_csv when changing your function calls\n",
      "  infer_datetime_format=infer_datetime_format)\n"
     ]
    },
    {
     "name": "stdout",
     "output_type": "stream",
     "text": [
      "     Cavalli     Cho  Northcott\n",
      "G4    0.4875  0.5272     0.5484\n",
      "G3    0.2078  0.2795     0.3055\n",
      "SHH   0.1963  0.1352     0.0871\n",
      "WNT   0.1084  0.0581     0.0590\n",
      "           Cavalli\n",
      "G4_alpha    0.2066\n",
      "G4_beta     0.2011\n",
      "SHH_alpha   0.0864\n",
      "G3_gamma    0.0811\n",
      "G4_gamma    0.0798\n",
      "G3_beta     0.0795\n",
      "WNT_beta    0.0589\n",
      "WNT_alpha   0.0495\n",
      "G3_alpha    0.0472\n",
      "SHH_gamma   0.0440\n",
      "SHH_delta   0.0435\n",
      "SHH_beta    0.0224\n",
      "           Subtypes     Cho\n",
      "3               SHH  0.1352\n",
      "1            G3-MYC  0.1707\n",
      "6               WNT  0.0581\n",
      "5  G3-photoreceptor  0.1088\n",
      "4          G4-Mixed  0.1908\n",
      "2       G4-neuronal  0.3364\n",
      "==> Done! Move along\n",
      "======================================\n",
      "Step 4: run_discover\n",
      "======================================\n",
      "==> About to perform DiSCoVER.\n"
     ]
    },
    {
     "name": "stderr",
     "output_type": "stream",
     "text": [
      "/opt/conda/lib/python3.6/site-packages/pandas/core/indexing.py:1020: FutureWarning: \n",
      "Passing list-likes to .loc or [] with any missing label will raise\n",
      "KeyError in the future, you can use .reindex() as an alternative.\n",
      "\n",
      "See the documentation here:\n",
      "http://pandas.pydata.org/pandas-docs/stable/indexing.html#deprecate-loc-reindex-listlike\n",
      "  return getattr(section, self.name)[new_key]\n"
     ]
    },
    {
     "name": "stdout",
     "output_type": "stream",
     "text": [
      "==> DiSCoVER done!\n",
      "==> Saving results to file.\n",
      "==> Saving done!\n",
      "==> NOT Restricting to clinically relevant drugs.\n"
     ]
    },
    {
     "name": "stderr",
     "output_type": "stream",
     "text": [
      "/opt/conda/lib/python3.6/site-packages/pandas/util/_decorators.py:118: FutureWarning: The `sheetname` keyword is deprecated, use `sheet_name` instead\n",
      "  return func(*args, **kwargs)\n"
     ]
    },
    {
     "name": "stdout",
     "output_type": "stream",
     "text": [
      "==> Done restricting to clinically relevant drugs!\n",
      "==> Making the DiSCoVER powerpoint.\n",
      "==> Using all of the drugs\n",
      "==> Done making the DiSCoVER powerpoint slide!\n",
      "==> Savig the variables to a file.\n",
      "==> Saving the formatted results of DiSCoVER to a csv\n",
      "==> Done savig the variables to a file!\n",
      "==> Done with all the taks in this cell. Move along.\n",
      "All analyses completed suscessfully with \"patient\" DMB006\n"
     ]
    }
   ],
   "source": [
    "# \"DMB006\": \"DMB006\",\n",
    "run_pipeline(\"DMB006\")"
   ]
  },
  {
   "cell_type": "code",
   "execution_count": 21,
   "metadata": {
    "ExecuteTime": {
     "end_time": "2018-12-17T19:42:23.009333Z",
     "start_time": "2018-12-17T19:39:38.955663Z"
    }
   },
   "outputs": [
    {
     "name": "stdout",
     "output_type": "stream",
     "text": [
      "======================================\n",
      "Step 1: read_user_input\n",
      "======================================\n",
      "Reminder: if you want to use a custom control expresion, you must set control to 'custom'\n",
      "==> Setting patient_dir = case_id\n",
      "Setup done!\n",
      "======================================\n",
      "Step 2: download_and_preprocess_rnaseq\n",
      "======================================\n",
      "==> Checking if local file (/pdx-hts/Notebooks/data/preprocessed/exp/ICB984.csv) exist.\n",
      "==> This file containes the expression of the PDXs. Printing dataframe's info:\n",
      "<class 'pandas.core.frame.DataFrame'>\n",
      "Index: 1 entries, ICB984 to ICB984\n",
      "Columns: 16247 entries, A1BG to ZZZ3\n",
      "dtypes: float64(16247)\n",
      "memory usage: 126.9+ KB\n",
      "==> None\n",
      "==> File /pdx-hts/Notebooks/patients/ICB984/gene_abundance.sleuth.csv saved successfully\n",
      "==> Done preprocessing!\n",
      "======================================\n",
      "Step 3: classify_sample\n",
      "======================================\n"
     ]
    },
    {
     "name": "stderr",
     "output_type": "stream",
     "text": [
      "/opt/conda/lib/python3.6/site-packages/pandas/core/series.py:2890: FutureWarning: from_csv is deprecated. Please use read_csv(...) instead. Note that some of the default arguments are different, so please refer to the documentation for from_csv when changing your function calls\n",
      "  infer_datetime_format=infer_datetime_format)\n"
     ]
    },
    {
     "name": "stdout",
     "output_type": "stream",
     "text": [
      "     Cavalli     Cho  Northcott\n",
      "SHH   0.5269  0.5954     0.5449\n",
      "G4    0.1806  0.1247     0.1491\n",
      "G3    0.1528  0.1938     0.1975\n",
      "WNT   0.1397  0.0861     0.1085\n",
      "           Cavalli\n",
      "SHH_alpha   0.2882\n",
      "G4_alpha    0.1043\n",
      "SHH_delta   0.0981\n",
      "SHH_gamma   0.0810\n",
      "WNT_alpha   0.0760\n",
      "G3_gamma    0.0748\n",
      "WNT_beta    0.0637\n",
      "SHH_beta    0.0596\n",
      "G3_beta     0.0467\n",
      "G4_beta     0.0419\n",
      "G4_gamma    0.0344\n",
      "G3_alpha    0.0313\n",
      "           Subtypes     Cho\n",
      "3               SHH  0.5954\n",
      "1            G3-MYC  0.1351\n",
      "6               WNT  0.0861\n",
      "5  G3-photoreceptor  0.0587\n",
      "4          G4-Mixed  0.0722\n",
      "2       G4-neuronal  0.0525\n",
      "==> Done! Move along\n",
      "======================================\n",
      "Step 4: run_discover\n",
      "======================================\n",
      "==> About to perform DiSCoVER.\n"
     ]
    },
    {
     "name": "stderr",
     "output_type": "stream",
     "text": [
      "/opt/conda/lib/python3.6/site-packages/pandas/core/indexing.py:1020: FutureWarning: \n",
      "Passing list-likes to .loc or [] with any missing label will raise\n",
      "KeyError in the future, you can use .reindex() as an alternative.\n",
      "\n",
      "See the documentation here:\n",
      "http://pandas.pydata.org/pandas-docs/stable/indexing.html#deprecate-loc-reindex-listlike\n",
      "  return getattr(section, self.name)[new_key]\n"
     ]
    },
    {
     "name": "stdout",
     "output_type": "stream",
     "text": [
      "==> DiSCoVER done!\n",
      "==> Saving results to file.\n",
      "==> Saving done!\n",
      "==> NOT Restricting to clinically relevant drugs.\n"
     ]
    },
    {
     "name": "stderr",
     "output_type": "stream",
     "text": [
      "/opt/conda/lib/python3.6/site-packages/pandas/util/_decorators.py:118: FutureWarning: The `sheetname` keyword is deprecated, use `sheet_name` instead\n",
      "  return func(*args, **kwargs)\n"
     ]
    },
    {
     "name": "stdout",
     "output_type": "stream",
     "text": [
      "==> Done restricting to clinically relevant drugs!\n",
      "==> Making the DiSCoVER powerpoint.\n",
      "==> Using all of the drugs\n",
      "==> Done making the DiSCoVER powerpoint slide!\n",
      "==> Savig the variables to a file.\n",
      "==> Saving the formatted results of DiSCoVER to a csv\n",
      "==> Done savig the variables to a file!\n",
      "==> Done with all the taks in this cell. Move along.\n",
      "All analyses completed suscessfully with \"patient\" ICB984\n"
     ]
    }
   ],
   "source": [
    "# \"ICB984\": \"ICB984\",\n",
    "run_pipeline(\"ICB984\")"
   ]
  },
  {
   "cell_type": "code",
   "execution_count": 22,
   "metadata": {
    "ExecuteTime": {
     "end_time": "2018-12-17T19:45:02.764471Z",
     "start_time": "2018-12-17T19:42:23.013854Z"
    }
   },
   "outputs": [
    {
     "name": "stdout",
     "output_type": "stream",
     "text": [
      "======================================\n",
      "Step 1: read_user_input\n",
      "======================================\n",
      "Reminder: if you want to use a custom control expresion, you must set control to 'custom'\n",
      "==> Setting patient_dir = case_id\n",
      "Setup done!\n",
      "======================================\n",
      "Step 2: download_and_preprocess_rnaseq\n",
      "======================================\n",
      "==> Checking if local file (/pdx-hts/Notebooks/data/preprocessed/exp/ICB1299.csv) exist.\n",
      "==> This file containes the expression of the PDXs. Printing dataframe's info:\n",
      "<class 'pandas.core.frame.DataFrame'>\n",
      "Index: 1 entries, ICB1299 to ICB1299\n",
      "Columns: 16247 entries, A1BG to ZZZ3\n",
      "dtypes: float64(16247)\n",
      "memory usage: 126.9+ KB\n",
      "==> None\n",
      "==> File /pdx-hts/Notebooks/patients/ICB1299/gene_abundance.sleuth.csv saved successfully\n",
      "==> Done preprocessing!\n",
      "======================================\n",
      "Step 3: classify_sample\n",
      "======================================\n"
     ]
    },
    {
     "name": "stderr",
     "output_type": "stream",
     "text": [
      "/opt/conda/lib/python3.6/site-packages/pandas/core/series.py:2890: FutureWarning: from_csv is deprecated. Please use read_csv(...) instead. Note that some of the default arguments are different, so please refer to the documentation for from_csv when changing your function calls\n",
      "  infer_datetime_format=infer_datetime_format)\n"
     ]
    },
    {
     "name": "stdout",
     "output_type": "stream",
     "text": [
      "     Cavalli     Cho  Northcott\n",
      "G3    0.3804  0.4684     0.4774\n",
      "SHH   0.2599  0.2582     0.1684\n",
      "G4    0.2282  0.1696     0.2697\n",
      "WNT   0.1315  0.1038     0.0845\n",
      "           Cavalli\n",
      "G3_gamma    0.2174\n",
      "SHH_alpha   0.1345\n",
      "G4_alpha    0.1208\n",
      "G3_beta     0.0979\n",
      "WNT_beta    0.0694\n",
      "G3_alpha    0.0651\n",
      "WNT_alpha   0.0621\n",
      "G4_gamma    0.0589\n",
      "SHH_delta   0.0491\n",
      "G4_beta     0.0485\n",
      "SHH_gamma   0.0450\n",
      "SHH_beta    0.0313\n",
      "           Subtypes     Cho\n",
      "3               SHH  0.2582\n",
      "1            G3-MYC  0.3464\n",
      "6               WNT  0.1038\n",
      "5  G3-photoreceptor  0.1220\n",
      "4          G4-Mixed  0.0965\n",
      "2       G4-neuronal  0.0731\n",
      "==> Done! Move along\n",
      "======================================\n",
      "Step 4: run_discover\n",
      "======================================\n",
      "==> About to perform DiSCoVER.\n"
     ]
    },
    {
     "name": "stderr",
     "output_type": "stream",
     "text": [
      "/opt/conda/lib/python3.6/site-packages/pandas/core/indexing.py:1020: FutureWarning: \n",
      "Passing list-likes to .loc or [] with any missing label will raise\n",
      "KeyError in the future, you can use .reindex() as an alternative.\n",
      "\n",
      "See the documentation here:\n",
      "http://pandas.pydata.org/pandas-docs/stable/indexing.html#deprecate-loc-reindex-listlike\n",
      "  return getattr(section, self.name)[new_key]\n"
     ]
    },
    {
     "name": "stdout",
     "output_type": "stream",
     "text": [
      "==> DiSCoVER done!\n",
      "==> Saving results to file.\n",
      "==> Saving done!\n",
      "==> NOT Restricting to clinically relevant drugs.\n"
     ]
    },
    {
     "name": "stderr",
     "output_type": "stream",
     "text": [
      "/opt/conda/lib/python3.6/site-packages/pandas/util/_decorators.py:118: FutureWarning: The `sheetname` keyword is deprecated, use `sheet_name` instead\n",
      "  return func(*args, **kwargs)\n"
     ]
    },
    {
     "name": "stdout",
     "output_type": "stream",
     "text": [
      "==> Done restricting to clinically relevant drugs!\n",
      "==> Making the DiSCoVER powerpoint.\n",
      "==> Using all of the drugs\n",
      "==> Done making the DiSCoVER powerpoint slide!\n",
      "==> Savig the variables to a file.\n",
      "==> Saving the formatted results of DiSCoVER to a csv\n",
      "==> Done savig the variables to a file!\n",
      "==> Done with all the taks in this cell. Move along.\n",
      "All analyses completed suscessfully with \"patient\" ICB1299\n"
     ]
    }
   ],
   "source": [
    "# \"ICB1299\": \"ICB1299\",\n",
    "run_pipeline(\"ICB1299\")"
   ]
  },
  {
   "cell_type": "code",
   "execution_count": 23,
   "metadata": {
    "ExecuteTime": {
     "end_time": "2018-12-17T19:47:39.834224Z",
     "start_time": "2018-12-17T19:45:02.767306Z"
    }
   },
   "outputs": [
    {
     "name": "stdout",
     "output_type": "stream",
     "text": [
      "======================================\n",
      "Step 1: read_user_input\n",
      "======================================\n",
      "Reminder: if you want to use a custom control expresion, you must set control to 'custom'\n",
      "==> Setting patient_dir = case_id\n",
      "Setup done!\n",
      "======================================\n",
      "Step 2: download_and_preprocess_rnaseq\n",
      "======================================\n",
      "==> Checking if local file (/pdx-hts/Notebooks/data/preprocessed/exp/ICB1487.csv) exist.\n",
      "==> This file containes the expression of the PDXs. Printing dataframe's info:\n",
      "<class 'pandas.core.frame.DataFrame'>\n",
      "Index: 1 entries, ICB1487 to ICB1487\n",
      "Columns: 16247 entries, A1BG to ZZZ3\n",
      "dtypes: float64(16247)\n",
      "memory usage: 126.9+ KB\n",
      "==> None\n",
      "==> File /pdx-hts/Notebooks/patients/ICB1487/gene_abundance.sleuth.csv saved successfully\n",
      "==> Done preprocessing!\n",
      "======================================\n",
      "Step 3: classify_sample\n",
      "======================================\n"
     ]
    },
    {
     "name": "stderr",
     "output_type": "stream",
     "text": [
      "/opt/conda/lib/python3.6/site-packages/pandas/core/series.py:2890: FutureWarning: from_csv is deprecated. Please use read_csv(...) instead. Note that some of the default arguments are different, so please refer to the documentation for from_csv when changing your function calls\n",
      "  infer_datetime_format=infer_datetime_format)\n"
     ]
    },
    {
     "name": "stdout",
     "output_type": "stream",
     "text": [
      "     Cavalli     Cho  Northcott\n",
      "G4    0.4845  0.5199     0.5412\n",
      "G3    0.2520  0.3030     0.3100\n",
      "SHH   0.1649  0.1121     0.0956\n",
      "WNT   0.0986  0.0650     0.0532\n",
      "           Cavalli\n",
      "G4_alpha    0.2125\n",
      "G4_gamma    0.1807\n",
      "G3_beta     0.0950\n",
      "G4_beta     0.0913\n",
      "G3_gamma    0.0847\n",
      "SHH_alpha   0.0724\n",
      "G3_alpha    0.0723\n",
      "WNT_alpha   0.0501\n",
      "WNT_beta    0.0485\n",
      "SHH_gamma   0.0395\n",
      "SHH_delta   0.0291\n",
      "SHH_beta    0.0239\n",
      "           Subtypes     Cho\n",
      "3               SHH  0.1121\n",
      "1            G3-MYC  0.1433\n",
      "6               WNT  0.0650\n",
      "5  G3-photoreceptor  0.1597\n",
      "4          G4-Mixed  0.2486\n",
      "2       G4-neuronal  0.2713\n",
      "==> Done! Move along\n",
      "======================================\n",
      "Step 4: run_discover\n",
      "======================================\n",
      "==> About to perform DiSCoVER.\n"
     ]
    },
    {
     "name": "stderr",
     "output_type": "stream",
     "text": [
      "/opt/conda/lib/python3.6/site-packages/pandas/core/indexing.py:1020: FutureWarning: \n",
      "Passing list-likes to .loc or [] with any missing label will raise\n",
      "KeyError in the future, you can use .reindex() as an alternative.\n",
      "\n",
      "See the documentation here:\n",
      "http://pandas.pydata.org/pandas-docs/stable/indexing.html#deprecate-loc-reindex-listlike\n",
      "  return getattr(section, self.name)[new_key]\n"
     ]
    },
    {
     "name": "stdout",
     "output_type": "stream",
     "text": [
      "==> DiSCoVER done!\n",
      "==> Saving results to file.\n",
      "==> Saving done!\n",
      "==> NOT Restricting to clinically relevant drugs.\n"
     ]
    },
    {
     "name": "stderr",
     "output_type": "stream",
     "text": [
      "/opt/conda/lib/python3.6/site-packages/pandas/util/_decorators.py:118: FutureWarning: The `sheetname` keyword is deprecated, use `sheet_name` instead\n",
      "  return func(*args, **kwargs)\n"
     ]
    },
    {
     "name": "stdout",
     "output_type": "stream",
     "text": [
      "==> Done restricting to clinically relevant drugs!\n",
      "==> Making the DiSCoVER powerpoint.\n",
      "==> Using all of the drugs\n",
      "==> Done making the DiSCoVER powerpoint slide!\n",
      "==> Savig the variables to a file.\n",
      "==> Saving the formatted results of DiSCoVER to a csv\n",
      "==> Done savig the variables to a file!\n",
      "==> Done with all the taks in this cell. Move along.\n",
      "All analyses completed suscessfully with \"patient\" ICB1487\n"
     ]
    }
   ],
   "source": [
    "# \"ICB1487\": \"ICB1487\",\n",
    "run_pipeline(\"ICB1487\")"
   ]
  },
  {
   "cell_type": "code",
   "execution_count": 24,
   "metadata": {
    "ExecuteTime": {
     "end_time": "2018-12-17T19:50:21.850866Z",
     "start_time": "2018-12-17T19:47:39.838587Z"
    }
   },
   "outputs": [
    {
     "name": "stdout",
     "output_type": "stream",
     "text": [
      "======================================\n",
      "Step 1: read_user_input\n",
      "======================================\n",
      "Reminder: if you want to use a custom control expresion, you must set control to 'custom'\n",
      "==> Setting patient_dir = case_id\n",
      "Setup done!\n",
      "======================================\n",
      "Step 2: download_and_preprocess_rnaseq\n",
      "======================================\n",
      "==> Checking if local file (/pdx-hts/Notebooks/data/preprocessed/exp/ICB1572.csv) exist.\n",
      "==> This file containes the expression of the PDXs. Printing dataframe's info:\n",
      "<class 'pandas.core.frame.DataFrame'>\n",
      "Index: 1 entries, ICB1572 to ICB1572\n",
      "Columns: 16247 entries, A1BG to ZZZ3\n",
      "dtypes: float64(16247)\n",
      "memory usage: 126.9+ KB\n",
      "==> None\n",
      "==> File /pdx-hts/Notebooks/patients/ICB1572/gene_abundance.sleuth.csv saved successfully\n",
      "==> Done preprocessing!\n",
      "======================================\n",
      "Step 3: classify_sample\n",
      "======================================\n"
     ]
    },
    {
     "name": "stderr",
     "output_type": "stream",
     "text": [
      "/opt/conda/lib/python3.6/site-packages/pandas/core/series.py:2890: FutureWarning: from_csv is deprecated. Please use read_csv(...) instead. Note that some of the default arguments are different, so please refer to the documentation for from_csv when changing your function calls\n",
      "  infer_datetime_format=infer_datetime_format)\n"
     ]
    },
    {
     "name": "stdout",
     "output_type": "stream",
     "text": [
      "     Cavalli     Cho  Northcott\n",
      "G3    0.4070  0.5353     0.4978\n",
      "G4    0.2291  0.1586     0.2347\n",
      "SHH   0.2247  0.1937     0.1584\n",
      "WNT   0.1392  0.1124     0.1091\n",
      "           Cavalli\n",
      "G3_gamma    0.2107\n",
      "G4_alpha    0.1153\n",
      "SHH_alpha   0.1101\n",
      "G3_alpha    0.1038\n",
      "G3_beta     0.0925\n",
      "WNT_alpha   0.0723\n",
      "WNT_beta    0.0669\n",
      "G4_gamma    0.0602\n",
      "G4_beta     0.0536\n",
      "SHH_gamma   0.0464\n",
      "SHH_delta   0.0426\n",
      "SHH_beta    0.0256\n",
      "           Subtypes     Cho\n",
      "3               SHH  0.1937\n",
      "1            G3-MYC  0.3553\n",
      "6               WNT  0.1124\n",
      "5  G3-photoreceptor  0.1800\n",
      "4          G4-Mixed  0.0875\n",
      "2       G4-neuronal  0.0711\n",
      "==> Done! Move along\n",
      "======================================\n",
      "Step 4: run_discover\n",
      "======================================\n",
      "==> About to perform DiSCoVER.\n"
     ]
    },
    {
     "name": "stderr",
     "output_type": "stream",
     "text": [
      "/opt/conda/lib/python3.6/site-packages/pandas/core/indexing.py:1020: FutureWarning: \n",
      "Passing list-likes to .loc or [] with any missing label will raise\n",
      "KeyError in the future, you can use .reindex() as an alternative.\n",
      "\n",
      "See the documentation here:\n",
      "http://pandas.pydata.org/pandas-docs/stable/indexing.html#deprecate-loc-reindex-listlike\n",
      "  return getattr(section, self.name)[new_key]\n"
     ]
    },
    {
     "name": "stdout",
     "output_type": "stream",
     "text": [
      "==> DiSCoVER done!\n",
      "==> Saving results to file.\n",
      "==> Saving done!\n",
      "==> NOT Restricting to clinically relevant drugs.\n"
     ]
    },
    {
     "name": "stderr",
     "output_type": "stream",
     "text": [
      "/opt/conda/lib/python3.6/site-packages/pandas/util/_decorators.py:118: FutureWarning: The `sheetname` keyword is deprecated, use `sheet_name` instead\n",
      "  return func(*args, **kwargs)\n"
     ]
    },
    {
     "name": "stdout",
     "output_type": "stream",
     "text": [
      "==> Done restricting to clinically relevant drugs!\n",
      "==> Making the DiSCoVER powerpoint.\n",
      "==> Using all of the drugs\n",
      "==> Done making the DiSCoVER powerpoint slide!\n",
      "==> Savig the variables to a file.\n",
      "==> Saving the formatted results of DiSCoVER to a csv\n",
      "==> Done savig the variables to a file!\n",
      "==> Done with all the taks in this cell. Move along.\n",
      "All analyses completed suscessfully with \"patient\" ICB1572\n"
     ]
    }
   ],
   "source": [
    "# \"ICB1572\": \"ICB1572\",\n",
    "run_pipeline(\"ICB1572\")"
   ]
  },
  {
   "cell_type": "code",
   "execution_count": 25,
   "metadata": {
    "ExecuteTime": {
     "end_time": "2018-12-17T19:53:05.502850Z",
     "start_time": "2018-12-17T19:50:21.853423Z"
    }
   },
   "outputs": [
    {
     "name": "stdout",
     "output_type": "stream",
     "text": [
      "======================================\n",
      "Step 1: read_user_input\n",
      "======================================\n",
      "Reminder: if you want to use a custom control expresion, you must set control to 'custom'\n",
      "==> Setting patient_dir = case_id\n",
      "Setup done!\n",
      "======================================\n",
      "Step 2: download_and_preprocess_rnaseq\n",
      "======================================\n",
      "==> Checking if local file (/pdx-hts/Notebooks/data/preprocessed/exp/MB002.csv) exist.\n",
      "==> This file containes the expression of the PDXs. Printing dataframe's info:\n",
      "<class 'pandas.core.frame.DataFrame'>\n",
      "Index: 1 entries, MB002 to MB002\n",
      "Columns: 16247 entries, A1BG to ZZZ3\n",
      "dtypes: float64(16247)\n",
      "memory usage: 126.9+ KB\n",
      "==> None\n",
      "==> File /pdx-hts/Notebooks/patients/MB002/gene_abundance.sleuth.csv saved successfully\n",
      "==> Done preprocessing!\n",
      "======================================\n",
      "Step 3: classify_sample\n",
      "======================================\n"
     ]
    },
    {
     "name": "stderr",
     "output_type": "stream",
     "text": [
      "/opt/conda/lib/python3.6/site-packages/pandas/core/series.py:2890: FutureWarning: from_csv is deprecated. Please use read_csv(...) instead. Note that some of the default arguments are different, so please refer to the documentation for from_csv when changing your function calls\n",
      "  infer_datetime_format=infer_datetime_format)\n"
     ]
    },
    {
     "name": "stdout",
     "output_type": "stream",
     "text": [
      "     Cavalli     Cho  Northcott\n",
      "G3    0.3955  0.4928     0.4696\n",
      "SHH   0.2610  0.2650     0.1865\n",
      "G4    0.2029  0.1302     0.2387\n",
      "WNT   0.1406  0.1120     0.1052\n",
      "           Cavalli\n",
      "G3_gamma    0.2229\n",
      "SHH_alpha   0.1336\n",
      "G4_alpha    0.1012\n",
      "G3_beta     0.0887\n",
      "G3_alpha    0.0839\n",
      "WNT_beta    0.0708\n",
      "WNT_alpha   0.0698\n",
      "G4_gamma    0.0539\n",
      "SHH_delta   0.0527\n",
      "SHH_gamma   0.0488\n",
      "G4_beta     0.0478\n",
      "SHH_beta    0.0259\n",
      "           Subtypes     Cho\n",
      "3               SHH  0.2650\n",
      "1            G3-MYC  0.3544\n",
      "6               WNT  0.1120\n",
      "5  G3-photoreceptor  0.1384\n",
      "4          G4-Mixed  0.0708\n",
      "2       G4-neuronal  0.0594\n",
      "==> Done! Move along\n",
      "======================================\n",
      "Step 4: run_discover\n",
      "======================================\n",
      "==> About to perform DiSCoVER.\n"
     ]
    },
    {
     "name": "stderr",
     "output_type": "stream",
     "text": [
      "/opt/conda/lib/python3.6/site-packages/pandas/core/indexing.py:1020: FutureWarning: \n",
      "Passing list-likes to .loc or [] with any missing label will raise\n",
      "KeyError in the future, you can use .reindex() as an alternative.\n",
      "\n",
      "See the documentation here:\n",
      "http://pandas.pydata.org/pandas-docs/stable/indexing.html#deprecate-loc-reindex-listlike\n",
      "  return getattr(section, self.name)[new_key]\n"
     ]
    },
    {
     "name": "stdout",
     "output_type": "stream",
     "text": [
      "==> DiSCoVER done!\n",
      "==> Saving results to file.\n",
      "==> Saving done!\n",
      "==> NOT Restricting to clinically relevant drugs.\n"
     ]
    },
    {
     "name": "stderr",
     "output_type": "stream",
     "text": [
      "/opt/conda/lib/python3.6/site-packages/pandas/util/_decorators.py:118: FutureWarning: The `sheetname` keyword is deprecated, use `sheet_name` instead\n",
      "  return func(*args, **kwargs)\n"
     ]
    },
    {
     "name": "stdout",
     "output_type": "stream",
     "text": [
      "==> Done restricting to clinically relevant drugs!\n",
      "==> Making the DiSCoVER powerpoint.\n",
      "==> Using all of the drugs\n",
      "==> Done making the DiSCoVER powerpoint slide!\n",
      "==> Savig the variables to a file.\n",
      "==> Saving the formatted results of DiSCoVER to a csv\n",
      "==> Done savig the variables to a file!\n",
      "==> Done with all the taks in this cell. Move along.\n",
      "All analyses completed suscessfully with \"patient\" MB002\n"
     ]
    }
   ],
   "source": [
    "# \"MB002\": \"MB002\",\n",
    "run_pipeline(\"MB002\")"
   ]
  },
  {
   "cell_type": "code",
   "execution_count": 26,
   "metadata": {
    "ExecuteTime": {
     "end_time": "2018-12-17T19:55:49.984928Z",
     "start_time": "2018-12-17T19:53:05.506449Z"
    }
   },
   "outputs": [
    {
     "name": "stdout",
     "output_type": "stream",
     "text": [
      "======================================\n",
      "Step 1: read_user_input\n",
      "======================================\n",
      "Reminder: if you want to use a custom control expresion, you must set control to 'custom'\n",
      "==> Setting patient_dir = case_id\n",
      "Setup done!\n",
      "======================================\n",
      "Step 2: download_and_preprocess_rnaseq\n",
      "======================================\n",
      "==> Checking if local file (/pdx-hts/Notebooks/data/preprocessed/exp/MB009.csv) exist.\n",
      "==> This file containes the expression of the PDXs. Printing dataframe's info:\n",
      "<class 'pandas.core.frame.DataFrame'>\n",
      "Index: 1 entries, MB009 to MB009\n",
      "Columns: 16247 entries, A1BG to ZZZ3\n",
      "dtypes: float64(16247)\n",
      "memory usage: 126.9+ KB\n",
      "==> None\n",
      "==> File /pdx-hts/Notebooks/patients/MB009/gene_abundance.sleuth.csv saved successfully\n",
      "==> Done preprocessing!\n",
      "======================================\n",
      "Step 3: classify_sample\n",
      "======================================\n"
     ]
    },
    {
     "name": "stderr",
     "output_type": "stream",
     "text": [
      "/opt/conda/lib/python3.6/site-packages/pandas/core/series.py:2890: FutureWarning: from_csv is deprecated. Please use read_csv(...) instead. Note that some of the default arguments are different, so please refer to the documentation for from_csv when changing your function calls\n",
      "  infer_datetime_format=infer_datetime_format)\n"
     ]
    },
    {
     "name": "stdout",
     "output_type": "stream",
     "text": [
      "     Cavalli     Cho  Northcott\n",
      "G3    0.5440  0.6744     0.6158\n",
      "SHH   0.1731  0.1175     0.1035\n",
      "G4    0.1569  0.1341     0.2135\n",
      "WNT   0.1260  0.0740     0.0672\n",
      "           Cavalli\n",
      "G3_gamma    0.2798\n",
      "G3_beta     0.1334\n",
      "G3_alpha    0.1308\n",
      "SHH_alpha   0.0776\n",
      "G4_alpha    0.0775\n",
      "WNT_alpha   0.0693\n",
      "WNT_beta    0.0567\n",
      "G4_gamma    0.0482\n",
      "SHH_gamma   0.0405\n",
      "SHH_delta   0.0353\n",
      "G4_beta     0.0312\n",
      "SHH_beta    0.0197\n",
      "           Subtypes     Cho\n",
      "3               SHH  0.1175\n",
      "1            G3-MYC  0.4588\n",
      "6               WNT  0.0740\n",
      "5  G3-photoreceptor  0.2156\n",
      "4          G4-Mixed  0.0788\n",
      "2       G4-neuronal  0.0553\n",
      "==> Done! Move along\n",
      "======================================\n",
      "Step 4: run_discover\n",
      "======================================\n",
      "==> About to perform DiSCoVER.\n"
     ]
    },
    {
     "name": "stderr",
     "output_type": "stream",
     "text": [
      "/opt/conda/lib/python3.6/site-packages/pandas/core/indexing.py:1020: FutureWarning: \n",
      "Passing list-likes to .loc or [] with any missing label will raise\n",
      "KeyError in the future, you can use .reindex() as an alternative.\n",
      "\n",
      "See the documentation here:\n",
      "http://pandas.pydata.org/pandas-docs/stable/indexing.html#deprecate-loc-reindex-listlike\n",
      "  return getattr(section, self.name)[new_key]\n"
     ]
    },
    {
     "name": "stdout",
     "output_type": "stream",
     "text": [
      "==> DiSCoVER done!\n",
      "==> Saving results to file.\n",
      "==> Saving done!\n",
      "==> NOT Restricting to clinically relevant drugs.\n"
     ]
    },
    {
     "name": "stderr",
     "output_type": "stream",
     "text": [
      "/opt/conda/lib/python3.6/site-packages/pandas/util/_decorators.py:118: FutureWarning: The `sheetname` keyword is deprecated, use `sheet_name` instead\n",
      "  return func(*args, **kwargs)\n"
     ]
    },
    {
     "name": "stdout",
     "output_type": "stream",
     "text": [
      "==> Done restricting to clinically relevant drugs!\n",
      "==> Making the DiSCoVER powerpoint.\n",
      "==> Using all of the drugs\n",
      "==> Done making the DiSCoVER powerpoint slide!\n",
      "==> Savig the variables to a file.\n",
      "==> Saving the formatted results of DiSCoVER to a csv\n",
      "==> Done savig the variables to a file!\n",
      "==> Done with all the taks in this cell. Move along.\n",
      "All analyses completed suscessfully with \"patient\" MB009\n"
     ]
    }
   ],
   "source": [
    "# \"MB009\": \"MB009\",\n",
    "run_pipeline(\"MB009\")"
   ]
  },
  {
   "cell_type": "code",
   "execution_count": 27,
   "metadata": {
    "ExecuteTime": {
     "end_time": "2018-12-17T19:58:31.349722Z",
     "start_time": "2018-12-17T19:55:49.988088Z"
    }
   },
   "outputs": [
    {
     "name": "stdout",
     "output_type": "stream",
     "text": [
      "======================================\n",
      "Step 1: read_user_input\n",
      "======================================\n",
      "Reminder: if you want to use a custom control expresion, you must set control to 'custom'\n",
      "==> Setting patient_dir = case_id\n",
      "Setup done!\n",
      "======================================\n",
      "Step 2: download_and_preprocess_rnaseq\n",
      "======================================\n",
      "==> Checking if local file (/pdx-hts/Notebooks/data/preprocessed/exp/MED211.csv) exist.\n",
      "==> This file containes the expression of the PDXs. Printing dataframe's info:\n",
      "<class 'pandas.core.frame.DataFrame'>\n",
      "Index: 1 entries, MED211 to MED211\n",
      "Columns: 16247 entries, A1BG to ZZZ3\n",
      "dtypes: float64(16247)\n",
      "memory usage: 126.9+ KB\n",
      "==> None\n",
      "==> File /pdx-hts/Notebooks/patients/MED211/gene_abundance.sleuth.csv saved successfully\n",
      "==> Done preprocessing!\n",
      "======================================\n",
      "Step 3: classify_sample\n",
      "======================================\n"
     ]
    },
    {
     "name": "stderr",
     "output_type": "stream",
     "text": [
      "/opt/conda/lib/python3.6/site-packages/pandas/core/series.py:2890: FutureWarning: from_csv is deprecated. Please use read_csv(...) instead. Note that some of the default arguments are different, so please refer to the documentation for from_csv when changing your function calls\n",
      "  infer_datetime_format=infer_datetime_format)\n"
     ]
    },
    {
     "name": "stdout",
     "output_type": "stream",
     "text": [
      "     Cavalli     Cho  Northcott\n",
      "G3    0.3480  0.4968     0.4699\n",
      "SHH   0.3009  0.2513     0.1883\n",
      "G4    0.1974  0.1400     0.2285\n",
      "WNT   0.1537  0.1119     0.1133\n",
      "           Cavalli\n",
      "G3_gamma    0.1866\n",
      "SHH_alpha   0.1546\n",
      "G4_alpha    0.1090\n",
      "G3_beta     0.0895\n",
      "WNT_alpha   0.0787\n",
      "WNT_beta    0.0750\n",
      "G3_alpha    0.0719\n",
      "SHH_gamma   0.0625\n",
      "SHH_delta   0.0537\n",
      "G4_gamma    0.0465\n",
      "G4_beta     0.0419\n",
      "SHH_beta    0.0301\n",
      "           Subtypes     Cho\n",
      "3               SHH  0.2513\n",
      "1            G3-MYC  0.3445\n",
      "6               WNT  0.1119\n",
      "5  G3-photoreceptor  0.1523\n",
      "4          G4-Mixed  0.0848\n",
      "2       G4-neuronal  0.0552\n",
      "==> Done! Move along\n",
      "======================================\n",
      "Step 4: run_discover\n",
      "======================================\n",
      "==> About to perform DiSCoVER.\n"
     ]
    },
    {
     "name": "stderr",
     "output_type": "stream",
     "text": [
      "/opt/conda/lib/python3.6/site-packages/pandas/core/indexing.py:1020: FutureWarning: \n",
      "Passing list-likes to .loc or [] with any missing label will raise\n",
      "KeyError in the future, you can use .reindex() as an alternative.\n",
      "\n",
      "See the documentation here:\n",
      "http://pandas.pydata.org/pandas-docs/stable/indexing.html#deprecate-loc-reindex-listlike\n",
      "  return getattr(section, self.name)[new_key]\n"
     ]
    },
    {
     "name": "stdout",
     "output_type": "stream",
     "text": [
      "==> DiSCoVER done!\n",
      "==> Saving results to file.\n",
      "==> Saving done!\n",
      "==> NOT Restricting to clinically relevant drugs.\n"
     ]
    },
    {
     "name": "stderr",
     "output_type": "stream",
     "text": [
      "/opt/conda/lib/python3.6/site-packages/pandas/util/_decorators.py:118: FutureWarning: The `sheetname` keyword is deprecated, use `sheet_name` instead\n",
      "  return func(*args, **kwargs)\n"
     ]
    },
    {
     "name": "stdout",
     "output_type": "stream",
     "text": [
      "==> Done restricting to clinically relevant drugs!\n",
      "==> Making the DiSCoVER powerpoint.\n",
      "==> Using all of the drugs\n",
      "==> Done making the DiSCoVER powerpoint slide!\n",
      "==> Savig the variables to a file.\n",
      "==> Saving the formatted results of DiSCoVER to a csv\n",
      "==> Done savig the variables to a file!\n",
      "==> Done with all the taks in this cell. Move along.\n",
      "All analyses completed suscessfully with \"patient\" MED211\n"
     ]
    }
   ],
   "source": [
    "# \"MED211\": \"MED211\",\n",
    "run_pipeline(\"MED211\")"
   ]
  },
  {
   "cell_type": "code",
   "execution_count": 28,
   "metadata": {
    "ExecuteTime": {
     "end_time": "2018-12-17T20:01:11.216234Z",
     "start_time": "2018-12-17T19:58:31.352885Z"
    }
   },
   "outputs": [
    {
     "name": "stdout",
     "output_type": "stream",
     "text": [
      "======================================\n",
      "Step 1: read_user_input\n",
      "======================================\n",
      "Reminder: if you want to use a custom control expresion, you must set control to 'custom'\n",
      "==> Setting patient_dir = case_id\n",
      "Setup done!\n",
      "======================================\n",
      "Step 2: download_and_preprocess_rnaseq\n",
      "======================================\n",
      "==> Checking if local file (/pdx-hts/Notebooks/data/preprocessed/exp/MED411.csv) exist.\n",
      "==> This file containes the expression of the PDXs. Printing dataframe's info:\n",
      "<class 'pandas.core.frame.DataFrame'>\n",
      "Index: 1 entries, MED411 to MED411\n",
      "Columns: 16247 entries, A1BG to ZZZ3\n",
      "dtypes: float64(16247)\n",
      "memory usage: 126.9+ KB\n",
      "==> None\n",
      "==> File /pdx-hts/Notebooks/patients/MED411/gene_abundance.sleuth.csv saved successfully\n",
      "==> Done preprocessing!\n",
      "======================================\n",
      "Step 3: classify_sample\n",
      "======================================\n"
     ]
    },
    {
     "name": "stderr",
     "output_type": "stream",
     "text": [
      "/opt/conda/lib/python3.6/site-packages/pandas/core/series.py:2890: FutureWarning: from_csv is deprecated. Please use read_csv(...) instead. Note that some of the default arguments are different, so please refer to the documentation for from_csv when changing your function calls\n",
      "  infer_datetime_format=infer_datetime_format)\n"
     ]
    },
    {
     "name": "stdout",
     "output_type": "stream",
     "text": [
      "     Cavalli     Cho  Northcott\n",
      "G3    0.5009  0.6300     0.5800\n",
      "SHH   0.1988  0.1439     0.0976\n",
      "G4    0.1581  0.1392     0.2358\n",
      "WNT   0.1422  0.0869     0.0866\n",
      "           Cavalli\n",
      "G3_gamma    0.2785\n",
      "G3_beta     0.1155\n",
      "G3_alpha    0.1069\n",
      "SHH_alpha   0.0983\n",
      "G4_alpha    0.0772\n",
      "WNT_alpha   0.0745\n",
      "WNT_beta    0.0677\n",
      "G4_gamma    0.0458\n",
      "SHH_delta   0.0428\n",
      "SHH_gamma   0.0397\n",
      "G4_beta     0.0351\n",
      "SHH_beta    0.0180\n",
      "           Subtypes     Cho\n",
      "3               SHH  0.1439\n",
      "1            G3-MYC  0.4483\n",
      "6               WNT  0.0869\n",
      "5  G3-photoreceptor  0.1817\n",
      "4          G4-Mixed  0.0720\n",
      "2       G4-neuronal  0.0672\n",
      "==> Done! Move along\n",
      "======================================\n",
      "Step 4: run_discover\n",
      "======================================\n",
      "==> About to perform DiSCoVER.\n"
     ]
    },
    {
     "name": "stderr",
     "output_type": "stream",
     "text": [
      "/opt/conda/lib/python3.6/site-packages/pandas/core/indexing.py:1020: FutureWarning: \n",
      "Passing list-likes to .loc or [] with any missing label will raise\n",
      "KeyError in the future, you can use .reindex() as an alternative.\n",
      "\n",
      "See the documentation here:\n",
      "http://pandas.pydata.org/pandas-docs/stable/indexing.html#deprecate-loc-reindex-listlike\n",
      "  return getattr(section, self.name)[new_key]\n"
     ]
    },
    {
     "name": "stdout",
     "output_type": "stream",
     "text": [
      "==> DiSCoVER done!\n",
      "==> Saving results to file.\n",
      "==> Saving done!\n",
      "==> NOT Restricting to clinically relevant drugs.\n"
     ]
    },
    {
     "name": "stderr",
     "output_type": "stream",
     "text": [
      "/opt/conda/lib/python3.6/site-packages/pandas/util/_decorators.py:118: FutureWarning: The `sheetname` keyword is deprecated, use `sheet_name` instead\n",
      "  return func(*args, **kwargs)\n"
     ]
    },
    {
     "name": "stdout",
     "output_type": "stream",
     "text": [
      "==> Done restricting to clinically relevant drugs!\n",
      "==> Making the DiSCoVER powerpoint.\n",
      "==> Using all of the drugs\n",
      "==> Done making the DiSCoVER powerpoint slide!\n",
      "==> Savig the variables to a file.\n",
      "==> Saving the formatted results of DiSCoVER to a csv\n",
      "==> Done savig the variables to a file!\n",
      "==> Done with all the taks in this cell. Move along.\n",
      "All analyses completed suscessfully with \"patient\" MED411\n"
     ]
    }
   ],
   "source": [
    "# \"MED411\": \"MED411\",\n",
    "run_pipeline(\"MED411\")"
   ]
  },
  {
   "cell_type": "code",
   "execution_count": 29,
   "metadata": {
    "ExecuteTime": {
     "end_time": "2018-12-17T20:03:51.787261Z",
     "start_time": "2018-12-17T20:01:11.220820Z"
    }
   },
   "outputs": [
    {
     "name": "stdout",
     "output_type": "stream",
     "text": [
      "======================================\n",
      "Step 1: read_user_input\n",
      "======================================\n",
      "Reminder: if you want to use a custom control expresion, you must set control to 'custom'\n",
      "==> Setting patient_dir = case_id\n",
      "Setup done!\n",
      "======================================\n",
      "Step 2: download_and_preprocess_rnaseq\n",
      "======================================\n",
      "==> Checking if local file (/pdx-hts/Notebooks/data/preprocessed/exp/MED1712.csv) exist.\n",
      "==> This file containes the expression of the PDXs. Printing dataframe's info:\n",
      "<class 'pandas.core.frame.DataFrame'>\n",
      "Index: 1 entries, MED1712 to MED1712\n",
      "Columns: 16247 entries, A1BG to ZZZ3\n",
      "dtypes: float64(16247)\n",
      "memory usage: 126.9+ KB\n",
      "==> None\n",
      "==> File /pdx-hts/Notebooks/patients/MED1712/gene_abundance.sleuth.csv saved successfully\n",
      "==> Done preprocessing!\n",
      "======================================\n",
      "Step 3: classify_sample\n",
      "======================================\n"
     ]
    },
    {
     "name": "stderr",
     "output_type": "stream",
     "text": [
      "/opt/conda/lib/python3.6/site-packages/pandas/core/series.py:2890: FutureWarning: from_csv is deprecated. Please use read_csv(...) instead. Note that some of the default arguments are different, so please refer to the documentation for from_csv when changing your function calls\n",
      "  infer_datetime_format=infer_datetime_format)\n"
     ]
    },
    {
     "name": "stdout",
     "output_type": "stream",
     "text": [
      "     Cavalli     Cho  Northcott\n",
      "SHH   0.6223  0.8187     0.7430\n",
      "G3    0.1302  0.0825     0.1093\n",
      "WNT   0.1258  0.0454     0.0609\n",
      "G4    0.1217  0.0534     0.0868\n",
      "           Cavalli\n",
      "SHH_alpha   0.3323\n",
      "SHH_delta   0.1166\n",
      "SHH_gamma   0.1075\n",
      "G4_alpha    0.0669\n",
      "WNT_alpha   0.0665\n",
      "SHH_beta    0.0659\n",
      "WNT_beta    0.0593\n",
      "G3_gamma    0.0577\n",
      "G3_beta     0.0416\n",
      "G3_alpha    0.0309\n",
      "G4_beta     0.0285\n",
      "G4_gamma    0.0263\n",
      "           Subtypes     Cho\n",
      "3               SHH  0.8187\n",
      "1            G3-MYC  0.0617\n",
      "6               WNT  0.0454\n",
      "5  G3-photoreceptor  0.0208\n",
      "4          G4-Mixed  0.0291\n",
      "2       G4-neuronal  0.0243\n",
      "==> Done! Move along\n",
      "======================================\n",
      "Step 4: run_discover\n",
      "======================================\n",
      "==> About to perform DiSCoVER.\n"
     ]
    },
    {
     "name": "stderr",
     "output_type": "stream",
     "text": [
      "/opt/conda/lib/python3.6/site-packages/pandas/core/indexing.py:1020: FutureWarning: \n",
      "Passing list-likes to .loc or [] with any missing label will raise\n",
      "KeyError in the future, you can use .reindex() as an alternative.\n",
      "\n",
      "See the documentation here:\n",
      "http://pandas.pydata.org/pandas-docs/stable/indexing.html#deprecate-loc-reindex-listlike\n",
      "  return getattr(section, self.name)[new_key]\n"
     ]
    },
    {
     "name": "stdout",
     "output_type": "stream",
     "text": [
      "==> DiSCoVER done!\n",
      "==> Saving results to file.\n",
      "==> Saving done!\n",
      "==> NOT Restricting to clinically relevant drugs.\n"
     ]
    },
    {
     "name": "stderr",
     "output_type": "stream",
     "text": [
      "/opt/conda/lib/python3.6/site-packages/pandas/util/_decorators.py:118: FutureWarning: The `sheetname` keyword is deprecated, use `sheet_name` instead\n",
      "  return func(*args, **kwargs)\n"
     ]
    },
    {
     "name": "stdout",
     "output_type": "stream",
     "text": [
      "==> Done restricting to clinically relevant drugs!\n",
      "==> Making the DiSCoVER powerpoint.\n",
      "==> Using all of the drugs\n",
      "==> Done making the DiSCoVER powerpoint slide!\n",
      "==> Savig the variables to a file.\n",
      "==> Saving the formatted results of DiSCoVER to a csv\n",
      "==> Done savig the variables to a file!\n",
      "==> Done with all the taks in this cell. Move along.\n",
      "All analyses completed suscessfully with \"patient\" MED1712\n"
     ]
    }
   ],
   "source": [
    "# \"MED1712\": \"MED1712\",\n",
    "run_pipeline(\"MED1712\")"
   ]
  },
  {
   "cell_type": "code",
   "execution_count": 30,
   "metadata": {
    "ExecuteTime": {
     "end_time": "2018-12-17T20:06:29.410828Z",
     "start_time": "2018-12-17T20:03:51.790581Z"
    }
   },
   "outputs": [
    {
     "name": "stdout",
     "output_type": "stream",
     "text": [
      "======================================\n",
      "Step 1: read_user_input\n",
      "======================================\n",
      "Reminder: if you want to use a custom control expresion, you must set control to 'custom'\n",
      "==> Setting patient_dir = case_id\n",
      "Setup done!\n",
      "======================================\n",
      "Step 2: download_and_preprocess_rnaseq\n",
      "======================================\n",
      "==> Checking if local file (/pdx-hts/Notebooks/data/preprocessed/exp/MED1911.csv) exist.\n",
      "==> This file containes the expression of the PDXs. Printing dataframe's info:\n",
      "<class 'pandas.core.frame.DataFrame'>\n",
      "Index: 1 entries, MED1911 to MED1911\n",
      "Columns: 16247 entries, A1BG to ZZZ3\n",
      "dtypes: float64(16247)\n",
      "memory usage: 126.9+ KB\n",
      "==> None\n",
      "==> File /pdx-hts/Notebooks/patients/MED1911/gene_abundance.sleuth.csv saved successfully\n",
      "==> Done preprocessing!\n",
      "======================================\n",
      "Step 3: classify_sample\n",
      "======================================\n"
     ]
    },
    {
     "name": "stderr",
     "output_type": "stream",
     "text": [
      "/opt/conda/lib/python3.6/site-packages/pandas/core/series.py:2890: FutureWarning: from_csv is deprecated. Please use read_csv(...) instead. Note that some of the default arguments are different, so please refer to the documentation for from_csv when changing your function calls\n",
      "  infer_datetime_format=infer_datetime_format)\n"
     ]
    },
    {
     "name": "stdout",
     "output_type": "stream",
     "text": [
      "     Cavalli     Cho  Northcott\n",
      "G3    0.5128  0.6701     0.5895\n",
      "G4    0.1865  0.1525     0.2596\n",
      "SHH   0.1799  0.1168     0.0887\n",
      "WNT   0.1208  0.0606     0.0622\n",
      "           Cavalli\n",
      "G3_gamma    0.2039\n",
      "G3_alpha    0.1903\n",
      "G3_beta     0.1186\n",
      "G4_alpha    0.0934\n",
      "SHH_alpha   0.0855\n",
      "WNT_alpha   0.0644\n",
      "G4_gamma    0.0579\n",
      "WNT_beta    0.0564\n",
      "SHH_gamma   0.0404\n",
      "SHH_delta   0.0358\n",
      "G4_beta     0.0352\n",
      "SHH_beta    0.0182\n",
      "           Subtypes     Cho\n",
      "3               SHH  0.1168\n",
      "1            G3-MYC  0.3748\n",
      "6               WNT  0.0606\n",
      "5  G3-photoreceptor  0.2953\n",
      "4          G4-Mixed  0.0897\n",
      "2       G4-neuronal  0.0628\n",
      "==> Done! Move along\n",
      "======================================\n",
      "Step 4: run_discover\n",
      "======================================\n",
      "==> About to perform DiSCoVER.\n"
     ]
    },
    {
     "name": "stderr",
     "output_type": "stream",
     "text": [
      "/opt/conda/lib/python3.6/site-packages/pandas/core/indexing.py:1020: FutureWarning: \n",
      "Passing list-likes to .loc or [] with any missing label will raise\n",
      "KeyError in the future, you can use .reindex() as an alternative.\n",
      "\n",
      "See the documentation here:\n",
      "http://pandas.pydata.org/pandas-docs/stable/indexing.html#deprecate-loc-reindex-listlike\n",
      "  return getattr(section, self.name)[new_key]\n"
     ]
    },
    {
     "name": "stdout",
     "output_type": "stream",
     "text": [
      "==> DiSCoVER done!\n",
      "==> Saving results to file.\n",
      "==> Saving done!\n",
      "==> NOT Restricting to clinically relevant drugs.\n"
     ]
    },
    {
     "name": "stderr",
     "output_type": "stream",
     "text": [
      "/opt/conda/lib/python3.6/site-packages/pandas/util/_decorators.py:118: FutureWarning: The `sheetname` keyword is deprecated, use `sheet_name` instead\n",
      "  return func(*args, **kwargs)\n"
     ]
    },
    {
     "name": "stdout",
     "output_type": "stream",
     "text": [
      "==> Done restricting to clinically relevant drugs!\n",
      "==> Making the DiSCoVER powerpoint.\n",
      "==> Using all of the drugs\n",
      "==> Done making the DiSCoVER powerpoint slide!\n",
      "==> Savig the variables to a file.\n",
      "==> Saving the formatted results of DiSCoVER to a csv\n",
      "==> Done savig the variables to a file!\n",
      "==> Done with all the taks in this cell. Move along.\n",
      "All analyses completed suscessfully with \"patient\" MED1911\n"
     ]
    }
   ],
   "source": [
    "# \"MED1911\": \"MED1911\",\n",
    "run_pipeline(\"MED1911\")"
   ]
  },
  {
   "cell_type": "code",
   "execution_count": 31,
   "metadata": {
    "ExecuteTime": {
     "end_time": "2018-12-17T20:09:08.865593Z",
     "start_time": "2018-12-17T20:06:29.413557Z"
    }
   },
   "outputs": [
    {
     "name": "stdout",
     "output_type": "stream",
     "text": [
      "======================================\n",
      "Step 1: read_user_input\n",
      "======================================\n",
      "Reminder: if you want to use a custom control expresion, you must set control to 'custom'\n",
      "==> Setting patient_dir = case_id\n",
      "Setup done!\n",
      "======================================\n",
      "Step 2: download_and_preprocess_rnaseq\n",
      "======================================\n",
      "==> Checking if local file (/pdx-hts/Notebooks/data/preprocessed/exp/MED2312.csv) exist.\n",
      "==> This file containes the expression of the PDXs. Printing dataframe's info:\n",
      "<class 'pandas.core.frame.DataFrame'>\n",
      "Index: 1 entries, MED2312 to MED2312\n",
      "Columns: 16247 entries, A1BG to ZZZ3\n",
      "dtypes: float64(16247)\n",
      "memory usage: 126.9+ KB\n",
      "==> None\n",
      "==> File /pdx-hts/Notebooks/patients/MED2312/gene_abundance.sleuth.csv saved successfully\n",
      "==> Done preprocessing!\n",
      "======================================\n",
      "Step 3: classify_sample\n",
      "======================================\n"
     ]
    },
    {
     "name": "stderr",
     "output_type": "stream",
     "text": [
      "/opt/conda/lib/python3.6/site-packages/pandas/core/series.py:2890: FutureWarning: from_csv is deprecated. Please use read_csv(...) instead. Note that some of the default arguments are different, so please refer to the documentation for from_csv when changing your function calls\n",
      "  infer_datetime_format=infer_datetime_format)\n"
     ]
    },
    {
     "name": "stdout",
     "output_type": "stream",
     "text": [
      "     Cavalli     Cho  Northcott\n",
      "G4    0.3543  0.3191     0.3471\n",
      "G3    0.3423  0.4598     0.4685\n",
      "SHH   0.2077  0.1423     0.1107\n",
      "WNT   0.0957  0.0788     0.0737\n",
      "           Cavalli\n",
      "G4_alpha    0.2113\n",
      "G3_gamma    0.1388\n",
      "G3_beta     0.1209\n",
      "SHH_alpha   0.0960\n",
      "G3_alpha    0.0826\n",
      "G4_gamma    0.0764\n",
      "G4_beta     0.0666\n",
      "WNT_beta    0.0510\n",
      "WNT_alpha   0.0447\n",
      "SHH_gamma   0.0445\n",
      "SHH_delta   0.0402\n",
      "SHH_beta    0.0270\n",
      "           Subtypes     Cho\n",
      "3               SHH  0.1423\n",
      "1            G3-MYC  0.2845\n",
      "6               WNT  0.0788\n",
      "5  G3-photoreceptor  0.1753\n",
      "4          G4-Mixed  0.2063\n",
      "2       G4-neuronal  0.1128\n",
      "==> Done! Move along\n",
      "======================================\n",
      "Step 4: run_discover\n",
      "======================================\n",
      "==> About to perform DiSCoVER.\n"
     ]
    },
    {
     "name": "stderr",
     "output_type": "stream",
     "text": [
      "/opt/conda/lib/python3.6/site-packages/pandas/core/indexing.py:1020: FutureWarning: \n",
      "Passing list-likes to .loc or [] with any missing label will raise\n",
      "KeyError in the future, you can use .reindex() as an alternative.\n",
      "\n",
      "See the documentation here:\n",
      "http://pandas.pydata.org/pandas-docs/stable/indexing.html#deprecate-loc-reindex-listlike\n",
      "  return getattr(section, self.name)[new_key]\n"
     ]
    },
    {
     "name": "stdout",
     "output_type": "stream",
     "text": [
      "==> DiSCoVER done!\n",
      "==> Saving results to file.\n",
      "==> Saving done!\n",
      "==> NOT Restricting to clinically relevant drugs.\n"
     ]
    },
    {
     "name": "stderr",
     "output_type": "stream",
     "text": [
      "/opt/conda/lib/python3.6/site-packages/pandas/util/_decorators.py:118: FutureWarning: The `sheetname` keyword is deprecated, use `sheet_name` instead\n",
      "  return func(*args, **kwargs)\n"
     ]
    },
    {
     "name": "stdout",
     "output_type": "stream",
     "text": [
      "==> Done restricting to clinically relevant drugs!\n",
      "==> Making the DiSCoVER powerpoint.\n",
      "==> Using all of the drugs\n",
      "==> Done making the DiSCoVER powerpoint slide!\n",
      "==> Savig the variables to a file.\n",
      "==> Saving the formatted results of DiSCoVER to a csv\n",
      "==> Done savig the variables to a file!\n",
      "==> Done with all the taks in this cell. Move along.\n",
      "All analyses completed suscessfully with \"patient\" MED2312\n"
     ]
    }
   ],
   "source": [
    "# \"MED2312\": \"MED2312\",\n",
    "run_pipeline(\"MED2312\")"
   ]
  },
  {
   "cell_type": "code",
   "execution_count": 32,
   "metadata": {
    "ExecuteTime": {
     "end_time": "2018-12-17T20:11:46.967674Z",
     "start_time": "2018-12-17T20:09:08.868262Z"
    }
   },
   "outputs": [
    {
     "name": "stdout",
     "output_type": "stream",
     "text": [
      "======================================\n",
      "Step 1: read_user_input\n",
      "======================================\n",
      "Reminder: if you want to use a custom control expresion, you must set control to 'custom'\n",
      "==> Setting patient_dir = case_id\n",
      "Setup done!\n",
      "======================================\n",
      "Step 2: download_and_preprocess_rnaseq\n",
      "======================================\n",
      "==> Checking if local file (/pdx-hts/Notebooks/data/preprocessed/exp/RCMB18.csv) exist.\n",
      "==> This file containes the expression of the PDXs. Printing dataframe's info:\n",
      "<class 'pandas.core.frame.DataFrame'>\n",
      "Index: 1 entries, RCMB18 to RCMB18\n",
      "Columns: 16247 entries, A1BG to ZZZ3\n",
      "dtypes: float64(16247)\n",
      "memory usage: 126.9+ KB\n",
      "==> None\n",
      "==> File /pdx-hts/Notebooks/patients/RCMB18/gene_abundance.sleuth.csv saved successfully\n",
      "==> Done preprocessing!\n",
      "======================================\n",
      "Step 3: classify_sample\n",
      "======================================\n"
     ]
    },
    {
     "name": "stderr",
     "output_type": "stream",
     "text": [
      "/opt/conda/lib/python3.6/site-packages/pandas/core/series.py:2890: FutureWarning: from_csv is deprecated. Please use read_csv(...) instead. Note that some of the default arguments are different, so please refer to the documentation for from_csv when changing your function calls\n",
      "  infer_datetime_format=infer_datetime_format)\n"
     ]
    },
    {
     "name": "stdout",
     "output_type": "stream",
     "text": [
      "     Cavalli     Cho  Northcott\n",
      "SHH   0.5398  0.6111     0.5619\n",
      "G3    0.1872  0.2006     0.1980\n",
      "G4    0.1366  0.1067     0.1486\n",
      "WNT   0.1364  0.0816     0.0915\n",
      "           Cavalli\n",
      "SHH_alpha   0.3124\n",
      "SHH_delta   0.0937\n",
      "G3_gamma    0.0896\n",
      "SHH_gamma   0.0835\n",
      "G4_alpha    0.0771\n",
      "WNT_alpha   0.0710\n",
      "WNT_beta    0.0654\n",
      "G3_beta     0.0535\n",
      "SHH_beta    0.0502\n",
      "G3_alpha    0.0441\n",
      "G4_beta     0.0300\n",
      "G4_gamma    0.0295\n",
      "           Subtypes     Cho\n",
      "3               SHH  0.6111\n",
      "1            G3-MYC  0.1406\n",
      "6               WNT  0.0816\n",
      "5  G3-photoreceptor  0.0600\n",
      "4          G4-Mixed  0.0637\n",
      "2       G4-neuronal  0.0430\n",
      "==> Done! Move along\n",
      "======================================\n",
      "Step 4: run_discover\n",
      "======================================\n",
      "==> About to perform DiSCoVER.\n"
     ]
    },
    {
     "name": "stderr",
     "output_type": "stream",
     "text": [
      "/opt/conda/lib/python3.6/site-packages/pandas/core/indexing.py:1020: FutureWarning: \n",
      "Passing list-likes to .loc or [] with any missing label will raise\n",
      "KeyError in the future, you can use .reindex() as an alternative.\n",
      "\n",
      "See the documentation here:\n",
      "http://pandas.pydata.org/pandas-docs/stable/indexing.html#deprecate-loc-reindex-listlike\n",
      "  return getattr(section, self.name)[new_key]\n"
     ]
    },
    {
     "name": "stdout",
     "output_type": "stream",
     "text": [
      "==> DiSCoVER done!\n",
      "==> Saving results to file.\n",
      "==> Saving done!\n",
      "==> NOT Restricting to clinically relevant drugs.\n"
     ]
    },
    {
     "name": "stderr",
     "output_type": "stream",
     "text": [
      "/opt/conda/lib/python3.6/site-packages/pandas/util/_decorators.py:118: FutureWarning: The `sheetname` keyword is deprecated, use `sheet_name` instead\n",
      "  return func(*args, **kwargs)\n"
     ]
    },
    {
     "name": "stdout",
     "output_type": "stream",
     "text": [
      "==> Done restricting to clinically relevant drugs!\n",
      "==> Making the DiSCoVER powerpoint.\n",
      "==> Using all of the drugs\n",
      "==> Done making the DiSCoVER powerpoint slide!\n",
      "==> Savig the variables to a file.\n",
      "==> Saving the formatted results of DiSCoVER to a csv\n",
      "==> Done savig the variables to a file!\n",
      "==> Done with all the taks in this cell. Move along.\n",
      "All analyses completed suscessfully with \"patient\" RCMB18\n"
     ]
    }
   ],
   "source": [
    "# \"RCMB18\": \"RCMB18\",\n",
    "run_pipeline(\"RCMB18\")"
   ]
  },
  {
   "cell_type": "code",
   "execution_count": 33,
   "metadata": {
    "ExecuteTime": {
     "end_time": "2018-12-17T20:14:26.602847Z",
     "start_time": "2018-12-17T20:11:46.970399Z"
    }
   },
   "outputs": [
    {
     "name": "stdout",
     "output_type": "stream",
     "text": [
      "======================================\n",
      "Step 1: read_user_input\n",
      "======================================\n",
      "Reminder: if you want to use a custom control expresion, you must set control to 'custom'\n",
      "==> Setting patient_dir = case_id\n",
      "Setup done!\n",
      "======================================\n",
      "Step 2: download_and_preprocess_rnaseq\n",
      "======================================\n",
      "==> Checking if local file (/pdx-hts/Notebooks/data/preprocessed/exp/RCMB20.csv) exist.\n",
      "==> This file containes the expression of the PDXs. Printing dataframe's info:\n",
      "<class 'pandas.core.frame.DataFrame'>\n",
      "Index: 1 entries, RCMB20 to RCMB20\n",
      "Columns: 16247 entries, A1BG to ZZZ3\n",
      "dtypes: float64(16247)\n",
      "memory usage: 126.9+ KB\n",
      "==> None\n",
      "==> File /pdx-hts/Notebooks/patients/RCMB20/gene_abundance.sleuth.csv saved successfully\n",
      "==> Done preprocessing!\n",
      "======================================\n",
      "Step 3: classify_sample\n",
      "======================================\n"
     ]
    },
    {
     "name": "stderr",
     "output_type": "stream",
     "text": [
      "/opt/conda/lib/python3.6/site-packages/pandas/core/series.py:2890: FutureWarning: from_csv is deprecated. Please use read_csv(...) instead. Note that some of the default arguments are different, so please refer to the documentation for from_csv when changing your function calls\n",
      "  infer_datetime_format=infer_datetime_format)\n"
     ]
    },
    {
     "name": "stdout",
     "output_type": "stream",
     "text": [
      "     Cavalli     Cho  Northcott\n",
      "G3    0.5188  0.6698     0.5782\n",
      "G4    0.1695  0.1447     0.2578\n",
      "SHH   0.1606  0.1029     0.0932\n",
      "WNT   0.1511  0.0826     0.0708\n",
      "           Cavalli\n",
      "G3_gamma    0.2495\n",
      "G3_alpha    0.1381\n",
      "G3_beta     0.1312\n",
      "G4_alpha    0.0891\n",
      "WNT_alpha   0.0817\n",
      "SHH_alpha   0.0721\n",
      "WNT_beta    0.0694\n",
      "G4_gamma    0.0481\n",
      "SHH_gamma   0.0371\n",
      "SHH_delta   0.0349\n",
      "G4_beta     0.0323\n",
      "SHH_beta    0.0165\n",
      "           Subtypes     Cho\n",
      "3               SHH  0.1029\n",
      "1            G3-MYC  0.4311\n",
      "6               WNT  0.0826\n",
      "5  G3-photoreceptor  0.2387\n",
      "4          G4-Mixed  0.0814\n",
      "2       G4-neuronal  0.0633\n",
      "==> Done! Move along\n",
      "======================================\n",
      "Step 4: run_discover\n",
      "======================================\n",
      "==> About to perform DiSCoVER.\n"
     ]
    },
    {
     "name": "stderr",
     "output_type": "stream",
     "text": [
      "/opt/conda/lib/python3.6/site-packages/pandas/core/indexing.py:1020: FutureWarning: \n",
      "Passing list-likes to .loc or [] with any missing label will raise\n",
      "KeyError in the future, you can use .reindex() as an alternative.\n",
      "\n",
      "See the documentation here:\n",
      "http://pandas.pydata.org/pandas-docs/stable/indexing.html#deprecate-loc-reindex-listlike\n",
      "  return getattr(section, self.name)[new_key]\n"
     ]
    },
    {
     "name": "stdout",
     "output_type": "stream",
     "text": [
      "==> DiSCoVER done!\n",
      "==> Saving results to file.\n",
      "==> Saving done!\n",
      "==> NOT Restricting to clinically relevant drugs.\n"
     ]
    },
    {
     "name": "stderr",
     "output_type": "stream",
     "text": [
      "/opt/conda/lib/python3.6/site-packages/pandas/util/_decorators.py:118: FutureWarning: The `sheetname` keyword is deprecated, use `sheet_name` instead\n",
      "  return func(*args, **kwargs)\n"
     ]
    },
    {
     "name": "stdout",
     "output_type": "stream",
     "text": [
      "==> Done restricting to clinically relevant drugs!\n",
      "==> Making the DiSCoVER powerpoint.\n",
      "==> Using all of the drugs\n",
      "==> Done making the DiSCoVER powerpoint slide!\n",
      "==> Savig the variables to a file.\n",
      "==> Saving the formatted results of DiSCoVER to a csv\n",
      "==> Done savig the variables to a file!\n",
      "==> Done with all the taks in this cell. Move along.\n",
      "All analyses completed suscessfully with \"patient\" RCMB20\n"
     ]
    }
   ],
   "source": [
    "# \"RCMB20\": \"RCMB20\",\n",
    "run_pipeline(\"RCMB20\")"
   ]
  },
  {
   "cell_type": "code",
   "execution_count": 34,
   "metadata": {
    "ExecuteTime": {
     "end_time": "2018-12-17T20:17:03.682051Z",
     "start_time": "2018-12-17T20:14:26.606184Z"
    }
   },
   "outputs": [
    {
     "name": "stdout",
     "output_type": "stream",
     "text": [
      "======================================\n",
      "Step 1: read_user_input\n",
      "======================================\n",
      "Reminder: if you want to use a custom control expresion, you must set control to 'custom'\n",
      "==> Setting patient_dir = case_id\n",
      "Setup done!\n",
      "======================================\n",
      "Step 2: download_and_preprocess_rnaseq\n",
      "======================================\n",
      "==> Checking if local file (/pdx-hts/Notebooks/data/preprocessed/exp/RCMB24.csv) exist.\n",
      "==> This file containes the expression of the PDXs. Printing dataframe's info:\n",
      "<class 'pandas.core.frame.DataFrame'>\n",
      "Index: 1 entries, RCMB24 to RCMB24\n",
      "Columns: 16247 entries, A1BG to ZZZ3\n",
      "dtypes: float64(16247)\n",
      "memory usage: 126.9+ KB\n",
      "==> None\n",
      "==> File /pdx-hts/Notebooks/patients/RCMB24/gene_abundance.sleuth.csv saved successfully\n",
      "==> Done preprocessing!\n",
      "======================================\n",
      "Step 3: classify_sample\n",
      "======================================\n"
     ]
    },
    {
     "name": "stderr",
     "output_type": "stream",
     "text": [
      "/opt/conda/lib/python3.6/site-packages/pandas/core/series.py:2890: FutureWarning: from_csv is deprecated. Please use read_csv(...) instead. Note that some of the default arguments are different, so please refer to the documentation for from_csv when changing your function calls\n",
      "  infer_datetime_format=infer_datetime_format)\n"
     ]
    },
    {
     "name": "stdout",
     "output_type": "stream",
     "text": [
      "     Cavalli     Cho  Northcott\n",
      "SHH   0.6455  0.7448     0.7150\n",
      "WNT   0.1298  0.0623     0.0724\n",
      "G3    0.1261  0.1240     0.1163\n",
      "G4    0.0986  0.0689     0.0963\n",
      "           Cavalli\n",
      "SHH_alpha   0.3790\n",
      "SHH_delta   0.1309\n",
      "SHH_gamma   0.0873\n",
      "WNT_alpha   0.0650\n",
      "WNT_beta    0.0648\n",
      "G3_gamma    0.0617\n",
      "G4_alpha    0.0556\n",
      "SHH_beta    0.0483\n",
      "G3_beta     0.0371\n",
      "G3_alpha    0.0273\n",
      "G4_beta     0.0217\n",
      "G4_gamma    0.0213\n",
      "           Subtypes     Cho\n",
      "3               SHH  0.7448\n",
      "1            G3-MYC  0.0866\n",
      "6               WNT  0.0623\n",
      "5  G3-photoreceptor  0.0374\n",
      "4          G4-Mixed  0.0401\n",
      "2       G4-neuronal  0.0288\n",
      "==> Done! Move along\n",
      "======================================\n",
      "Step 4: run_discover\n",
      "======================================\n",
      "==> About to perform DiSCoVER.\n"
     ]
    },
    {
     "name": "stderr",
     "output_type": "stream",
     "text": [
      "/opt/conda/lib/python3.6/site-packages/pandas/core/indexing.py:1020: FutureWarning: \n",
      "Passing list-likes to .loc or [] with any missing label will raise\n",
      "KeyError in the future, you can use .reindex() as an alternative.\n",
      "\n",
      "See the documentation here:\n",
      "http://pandas.pydata.org/pandas-docs/stable/indexing.html#deprecate-loc-reindex-listlike\n",
      "  return getattr(section, self.name)[new_key]\n"
     ]
    },
    {
     "name": "stdout",
     "output_type": "stream",
     "text": [
      "==> DiSCoVER done!\n",
      "==> Saving results to file.\n",
      "==> Saving done!\n",
      "==> NOT Restricting to clinically relevant drugs.\n"
     ]
    },
    {
     "name": "stderr",
     "output_type": "stream",
     "text": [
      "/opt/conda/lib/python3.6/site-packages/pandas/util/_decorators.py:118: FutureWarning: The `sheetname` keyword is deprecated, use `sheet_name` instead\n",
      "  return func(*args, **kwargs)\n"
     ]
    },
    {
     "name": "stdout",
     "output_type": "stream",
     "text": [
      "==> Done restricting to clinically relevant drugs!\n",
      "==> Making the DiSCoVER powerpoint.\n",
      "==> Using all of the drugs\n",
      "==> Done making the DiSCoVER powerpoint slide!\n",
      "==> Savig the variables to a file.\n",
      "==> Saving the formatted results of DiSCoVER to a csv\n",
      "==> Done savig the variables to a file!\n",
      "==> Done with all the taks in this cell. Move along.\n",
      "All analyses completed suscessfully with \"patient\" RCMB24\n"
     ]
    }
   ],
   "source": [
    "# \"RCMB24\": \"RCMB24\",\n",
    "run_pipeline(\"RCMB24\")"
   ]
  },
  {
   "cell_type": "code",
   "execution_count": 35,
   "metadata": {
    "ExecuteTime": {
     "end_time": "2018-12-17T20:19:47.496544Z",
     "start_time": "2018-12-17T20:17:03.686423Z"
    }
   },
   "outputs": [
    {
     "name": "stdout",
     "output_type": "stream",
     "text": [
      "======================================\n",
      "Step 1: read_user_input\n",
      "======================================\n",
      "Reminder: if you want to use a custom control expresion, you must set control to 'custom'\n",
      "==> Setting patient_dir = case_id\n",
      "Setup done!\n",
      "======================================\n",
      "Step 2: download_and_preprocess_rnaseq\n",
      "======================================\n",
      "==> Checking if local file (/pdx-hts/Notebooks/data/preprocessed/exp/RCMB28.csv) exist.\n",
      "==> This file containes the expression of the PDXs. Printing dataframe's info:\n",
      "<class 'pandas.core.frame.DataFrame'>\n",
      "Index: 1 entries, RCMB28 to RCMB28\n",
      "Columns: 16247 entries, A1BG to ZZZ3\n",
      "dtypes: float64(16247)\n",
      "memory usage: 126.9+ KB\n",
      "==> None\n",
      "==> File /pdx-hts/Notebooks/patients/RCMB28/gene_abundance.sleuth.csv saved successfully\n",
      "==> Done preprocessing!\n",
      "======================================\n",
      "Step 3: classify_sample\n",
      "======================================\n"
     ]
    },
    {
     "name": "stderr",
     "output_type": "stream",
     "text": [
      "/opt/conda/lib/python3.6/site-packages/pandas/core/series.py:2890: FutureWarning: from_csv is deprecated. Please use read_csv(...) instead. Note that some of the default arguments are different, so please refer to the documentation for from_csv when changing your function calls\n",
      "  infer_datetime_format=infer_datetime_format)\n"
     ]
    },
    {
     "name": "stdout",
     "output_type": "stream",
     "text": [
      "     Cavalli     Cho  Northcott\n",
      "G3    0.5165  0.6448     0.5986\n",
      "G4    0.1772  0.1555     0.2497\n",
      "SHH   0.1744  0.1360     0.0879\n",
      "WNT   0.1319  0.0637     0.0638\n",
      "           Cavalli\n",
      "G3_gamma    0.2782\n",
      "G3_beta     0.1326\n",
      "G3_alpha    0.1057\n",
      "G4_alpha    0.0956\n",
      "SHH_alpha   0.0934\n",
      "WNT_alpha   0.0673\n",
      "WNT_beta    0.0646\n",
      "G4_gamma    0.0459\n",
      "G4_beta     0.0357\n",
      "SHH_gamma   0.0318\n",
      "SHH_delta   0.0298\n",
      "SHH_beta    0.0194\n",
      "           Subtypes     Cho\n",
      "3               SHH  0.1360\n",
      "1            G3-MYC  0.4731\n",
      "6               WNT  0.0637\n",
      "5  G3-photoreceptor  0.1717\n",
      "4          G4-Mixed  0.0906\n",
      "2       G4-neuronal  0.0649\n",
      "==> Done! Move along\n",
      "======================================\n",
      "Step 4: run_discover\n",
      "======================================\n",
      "==> About to perform DiSCoVER.\n"
     ]
    },
    {
     "name": "stderr",
     "output_type": "stream",
     "text": [
      "/opt/conda/lib/python3.6/site-packages/pandas/core/indexing.py:1020: FutureWarning: \n",
      "Passing list-likes to .loc or [] with any missing label will raise\n",
      "KeyError in the future, you can use .reindex() as an alternative.\n",
      "\n",
      "See the documentation here:\n",
      "http://pandas.pydata.org/pandas-docs/stable/indexing.html#deprecate-loc-reindex-listlike\n",
      "  return getattr(section, self.name)[new_key]\n"
     ]
    },
    {
     "name": "stdout",
     "output_type": "stream",
     "text": [
      "==> DiSCoVER done!\n",
      "==> Saving results to file.\n",
      "==> Saving done!\n",
      "==> NOT Restricting to clinically relevant drugs.\n"
     ]
    },
    {
     "name": "stderr",
     "output_type": "stream",
     "text": [
      "/opt/conda/lib/python3.6/site-packages/pandas/util/_decorators.py:118: FutureWarning: The `sheetname` keyword is deprecated, use `sheet_name` instead\n",
      "  return func(*args, **kwargs)\n"
     ]
    },
    {
     "name": "stdout",
     "output_type": "stream",
     "text": [
      "==> Done restricting to clinically relevant drugs!\n",
      "==> Making the DiSCoVER powerpoint.\n",
      "==> Using all of the drugs\n",
      "==> Done making the DiSCoVER powerpoint slide!\n",
      "==> Savig the variables to a file.\n",
      "==> Saving the formatted results of DiSCoVER to a csv\n",
      "==> Done savig the variables to a file!\n",
      "==> Done with all the taks in this cell. Move along.\n",
      "All analyses completed suscessfully with \"patient\" RCMB28\n"
     ]
    }
   ],
   "source": [
    "# \"RCMB28\": \"RCMB28\",\n",
    "run_pipeline(\"RCMB28\")"
   ]
  },
  {
   "cell_type": "code",
   "execution_count": 36,
   "metadata": {
    "ExecuteTime": {
     "end_time": "2018-12-17T20:22:27.581581Z",
     "start_time": "2018-12-17T20:19:47.499532Z"
    }
   },
   "outputs": [
    {
     "name": "stdout",
     "output_type": "stream",
     "text": [
      "======================================\n",
      "Step 1: read_user_input\n",
      "======================================\n",
      "Reminder: if you want to use a custom control expresion, you must set control to 'custom'\n",
      "==> Setting patient_dir = case_id\n",
      "Setup done!\n",
      "======================================\n",
      "Step 2: download_and_preprocess_rnaseq\n",
      "======================================\n",
      "==> Checking if local file (/pdx-hts/Notebooks/data/preprocessed/exp/RCMB32.csv) exist.\n",
      "==> This file containes the expression of the PDXs. Printing dataframe's info:\n",
      "<class 'pandas.core.frame.DataFrame'>\n",
      "Index: 1 entries, RCMB32 to RCMB32\n",
      "Columns: 16247 entries, A1BG to ZZZ3\n",
      "dtypes: float64(16247)\n",
      "memory usage: 126.9+ KB\n",
      "==> None\n",
      "==> File /pdx-hts/Notebooks/patients/RCMB32/gene_abundance.sleuth.csv saved successfully\n",
      "==> Done preprocessing!\n",
      "======================================\n",
      "Step 3: classify_sample\n",
      "======================================\n"
     ]
    },
    {
     "name": "stderr",
     "output_type": "stream",
     "text": [
      "/opt/conda/lib/python3.6/site-packages/pandas/core/series.py:2890: FutureWarning: from_csv is deprecated. Please use read_csv(...) instead. Note that some of the default arguments are different, so please refer to the documentation for from_csv when changing your function calls\n",
      "  infer_datetime_format=infer_datetime_format)\n"
     ]
    },
    {
     "name": "stdout",
     "output_type": "stream",
     "text": [
      "     Cavalli     Cho  Northcott\n",
      "SHH   0.4919  0.6031     0.5125\n",
      "G4    0.2004  0.1254     0.1711\n",
      "G3    0.1777  0.1974     0.2040\n",
      "WNT   0.1300  0.0741     0.1124\n",
      "           Cavalli\n",
      "SHH_alpha   0.2355\n",
      "SHH_delta   0.1094\n",
      "G4_alpha    0.1093\n",
      "G3_gamma    0.0798\n",
      "SHH_gamma   0.0741\n",
      "SHH_beta    0.0729\n",
      "WNT_alpha   0.0651\n",
      "WNT_beta    0.0649\n",
      "G3_beta     0.0561\n",
      "G4_gamma    0.0466\n",
      "G4_beta     0.0445\n",
      "G3_alpha    0.0418\n",
      "           Subtypes     Cho\n",
      "3               SHH  0.6031\n",
      "1            G3-MYC  0.1379\n",
      "6               WNT  0.0741\n",
      "5  G3-photoreceptor  0.0595\n",
      "4          G4-Mixed  0.0698\n",
      "2       G4-neuronal  0.0556\n",
      "==> Done! Move along\n",
      "======================================\n",
      "Step 4: run_discover\n",
      "======================================\n",
      "==> About to perform DiSCoVER.\n"
     ]
    },
    {
     "name": "stderr",
     "output_type": "stream",
     "text": [
      "/opt/conda/lib/python3.6/site-packages/pandas/core/indexing.py:1020: FutureWarning: \n",
      "Passing list-likes to .loc or [] with any missing label will raise\n",
      "KeyError in the future, you can use .reindex() as an alternative.\n",
      "\n",
      "See the documentation here:\n",
      "http://pandas.pydata.org/pandas-docs/stable/indexing.html#deprecate-loc-reindex-listlike\n",
      "  return getattr(section, self.name)[new_key]\n"
     ]
    },
    {
     "name": "stdout",
     "output_type": "stream",
     "text": [
      "==> DiSCoVER done!\n",
      "==> Saving results to file.\n",
      "==> Saving done!\n",
      "==> NOT Restricting to clinically relevant drugs.\n"
     ]
    },
    {
     "name": "stderr",
     "output_type": "stream",
     "text": [
      "/opt/conda/lib/python3.6/site-packages/pandas/util/_decorators.py:118: FutureWarning: The `sheetname` keyword is deprecated, use `sheet_name` instead\n",
      "  return func(*args, **kwargs)\n"
     ]
    },
    {
     "name": "stdout",
     "output_type": "stream",
     "text": [
      "==> Done restricting to clinically relevant drugs!\n",
      "==> Making the DiSCoVER powerpoint.\n",
      "==> Using all of the drugs\n",
      "==> Done making the DiSCoVER powerpoint slide!\n",
      "==> Savig the variables to a file.\n",
      "==> Saving the formatted results of DiSCoVER to a csv\n",
      "==> Done savig the variables to a file!\n",
      "==> Done with all the taks in this cell. Move along.\n",
      "All analyses completed suscessfully with \"patient\" RCMB32\n"
     ]
    }
   ],
   "source": [
    "# \"RCMB32\": \"RCMB32\",\n",
    "run_pipeline(\"RCMB32\")"
   ]
  },
  {
   "cell_type": "code",
   "execution_count": 37,
   "metadata": {
    "ExecuteTime": {
     "end_time": "2018-12-17T20:25:05.932064Z",
     "start_time": "2018-12-17T20:22:27.584433Z"
    }
   },
   "outputs": [
    {
     "name": "stdout",
     "output_type": "stream",
     "text": [
      "======================================\n",
      "Step 1: read_user_input\n",
      "======================================\n",
      "Reminder: if you want to use a custom control expresion, you must set control to 'custom'\n",
      "==> Setting patient_dir = case_id\n",
      "Setup done!\n",
      "======================================\n",
      "Step 2: download_and_preprocess_rnaseq\n",
      "======================================\n",
      "==> Checking if local file (/pdx-hts/Notebooks/data/preprocessed/exp/RCMB38.csv) exist.\n",
      "==> This file containes the expression of the PDXs. Printing dataframe's info:\n",
      "<class 'pandas.core.frame.DataFrame'>\n",
      "Index: 1 entries, RCMB38 to RCMB38\n",
      "Columns: 16247 entries, A1BG to ZZZ3\n",
      "dtypes: float64(16247)\n",
      "memory usage: 126.9+ KB\n",
      "==> None\n",
      "==> File /pdx-hts/Notebooks/patients/RCMB38/gene_abundance.sleuth.csv saved successfully\n",
      "==> Done preprocessing!\n",
      "======================================\n",
      "Step 3: classify_sample\n",
      "======================================\n"
     ]
    },
    {
     "name": "stderr",
     "output_type": "stream",
     "text": [
      "/opt/conda/lib/python3.6/site-packages/pandas/core/series.py:2890: FutureWarning: from_csv is deprecated. Please use read_csv(...) instead. Note that some of the default arguments are different, so please refer to the documentation for from_csv when changing your function calls\n",
      "  infer_datetime_format=infer_datetime_format)\n"
     ]
    },
    {
     "name": "stdout",
     "output_type": "stream",
     "text": [
      "     Cavalli     Cho  Northcott\n",
      "G4    0.5085  0.5417     0.5466\n",
      "G3    0.2698  0.3403     0.3183\n",
      "SHH   0.1353  0.0680     0.0865\n",
      "WNT   0.0864  0.0500     0.0486\n",
      "           Cavalli\n",
      "G4_gamma    0.2209\n",
      "G4_alpha    0.1993\n",
      "G3_beta     0.0994\n",
      "G3_alpha    0.0986\n",
      "G4_beta     0.0883\n",
      "G3_gamma    0.0718\n",
      "SHH_alpha   0.0541\n",
      "WNT_alpha   0.0442\n",
      "WNT_beta    0.0422\n",
      "SHH_gamma   0.0330\n",
      "SHH_delta   0.0256\n",
      "SHH_beta    0.0226\n",
      "           Subtypes     Cho\n",
      "3               SHH  0.0680\n",
      "1            G3-MYC  0.1351\n",
      "6               WNT  0.0500\n",
      "5  G3-photoreceptor  0.2052\n",
      "4          G4-Mixed  0.2759\n",
      "2       G4-neuronal  0.2658\n",
      "==> Done! Move along\n",
      "======================================\n",
      "Step 4: run_discover\n",
      "======================================\n",
      "==> About to perform DiSCoVER.\n"
     ]
    },
    {
     "name": "stderr",
     "output_type": "stream",
     "text": [
      "/opt/conda/lib/python3.6/site-packages/pandas/core/indexing.py:1020: FutureWarning: \n",
      "Passing list-likes to .loc or [] with any missing label will raise\n",
      "KeyError in the future, you can use .reindex() as an alternative.\n",
      "\n",
      "See the documentation here:\n",
      "http://pandas.pydata.org/pandas-docs/stable/indexing.html#deprecate-loc-reindex-listlike\n",
      "  return getattr(section, self.name)[new_key]\n"
     ]
    },
    {
     "name": "stdout",
     "output_type": "stream",
     "text": [
      "==> DiSCoVER done!\n",
      "==> Saving results to file.\n",
      "==> Saving done!\n",
      "==> NOT Restricting to clinically relevant drugs.\n"
     ]
    },
    {
     "name": "stderr",
     "output_type": "stream",
     "text": [
      "/opt/conda/lib/python3.6/site-packages/pandas/util/_decorators.py:118: FutureWarning: The `sheetname` keyword is deprecated, use `sheet_name` instead\n",
      "  return func(*args, **kwargs)\n"
     ]
    },
    {
     "name": "stdout",
     "output_type": "stream",
     "text": [
      "==> Done restricting to clinically relevant drugs!\n",
      "==> Making the DiSCoVER powerpoint.\n",
      "==> Using all of the drugs\n",
      "==> Done making the DiSCoVER powerpoint slide!\n",
      "==> Savig the variables to a file.\n",
      "==> Saving the formatted results of DiSCoVER to a csv\n",
      "==> Done savig the variables to a file!\n",
      "==> Done with all the taks in this cell. Move along.\n",
      "All analyses completed suscessfully with \"patient\" RCMB38\n"
     ]
    }
   ],
   "source": [
    "# \"RCMB38\": \"RCMB38\",\n",
    "run_pipeline(\"RCMB38\")"
   ]
  },
  {
   "cell_type": "code",
   "execution_count": 38,
   "metadata": {
    "ExecuteTime": {
     "end_time": "2018-12-17T20:27:38.848214Z",
     "start_time": "2018-12-17T20:25:05.937587Z"
    }
   },
   "outputs": [
    {
     "name": "stdout",
     "output_type": "stream",
     "text": [
      "======================================\n",
      "Step 1: read_user_input\n",
      "======================================\n",
      "Reminder: if you want to use a custom control expresion, you must set control to 'custom'\n",
      "==> Setting patient_dir = case_id\n",
      "Setup done!\n",
      "======================================\n",
      "Step 2: download_and_preprocess_rnaseq\n",
      "======================================\n",
      "==> Checking if local file (/pdx-hts/Notebooks/data/preprocessed/exp/RCMB40.csv) exist.\n",
      "==> This file containes the expression of the PDXs. Printing dataframe's info:\n",
      "<class 'pandas.core.frame.DataFrame'>\n",
      "Index: 1 entries, RCMB40 to RCMB40\n",
      "Columns: 16247 entries, A1BG to ZZZ3\n",
      "dtypes: float64(16247)\n",
      "memory usage: 126.9+ KB\n",
      "==> None\n",
      "==> File /pdx-hts/Notebooks/patients/RCMB40/gene_abundance.sleuth.csv saved successfully\n",
      "==> Done preprocessing!\n",
      "======================================\n",
      "Step 3: classify_sample\n",
      "======================================\n"
     ]
    },
    {
     "name": "stderr",
     "output_type": "stream",
     "text": [
      "/opt/conda/lib/python3.6/site-packages/pandas/core/series.py:2890: FutureWarning: from_csv is deprecated. Please use read_csv(...) instead. Note that some of the default arguments are different, so please refer to the documentation for from_csv when changing your function calls\n",
      "  infer_datetime_format=infer_datetime_format)\n"
     ]
    },
    {
     "name": "stdout",
     "output_type": "stream",
     "text": [
      "     Cavalli     Cho  Northcott\n",
      "G3    0.4523  0.5749     0.5597\n",
      "G4    0.2215  0.2038     0.2834\n",
      "SHH   0.2126  0.1562     0.0984\n",
      "WNT   0.1136  0.0651     0.0585\n",
      "           Cavalli\n",
      "G3_gamma    0.2406\n",
      "G3_beta     0.1258\n",
      "G4_alpha    0.1142\n",
      "SHH_alpha   0.1079\n",
      "G3_alpha    0.0859\n",
      "WNT_alpha   0.0581\n",
      "WNT_beta    0.0555\n",
      "G4_gamma    0.0546\n",
      "G4_beta     0.0527\n",
      "SHH_delta   0.0428\n",
      "SHH_gamma   0.0414\n",
      "SHH_beta    0.0205\n",
      "           Subtypes     Cho\n",
      "3               SHH  0.1562\n",
      "1            G3-MYC  0.4219\n",
      "6               WNT  0.0651\n",
      "5  G3-photoreceptor  0.1530\n",
      "4          G4-Mixed  0.1215\n",
      "2       G4-neuronal  0.0823\n",
      "==> Done! Move along\n",
      "======================================\n",
      "Step 4: run_discover\n",
      "======================================\n",
      "==> About to perform DiSCoVER.\n"
     ]
    },
    {
     "name": "stderr",
     "output_type": "stream",
     "text": [
      "/opt/conda/lib/python3.6/site-packages/pandas/core/indexing.py:1020: FutureWarning: \n",
      "Passing list-likes to .loc or [] with any missing label will raise\n",
      "KeyError in the future, you can use .reindex() as an alternative.\n",
      "\n",
      "See the documentation here:\n",
      "http://pandas.pydata.org/pandas-docs/stable/indexing.html#deprecate-loc-reindex-listlike\n",
      "  return getattr(section, self.name)[new_key]\n"
     ]
    },
    {
     "name": "stdout",
     "output_type": "stream",
     "text": [
      "==> DiSCoVER done!\n",
      "==> Saving results to file.\n",
      "==> Saving done!\n",
      "==> NOT Restricting to clinically relevant drugs.\n"
     ]
    },
    {
     "name": "stderr",
     "output_type": "stream",
     "text": [
      "/opt/conda/lib/python3.6/site-packages/pandas/util/_decorators.py:118: FutureWarning: The `sheetname` keyword is deprecated, use `sheet_name` instead\n",
      "  return func(*args, **kwargs)\n"
     ]
    },
    {
     "name": "stdout",
     "output_type": "stream",
     "text": [
      "==> Done restricting to clinically relevant drugs!\n",
      "==> Making the DiSCoVER powerpoint.\n",
      "==> Using all of the drugs\n",
      "==> Done making the DiSCoVER powerpoint slide!\n",
      "==> Savig the variables to a file.\n",
      "==> Saving the formatted results of DiSCoVER to a csv\n",
      "==> Done savig the variables to a file!\n",
      "==> Done with all the taks in this cell. Move along.\n",
      "All analyses completed suscessfully with \"patient\" RCMB40\n"
     ]
    }
   ],
   "source": [
    "# \"RCMB40\": \"RCMB40\"\n",
    "run_pipeline(\"RCMB40\")"
   ]
  },
  {
   "cell_type": "code",
   "execution_count": null,
   "metadata": {},
   "outputs": [],
   "source": []
  },
  {
   "cell_type": "code",
   "execution_count": 46,
   "metadata": {
    "ExecuteTime": {
     "end_time": "2018-12-17T20:27:39.366029Z",
     "start_time": "2018-12-17T20:27:39.333133Z"
    }
   },
   "outputs": [
    {
     "name": "stdout",
     "output_type": "stream",
     "text": [
      "done!\n"
     ]
    }
   ],
   "source": [
    "print('done!')"
   ]
  },
  {
   "cell_type": "code",
   "execution_count": 39,
   "metadata": {
    "ExecuteTime": {
     "end_time": "2018-12-17T20:27:38.916842Z",
     "start_time": "2018-12-17T20:27:38.852310Z"
    },
    "genepattern": {
     "name": "Login",
     "server": "https://cloud.genepattern.org/gp",
     "type": "auth"
    }
   },
   "outputs": [
    {
     "data": {
      "application/vnd.jupyter.widget-view+json": {
       "model_id": "7ce4889765c448a29661e9ed84ba5fc6",
       "version_major": 2,
       "version_minor": 0
      },
      "text/plain": [
       "GPAuthWidget()"
      ]
     },
     "metadata": {},
     "output_type": "display_data"
    }
   ],
   "source": [
    "# Requires GenePattern Notebook: pip install genepattern-notebook\n",
    "import gp\n",
    "import genepattern\n",
    "\n",
    "# Username and password removed for security reasons.\n",
    "genepattern.display(genepattern.session.register(\"https://cloud.genepattern.org/gp\", \"\", \"\"))"
   ]
  },
  {
   "cell_type": "code",
   "execution_count": 45,
   "metadata": {
    "ExecuteTime": {
     "end_time": "2018-12-17T20:27:39.329812Z",
     "start_time": "2018-12-17T20:27:39.273296Z"
    },
    "nbtools": {
     "description": "",
     "name": "set_case_id",
     "param_values": {
      "case_id": "BT084",
      "output_var": "case_id"
     },
     "show_code": false,
     "type": "uibuilder"
    }
   },
   "outputs": [
    {
     "data": {
      "application/vnd.jupyter.widget-view+json": {
       "model_id": "d63b9828f300445bb024448ea007f213",
       "version_major": 2,
       "version_minor": 0
      },
      "text/plain": [
       "UIBuilder(function_import='set_case_id', name='set_case_id', params=[{'name': 'case_id', 'label': 'case_id', '…"
      ]
     },
     "metadata": {},
     "output_type": "display_data"
    }
   ],
   "source": [
    "@genepattern.build_ui(parameters={\n",
    "    \"output_var\": {\n",
    "        \"default\": \"case_id\",\n",
    "        \"hide\": False,\n",
    "    },\n",
    "    \"case_id\": {\"type\": \"choice\",\n",
    "                \"description\": \"The name of the case, e.g., 'BT084'\",\n",
    "                \"choices\": {\n",
    "                    \"BT084\": \"BT084\",\n",
    "                    \"DMB006\": \"DMB006\",\n",
    "                    \"ICB984\": \"ICB984\",\n",
    "                    \"ICB1299\": \"ICB1299\",\n",
    "                    \"ICB1487\": \"ICB1487\",\n",
    "                    \"ICB1572\": \"ICB1572\",\n",
    "                    \"MB002\": \"MB002\",\n",
    "                    \"MB009\": \"MB009\",\n",
    "                    \"MED211\": \"MED211\",\n",
    "                    \"MED411\": \"MED411\",\n",
    "                    \"MED1712\": \"MED1712\",\n",
    "                    \"MED1911\": \"MED1911\",\n",
    "                    \"MED2312\": \"MED2312\",\n",
    "                    \"RCMB18\": \"RCMB18\",\n",
    "                    \"RCMB20\": \"RCMB20\",\n",
    "                    \"RCMB24\": \"RCMB24\",\n",
    "                    \"RCMB28\": \"RCMB28\",\n",
    "                    \"RCMB32\": \"RCMB32\",\n",
    "                    \"RCMB38\": \"RCMB38\",\n",
    "                    \"RCMB40\": \"RCMB40\",},\n",
    "               \"default\":\"BT084\"},\n",
    "})\n",
    "def set_case_id(case_id):\n",
    "    print(f'case_id set to \"{case_id}\"')\n",
    "    return case_id"
   ]
  },
  {
   "cell_type": "markdown",
   "metadata": {},
   "source": [
    "## User input"
   ]
  },
  {
   "cell_type": "markdown",
   "metadata": {},
   "source": [
    "Select parameters before running the rest of the notebook."
   ]
  },
  {
   "cell_type": "markdown",
   "metadata": {},
   "source": [
    "<div class=\"alert alert-info\">\n",
    "<h3 style=\"margin-top: 0;\"> Instructions <i class=\"fa fa-info-circle\"></i></h3>\n",
    "Select parameters before running the rest of the notebook.\n",
    "</div>"
   ]
  },
  {
   "cell_type": "code",
   "execution_count": 41,
   "metadata": {
    "ExecuteTime": {
     "end_time": "2018-12-17T20:27:39.082177Z",
     "start_time": "2018-12-17T20:27:38.987606Z"
    },
    "nbtools": {
     "description": "",
     "name": "read_user_input",
     "param_values": {
      "DNA_Nexus": "false",
      "case_id": "{{case_id}}",
      "control": "original",
      "custom_control_expression": "None",
      "dna_nexus_bool": "false",
      "is_medullo": "true",
      "output_var": "setup",
      "patient_dir": "PDX1_dir"
     },
     "show_code": false,
     "type": "uibuilder"
    },
    "scrolled": false
   },
   "outputs": [
    {
     "name": "stdout",
     "output_type": "stream",
     "text": [
      "The autoreload extension is already loaded. To reload it, use:\n",
      "  %reload_ext autoreload\n",
      "The rpy2.ipython extension is already loaded. To reload it, use:\n",
      "  %reload_ext rpy2.ipython\n"
     ]
    },
    {
     "data": {
      "application/vnd.jupyter.widget-view+json": {
       "model_id": "d3c8036ab8b74ed6953a18331379c4c4",
       "version_major": 2,
       "version_minor": 0
      },
      "text/plain": [
       "UIBuilder(function_import='read_user_input', name='read_user_input', params=[{'name': 'case_id', 'label': 'cas…"
      ]
     },
     "metadata": {},
     "output_type": "display_data"
    }
   ],
   "source": [
    "from companion_script import *\n",
    "# # Select case\n",
    "# case_id = 'case17'\n",
    "# # This patient directory should match the directory name on DNANexus.\n",
    "# patient_dir = '18-10716_tumor-normal'\n",
    "# is_medullo = True # set False if it is another kind of brain tumor\n",
    "%load_ext autoreload\n",
    "%autoreload 2\n",
    "%matplotlib inline\n",
    "import readline # required for rpy2 extension\n",
    "%load_ext rpy2.ipython\n",
    "\n",
    "\n",
    "def rmagic_warning(\n",
    "    message,\n",
    "    category = rpy2.rinterface.RRuntimeWarning,\n",
    "    filename = '',\n",
    "    lineno = -1,\n",
    "    file=None,\n",
    "    line=None):\n",
    "    print(message)\n",
    "default_showwarning = warnings.showwarning\n",
    "\n",
    "\n",
    "@genepattern.build_ui(parameters={\n",
    "    \"output_var\": {\n",
    "        \"default\": \"setup\",\n",
    "        \"hide\": False,\n",
    "    },\n",
    "    \"case_id\": {\"type\": \"text\",\n",
    "                \"description\": \"The name of the case, e.g., 'PDX1'\",\n",
    "               \"default\":\"PDX1\"},\n",
    "    \"patient_dir\": {\"type\": \"text\",\n",
    "                    \"description\": 'For DNA Nexus downloads only. The name of the \"patient\" directory, e.g. \"18-10716_tumor-normal\" (quotes are required)',\n",
    "                    \"default\":\"PDX1_dir\"},\n",
    "    \"dna_nexus_bool\": {\"type\": \"bool\",\n",
    "                   \"description\": \"Whether or not this sample has been classified as medulloblastoma\",\n",
    "                  \"default\":False},\n",
    "    \"is_medullo\": {\"type\": \"bool\",\n",
    "                   \"description\": \"Whether or not this sample has been classified as medulloblastoma\",},\n",
    "    \"control\": {\"type\": \"choice\",\n",
    "                \"description\": \"Whether or not to use a custom control\",\n",
    "                \"choices\": {\n",
    "                    \"original\": \"original\",\n",
    "                    \"custom\": \"custom\",\n",
    "                            }\n",
    "               },\n",
    "    \"custom_control_expression\": {\"type\": \"file\",\n",
    "                           \"kinds\": [\"gct\"],\n",
    "                           \"description\": \"The file (or path to the GCT file) which contains the gene expression of the custom control.\",\n",
    "                           \"default\":None},\n",
    "})\n",
    "def read_user_input(case_id, patient_dir, dna_nexus_bool=False, is_medullo=False, control='original',custom_control_expression=None):\n",
    "    # Select control for DiSCoVER and Connectivity Map\n",
    "    # Generally, if the tumor is a medulloblastoma, we use `cerebellar_stem` (comment the `neural_stem` line).\n",
    "    # And if it is any other kind of brain tumor, we use `neural_stem`.\n",
    "    if control == 'original':\n",
    "        expression_control = 'cerebellar_stem' if is_medullo else 'neural_stem'\n",
    "    elif control == 'custom':\n",
    "        expression_control = 'custom_control'\n",
    "    else:\n",
    "        print('Unexpected value for variable named control, value:', control)\n",
    "        \n",
    "    if (len(custom_control_expression) is not 0) and (control is not 'custom'):\n",
    "        print(\"Reminder: if you want to use a custom control expresion, you must set control to 'custom'\")\n",
    "\n",
    "    base_dir = os.getcwd()\n",
    "    utilities_dir = '/build'\n",
    "    patients_dir = os.path.join(base_dir, 'patients')\n",
    "    if not dna_nexus_bool:\n",
    "        log('Setting patient_dir = case_id')\n",
    "        patient_dir = case_id\n",
    "        \n",
    "    in_dir = os.path.join(patients_dir, patient_dir)\n",
    "    \n",
    "    out_dir = in_dir\n",
    "    os.makedirs(out_dir, exist_ok=True)\n",
    "    \n",
    "#     out['base_dir'] = base_dir\n",
    "#     out['utilities_dir'] = utilities_dir\n",
    "#     out['patients_dir'] = patients_dir\n",
    "#     \n",
    "\n",
    "    platform = sys.platform\n",
    "    if platform.startswith('linux'):\n",
    "        os_string = 'linux'\n",
    "    elif platform == 'darwin':\n",
    "        os_string = 'mac'\n",
    "    else:\n",
    "        raise ValueError('Platform \"{}\" not supported'.format(platform))\n",
    "\n",
    "    # RNASeq quantification\n",
    "    kallisto_dir = '/build/kallisto'\n",
    "    kallisto_path = os.path.join(kallisto_dir, 'kallisto_{}-v0.44.0/kallisto'.format(os_string))\n",
    "    transcriptome_index_path = os.path.join(kallisto_dir, 'GRCh38.ensembl.transcriptome.idx')\n",
    "    local_fastqs_dir = os.path.join(in_dir, 'fastqs')\n",
    "    os.makedirs(local_fastqs_dir, exist_ok=True)\n",
    "    patient_gexp_file = os.path.join(out_dir, 'gene_abundance.sleuth.csv')\n",
    "\n",
    "    # Medulloblastoma classification\n",
    "#     from sklearn.ensemble import RandomForestClassifier\n",
    "#     from tumor_classification.medulloblastoma import classify_cavalli, classify_cho, classify_northcott\n",
    "    medullo_classify_out_dir = os.path.join(out_dir, 'medulloblastoma_classification')\n",
    "    if not os.path.exists(medullo_classify_out_dir):\n",
    "        os.mkdir(medullo_classify_out_dir)\n",
    "    cavalli_subgroup_file = os.path.join(medullo_classify_out_dir, 'cavalli_subgroups.csv')\n",
    "    cavalli_subgroup_direct_file = os.path.join(medullo_classify_out_dir, 'cavalli_subgroups_direct.csv')\n",
    "    cavalli_subtype_file = os.path.join(medullo_classify_out_dir, 'cavalli_subtypes.csv')\n",
    "    cho_subtype_file = os.path.join(medullo_classify_out_dir, 'cho_subtypes.csv')\n",
    "    cho_subgroup_file = os.path.join(medullo_classify_out_dir, 'cho_subgroups.csv')\n",
    "    northcott_subgroup_file = os.path.join(medullo_classify_out_dir, 'northcott_subgroups.csv')\n",
    "\n",
    "    drug_suggestion_out_dir = os.path.join(out_dir, 'drug_suggestions')\n",
    "    os.makedirs(drug_suggestion_out_dir, exist_ok=True)\n",
    "\n",
    "    # DiSCoVER\n",
    "    discover_out_dir = os.path.join(drug_suggestion_out_dir, 'discover/{}'.format(expression_control))\n",
    "    os.makedirs(discover_out_dir, exist_ok=True)\n",
    "    discover_heatmap_file = os.path.join(discover_out_dir, 'ctrp.png')\n",
    "    full_discover_results_file = os.path.join(discover_out_dir, 'discover.all.csv')\n",
    "    rdrugs_discover_file = os.path.join(discover_out_dir, '{}.discover.{}.reasonable.annotated.csv'.format(case_id, expression_control))\n",
    "\n",
    "    # Connectivity Map\n",
    "    cmap_out_dir = os.path.join(drug_suggestion_out_dir, 'cmap/{}'.format(expression_control))\n",
    "    os.makedirs(cmap_out_dir, exist_ok=True)\n",
    "    cmap_all_ranked_drugs_file = os.path.join(cmap_out_dir, '{}.cmap.{}.all.csv'.format(case_id, expression_control))\n",
    "    cmap_reasonable_ranked_drugs_file = os.path.join(cmap_out_dir, '{}.cmap.{}.reasonable.annotated.csv'.format(case_id, expression_control))\n",
    "    \n",
    "    # Powerpoint for MTB\n",
    "#     from slides import make_medullo_classification_slide, make_discover_workflow_slide, make_exp_drug_ranking_results_slide, make_intersection_slide\n",
    "    mtb_ppt_file = os.path.join(out_dir, '{}.mtb_slides.pptx'.format(case_id))\n",
    "\n",
    "    # DNANexus\n",
    "    dx_source_path = os.path.join(utilities_dir, 'dx-toolkit/environment')\n",
    "    dnanexus_project = 'UW_UCSD_RNAseq_collaboration_share'\n",
    "    # Replace the contents of this file with your own DNANexus token.\n",
    "    dnanexus_token_file = os.path.join(base_dir, 'dnanexus_token.txt')\n",
    "    # To use the dx command, we must update some environment variables. \n",
    "    # From the command line, this is done with source dx-toolkit/environment, \n",
    "    # but from Python we have to use a workaround, because normally any changes \n",
    "    # to environment variables done in a subprocess are not reflected in the \n",
    "    # parent process. The workaround runs the source command in a subprocess, \n",
    "    # fetches the environment variables from the subprocess and updates those \n",
    "    # of the parent process.\n",
    "#     from utils import source_and_update_env_vars\n",
    "    source_and_update_env_vars(dx_source_path)    \n",
    "    out = {\"case_id\": case_id,\n",
    "                 \"patient_dir\": patient_dir,\n",
    "                 \"is_medullo\": is_medullo}\n",
    "    out['dna_nexus_bool']=dna_nexus_bool\n",
    "    out['expression_control'] = expression_control\n",
    "    out['custom_control_expression'] = custom_control_expression\n",
    "    out['dnanexus_token_file'] = dnanexus_token_file\n",
    "    out['local_fastqs_dir'] = local_fastqs_dir\n",
    "    out['dnanexus_project'] = dnanexus_project\n",
    "    out['local_fastqs_dir'] = local_fastqs_dir\n",
    "    out['transcriptome_index_path'] = transcriptome_index_path\n",
    "    out['kallisto_path'] = kallisto_path\n",
    "    out['kallisto_dir'] = kallisto_dir\n",
    "    out['out_dir'] = out_dir\n",
    "    out['r_out_dir'] = out_dir.replace('\\\\',r'\\\\')\n",
    "    out['patient_gexp_file'] = patient_gexp_file\n",
    "    out['in_dir'] = in_dir\n",
    "    out['cavalli_subgroup_file'] = cavalli_subgroup_file\n",
    "    out['cavalli_subtype_file'] = cavalli_subtype_file\n",
    "    out['cavalli_subgroup_direct_file'] = cavalli_subgroup_direct_file\n",
    "    out['cho_subgroup_file'] = cho_subgroup_file\n",
    "    out['cho_subtype_file'] = cho_subtype_file\n",
    "    out['northcott_subgroup_file'] = northcott_subgroup_file\n",
    "    out['mtb_ppt_file'] = mtb_ppt_file\n",
    "    out['expression_control'] = expression_control\n",
    "    out['full_discover_results_file'] = full_discover_results_file\n",
    "    out['discover_out_dir'] = discover_out_dir\n",
    "    out['discover_heatmap_file'] = discover_heatmap_file\n",
    "    out['rdrugs_discover_file'] = rdrugs_discover_file\n",
    "    out['cmap_out_dir'] = cmap_out_dir\n",
    "    out['cmap_all_ranked_drugs_file'] = cmap_all_ranked_drugs_file\n",
    "    out['cmap_reasonable_ranked_drugs_file'] = cmap_reasonable_ranked_drugs_file\n",
    "    out['mtb_ppt_file'] = mtb_ppt_file\n",
    "    out['out_dir'] = os.path.join(patients_dir, case_id)\n",
    "\n",
    "    if not os.path.exists(out['out_dir']):\n",
    "        os.mkdir(out['out_dir'])\n",
    "    print('Setup done!')\n",
    "    pickle.dump(out, file=open(os.path.join(out['out_dir'], case_id+'_backup1_input.p'),'wb'))\n",
    "    return Bunch(out)"
   ]
  },
  {
   "cell_type": "markdown",
   "metadata": {},
   "source": [
    "<div class=\"well\">\n",
    "Running all cells below this point will execute all the analyses except for one: the Connectivity Map analysis at the end of the notebook, which requires two manual steps.\n",
    "</div>"
   ]
  },
  {
   "cell_type": "markdown",
   "metadata": {},
   "source": [
    "# Download RNAseq data"
   ]
  },
  {
   "cell_type": "code",
   "execution_count": 42,
   "metadata": {
    "ExecuteTime": {
     "end_time": "2018-12-17T20:27:39.152774Z",
     "start_time": "2018-12-17T20:27:39.087292Z"
    },
    "nbtools": {
     "description": "",
     "name": "download_and_preprocess_rnaseq",
     "param_values": {
      "input_expression_dir": "None",
      "output_var": "setup",
      "setup": "setup"
     },
     "show_code": false,
     "type": "uibuilder"
    }
   },
   "outputs": [
    {
     "data": {
      "application/vnd.jupyter.widget-view+json": {
       "model_id": "bf9b4e5ba14f40df9093a69663908eed",
       "version_major": 2,
       "version_minor": 0
      },
      "text/plain": [
       "UIBuilder(function_import='download_and_preprocess_rnaseq', name='download_and_preprocess_rnaseq', params=[{'n…"
      ]
     },
     "metadata": {},
     "output_type": "display_data"
    }
   ],
   "source": [
    "@genepattern.build_ui(parameters={\n",
    "    \"setup\": {\"default\": \"setup\",\n",
    "              \"hide\": False,\n",
    "              \"description\": \"The variable which has the setup information\"},\n",
    "    \"input_expression_dir\":{\"hide\":True},\n",
    "    \"output_var\": {\n",
    "        \"default\": \"setup\",\n",
    "        \"hide\": True,\n",
    "    },\n",
    "})\n",
    "def download_and_preprocess_rnaseq(setup, input_expression_dir = None):\n",
    "    setup.input_expression_dir = f'/pdx-hts/Notebooks/data/preprocessed/exp/{setup.case_id}.csv'\n",
    "    if setup.dna_nexus_bool:\n",
    "        if input_expression_dir is not None:\n",
    "            log(f\"input_expression_dir has a value ({setup.input_expression_dir}), and it will be ignored!\")\n",
    "        log('About to download fastqfiles from DNA Nexus. This may take a while.')\n",
    "        with open(setup.dnanexus_token_file, 'r') as f:\n",
    "            dnanexus_token = f.readline().strip()\n",
    "        login_command = 'dx login --token {} --noprojects; dx select {}'.format(dnanexus_token, setup.dnanexus_project)\n",
    "        # subprocess.check_output('ls', shell=True).decode('utf-8').strip()\n",
    "        subprocess.check_output(login_command, shell=True).decode('utf-8').strip()\n",
    "\n",
    "        find_fastq_command = 'dx find data --name \"*.fastq.gz\" --path {}:{}'.format(setup.dnanexus_project, setup.patient_dir)\n",
    "        find_fastq_return_lines = subprocess.check_output(find_fastq_command, shell=True).decode().strip().split('\\n')\n",
    "        re_string = '.*(/{}/.*\\.fastq.gz) .*'.format(setup.patient_dir)\n",
    "        fastq_path_re = re.compile(re_string)\n",
    "        remote_fastq_paths = []\n",
    "        local_fastq_subdirs = []\n",
    "\n",
    "        for line in find_fastq_return_lines:\n",
    "            search = fastq_path_re.search(line)\n",
    "            remote_fastq_path = search.group(1)\n",
    "            remote_fastq_paths.append(remote_fastq_path)\n",
    "            fastq_subdir_path = os.path.dirname(remote_fastq_path)\n",
    "            fastq_subdir = os.path.basename(fastq_subdir_path)\n",
    "            local_fastq_subdir = os.path.join(setup.local_fastqs_dir, fastq_subdir)\n",
    "            os.makedirs(local_fastq_subdir, exist_ok=True)\n",
    "            local_fastq_subdirs.append(local_fastq_subdir)\n",
    "\n",
    "        for remote_fastq_path, local_fastq_subdir in zip(remote_fastq_paths, local_fastq_subdirs):\n",
    "            download_command = 'dx download \"{}\" -o \"{}\"'.format(remote_fastq_path, local_fastq_subdir)\n",
    "            print('\\t'+download_command)\n",
    "            try:\n",
    "                a=subprocess.check_output(download_command, shell=True)\n",
    "            except subprocess.CalledProcessError as e:\n",
    "                print('\\tEncountered a dx error, this likely means you already have the file indicated above.')\n",
    "                print('\\tContinuing...\\n')\n",
    "                continue\n",
    "        log('Done downloading the fastq files.')\n",
    "        log('Preprocessing RNASeq data now:')\n",
    "        log('Using kallisto to compute transcript abundance.')\n",
    "        preprocess_rna_seq(setup)\n",
    "        log('Done with tanscript abundance.')\n",
    "        log('Using sleuth to aggregate transcript abundance into gene abbundance.')\n",
    "        run_sleuth(setup)\n",
    "        patient_exp = pd.read_csv(setup.patient_gexp_file, index_col=0).T\n",
    "        patient_exp.index = [setup.case_id]\n",
    "        setup.patient_exp = patient_exp\n",
    "        patient_exp.to_csv(setup.patient_gexp_file)\n",
    "        log('Habemus Genus Expressium *release the white smoke*')\n",
    "    else:\n",
    "        log(f'Checking if local file ({setup.input_expression_dir}) exist.')\n",
    "        if os.path.isfile(setup.input_expression_dir):\n",
    "            df = pd.read_csv(setup.input_expression_dir, index_col=0)\n",
    "            setup.expression_input = df\n",
    "            log(\"This file containes the expression of the PDXs. Printing dataframe's info:\")\n",
    "            log(setup.expression_input.info())\n",
    "        else:\n",
    "            log('File could not be located please check and run again.')\n",
    "        patient_exp = df\n",
    "        setup.patient_exp = patient_exp\n",
    "        patient_exp.to_csv(setup.patient_gexp_file)\n",
    "        log(f'File {setup.patient_gexp_file} saved successfully')\n",
    "    \n",
    "    pickle.dump(setup, file=open(os.path.join(setup.out_dir, setup.case_id+'_backup2_download.p'),'wb'))\n",
    "#     pickle.dump(setup, file=open(setup.out_dir+'_backup2_download.p','wb'))\n",
    "    log('Done preprocessing!')\n",
    "    return setup"
   ]
  },
  {
   "cell_type": "markdown",
   "metadata": {},
   "source": [
    "# Classify the tumor by medulloblastoma subgroup and subtype"
   ]
  },
  {
   "cell_type": "code",
   "execution_count": 43,
   "metadata": {
    "ExecuteTime": {
     "end_time": "2018-12-17T20:27:39.211430Z",
     "start_time": "2018-12-17T20:27:39.155985Z"
    },
    "nbtools": {
     "description": "This function classifies a medulloblastoma sample into a subgroup. Non-medulloblastoma samples are ignored.",
     "name": "classify_sample",
     "param_values": {
      "output_var": "setup",
      "setup": "setup"
     },
     "show_code": false,
     "type": "uibuilder"
    },
    "scrolled": true
   },
   "outputs": [
    {
     "data": {
      "application/vnd.jupyter.widget-view+json": {
       "model_id": "f8639f684df54748af19815367097eb4",
       "version_major": 2,
       "version_minor": 0
      },
      "text/plain": [
       "UIBuilder(description='This function classifies a medulloblastoma sample into a subgroup. Non-medulloblastoma …"
      ]
     },
     "metadata": {},
     "output_type": "display_data"
    }
   ],
   "source": [
    "@genepattern.build_ui(\n",
    "    description=\"This function classifies a medulloblastoma sample into a subgroup. Non-medulloblastoma samples are ignored.\",\n",
    "    parameters={\n",
    "    \"setup\": {\"default\": \"setup\",\n",
    "              \"hide\": False,\n",
    "              \"description\": \"The variable which has the setup information\"},\n",
    "    \"output_var\": {\n",
    "        \"default\": \"setup\",\n",
    "        \"hide\": True,\n",
    "    },\n",
    "})\n",
    "def classify_sample(setup):\n",
    "    # We have three datasets we can use to classify based on expression:\n",
    "    # - [Cavalli et al. 2017](http://www.sciencedirect.com/science/article/pii/S1535610817302015) cohort. This cohort includes 763 tumors, and was used to define 12 finer-grained subtypes nested in the 4 subgroups. Both expression and methylation data are available.\n",
    "\n",
    "    # - [Cho et al. 2011](http://www.mesirovlab.org/medulloblastoma/cho/) cohort. This paper identified two subtypes within G3 and two within G4, for a total of 6. It contains 194 tumors.\n",
    "\n",
    "    # - [Northcott et al. 2017](http://www.nature.com/nature/journal/v547/n7663/full/nature22973.html) expression data (shared by Sebastian). The labels we have for this data are of the 4 basic subgroups only. There are 223 tumors.\n",
    "\n",
    "    # When finer-grained subtypes are known, we perform the finer-grained classification first and also collapse the subtypes to the 4 basic subgroups, so as to report both subtype and subgroup probabilities. Classification is done using random forests.\n",
    "\n",
    "    # Since the patient data are from the same platform and contain the same features each time, we can use pre-fit models to classify them. The classification methods also have a fallback in case the data looks different.\n",
    "\n",
    "    # The tumor board is arranging for methylation data to be obtained from patient samples as well, since it seems it may be more informative than expression. Methylation data would also allow comparison to a large and variety collection of brain tumors, currently available through a DKFZ [web portal](https://www.molecularneuropathology.org/mnp).\n",
    "\n",
    "    if setup.is_medullo:\n",
    "        # Read in patient's gene-level RNASeq TPM data\n",
    "        patient_exp = pd.read_csv(setup.patient_gexp_file, index_col=0)\n",
    "\n",
    "        cavalli_subgroups, cavalli_subtypes = classify_cavalli(patient_exp)\n",
    "        cavalli_subgroups.to_csv(setup.cavalli_subgroup_file)\n",
    "        cavalli_subtypes.to_csv(setup.cavalli_subtype_file)\n",
    "        setup.cavalli_subgroups = cavalli_subgroups\n",
    "        setup.cavalli_subgroups.name='Cavalli'\n",
    "        setup.cavalli_subtypes = cavalli_subtypes\n",
    "        setup.cavalli_subtypes.name='Cavalli'\n",
    "\n",
    "        cho_subgroups, cho_subtypes = classify_cho(patient_exp)\n",
    "        cho_subtypes.to_csv(setup.cho_subtype_file)\n",
    "        cho_subgroups.to_csv(setup.cho_subgroup_file)\n",
    "        setup.cho_subtypes = cho_subtypes\n",
    "        setup.cho_subtypes.name = 'Cho'\n",
    "        setup.cho_subgroups = cho_subgroups\n",
    "        setup.cho_subgroups.name = 'Cho'\n",
    "\n",
    "        northcott_subgroups = classify_northcott(patient_exp)\n",
    "        northcott_subgroups.to_csv(setup.northcott_subgroup_file)\n",
    "        setup.northcott_subgroups = northcott_subgroups\n",
    "        setup.northcott_subgroups.name = 'Northcott'\n",
    "        \n",
    "\n",
    "        make_medullo_classification_slide(setup.mtb_ppt_file,\n",
    "                                          setup.cavalli_subgroup_file,\n",
    "                                          setup.cavalli_subtype_file,\n",
    "                                          setup.cho_subgroup_file,\n",
    "                                          setup.cho_subtype_file,\n",
    "                                          setup.northcott_subgroup_file)\n",
    "        subgroups = pd.DataFrame(data=setup.cavalli_subgroups).join(setup.cho_subgroups).join(setup.northcott_subgroups)\n",
    "        setup.subgroups = subgroups\n",
    "        print(setup.subgroups)\n",
    "        cavalli_subtypes = pd.DataFrame(data=setup.cavalli_subtypes)\n",
    "        setup.cavalli_subtypes = cavalli_subtypes\n",
    "        print(cavalli_subtypes)\n",
    "        cho_subtypes = pd.DataFrame(pd.Series(index=[3,1,6,5,4,2], data=['SHH','G3-MYC','WNT','G3-photoreceptor','G4-Mixed','G4-neuronal'],name='Subtypes')).join(setup.cho_subtypes)\n",
    "        setup.cho_subtypes = cho_subtypes\n",
    "        print(cho_subtypes)\n",
    "        \n",
    "        log('Done! Move along')\n",
    "    else:\n",
    "        log('This is not medulloblastoma. Nothing to do here. Move along')\n",
    "#     pickle.dump(setup, file=open(setup.out_dir+'_backup3_classify.p','wb'))\n",
    "    pickle.dump(setup, file=open(os.path.join(setup.out_dir, setup.case_id+'_backup3_classify.p'),'wb'))\n",
    "    \n",
    "    return setup"
   ]
  },
  {
   "cell_type": "code",
   "execution_count": null,
   "metadata": {},
   "outputs": [],
   "source": []
  },
  {
   "cell_type": "markdown",
   "metadata": {},
   "source": [
    "# Suggest drugs based on RNAseq data (DiSCoVER)"
   ]
  },
  {
   "cell_type": "code",
   "execution_count": 44,
   "metadata": {
    "ExecuteTime": {
     "end_time": "2018-12-17T20:27:39.270644Z",
     "start_time": "2018-12-17T20:27:39.214649Z"
    },
    "nbtools": {
     "description": "Run DiSCoVER on the provided sample and control.",
     "name": "run_discover",
     "param_values": {
      "output_var": "setup",
      "setup": "setup"
     },
     "show_code": false,
     "type": "uibuilder"
    },
    "scrolled": true
   },
   "outputs": [
    {
     "data": {
      "application/vnd.jupyter.widget-view+json": {
       "model_id": "8704e0ffb8bd4263a6f2c84a681af5d7",
       "version_major": 2,
       "version_minor": 0
      },
      "text/plain": [
       "UIBuilder(description='Run DiSCoVER on the provided sample and control.', function_import='run_discover', name…"
      ]
     },
     "metadata": {},
     "output_type": "display_data"
    }
   ],
   "source": [
    "@genepattern.build_ui(\n",
    "  description=\"Run DiSCoVER on the provided sample and control.\",\n",
    "  parameters={\n",
    "    \"setup\": {\"default\": \"setup\",\n",
    "              \"hide\": False,\n",
    "              \"description\": \"The variable which has the setup information\"},\n",
    "    \"output_var\": {\n",
    "        \"default\": \"setup\",\n",
    "        \"hide\": True,\n",
    "    },\n",
    "})\n",
    "def run_discover(setup):\n",
    "    from rpy2.robjects import numpy2ri\n",
    "    numpy2ri.activate()\n",
    "    from discover import discover_from_expression, plot_discover_from_expression\n",
    "    from drug_suggestion.expression.controls import load_control_exp\n",
    "    patient_exp = pd.read_csv(setup.patient_gexp_file, index_col=0)\n",
    "    control_exp = load_control_exp(setup.expression_control)\n",
    "    log(\"About to perform DiSCoVER.\")\n",
    "    discover_results = discover_from_expression(exp=patient_exp, \n",
    "                                                control_exp=control_exp, \n",
    "                                                verbose=False)\n",
    "    setup.raw_discover_results = discover_results\n",
    "#     pickle.dump(setup, file=open(setup.out_dir+'_backup4-0_DISCoVER.p','wb'))\n",
    "#     print(discover_results)\n",
    "    # move some files created by DiSCoVER\n",
    "#     for cl_name in ['ccle','ctrp','gdsc']:\n",
    "#         os.rename(f\"COSMIC_cell_lines_IDs_and_types_{cl_name}.csv\", os.path.join(setup.out_dir, f\"COSMIC_cell_lines_IDs_and_types_{cl_name}.csv\"))\n",
    "    \n",
    "    log(\"DiSCoVER done!\")\n",
    "    numpy2ri.deactivate()\n",
    "    log('Saving results to file.')\n",
    "    # display(discover_results)\n",
    "    discover_results.T.sort_values(by=setup.case_id, ascending=False).to_csv(setup.full_discover_results_file)\n",
    "    log(\"Saving done!\")\n",
    "    log(\"NOT Restricting to clinically relevant drugs.\")\n",
    "    #Not all drugs in CCLE, CTRP, and GDSC are realistic candidates for treatment. We compiled a list of medications that are FDA-approved or in late-stage clinical trials, and Dr. Wechsler-Reya curated it to include only those that are relevant for treating brain tumors. Here we limit the results to these drugs and add Dr. Wechsler-Reya's mechanism-of-action annotations. To enable comparison of drug lists, drugs from the different sources have been mapped to PubChem compound IDs (CIDs) using [PubChemPy](http://pubchempy.readthedocs.io/en/latest/).\n",
    "    from drug_suggestion.drug_annotation import subset_to_reasonable_drugs\n",
    "    from drug_suggestion.expression.discover import load_discover_drug_to_cids\n",
    "    disco2cid = load_discover_drug_to_cids()\n",
    "    reasonable_results = subset_to_reasonable_drugs(discover_results, \n",
    "                                                disco2cid, \n",
    "                                                out_prefix='discover.{}'.format(setup.expression_control), \n",
    "                                                out_dir=setup.discover_out_dir)\n",
    "    # This will override the file setup.rdrugs_discover_file\n",
    "    all_drugs = format_drugs(discover_results, \n",
    "                                disco2cid, \n",
    "                                out_prefix='discover.{}'.format(setup.expression_control), \n",
    "                                out_dir=setup.discover_out_dir)\n",
    "    log('Done restricting to clinically relevant drugs!')\n",
    "    \n",
    "##     log('making a discover illustrative method')\n",
    "##     from drug_suggestion.expression.discover import plot_discover_from_expression\n",
    "##     plot_discover_from_expression(case_id, \n",
    "##                                   discover_results, \n",
    "##                                   exp=patient_exp,\n",
    "##                                   control_exp=control_exp,\n",
    "##                                   cl='ctrp',\n",
    "##                                   out_file=discover_heatmap_file)\n",
    "##     make_discover_workflow_slide(mtb_ppt_file, discover_heatmap_file)\n",
    "    log('Making the DiSCoVER powerpoint.')\n",
    "    rdrugs_discover = pd.read_csv(setup.rdrugs_discover_file, index_col=None)\n",
    "\n",
    "    \n",
    "    # Using all of the drugs\n",
    "    log('Using all of the drugs')\n",
    "    df = split_discover_dataframe(df=rdrugs_discover)\n",
    "    df = rank_drugs_discover(df)\n",
    "#     df.head()\n",
    "    make_exp_drug_ranking_results_slide(setup.mtb_ppt_file, df.head(20), setup.expression_control, method='DiSCoVER')\n",
    "    log('Done making the DiSCoVER powerpoint slide!')\n",
    "    log('Savig the variables to a file.')\n",
    "    setup.discover_results = discover_results\n",
    "    setup.disco2cid = disco2cid\n",
    "    setup.control_exp = control_exp\n",
    "    setup.reasonable_results = reasonable_results\n",
    "    setup.df = df\n",
    "    log('Saving the formatted results of DiSCoVER to a csv')\n",
    "    df.to_csv(os.path.join(setup.out_dir, setup.case_id+'_formated_DISCoVER_results.csv'))\n",
    "#     pickle.dump(setup, file=open(setup.out_dir+'_backup4_DISCoVER.p','wb'))\n",
    "    pickle.dump(setup, file=open(os.path.join(setup.out_dir, setup.case_id+'_backup4_DISCoVER.p'),'wb'))\n",
    "#     pickle.dump(setup, file=open(setup.case_id+'_DISCoVER.p','wb'))\n",
    "    log('Done savig the variables to a file!')\n",
    "    \n",
    "    log('Done with all the taks in this cell. Move along.')\n",
    "    return setup"
   ]
  },
  {
   "cell_type": "code",
   "execution_count": null,
   "metadata": {},
   "outputs": [],
   "source": []
  }
 ],
 "metadata": {
  "kernelspec": {
   "display_name": "Python 3",
   "language": "python",
   "name": "python3"
  },
  "language_info": {
   "codemirror_mode": {
    "name": "ipython",
    "version": 3
   },
   "file_extension": ".py",
   "mimetype": "text/x-python",
   "name": "python",
   "nbconvert_exporter": "python",
   "pygments_lexer": "ipython3",
   "version": "3.6.3"
  }
 },
 "nbformat": 4,
 "nbformat_minor": 2
}
