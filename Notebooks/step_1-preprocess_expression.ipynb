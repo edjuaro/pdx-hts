{
 "cells": [
  {
   "cell_type": "code",
   "execution_count": 2,
   "metadata": {
    "ExecuteTime": {
     "end_time": "2018-12-14T20:33:49.182283Z",
     "start_time": "2018-12-14T20:33:48.590091Z"
    }
   },
   "outputs": [],
   "source": [
    "%load_ext rpy2.ipython\n",
    "import rpy2\n",
    "import warnings\n",
    "def rmagic_warning(\n",
    "    message,\n",
    "    category = rpy2.rinterface.RRuntimeWarning,\n",
    "    filename = '',\n",
    "    lineno = -1,\n",
    "    file=None, \n",
    "    line=None):\n",
    "    print(message)\n",
    "default_showwarning = warnings.showwarning"
   ]
  },
  {
   "cell_type": "code",
   "execution_count": 3,
   "metadata": {
    "ExecuteTime": {
     "end_time": "2018-12-14T20:33:50.322122Z",
     "start_time": "2018-12-14T20:33:49.845984Z"
    }
   },
   "outputs": [],
   "source": [
    "from common_imports import *"
   ]
  },
  {
   "cell_type": "markdown",
   "metadata": {},
   "source": [
    "# Process Affy data for PDXs and 7 primaries\n",
    "These are the expression data used throughout the paper."
   ]
  },
  {
   "cell_type": "markdown",
   "metadata": {
    "heading_collapsed": true
   },
   "source": [
    "## Data provenance\n",
    "On 3/28/17, Sebastian Brabetz (s.brabetz@dkfz-heidelberg.de) sent me through WeTransfer a zip archive including the tumor cels, cels for 7 primaries (it had been 8, but Med1612 was excluded because of contamination), and the most recent annotation Excel file, 170328_PDXScreen_Anno_v5.xlsx.\n",
    "\n",
    "Most if not all of these files had been sent previously, spread over several occasions, and the annotation changed a couple of times as it was decided that e.g. one sample of a tumor was better than another (fewer passages etc). So I asked Sebastian to send everything fresh to start with a clean slate and make sure we were all using the same data."
   ]
  },
  {
   "cell_type": "markdown",
   "metadata": {},
   "source": [
    "## Process cel files to probewise abundance using hspeccdf"
   ]
  },
  {
   "cell_type": "markdown",
   "metadata": {},
   "source": [
    "[Isella et al. 2015](https://www.ncbi.nlm.nih.gov/pubmed/25706627) showed that in order to reduce the influence of infiltration of mouse stroma on measuring gene expression in PDXs, it can help to remove probes that cross-hybridize to mouse transcripts. This is done using a custom content descriptor file (CDF) rather than the default hgu133plus2 CDF."
   ]
  },
  {
   "cell_type": "code",
   "execution_count": 3,
   "metadata": {
    "ExecuteTime": {
     "end_time": "2018-12-13T21:27:33.984178Z",
     "start_time": "2018-12-13T21:27:33.979753Z"
    }
   },
   "outputs": [],
   "source": [
    "warnings.showwarning = rmagic_warning # to only print the warning text, not text + returned warning object\n",
    "from rpy2.robjects import numpy2ri\n",
    "numpy2ri.activate()"
   ]
  },
  {
   "cell_type": "code",
   "execution_count": 4,
   "metadata": {
    "ExecuteTime": {
     "end_time": "2018-12-13T21:27:34.748905Z",
     "start_time": "2018-12-13T21:27:34.725591Z"
    }
   },
   "outputs": [],
   "source": [
    "%%R\n",
    "pkg.is.installed <- function(mypkg)\n",
    "{\n",
    "    return(mypkg %in% rownames(installed.packages()))\n",
    "}"
   ]
  },
  {
   "cell_type": "markdown",
   "metadata": {},
   "source": [
    "Note that some of the installation and configuration of these R packages may have to be done in the terminal. If the following cell does not work, try installing the packages manually and re-running the notebook."
   ]
  },
  {
   "cell_type": "code",
   "execution_count": 76,
   "metadata": {
    "ExecuteTime": {
     "end_time": "2018-12-13T22:39:16.747859Z",
     "start_time": "2018-12-13T22:39:16.737488Z"
    }
   },
   "outputs": [],
   "source": []
  },
  {
   "cell_type": "code",
   "execution_count": 6,
   "metadata": {
    "ExecuteTime": {
     "end_time": "2018-12-13T21:28:09.309339Z",
     "start_time": "2018-12-13T21:27:39.347343Z"
    },
    "scrolled": true
   },
   "outputs": [
    {
     "name": "stdout",
     "output_type": "stream",
     "text": [
      "Bioconductor version 3.6 (BiocInstaller 1.28.0), ?biocLite for help\n",
      "\n",
      "A new version of Bioconductor is available after installing the most recent\n",
      "  version of R; see http://bioconductor.org/install\n",
      "\n",
      "Loading required package: BiocGenerics\n",
      "\n",
      "Loading required package: parallel\n",
      "\n",
      "\n",
      "Attaching package: 'BiocGenerics'\n",
      "\n",
      "\n",
      "The following objects are masked from 'package:parallel':\n",
      "\n",
      "    clusterApply, clusterApplyLB, clusterCall, clusterEvalQ,\n",
      "    clusterExport, clusterMap, parApply, parCapply, parLapply,\n",
      "    parLapplyLB, parRapply, parSapply, parSapplyLB\n",
      "\n",
      "\n",
      "The following objects are masked from 'package:stats':\n",
      "\n",
      "    IQR, mad, sd, var, xtabs\n",
      "\n",
      "\n",
      "The following objects are masked from 'package:base':\n",
      "\n",
      "    Filter, Find, Map, Position, Reduce, anyDuplicated, append,\n",
      "    as.data.frame, cbind, colMeans, colSums, colnames, do.call,\n",
      "    duplicated, eval, evalq, get, grep, grepl, intersect, is.unsorted,\n",
      "    lapply, lengths, mapply, match, mget, order, paste, pmax, pmax.int,\n",
      "    pmin, pmin.int, rank, rbind, rowMeans, rowSums, rownames, sapply,\n",
      "    setdiff, sort, table, tapply, union, unique, unsplit, which,\n",
      "    which.max, which.min\n",
      "\n",
      "\n",
      "Loading required package: Biobase\n",
      "\n",
      "Welcome to Bioconductor\n",
      "\n",
      "    Vignettes contain introductory material; view with\n",
      "    'browseVignettes()'. To cite Bioconductor, see\n",
      "    'citation(\"Biobase\")', and for packages 'citation(\"pkgname\")'.\n",
      "\n",
      "\n",
      "Loading required package: AnnotationDbi\n",
      "\n",
      "Loading required package: stats4\n",
      "\n",
      "Loading required package: IRanges\n",
      "\n",
      "Loading required package: S4Vectors\n",
      "\n",
      "\n",
      "Attaching package: 'S4Vectors'\n",
      "\n",
      "\n",
      "The following object is masked from 'package:base':\n",
      "\n",
      "    expand.grid\n",
      "\n",
      "\n",
      "Loading required package: XML\n",
      "\n",
      "\n",
      "Attaching package: 'XML'\n",
      "\n",
      "\n",
      "The following object is masked from 'package:tools':\n",
      "\n",
      "    toHTML\n",
      "\n",
      "\n"
     ]
    },
    {
     "data": {
      "text/plain": [
       "[1] \"Reading in cels\"\n",
       "[1] \"Performing RMA\"\n",
       "Background correcting\n",
       "Normalizing\n",
       "Calculating Expression\n"
      ]
     },
     "metadata": {},
     "output_type": "display_data"
    }
   ],
   "source": [
    "%%R -i pdx_affy_cel_dir,pdx_affy_probe_exp_file\n",
    "library('affy')\n",
    "library('annotate')\n",
    "library('hspeccdf')\n",
    "print('Reading in cels')\n",
    "data <- ReadAffy(celfile.path=pdx_affy_cel_dir, cdfname='hspeccdf')\n",
    "print('Performing RMA')\n",
    "result <- affy::rma(data)\n",
    "write.exprs(result, pdx_affy_probe_exp_file)"
   ]
  },
  {
   "cell_type": "code",
   "execution_count": 7,
   "metadata": {
    "ExecuteTime": {
     "end_time": "2018-12-13T21:28:32.677749Z",
     "start_time": "2018-12-13T21:28:32.672655Z"
    }
   },
   "outputs": [
    {
     "name": "stdout",
     "output_type": "stream",
     "text": [
      "done!\n"
     ]
    }
   ],
   "source": [
    "print('done!')"
   ]
  },
  {
   "cell_type": "code",
   "execution_count": 8,
   "metadata": {
    "ExecuteTime": {
     "end_time": "2018-12-13T21:28:41.086128Z",
     "start_time": "2018-12-13T21:28:41.081397Z"
    }
   },
   "outputs": [],
   "source": [
    "numpy2ri.deactivate()\n",
    "# Return to default warning handling.\n",
    "warnings.showwarning = default_showwarning  "
   ]
  },
  {
   "cell_type": "markdown",
   "metadata": {},
   "source": [
    "## Convert to genewise abundance"
   ]
  },
  {
   "cell_type": "code",
   "execution_count": 9,
   "metadata": {
    "ExecuteTime": {
     "end_time": "2018-12-13T21:29:34.353074Z",
     "start_time": "2018-12-13T21:29:34.345806Z"
    }
   },
   "outputs": [],
   "source": [
    "def fix_dkfz_tumor_name(name):\n",
    "    name = name.replace('DKFZ-', '')\n",
    "    name = name.upper()\n",
    "    name = name.replace(\"FH\", '')\n",
    "    name = name.replace('-', '')\n",
    "    name = re.sub('MB$', '', name)\n",
    "    return name"
   ]
  },
  {
   "cell_type": "code",
   "execution_count": 15,
   "metadata": {
    "ExecuteTime": {
     "end_time": "2018-12-13T21:32:04.244744Z",
     "start_time": "2018-12-13T21:32:04.184696Z"
    },
    "scrolled": false
   },
   "outputs": [],
   "source": [
    "pdx_annot_df = pd.read_excel(PDX_AFFY_ANNOT_FILE, index_col=0).astype(str)\n",
    "cel_to_tumor = dict(zip(['{}.cel'.format(cel) for cel in pdx_annot_df.CEL_file], \n",
    "                        [fix_dkfz_tumor_name(name) for name in pdx_annot_df.index]))\n",
    "\n",
    "have_primary = pdx_annot_df[pdx_annot_df.CEL_primary != '0']\n",
    "cel_to_primary = dict(zip(['{}.cel'.format(cel) for cel in have_primary.CEL_primary], \n",
    "                        [fix_dkfz_tumor_name(name) for name in have_primary.index]))"
   ]
  },
  {
   "cell_type": "markdown",
   "metadata": {},
   "source": [
    "Rather than using the hgu133plus2 annotation, hspeccdf maps probes to entrez genes, so for example the probeset 171484_at matches to the gene with entrez ID 171484. I use gene ID information from [HUGO](https://www.genenames.org/cgi-bin/download) (last downloaded 4.13.18) to map entrez IDs to HUGO gene symbols."
   ]
  },
  {
   "cell_type": "code",
   "execution_count": 28,
   "metadata": {
    "ExecuteTime": {
     "end_time": "2018-12-13T21:46:39.426711Z",
     "start_time": "2018-12-13T21:46:39.295868Z"
    }
   },
   "outputs": [],
   "source": [
    "entrez2hugo = utils.make_col2col_dict(GENE_ID_CONVERSION_FILE, 'entrez', 'hugo')"
   ]
  },
  {
   "cell_type": "code",
   "execution_count": 29,
   "metadata": {
    "ExecuteTime": {
     "end_time": "2018-12-13T21:46:41.193379Z",
     "start_time": "2018-12-13T21:46:40.950103Z"
    }
   },
   "outputs": [],
   "source": [
    "probe_exp = pd.read_table(pdx_affy_probe_exp_file, index_col=0)\n",
    "p2g = {}\n",
    "for probe in probe_exp.index:\n",
    "    entrez = probe.split('_')[0]\n",
    "    if entrez in entrez2hugo:\n",
    "        hugo = entrez2hugo[entrez]\n",
    "        p2g[probe] = hugo\n",
    "probe_df = probe_exp.copy()\n",
    "keepers = []\n",
    "for probe in probe_df.index:\n",
    "    if probe in p2g:\n",
    "        if not pd.isnull(p2g[probe]):\n",
    "            keepers.append(probe)\n",
    "gene_df = probe_df.loc[keepers]\n",
    "gene_df.index = [p2g[probe] for probe in gene_df.index]"
   ]
  },
  {
   "cell_type": "code",
   "execution_count": 30,
   "metadata": {
    "ExecuteTime": {
     "end_time": "2018-12-13T21:46:45.369309Z",
     "start_time": "2018-12-13T21:46:45.303552Z"
    }
   },
   "outputs": [],
   "source": [
    "gene_df = utils.merge_redundant_series(gene_df, axis=0).T.sort_index(axis=1)"
   ]
  },
  {
   "cell_type": "code",
   "execution_count": 31,
   "metadata": {
    "ExecuteTime": {
     "end_time": "2018-12-13T21:46:50.886976Z",
     "start_time": "2018-12-13T21:46:50.882811Z"
    }
   },
   "outputs": [],
   "source": [
    "#gene_df = quantile_normalize(gene_df) # was done initially, but later considered unnecessary."
   ]
  },
  {
   "cell_type": "code",
   "execution_count": 32,
   "metadata": {
    "ExecuteTime": {
     "end_time": "2018-12-13T21:46:52.878646Z",
     "start_time": "2018-12-13T21:46:52.861893Z"
    }
   },
   "outputs": [],
   "source": [
    "primaries_df = gene_df.loc[list(cel_to_primary.keys())]\n",
    "primaries_df.index = [cel_to_primary[cel] for cel in primaries_df.index]\n",
    "tumors_df = gene_df.loc[list(cel_to_tumor.keys())]\n",
    "tumors_df.index = [cel_to_tumor[cel] for cel in tumors_df.index]"
   ]
  },
  {
   "cell_type": "code",
   "execution_count": 43,
   "metadata": {
    "ExecuteTime": {
     "end_time": "2018-12-13T21:50:23.261474Z",
     "start_time": "2018-12-13T21:50:22.114494Z"
    }
   },
   "outputs": [],
   "source": [
    "tumors_df.sort_index(axis=0).to_csv(PREPROC_PDX_AFFY_EXP_FILE)\n",
    "primaries_df.sort_index(axis=0).to_csv(PREPROC_PRIMARY_AFFY_EXP_FILE)"
   ]
  },
  {
   "cell_type": "code",
   "execution_count": 44,
   "metadata": {
    "ExecuteTime": {
     "end_time": "2018-12-13T21:51:20.050115Z",
     "start_time": "2018-12-13T21:51:20.041749Z"
    }
   },
   "outputs": [
    {
     "data": {
      "text/plain": [
       "(20, 16247)"
      ]
     },
     "execution_count": 44,
     "metadata": {},
     "output_type": "execute_result"
    }
   ],
   "source": [
    "tumors_df.shape"
   ]
  },
  {
   "cell_type": "markdown",
   "metadata": {
    "heading_collapsed": true
   },
   "source": [
    "# Project expression onto genesets using ssGSEA"
   ]
  },
  {
   "cell_type": "code",
   "execution_count": 48,
   "metadata": {
    "ExecuteTime": {
     "end_time": "2018-12-13T21:56:36.320699Z",
     "start_time": "2018-12-13T21:56:36.247413Z"
    },
    "hidden": true
   },
   "outputs": [],
   "source": [
    "from genesets import load_genesets\n",
    "from gsea import ssgsea"
   ]
  },
  {
   "cell_type": "code",
   "execution_count": 49,
   "metadata": {
    "ExecuteTime": {
     "end_time": "2018-12-13T21:56:52.797357Z",
     "start_time": "2018-12-13T21:56:51.513666Z"
    },
    "hidden": true
   },
   "outputs": [],
   "source": [
    "pdx_exp = pd.read_csv(PREPROC_PDX_AFFY_EXP_FILE, index_col=0)\n",
    "primary_exp = pd.read_csv(PREPROC_PRIMARY_AFFY_EXP_FILE, index_col=0)"
   ]
  },
  {
   "cell_type": "code",
   "execution_count": 52,
   "metadata": {
    "ExecuteTime": {
     "end_time": "2018-12-13T21:57:33.569365Z",
     "start_time": "2018-12-13T21:57:30.337999Z"
    },
    "hidden": true
   },
   "outputs": [],
   "source": [
    "genesets = load_genesets(GENESETS_DIR, which='all')"
   ]
  },
  {
   "cell_type": "code",
   "execution_count": 53,
   "metadata": {
    "ExecuteTime": {
     "end_time": "2018-12-13T22:08:54.399680Z",
     "start_time": "2018-12-13T22:00:02.165080Z"
    },
    "hidden": true
   },
   "outputs": [
    {
     "name": "stdout",
     "output_type": "stream",
     "text": [
      "CPU times: user 21.1 s, sys: 2.84 s, total: 23.9 s\n",
      "Wall time: 8min 52s\n"
     ]
    }
   ],
   "source": [
    "%%time\n",
    "pdx_ssgsea = ssgsea(pdx_exp, genesets, alpha=0.75)"
   ]
  },
  {
   "cell_type": "code",
   "execution_count": 56,
   "metadata": {
    "ExecuteTime": {
     "end_time": "2018-12-13T22:10:48.317883Z",
     "start_time": "2018-12-13T22:10:47.292831Z"
    },
    "hidden": true
   },
   "outputs": [],
   "source": [
    "pdx_ssgsea.to_csv(PDX_SSGSEA_FILE)"
   ]
  },
  {
   "cell_type": "code",
   "execution_count": 57,
   "metadata": {
    "ExecuteTime": {
     "end_time": "2018-12-13T22:14:25.883773Z",
     "start_time": "2018-12-13T22:10:54.868053Z"
    },
    "hidden": true
   },
   "outputs": [
    {
     "name": "stdout",
     "output_type": "stream",
     "text": [
      "CPU times: user 7.47 s, sys: 890 ms, total: 8.36 s\n",
      "Wall time: 3min 31s\n"
     ]
    }
   ],
   "source": [
    "%%time\n",
    "primary_ssgsea = ssgsea(primary_exp, genesets, alpha=0.75)"
   ]
  },
  {
   "cell_type": "code",
   "execution_count": 59,
   "metadata": {
    "ExecuteTime": {
     "end_time": "2018-12-13T22:14:26.284702Z",
     "start_time": "2018-12-13T22:14:25.901198Z"
    },
    "hidden": true
   },
   "outputs": [],
   "source": [
    "primary_ssgsea.to_csv(PRIMARY_SSGSEA_FILE)"
   ]
  },
  {
   "cell_type": "markdown",
   "metadata": {},
   "source": [
    "# Process Illumina Beadchip data for 3 PDXs and primaries\n",
    "\n",
    "These data (available [here](https://www.ncbi.nlm.nih.gov/geo/query/acc.cgi?acc=GSE28192)) were not used in the paper but are included in the supplement and for reference."
   ]
  },
  {
   "cell_type": "code",
   "execution_count": 60,
   "metadata": {
    "ExecuteTime": {
     "end_time": "2018-12-13T22:18:34.234047Z",
     "start_time": "2018-12-13T22:18:34.229641Z"
    }
   },
   "outputs": [],
   "source": [
    "from utils import merge_redundant_series"
   ]
  },
  {
   "cell_type": "code",
   "execution_count": 65,
   "metadata": {
    "ExecuteTime": {
     "end_time": "2018-12-13T22:36:58.736784Z",
     "start_time": "2018-12-13T22:36:57.697963Z"
    }
   },
   "outputs": [
    {
     "data": {
      "text/html": [
       "<div>\n",
       "<style scoped>\n",
       "    .dataframe tbody tr th:only-of-type {\n",
       "        vertical-align: middle;\n",
       "    }\n",
       "\n",
       "    .dataframe tbody tr th {\n",
       "        vertical-align: top;\n",
       "    }\n",
       "\n",
       "    .dataframe thead th {\n",
       "        text-align: right;\n",
       "    }\n",
       "</style>\n",
       "<table border=\"1\" class=\"dataframe\">\n",
       "  <thead>\n",
       "    <tr style=\"text-align: right;\">\n",
       "      <th></th>\n",
       "      <th>GSM697986</th>\n",
       "      <th>GSM697987</th>\n",
       "      <th>GSM697988</th>\n",
       "      <th>GSM697989</th>\n",
       "      <th>GSM697990</th>\n",
       "      <th>GSM697991</th>\n",
       "      <th>GSM697992</th>\n",
       "      <th>GSM697993</th>\n",
       "      <th>GSM697994</th>\n",
       "      <th>GSM697995</th>\n",
       "      <th>...</th>\n",
       "      <th>GSM698068</th>\n",
       "      <th>GSM698069</th>\n",
       "      <th>GSM698070</th>\n",
       "      <th>GSM698071</th>\n",
       "      <th>GSM698072</th>\n",
       "      <th>GSM698073</th>\n",
       "      <th>GSM698074</th>\n",
       "      <th>GSM698075</th>\n",
       "      <th>GSM698076</th>\n",
       "      <th>GSM698077</th>\n",
       "    </tr>\n",
       "    <tr>\n",
       "      <th>ID_REF</th>\n",
       "      <th></th>\n",
       "      <th></th>\n",
       "      <th></th>\n",
       "      <th></th>\n",
       "      <th></th>\n",
       "      <th></th>\n",
       "      <th></th>\n",
       "      <th></th>\n",
       "      <th></th>\n",
       "      <th></th>\n",
       "      <th></th>\n",
       "      <th></th>\n",
       "      <th></th>\n",
       "      <th></th>\n",
       "      <th></th>\n",
       "      <th></th>\n",
       "      <th></th>\n",
       "      <th></th>\n",
       "      <th></th>\n",
       "      <th></th>\n",
       "      <th></th>\n",
       "    </tr>\n",
       "  </thead>\n",
       "  <tbody>\n",
       "    <tr>\n",
       "      <th>ILMN_1343289</th>\n",
       "      <td>8873.765</td>\n",
       "      <td>9019.939</td>\n",
       "      <td>8321.701</td>\n",
       "      <td>8597.173</td>\n",
       "      <td>7972.136</td>\n",
       "      <td>8454.363</td>\n",
       "      <td>7222.372</td>\n",
       "      <td>7160.046</td>\n",
       "      <td>5800.359</td>\n",
       "      <td>5789.193</td>\n",
       "      <td>...</td>\n",
       "      <td>3966.823</td>\n",
       "      <td>4510.685</td>\n",
       "      <td>7933.080</td>\n",
       "      <td>7655.048</td>\n",
       "      <td>3969.261</td>\n",
       "      <td>4202.289</td>\n",
       "      <td>6584.224</td>\n",
       "      <td>6251.000</td>\n",
       "      <td>7800.057</td>\n",
       "      <td>7169.415</td>\n",
       "    </tr>\n",
       "    <tr>\n",
       "      <th>ILMN_1343290</th>\n",
       "      <td>10581.030</td>\n",
       "      <td>11269.900</td>\n",
       "      <td>3117.435</td>\n",
       "      <td>3319.712</td>\n",
       "      <td>8648.661</td>\n",
       "      <td>8912.334</td>\n",
       "      <td>16107.970</td>\n",
       "      <td>16039.770</td>\n",
       "      <td>14342.820</td>\n",
       "      <td>15226.370</td>\n",
       "      <td>...</td>\n",
       "      <td>6941.944</td>\n",
       "      <td>6465.565</td>\n",
       "      <td>5421.817</td>\n",
       "      <td>5232.795</td>\n",
       "      <td>8435.935</td>\n",
       "      <td>8016.704</td>\n",
       "      <td>10082.870</td>\n",
       "      <td>9275.180</td>\n",
       "      <td>4842.793</td>\n",
       "      <td>5161.231</td>\n",
       "    </tr>\n",
       "    <tr>\n",
       "      <th>ILMN_1343291</th>\n",
       "      <td>27723.540</td>\n",
       "      <td>26947.170</td>\n",
       "      <td>25108.230</td>\n",
       "      <td>24472.990</td>\n",
       "      <td>23876.240</td>\n",
       "      <td>25107.190</td>\n",
       "      <td>30136.330</td>\n",
       "      <td>31310.060</td>\n",
       "      <td>24931.080</td>\n",
       "      <td>26643.790</td>\n",
       "      <td>...</td>\n",
       "      <td>13985.140</td>\n",
       "      <td>15141.920</td>\n",
       "      <td>21393.430</td>\n",
       "      <td>23346.100</td>\n",
       "      <td>19563.940</td>\n",
       "      <td>20737.940</td>\n",
       "      <td>21042.820</td>\n",
       "      <td>20138.190</td>\n",
       "      <td>22116.220</td>\n",
       "      <td>24224.900</td>\n",
       "    </tr>\n",
       "    <tr>\n",
       "      <th>ILMN_1343292</th>\n",
       "      <td>3720.148</td>\n",
       "      <td>3716.892</td>\n",
       "      <td>3045.436</td>\n",
       "      <td>3093.125</td>\n",
       "      <td>3431.755</td>\n",
       "      <td>3183.872</td>\n",
       "      <td>6163.287</td>\n",
       "      <td>5984.875</td>\n",
       "      <td>6520.189</td>\n",
       "      <td>6664.529</td>\n",
       "      <td>...</td>\n",
       "      <td>7127.288</td>\n",
       "      <td>7485.877</td>\n",
       "      <td>10175.230</td>\n",
       "      <td>11400.910</td>\n",
       "      <td>6385.931</td>\n",
       "      <td>6290.254</td>\n",
       "      <td>7631.206</td>\n",
       "      <td>7654.023</td>\n",
       "      <td>10857.410</td>\n",
       "      <td>10923.240</td>\n",
       "    </tr>\n",
       "    <tr>\n",
       "      <th>ILMN_1343293</th>\n",
       "      <td>8413.422</td>\n",
       "      <td>8265.768</td>\n",
       "      <td>5738.696</td>\n",
       "      <td>5639.104</td>\n",
       "      <td>9057.703</td>\n",
       "      <td>9153.695</td>\n",
       "      <td>4510.629</td>\n",
       "      <td>4578.813</td>\n",
       "      <td>5262.731</td>\n",
       "      <td>5183.555</td>\n",
       "      <td>...</td>\n",
       "      <td>3803.817</td>\n",
       "      <td>3709.520</td>\n",
       "      <td>3953.159</td>\n",
       "      <td>4444.244</td>\n",
       "      <td>2922.038</td>\n",
       "      <td>2886.281</td>\n",
       "      <td>2843.153</td>\n",
       "      <td>2871.426</td>\n",
       "      <td>3956.004</td>\n",
       "      <td>4251.552</td>\n",
       "    </tr>\n",
       "  </tbody>\n",
       "</table>\n",
       "<p>5 rows × 92 columns</p>\n",
       "</div>"
      ],
      "text/plain": [
       "              GSM697986  GSM697987  GSM697988  GSM697989  GSM697990  \\\n",
       "ID_REF                                                                \n",
       "ILMN_1343289   8873.765   9019.939   8321.701   8597.173   7972.136   \n",
       "ILMN_1343290  10581.030  11269.900   3117.435   3319.712   8648.661   \n",
       "ILMN_1343291  27723.540  26947.170  25108.230  24472.990  23876.240   \n",
       "ILMN_1343292   3720.148   3716.892   3045.436   3093.125   3431.755   \n",
       "ILMN_1343293   8413.422   8265.768   5738.696   5639.104   9057.703   \n",
       "\n",
       "              GSM697991  GSM697992  GSM697993  GSM697994  GSM697995  \\\n",
       "ID_REF                                                                \n",
       "ILMN_1343289   8454.363   7222.372   7160.046   5800.359   5789.193   \n",
       "ILMN_1343290   8912.334  16107.970  16039.770  14342.820  15226.370   \n",
       "ILMN_1343291  25107.190  30136.330  31310.060  24931.080  26643.790   \n",
       "ILMN_1343292   3183.872   6163.287   5984.875   6520.189   6664.529   \n",
       "ILMN_1343293   9153.695   4510.629   4578.813   5262.731   5183.555   \n",
       "\n",
       "                ...      GSM698068  GSM698069  GSM698070  GSM698071  \\\n",
       "ID_REF          ...                                                   \n",
       "ILMN_1343289    ...       3966.823   4510.685   7933.080   7655.048   \n",
       "ILMN_1343290    ...       6941.944   6465.565   5421.817   5232.795   \n",
       "ILMN_1343291    ...      13985.140  15141.920  21393.430  23346.100   \n",
       "ILMN_1343292    ...       7127.288   7485.877  10175.230  11400.910   \n",
       "ILMN_1343293    ...       3803.817   3709.520   3953.159   4444.244   \n",
       "\n",
       "              GSM698072  GSM698073  GSM698074  GSM698075  GSM698076  GSM698077  \n",
       "ID_REF                                                                          \n",
       "ILMN_1343289   3969.261   4202.289   6584.224   6251.000   7800.057   7169.415  \n",
       "ILMN_1343290   8435.935   8016.704  10082.870   9275.180   4842.793   5161.231  \n",
       "ILMN_1343291  19563.940  20737.940  21042.820  20138.190  22116.220  24224.900  \n",
       "ILMN_1343292   6385.931   6290.254   7631.206   7654.023  10857.410  10923.240  \n",
       "ILMN_1343293   2922.038   2886.281   2843.153   2871.426   3956.004   4251.552  \n",
       "\n",
       "[5 rows x 92 columns]"
      ]
     },
     "execution_count": 65,
     "metadata": {},
     "output_type": "execute_result"
    }
   ],
   "source": [
    "exp_matrix = pd.read_table(PDX_PRIMARY_BEADCHIP_SERIES_MATRIX_FILE, comment='!', index_col=0)\n",
    "exp_matrix.head()"
   ]
  },
  {
   "cell_type": "code",
   "execution_count": 66,
   "metadata": {
    "ExecuteTime": {
     "end_time": "2018-12-13T22:37:04.843370Z",
     "start_time": "2018-12-13T22:37:04.835614Z"
    }
   },
   "outputs": [],
   "source": [
    "ilmn_id_to_tumor = {\"GSM698018\": \"Pt-1299\",\n",
    "\"GSM698019\": \"Pt-1299\",\n",
    "\"GSM698020\": \"ICb1299\",\n",
    "\"GSM698021\": \"ICb1299\",\n",
    "\"GSM698032\": \"Pt-1487\",\n",
    "\"GSM698033\": \"Pt-1487\",\n",
    "\"GSM698034\": \"ICb-1487\",\n",
    "\"GSM698035\": \"ICb-1487\",\n",
    "\"GSM698046\": \"Pt-1572\",\n",
    "\"GSM698047\": \"Pt-1572\",\n",
    "\"GSM698048\": \"ICb-1572\",\n",
    "\"GSM698049\": \"ICb-1572\"}"
   ]
  },
  {
   "cell_type": "code",
   "execution_count": 67,
   "metadata": {
    "ExecuteTime": {
     "end_time": "2018-12-13T22:37:06.686205Z",
     "start_time": "2018-12-13T22:37:06.627975Z"
    }
   },
   "outputs": [],
   "source": [
    "exp_df = exp_matrix.loc[:, ilmn_id_to_tumor.keys()]\n",
    "exp_df.columns = [ilmn_id_to_tumor[ilmn_id] for ilmn_id in exp_df.columns]\n",
    "exp_df = merge_redundant_series(exp_df, axis=1)"
   ]
  },
  {
   "cell_type": "code",
   "execution_count": 70,
   "metadata": {
    "ExecuteTime": {
     "end_time": "2018-12-13T22:38:21.288318Z",
     "start_time": "2018-12-13T22:38:20.640780Z"
    }
   },
   "outputs": [
    {
     "data": {
      "text/plain": [
       "ID\n",
       "ILMN_1725881     LOC23117\n",
       "ILMN_1910180          NaN\n",
       "ILMN_1804174       FCGR2B\n",
       "ILMN_1810835        SPRR3\n",
       "ILMN_1758197    LOC653895\n",
       "Name: Symbol, dtype: object"
      ]
     },
     "execution_count": 70,
     "metadata": {},
     "output_type": "execute_result"
    }
   ],
   "source": [
    "# downloaded from GEO's page for the platform\n",
    "ilmn_annot = pd.read_table(PDX_PRIMARY_BEADCHIP_ILMN_ANNOT_FILE, comment='#', index_col=0).Symbol\n",
    "ilmn_annot.head()"
   ]
  },
  {
   "cell_type": "code",
   "execution_count": 71,
   "metadata": {
    "ExecuteTime": {
     "end_time": "2018-12-13T22:38:25.158387Z",
     "start_time": "2018-12-13T22:38:25.137730Z"
    }
   },
   "outputs": [
    {
     "data": {
      "text/plain": [
       "ID\n",
       "ILMN_1725881     LOC23117\n",
       "ILMN_1804174       FCGR2B\n",
       "ILMN_1810835        SPRR3\n",
       "ILMN_1758197    LOC653895\n",
       "ILMN_1668162      DGAT2L3\n",
       "Name: Symbol, dtype: object"
      ]
     },
     "execution_count": 71,
     "metadata": {},
     "output_type": "execute_result"
    }
   ],
   "source": [
    "nonan = ilmn_annot.dropna()\n",
    "nonan.head()"
   ]
  },
  {
   "cell_type": "code",
   "execution_count": 72,
   "metadata": {
    "ExecuteTime": {
     "end_time": "2018-12-13T22:38:36.735317Z",
     "start_time": "2018-12-13T22:38:29.959265Z"
    }
   },
   "outputs": [
    {
     "name": "stderr",
     "output_type": "stream",
     "text": [
      "/opt/conda/lib/python3.6/site-packages/ipykernel_launcher.py:1: FutureWarning: \n",
      "Passing list-likes to .loc or [] with any missing label will raise\n",
      "KeyError in the future, you can use .reindex() as an alternative.\n",
      "\n",
      "See the documentation here:\n",
      "http://pandas.pydata.org/pandas-docs/stable/indexing.html#deprecate-loc-reindex-listlike\n",
      "  \"\"\"Entry point for launching an IPython kernel.\n"
     ]
    },
    {
     "data": {
      "text/plain": [
       "(6, 24614)"
      ]
     },
     "execution_count": 72,
     "metadata": {},
     "output_type": "execute_result"
    }
   ],
   "source": [
    "exp_df = exp_df.loc[nonan.index]\n",
    "exp_df.index = [nonan.loc[idx] for idx in exp_df.index]\n",
    "exp_df = merge_redundant_series(exp_df, axis=0).T.sort_index(axis=1)\n",
    "exp_df.shape"
   ]
  },
  {
   "cell_type": "code",
   "execution_count": 73,
   "metadata": {
    "ExecuteTime": {
     "end_time": "2018-12-13T22:38:41.571021Z",
     "start_time": "2018-12-13T22:38:41.567052Z"
    }
   },
   "outputs": [],
   "source": [
    "def rename_icb_samples(df):\n",
    "    newdf = df.copy()\n",
    "    newdf.index = [re.sub('.*?([0-9].+).*?', r\"ICB\\1\", s) for s in df.index]\n",
    "    return newdf"
   ]
  },
  {
   "cell_type": "code",
   "execution_count": 74,
   "metadata": {
    "ExecuteTime": {
     "end_time": "2018-12-13T22:38:55.213111Z",
     "start_time": "2018-12-13T22:38:55.197870Z"
    }
   },
   "outputs": [],
   "source": [
    "primaries = [idx for idx in exp_df.index if idx.startswith('Pt')]\n",
    "primary_exp = rename_icb_samples(exp_df.loc[primaries].sort_index(axis=0))\n",
    "tumor_exp = rename_icb_samples(exp_df.drop(primaries, axis=0).sort_index(axis=0))"
   ]
  },
  {
   "cell_type": "code",
   "execution_count": 79,
   "metadata": {
    "ExecuteTime": {
     "end_time": "2018-12-13T22:39:56.496908Z",
     "start_time": "2018-12-13T22:39:56.096476Z"
    }
   },
   "outputs": [],
   "source": [
    "tumor_exp.to_csv(PREPROC_PDX_BEADCHIP_EXP_FILE)\n",
    "primary_exp.to_csv(PREPROC_PRIMARY_BEADCHIP_EXP_FILE)"
   ]
  },
  {
   "cell_type": "markdown",
   "metadata": {},
   "source": [
    "# Write expression to supplementary file"
   ]
  },
  {
   "cell_type": "markdown",
   "metadata": {},
   "source": [
    "I am actually not sure if we'll need this supplement, because the expression will be going in GEO."
   ]
  },
  {
   "cell_type": "code",
   "execution_count": 82,
   "metadata": {
    "ExecuteTime": {
     "end_time": "2018-12-13T23:00:40.520467Z",
     "start_time": "2018-12-13T23:00:37.535561Z"
    }
   },
   "outputs": [],
   "source": [
    "bc_pdx = pd.read_csv(PREPROC_PDX_BEADCHIP_EXP_FILE, index_col=0).sort_index(axis=1)\n",
    "bc_pt = pd.read_csv(PREPROC_PRIMARY_BEADCHIP_EXP_FILE, index_col=0).sort_index(axis=1)\n",
    "pdx_exp = pd.read_csv(PREPROC_PDX_AFFY_EXP_FILE, index_col=0)\n",
    "pdx_primary_exp = pd.read_csv(PREPROC_PRIMARY_AFFY_EXP_FILE, index_col=0)"
   ]
  },
  {
   "cell_type": "code",
   "execution_count": null,
   "metadata": {},
   "outputs": [],
   "source": [
    "# This cell was not run! 2018-12-13\n",
    "from modules.utils import save_xls\n",
    "sheetnames = 'affy_pdx affy_primary illumina_pdx illumina_primary'.split()\n",
    "dfs = [pdx_exp, pdx_primary_exp, bc_pdx, bc_pt]\n",
    "save_xls(dfs, sheetnames, 'SUPPL_PREPROC_EXP_FILE')"
   ]
  },
  {
   "cell_type": "code",
   "execution_count": null,
   "metadata": {},
   "outputs": [],
   "source": []
  },
  {
   "cell_type": "markdown",
   "metadata": {},
   "source": [
    "# 2018-12-14 extra pre-processing steps."
   ]
  },
  {
   "cell_type": "markdown",
   "metadata": {},
   "source": [
    "Creating a separate csv for each PDX"
   ]
  },
  {
   "cell_type": "code",
   "execution_count": 4,
   "metadata": {
    "ExecuteTime": {
     "end_time": "2018-12-14T20:33:53.728404Z",
     "start_time": "2018-12-14T20:33:53.041960Z"
    },
    "scrolled": true
   },
   "outputs": [
    {
     "data": {
      "text/html": [
       "<div>\n",
       "<style scoped>\n",
       "    .dataframe tbody tr th:only-of-type {\n",
       "        vertical-align: middle;\n",
       "    }\n",
       "\n",
       "    .dataframe tbody tr th {\n",
       "        vertical-align: top;\n",
       "    }\n",
       "\n",
       "    .dataframe thead th {\n",
       "        text-align: right;\n",
       "    }\n",
       "</style>\n",
       "<table border=\"1\" class=\"dataframe\">\n",
       "  <thead>\n",
       "    <tr style=\"text-align: right;\">\n",
       "      <th></th>\n",
       "      <th>A1BG</th>\n",
       "      <th>A1BG-AS1</th>\n",
       "      <th>A1CF</th>\n",
       "      <th>A2M</th>\n",
       "      <th>A2M-AS1</th>\n",
       "      <th>A2ML1</th>\n",
       "      <th>A4GNT</th>\n",
       "      <th>AAAS</th>\n",
       "      <th>AACS</th>\n",
       "      <th>AACSP1</th>\n",
       "      <th>...</th>\n",
       "      <th>ZUP1</th>\n",
       "      <th>ZWILCH</th>\n",
       "      <th>ZXDA</th>\n",
       "      <th>ZXDB</th>\n",
       "      <th>ZXDC</th>\n",
       "      <th>ZYG11A</th>\n",
       "      <th>ZYG11B</th>\n",
       "      <th>ZYX</th>\n",
       "      <th>ZZEF1</th>\n",
       "      <th>ZZZ3</th>\n",
       "    </tr>\n",
       "  </thead>\n",
       "  <tbody>\n",
       "    <tr>\n",
       "      <th>BT084</th>\n",
       "      <td>3.038435</td>\n",
       "      <td>3.391826</td>\n",
       "      <td>2.965565</td>\n",
       "      <td>2.927608</td>\n",
       "      <td>4.565444</td>\n",
       "      <td>2.665889</td>\n",
       "      <td>3.020883</td>\n",
       "      <td>4.643286</td>\n",
       "      <td>7.036565</td>\n",
       "      <td>3.619153</td>\n",
       "      <td>...</td>\n",
       "      <td>7.112825</td>\n",
       "      <td>8.579333</td>\n",
       "      <td>4.564811</td>\n",
       "      <td>5.385934</td>\n",
       "      <td>7.174087</td>\n",
       "      <td>4.448942</td>\n",
       "      <td>8.806485</td>\n",
       "      <td>4.507196</td>\n",
       "      <td>5.500058</td>\n",
       "      <td>9.269462</td>\n",
       "    </tr>\n",
       "    <tr>\n",
       "      <th>DMB006</th>\n",
       "      <td>3.359795</td>\n",
       "      <td>3.317396</td>\n",
       "      <td>2.982897</td>\n",
       "      <td>3.272958</td>\n",
       "      <td>5.974374</td>\n",
       "      <td>2.700876</td>\n",
       "      <td>3.623813</td>\n",
       "      <td>4.469528</td>\n",
       "      <td>8.874965</td>\n",
       "      <td>3.177392</td>\n",
       "      <td>...</td>\n",
       "      <td>7.441817</td>\n",
       "      <td>8.600564</td>\n",
       "      <td>6.104677</td>\n",
       "      <td>5.542006</td>\n",
       "      <td>6.384078</td>\n",
       "      <td>3.845576</td>\n",
       "      <td>9.761523</td>\n",
       "      <td>4.290367</td>\n",
       "      <td>5.395606</td>\n",
       "      <td>8.178586</td>\n",
       "    </tr>\n",
       "    <tr>\n",
       "      <th>ICB1299</th>\n",
       "      <td>5.258293</td>\n",
       "      <td>3.364553</td>\n",
       "      <td>3.090160</td>\n",
       "      <td>3.827668</td>\n",
       "      <td>4.830065</td>\n",
       "      <td>2.543833</td>\n",
       "      <td>3.452586</td>\n",
       "      <td>5.174803</td>\n",
       "      <td>9.526866</td>\n",
       "      <td>8.039069</td>\n",
       "      <td>...</td>\n",
       "      <td>7.646048</td>\n",
       "      <td>7.828519</td>\n",
       "      <td>2.600575</td>\n",
       "      <td>5.264678</td>\n",
       "      <td>5.959515</td>\n",
       "      <td>7.082702</td>\n",
       "      <td>8.596071</td>\n",
       "      <td>3.868414</td>\n",
       "      <td>5.805498</td>\n",
       "      <td>8.847389</td>\n",
       "    </tr>\n",
       "    <tr>\n",
       "      <th>ICB1487</th>\n",
       "      <td>2.663170</td>\n",
       "      <td>2.899754</td>\n",
       "      <td>2.919565</td>\n",
       "      <td>3.167034</td>\n",
       "      <td>4.887545</td>\n",
       "      <td>2.648510</td>\n",
       "      <td>3.305697</td>\n",
       "      <td>4.237019</td>\n",
       "      <td>8.541119</td>\n",
       "      <td>3.901500</td>\n",
       "      <td>...</td>\n",
       "      <td>7.393060</td>\n",
       "      <td>8.887439</td>\n",
       "      <td>5.782666</td>\n",
       "      <td>5.601491</td>\n",
       "      <td>6.109955</td>\n",
       "      <td>3.566580</td>\n",
       "      <td>9.591702</td>\n",
       "      <td>4.435059</td>\n",
       "      <td>6.085694</td>\n",
       "      <td>7.233987</td>\n",
       "    </tr>\n",
       "    <tr>\n",
       "      <th>ICB1572</th>\n",
       "      <td>5.537645</td>\n",
       "      <td>3.468674</td>\n",
       "      <td>3.014241</td>\n",
       "      <td>3.768239</td>\n",
       "      <td>4.571589</td>\n",
       "      <td>2.549484</td>\n",
       "      <td>3.386190</td>\n",
       "      <td>4.101786</td>\n",
       "      <td>9.223937</td>\n",
       "      <td>6.841912</td>\n",
       "      <td>...</td>\n",
       "      <td>7.684821</td>\n",
       "      <td>8.615910</td>\n",
       "      <td>3.373039</td>\n",
       "      <td>4.634065</td>\n",
       "      <td>5.174459</td>\n",
       "      <td>6.799179</td>\n",
       "      <td>8.694832</td>\n",
       "      <td>5.126922</td>\n",
       "      <td>6.030379</td>\n",
       "      <td>9.417722</td>\n",
       "    </tr>\n",
       "    <tr>\n",
       "      <th>ICB984</th>\n",
       "      <td>2.962997</td>\n",
       "      <td>3.768962</td>\n",
       "      <td>2.894217</td>\n",
       "      <td>2.962868</td>\n",
       "      <td>4.197584</td>\n",
       "      <td>2.717499</td>\n",
       "      <td>3.144482</td>\n",
       "      <td>4.085315</td>\n",
       "      <td>5.366697</td>\n",
       "      <td>2.882385</td>\n",
       "      <td>...</td>\n",
       "      <td>7.146615</td>\n",
       "      <td>9.098991</td>\n",
       "      <td>5.509270</td>\n",
       "      <td>5.544469</td>\n",
       "      <td>6.904184</td>\n",
       "      <td>3.506738</td>\n",
       "      <td>8.838434</td>\n",
       "      <td>4.754021</td>\n",
       "      <td>5.634636</td>\n",
       "      <td>9.552294</td>\n",
       "    </tr>\n",
       "    <tr>\n",
       "      <th>MB002</th>\n",
       "      <td>5.229837</td>\n",
       "      <td>4.075521</td>\n",
       "      <td>3.103823</td>\n",
       "      <td>3.427011</td>\n",
       "      <td>3.941352</td>\n",
       "      <td>2.800078</td>\n",
       "      <td>3.315093</td>\n",
       "      <td>4.994433</td>\n",
       "      <td>8.624406</td>\n",
       "      <td>3.637796</td>\n",
       "      <td>...</td>\n",
       "      <td>7.499561</td>\n",
       "      <td>8.030401</td>\n",
       "      <td>3.790421</td>\n",
       "      <td>4.939912</td>\n",
       "      <td>5.668454</td>\n",
       "      <td>4.913656</td>\n",
       "      <td>8.049997</td>\n",
       "      <td>4.114529</td>\n",
       "      <td>5.133375</td>\n",
       "      <td>9.314244</td>\n",
       "    </tr>\n",
       "    <tr>\n",
       "      <th>MB009</th>\n",
       "      <td>5.168689</td>\n",
       "      <td>3.285304</td>\n",
       "      <td>3.015958</td>\n",
       "      <td>3.435569</td>\n",
       "      <td>4.353042</td>\n",
       "      <td>2.564702</td>\n",
       "      <td>3.608444</td>\n",
       "      <td>5.500541</td>\n",
       "      <td>10.262307</td>\n",
       "      <td>3.541805</td>\n",
       "      <td>...</td>\n",
       "      <td>7.796032</td>\n",
       "      <td>8.212472</td>\n",
       "      <td>4.344463</td>\n",
       "      <td>5.227733</td>\n",
       "      <td>5.891117</td>\n",
       "      <td>4.524669</td>\n",
       "      <td>9.035808</td>\n",
       "      <td>3.438296</td>\n",
       "      <td>6.005496</td>\n",
       "      <td>9.004681</td>\n",
       "    </tr>\n",
       "    <tr>\n",
       "      <th>MED1712</th>\n",
       "      <td>3.142584</td>\n",
       "      <td>3.538723</td>\n",
       "      <td>2.991656</td>\n",
       "      <td>3.960221</td>\n",
       "      <td>4.689873</td>\n",
       "      <td>2.891416</td>\n",
       "      <td>3.328789</td>\n",
       "      <td>5.084572</td>\n",
       "      <td>6.863196</td>\n",
       "      <td>3.062371</td>\n",
       "      <td>...</td>\n",
       "      <td>6.845159</td>\n",
       "      <td>8.951833</td>\n",
       "      <td>5.229387</td>\n",
       "      <td>5.199751</td>\n",
       "      <td>5.957065</td>\n",
       "      <td>4.234332</td>\n",
       "      <td>9.013128</td>\n",
       "      <td>4.159188</td>\n",
       "      <td>5.743556</td>\n",
       "      <td>8.824436</td>\n",
       "    </tr>\n",
       "    <tr>\n",
       "      <th>MED1911</th>\n",
       "      <td>4.712391</td>\n",
       "      <td>3.285014</td>\n",
       "      <td>3.005969</td>\n",
       "      <td>3.350303</td>\n",
       "      <td>4.225285</td>\n",
       "      <td>2.659527</td>\n",
       "      <td>3.192784</td>\n",
       "      <td>6.373910</td>\n",
       "      <td>8.714250</td>\n",
       "      <td>3.322862</td>\n",
       "      <td>...</td>\n",
       "      <td>8.121031</td>\n",
       "      <td>8.356359</td>\n",
       "      <td>4.164906</td>\n",
       "      <td>4.658420</td>\n",
       "      <td>4.982153</td>\n",
       "      <td>3.481576</td>\n",
       "      <td>8.560779</td>\n",
       "      <td>4.165716</td>\n",
       "      <td>4.711879</td>\n",
       "      <td>8.921321</td>\n",
       "    </tr>\n",
       "    <tr>\n",
       "      <th>MED211</th>\n",
       "      <td>4.372447</td>\n",
       "      <td>3.448071</td>\n",
       "      <td>2.956855</td>\n",
       "      <td>3.551585</td>\n",
       "      <td>4.263256</td>\n",
       "      <td>2.995316</td>\n",
       "      <td>3.155998</td>\n",
       "      <td>5.136753</td>\n",
       "      <td>8.559803</td>\n",
       "      <td>3.432910</td>\n",
       "      <td>...</td>\n",
       "      <td>7.145362</td>\n",
       "      <td>9.137064</td>\n",
       "      <td>4.179702</td>\n",
       "      <td>4.923546</td>\n",
       "      <td>5.783797</td>\n",
       "      <td>4.060116</td>\n",
       "      <td>8.499235</td>\n",
       "      <td>4.435059</td>\n",
       "      <td>5.734219</td>\n",
       "      <td>9.013240</td>\n",
       "    </tr>\n",
       "    <tr>\n",
       "      <th>MED2312</th>\n",
       "      <td>4.913093</td>\n",
       "      <td>3.581571</td>\n",
       "      <td>3.020402</td>\n",
       "      <td>3.381056</td>\n",
       "      <td>4.471171</td>\n",
       "      <td>2.416042</td>\n",
       "      <td>3.510213</td>\n",
       "      <td>5.013787</td>\n",
       "      <td>8.905840</td>\n",
       "      <td>3.331116</td>\n",
       "      <td>...</td>\n",
       "      <td>8.214156</td>\n",
       "      <td>7.742169</td>\n",
       "      <td>4.642518</td>\n",
       "      <td>3.486872</td>\n",
       "      <td>6.294531</td>\n",
       "      <td>4.516332</td>\n",
       "      <td>9.430379</td>\n",
       "      <td>3.779927</td>\n",
       "      <td>5.518756</td>\n",
       "      <td>9.105436</td>\n",
       "    </tr>\n",
       "    <tr>\n",
       "      <th>MED411</th>\n",
       "      <td>5.263038</td>\n",
       "      <td>3.425223</td>\n",
       "      <td>2.926619</td>\n",
       "      <td>3.529522</td>\n",
       "      <td>4.444759</td>\n",
       "      <td>2.659527</td>\n",
       "      <td>3.229644</td>\n",
       "      <td>6.550757</td>\n",
       "      <td>9.007269</td>\n",
       "      <td>3.566588</td>\n",
       "      <td>...</td>\n",
       "      <td>7.392325</td>\n",
       "      <td>8.830402</td>\n",
       "      <td>3.931946</td>\n",
       "      <td>4.908843</td>\n",
       "      <td>5.733109</td>\n",
       "      <td>3.696676</td>\n",
       "      <td>8.745004</td>\n",
       "      <td>5.060105</td>\n",
       "      <td>5.034901</td>\n",
       "      <td>9.118638</td>\n",
       "    </tr>\n",
       "    <tr>\n",
       "      <th>RCMB18</th>\n",
       "      <td>3.649839</td>\n",
       "      <td>3.692346</td>\n",
       "      <td>2.789008</td>\n",
       "      <td>3.228144</td>\n",
       "      <td>3.894343</td>\n",
       "      <td>2.912370</td>\n",
       "      <td>3.001667</td>\n",
       "      <td>4.706353</td>\n",
       "      <td>7.621274</td>\n",
       "      <td>3.032113</td>\n",
       "      <td>...</td>\n",
       "      <td>7.991047</td>\n",
       "      <td>8.424040</td>\n",
       "      <td>4.019519</td>\n",
       "      <td>4.814682</td>\n",
       "      <td>6.562800</td>\n",
       "      <td>6.431265</td>\n",
       "      <td>8.745828</td>\n",
       "      <td>4.435059</td>\n",
       "      <td>5.641368</td>\n",
       "      <td>9.606238</td>\n",
       "    </tr>\n",
       "    <tr>\n",
       "      <th>RCMB20</th>\n",
       "      <td>4.587078</td>\n",
       "      <td>3.401618</td>\n",
       "      <td>2.896786</td>\n",
       "      <td>3.728062</td>\n",
       "      <td>4.507026</td>\n",
       "      <td>2.805840</td>\n",
       "      <td>3.332053</td>\n",
       "      <td>6.534951</td>\n",
       "      <td>10.252200</td>\n",
       "      <td>3.941639</td>\n",
       "      <td>...</td>\n",
       "      <td>7.252416</td>\n",
       "      <td>8.219999</td>\n",
       "      <td>4.055116</td>\n",
       "      <td>4.768303</td>\n",
       "      <td>6.266945</td>\n",
       "      <td>3.434930</td>\n",
       "      <td>8.176933</td>\n",
       "      <td>6.213525</td>\n",
       "      <td>5.357149</td>\n",
       "      <td>8.776245</td>\n",
       "    </tr>\n",
       "    <tr>\n",
       "      <th>RCMB24</th>\n",
       "      <td>4.905937</td>\n",
       "      <td>3.423404</td>\n",
       "      <td>3.020446</td>\n",
       "      <td>3.220360</td>\n",
       "      <td>4.431926</td>\n",
       "      <td>2.600893</td>\n",
       "      <td>3.251044</td>\n",
       "      <td>4.297999</td>\n",
       "      <td>5.372811</td>\n",
       "      <td>3.524484</td>\n",
       "      <td>...</td>\n",
       "      <td>6.608839</td>\n",
       "      <td>8.149941</td>\n",
       "      <td>5.068325</td>\n",
       "      <td>6.205477</td>\n",
       "      <td>7.241496</td>\n",
       "      <td>3.707945</td>\n",
       "      <td>8.940815</td>\n",
       "      <td>4.237487</td>\n",
       "      <td>5.621032</td>\n",
       "      <td>8.650755</td>\n",
       "    </tr>\n",
       "    <tr>\n",
       "      <th>RCMB28</th>\n",
       "      <td>5.073162</td>\n",
       "      <td>3.482616</td>\n",
       "      <td>3.013023</td>\n",
       "      <td>3.125935</td>\n",
       "      <td>4.198652</td>\n",
       "      <td>2.752407</td>\n",
       "      <td>3.708092</td>\n",
       "      <td>5.351405</td>\n",
       "      <td>9.449124</td>\n",
       "      <td>3.337305</td>\n",
       "      <td>...</td>\n",
       "      <td>8.049233</td>\n",
       "      <td>8.653644</td>\n",
       "      <td>5.009753</td>\n",
       "      <td>5.299242</td>\n",
       "      <td>6.349806</td>\n",
       "      <td>4.018679</td>\n",
       "      <td>9.356749</td>\n",
       "      <td>3.657729</td>\n",
       "      <td>5.192989</td>\n",
       "      <td>9.151595</td>\n",
       "    </tr>\n",
       "    <tr>\n",
       "      <th>RCMB32</th>\n",
       "      <td>3.624954</td>\n",
       "      <td>3.307383</td>\n",
       "      <td>2.816237</td>\n",
       "      <td>3.411598</td>\n",
       "      <td>4.713420</td>\n",
       "      <td>2.605081</td>\n",
       "      <td>3.077837</td>\n",
       "      <td>5.004141</td>\n",
       "      <td>8.051008</td>\n",
       "      <td>3.757645</td>\n",
       "      <td>...</td>\n",
       "      <td>7.434239</td>\n",
       "      <td>7.980859</td>\n",
       "      <td>4.786236</td>\n",
       "      <td>4.927033</td>\n",
       "      <td>6.298924</td>\n",
       "      <td>3.594108</td>\n",
       "      <td>8.933928</td>\n",
       "      <td>4.366387</td>\n",
       "      <td>6.354094</td>\n",
       "      <td>8.524363</td>\n",
       "    </tr>\n",
       "    <tr>\n",
       "      <th>RCMB38</th>\n",
       "      <td>2.973631</td>\n",
       "      <td>3.108274</td>\n",
       "      <td>2.961962</td>\n",
       "      <td>3.167691</td>\n",
       "      <td>5.299138</td>\n",
       "      <td>2.690839</td>\n",
       "      <td>3.612510</td>\n",
       "      <td>6.119663</td>\n",
       "      <td>8.090845</td>\n",
       "      <td>3.455706</td>\n",
       "      <td>...</td>\n",
       "      <td>8.078826</td>\n",
       "      <td>8.270063</td>\n",
       "      <td>5.665196</td>\n",
       "      <td>5.375295</td>\n",
       "      <td>6.002607</td>\n",
       "      <td>3.171225</td>\n",
       "      <td>9.893539</td>\n",
       "      <td>4.370734</td>\n",
       "      <td>6.583251</td>\n",
       "      <td>8.247851</td>\n",
       "    </tr>\n",
       "    <tr>\n",
       "      <th>RCMB40</th>\n",
       "      <td>5.520785</td>\n",
       "      <td>3.385594</td>\n",
       "      <td>2.915672</td>\n",
       "      <td>3.917873</td>\n",
       "      <td>4.429175</td>\n",
       "      <td>2.719005</td>\n",
       "      <td>3.311011</td>\n",
       "      <td>6.895468</td>\n",
       "      <td>8.866381</td>\n",
       "      <td>3.375678</td>\n",
       "      <td>...</td>\n",
       "      <td>8.158399</td>\n",
       "      <td>8.745228</td>\n",
       "      <td>5.019625</td>\n",
       "      <td>5.090405</td>\n",
       "      <td>6.117521</td>\n",
       "      <td>3.618565</td>\n",
       "      <td>8.819350</td>\n",
       "      <td>4.185207</td>\n",
       "      <td>5.384055</td>\n",
       "      <td>8.739725</td>\n",
       "    </tr>\n",
       "  </tbody>\n",
       "</table>\n",
       "<p>20 rows × 16247 columns</p>\n",
       "</div>"
      ],
      "text/plain": [
       "             A1BG  A1BG-AS1      A1CF       A2M   A2M-AS1     A2ML1     A4GNT  \\\n",
       "BT084    3.038435  3.391826  2.965565  2.927608  4.565444  2.665889  3.020883   \n",
       "DMB006   3.359795  3.317396  2.982897  3.272958  5.974374  2.700876  3.623813   \n",
       "ICB1299  5.258293  3.364553  3.090160  3.827668  4.830065  2.543833  3.452586   \n",
       "ICB1487  2.663170  2.899754  2.919565  3.167034  4.887545  2.648510  3.305697   \n",
       "ICB1572  5.537645  3.468674  3.014241  3.768239  4.571589  2.549484  3.386190   \n",
       "ICB984   2.962997  3.768962  2.894217  2.962868  4.197584  2.717499  3.144482   \n",
       "MB002    5.229837  4.075521  3.103823  3.427011  3.941352  2.800078  3.315093   \n",
       "MB009    5.168689  3.285304  3.015958  3.435569  4.353042  2.564702  3.608444   \n",
       "MED1712  3.142584  3.538723  2.991656  3.960221  4.689873  2.891416  3.328789   \n",
       "MED1911  4.712391  3.285014  3.005969  3.350303  4.225285  2.659527  3.192784   \n",
       "MED211   4.372447  3.448071  2.956855  3.551585  4.263256  2.995316  3.155998   \n",
       "MED2312  4.913093  3.581571  3.020402  3.381056  4.471171  2.416042  3.510213   \n",
       "MED411   5.263038  3.425223  2.926619  3.529522  4.444759  2.659527  3.229644   \n",
       "RCMB18   3.649839  3.692346  2.789008  3.228144  3.894343  2.912370  3.001667   \n",
       "RCMB20   4.587078  3.401618  2.896786  3.728062  4.507026  2.805840  3.332053   \n",
       "RCMB24   4.905937  3.423404  3.020446  3.220360  4.431926  2.600893  3.251044   \n",
       "RCMB28   5.073162  3.482616  3.013023  3.125935  4.198652  2.752407  3.708092   \n",
       "RCMB32   3.624954  3.307383  2.816237  3.411598  4.713420  2.605081  3.077837   \n",
       "RCMB38   2.973631  3.108274  2.961962  3.167691  5.299138  2.690839  3.612510   \n",
       "RCMB40   5.520785  3.385594  2.915672  3.917873  4.429175  2.719005  3.311011   \n",
       "\n",
       "             AAAS       AACS    AACSP1    ...         ZUP1    ZWILCH  \\\n",
       "BT084    4.643286   7.036565  3.619153    ...     7.112825  8.579333   \n",
       "DMB006   4.469528   8.874965  3.177392    ...     7.441817  8.600564   \n",
       "ICB1299  5.174803   9.526866  8.039069    ...     7.646048  7.828519   \n",
       "ICB1487  4.237019   8.541119  3.901500    ...     7.393060  8.887439   \n",
       "ICB1572  4.101786   9.223937  6.841912    ...     7.684821  8.615910   \n",
       "ICB984   4.085315   5.366697  2.882385    ...     7.146615  9.098991   \n",
       "MB002    4.994433   8.624406  3.637796    ...     7.499561  8.030401   \n",
       "MB009    5.500541  10.262307  3.541805    ...     7.796032  8.212472   \n",
       "MED1712  5.084572   6.863196  3.062371    ...     6.845159  8.951833   \n",
       "MED1911  6.373910   8.714250  3.322862    ...     8.121031  8.356359   \n",
       "MED211   5.136753   8.559803  3.432910    ...     7.145362  9.137064   \n",
       "MED2312  5.013787   8.905840  3.331116    ...     8.214156  7.742169   \n",
       "MED411   6.550757   9.007269  3.566588    ...     7.392325  8.830402   \n",
       "RCMB18   4.706353   7.621274  3.032113    ...     7.991047  8.424040   \n",
       "RCMB20   6.534951  10.252200  3.941639    ...     7.252416  8.219999   \n",
       "RCMB24   4.297999   5.372811  3.524484    ...     6.608839  8.149941   \n",
       "RCMB28   5.351405   9.449124  3.337305    ...     8.049233  8.653644   \n",
       "RCMB32   5.004141   8.051008  3.757645    ...     7.434239  7.980859   \n",
       "RCMB38   6.119663   8.090845  3.455706    ...     8.078826  8.270063   \n",
       "RCMB40   6.895468   8.866381  3.375678    ...     8.158399  8.745228   \n",
       "\n",
       "             ZXDA      ZXDB      ZXDC    ZYG11A    ZYG11B       ZYX     ZZEF1  \\\n",
       "BT084    4.564811  5.385934  7.174087  4.448942  8.806485  4.507196  5.500058   \n",
       "DMB006   6.104677  5.542006  6.384078  3.845576  9.761523  4.290367  5.395606   \n",
       "ICB1299  2.600575  5.264678  5.959515  7.082702  8.596071  3.868414  5.805498   \n",
       "ICB1487  5.782666  5.601491  6.109955  3.566580  9.591702  4.435059  6.085694   \n",
       "ICB1572  3.373039  4.634065  5.174459  6.799179  8.694832  5.126922  6.030379   \n",
       "ICB984   5.509270  5.544469  6.904184  3.506738  8.838434  4.754021  5.634636   \n",
       "MB002    3.790421  4.939912  5.668454  4.913656  8.049997  4.114529  5.133375   \n",
       "MB009    4.344463  5.227733  5.891117  4.524669  9.035808  3.438296  6.005496   \n",
       "MED1712  5.229387  5.199751  5.957065  4.234332  9.013128  4.159188  5.743556   \n",
       "MED1911  4.164906  4.658420  4.982153  3.481576  8.560779  4.165716  4.711879   \n",
       "MED211   4.179702  4.923546  5.783797  4.060116  8.499235  4.435059  5.734219   \n",
       "MED2312  4.642518  3.486872  6.294531  4.516332  9.430379  3.779927  5.518756   \n",
       "MED411   3.931946  4.908843  5.733109  3.696676  8.745004  5.060105  5.034901   \n",
       "RCMB18   4.019519  4.814682  6.562800  6.431265  8.745828  4.435059  5.641368   \n",
       "RCMB20   4.055116  4.768303  6.266945  3.434930  8.176933  6.213525  5.357149   \n",
       "RCMB24   5.068325  6.205477  7.241496  3.707945  8.940815  4.237487  5.621032   \n",
       "RCMB28   5.009753  5.299242  6.349806  4.018679  9.356749  3.657729  5.192989   \n",
       "RCMB32   4.786236  4.927033  6.298924  3.594108  8.933928  4.366387  6.354094   \n",
       "RCMB38   5.665196  5.375295  6.002607  3.171225  9.893539  4.370734  6.583251   \n",
       "RCMB40   5.019625  5.090405  6.117521  3.618565  8.819350  4.185207  5.384055   \n",
       "\n",
       "             ZZZ3  \n",
       "BT084    9.269462  \n",
       "DMB006   8.178586  \n",
       "ICB1299  8.847389  \n",
       "ICB1487  7.233987  \n",
       "ICB1572  9.417722  \n",
       "ICB984   9.552294  \n",
       "MB002    9.314244  \n",
       "MB009    9.004681  \n",
       "MED1712  8.824436  \n",
       "MED1911  8.921321  \n",
       "MED211   9.013240  \n",
       "MED2312  9.105436  \n",
       "MED411   9.118638  \n",
       "RCMB18   9.606238  \n",
       "RCMB20   8.776245  \n",
       "RCMB24   8.650755  \n",
       "RCMB28   9.151595  \n",
       "RCMB32   8.524363  \n",
       "RCMB38   8.247851  \n",
       "RCMB40   8.739725  \n",
       "\n",
       "[20 rows x 16247 columns]"
      ]
     },
     "execution_count": 4,
     "metadata": {},
     "output_type": "execute_result"
    }
   ],
   "source": [
    "pdx_exp = pd.read_csv(PREPROC_PDX_AFFY_EXP_FILE, index_col=0)\n",
    "pdx_exp"
   ]
  },
  {
   "cell_type": "code",
   "execution_count": 5,
   "metadata": {
    "ExecuteTime": {
     "end_time": "2018-12-14T20:34:16.809169Z",
     "start_time": "2018-12-14T20:34:16.804377Z"
    }
   },
   "outputs": [
    {
     "data": {
      "text/plain": [
       "'/pdx-hts/Notebooks/data/preprocessed/exp/pdx_affy_exp.csv'"
      ]
     },
     "execution_count": 5,
     "metadata": {},
     "output_type": "execute_result"
    }
   ],
   "source": [
    "PREPROC_PDX_AFFY_EXP_FILE"
   ]
  },
  {
   "cell_type": "code",
   "execution_count": 6,
   "metadata": {
    "ExecuteTime": {
     "end_time": "2018-12-14T20:34:49.156755Z",
     "start_time": "2018-12-14T20:34:49.151326Z"
    }
   },
   "outputs": [
    {
     "data": {
      "text/plain": [
       "'/pdx-hts/Notebooks/data/preprocessed/exp/test.csv'"
      ]
     },
     "execution_count": 6,
     "metadata": {},
     "output_type": "execute_result"
    }
   ],
   "source": [
    "PREPROC_PDX_AFFY_EXP_FILE.replace('pdx_affy_exp','test')"
   ]
  },
  {
   "cell_type": "code",
   "execution_count": 29,
   "metadata": {
    "ExecuteTime": {
     "end_time": "2018-12-14T20:55:49.415107Z",
     "start_time": "2018-12-14T20:55:49.379846Z"
    }
   },
   "outputs": [
    {
     "data": {
      "text/html": [
       "<div>\n",
       "<style scoped>\n",
       "    .dataframe tbody tr th:only-of-type {\n",
       "        vertical-align: middle;\n",
       "    }\n",
       "\n",
       "    .dataframe tbody tr th {\n",
       "        vertical-align: top;\n",
       "    }\n",
       "\n",
       "    .dataframe thead th {\n",
       "        text-align: right;\n",
       "    }\n",
       "</style>\n",
       "<table border=\"1\" class=\"dataframe\">\n",
       "  <thead>\n",
       "    <tr style=\"text-align: right;\">\n",
       "      <th></th>\n",
       "      <th>A1BG</th>\n",
       "      <th>A1BG-AS1</th>\n",
       "      <th>A1CF</th>\n",
       "      <th>A2M</th>\n",
       "      <th>A2M-AS1</th>\n",
       "      <th>A2ML1</th>\n",
       "      <th>A4GNT</th>\n",
       "      <th>AAAS</th>\n",
       "      <th>AACS</th>\n",
       "      <th>AACSP1</th>\n",
       "      <th>...</th>\n",
       "      <th>ZUP1</th>\n",
       "      <th>ZWILCH</th>\n",
       "      <th>ZXDA</th>\n",
       "      <th>ZXDB</th>\n",
       "      <th>ZXDC</th>\n",
       "      <th>ZYG11A</th>\n",
       "      <th>ZYG11B</th>\n",
       "      <th>ZYX</th>\n",
       "      <th>ZZEF1</th>\n",
       "      <th>ZZZ3</th>\n",
       "    </tr>\n",
       "  </thead>\n",
       "  <tbody>\n",
       "    <tr>\n",
       "      <th>DMB006</th>\n",
       "      <td>3.359795</td>\n",
       "      <td>3.317396</td>\n",
       "      <td>2.982897</td>\n",
       "      <td>3.272958</td>\n",
       "      <td>5.974374</td>\n",
       "      <td>2.700876</td>\n",
       "      <td>3.623813</td>\n",
       "      <td>4.469528</td>\n",
       "      <td>8.874965</td>\n",
       "      <td>3.177392</td>\n",
       "      <td>...</td>\n",
       "      <td>7.441817</td>\n",
       "      <td>8.600564</td>\n",
       "      <td>6.104677</td>\n",
       "      <td>5.542006</td>\n",
       "      <td>6.384078</td>\n",
       "      <td>3.845576</td>\n",
       "      <td>9.761523</td>\n",
       "      <td>4.290367</td>\n",
       "      <td>5.395606</td>\n",
       "      <td>8.178586</td>\n",
       "    </tr>\n",
       "  </tbody>\n",
       "</table>\n",
       "<p>1 rows × 16247 columns</p>\n",
       "</div>"
      ],
      "text/plain": [
       "            A1BG  A1BG-AS1      A1CF       A2M   A2M-AS1     A2ML1     A4GNT  \\\n",
       "DMB006  3.359795  3.317396  2.982897  3.272958  5.974374  2.700876  3.623813   \n",
       "\n",
       "            AAAS      AACS    AACSP1    ...         ZUP1    ZWILCH      ZXDA  \\\n",
       "DMB006  4.469528  8.874965  3.177392    ...     7.441817  8.600564  6.104677   \n",
       "\n",
       "            ZXDB      ZXDC    ZYG11A    ZYG11B       ZYX     ZZEF1      ZZZ3  \n",
       "DMB006  5.542006  6.384078  3.845576  9.761523  4.290367  5.395606  8.178586  \n",
       "\n",
       "[1 rows x 16247 columns]"
      ]
     },
     "execution_count": 29,
     "metadata": {},
     "output_type": "execute_result"
    }
   ],
   "source": [
    "pdx_exp.iloc[[1],:]"
   ]
  },
  {
   "cell_type": "code",
   "execution_count": 30,
   "metadata": {
    "ExecuteTime": {
     "end_time": "2018-12-14T20:56:28.223340Z",
     "start_time": "2018-12-14T20:56:26.884768Z"
    }
   },
   "outputs": [],
   "source": [
    "for index, current_pdx in pdx_exp.iterrows():\n",
    "    pdx_exp.loc[[index],:].to_csv(PREPROC_PDX_AFFY_EXP_FILE.replace('pdx_affy_exp',index))"
   ]
  },
  {
   "cell_type": "code",
   "execution_count": null,
   "metadata": {},
   "outputs": [],
   "source": []
  }
 ],
 "metadata": {
  "kernelspec": {
   "display_name": "Python 3",
   "language": "python",
   "name": "python3"
  },
  "language_info": {
   "codemirror_mode": {
    "name": "ipython",
    "version": 3
   },
   "file_extension": ".py",
   "mimetype": "text/x-python",
   "name": "python",
   "nbconvert_exporter": "python",
   "pygments_lexer": "ipython3",
   "version": "3.6.3"
  }
 },
 "nbformat": 4,
 "nbformat_minor": 2
}
