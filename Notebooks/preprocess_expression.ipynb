{
 "cells": [
  {
   "cell_type": "code",
   "execution_count": 5,
   "metadata": {
    "ExecuteTime": {
     "end_time": "2018-12-13T20:45:27.368251Z",
     "start_time": "2018-12-13T20:45:27.360987Z"
    }
   },
   "outputs": [
    {
     "name": "stdout",
     "output_type": "stream",
     "text": [
      "The rpy2.ipython extension is already loaded. To reload it, use:\n",
      "  %reload_ext rpy2.ipython\n"
     ]
    }
   ],
   "source": [
    "%load_ext rpy2.ipython\n",
    "import rpy2\n",
    "import warnings\n",
    "def rmagic_warning(\n",
    "    message,\n",
    "    category = rpy2.rinterface.RRuntimeWarning,\n",
    "    filename = '',\n",
    "    lineno = -1,\n",
    "    file=None, \n",
    "    line=None):\n",
    "    print(message)\n",
    "default_showwarning = warnings.showwarning"
   ]
  },
  {
   "cell_type": "code",
   "execution_count": 12,
   "metadata": {
    "ExecuteTime": {
     "end_time": "2018-12-13T20:49:06.029078Z",
     "start_time": "2018-12-13T20:49:06.022746Z"
    }
   },
   "outputs": [],
   "source": [
    "import os"
   ]
  },
  {
   "cell_type": "markdown",
   "metadata": {},
   "source": [
    "# Process Affy data for PDXs and 7 primaries\n",
    "These are the expression data used throughout the paper."
   ]
  },
  {
   "cell_type": "markdown",
   "metadata": {
    "heading_collapsed": true
   },
   "source": [
    "## Data provenance\n",
    "On 3/28/17, Sebastian Brabetz (s.brabetz@dkfz-heidelberg.de) sent me through WeTransfer a zip archive including the tumor cels, cels for 7 primaries (it had been 8, but Med1612 was excluded because of contamination), and the most recent annotation Excel file, 170328_PDXScreen_Anno_v5.xlsx.\n",
    "\n",
    "Most if not all of these files had been sent previously, spread over several occasions, and the annotation changed a couple of times as it was decided that e.g. one sample of a tumor was better than another (fewer passages etc). So I asked Sebastian to send everything fresh to start with a clean slate and make sure we were all using the same data."
   ]
  },
  {
   "cell_type": "markdown",
   "metadata": {},
   "source": [
    "## Process cel files to probewise abundance using hspeccdf"
   ]
  },
  {
   "cell_type": "markdown",
   "metadata": {},
   "source": [
    "[Isella et al. 2015](https://www.ncbi.nlm.nih.gov/pubmed/25706627) showed that in order to reduce the influence of infiltration of mouse stroma on measuring gene expression in PDXs, it can help to remove probes that cross-hybridize to mouse transcripts. This is done using a custom content descriptor file (CDF) rather than the default hgu133plus2 CDF."
   ]
  },
  {
   "cell_type": "code",
   "execution_count": 6,
   "metadata": {
    "ExecuteTime": {
     "end_time": "2018-12-13T20:45:35.976172Z",
     "start_time": "2018-12-13T20:45:35.971429Z"
    }
   },
   "outputs": [],
   "source": [
    "warnings.showwarning = rmagic_warning # to only print the warning text, not text + returned warning object\n",
    "from rpy2.robjects import numpy2ri\n",
    "numpy2ri.activate()"
   ]
  },
  {
   "cell_type": "code",
   "execution_count": 7,
   "metadata": {
    "ExecuteTime": {
     "end_time": "2018-12-13T20:45:51.652219Z",
     "start_time": "2018-12-13T20:45:51.564013Z"
    }
   },
   "outputs": [],
   "source": [
    "%%R\n",
    "pkg.is.installed <- function(mypkg)\n",
    "{\n",
    "    return(mypkg %in% rownames(installed.packages()))\n",
    "}"
   ]
  },
  {
   "cell_type": "markdown",
   "metadata": {},
   "source": [
    "Note that some of the installation and configuration of these R packages may have to be done in the terminal. If the following cell does not work, try installing the packages manually and re-running the notebook."
   ]
  },
  {
   "cell_type": "code",
   "execution_count": 14,
   "metadata": {
    "ExecuteTime": {
     "end_time": "2018-12-13T20:50:21.934417Z",
     "start_time": "2018-12-13T20:50:21.920434Z"
    }
   },
   "outputs": [
    {
     "data": {
      "text/plain": [
       "'/pdx-hts/Notebooks'"
      ]
     },
     "execution_count": 14,
     "metadata": {},
     "output_type": "execute_result"
    }
   ],
   "source": []
  },
  {
   "cell_type": "code",
   "execution_count": 13,
   "metadata": {
    "ExecuteTime": {
     "end_time": "2018-12-13T20:49:08.964728Z",
     "start_time": "2018-12-13T20:49:08.937644Z"
    }
   },
   "outputs": [
    {
     "ename": "NameError",
     "evalue": "name '__file__' is not defined",
     "output_type": "error",
     "traceback": [
      "\u001b[0;31m---------------------------------------------------------------------------\u001b[0m",
      "\u001b[0;31mNameError\u001b[0m                                 Traceback (most recent call last)",
      "\u001b[0;32m<ipython-input-13-fcf095288f5d>\u001b[0m in \u001b[0;36m<module>\u001b[0;34m()\u001b[0m\n\u001b[0;32m----> 1\u001b[0;31m \u001b[0mBASE_DIR\u001b[0m \u001b[0;34m=\u001b[0m \u001b[0mos\u001b[0m\u001b[0;34m.\u001b[0m\u001b[0mpath\u001b[0m\u001b[0;34m.\u001b[0m\u001b[0mabspath\u001b[0m\u001b[0;34m(\u001b[0m\u001b[0mos\u001b[0m\u001b[0;34m.\u001b[0m\u001b[0mpath\u001b[0m\u001b[0;34m.\u001b[0m\u001b[0mjoin\u001b[0m\u001b[0;34m(\u001b[0m\u001b[0mos\u001b[0m\u001b[0;34m.\u001b[0m\u001b[0mpath\u001b[0m\u001b[0;34m.\u001b[0m\u001b[0mdirname\u001b[0m\u001b[0;34m(\u001b[0m\u001b[0m__file__\u001b[0m\u001b[0;34m)\u001b[0m\u001b[0;34m,\u001b[0m \u001b[0mos\u001b[0m\u001b[0;34m.\u001b[0m\u001b[0mpardir\u001b[0m\u001b[0;34m)\u001b[0m\u001b[0;34m)\u001b[0m\u001b[0;34m\u001b[0m\u001b[0m\n\u001b[0m\u001b[1;32m      2\u001b[0m \u001b[0msys\u001b[0m\u001b[0;34m.\u001b[0m\u001b[0mpath\u001b[0m\u001b[0;34m.\u001b[0m\u001b[0mappend\u001b[0m\u001b[0;34m(\u001b[0m\u001b[0mBASE_DIR\u001b[0m\u001b[0;34m)\u001b[0m\u001b[0;34m\u001b[0m\u001b[0m\n\u001b[1;32m      3\u001b[0m \u001b[0mDATA_DIR\u001b[0m \u001b[0;34m=\u001b[0m \u001b[0mos\u001b[0m\u001b[0;34m.\u001b[0m\u001b[0mpath\u001b[0m\u001b[0;34m.\u001b[0m\u001b[0mjoin\u001b[0m\u001b[0;34m(\u001b[0m\u001b[0mBASE_DIR\u001b[0m\u001b[0;34m,\u001b[0m \u001b[0;34m'data'\u001b[0m\u001b[0;34m)\u001b[0m\u001b[0;34m\u001b[0m\u001b[0m\n\u001b[1;32m      4\u001b[0m \u001b[0mRAW_DATA_DIR\u001b[0m \u001b[0;34m=\u001b[0m \u001b[0mos\u001b[0m\u001b[0;34m.\u001b[0m\u001b[0mpath\u001b[0m\u001b[0;34m.\u001b[0m\u001b[0mjoin\u001b[0m\u001b[0;34m(\u001b[0m\u001b[0mDATA_DIR\u001b[0m\u001b[0;34m,\u001b[0m \u001b[0;34m'raw'\u001b[0m\u001b[0;34m)\u001b[0m\u001b[0;34m\u001b[0m\u001b[0m\n\u001b[1;32m      5\u001b[0m \u001b[0mRAW_EXP_DIR\u001b[0m \u001b[0;34m=\u001b[0m \u001b[0mos\u001b[0m\u001b[0;34m.\u001b[0m\u001b[0mpath\u001b[0m\u001b[0;34m.\u001b[0m\u001b[0mjoin\u001b[0m\u001b[0;34m(\u001b[0m\u001b[0mRAW_DATA_DIR\u001b[0m\u001b[0;34m,\u001b[0m \u001b[0;34m'exp'\u001b[0m\u001b[0;34m)\u001b[0m\u001b[0;34m\u001b[0m\u001b[0m\n",
      "\u001b[0;31mNameError\u001b[0m: name '__file__' is not defined"
     ]
    }
   ],
   "source": [
    "BASE_DIR = os.getcwd()\n",
    "sys.path.append(BASE_DIR)\n",
    "DATA_DIR = os.path.join(BASE_DIR, 'data')\n",
    "RAW_DATA_DIR = os.path.join(DATA_DIR, 'raw')\n",
    "RAW_EXP_DIR = os.path.join(RAW_DATA_DIR, 'exp')\n",
    "pdx_affy_cel_dir = os.path.join(RAW_EXP_DIR, 'sebastian_3.28.17_cels/')"
   ]
  },
  {
   "cell_type": "code",
   "execution_count": 9,
   "metadata": {
    "ExecuteTime": {
     "end_time": "2018-12-13T20:46:35.811864Z",
     "start_time": "2018-12-13T20:46:35.801083Z"
    }
   },
   "outputs": [
    {
     "ename": "NameError",
     "evalue": "name 'pdx_affy_probe_exp_file' is not defined",
     "output_type": "error",
     "traceback": [
      "\u001b[0;31m---------------------------------------------------------------------------\u001b[0m",
      "\u001b[0;31mNameError\u001b[0m                                 Traceback (most recent call last)",
      "\u001b[0;32m<ipython-input-9-d67a34404f8b>\u001b[0m in \u001b[0;36m<module>\u001b[0;34m()\u001b[0m\n\u001b[0;32m----> 1\u001b[0;31m \u001b[0mpdx_affy_probe_exp_file\u001b[0m\u001b[0;34m\u001b[0m\u001b[0m\n\u001b[0m",
      "\u001b[0;31mNameError\u001b[0m: name 'pdx_affy_probe_exp_file' is not defined"
     ]
    }
   ],
   "source": [
    "pdx_affy_probe_exp_file"
   ]
  },
  {
   "cell_type": "code",
   "execution_count": 4,
   "metadata": {},
   "outputs": [
    {
     "name": "stdout",
     "output_type": "stream",
     "text": [
      "Bioconductor version 3.6 (BiocInstaller 1.28.0), ?biocLite for help\n",
      "\n",
      "Loading required package: BiocGenerics\n",
      "\n",
      "Loading required package: parallel\n",
      "\n",
      "\n",
      "Attaching package: ‘BiocGenerics’\n",
      "\n",
      "\n",
      "The following objects are masked from ‘package:parallel’:\n",
      "\n",
      "    clusterApply, clusterApplyLB, clusterCall, clusterEvalQ,\n",
      "    clusterExport, clusterMap, parApply, parCapply, parLapply,\n",
      "    parLapplyLB, parRapply, parSapply, parSapplyLB\n",
      "\n",
      "\n",
      "The following objects are masked from ‘package:stats’:\n",
      "\n",
      "    IQR, mad, sd, var, xtabs\n",
      "\n",
      "\n",
      "The following objects are masked from ‘package:base’:\n",
      "\n",
      "    anyDuplicated, append, as.data.frame, cbind, colMeans, colnames,\n",
      "    colSums, do.call, duplicated, eval, evalq, Filter, Find, get, grep,\n",
      "    grepl, intersect, is.unsorted, lapply, lengths, Map, mapply, match,\n",
      "    mget, order, paste, pmax, pmax.int, pmin, pmin.int, Position, rank,\n",
      "    rbind, Reduce, rowMeans, rownames, rowSums, sapply, setdiff, sort,\n",
      "    table, tapply, union, unique, unsplit, which, which.max, which.min\n",
      "\n",
      "\n",
      "Loading required package: Biobase\n",
      "\n",
      "Welcome to Bioconductor\n",
      "\n",
      "    Vignettes contain introductory material; view with\n",
      "    'browseVignettes()'. To cite Bioconductor, see\n",
      "    'citation(\"Biobase\")', and for packages 'citation(\"pkgname\")'.\n",
      "\n",
      "\n",
      "Loading required package: AnnotationDbi\n",
      "\n",
      "Loading required package: stats4\n",
      "\n",
      "Loading required package: IRanges\n",
      "\n",
      "Loading required package: S4Vectors\n",
      "\n",
      "\n",
      "Attaching package: ‘S4Vectors’\n",
      "\n",
      "\n",
      "The following object is masked from ‘package:base’:\n",
      "\n",
      "    expand.grid\n",
      "\n",
      "\n",
      "\n",
      "Attaching package: ‘AnnotationDbi’\n",
      "\n",
      "\n",
      "The following object is masked from ‘package:MASS’:\n",
      "\n",
      "    select\n",
      "\n",
      "\n",
      "Loading required package: XML\n",
      "\n",
      "\n",
      "Attaching package: ‘XML’\n",
      "\n",
      "\n",
      "The following object is masked from ‘package:tools’:\n",
      "\n",
      "    toHTML\n",
      "\n",
      "\n"
     ]
    },
    {
     "data": {
      "text/plain": [
       "[1] \"Reading in cels\"\n",
       "[1] \"Performing RMA\"\n",
       "Background correcting\n",
       "Normalizing\n",
       "Calculating Expression\n"
      ]
     },
     "metadata": {},
     "output_type": "display_data"
    }
   ],
   "source": [
    "%%R -i pdx_affy_cel_dir,pdx_affy_probe_exp_file\n",
    "source(\"http://bioconductor.org/biocLite.R\")\n",
    "if(!pkg.is.installed('affy'))\n",
    "{\n",
    "    biocLite('affy')\n",
    "}\n",
    "if(!pkg.is.installed('hspeccdf'))\n",
    "{\n",
    "    biocLite('hspeccdf')\n",
    "}\n",
    "if(!pkg.is.installed('annotate'))\n",
    "{\n",
    "    biocLite('annotate')\n",
    "}\n",
    "library('affy')\n",
    "library('annotate')\n",
    "library('hspeccdf')\n",
    "print('Reading in cels')\n",
    "data <- ReadAffy(celfile.path=pdx_affy_cel_dir, cdfname='hspeccdf')\n",
    "print('Performing RMA')\n",
    "result <- affy::rma(data)\n",
    "write.exprs(result, pdx_affy_probe_exp_file)"
   ]
  },
  {
   "cell_type": "code",
   "execution_count": 5,
   "metadata": {
    "collapsed": true
   },
   "outputs": [],
   "source": [
    "numpy2ri.deactivate()\n",
    "# Return to default warning handling.\n",
    "warnings.showwarning = default_showwarning  "
   ]
  },
  {
   "cell_type": "markdown",
   "metadata": {},
   "source": [
    "## Convert to genewise abundance"
   ]
  },
  {
   "cell_type": "code",
   "execution_count": 2,
   "metadata": {
    "collapsed": true
   },
   "outputs": [],
   "source": [
    "def fix_dkfz_tumor_name(name):\n",
    "    name = name.replace('DKFZ-', '')\n",
    "    name = name.upper()\n",
    "    name = name.replace(\"FH\", '')\n",
    "    name = name.replace('-', '')\n",
    "    name = re.sub('MB$', '', name)\n",
    "    return name"
   ]
  },
  {
   "cell_type": "code",
   "execution_count": 3,
   "metadata": {
    "collapsed": true
   },
   "outputs": [],
   "source": [
    "pdx_annot_df = pd.read_excel(PDX_AFFY_ANNOT_FILE, index_col=0).astype(str)\n",
    "cel_to_tumor = dict(zip(['{}.cel'.format(cel) for cel in pdx_annot_df.CEL_file], \n",
    "                        [fix_dkfz_tumor_name(name) for name in pdx_annot_df.index]))\n",
    "\n",
    "have_primary = pdx_annot_df[pdx_annot_df.CEL_primary != '0']\n",
    "cel_to_primary = dict(zip(['{}.cel'.format(cel) for cel in have_primary.CEL_primary], \n",
    "                        [fix_dkfz_tumor_name(name) for name in have_primary.index]))"
   ]
  },
  {
   "cell_type": "markdown",
   "metadata": {},
   "source": [
    "Rather than using the hgu133plus2 annotation, hspeccdf maps probes to entrez genes, so for example the probeset 171484_at matches to the gene with entrez ID 171484. I use gene ID information from [HUGO](https://www.genenames.org/cgi-bin/download) (last downloaded 4.13.18) to map entrez IDs to HUGO gene symbols."
   ]
  },
  {
   "cell_type": "code",
   "execution_count": 4,
   "metadata": {
    "collapsed": true
   },
   "outputs": [],
   "source": [
    "entrez2hugo = utils.make_col2col_dict(GENE_ID_CONVERSION_FILE, 'entrez', 'hugo')"
   ]
  },
  {
   "cell_type": "code",
   "execution_count": null,
   "metadata": {
    "collapsed": true
   },
   "outputs": [],
   "source": [
    "probe_exp = pd.read_table(pdx_affy_probe_exp_file, index_col=0)\n",
    "p2g = {}\n",
    "for probe in probe_exp.index:\n",
    "    entrez = probe.split('_')[0]\n",
    "    if entrez in entrez2hugo:\n",
    "        hugo = entrez2hugo[entrez]\n",
    "        p2g[probe] = hugo\n",
    "probe_df = probe_exp.copy()\n",
    "keepers = []\n",
    "for probe in probe_df.index:\n",
    "    if probe in p2g:\n",
    "        if not pd.isnull(p2g[probe]):\n",
    "            keepers.append(probe)\n",
    "gene_df = probe_df.loc[keepers]\n",
    "gene_df.index = [p2g[probe] for probe in gene_df.index]"
   ]
  },
  {
   "cell_type": "code",
   "execution_count": 7,
   "metadata": {
    "collapsed": true
   },
   "outputs": [],
   "source": [
    "gene_df = utils.merge_redundant_series(gene_df, axis=0).T.sort_index(axis=1)"
   ]
  },
  {
   "cell_type": "code",
   "execution_count": 8,
   "metadata": {
    "collapsed": true
   },
   "outputs": [],
   "source": [
    "#gene_df = quantile_normalize(gene_df) # was done initially, but later considered unnecessary."
   ]
  },
  {
   "cell_type": "code",
   "execution_count": 9,
   "metadata": {
    "collapsed": true
   },
   "outputs": [],
   "source": [
    "primaries_df = gene_df.loc[list(cel_to_primary.keys())]\n",
    "primaries_df.index = [cel_to_primary[cel] for cel in primaries_df.index]\n",
    "tumors_df = gene_df.loc[list(cel_to_tumor.keys())]\n",
    "tumors_df.index = [cel_to_tumor[cel] for cel in tumors_df.index]"
   ]
  },
  {
   "cell_type": "code",
   "execution_count": 11,
   "metadata": {
    "collapsed": true
   },
   "outputs": [],
   "source": [
    "tumors_df.sort_index(axis=0).to_csv(PREPROC_PDX_AFFY_EXP_FILE)\n",
    "primaries_df.sort_index(axis=0).to_csv(PREPROC_PRIMARY_AFFY_EXP_FILE)"
   ]
  },
  {
   "cell_type": "code",
   "execution_count": 12,
   "metadata": {},
   "outputs": [
    {
     "data": {
      "text/plain": [
       "(20, 16247)"
      ]
     },
     "execution_count": 12,
     "metadata": {},
     "output_type": "execute_result"
    }
   ],
   "source": [
    "tumors_df.shape"
   ]
  },
  {
   "cell_type": "markdown",
   "metadata": {},
   "source": [
    "# Project expression onto genesets using ssGSEA"
   ]
  },
  {
   "cell_type": "code",
   "execution_count": null,
   "metadata": {
    "collapsed": true
   },
   "outputs": [],
   "source": [
    "from genesets import load_genesets\n",
    "from gsea import ssgsea"
   ]
  },
  {
   "cell_type": "code",
   "execution_count": 14,
   "metadata": {
    "collapsed": true
   },
   "outputs": [],
   "source": [
    "pdx_exp = pd.read_csv(PREPROC_PDX_AFFY_EXP_FILE, index_col=0)\n",
    "primary_exp = pd.read_csv(PREPROC_PRIMARY_AFFY_EXP_FILE, index_col=0)"
   ]
  },
  {
   "cell_type": "code",
   "execution_count": 16,
   "metadata": {
    "collapsed": true
   },
   "outputs": [],
   "source": [
    "genesets = load_genesets(GENESETS_DIR, which='all')"
   ]
  },
  {
   "cell_type": "code",
   "execution_count": 8,
   "metadata": {},
   "outputs": [
    {
     "name": "stdout",
     "output_type": "stream",
     "text": [
      "CPU times: user 20.8 s, sys: 1.64 s, total: 22.5 s\n",
      "Wall time: 9min 33s\n"
     ]
    }
   ],
   "source": [
    "%%time\n",
    "pdx_ssgsea = ssgsea(pdx_exp, genesets, alpha=0.75)"
   ]
  },
  {
   "cell_type": "code",
   "execution_count": 11,
   "metadata": {
    "collapsed": true
   },
   "outputs": [],
   "source": [
    "pdx_ssgsea.to_csv(PDX_SSGSEA_FILE)"
   ]
  },
  {
   "cell_type": "code",
   "execution_count": 12,
   "metadata": {},
   "outputs": [
    {
     "name": "stdout",
     "output_type": "stream",
     "text": [
      "CPU times: user 6.89 s, sys: 416 ms, total: 7.31 s\n",
      "Wall time: 3min 25s\n"
     ]
    }
   ],
   "source": [
    "%%time\n",
    "primary_ssgsea = ssgsea(primary_exp, genesets, alpha=0.75)"
   ]
  },
  {
   "cell_type": "code",
   "execution_count": 13,
   "metadata": {
    "collapsed": true
   },
   "outputs": [],
   "source": [
    "primary_ssgsea.to_csv(PRIMARY_SSGSEA_FILE)"
   ]
  },
  {
   "cell_type": "markdown",
   "metadata": {
    "heading_collapsed": true
   },
   "source": [
    "# Process Illumina Beadchip data for 3 PDXs and primaries\n",
    "\n",
    "These data (available [here](https://www.ncbi.nlm.nih.gov/geo/query/acc.cgi?acc=GSE28192)) were not used in the paper but are included in the supplement and for reference."
   ]
  },
  {
   "cell_type": "code",
   "execution_count": null,
   "metadata": {
    "collapsed": true,
    "hidden": true
   },
   "outputs": [],
   "source": [
    "from utils import merge_redundant_series"
   ]
  },
  {
   "cell_type": "code",
   "execution_count": 12,
   "metadata": {
    "hidden": true
   },
   "outputs": [
    {
     "data": {
      "text/html": [
       "<div>\n",
       "<style>\n",
       "    .dataframe thead tr:only-child th {\n",
       "        text-align: right;\n",
       "    }\n",
       "\n",
       "    .dataframe thead th {\n",
       "        text-align: left;\n",
       "    }\n",
       "\n",
       "    .dataframe tbody tr th {\n",
       "        vertical-align: top;\n",
       "    }\n",
       "</style>\n",
       "<table border=\"1\" class=\"dataframe\">\n",
       "  <thead>\n",
       "    <tr style=\"text-align: right;\">\n",
       "      <th></th>\n",
       "      <th>GSM697986</th>\n",
       "      <th>GSM697987</th>\n",
       "      <th>GSM697988</th>\n",
       "      <th>GSM697989</th>\n",
       "      <th>GSM697990</th>\n",
       "      <th>GSM697991</th>\n",
       "      <th>GSM697992</th>\n",
       "      <th>GSM697993</th>\n",
       "      <th>GSM697994</th>\n",
       "      <th>GSM697995</th>\n",
       "      <th>...</th>\n",
       "      <th>GSM698068</th>\n",
       "      <th>GSM698069</th>\n",
       "      <th>GSM698070</th>\n",
       "      <th>GSM698071</th>\n",
       "      <th>GSM698072</th>\n",
       "      <th>GSM698073</th>\n",
       "      <th>GSM698074</th>\n",
       "      <th>GSM698075</th>\n",
       "      <th>GSM698076</th>\n",
       "      <th>GSM698077</th>\n",
       "    </tr>\n",
       "    <tr>\n",
       "      <th>ID_REF</th>\n",
       "      <th></th>\n",
       "      <th></th>\n",
       "      <th></th>\n",
       "      <th></th>\n",
       "      <th></th>\n",
       "      <th></th>\n",
       "      <th></th>\n",
       "      <th></th>\n",
       "      <th></th>\n",
       "      <th></th>\n",
       "      <th></th>\n",
       "      <th></th>\n",
       "      <th></th>\n",
       "      <th></th>\n",
       "      <th></th>\n",
       "      <th></th>\n",
       "      <th></th>\n",
       "      <th></th>\n",
       "      <th></th>\n",
       "      <th></th>\n",
       "      <th></th>\n",
       "    </tr>\n",
       "  </thead>\n",
       "  <tbody>\n",
       "    <tr>\n",
       "      <th>ILMN_1343289</th>\n",
       "      <td>8873.765</td>\n",
       "      <td>9019.939</td>\n",
       "      <td>8321.701</td>\n",
       "      <td>8597.173</td>\n",
       "      <td>7972.136</td>\n",
       "      <td>8454.363</td>\n",
       "      <td>7222.372</td>\n",
       "      <td>7160.046</td>\n",
       "      <td>5800.359</td>\n",
       "      <td>5789.193</td>\n",
       "      <td>...</td>\n",
       "      <td>3966.823</td>\n",
       "      <td>4510.685</td>\n",
       "      <td>7933.080</td>\n",
       "      <td>7655.048</td>\n",
       "      <td>3969.261</td>\n",
       "      <td>4202.289</td>\n",
       "      <td>6584.224</td>\n",
       "      <td>6251.000</td>\n",
       "      <td>7800.057</td>\n",
       "      <td>7169.415</td>\n",
       "    </tr>\n",
       "    <tr>\n",
       "      <th>ILMN_1343290</th>\n",
       "      <td>10581.030</td>\n",
       "      <td>11269.900</td>\n",
       "      <td>3117.435</td>\n",
       "      <td>3319.712</td>\n",
       "      <td>8648.661</td>\n",
       "      <td>8912.334</td>\n",
       "      <td>16107.970</td>\n",
       "      <td>16039.770</td>\n",
       "      <td>14342.820</td>\n",
       "      <td>15226.370</td>\n",
       "      <td>...</td>\n",
       "      <td>6941.944</td>\n",
       "      <td>6465.565</td>\n",
       "      <td>5421.817</td>\n",
       "      <td>5232.795</td>\n",
       "      <td>8435.935</td>\n",
       "      <td>8016.704</td>\n",
       "      <td>10082.870</td>\n",
       "      <td>9275.180</td>\n",
       "      <td>4842.793</td>\n",
       "      <td>5161.231</td>\n",
       "    </tr>\n",
       "    <tr>\n",
       "      <th>ILMN_1343291</th>\n",
       "      <td>27723.540</td>\n",
       "      <td>26947.170</td>\n",
       "      <td>25108.230</td>\n",
       "      <td>24472.990</td>\n",
       "      <td>23876.240</td>\n",
       "      <td>25107.190</td>\n",
       "      <td>30136.330</td>\n",
       "      <td>31310.060</td>\n",
       "      <td>24931.080</td>\n",
       "      <td>26643.790</td>\n",
       "      <td>...</td>\n",
       "      <td>13985.140</td>\n",
       "      <td>15141.920</td>\n",
       "      <td>21393.430</td>\n",
       "      <td>23346.100</td>\n",
       "      <td>19563.940</td>\n",
       "      <td>20737.940</td>\n",
       "      <td>21042.820</td>\n",
       "      <td>20138.190</td>\n",
       "      <td>22116.220</td>\n",
       "      <td>24224.900</td>\n",
       "    </tr>\n",
       "    <tr>\n",
       "      <th>ILMN_1343292</th>\n",
       "      <td>3720.148</td>\n",
       "      <td>3716.892</td>\n",
       "      <td>3045.436</td>\n",
       "      <td>3093.125</td>\n",
       "      <td>3431.755</td>\n",
       "      <td>3183.872</td>\n",
       "      <td>6163.287</td>\n",
       "      <td>5984.875</td>\n",
       "      <td>6520.189</td>\n",
       "      <td>6664.529</td>\n",
       "      <td>...</td>\n",
       "      <td>7127.288</td>\n",
       "      <td>7485.877</td>\n",
       "      <td>10175.230</td>\n",
       "      <td>11400.910</td>\n",
       "      <td>6385.931</td>\n",
       "      <td>6290.254</td>\n",
       "      <td>7631.206</td>\n",
       "      <td>7654.023</td>\n",
       "      <td>10857.410</td>\n",
       "      <td>10923.240</td>\n",
       "    </tr>\n",
       "    <tr>\n",
       "      <th>ILMN_1343293</th>\n",
       "      <td>8413.422</td>\n",
       "      <td>8265.768</td>\n",
       "      <td>5738.696</td>\n",
       "      <td>5639.104</td>\n",
       "      <td>9057.703</td>\n",
       "      <td>9153.695</td>\n",
       "      <td>4510.629</td>\n",
       "      <td>4578.813</td>\n",
       "      <td>5262.731</td>\n",
       "      <td>5183.555</td>\n",
       "      <td>...</td>\n",
       "      <td>3803.817</td>\n",
       "      <td>3709.520</td>\n",
       "      <td>3953.159</td>\n",
       "      <td>4444.244</td>\n",
       "      <td>2922.038</td>\n",
       "      <td>2886.281</td>\n",
       "      <td>2843.153</td>\n",
       "      <td>2871.426</td>\n",
       "      <td>3956.004</td>\n",
       "      <td>4251.552</td>\n",
       "    </tr>\n",
       "  </tbody>\n",
       "</table>\n",
       "<p>5 rows × 92 columns</p>\n",
       "</div>"
      ],
      "text/plain": [
       "              GSM697986  GSM697987  GSM697988  GSM697989  GSM697990  \\\n",
       "ID_REF                                                                \n",
       "ILMN_1343289   8873.765   9019.939   8321.701   8597.173   7972.136   \n",
       "ILMN_1343290  10581.030  11269.900   3117.435   3319.712   8648.661   \n",
       "ILMN_1343291  27723.540  26947.170  25108.230  24472.990  23876.240   \n",
       "ILMN_1343292   3720.148   3716.892   3045.436   3093.125   3431.755   \n",
       "ILMN_1343293   8413.422   8265.768   5738.696   5639.104   9057.703   \n",
       "\n",
       "              GSM697991  GSM697992  GSM697993  GSM697994  GSM697995  \\\n",
       "ID_REF                                                                \n",
       "ILMN_1343289   8454.363   7222.372   7160.046   5800.359   5789.193   \n",
       "ILMN_1343290   8912.334  16107.970  16039.770  14342.820  15226.370   \n",
       "ILMN_1343291  25107.190  30136.330  31310.060  24931.080  26643.790   \n",
       "ILMN_1343292   3183.872   6163.287   5984.875   6520.189   6664.529   \n",
       "ILMN_1343293   9153.695   4510.629   4578.813   5262.731   5183.555   \n",
       "\n",
       "                ...      GSM698068  GSM698069  GSM698070  GSM698071  \\\n",
       "ID_REF          ...                                                   \n",
       "ILMN_1343289    ...       3966.823   4510.685   7933.080   7655.048   \n",
       "ILMN_1343290    ...       6941.944   6465.565   5421.817   5232.795   \n",
       "ILMN_1343291    ...      13985.140  15141.920  21393.430  23346.100   \n",
       "ILMN_1343292    ...       7127.288   7485.877  10175.230  11400.910   \n",
       "ILMN_1343293    ...       3803.817   3709.520   3953.159   4444.244   \n",
       "\n",
       "              GSM698072  GSM698073  GSM698074  GSM698075  GSM698076  GSM698077  \n",
       "ID_REF                                                                          \n",
       "ILMN_1343289   3969.261   4202.289   6584.224   6251.000   7800.057   7169.415  \n",
       "ILMN_1343290   8435.935   8016.704  10082.870   9275.180   4842.793   5161.231  \n",
       "ILMN_1343291  19563.940  20737.940  21042.820  20138.190  22116.220  24224.900  \n",
       "ILMN_1343292   6385.931   6290.254   7631.206   7654.023  10857.410  10923.240  \n",
       "ILMN_1343293   2922.038   2886.281   2843.153   2871.426   3956.004   4251.552  \n",
       "\n",
       "[5 rows x 92 columns]"
      ]
     },
     "execution_count": 12,
     "metadata": {},
     "output_type": "execute_result"
    }
   ],
   "source": [
    "exp_matrix = pd.read_table(PDX_PRIMARY_BEADCHIP_SERIES_MATRIX_FILE, comment='!', index_col=0)\n",
    "exp_matrix.head()"
   ]
  },
  {
   "cell_type": "code",
   "execution_count": 13,
   "metadata": {
    "collapsed": true,
    "hidden": true
   },
   "outputs": [],
   "source": [
    "ilmn_id_to_tumor = {\"GSM698018\": \"Pt-1299\",\n",
    "\"GSM698019\": \"Pt-1299\",\n",
    "\"GSM698020\": \"ICb1299\",\n",
    "\"GSM698021\": \"ICb1299\",\n",
    "\"GSM698032\": \"Pt-1487\",\n",
    "\"GSM698033\": \"Pt-1487\",\n",
    "\"GSM698034\": \"ICb-1487\",\n",
    "\"GSM698035\": \"ICb-1487\",\n",
    "\"GSM698046\": \"Pt-1572\",\n",
    "\"GSM698047\": \"Pt-1572\",\n",
    "\"GSM698048\": \"ICb-1572\",\n",
    "\"GSM698049\": \"ICb-1572\"}"
   ]
  },
  {
   "cell_type": "code",
   "execution_count": 14,
   "metadata": {
    "collapsed": true,
    "hidden": true
   },
   "outputs": [],
   "source": [
    "exp_df = exp_matrix.loc[:, ilmn_id_to_tumor.keys()]\n",
    "exp_df.columns = [ilmn_id_to_tumor[ilmn_id] for ilmn_id in exp_df.columns]\n",
    "exp_df = merge_redundant_series(exp_df, axis=1)"
   ]
  },
  {
   "cell_type": "code",
   "execution_count": 15,
   "metadata": {
    "hidden": true
   },
   "outputs": [
    {
     "data": {
      "text/plain": [
       "ID\n",
       "ILMN_1725881     LOC23117\n",
       "ILMN_1910180          NaN\n",
       "ILMN_1804174       FCGR2B\n",
       "ILMN_1810835        SPRR3\n",
       "ILMN_1758197    LOC653895\n",
       "Name: Symbol, dtype: object"
      ]
     },
     "execution_count": 15,
     "metadata": {},
     "output_type": "execute_result"
    }
   ],
   "source": [
    "# downloaded from GEO's page for the platform\n",
    "ilmn_annot = pd.read_table(PDX_PRIMARY_BEADCHIP_ILMN_ANNOT_FILE, comment='#', index_col=0).Symbol\n",
    "ilmn_annot.head()"
   ]
  },
  {
   "cell_type": "code",
   "execution_count": 16,
   "metadata": {
    "hidden": true
   },
   "outputs": [
    {
     "data": {
      "text/plain": [
       "ID\n",
       "ILMN_1725881     LOC23117\n",
       "ILMN_1804174       FCGR2B\n",
       "ILMN_1810835        SPRR3\n",
       "ILMN_1758197    LOC653895\n",
       "ILMN_1668162      DGAT2L3\n",
       "Name: Symbol, dtype: object"
      ]
     },
     "execution_count": 16,
     "metadata": {},
     "output_type": "execute_result"
    }
   ],
   "source": [
    "nonan = ilmn_annot.dropna()\n",
    "nonan.head()"
   ]
  },
  {
   "cell_type": "code",
   "execution_count": 17,
   "metadata": {
    "hidden": true
   },
   "outputs": [
    {
     "data": {
      "text/plain": [
       "(6, 24614)"
      ]
     },
     "execution_count": 17,
     "metadata": {},
     "output_type": "execute_result"
    }
   ],
   "source": [
    "exp_df = exp_df.loc[nonan.index]\n",
    "exp_df.index = [nonan.loc[idx] for idx in exp_df.index]\n",
    "exp_df = merge_redundant_series(exp_df, axis=0).T.sort_index(axis=1)\n",
    "exp_df.shape"
   ]
  },
  {
   "cell_type": "code",
   "execution_count": 18,
   "metadata": {
    "collapsed": true,
    "hidden": true
   },
   "outputs": [],
   "source": [
    "def rename_icb_samples(df):\n",
    "    newdf = df.copy()\n",
    "    newdf.index = [re.sub('.*?([0-9].+).*?', r\"ICB\\1\", s) for s in df.index]\n",
    "    return newdf"
   ]
  },
  {
   "cell_type": "code",
   "execution_count": 19,
   "metadata": {
    "collapsed": true,
    "hidden": true
   },
   "outputs": [],
   "source": [
    "primaries = [idx for idx in exp_df.index if idx.startswith('Pt')]\n",
    "primary_exp = rename_icb_samples(exp_df.loc[primaries].sort_index(axis=0))\n",
    "tumor_exp = rename_icb_samples(exp_df.drop(primaries, axis=0).sort_index(axis=0))"
   ]
  },
  {
   "cell_type": "code",
   "execution_count": 20,
   "metadata": {
    "collapsed": true,
    "hidden": true
   },
   "outputs": [],
   "source": [
    "tumor_exp.to_csv(PREPROC_PDX_BEADCHIP_EXP_FILE)\n",
    "primary_exp.to_csv(PREPROC_PRIMARY_BEADCHIP_EXP_FILE)"
   ]
  },
  {
   "cell_type": "markdown",
   "metadata": {},
   "source": [
    "# Write expression to supplementary file"
   ]
  },
  {
   "cell_type": "markdown",
   "metadata": {},
   "source": [
    "I am actually not sure if we'll need this supplement, because the expression will be going in GEO."
   ]
  },
  {
   "cell_type": "code",
   "execution_count": null,
   "metadata": {
    "collapsed": true
   },
   "outputs": [],
   "source": [
    "bc_pdx = pd.read_csv(PREPROC_PDX_BEADCHIP_EXP_FILE, index_col=0).sort_index(axis=1)\n",
    "bc_pt = pd.read_csv(PREPROC_PRIMARY_BEADCHIP_EXP_FILE, index_col=0).sort_index(axis=1)\n",
    "pdx_exp = pd.read_csv(PREPROC_PDX_AFFY_EXP_FILE, index_col=0)\n",
    "pdx_primary_exp = pd.read_csv(PREPROC_PRIMARY_AFFY_EXP_FILE, index_col=0)"
   ]
  },
  {
   "cell_type": "code",
   "execution_count": null,
   "metadata": {
    "collapsed": true
   },
   "outputs": [],
   "source": [
    "from modules.utils import save_xls\n",
    "sheetnames = 'affy_pdx affy_primary illumina_pdx illumina_primary'.split()\n",
    "dfs = [pdx_exp, pdx_primary_exp, bc_pdx, bc_pt]\n",
    "save_xls(dfs, sheetnames, 'SUPPL_PREPROC_EXP_FILE')"
   ]
  }
 ],
 "metadata": {
  "kernelspec": {
   "display_name": "Python 3",
   "language": "python",
   "name": "python3"
  },
  "language_info": {
   "codemirror_mode": {
    "name": "ipython",
    "version": 3
   },
   "file_extension": ".py",
   "mimetype": "text/x-python",
   "name": "python",
   "nbconvert_exporter": "python",
   "pygments_lexer": "ipython3",
   "version": "3.6.3"
  }
 },
 "nbformat": 4,
 "nbformat_minor": 2
}
