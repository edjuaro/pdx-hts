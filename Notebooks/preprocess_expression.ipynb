{
 "cells": [
  {
   "cell_type": "code",
   "execution_count": 1,
   "metadata": {
    "ExecuteTime": {
     "end_time": "2018-12-13T21:27:30.611326Z",
     "start_time": "2018-12-13T21:27:30.027193Z"
    }
   },
   "outputs": [],
   "source": [
    "%load_ext rpy2.ipython\n",
    "import rpy2\n",
    "import warnings\n",
    "def rmagic_warning(\n",
    "    message,\n",
    "    category = rpy2.rinterface.RRuntimeWarning,\n",
    "    filename = '',\n",
    "    lineno = -1,\n",
    "    file=None, \n",
    "    line=None):\n",
    "    print(message)\n",
    "default_showwarning = warnings.showwarning"
   ]
  },
  {
   "cell_type": "code",
   "execution_count": 2,
   "metadata": {
    "ExecuteTime": {
     "end_time": "2018-12-13T23:26:20.766873Z",
     "start_time": "2018-12-13T23:26:20.261240Z"
    }
   },
   "outputs": [],
   "source": [
    "from common_imports import *"
   ]
  },
  {
   "cell_type": "markdown",
   "metadata": {},
   "source": [
    "# Process Affy data for PDXs and 7 primaries\n",
    "These are the expression data used throughout the paper."
   ]
  },
  {
   "cell_type": "markdown",
   "metadata": {
    "heading_collapsed": true
   },
   "source": [
    "## Data provenance\n",
    "On 3/28/17, Sebastian Brabetz (s.brabetz@dkfz-heidelberg.de) sent me through WeTransfer a zip archive including the tumor cels, cels for 7 primaries (it had been 8, but Med1612 was excluded because of contamination), and the most recent annotation Excel file, 170328_PDXScreen_Anno_v5.xlsx.\n",
    "\n",
    "Most if not all of these files had been sent previously, spread over several occasions, and the annotation changed a couple of times as it was decided that e.g. one sample of a tumor was better than another (fewer passages etc). So I asked Sebastian to send everything fresh to start with a clean slate and make sure we were all using the same data."
   ]
  },
  {
   "cell_type": "markdown",
   "metadata": {},
   "source": [
    "## Process cel files to probewise abundance using hspeccdf"
   ]
  },
  {
   "cell_type": "markdown",
   "metadata": {},
   "source": [
    "[Isella et al. 2015](https://www.ncbi.nlm.nih.gov/pubmed/25706627) showed that in order to reduce the influence of infiltration of mouse stroma on measuring gene expression in PDXs, it can help to remove probes that cross-hybridize to mouse transcripts. This is done using a custom content descriptor file (CDF) rather than the default hgu133plus2 CDF."
   ]
  },
  {
   "cell_type": "code",
   "execution_count": 3,
   "metadata": {
    "ExecuteTime": {
     "end_time": "2018-12-13T21:27:33.984178Z",
     "start_time": "2018-12-13T21:27:33.979753Z"
    }
   },
   "outputs": [],
   "source": [
    "warnings.showwarning = rmagic_warning # to only print the warning text, not text + returned warning object\n",
    "from rpy2.robjects import numpy2ri\n",
    "numpy2ri.activate()"
   ]
  },
  {
   "cell_type": "code",
   "execution_count": 4,
   "metadata": {
    "ExecuteTime": {
     "end_time": "2018-12-13T21:27:34.748905Z",
     "start_time": "2018-12-13T21:27:34.725591Z"
    }
   },
   "outputs": [],
   "source": [
    "%%R\n",
    "pkg.is.installed <- function(mypkg)\n",
    "{\n",
    "    return(mypkg %in% rownames(installed.packages()))\n",
    "}"
   ]
  },
  {
   "cell_type": "markdown",
   "metadata": {},
   "source": [
    "Note that some of the installation and configuration of these R packages may have to be done in the terminal. If the following cell does not work, try installing the packages manually and re-running the notebook."
   ]
  },
  {
   "cell_type": "code",
   "execution_count": 76,
   "metadata": {
    "ExecuteTime": {
     "end_time": "2018-12-13T22:39:16.747859Z",
     "start_time": "2018-12-13T22:39:16.737488Z"
    }
   },
   "outputs": [],
   "source": []
  },
  {
   "cell_type": "code",
   "execution_count": 6,
   "metadata": {
    "ExecuteTime": {
     "end_time": "2018-12-13T21:28:09.309339Z",
     "start_time": "2018-12-13T21:27:39.347343Z"
    },
    "scrolled": true
   },
   "outputs": [
    {
     "name": "stdout",
     "output_type": "stream",
     "text": [
      "Bioconductor version 3.6 (BiocInstaller 1.28.0), ?biocLite for help\n",
      "\n",
      "A new version of Bioconductor is available after installing the most recent\n",
      "  version of R; see http://bioconductor.org/install\n",
      "\n",
      "Loading required package: BiocGenerics\n",
      "\n",
      "Loading required package: parallel\n",
      "\n",
      "\n",
      "Attaching package: 'BiocGenerics'\n",
      "\n",
      "\n",
      "The following objects are masked from 'package:parallel':\n",
      "\n",
      "    clusterApply, clusterApplyLB, clusterCall, clusterEvalQ,\n",
      "    clusterExport, clusterMap, parApply, parCapply, parLapply,\n",
      "    parLapplyLB, parRapply, parSapply, parSapplyLB\n",
      "\n",
      "\n",
      "The following objects are masked from 'package:stats':\n",
      "\n",
      "    IQR, mad, sd, var, xtabs\n",
      "\n",
      "\n",
      "The following objects are masked from 'package:base':\n",
      "\n",
      "    Filter, Find, Map, Position, Reduce, anyDuplicated, append,\n",
      "    as.data.frame, cbind, colMeans, colSums, colnames, do.call,\n",
      "    duplicated, eval, evalq, get, grep, grepl, intersect, is.unsorted,\n",
      "    lapply, lengths, mapply, match, mget, order, paste, pmax, pmax.int,\n",
      "    pmin, pmin.int, rank, rbind, rowMeans, rowSums, rownames, sapply,\n",
      "    setdiff, sort, table, tapply, union, unique, unsplit, which,\n",
      "    which.max, which.min\n",
      "\n",
      "\n",
      "Loading required package: Biobase\n",
      "\n",
      "Welcome to Bioconductor\n",
      "\n",
      "    Vignettes contain introductory material; view with\n",
      "    'browseVignettes()'. To cite Bioconductor, see\n",
      "    'citation(\"Biobase\")', and for packages 'citation(\"pkgname\")'.\n",
      "\n",
      "\n",
      "Loading required package: AnnotationDbi\n",
      "\n",
      "Loading required package: stats4\n",
      "\n",
      "Loading required package: IRanges\n",
      "\n",
      "Loading required package: S4Vectors\n",
      "\n",
      "\n",
      "Attaching package: 'S4Vectors'\n",
      "\n",
      "\n",
      "The following object is masked from 'package:base':\n",
      "\n",
      "    expand.grid\n",
      "\n",
      "\n",
      "Loading required package: XML\n",
      "\n",
      "\n",
      "Attaching package: 'XML'\n",
      "\n",
      "\n",
      "The following object is masked from 'package:tools':\n",
      "\n",
      "    toHTML\n",
      "\n",
      "\n"
     ]
    },
    {
     "data": {
      "text/plain": [
       "[1] \"Reading in cels\"\n",
       "[1] \"Performing RMA\"\n",
       "Background correcting\n",
       "Normalizing\n",
       "Calculating Expression\n"
      ]
     },
     "metadata": {},
     "output_type": "display_data"
    }
   ],
   "source": [
    "%%R -i pdx_affy_cel_dir,pdx_affy_probe_exp_file\n",
    "library('affy')\n",
    "library('annotate')\n",
    "library('hspeccdf')\n",
    "print('Reading in cels')\n",
    "data <- ReadAffy(celfile.path=pdx_affy_cel_dir, cdfname='hspeccdf')\n",
    "print('Performing RMA')\n",
    "result <- affy::rma(data)\n",
    "write.exprs(result, pdx_affy_probe_exp_file)"
   ]
  },
  {
   "cell_type": "code",
   "execution_count": 7,
   "metadata": {
    "ExecuteTime": {
     "end_time": "2018-12-13T21:28:32.677749Z",
     "start_time": "2018-12-13T21:28:32.672655Z"
    }
   },
   "outputs": [
    {
     "name": "stdout",
     "output_type": "stream",
     "text": [
      "done!\n"
     ]
    }
   ],
   "source": [
    "print('done!')"
   ]
  },
  {
   "cell_type": "code",
   "execution_count": 8,
   "metadata": {
    "ExecuteTime": {
     "end_time": "2018-12-13T21:28:41.086128Z",
     "start_time": "2018-12-13T21:28:41.081397Z"
    }
   },
   "outputs": [],
   "source": [
    "numpy2ri.deactivate()\n",
    "# Return to default warning handling.\n",
    "warnings.showwarning = default_showwarning  "
   ]
  },
  {
   "cell_type": "markdown",
   "metadata": {},
   "source": [
    "## Convert to genewise abundance"
   ]
  },
  {
   "cell_type": "code",
   "execution_count": 9,
   "metadata": {
    "ExecuteTime": {
     "end_time": "2018-12-13T21:29:34.353074Z",
     "start_time": "2018-12-13T21:29:34.345806Z"
    }
   },
   "outputs": [],
   "source": [
    "def fix_dkfz_tumor_name(name):\n",
    "    name = name.replace('DKFZ-', '')\n",
    "    name = name.upper()\n",
    "    name = name.replace(\"FH\", '')\n",
    "    name = name.replace('-', '')\n",
    "    name = re.sub('MB$', '', name)\n",
    "    return name"
   ]
  },
  {
   "cell_type": "code",
   "execution_count": 15,
   "metadata": {
    "ExecuteTime": {
     "end_time": "2018-12-13T21:32:04.244744Z",
     "start_time": "2018-12-13T21:32:04.184696Z"
    },
    "scrolled": false
   },
   "outputs": [],
   "source": [
    "pdx_annot_df = pd.read_excel(PDX_AFFY_ANNOT_FILE, index_col=0).astype(str)\n",
    "cel_to_tumor = dict(zip(['{}.cel'.format(cel) for cel in pdx_annot_df.CEL_file], \n",
    "                        [fix_dkfz_tumor_name(name) for name in pdx_annot_df.index]))\n",
    "\n",
    "have_primary = pdx_annot_df[pdx_annot_df.CEL_primary != '0']\n",
    "cel_to_primary = dict(zip(['{}.cel'.format(cel) for cel in have_primary.CEL_primary], \n",
    "                        [fix_dkfz_tumor_name(name) for name in have_primary.index]))"
   ]
  },
  {
   "cell_type": "markdown",
   "metadata": {},
   "source": [
    "Rather than using the hgu133plus2 annotation, hspeccdf maps probes to entrez genes, so for example the probeset 171484_at matches to the gene with entrez ID 171484. I use gene ID information from [HUGO](https://www.genenames.org/cgi-bin/download) (last downloaded 4.13.18) to map entrez IDs to HUGO gene symbols."
   ]
  },
  {
   "cell_type": "code",
   "execution_count": 28,
   "metadata": {
    "ExecuteTime": {
     "end_time": "2018-12-13T21:46:39.426711Z",
     "start_time": "2018-12-13T21:46:39.295868Z"
    }
   },
   "outputs": [],
   "source": [
    "entrez2hugo = utils.make_col2col_dict(GENE_ID_CONVERSION_FILE, 'entrez', 'hugo')"
   ]
  },
  {
   "cell_type": "code",
   "execution_count": 29,
   "metadata": {
    "ExecuteTime": {
     "end_time": "2018-12-13T21:46:41.193379Z",
     "start_time": "2018-12-13T21:46:40.950103Z"
    }
   },
   "outputs": [],
   "source": [
    "probe_exp = pd.read_table(pdx_affy_probe_exp_file, index_col=0)\n",
    "p2g = {}\n",
    "for probe in probe_exp.index:\n",
    "    entrez = probe.split('_')[0]\n",
    "    if entrez in entrez2hugo:\n",
    "        hugo = entrez2hugo[entrez]\n",
    "        p2g[probe] = hugo\n",
    "probe_df = probe_exp.copy()\n",
    "keepers = []\n",
    "for probe in probe_df.index:\n",
    "    if probe in p2g:\n",
    "        if not pd.isnull(p2g[probe]):\n",
    "            keepers.append(probe)\n",
    "gene_df = probe_df.loc[keepers]\n",
    "gene_df.index = [p2g[probe] for probe in gene_df.index]"
   ]
  },
  {
   "cell_type": "code",
   "execution_count": 30,
   "metadata": {
    "ExecuteTime": {
     "end_time": "2018-12-13T21:46:45.369309Z",
     "start_time": "2018-12-13T21:46:45.303552Z"
    }
   },
   "outputs": [],
   "source": [
    "gene_df = utils.merge_redundant_series(gene_df, axis=0).T.sort_index(axis=1)"
   ]
  },
  {
   "cell_type": "code",
   "execution_count": 31,
   "metadata": {
    "ExecuteTime": {
     "end_time": "2018-12-13T21:46:50.886976Z",
     "start_time": "2018-12-13T21:46:50.882811Z"
    }
   },
   "outputs": [],
   "source": [
    "#gene_df = quantile_normalize(gene_df) # was done initially, but later considered unnecessary."
   ]
  },
  {
   "cell_type": "code",
   "execution_count": 32,
   "metadata": {
    "ExecuteTime": {
     "end_time": "2018-12-13T21:46:52.878646Z",
     "start_time": "2018-12-13T21:46:52.861893Z"
    }
   },
   "outputs": [],
   "source": [
    "primaries_df = gene_df.loc[list(cel_to_primary.keys())]\n",
    "primaries_df.index = [cel_to_primary[cel] for cel in primaries_df.index]\n",
    "tumors_df = gene_df.loc[list(cel_to_tumor.keys())]\n",
    "tumors_df.index = [cel_to_tumor[cel] for cel in tumors_df.index]"
   ]
  },
  {
   "cell_type": "code",
   "execution_count": 43,
   "metadata": {
    "ExecuteTime": {
     "end_time": "2018-12-13T21:50:23.261474Z",
     "start_time": "2018-12-13T21:50:22.114494Z"
    }
   },
   "outputs": [],
   "source": [
    "tumors_df.sort_index(axis=0).to_csv(PREPROC_PDX_AFFY_EXP_FILE)\n",
    "primaries_df.sort_index(axis=0).to_csv(PREPROC_PRIMARY_AFFY_EXP_FILE)"
   ]
  },
  {
   "cell_type": "code",
   "execution_count": 44,
   "metadata": {
    "ExecuteTime": {
     "end_time": "2018-12-13T21:51:20.050115Z",
     "start_time": "2018-12-13T21:51:20.041749Z"
    }
   },
   "outputs": [
    {
     "data": {
      "text/plain": [
       "(20, 16247)"
      ]
     },
     "execution_count": 44,
     "metadata": {},
     "output_type": "execute_result"
    }
   ],
   "source": [
    "tumors_df.shape"
   ]
  },
  {
   "cell_type": "markdown",
   "metadata": {
    "heading_collapsed": true
   },
   "source": [
    "# Project expression onto genesets using ssGSEA"
   ]
  },
  {
   "cell_type": "code",
   "execution_count": 48,
   "metadata": {
    "ExecuteTime": {
     "end_time": "2018-12-13T21:56:36.320699Z",
     "start_time": "2018-12-13T21:56:36.247413Z"
    },
    "hidden": true
   },
   "outputs": [],
   "source": [
    "from genesets import load_genesets\n",
    "from gsea import ssgsea"
   ]
  },
  {
   "cell_type": "code",
   "execution_count": 49,
   "metadata": {
    "ExecuteTime": {
     "end_time": "2018-12-13T21:56:52.797357Z",
     "start_time": "2018-12-13T21:56:51.513666Z"
    },
    "hidden": true
   },
   "outputs": [],
   "source": [
    "pdx_exp = pd.read_csv(PREPROC_PDX_AFFY_EXP_FILE, index_col=0)\n",
    "primary_exp = pd.read_csv(PREPROC_PRIMARY_AFFY_EXP_FILE, index_col=0)"
   ]
  },
  {
   "cell_type": "code",
   "execution_count": 52,
   "metadata": {
    "ExecuteTime": {
     "end_time": "2018-12-13T21:57:33.569365Z",
     "start_time": "2018-12-13T21:57:30.337999Z"
    },
    "hidden": true
   },
   "outputs": [],
   "source": [
    "genesets = load_genesets(GENESETS_DIR, which='all')"
   ]
  },
  {
   "cell_type": "code",
   "execution_count": 53,
   "metadata": {
    "ExecuteTime": {
     "end_time": "2018-12-13T22:08:54.399680Z",
     "start_time": "2018-12-13T22:00:02.165080Z"
    },
    "hidden": true
   },
   "outputs": [
    {
     "name": "stdout",
     "output_type": "stream",
     "text": [
      "CPU times: user 21.1 s, sys: 2.84 s, total: 23.9 s\n",
      "Wall time: 8min 52s\n"
     ]
    }
   ],
   "source": [
    "%%time\n",
    "pdx_ssgsea = ssgsea(pdx_exp, genesets, alpha=0.75)"
   ]
  },
  {
   "cell_type": "code",
   "execution_count": 56,
   "metadata": {
    "ExecuteTime": {
     "end_time": "2018-12-13T22:10:48.317883Z",
     "start_time": "2018-12-13T22:10:47.292831Z"
    },
    "hidden": true
   },
   "outputs": [],
   "source": [
    "pdx_ssgsea.to_csv(PDX_SSGSEA_FILE)"
   ]
  },
  {
   "cell_type": "code",
   "execution_count": 57,
   "metadata": {
    "ExecuteTime": {
     "end_time": "2018-12-13T22:14:25.883773Z",
     "start_time": "2018-12-13T22:10:54.868053Z"
    },
    "hidden": true
   },
   "outputs": [
    {
     "name": "stdout",
     "output_type": "stream",
     "text": [
      "CPU times: user 7.47 s, sys: 890 ms, total: 8.36 s\n",
      "Wall time: 3min 31s\n"
     ]
    }
   ],
   "source": [
    "%%time\n",
    "primary_ssgsea = ssgsea(primary_exp, genesets, alpha=0.75)"
   ]
  },
  {
   "cell_type": "code",
   "execution_count": 59,
   "metadata": {
    "ExecuteTime": {
     "end_time": "2018-12-13T22:14:26.284702Z",
     "start_time": "2018-12-13T22:14:25.901198Z"
    },
    "hidden": true
   },
   "outputs": [],
   "source": [
    "primary_ssgsea.to_csv(PRIMARY_SSGSEA_FILE)"
   ]
  },
  {
   "cell_type": "markdown",
   "metadata": {},
   "source": [
    "# Process Illumina Beadchip data for 3 PDXs and primaries\n",
    "\n",
    "These data (available [here](https://www.ncbi.nlm.nih.gov/geo/query/acc.cgi?acc=GSE28192)) were not used in the paper but are included in the supplement and for reference."
   ]
  },
  {
   "cell_type": "code",
   "execution_count": 60,
   "metadata": {
    "ExecuteTime": {
     "end_time": "2018-12-13T22:18:34.234047Z",
     "start_time": "2018-12-13T22:18:34.229641Z"
    }
   },
   "outputs": [],
   "source": [
    "from utils import merge_redundant_series"
   ]
  },
  {
   "cell_type": "code",
   "execution_count": 65,
   "metadata": {
    "ExecuteTime": {
     "end_time": "2018-12-13T22:36:58.736784Z",
     "start_time": "2018-12-13T22:36:57.697963Z"
    }
   },
   "outputs": [
    {
     "data": {
      "text/html": [
       "<div>\n",
       "<style scoped>\n",
       "    .dataframe tbody tr th:only-of-type {\n",
       "        vertical-align: middle;\n",
       "    }\n",
       "\n",
       "    .dataframe tbody tr th {\n",
       "        vertical-align: top;\n",
       "    }\n",
       "\n",
       "    .dataframe thead th {\n",
       "        text-align: right;\n",
       "    }\n",
       "</style>\n",
       "<table border=\"1\" class=\"dataframe\">\n",
       "  <thead>\n",
       "    <tr style=\"text-align: right;\">\n",
       "      <th></th>\n",
       "      <th>GSM697986</th>\n",
       "      <th>GSM697987</th>\n",
       "      <th>GSM697988</th>\n",
       "      <th>GSM697989</th>\n",
       "      <th>GSM697990</th>\n",
       "      <th>GSM697991</th>\n",
       "      <th>GSM697992</th>\n",
       "      <th>GSM697993</th>\n",
       "      <th>GSM697994</th>\n",
       "      <th>GSM697995</th>\n",
       "      <th>...</th>\n",
       "      <th>GSM698068</th>\n",
       "      <th>GSM698069</th>\n",
       "      <th>GSM698070</th>\n",
       "      <th>GSM698071</th>\n",
       "      <th>GSM698072</th>\n",
       "      <th>GSM698073</th>\n",
       "      <th>GSM698074</th>\n",
       "      <th>GSM698075</th>\n",
       "      <th>GSM698076</th>\n",
       "      <th>GSM698077</th>\n",
       "    </tr>\n",
       "    <tr>\n",
       "      <th>ID_REF</th>\n",
       "      <th></th>\n",
       "      <th></th>\n",
       "      <th></th>\n",
       "      <th></th>\n",
       "      <th></th>\n",
       "      <th></th>\n",
       "      <th></th>\n",
       "      <th></th>\n",
       "      <th></th>\n",
       "      <th></th>\n",
       "      <th></th>\n",
       "      <th></th>\n",
       "      <th></th>\n",
       "      <th></th>\n",
       "      <th></th>\n",
       "      <th></th>\n",
       "      <th></th>\n",
       "      <th></th>\n",
       "      <th></th>\n",
       "      <th></th>\n",
       "      <th></th>\n",
       "    </tr>\n",
       "  </thead>\n",
       "  <tbody>\n",
       "    <tr>\n",
       "      <th>ILMN_1343289</th>\n",
       "      <td>8873.765</td>\n",
       "      <td>9019.939</td>\n",
       "      <td>8321.701</td>\n",
       "      <td>8597.173</td>\n",
       "      <td>7972.136</td>\n",
       "      <td>8454.363</td>\n",
       "      <td>7222.372</td>\n",
       "      <td>7160.046</td>\n",
       "      <td>5800.359</td>\n",
       "      <td>5789.193</td>\n",
       "      <td>...</td>\n",
       "      <td>3966.823</td>\n",
       "      <td>4510.685</td>\n",
       "      <td>7933.080</td>\n",
       "      <td>7655.048</td>\n",
       "      <td>3969.261</td>\n",
       "      <td>4202.289</td>\n",
       "      <td>6584.224</td>\n",
       "      <td>6251.000</td>\n",
       "      <td>7800.057</td>\n",
       "      <td>7169.415</td>\n",
       "    </tr>\n",
       "    <tr>\n",
       "      <th>ILMN_1343290</th>\n",
       "      <td>10581.030</td>\n",
       "      <td>11269.900</td>\n",
       "      <td>3117.435</td>\n",
       "      <td>3319.712</td>\n",
       "      <td>8648.661</td>\n",
       "      <td>8912.334</td>\n",
       "      <td>16107.970</td>\n",
       "      <td>16039.770</td>\n",
       "      <td>14342.820</td>\n",
       "      <td>15226.370</td>\n",
       "      <td>...</td>\n",
       "      <td>6941.944</td>\n",
       "      <td>6465.565</td>\n",
       "      <td>5421.817</td>\n",
       "      <td>5232.795</td>\n",
       "      <td>8435.935</td>\n",
       "      <td>8016.704</td>\n",
       "      <td>10082.870</td>\n",
       "      <td>9275.180</td>\n",
       "      <td>4842.793</td>\n",
       "      <td>5161.231</td>\n",
       "    </tr>\n",
       "    <tr>\n",
       "      <th>ILMN_1343291</th>\n",
       "      <td>27723.540</td>\n",
       "      <td>26947.170</td>\n",
       "      <td>25108.230</td>\n",
       "      <td>24472.990</td>\n",
       "      <td>23876.240</td>\n",
       "      <td>25107.190</td>\n",
       "      <td>30136.330</td>\n",
       "      <td>31310.060</td>\n",
       "      <td>24931.080</td>\n",
       "      <td>26643.790</td>\n",
       "      <td>...</td>\n",
       "      <td>13985.140</td>\n",
       "      <td>15141.920</td>\n",
       "      <td>21393.430</td>\n",
       "      <td>23346.100</td>\n",
       "      <td>19563.940</td>\n",
       "      <td>20737.940</td>\n",
       "      <td>21042.820</td>\n",
       "      <td>20138.190</td>\n",
       "      <td>22116.220</td>\n",
       "      <td>24224.900</td>\n",
       "    </tr>\n",
       "    <tr>\n",
       "      <th>ILMN_1343292</th>\n",
       "      <td>3720.148</td>\n",
       "      <td>3716.892</td>\n",
       "      <td>3045.436</td>\n",
       "      <td>3093.125</td>\n",
       "      <td>3431.755</td>\n",
       "      <td>3183.872</td>\n",
       "      <td>6163.287</td>\n",
       "      <td>5984.875</td>\n",
       "      <td>6520.189</td>\n",
       "      <td>6664.529</td>\n",
       "      <td>...</td>\n",
       "      <td>7127.288</td>\n",
       "      <td>7485.877</td>\n",
       "      <td>10175.230</td>\n",
       "      <td>11400.910</td>\n",
       "      <td>6385.931</td>\n",
       "      <td>6290.254</td>\n",
       "      <td>7631.206</td>\n",
       "      <td>7654.023</td>\n",
       "      <td>10857.410</td>\n",
       "      <td>10923.240</td>\n",
       "    </tr>\n",
       "    <tr>\n",
       "      <th>ILMN_1343293</th>\n",
       "      <td>8413.422</td>\n",
       "      <td>8265.768</td>\n",
       "      <td>5738.696</td>\n",
       "      <td>5639.104</td>\n",
       "      <td>9057.703</td>\n",
       "      <td>9153.695</td>\n",
       "      <td>4510.629</td>\n",
       "      <td>4578.813</td>\n",
       "      <td>5262.731</td>\n",
       "      <td>5183.555</td>\n",
       "      <td>...</td>\n",
       "      <td>3803.817</td>\n",
       "      <td>3709.520</td>\n",
       "      <td>3953.159</td>\n",
       "      <td>4444.244</td>\n",
       "      <td>2922.038</td>\n",
       "      <td>2886.281</td>\n",
       "      <td>2843.153</td>\n",
       "      <td>2871.426</td>\n",
       "      <td>3956.004</td>\n",
       "      <td>4251.552</td>\n",
       "    </tr>\n",
       "  </tbody>\n",
       "</table>\n",
       "<p>5 rows × 92 columns</p>\n",
       "</div>"
      ],
      "text/plain": [
       "              GSM697986  GSM697987  GSM697988  GSM697989  GSM697990  \\\n",
       "ID_REF                                                                \n",
       "ILMN_1343289   8873.765   9019.939   8321.701   8597.173   7972.136   \n",
       "ILMN_1343290  10581.030  11269.900   3117.435   3319.712   8648.661   \n",
       "ILMN_1343291  27723.540  26947.170  25108.230  24472.990  23876.240   \n",
       "ILMN_1343292   3720.148   3716.892   3045.436   3093.125   3431.755   \n",
       "ILMN_1343293   8413.422   8265.768   5738.696   5639.104   9057.703   \n",
       "\n",
       "              GSM697991  GSM697992  GSM697993  GSM697994  GSM697995  \\\n",
       "ID_REF                                                                \n",
       "ILMN_1343289   8454.363   7222.372   7160.046   5800.359   5789.193   \n",
       "ILMN_1343290   8912.334  16107.970  16039.770  14342.820  15226.370   \n",
       "ILMN_1343291  25107.190  30136.330  31310.060  24931.080  26643.790   \n",
       "ILMN_1343292   3183.872   6163.287   5984.875   6520.189   6664.529   \n",
       "ILMN_1343293   9153.695   4510.629   4578.813   5262.731   5183.555   \n",
       "\n",
       "                ...      GSM698068  GSM698069  GSM698070  GSM698071  \\\n",
       "ID_REF          ...                                                   \n",
       "ILMN_1343289    ...       3966.823   4510.685   7933.080   7655.048   \n",
       "ILMN_1343290    ...       6941.944   6465.565   5421.817   5232.795   \n",
       "ILMN_1343291    ...      13985.140  15141.920  21393.430  23346.100   \n",
       "ILMN_1343292    ...       7127.288   7485.877  10175.230  11400.910   \n",
       "ILMN_1343293    ...       3803.817   3709.520   3953.159   4444.244   \n",
       "\n",
       "              GSM698072  GSM698073  GSM698074  GSM698075  GSM698076  GSM698077  \n",
       "ID_REF                                                                          \n",
       "ILMN_1343289   3969.261   4202.289   6584.224   6251.000   7800.057   7169.415  \n",
       "ILMN_1343290   8435.935   8016.704  10082.870   9275.180   4842.793   5161.231  \n",
       "ILMN_1343291  19563.940  20737.940  21042.820  20138.190  22116.220  24224.900  \n",
       "ILMN_1343292   6385.931   6290.254   7631.206   7654.023  10857.410  10923.240  \n",
       "ILMN_1343293   2922.038   2886.281   2843.153   2871.426   3956.004   4251.552  \n",
       "\n",
       "[5 rows x 92 columns]"
      ]
     },
     "execution_count": 65,
     "metadata": {},
     "output_type": "execute_result"
    }
   ],
   "source": [
    "exp_matrix = pd.read_table(PDX_PRIMARY_BEADCHIP_SERIES_MATRIX_FILE, comment='!', index_col=0)\n",
    "exp_matrix.head()"
   ]
  },
  {
   "cell_type": "code",
   "execution_count": 66,
   "metadata": {
    "ExecuteTime": {
     "end_time": "2018-12-13T22:37:04.843370Z",
     "start_time": "2018-12-13T22:37:04.835614Z"
    }
   },
   "outputs": [],
   "source": [
    "ilmn_id_to_tumor = {\"GSM698018\": \"Pt-1299\",\n",
    "\"GSM698019\": \"Pt-1299\",\n",
    "\"GSM698020\": \"ICb1299\",\n",
    "\"GSM698021\": \"ICb1299\",\n",
    "\"GSM698032\": \"Pt-1487\",\n",
    "\"GSM698033\": \"Pt-1487\",\n",
    "\"GSM698034\": \"ICb-1487\",\n",
    "\"GSM698035\": \"ICb-1487\",\n",
    "\"GSM698046\": \"Pt-1572\",\n",
    "\"GSM698047\": \"Pt-1572\",\n",
    "\"GSM698048\": \"ICb-1572\",\n",
    "\"GSM698049\": \"ICb-1572\"}"
   ]
  },
  {
   "cell_type": "code",
   "execution_count": 67,
   "metadata": {
    "ExecuteTime": {
     "end_time": "2018-12-13T22:37:06.686205Z",
     "start_time": "2018-12-13T22:37:06.627975Z"
    }
   },
   "outputs": [],
   "source": [
    "exp_df = exp_matrix.loc[:, ilmn_id_to_tumor.keys()]\n",
    "exp_df.columns = [ilmn_id_to_tumor[ilmn_id] for ilmn_id in exp_df.columns]\n",
    "exp_df = merge_redundant_series(exp_df, axis=1)"
   ]
  },
  {
   "cell_type": "code",
   "execution_count": 70,
   "metadata": {
    "ExecuteTime": {
     "end_time": "2018-12-13T22:38:21.288318Z",
     "start_time": "2018-12-13T22:38:20.640780Z"
    }
   },
   "outputs": [
    {
     "data": {
      "text/plain": [
       "ID\n",
       "ILMN_1725881     LOC23117\n",
       "ILMN_1910180          NaN\n",
       "ILMN_1804174       FCGR2B\n",
       "ILMN_1810835        SPRR3\n",
       "ILMN_1758197    LOC653895\n",
       "Name: Symbol, dtype: object"
      ]
     },
     "execution_count": 70,
     "metadata": {},
     "output_type": "execute_result"
    }
   ],
   "source": [
    "# downloaded from GEO's page for the platform\n",
    "ilmn_annot = pd.read_table(PDX_PRIMARY_BEADCHIP_ILMN_ANNOT_FILE, comment='#', index_col=0).Symbol\n",
    "ilmn_annot.head()"
   ]
  },
  {
   "cell_type": "code",
   "execution_count": 71,
   "metadata": {
    "ExecuteTime": {
     "end_time": "2018-12-13T22:38:25.158387Z",
     "start_time": "2018-12-13T22:38:25.137730Z"
    }
   },
   "outputs": [
    {
     "data": {
      "text/plain": [
       "ID\n",
       "ILMN_1725881     LOC23117\n",
       "ILMN_1804174       FCGR2B\n",
       "ILMN_1810835        SPRR3\n",
       "ILMN_1758197    LOC653895\n",
       "ILMN_1668162      DGAT2L3\n",
       "Name: Symbol, dtype: object"
      ]
     },
     "execution_count": 71,
     "metadata": {},
     "output_type": "execute_result"
    }
   ],
   "source": [
    "nonan = ilmn_annot.dropna()\n",
    "nonan.head()"
   ]
  },
  {
   "cell_type": "code",
   "execution_count": 72,
   "metadata": {
    "ExecuteTime": {
     "end_time": "2018-12-13T22:38:36.735317Z",
     "start_time": "2018-12-13T22:38:29.959265Z"
    }
   },
   "outputs": [
    {
     "name": "stderr",
     "output_type": "stream",
     "text": [
      "/opt/conda/lib/python3.6/site-packages/ipykernel_launcher.py:1: FutureWarning: \n",
      "Passing list-likes to .loc or [] with any missing label will raise\n",
      "KeyError in the future, you can use .reindex() as an alternative.\n",
      "\n",
      "See the documentation here:\n",
      "http://pandas.pydata.org/pandas-docs/stable/indexing.html#deprecate-loc-reindex-listlike\n",
      "  \"\"\"Entry point for launching an IPython kernel.\n"
     ]
    },
    {
     "data": {
      "text/plain": [
       "(6, 24614)"
      ]
     },
     "execution_count": 72,
     "metadata": {},
     "output_type": "execute_result"
    }
   ],
   "source": [
    "exp_df = exp_df.loc[nonan.index]\n",
    "exp_df.index = [nonan.loc[idx] for idx in exp_df.index]\n",
    "exp_df = merge_redundant_series(exp_df, axis=0).T.sort_index(axis=1)\n",
    "exp_df.shape"
   ]
  },
  {
   "cell_type": "code",
   "execution_count": 73,
   "metadata": {
    "ExecuteTime": {
     "end_time": "2018-12-13T22:38:41.571021Z",
     "start_time": "2018-12-13T22:38:41.567052Z"
    }
   },
   "outputs": [],
   "source": [
    "def rename_icb_samples(df):\n",
    "    newdf = df.copy()\n",
    "    newdf.index = [re.sub('.*?([0-9].+).*?', r\"ICB\\1\", s) for s in df.index]\n",
    "    return newdf"
   ]
  },
  {
   "cell_type": "code",
   "execution_count": 74,
   "metadata": {
    "ExecuteTime": {
     "end_time": "2018-12-13T22:38:55.213111Z",
     "start_time": "2018-12-13T22:38:55.197870Z"
    }
   },
   "outputs": [],
   "source": [
    "primaries = [idx for idx in exp_df.index if idx.startswith('Pt')]\n",
    "primary_exp = rename_icb_samples(exp_df.loc[primaries].sort_index(axis=0))\n",
    "tumor_exp = rename_icb_samples(exp_df.drop(primaries, axis=0).sort_index(axis=0))"
   ]
  },
  {
   "cell_type": "code",
   "execution_count": 79,
   "metadata": {
    "ExecuteTime": {
     "end_time": "2018-12-13T22:39:56.496908Z",
     "start_time": "2018-12-13T22:39:56.096476Z"
    }
   },
   "outputs": [],
   "source": [
    "tumor_exp.to_csv(PREPROC_PDX_BEADCHIP_EXP_FILE)\n",
    "primary_exp.to_csv(PREPROC_PRIMARY_BEADCHIP_EXP_FILE)"
   ]
  },
  {
   "cell_type": "markdown",
   "metadata": {},
   "source": [
    "# Write expression to supplementary file"
   ]
  },
  {
   "cell_type": "markdown",
   "metadata": {},
   "source": [
    "I am actually not sure if we'll need this supplement, because the expression will be going in GEO."
   ]
  },
  {
   "cell_type": "code",
   "execution_count": 82,
   "metadata": {
    "ExecuteTime": {
     "end_time": "2018-12-13T23:00:40.520467Z",
     "start_time": "2018-12-13T23:00:37.535561Z"
    }
   },
   "outputs": [],
   "source": [
    "bc_pdx = pd.read_csv(PREPROC_PDX_BEADCHIP_EXP_FILE, index_col=0).sort_index(axis=1)\n",
    "bc_pt = pd.read_csv(PREPROC_PRIMARY_BEADCHIP_EXP_FILE, index_col=0).sort_index(axis=1)\n",
    "pdx_exp = pd.read_csv(PREPROC_PDX_AFFY_EXP_FILE, index_col=0)\n",
    "pdx_primary_exp = pd.read_csv(PREPROC_PRIMARY_AFFY_EXP_FILE, index_col=0)"
   ]
  },
  {
   "cell_type": "code",
   "execution_count": null,
   "metadata": {},
   "outputs": [],
   "source": [
    "# This cell was not run! 2018-12-13"
   ]
  },
  {
   "cell_type": "code",
   "execution_count": 83,
   "metadata": {
    "ExecuteTime": {
     "end_time": "2018-12-13T23:00:51.283492Z",
     "start_time": "2018-12-13T23:00:51.213819Z"
    }
   },
   "outputs": [
    {
     "ename": "ValueError",
     "evalue": "No engine for filetype: ''",
     "output_type": "error",
     "traceback": [
      "\u001b[0;31m---------------------------------------------------------------------------\u001b[0m",
      "\u001b[0;31mOptionError\u001b[0m                               Traceback (most recent call last)",
      "\u001b[0;32m/opt/conda/lib/python3.6/site-packages/pandas/io/excel.py\u001b[0m in \u001b[0;36m__new__\u001b[0;34m(cls, path, engine, **kwargs)\u001b[0m\n\u001b[1;32m    718\u001b[0m                     engine = config.get_option('io.excel.{ext}.writer'\n\u001b[0;32m--> 719\u001b[0;31m                                                .format(ext=ext))\n\u001b[0m\u001b[1;32m    720\u001b[0m                     \u001b[0;32mif\u001b[0m \u001b[0mengine\u001b[0m \u001b[0;34m==\u001b[0m \u001b[0;34m'auto'\u001b[0m\u001b[0;34m:\u001b[0m\u001b[0;34m\u001b[0m\u001b[0m\n",
      "\u001b[0;32m/opt/conda/lib/python3.6/site-packages/pandas/core/config.py\u001b[0m in \u001b[0;36m__call__\u001b[0;34m(self, *args, **kwds)\u001b[0m\n\u001b[1;32m    223\u001b[0m     \u001b[0;32mdef\u001b[0m \u001b[0m__call__\u001b[0m\u001b[0;34m(\u001b[0m\u001b[0mself\u001b[0m\u001b[0;34m,\u001b[0m \u001b[0;34m*\u001b[0m\u001b[0margs\u001b[0m\u001b[0;34m,\u001b[0m \u001b[0;34m**\u001b[0m\u001b[0mkwds\u001b[0m\u001b[0;34m)\u001b[0m\u001b[0;34m:\u001b[0m\u001b[0;34m\u001b[0m\u001b[0m\n\u001b[0;32m--> 224\u001b[0;31m         \u001b[0;32mreturn\u001b[0m \u001b[0mself\u001b[0m\u001b[0;34m.\u001b[0m\u001b[0m__func__\u001b[0m\u001b[0;34m(\u001b[0m\u001b[0;34m*\u001b[0m\u001b[0margs\u001b[0m\u001b[0;34m,\u001b[0m \u001b[0;34m**\u001b[0m\u001b[0mkwds\u001b[0m\u001b[0;34m)\u001b[0m\u001b[0;34m\u001b[0m\u001b[0m\n\u001b[0m\u001b[1;32m    225\u001b[0m \u001b[0;34m\u001b[0m\u001b[0m\n",
      "\u001b[0;32m/opt/conda/lib/python3.6/site-packages/pandas/core/config.py\u001b[0m in \u001b[0;36m_get_option\u001b[0;34m(pat, silent)\u001b[0m\n\u001b[1;32m     96\u001b[0m \u001b[0;32mdef\u001b[0m \u001b[0m_get_option\u001b[0m\u001b[0;34m(\u001b[0m\u001b[0mpat\u001b[0m\u001b[0;34m,\u001b[0m \u001b[0msilent\u001b[0m\u001b[0;34m=\u001b[0m\u001b[0;32mFalse\u001b[0m\u001b[0;34m)\u001b[0m\u001b[0;34m:\u001b[0m\u001b[0;34m\u001b[0m\u001b[0m\n\u001b[0;32m---> 97\u001b[0;31m     \u001b[0mkey\u001b[0m \u001b[0;34m=\u001b[0m \u001b[0m_get_single_key\u001b[0m\u001b[0;34m(\u001b[0m\u001b[0mpat\u001b[0m\u001b[0;34m,\u001b[0m \u001b[0msilent\u001b[0m\u001b[0;34m)\u001b[0m\u001b[0;34m\u001b[0m\u001b[0m\n\u001b[0m\u001b[1;32m     98\u001b[0m \u001b[0;34m\u001b[0m\u001b[0m\n",
      "\u001b[0;32m/opt/conda/lib/python3.6/site-packages/pandas/core/config.py\u001b[0m in \u001b[0;36m_get_single_key\u001b[0;34m(pat, silent)\u001b[0m\n\u001b[1;32m     82\u001b[0m             \u001b[0m_warn_if_deprecated\u001b[0m\u001b[0;34m(\u001b[0m\u001b[0mpat\u001b[0m\u001b[0;34m)\u001b[0m\u001b[0;34m\u001b[0m\u001b[0m\n\u001b[0;32m---> 83\u001b[0;31m         \u001b[0;32mraise\u001b[0m \u001b[0mOptionError\u001b[0m\u001b[0;34m(\u001b[0m\u001b[0;34m'No such keys(s): {pat!r}'\u001b[0m\u001b[0;34m.\u001b[0m\u001b[0mformat\u001b[0m\u001b[0;34m(\u001b[0m\u001b[0mpat\u001b[0m\u001b[0;34m=\u001b[0m\u001b[0mpat\u001b[0m\u001b[0;34m)\u001b[0m\u001b[0;34m)\u001b[0m\u001b[0;34m\u001b[0m\u001b[0m\n\u001b[0m\u001b[1;32m     84\u001b[0m     \u001b[0;32mif\u001b[0m \u001b[0mlen\u001b[0m\u001b[0;34m(\u001b[0m\u001b[0mkeys\u001b[0m\u001b[0;34m)\u001b[0m \u001b[0;34m>\u001b[0m \u001b[0;36m1\u001b[0m\u001b[0;34m:\u001b[0m\u001b[0;34m\u001b[0m\u001b[0m\n",
      "\u001b[0;31mOptionError\u001b[0m: \"No such keys(s): 'io.excel..writer'\"",
      "\nDuring handling of the above exception, another exception occurred:\n",
      "\u001b[0;31mValueError\u001b[0m                                Traceback (most recent call last)",
      "\u001b[0;32m<ipython-input-83-e8fced2d7fc2>\u001b[0m in \u001b[0;36m<module>\u001b[0;34m()\u001b[0m\n\u001b[1;32m      2\u001b[0m \u001b[0msheetnames\u001b[0m \u001b[0;34m=\u001b[0m \u001b[0;34m'affy_pdx affy_primary illumina_pdx illumina_primary'\u001b[0m\u001b[0;34m.\u001b[0m\u001b[0msplit\u001b[0m\u001b[0;34m(\u001b[0m\u001b[0;34m)\u001b[0m\u001b[0;34m\u001b[0m\u001b[0m\n\u001b[1;32m      3\u001b[0m \u001b[0mdfs\u001b[0m \u001b[0;34m=\u001b[0m \u001b[0;34m[\u001b[0m\u001b[0mpdx_exp\u001b[0m\u001b[0;34m,\u001b[0m \u001b[0mpdx_primary_exp\u001b[0m\u001b[0;34m,\u001b[0m \u001b[0mbc_pdx\u001b[0m\u001b[0;34m,\u001b[0m \u001b[0mbc_pt\u001b[0m\u001b[0;34m]\u001b[0m\u001b[0;34m\u001b[0m\u001b[0m\n\u001b[0;32m----> 4\u001b[0;31m \u001b[0msave_xls\u001b[0m\u001b[0;34m(\u001b[0m\u001b[0mdfs\u001b[0m\u001b[0;34m,\u001b[0m \u001b[0msheetnames\u001b[0m\u001b[0;34m,\u001b[0m \u001b[0;34m'SUPPL_PREPROC_EXP_FILE'\u001b[0m\u001b[0;34m)\u001b[0m\u001b[0;34m\u001b[0m\u001b[0m\n\u001b[0m",
      "\u001b[0;32m/pdx-hts/Notebooks/modules/utils.py\u001b[0m in \u001b[0;36msave_xls\u001b[0;34m(list_dfs, sheetnames, xls_path, fit_col_width, max_col_width)\u001b[0m\n\u001b[1;32m     31\u001b[0m \u001b[0;34m\u001b[0m\u001b[0m\n\u001b[1;32m     32\u001b[0m \u001b[0;32mdef\u001b[0m \u001b[0msave_xls\u001b[0m\u001b[0;34m(\u001b[0m\u001b[0mlist_dfs\u001b[0m\u001b[0;34m,\u001b[0m \u001b[0msheetnames\u001b[0m\u001b[0;34m,\u001b[0m \u001b[0mxls_path\u001b[0m\u001b[0;34m,\u001b[0m \u001b[0mfit_col_width\u001b[0m\u001b[0;34m=\u001b[0m\u001b[0;32mTrue\u001b[0m\u001b[0;34m,\u001b[0m \u001b[0mmax_col_width\u001b[0m\u001b[0;34m=\u001b[0m\u001b[0;36m30\u001b[0m\u001b[0;34m)\u001b[0m\u001b[0;34m:\u001b[0m\u001b[0;34m\u001b[0m\u001b[0m\n\u001b[0;32m---> 33\u001b[0;31m     \u001b[0mwriter\u001b[0m \u001b[0;34m=\u001b[0m \u001b[0mExcelWriter\u001b[0m\u001b[0;34m(\u001b[0m\u001b[0mxls_path\u001b[0m\u001b[0;34m)\u001b[0m\u001b[0;34m\u001b[0m\u001b[0m\n\u001b[0m\u001b[1;32m     34\u001b[0m     \u001b[0;32mfor\u001b[0m \u001b[0mn\u001b[0m\u001b[0;34m,\u001b[0m \u001b[0mdf\u001b[0m \u001b[0;32min\u001b[0m \u001b[0menumerate\u001b[0m\u001b[0;34m(\u001b[0m\u001b[0mlist_dfs\u001b[0m\u001b[0;34m)\u001b[0m\u001b[0;34m:\u001b[0m\u001b[0;34m\u001b[0m\u001b[0m\n\u001b[1;32m     35\u001b[0m         \u001b[0mdf\u001b[0m\u001b[0;34m.\u001b[0m\u001b[0mto_excel\u001b[0m\u001b[0;34m(\u001b[0m\u001b[0mwriter\u001b[0m\u001b[0;34m,\u001b[0m \u001b[0msheetnames\u001b[0m\u001b[0;34m[\u001b[0m\u001b[0mn\u001b[0m\u001b[0;34m]\u001b[0m\u001b[0;34m)\u001b[0m\u001b[0;34m\u001b[0m\u001b[0m\n",
      "\u001b[0;32m/opt/conda/lib/python3.6/site-packages/pandas/io/excel.py\u001b[0m in \u001b[0;36m__new__\u001b[0;34m(cls, path, engine, **kwargs)\u001b[0m\n\u001b[1;32m    723\u001b[0m                     error = ValueError(\"No engine for filetype: '{ext}'\"\n\u001b[1;32m    724\u001b[0m                                        .format(ext=ext))\n\u001b[0;32m--> 725\u001b[0;31m                     \u001b[0;32mraise\u001b[0m \u001b[0merror\u001b[0m\u001b[0;34m\u001b[0m\u001b[0m\n\u001b[0m\u001b[1;32m    726\u001b[0m             \u001b[0mcls\u001b[0m \u001b[0;34m=\u001b[0m \u001b[0mget_writer\u001b[0m\u001b[0;34m(\u001b[0m\u001b[0mengine\u001b[0m\u001b[0;34m)\u001b[0m\u001b[0;34m\u001b[0m\u001b[0m\n\u001b[1;32m    727\u001b[0m \u001b[0;34m\u001b[0m\u001b[0m\n",
      "\u001b[0;31mValueError\u001b[0m: No engine for filetype: ''"
     ]
    }
   ],
   "source": [
    "from modules.utils import save_xls\n",
    "sheetnames = 'affy_pdx affy_primary illumina_pdx illumina_primary'.split()\n",
    "dfs = [pdx_exp, pdx_primary_exp, bc_pdx, bc_pt]\n",
    "save_xls(dfs, sheetnames, 'SUPPL_PREPROC_EXP_FILE')"
   ]
  },
  {
   "cell_type": "code",
   "execution_count": null,
   "metadata": {},
   "outputs": [],
   "source": []
  }
 ],
 "metadata": {
  "kernelspec": {
   "display_name": "Python 3",
   "language": "python",
   "name": "python3"
  },
  "language_info": {
   "codemirror_mode": {
    "name": "ipython",
    "version": 3
   },
   "file_extension": ".py",
   "mimetype": "text/x-python",
   "name": "python",
   "nbconvert_exporter": "python",
   "pygments_lexer": "ipython3",
   "version": "3.6.3"
  }
 },
 "nbformat": 4,
 "nbformat_minor": 2
}
