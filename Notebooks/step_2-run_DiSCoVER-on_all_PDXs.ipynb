{
 "cells": [
  {
   "cell_type": "markdown",
   "metadata": {},
   "source": [
    "## RNASeq workflow for PDX-HTS paper\n"
   ]
  },
  {
   "cell_type": "markdown",
   "metadata": {},
   "source": [
    "This notebook contains all the analyses..."
   ]
  },
  {
   "cell_type": "code",
   "execution_count": 7,
   "metadata": {
    "ExecuteTime": {
     "end_time": "2018-12-18T14:06:32.407769Z",
     "start_time": "2018-12-18T14:06:32.341063Z"
    }
   },
   "outputs": [],
   "source": [
    "# Performing common imports ... a few other imports are made automatically by UIBuilder cells bellow. Don't delete them!\n",
    "from common_imports import *"
   ]
  },
  {
   "cell_type": "code",
   "execution_count": 8,
   "metadata": {
    "ExecuteTime": {
     "end_time": "2018-12-18T14:06:32.451343Z",
     "start_time": "2018-12-18T14:06:32.411016Z"
    }
   },
   "outputs": [],
   "source": [
    "#Setting the random number generator seed. This is used by Sklearn's Random Forrest Classifier. Not a crucial part of the pipeline, more like an optional display -- but reproducibility is imperative\n",
    "np.random.seed(0)"
   ]
  },
  {
   "cell_type": "code",
   "execution_count": 9,
   "metadata": {
    "ExecuteTime": {
     "end_time": "2018-12-18T14:06:32.499822Z",
     "start_time": "2018-12-18T14:06:32.454964Z"
    }
   },
   "outputs": [],
   "source": [
    "def run_pipeline(case_id):\n",
    "    print('======================================')\n",
    "    print(\"Step 1: read_user_input\")\n",
    "    print('======================================')\n",
    "    setup = read_user_input(case_id, patient_dir=case_id, dna_nexus_bool=False, is_medullo=True, control='original',custom_control_expression='N/A')\n",
    "    print('======================================')\n",
    "    print(\"Step 2: download_and_preprocess_rnaseq\")\n",
    "    print('======================================')\n",
    "    setup = download_and_preprocess_rnaseq(setup)\n",
    "    print('======================================')\n",
    "    print(\"Step 3: classify_sample\")\n",
    "    print('======================================')\n",
    "    setup = classify_sample(setup)\n",
    "    print('======================================')\n",
    "    print(\"Step 4: run_discover\")\n",
    "    print('======================================')\n",
    "    setup = run_discover(setup)\n",
    "    print(f'All analyses completed suscessfully with \"patient\" {case_id}')\n",
    "    return"
   ]
  },
  {
   "cell_type": "code",
   "execution_count": 10,
   "metadata": {
    "ExecuteTime": {
     "end_time": "2018-12-18T14:09:11.601425Z",
     "start_time": "2018-12-18T14:06:32.504232Z"
    }
   },
   "outputs": [
    {
     "name": "stdout",
     "output_type": "stream",
     "text": [
      "======================================\n",
      "Step 1: read_user_input\n",
      "======================================\n",
      "Reminder: if you want to use a custom control expresion, you must set control to 'custom'\n",
      "==> Setting patient_dir = case_id\n",
      "Setup done!\n",
      "======================================\n",
      "Step 2: download_and_preprocess_rnaseq\n",
      "======================================\n",
      "==> Checking if local file (/pdx-hts/Notebooks/data/preprocessed/exp/BT084.csv) exist.\n",
      "==> This file containes the expression of the PDXs. Printing dataframe's info:\n",
      "<class 'pandas.core.frame.DataFrame'>\n",
      "Index: 1 entries, BT084 to BT084\n",
      "Columns: 16247 entries, A1BG to ZZZ3\n",
      "dtypes: float64(16247)\n",
      "memory usage: 126.9+ KB\n",
      "==> None\n",
      "==> File /pdx-hts/Notebooks/patients/BT084/gene_abundance.sleuth.csv saved successfully\n",
      "==> Done preprocessing!\n",
      "======================================\n",
      "Step 3: classify_sample\n",
      "======================================\n"
     ]
    },
    {
     "name": "stderr",
     "output_type": "stream",
     "text": [
      "/opt/conda/lib/python3.6/site-packages/pandas/core/series.py:2890: FutureWarning: from_csv is deprecated. Please use read_csv(...) instead. Note that some of the default arguments are different, so please refer to the documentation for from_csv when changing your function calls\n",
      "  infer_datetime_format=infer_datetime_format)\n"
     ]
    },
    {
     "name": "stdout",
     "output_type": "stream",
     "text": [
      "     Cavalli     Cho  Northcott\n",
      "SHH   0.5975  0.6827     0.6285\n",
      "G3    0.1642  0.1750     0.1852\n",
      "WNT   0.1258  0.0618     0.0676\n",
      "G4    0.1125  0.0805     0.1187\n",
      "           Cavalli\n",
      "SHH_alpha   0.3594\n",
      "SHH_delta   0.1047\n",
      "G3_gamma    0.0791\n",
      "SHH_gamma   0.0723\n",
      "WNT_alpha   0.0638\n",
      "G4_alpha    0.0638\n",
      "WNT_beta    0.0620\n",
      "SHH_beta    0.0611\n",
      "G3_beta     0.0455\n",
      "G3_alpha    0.0396\n",
      "G4_gamma    0.0260\n",
      "G4_beta     0.0227\n",
      "           Subtypes     Cho\n",
      "3               SHH  0.6827\n",
      "1            G3-MYC  0.1266\n",
      "6               WNT  0.0618\n",
      "5  G3-photoreceptor  0.0484\n",
      "4          G4-Mixed  0.0468\n",
      "2       G4-neuronal  0.0337\n",
      "==> Done! Move along\n",
      "======================================\n",
      "Step 4: run_discover\n",
      "======================================\n",
      "==> About to perform DiSCoVER.\n"
     ]
    },
    {
     "name": "stderr",
     "output_type": "stream",
     "text": [
      "/opt/conda/lib/python3.6/site-packages/pandas/core/indexing.py:1020: FutureWarning: \n",
      "Passing list-likes to .loc or [] with any missing label will raise\n",
      "KeyError in the future, you can use .reindex() as an alternative.\n",
      "\n",
      "See the documentation here:\n",
      "http://pandas.pydata.org/pandas-docs/stable/indexing.html#deprecate-loc-reindex-listlike\n",
      "  return getattr(section, self.name)[new_key]\n"
     ]
    },
    {
     "name": "stdout",
     "output_type": "stream",
     "text": [
      "==> DiSCoVER done!\n",
      "==> Saving results to file.\n",
      "==> Saving done!\n",
      "==> NOT Restricting to clinically relevant drugs.\n"
     ]
    },
    {
     "name": "stderr",
     "output_type": "stream",
     "text": [
      "/opt/conda/lib/python3.6/site-packages/pandas/util/_decorators.py:118: FutureWarning: The `sheetname` keyword is deprecated, use `sheet_name` instead\n",
      "  return func(*args, **kwargs)\n"
     ]
    },
    {
     "name": "stdout",
     "output_type": "stream",
     "text": [
      "==> Done restricting to clinically relevant drugs!\n",
      "==> Making the DiSCoVER powerpoint.\n",
      "==> Using all of the drugs\n",
      "==> Done making the DiSCoVER powerpoint slide!\n",
      "==> Savig the variables to a file.\n",
      "==> Saving the formatted results of DiSCoVER to a csv\n",
      "==> Done savig the variables to a file!\n",
      "==> Done with all the taks in this cell. Move along.\n",
      "All analyses completed suscessfully with \"patient\" BT084\n"
     ]
    }
   ],
   "source": [
    "# \"BT084\"\n",
    "run_pipeline('BT084')"
   ]
  },
  {
   "cell_type": "code",
   "execution_count": 11,
   "metadata": {
    "ExecuteTime": {
     "end_time": "2018-12-18T14:11:57.538274Z",
     "start_time": "2018-12-18T14:09:11.607097Z"
    }
   },
   "outputs": [
    {
     "name": "stdout",
     "output_type": "stream",
     "text": [
      "======================================\n",
      "Step 1: read_user_input\n",
      "======================================\n",
      "Reminder: if you want to use a custom control expresion, you must set control to 'custom'\n",
      "==> Setting patient_dir = case_id\n",
      "Setup done!\n",
      "======================================\n",
      "Step 2: download_and_preprocess_rnaseq\n",
      "======================================\n",
      "==> Checking if local file (/pdx-hts/Notebooks/data/preprocessed/exp/DMB006.csv) exist.\n",
      "==> This file containes the expression of the PDXs. Printing dataframe's info:\n",
      "<class 'pandas.core.frame.DataFrame'>\n",
      "Index: 1 entries, DMB006 to DMB006\n",
      "Columns: 16247 entries, A1BG to ZZZ3\n",
      "dtypes: float64(16247)\n",
      "memory usage: 126.9+ KB\n",
      "==> None\n",
      "==> File /pdx-hts/Notebooks/patients/DMB006/gene_abundance.sleuth.csv saved successfully\n",
      "==> Done preprocessing!\n",
      "======================================\n",
      "Step 3: classify_sample\n",
      "======================================\n"
     ]
    },
    {
     "name": "stderr",
     "output_type": "stream",
     "text": [
      "/opt/conda/lib/python3.6/site-packages/pandas/core/series.py:2890: FutureWarning: from_csv is deprecated. Please use read_csv(...) instead. Note that some of the default arguments are different, so please refer to the documentation for from_csv when changing your function calls\n",
      "  infer_datetime_format=infer_datetime_format)\n"
     ]
    },
    {
     "name": "stdout",
     "output_type": "stream",
     "text": [
      "     Cavalli     Cho  Northcott\n",
      "G4    0.4795  0.5229     0.5443\n",
      "G3    0.2099  0.2740     0.3128\n",
      "SHH   0.2029  0.1448     0.0860\n",
      "WNT   0.1077  0.0583     0.0569\n",
      "           Cavalli\n",
      "G4_beta     0.2024\n",
      "G4_alpha    0.1977\n",
      "SHH_alpha   0.0903\n",
      "G3_gamma    0.0808\n",
      "G3_beta     0.0798\n",
      "G4_gamma    0.0794\n",
      "WNT_beta    0.0568\n",
      "WNT_alpha   0.0509\n",
      "G3_alpha    0.0493\n",
      "SHH_gamma   0.0463\n",
      "SHH_delta   0.0444\n",
      "SHH_beta    0.0219\n",
      "           Subtypes     Cho\n",
      "3               SHH  0.1448\n",
      "1            G3-MYC  0.1650\n",
      "6               WNT  0.0583\n",
      "5  G3-photoreceptor  0.1090\n",
      "4          G4-Mixed  0.1894\n",
      "2       G4-neuronal  0.3335\n",
      "==> Done! Move along\n",
      "======================================\n",
      "Step 4: run_discover\n",
      "======================================\n",
      "==> About to perform DiSCoVER.\n"
     ]
    },
    {
     "name": "stderr",
     "output_type": "stream",
     "text": [
      "/opt/conda/lib/python3.6/site-packages/pandas/core/indexing.py:1020: FutureWarning: \n",
      "Passing list-likes to .loc or [] with any missing label will raise\n",
      "KeyError in the future, you can use .reindex() as an alternative.\n",
      "\n",
      "See the documentation here:\n",
      "http://pandas.pydata.org/pandas-docs/stable/indexing.html#deprecate-loc-reindex-listlike\n",
      "  return getattr(section, self.name)[new_key]\n"
     ]
    },
    {
     "name": "stdout",
     "output_type": "stream",
     "text": [
      "==> DiSCoVER done!\n",
      "==> Saving results to file.\n",
      "==> Saving done!\n",
      "==> NOT Restricting to clinically relevant drugs.\n"
     ]
    },
    {
     "name": "stderr",
     "output_type": "stream",
     "text": [
      "/opt/conda/lib/python3.6/site-packages/pandas/util/_decorators.py:118: FutureWarning: The `sheetname` keyword is deprecated, use `sheet_name` instead\n",
      "  return func(*args, **kwargs)\n"
     ]
    },
    {
     "name": "stdout",
     "output_type": "stream",
     "text": [
      "==> Done restricting to clinically relevant drugs!\n",
      "==> Making the DiSCoVER powerpoint.\n",
      "==> Using all of the drugs\n",
      "==> Done making the DiSCoVER powerpoint slide!\n",
      "==> Savig the variables to a file.\n",
      "==> Saving the formatted results of DiSCoVER to a csv\n",
      "==> Done savig the variables to a file!\n",
      "==> Done with all the taks in this cell. Move along.\n",
      "All analyses completed suscessfully with \"patient\" DMB006\n"
     ]
    }
   ],
   "source": [
    "# \"DMB006\": \"DMB006\",\n",
    "run_pipeline(\"DMB006\")"
   ]
  },
  {
   "cell_type": "code",
   "execution_count": 12,
   "metadata": {
    "ExecuteTime": {
     "end_time": "2018-12-18T14:14:40.451688Z",
     "start_time": "2018-12-18T14:11:57.545062Z"
    }
   },
   "outputs": [
    {
     "name": "stdout",
     "output_type": "stream",
     "text": [
      "======================================\n",
      "Step 1: read_user_input\n",
      "======================================\n",
      "Reminder: if you want to use a custom control expresion, you must set control to 'custom'\n",
      "==> Setting patient_dir = case_id\n",
      "Setup done!\n",
      "======================================\n",
      "Step 2: download_and_preprocess_rnaseq\n",
      "======================================\n",
      "==> Checking if local file (/pdx-hts/Notebooks/data/preprocessed/exp/ICB984.csv) exist.\n",
      "==> This file containes the expression of the PDXs. Printing dataframe's info:\n",
      "<class 'pandas.core.frame.DataFrame'>\n",
      "Index: 1 entries, ICB984 to ICB984\n",
      "Columns: 16247 entries, A1BG to ZZZ3\n",
      "dtypes: float64(16247)\n",
      "memory usage: 126.9+ KB\n",
      "==> None\n",
      "==> File /pdx-hts/Notebooks/patients/ICB984/gene_abundance.sleuth.csv saved successfully\n",
      "==> Done preprocessing!\n",
      "======================================\n",
      "Step 3: classify_sample\n",
      "======================================\n"
     ]
    },
    {
     "name": "stderr",
     "output_type": "stream",
     "text": [
      "/opt/conda/lib/python3.6/site-packages/pandas/core/series.py:2890: FutureWarning: from_csv is deprecated. Please use read_csv(...) instead. Note that some of the default arguments are different, so please refer to the documentation for from_csv when changing your function calls\n",
      "  infer_datetime_format=infer_datetime_format)\n"
     ]
    },
    {
     "name": "stdout",
     "output_type": "stream",
     "text": [
      "     Cavalli     Cho  Northcott\n",
      "SHH   0.5263  0.5827     0.5420\n",
      "G4    0.1773  0.1195     0.1530\n",
      "G3    0.1597  0.2061     0.1984\n",
      "WNT   0.1367  0.0917     0.1066\n",
      "           Cavalli\n",
      "SHH_alpha   0.2917\n",
      "G4_alpha    0.1004\n",
      "SHH_delta   0.0970\n",
      "SHH_gamma   0.0803\n",
      "G3_gamma    0.0787\n",
      "WNT_alpha   0.0709\n",
      "WNT_beta    0.0658\n",
      "SHH_beta    0.0573\n",
      "G3_beta     0.0461\n",
      "G4_beta     0.0397\n",
      "G4_gamma    0.0372\n",
      "G3_alpha    0.0349\n",
      "           Subtypes     Cho\n",
      "3               SHH  0.5827\n",
      "1            G3-MYC  0.1383\n",
      "6               WNT  0.0917\n",
      "5  G3-photoreceptor  0.0678\n",
      "4          G4-Mixed  0.0675\n",
      "2       G4-neuronal  0.0520\n",
      "==> Done! Move along\n",
      "======================================\n",
      "Step 4: run_discover\n",
      "======================================\n",
      "==> About to perform DiSCoVER.\n"
     ]
    },
    {
     "name": "stderr",
     "output_type": "stream",
     "text": [
      "/opt/conda/lib/python3.6/site-packages/pandas/core/indexing.py:1020: FutureWarning: \n",
      "Passing list-likes to .loc or [] with any missing label will raise\n",
      "KeyError in the future, you can use .reindex() as an alternative.\n",
      "\n",
      "See the documentation here:\n",
      "http://pandas.pydata.org/pandas-docs/stable/indexing.html#deprecate-loc-reindex-listlike\n",
      "  return getattr(section, self.name)[new_key]\n"
     ]
    },
    {
     "name": "stdout",
     "output_type": "stream",
     "text": [
      "==> DiSCoVER done!\n",
      "==> Saving results to file.\n",
      "==> Saving done!\n",
      "==> NOT Restricting to clinically relevant drugs.\n"
     ]
    },
    {
     "name": "stderr",
     "output_type": "stream",
     "text": [
      "/opt/conda/lib/python3.6/site-packages/pandas/util/_decorators.py:118: FutureWarning: The `sheetname` keyword is deprecated, use `sheet_name` instead\n",
      "  return func(*args, **kwargs)\n"
     ]
    },
    {
     "name": "stdout",
     "output_type": "stream",
     "text": [
      "==> Done restricting to clinically relevant drugs!\n",
      "==> Making the DiSCoVER powerpoint.\n",
      "==> Using all of the drugs\n",
      "==> Done making the DiSCoVER powerpoint slide!\n",
      "==> Savig the variables to a file.\n",
      "==> Saving the formatted results of DiSCoVER to a csv\n",
      "==> Done savig the variables to a file!\n",
      "==> Done with all the taks in this cell. Move along.\n",
      "All analyses completed suscessfully with \"patient\" ICB984\n"
     ]
    }
   ],
   "source": [
    "# \"ICB984\": \"ICB984\",\n",
    "run_pipeline(\"ICB984\")"
   ]
  },
  {
   "cell_type": "code",
   "execution_count": 13,
   "metadata": {
    "ExecuteTime": {
     "end_time": "2018-12-18T14:17:23.016289Z",
     "start_time": "2018-12-18T14:14:40.459642Z"
    }
   },
   "outputs": [
    {
     "name": "stdout",
     "output_type": "stream",
     "text": [
      "======================================\n",
      "Step 1: read_user_input\n",
      "======================================\n",
      "Reminder: if you want to use a custom control expresion, you must set control to 'custom'\n",
      "==> Setting patient_dir = case_id\n",
      "Setup done!\n",
      "======================================\n",
      "Step 2: download_and_preprocess_rnaseq\n",
      "======================================\n",
      "==> Checking if local file (/pdx-hts/Notebooks/data/preprocessed/exp/ICB1299.csv) exist.\n",
      "==> This file containes the expression of the PDXs. Printing dataframe's info:\n",
      "<class 'pandas.core.frame.DataFrame'>\n",
      "Index: 1 entries, ICB1299 to ICB1299\n",
      "Columns: 16247 entries, A1BG to ZZZ3\n",
      "dtypes: float64(16247)\n",
      "memory usage: 126.9+ KB\n",
      "==> None\n",
      "==> File /pdx-hts/Notebooks/patients/ICB1299/gene_abundance.sleuth.csv saved successfully\n",
      "==> Done preprocessing!\n",
      "======================================\n",
      "Step 3: classify_sample\n",
      "======================================\n"
     ]
    },
    {
     "name": "stderr",
     "output_type": "stream",
     "text": [
      "/opt/conda/lib/python3.6/site-packages/pandas/core/series.py:2890: FutureWarning: from_csv is deprecated. Please use read_csv(...) instead. Note that some of the default arguments are different, so please refer to the documentation for from_csv when changing your function calls\n",
      "  infer_datetime_format=infer_datetime_format)\n"
     ]
    },
    {
     "name": "stdout",
     "output_type": "stream",
     "text": [
      "     Cavalli     Cho  Northcott\n",
      "G3    0.3766  0.4581     0.4818\n",
      "SHH   0.2626  0.2630     0.1735\n",
      "G4    0.2298  0.1744     0.2598\n",
      "WNT   0.1310  0.1045     0.0849\n",
      "           Cavalli\n",
      "G3_gamma    0.2191\n",
      "SHH_alpha   0.1349\n",
      "G4_alpha    0.1209\n",
      "G3_beta     0.0929\n",
      "WNT_beta    0.0658\n",
      "WNT_alpha   0.0652\n",
      "G3_alpha    0.0646\n",
      "G4_gamma    0.0564\n",
      "G4_beta     0.0525\n",
      "SHH_gamma   0.0511\n",
      "SHH_delta   0.0511\n",
      "SHH_beta    0.0255\n",
      "           Subtypes     Cho\n",
      "3               SHH  0.2630\n",
      "1            G3-MYC  0.3323\n",
      "6               WNT  0.1045\n",
      "5  G3-photoreceptor  0.1258\n",
      "4          G4-Mixed  0.0985\n",
      "2       G4-neuronal  0.0759\n",
      "==> Done! Move along\n",
      "======================================\n",
      "Step 4: run_discover\n",
      "======================================\n",
      "==> About to perform DiSCoVER.\n"
     ]
    },
    {
     "name": "stderr",
     "output_type": "stream",
     "text": [
      "/opt/conda/lib/python3.6/site-packages/pandas/core/indexing.py:1020: FutureWarning: \n",
      "Passing list-likes to .loc or [] with any missing label will raise\n",
      "KeyError in the future, you can use .reindex() as an alternative.\n",
      "\n",
      "See the documentation here:\n",
      "http://pandas.pydata.org/pandas-docs/stable/indexing.html#deprecate-loc-reindex-listlike\n",
      "  return getattr(section, self.name)[new_key]\n"
     ]
    },
    {
     "name": "stdout",
     "output_type": "stream",
     "text": [
      "==> DiSCoVER done!\n",
      "==> Saving results to file.\n",
      "==> Saving done!\n",
      "==> NOT Restricting to clinically relevant drugs.\n"
     ]
    },
    {
     "name": "stderr",
     "output_type": "stream",
     "text": [
      "/opt/conda/lib/python3.6/site-packages/pandas/util/_decorators.py:118: FutureWarning: The `sheetname` keyword is deprecated, use `sheet_name` instead\n",
      "  return func(*args, **kwargs)\n"
     ]
    },
    {
     "name": "stdout",
     "output_type": "stream",
     "text": [
      "==> Done restricting to clinically relevant drugs!\n",
      "==> Making the DiSCoVER powerpoint.\n",
      "==> Using all of the drugs\n",
      "==> Done making the DiSCoVER powerpoint slide!\n",
      "==> Savig the variables to a file.\n",
      "==> Saving the formatted results of DiSCoVER to a csv\n",
      "==> Done savig the variables to a file!\n",
      "==> Done with all the taks in this cell. Move along.\n",
      "All analyses completed suscessfully with \"patient\" ICB1299\n"
     ]
    }
   ],
   "source": [
    "# \"ICB1299\": \"ICB1299\",\n",
    "run_pipeline(\"ICB1299\")"
   ]
  },
  {
   "cell_type": "code",
   "execution_count": 14,
   "metadata": {
    "ExecuteTime": {
     "end_time": "2018-12-18T14:20:15.753264Z",
     "start_time": "2018-12-18T14:17:23.022059Z"
    }
   },
   "outputs": [
    {
     "name": "stdout",
     "output_type": "stream",
     "text": [
      "======================================\n",
      "Step 1: read_user_input\n",
      "======================================\n",
      "Reminder: if you want to use a custom control expresion, you must set control to 'custom'\n",
      "==> Setting patient_dir = case_id\n",
      "Setup done!\n",
      "======================================\n",
      "Step 2: download_and_preprocess_rnaseq\n",
      "======================================\n",
      "==> Checking if local file (/pdx-hts/Notebooks/data/preprocessed/exp/ICB1487.csv) exist.\n",
      "==> This file containes the expression of the PDXs. Printing dataframe's info:\n",
      "<class 'pandas.core.frame.DataFrame'>\n",
      "Index: 1 entries, ICB1487 to ICB1487\n",
      "Columns: 16247 entries, A1BG to ZZZ3\n",
      "dtypes: float64(16247)\n",
      "memory usage: 126.9+ KB\n",
      "==> None\n",
      "==> File /pdx-hts/Notebooks/patients/ICB1487/gene_abundance.sleuth.csv saved successfully\n",
      "==> Done preprocessing!\n",
      "======================================\n",
      "Step 3: classify_sample\n",
      "======================================\n"
     ]
    },
    {
     "name": "stderr",
     "output_type": "stream",
     "text": [
      "/opt/conda/lib/python3.6/site-packages/pandas/core/series.py:2890: FutureWarning: from_csv is deprecated. Please use read_csv(...) instead. Note that some of the default arguments are different, so please refer to the documentation for from_csv when changing your function calls\n",
      "  infer_datetime_format=infer_datetime_format)\n"
     ]
    },
    {
     "name": "stdout",
     "output_type": "stream",
     "text": [
      "     Cavalli     Cho  Northcott\n",
      "G4    0.4831  0.5280     0.5384\n",
      "G3    0.2534  0.2956     0.3065\n",
      "SHH   0.1639  0.1121     0.1058\n",
      "WNT   0.0996  0.0643     0.0493\n",
      "           Cavalli\n",
      "G4_alpha    0.2141\n",
      "G4_gamma    0.1751\n",
      "G3_beta     0.0973\n",
      "G4_beta     0.0939\n",
      "G3_gamma    0.0805\n",
      "G3_alpha    0.0756\n",
      "SHH_alpha   0.0696\n",
      "WNT_alpha   0.0532\n",
      "WNT_beta    0.0464\n",
      "SHH_gamma   0.0403\n",
      "SHH_delta   0.0294\n",
      "SHH_beta    0.0246\n",
      "           Subtypes     Cho\n",
      "3               SHH  0.1121\n",
      "1            G3-MYC  0.1383\n",
      "6               WNT  0.0643\n",
      "5  G3-photoreceptor  0.1573\n",
      "4          G4-Mixed  0.2591\n",
      "2       G4-neuronal  0.2689\n",
      "==> Done! Move along\n",
      "======================================\n",
      "Step 4: run_discover\n",
      "======================================\n",
      "==> About to perform DiSCoVER.\n"
     ]
    },
    {
     "name": "stderr",
     "output_type": "stream",
     "text": [
      "/opt/conda/lib/python3.6/site-packages/pandas/core/indexing.py:1020: FutureWarning: \n",
      "Passing list-likes to .loc or [] with any missing label will raise\n",
      "KeyError in the future, you can use .reindex() as an alternative.\n",
      "\n",
      "See the documentation here:\n",
      "http://pandas.pydata.org/pandas-docs/stable/indexing.html#deprecate-loc-reindex-listlike\n",
      "  return getattr(section, self.name)[new_key]\n"
     ]
    },
    {
     "name": "stdout",
     "output_type": "stream",
     "text": [
      "==> DiSCoVER done!\n",
      "==> Saving results to file.\n",
      "==> Saving done!\n",
      "==> NOT Restricting to clinically relevant drugs.\n"
     ]
    },
    {
     "name": "stderr",
     "output_type": "stream",
     "text": [
      "/opt/conda/lib/python3.6/site-packages/pandas/util/_decorators.py:118: FutureWarning: The `sheetname` keyword is deprecated, use `sheet_name` instead\n",
      "  return func(*args, **kwargs)\n"
     ]
    },
    {
     "name": "stdout",
     "output_type": "stream",
     "text": [
      "==> Done restricting to clinically relevant drugs!\n",
      "==> Making the DiSCoVER powerpoint.\n",
      "==> Using all of the drugs\n",
      "==> Done making the DiSCoVER powerpoint slide!\n",
      "==> Savig the variables to a file.\n",
      "==> Saving the formatted results of DiSCoVER to a csv\n",
      "==> Done savig the variables to a file!\n",
      "==> Done with all the taks in this cell. Move along.\n",
      "All analyses completed suscessfully with \"patient\" ICB1487\n"
     ]
    }
   ],
   "source": [
    "# \"ICB1487\": \"ICB1487\",\n",
    "run_pipeline(\"ICB1487\")"
   ]
  },
  {
   "cell_type": "code",
   "execution_count": 15,
   "metadata": {
    "ExecuteTime": {
     "end_time": "2018-12-18T14:23:03.038967Z",
     "start_time": "2018-12-18T14:20:15.755859Z"
    }
   },
   "outputs": [
    {
     "name": "stdout",
     "output_type": "stream",
     "text": [
      "======================================\n",
      "Step 1: read_user_input\n",
      "======================================\n",
      "Reminder: if you want to use a custom control expresion, you must set control to 'custom'\n",
      "==> Setting patient_dir = case_id\n",
      "Setup done!\n",
      "======================================\n",
      "Step 2: download_and_preprocess_rnaseq\n",
      "======================================\n",
      "==> Checking if local file (/pdx-hts/Notebooks/data/preprocessed/exp/ICB1572.csv) exist.\n",
      "==> This file containes the expression of the PDXs. Printing dataframe's info:\n",
      "<class 'pandas.core.frame.DataFrame'>\n",
      "Index: 1 entries, ICB1572 to ICB1572\n",
      "Columns: 16247 entries, A1BG to ZZZ3\n",
      "dtypes: float64(16247)\n",
      "memory usage: 126.9+ KB\n",
      "==> None\n",
      "==> File /pdx-hts/Notebooks/patients/ICB1572/gene_abundance.sleuth.csv saved successfully\n",
      "==> Done preprocessing!\n",
      "======================================\n",
      "Step 3: classify_sample\n",
      "======================================\n"
     ]
    },
    {
     "name": "stderr",
     "output_type": "stream",
     "text": [
      "/opt/conda/lib/python3.6/site-packages/pandas/core/series.py:2890: FutureWarning: from_csv is deprecated. Please use read_csv(...) instead. Note that some of the default arguments are different, so please refer to the documentation for from_csv when changing your function calls\n",
      "  infer_datetime_format=infer_datetime_format)\n"
     ]
    },
    {
     "name": "stdout",
     "output_type": "stream",
     "text": [
      "     Cavalli     Cho  Northcott\n",
      "G3    0.4070  0.5376     0.5146\n",
      "G4    0.2295  0.1556     0.2332\n",
      "SHH   0.2280  0.1990     0.1528\n",
      "WNT   0.1355  0.1078     0.0994\n",
      "           Cavalli\n",
      "G3_gamma    0.2091\n",
      "G4_alpha    0.1205\n",
      "SHH_alpha   0.1150\n",
      "G3_alpha    0.1033\n",
      "G3_beta     0.0946\n",
      "WNT_alpha   0.0682\n",
      "WNT_beta    0.0673\n",
      "G4_gamma    0.0568\n",
      "G4_beta     0.0522\n",
      "SHH_gamma   0.0483\n",
      "SHH_delta   0.0411\n",
      "SHH_beta    0.0236\n",
      "           Subtypes     Cho\n",
      "3               SHH  0.1990\n",
      "1            G3-MYC  0.3481\n",
      "6               WNT  0.1078\n",
      "5  G3-photoreceptor  0.1895\n",
      "4          G4-Mixed  0.0885\n",
      "2       G4-neuronal  0.0671\n",
      "==> Done! Move along\n",
      "======================================\n",
      "Step 4: run_discover\n",
      "======================================\n",
      "==> About to perform DiSCoVER.\n"
     ]
    },
    {
     "name": "stderr",
     "output_type": "stream",
     "text": [
      "/opt/conda/lib/python3.6/site-packages/pandas/core/indexing.py:1020: FutureWarning: \n",
      "Passing list-likes to .loc or [] with any missing label will raise\n",
      "KeyError in the future, you can use .reindex() as an alternative.\n",
      "\n",
      "See the documentation here:\n",
      "http://pandas.pydata.org/pandas-docs/stable/indexing.html#deprecate-loc-reindex-listlike\n",
      "  return getattr(section, self.name)[new_key]\n"
     ]
    },
    {
     "name": "stdout",
     "output_type": "stream",
     "text": [
      "==> DiSCoVER done!\n",
      "==> Saving results to file.\n",
      "==> Saving done!\n",
      "==> NOT Restricting to clinically relevant drugs.\n"
     ]
    },
    {
     "name": "stderr",
     "output_type": "stream",
     "text": [
      "/opt/conda/lib/python3.6/site-packages/pandas/util/_decorators.py:118: FutureWarning: The `sheetname` keyword is deprecated, use `sheet_name` instead\n",
      "  return func(*args, **kwargs)\n"
     ]
    },
    {
     "name": "stdout",
     "output_type": "stream",
     "text": [
      "==> Done restricting to clinically relevant drugs!\n",
      "==> Making the DiSCoVER powerpoint.\n",
      "==> Using all of the drugs\n",
      "==> Done making the DiSCoVER powerpoint slide!\n",
      "==> Savig the variables to a file.\n",
      "==> Saving the formatted results of DiSCoVER to a csv\n",
      "==> Done savig the variables to a file!\n",
      "==> Done with all the taks in this cell. Move along.\n",
      "All analyses completed suscessfully with \"patient\" ICB1572\n"
     ]
    }
   ],
   "source": [
    "# \"ICB1572\": \"ICB1572\",\n",
    "run_pipeline(\"ICB1572\")"
   ]
  },
  {
   "cell_type": "code",
   "execution_count": 16,
   "metadata": {
    "ExecuteTime": {
     "end_time": "2018-12-18T14:25:48.087368Z",
     "start_time": "2018-12-18T14:23:03.044771Z"
    }
   },
   "outputs": [
    {
     "name": "stdout",
     "output_type": "stream",
     "text": [
      "======================================\n",
      "Step 1: read_user_input\n",
      "======================================\n",
      "Reminder: if you want to use a custom control expresion, you must set control to 'custom'\n",
      "==> Setting patient_dir = case_id\n",
      "Setup done!\n",
      "======================================\n",
      "Step 2: download_and_preprocess_rnaseq\n",
      "======================================\n",
      "==> Checking if local file (/pdx-hts/Notebooks/data/preprocessed/exp/MB002.csv) exist.\n",
      "==> This file containes the expression of the PDXs. Printing dataframe's info:\n",
      "<class 'pandas.core.frame.DataFrame'>\n",
      "Index: 1 entries, MB002 to MB002\n",
      "Columns: 16247 entries, A1BG to ZZZ3\n",
      "dtypes: float64(16247)\n",
      "memory usage: 126.9+ KB\n",
      "==> None\n",
      "==> File /pdx-hts/Notebooks/patients/MB002/gene_abundance.sleuth.csv saved successfully\n",
      "==> Done preprocessing!\n",
      "======================================\n",
      "Step 3: classify_sample\n",
      "======================================\n"
     ]
    },
    {
     "name": "stderr",
     "output_type": "stream",
     "text": [
      "/opt/conda/lib/python3.6/site-packages/pandas/core/series.py:2890: FutureWarning: from_csv is deprecated. Please use read_csv(...) instead. Note that some of the default arguments are different, so please refer to the documentation for from_csv when changing your function calls\n",
      "  infer_datetime_format=infer_datetime_format)\n"
     ]
    },
    {
     "name": "stdout",
     "output_type": "stream",
     "text": [
      "     Cavalli     Cho  Northcott\n",
      "G3    0.3920  0.4765     0.4839\n",
      "SHH   0.2562  0.2780     0.1794\n",
      "G4    0.2004  0.1332     0.2325\n",
      "WNT   0.1514  0.1123     0.1042\n",
      "           Cavalli\n",
      "G3_gamma    0.2194\n",
      "SHH_alpha   0.1354\n",
      "G4_alpha    0.1023\n",
      "G3_alpha    0.0889\n",
      "G3_beta     0.0837\n",
      "WNT_beta    0.0758\n",
      "WNT_alpha   0.0756\n",
      "G4_gamma    0.0526\n",
      "SHH_delta   0.0506\n",
      "G4_beta     0.0455\n",
      "SHH_gamma   0.0448\n",
      "SHH_beta    0.0254\n",
      "           Subtypes     Cho\n",
      "3               SHH  0.2780\n",
      "1            G3-MYC  0.3458\n",
      "6               WNT  0.1123\n",
      "5  G3-photoreceptor  0.1307\n",
      "4          G4-Mixed  0.0721\n",
      "2       G4-neuronal  0.0611\n",
      "==> Done! Move along\n",
      "======================================\n",
      "Step 4: run_discover\n",
      "======================================\n",
      "==> About to perform DiSCoVER.\n"
     ]
    },
    {
     "name": "stderr",
     "output_type": "stream",
     "text": [
      "/opt/conda/lib/python3.6/site-packages/pandas/core/indexing.py:1020: FutureWarning: \n",
      "Passing list-likes to .loc or [] with any missing label will raise\n",
      "KeyError in the future, you can use .reindex() as an alternative.\n",
      "\n",
      "See the documentation here:\n",
      "http://pandas.pydata.org/pandas-docs/stable/indexing.html#deprecate-loc-reindex-listlike\n",
      "  return getattr(section, self.name)[new_key]\n"
     ]
    },
    {
     "name": "stdout",
     "output_type": "stream",
     "text": [
      "==> DiSCoVER done!\n",
      "==> Saving results to file.\n",
      "==> Saving done!\n",
      "==> NOT Restricting to clinically relevant drugs.\n"
     ]
    },
    {
     "name": "stderr",
     "output_type": "stream",
     "text": [
      "/opt/conda/lib/python3.6/site-packages/pandas/util/_decorators.py:118: FutureWarning: The `sheetname` keyword is deprecated, use `sheet_name` instead\n",
      "  return func(*args, **kwargs)\n"
     ]
    },
    {
     "name": "stdout",
     "output_type": "stream",
     "text": [
      "==> Done restricting to clinically relevant drugs!\n",
      "==> Making the DiSCoVER powerpoint.\n",
      "==> Using all of the drugs\n",
      "==> Done making the DiSCoVER powerpoint slide!\n",
      "==> Savig the variables to a file.\n",
      "==> Saving the formatted results of DiSCoVER to a csv\n",
      "==> Done savig the variables to a file!\n",
      "==> Done with all the taks in this cell. Move along.\n",
      "All analyses completed suscessfully with \"patient\" MB002\n"
     ]
    }
   ],
   "source": [
    "# \"MB002\": \"MB002\",\n",
    "run_pipeline(\"MB002\")"
   ]
  },
  {
   "cell_type": "code",
   "execution_count": 17,
   "metadata": {
    "ExecuteTime": {
     "end_time": "2018-12-18T14:28:36.354237Z",
     "start_time": "2018-12-18T14:25:48.095730Z"
    }
   },
   "outputs": [
    {
     "name": "stdout",
     "output_type": "stream",
     "text": [
      "======================================\n",
      "Step 1: read_user_input\n",
      "======================================\n",
      "Reminder: if you want to use a custom control expresion, you must set control to 'custom'\n",
      "==> Setting patient_dir = case_id\n",
      "Setup done!\n",
      "======================================\n",
      "Step 2: download_and_preprocess_rnaseq\n",
      "======================================\n",
      "==> Checking if local file (/pdx-hts/Notebooks/data/preprocessed/exp/MB009.csv) exist.\n",
      "==> This file containes the expression of the PDXs. Printing dataframe's info:\n",
      "<class 'pandas.core.frame.DataFrame'>\n",
      "Index: 1 entries, MB009 to MB009\n",
      "Columns: 16247 entries, A1BG to ZZZ3\n",
      "dtypes: float64(16247)\n",
      "memory usage: 126.9+ KB\n",
      "==> None\n",
      "==> File /pdx-hts/Notebooks/patients/MB009/gene_abundance.sleuth.csv saved successfully\n",
      "==> Done preprocessing!\n",
      "======================================\n",
      "Step 3: classify_sample\n",
      "======================================\n"
     ]
    },
    {
     "name": "stderr",
     "output_type": "stream",
     "text": [
      "/opt/conda/lib/python3.6/site-packages/pandas/core/series.py:2890: FutureWarning: from_csv is deprecated. Please use read_csv(...) instead. Note that some of the default arguments are different, so please refer to the documentation for from_csv when changing your function calls\n",
      "  infer_datetime_format=infer_datetime_format)\n"
     ]
    },
    {
     "name": "stdout",
     "output_type": "stream",
     "text": [
      "     Cavalli     Cho  Northcott\n",
      "G3    0.5379  0.6753     0.6232\n",
      "SHH   0.1759  0.1212     0.0965\n",
      "G4    0.1583  0.1297     0.2148\n",
      "WNT   0.1279  0.0738     0.0655\n",
      "           Cavalli\n",
      "G3_gamma    0.2673\n",
      "G3_beta     0.1399\n",
      "G3_alpha    0.1307\n",
      "SHH_alpha   0.0803\n",
      "G4_alpha    0.0766\n",
      "WNT_alpha   0.0680\n",
      "WNT_beta    0.0599\n",
      "G4_gamma    0.0510\n",
      "SHH_gamma   0.0405\n",
      "SHH_delta   0.0347\n",
      "G4_beta     0.0307\n",
      "SHH_beta    0.0204\n",
      "           Subtypes     Cho\n",
      "3               SHH  0.1212\n",
      "1            G3-MYC  0.4590\n",
      "6               WNT  0.0738\n",
      "5  G3-photoreceptor  0.2163\n",
      "4          G4-Mixed  0.0764\n",
      "2       G4-neuronal  0.0533\n",
      "==> Done! Move along\n",
      "======================================\n",
      "Step 4: run_discover\n",
      "======================================\n",
      "==> About to perform DiSCoVER.\n"
     ]
    },
    {
     "name": "stderr",
     "output_type": "stream",
     "text": [
      "/opt/conda/lib/python3.6/site-packages/pandas/core/indexing.py:1020: FutureWarning: \n",
      "Passing list-likes to .loc or [] with any missing label will raise\n",
      "KeyError in the future, you can use .reindex() as an alternative.\n",
      "\n",
      "See the documentation here:\n",
      "http://pandas.pydata.org/pandas-docs/stable/indexing.html#deprecate-loc-reindex-listlike\n",
      "  return getattr(section, self.name)[new_key]\n"
     ]
    },
    {
     "name": "stdout",
     "output_type": "stream",
     "text": [
      "==> DiSCoVER done!\n",
      "==> Saving results to file.\n",
      "==> Saving done!\n",
      "==> NOT Restricting to clinically relevant drugs.\n"
     ]
    },
    {
     "name": "stderr",
     "output_type": "stream",
     "text": [
      "/opt/conda/lib/python3.6/site-packages/pandas/util/_decorators.py:118: FutureWarning: The `sheetname` keyword is deprecated, use `sheet_name` instead\n",
      "  return func(*args, **kwargs)\n"
     ]
    },
    {
     "name": "stdout",
     "output_type": "stream",
     "text": [
      "==> Done restricting to clinically relevant drugs!\n",
      "==> Making the DiSCoVER powerpoint.\n",
      "==> Using all of the drugs\n",
      "==> Done making the DiSCoVER powerpoint slide!\n",
      "==> Savig the variables to a file.\n",
      "==> Saving the formatted results of DiSCoVER to a csv\n",
      "==> Done savig the variables to a file!\n",
      "==> Done with all the taks in this cell. Move along.\n",
      "All analyses completed suscessfully with \"patient\" MB009\n"
     ]
    }
   ],
   "source": [
    "# \"MB009\": \"MB009\",\n",
    "run_pipeline(\"MB009\")"
   ]
  },
  {
   "cell_type": "code",
   "execution_count": 18,
   "metadata": {
    "ExecuteTime": {
     "end_time": "2018-12-18T14:31:06.009617Z",
     "start_time": "2018-12-18T14:28:36.360742Z"
    }
   },
   "outputs": [
    {
     "name": "stdout",
     "output_type": "stream",
     "text": [
      "======================================\n",
      "Step 1: read_user_input\n",
      "======================================\n",
      "Reminder: if you want to use a custom control expresion, you must set control to 'custom'\n",
      "==> Setting patient_dir = case_id\n",
      "Setup done!\n",
      "======================================\n",
      "Step 2: download_and_preprocess_rnaseq\n",
      "======================================\n",
      "==> Checking if local file (/pdx-hts/Notebooks/data/preprocessed/exp/MED211.csv) exist.\n",
      "==> This file containes the expression of the PDXs. Printing dataframe's info:\n",
      "<class 'pandas.core.frame.DataFrame'>\n",
      "Index: 1 entries, MED211 to MED211\n",
      "Columns: 16247 entries, A1BG to ZZZ3\n",
      "dtypes: float64(16247)\n",
      "memory usage: 126.9+ KB\n",
      "==> None\n",
      "==> File /pdx-hts/Notebooks/patients/MED211/gene_abundance.sleuth.csv saved successfully\n",
      "==> Done preprocessing!\n",
      "======================================\n",
      "Step 3: classify_sample\n",
      "======================================\n"
     ]
    },
    {
     "name": "stderr",
     "output_type": "stream",
     "text": [
      "/opt/conda/lib/python3.6/site-packages/pandas/core/series.py:2890: FutureWarning: from_csv is deprecated. Please use read_csv(...) instead. Note that some of the default arguments are different, so please refer to the documentation for from_csv when changing your function calls\n",
      "  infer_datetime_format=infer_datetime_format)\n"
     ]
    },
    {
     "name": "stdout",
     "output_type": "stream",
     "text": [
      "     Cavalli     Cho  Northcott\n",
      "G3    0.3530  0.4910     0.4678\n",
      "SHH   0.3138  0.2588     0.1872\n",
      "G4    0.1852  0.1370     0.2286\n",
      "WNT   0.1480  0.1132     0.1164\n",
      "           Cavalli\n",
      "G3_gamma    0.1836\n",
      "SHH_alpha   0.1616\n",
      "G3_beta     0.1001\n",
      "G4_alpha    0.0995\n",
      "WNT_alpha   0.0806\n",
      "G3_alpha    0.0693\n",
      "WNT_beta    0.0674\n",
      "SHH_gamma   0.0659\n",
      "SHH_delta   0.0540\n",
      "G4_gamma    0.0463\n",
      "G4_beta     0.0394\n",
      "SHH_beta    0.0323\n",
      "           Subtypes     Cho\n",
      "3               SHH  0.2588\n",
      "1            G3-MYC  0.3476\n",
      "6               WNT  0.1132\n",
      "5  G3-photoreceptor  0.1434\n",
      "4          G4-Mixed  0.0814\n",
      "2       G4-neuronal  0.0556\n",
      "==> Done! Move along\n",
      "======================================\n",
      "Step 4: run_discover\n",
      "======================================\n",
      "==> About to perform DiSCoVER.\n"
     ]
    },
    {
     "name": "stderr",
     "output_type": "stream",
     "text": [
      "/opt/conda/lib/python3.6/site-packages/pandas/core/indexing.py:1020: FutureWarning: \n",
      "Passing list-likes to .loc or [] with any missing label will raise\n",
      "KeyError in the future, you can use .reindex() as an alternative.\n",
      "\n",
      "See the documentation here:\n",
      "http://pandas.pydata.org/pandas-docs/stable/indexing.html#deprecate-loc-reindex-listlike\n",
      "  return getattr(section, self.name)[new_key]\n"
     ]
    },
    {
     "name": "stdout",
     "output_type": "stream",
     "text": [
      "==> DiSCoVER done!\n",
      "==> Saving results to file.\n",
      "==> Saving done!\n",
      "==> NOT Restricting to clinically relevant drugs.\n"
     ]
    },
    {
     "name": "stderr",
     "output_type": "stream",
     "text": [
      "/opt/conda/lib/python3.6/site-packages/pandas/util/_decorators.py:118: FutureWarning: The `sheetname` keyword is deprecated, use `sheet_name` instead\n",
      "  return func(*args, **kwargs)\n"
     ]
    },
    {
     "name": "stdout",
     "output_type": "stream",
     "text": [
      "==> Done restricting to clinically relevant drugs!\n",
      "==> Making the DiSCoVER powerpoint.\n",
      "==> Using all of the drugs\n",
      "==> Done making the DiSCoVER powerpoint slide!\n",
      "==> Savig the variables to a file.\n",
      "==> Saving the formatted results of DiSCoVER to a csv\n",
      "==> Done savig the variables to a file!\n",
      "==> Done with all the taks in this cell. Move along.\n",
      "All analyses completed suscessfully with \"patient\" MED211\n"
     ]
    }
   ],
   "source": [
    "# \"MED211\": \"MED211\",\n",
    "run_pipeline(\"MED211\")"
   ]
  },
  {
   "cell_type": "code",
   "execution_count": 19,
   "metadata": {
    "ExecuteTime": {
     "end_time": "2018-12-18T14:33:36.826139Z",
     "start_time": "2018-12-18T14:31:06.012101Z"
    }
   },
   "outputs": [
    {
     "name": "stdout",
     "output_type": "stream",
     "text": [
      "======================================\n",
      "Step 1: read_user_input\n",
      "======================================\n",
      "Reminder: if you want to use a custom control expresion, you must set control to 'custom'\n",
      "==> Setting patient_dir = case_id\n",
      "Setup done!\n",
      "======================================\n",
      "Step 2: download_and_preprocess_rnaseq\n",
      "======================================\n",
      "==> Checking if local file (/pdx-hts/Notebooks/data/preprocessed/exp/MED411.csv) exist.\n",
      "==> This file containes the expression of the PDXs. Printing dataframe's info:\n",
      "<class 'pandas.core.frame.DataFrame'>\n",
      "Index: 1 entries, MED411 to MED411\n",
      "Columns: 16247 entries, A1BG to ZZZ3\n",
      "dtypes: float64(16247)\n",
      "memory usage: 126.9+ KB\n",
      "==> None\n",
      "==> File /pdx-hts/Notebooks/patients/MED411/gene_abundance.sleuth.csv saved successfully\n",
      "==> Done preprocessing!\n",
      "======================================\n",
      "Step 3: classify_sample\n",
      "======================================\n"
     ]
    },
    {
     "name": "stderr",
     "output_type": "stream",
     "text": [
      "/opt/conda/lib/python3.6/site-packages/pandas/core/series.py:2890: FutureWarning: from_csv is deprecated. Please use read_csv(...) instead. Note that some of the default arguments are different, so please refer to the documentation for from_csv when changing your function calls\n",
      "  infer_datetime_format=infer_datetime_format)\n"
     ]
    },
    {
     "name": "stdout",
     "output_type": "stream",
     "text": [
      "     Cavalli     Cho  Northcott\n",
      "G3    0.4931  0.6395     0.5700\n",
      "SHH   0.2033  0.1375     0.0934\n",
      "G4    0.1572  0.1374     0.2508\n",
      "WNT   0.1464  0.0856     0.0858\n",
      "           Cavalli\n",
      "G3_gamma    0.2687\n",
      "G3_beta     0.1160\n",
      "G3_alpha    0.1084\n",
      "SHH_alpha   0.0978\n",
      "G4_alpha    0.0802\n",
      "WNT_alpha   0.0761\n",
      "WNT_beta    0.0703\n",
      "SHH_delta   0.0473\n",
      "G4_gamma    0.0426\n",
      "SHH_gamma   0.0395\n",
      "G4_beta     0.0344\n",
      "SHH_beta    0.0187\n",
      "           Subtypes     Cho\n",
      "3               SHH  0.1375\n",
      "1            G3-MYC  0.4615\n",
      "6               WNT  0.0856\n",
      "5  G3-photoreceptor  0.1780\n",
      "4          G4-Mixed  0.0782\n",
      "2       G4-neuronal  0.0592\n",
      "==> Done! Move along\n",
      "======================================\n",
      "Step 4: run_discover\n",
      "======================================\n",
      "==> About to perform DiSCoVER.\n"
     ]
    },
    {
     "name": "stderr",
     "output_type": "stream",
     "text": [
      "/opt/conda/lib/python3.6/site-packages/pandas/core/indexing.py:1020: FutureWarning: \n",
      "Passing list-likes to .loc or [] with any missing label will raise\n",
      "KeyError in the future, you can use .reindex() as an alternative.\n",
      "\n",
      "See the documentation here:\n",
      "http://pandas.pydata.org/pandas-docs/stable/indexing.html#deprecate-loc-reindex-listlike\n",
      "  return getattr(section, self.name)[new_key]\n"
     ]
    },
    {
     "name": "stdout",
     "output_type": "stream",
     "text": [
      "==> DiSCoVER done!\n",
      "==> Saving results to file.\n",
      "==> Saving done!\n",
      "==> NOT Restricting to clinically relevant drugs.\n"
     ]
    },
    {
     "name": "stderr",
     "output_type": "stream",
     "text": [
      "/opt/conda/lib/python3.6/site-packages/pandas/util/_decorators.py:118: FutureWarning: The `sheetname` keyword is deprecated, use `sheet_name` instead\n",
      "  return func(*args, **kwargs)\n"
     ]
    },
    {
     "name": "stdout",
     "output_type": "stream",
     "text": [
      "==> Done restricting to clinically relevant drugs!\n",
      "==> Making the DiSCoVER powerpoint.\n",
      "==> Using all of the drugs\n",
      "==> Done making the DiSCoVER powerpoint slide!\n",
      "==> Savig the variables to a file.\n",
      "==> Saving the formatted results of DiSCoVER to a csv\n",
      "==> Done savig the variables to a file!\n",
      "==> Done with all the taks in this cell. Move along.\n",
      "All analyses completed suscessfully with \"patient\" MED411\n"
     ]
    }
   ],
   "source": [
    "# \"MED411\": \"MED411\",\n",
    "run_pipeline(\"MED411\")"
   ]
  },
  {
   "cell_type": "code",
   "execution_count": 20,
   "metadata": {
    "ExecuteTime": {
     "end_time": "2018-12-18T14:36:09.190522Z",
     "start_time": "2018-12-18T14:33:36.831739Z"
    }
   },
   "outputs": [
    {
     "name": "stdout",
     "output_type": "stream",
     "text": [
      "======================================\n",
      "Step 1: read_user_input\n",
      "======================================\n",
      "Reminder: if you want to use a custom control expresion, you must set control to 'custom'\n",
      "==> Setting patient_dir = case_id\n",
      "Setup done!\n",
      "======================================\n",
      "Step 2: download_and_preprocess_rnaseq\n",
      "======================================\n",
      "==> Checking if local file (/pdx-hts/Notebooks/data/preprocessed/exp/MED1712.csv) exist.\n",
      "==> This file containes the expression of the PDXs. Printing dataframe's info:\n",
      "<class 'pandas.core.frame.DataFrame'>\n",
      "Index: 1 entries, MED1712 to MED1712\n",
      "Columns: 16247 entries, A1BG to ZZZ3\n",
      "dtypes: float64(16247)\n",
      "memory usage: 126.9+ KB\n",
      "==> None\n",
      "==> File /pdx-hts/Notebooks/patients/MED1712/gene_abundance.sleuth.csv saved successfully\n",
      "==> Done preprocessing!\n",
      "======================================\n",
      "Step 3: classify_sample\n",
      "======================================\n"
     ]
    },
    {
     "name": "stderr",
     "output_type": "stream",
     "text": [
      "/opt/conda/lib/python3.6/site-packages/pandas/core/series.py:2890: FutureWarning: from_csv is deprecated. Please use read_csv(...) instead. Note that some of the default arguments are different, so please refer to the documentation for from_csv when changing your function calls\n",
      "  infer_datetime_format=infer_datetime_format)\n"
     ]
    },
    {
     "name": "stdout",
     "output_type": "stream",
     "text": [
      "     Cavalli     Cho  Northcott\n",
      "SHH   0.6349  0.8259     0.7436\n",
      "G3    0.1333  0.0798     0.1033\n",
      "G4    0.1193  0.0483     0.0857\n",
      "WNT   0.1125  0.0460     0.0674\n",
      "           Cavalli\n",
      "SHH_alpha   0.3480\n",
      "SHH_delta   0.1143\n",
      "SHH_gamma   0.1059\n",
      "SHH_beta    0.0667\n",
      "G4_alpha    0.0659\n",
      "WNT_alpha   0.0617\n",
      "G3_gamma    0.0599\n",
      "WNT_beta    0.0508\n",
      "G3_beta     0.0446\n",
      "G3_alpha    0.0288\n",
      "G4_gamma    0.0284\n",
      "G4_beta     0.0250\n",
      "           Subtypes     Cho\n",
      "3               SHH  0.8259\n",
      "1            G3-MYC  0.0580\n",
      "6               WNT  0.0460\n",
      "5  G3-photoreceptor  0.0218\n",
      "4          G4-Mixed  0.0264\n",
      "2       G4-neuronal  0.0219\n",
      "==> Done! Move along\n",
      "======================================\n",
      "Step 4: run_discover\n",
      "======================================\n",
      "==> About to perform DiSCoVER.\n"
     ]
    },
    {
     "name": "stderr",
     "output_type": "stream",
     "text": [
      "/opt/conda/lib/python3.6/site-packages/pandas/core/indexing.py:1020: FutureWarning: \n",
      "Passing list-likes to .loc or [] with any missing label will raise\n",
      "KeyError in the future, you can use .reindex() as an alternative.\n",
      "\n",
      "See the documentation here:\n",
      "http://pandas.pydata.org/pandas-docs/stable/indexing.html#deprecate-loc-reindex-listlike\n",
      "  return getattr(section, self.name)[new_key]\n"
     ]
    },
    {
     "name": "stdout",
     "output_type": "stream",
     "text": [
      "==> DiSCoVER done!\n",
      "==> Saving results to file.\n",
      "==> Saving done!\n",
      "==> NOT Restricting to clinically relevant drugs.\n"
     ]
    },
    {
     "name": "stderr",
     "output_type": "stream",
     "text": [
      "/opt/conda/lib/python3.6/site-packages/pandas/util/_decorators.py:118: FutureWarning: The `sheetname` keyword is deprecated, use `sheet_name` instead\n",
      "  return func(*args, **kwargs)\n"
     ]
    },
    {
     "name": "stdout",
     "output_type": "stream",
     "text": [
      "==> Done restricting to clinically relevant drugs!\n",
      "==> Making the DiSCoVER powerpoint.\n",
      "==> Using all of the drugs\n",
      "==> Done making the DiSCoVER powerpoint slide!\n",
      "==> Savig the variables to a file.\n",
      "==> Saving the formatted results of DiSCoVER to a csv\n",
      "==> Done savig the variables to a file!\n",
      "==> Done with all the taks in this cell. Move along.\n",
      "All analyses completed suscessfully with \"patient\" MED1712\n"
     ]
    }
   ],
   "source": [
    "# \"MED1712\": \"MED1712\",\n",
    "run_pipeline(\"MED1712\")"
   ]
  },
  {
   "cell_type": "code",
   "execution_count": 21,
   "metadata": {
    "ExecuteTime": {
     "end_time": "2018-12-18T14:38:39.972979Z",
     "start_time": "2018-12-18T14:36:09.193634Z"
    }
   },
   "outputs": [
    {
     "name": "stdout",
     "output_type": "stream",
     "text": [
      "======================================\n",
      "Step 1: read_user_input\n",
      "======================================\n",
      "Reminder: if you want to use a custom control expresion, you must set control to 'custom'\n",
      "==> Setting patient_dir = case_id\n",
      "Setup done!\n",
      "======================================\n",
      "Step 2: download_and_preprocess_rnaseq\n",
      "======================================\n",
      "==> Checking if local file (/pdx-hts/Notebooks/data/preprocessed/exp/MED1911.csv) exist.\n",
      "==> This file containes the expression of the PDXs. Printing dataframe's info:\n",
      "<class 'pandas.core.frame.DataFrame'>\n",
      "Index: 1 entries, MED1911 to MED1911\n",
      "Columns: 16247 entries, A1BG to ZZZ3\n",
      "dtypes: float64(16247)\n",
      "memory usage: 126.9+ KB\n",
      "==> None\n",
      "==> File /pdx-hts/Notebooks/patients/MED1911/gene_abundance.sleuth.csv saved successfully\n",
      "==> Done preprocessing!\n",
      "======================================\n",
      "Step 3: classify_sample\n",
      "======================================\n"
     ]
    },
    {
     "name": "stderr",
     "output_type": "stream",
     "text": [
      "/opt/conda/lib/python3.6/site-packages/pandas/core/series.py:2890: FutureWarning: from_csv is deprecated. Please use read_csv(...) instead. Note that some of the default arguments are different, so please refer to the documentation for from_csv when changing your function calls\n",
      "  infer_datetime_format=infer_datetime_format)\n"
     ]
    },
    {
     "name": "stdout",
     "output_type": "stream",
     "text": [
      "     Cavalli     Cho  Northcott\n",
      "G3    0.5167  0.6678     0.5936\n",
      "G4    0.1894  0.1501     0.2606\n",
      "SHH   0.1680  0.1188     0.0847\n",
      "WNT   0.1259  0.0633     0.0611\n",
      "           Cavalli\n",
      "G3_gamma    0.2010\n",
      "G3_alpha    0.1977\n",
      "G3_beta     0.1180\n",
      "G4_alpha    0.0947\n",
      "SHH_alpha   0.0784\n",
      "WNT_alpha   0.0661\n",
      "WNT_beta    0.0598\n",
      "G4_gamma    0.0588\n",
      "SHH_gamma   0.0388\n",
      "G4_beta     0.0359\n",
      "SHH_delta   0.0297\n",
      "SHH_beta    0.0211\n",
      "           Subtypes     Cho\n",
      "3               SHH  0.1188\n",
      "1            G3-MYC  0.3713\n",
      "6               WNT  0.0633\n",
      "5  G3-photoreceptor  0.2965\n",
      "4          G4-Mixed  0.0910\n",
      "2       G4-neuronal  0.0591\n",
      "==> Done! Move along\n",
      "======================================\n",
      "Step 4: run_discover\n",
      "======================================\n",
      "==> About to perform DiSCoVER.\n"
     ]
    },
    {
     "name": "stderr",
     "output_type": "stream",
     "text": [
      "/opt/conda/lib/python3.6/site-packages/pandas/core/indexing.py:1020: FutureWarning: \n",
      "Passing list-likes to .loc or [] with any missing label will raise\n",
      "KeyError in the future, you can use .reindex() as an alternative.\n",
      "\n",
      "See the documentation here:\n",
      "http://pandas.pydata.org/pandas-docs/stable/indexing.html#deprecate-loc-reindex-listlike\n",
      "  return getattr(section, self.name)[new_key]\n"
     ]
    },
    {
     "name": "stdout",
     "output_type": "stream",
     "text": [
      "==> DiSCoVER done!\n",
      "==> Saving results to file.\n",
      "==> Saving done!\n",
      "==> NOT Restricting to clinically relevant drugs.\n"
     ]
    },
    {
     "name": "stderr",
     "output_type": "stream",
     "text": [
      "/opt/conda/lib/python3.6/site-packages/pandas/util/_decorators.py:118: FutureWarning: The `sheetname` keyword is deprecated, use `sheet_name` instead\n",
      "  return func(*args, **kwargs)\n"
     ]
    },
    {
     "name": "stdout",
     "output_type": "stream",
     "text": [
      "==> Done restricting to clinically relevant drugs!\n",
      "==> Making the DiSCoVER powerpoint.\n",
      "==> Using all of the drugs\n",
      "==> Done making the DiSCoVER powerpoint slide!\n",
      "==> Savig the variables to a file.\n",
      "==> Saving the formatted results of DiSCoVER to a csv\n",
      "==> Done savig the variables to a file!\n",
      "==> Done with all the taks in this cell. Move along.\n",
      "All analyses completed suscessfully with \"patient\" MED1911\n"
     ]
    }
   ],
   "source": [
    "# \"MED1911\": \"MED1911\",\n",
    "run_pipeline(\"MED1911\")"
   ]
  },
  {
   "cell_type": "code",
   "execution_count": 22,
   "metadata": {
    "ExecuteTime": {
     "end_time": "2018-12-18T14:41:10.352704Z",
     "start_time": "2018-12-18T14:38:39.977263Z"
    }
   },
   "outputs": [
    {
     "name": "stdout",
     "output_type": "stream",
     "text": [
      "======================================\n",
      "Step 1: read_user_input\n",
      "======================================\n",
      "Reminder: if you want to use a custom control expresion, you must set control to 'custom'\n",
      "==> Setting patient_dir = case_id\n",
      "Setup done!\n",
      "======================================\n",
      "Step 2: download_and_preprocess_rnaseq\n",
      "======================================\n",
      "==> Checking if local file (/pdx-hts/Notebooks/data/preprocessed/exp/MED2312.csv) exist.\n",
      "==> This file containes the expression of the PDXs. Printing dataframe's info:\n",
      "<class 'pandas.core.frame.DataFrame'>\n",
      "Index: 1 entries, MED2312 to MED2312\n",
      "Columns: 16247 entries, A1BG to ZZZ3\n",
      "dtypes: float64(16247)\n",
      "memory usage: 126.9+ KB\n",
      "==> None\n",
      "==> File /pdx-hts/Notebooks/patients/MED2312/gene_abundance.sleuth.csv saved successfully\n",
      "==> Done preprocessing!\n",
      "======================================\n",
      "Step 3: classify_sample\n",
      "======================================\n"
     ]
    },
    {
     "name": "stderr",
     "output_type": "stream",
     "text": [
      "/opt/conda/lib/python3.6/site-packages/pandas/core/series.py:2890: FutureWarning: from_csv is deprecated. Please use read_csv(...) instead. Note that some of the default arguments are different, so please refer to the documentation for from_csv when changing your function calls\n",
      "  infer_datetime_format=infer_datetime_format)\n"
     ]
    },
    {
     "name": "stdout",
     "output_type": "stream",
     "text": [
      "     Cavalli     Cho  Northcott\n",
      "G4    0.3566  0.3127     0.3420\n",
      "G3    0.3466  0.4662     0.4647\n",
      "SHH   0.2075  0.1429     0.1196\n",
      "WNT   0.0893  0.0782     0.0737\n",
      "           Cavalli\n",
      "G4_alpha    0.2114\n",
      "G3_gamma    0.1422\n",
      "G3_beta     0.1187\n",
      "SHH_alpha   0.1003\n",
      "G3_alpha    0.0857\n",
      "G4_gamma    0.0770\n",
      "G4_beta     0.0682\n",
      "WNT_beta    0.0487\n",
      "SHH_gamma   0.0444\n",
      "WNT_alpha   0.0406\n",
      "SHH_delta   0.0365\n",
      "SHH_beta    0.0263\n",
      "           Subtypes     Cho\n",
      "3               SHH  0.1429\n",
      "1            G3-MYC  0.2868\n",
      "6               WNT  0.0782\n",
      "5  G3-photoreceptor  0.1794\n",
      "4          G4-Mixed  0.2002\n",
      "2       G4-neuronal  0.1125\n",
      "==> Done! Move along\n",
      "======================================\n",
      "Step 4: run_discover\n",
      "======================================\n",
      "==> About to perform DiSCoVER.\n"
     ]
    },
    {
     "name": "stderr",
     "output_type": "stream",
     "text": [
      "/opt/conda/lib/python3.6/site-packages/pandas/core/indexing.py:1020: FutureWarning: \n",
      "Passing list-likes to .loc or [] with any missing label will raise\n",
      "KeyError in the future, you can use .reindex() as an alternative.\n",
      "\n",
      "See the documentation here:\n",
      "http://pandas.pydata.org/pandas-docs/stable/indexing.html#deprecate-loc-reindex-listlike\n",
      "  return getattr(section, self.name)[new_key]\n"
     ]
    },
    {
     "name": "stdout",
     "output_type": "stream",
     "text": [
      "==> DiSCoVER done!\n",
      "==> Saving results to file.\n",
      "==> Saving done!\n",
      "==> NOT Restricting to clinically relevant drugs.\n"
     ]
    },
    {
     "name": "stderr",
     "output_type": "stream",
     "text": [
      "/opt/conda/lib/python3.6/site-packages/pandas/util/_decorators.py:118: FutureWarning: The `sheetname` keyword is deprecated, use `sheet_name` instead\n",
      "  return func(*args, **kwargs)\n"
     ]
    },
    {
     "name": "stdout",
     "output_type": "stream",
     "text": [
      "==> Done restricting to clinically relevant drugs!\n",
      "==> Making the DiSCoVER powerpoint.\n",
      "==> Using all of the drugs\n",
      "==> Done making the DiSCoVER powerpoint slide!\n",
      "==> Savig the variables to a file.\n",
      "==> Saving the formatted results of DiSCoVER to a csv\n",
      "==> Done savig the variables to a file!\n",
      "==> Done with all the taks in this cell. Move along.\n",
      "All analyses completed suscessfully with \"patient\" MED2312\n"
     ]
    }
   ],
   "source": [
    "# \"MED2312\": \"MED2312\",\n",
    "run_pipeline(\"MED2312\")"
   ]
  },
  {
   "cell_type": "code",
   "execution_count": 23,
   "metadata": {
    "ExecuteTime": {
     "end_time": "2018-12-18T14:43:40.079422Z",
     "start_time": "2018-12-18T14:41:10.355767Z"
    }
   },
   "outputs": [
    {
     "name": "stdout",
     "output_type": "stream",
     "text": [
      "======================================\n",
      "Step 1: read_user_input\n",
      "======================================\n",
      "Reminder: if you want to use a custom control expresion, you must set control to 'custom'\n",
      "==> Setting patient_dir = case_id\n",
      "Setup done!\n",
      "======================================\n",
      "Step 2: download_and_preprocess_rnaseq\n",
      "======================================\n",
      "==> Checking if local file (/pdx-hts/Notebooks/data/preprocessed/exp/RCMB18.csv) exist.\n",
      "==> This file containes the expression of the PDXs. Printing dataframe's info:\n",
      "<class 'pandas.core.frame.DataFrame'>\n",
      "Index: 1 entries, RCMB18 to RCMB18\n",
      "Columns: 16247 entries, A1BG to ZZZ3\n",
      "dtypes: float64(16247)\n",
      "memory usage: 126.9+ KB\n",
      "==> None\n",
      "==> File /pdx-hts/Notebooks/patients/RCMB18/gene_abundance.sleuth.csv saved successfully\n",
      "==> Done preprocessing!\n",
      "======================================\n",
      "Step 3: classify_sample\n",
      "======================================\n"
     ]
    },
    {
     "name": "stderr",
     "output_type": "stream",
     "text": [
      "/opt/conda/lib/python3.6/site-packages/pandas/core/series.py:2890: FutureWarning: from_csv is deprecated. Please use read_csv(...) instead. Note that some of the default arguments are different, so please refer to the documentation for from_csv when changing your function calls\n",
      "  infer_datetime_format=infer_datetime_format)\n"
     ]
    },
    {
     "name": "stdout",
     "output_type": "stream",
     "text": [
      "     Cavalli     Cho  Northcott\n",
      "SHH   0.5419  0.5989     0.5614\n",
      "G3    0.1889  0.2016     0.1955\n",
      "WNT   0.1428  0.0853     0.0888\n",
      "G4    0.1264  0.1142     0.1543\n",
      "           Cavalli\n",
      "SHH_alpha   0.3039\n",
      "SHH_delta   0.1044\n",
      "G3_gamma    0.0921\n",
      "SHH_gamma   0.0814\n",
      "WNT_alpha   0.0767\n",
      "G4_alpha    0.0732\n",
      "WNT_beta    0.0661\n",
      "G3_beta     0.0544\n",
      "SHH_beta    0.0522\n",
      "G3_alpha    0.0424\n",
      "G4_gamma    0.0277\n",
      "G4_beta     0.0255\n",
      "           Subtypes     Cho\n",
      "3               SHH  0.5989\n",
      "1            G3-MYC  0.1400\n",
      "6               WNT  0.0853\n",
      "5  G3-photoreceptor  0.0616\n",
      "4          G4-Mixed  0.0703\n",
      "2       G4-neuronal  0.0439\n",
      "==> Done! Move along\n",
      "======================================\n",
      "Step 4: run_discover\n",
      "======================================\n",
      "==> About to perform DiSCoVER.\n"
     ]
    },
    {
     "name": "stderr",
     "output_type": "stream",
     "text": [
      "/opt/conda/lib/python3.6/site-packages/pandas/core/indexing.py:1020: FutureWarning: \n",
      "Passing list-likes to .loc or [] with any missing label will raise\n",
      "KeyError in the future, you can use .reindex() as an alternative.\n",
      "\n",
      "See the documentation here:\n",
      "http://pandas.pydata.org/pandas-docs/stable/indexing.html#deprecate-loc-reindex-listlike\n",
      "  return getattr(section, self.name)[new_key]\n"
     ]
    },
    {
     "name": "stdout",
     "output_type": "stream",
     "text": [
      "==> DiSCoVER done!\n",
      "==> Saving results to file.\n",
      "==> Saving done!\n",
      "==> NOT Restricting to clinically relevant drugs.\n"
     ]
    },
    {
     "name": "stderr",
     "output_type": "stream",
     "text": [
      "/opt/conda/lib/python3.6/site-packages/pandas/util/_decorators.py:118: FutureWarning: The `sheetname` keyword is deprecated, use `sheet_name` instead\n",
      "  return func(*args, **kwargs)\n"
     ]
    },
    {
     "name": "stdout",
     "output_type": "stream",
     "text": [
      "==> Done restricting to clinically relevant drugs!\n",
      "==> Making the DiSCoVER powerpoint.\n",
      "==> Using all of the drugs\n",
      "==> Done making the DiSCoVER powerpoint slide!\n",
      "==> Savig the variables to a file.\n",
      "==> Saving the formatted results of DiSCoVER to a csv\n",
      "==> Done savig the variables to a file!\n",
      "==> Done with all the taks in this cell. Move along.\n",
      "All analyses completed suscessfully with \"patient\" RCMB18\n"
     ]
    }
   ],
   "source": [
    "# \"RCMB18\": \"RCMB18\",\n",
    "run_pipeline(\"RCMB18\")"
   ]
  },
  {
   "cell_type": "code",
   "execution_count": 24,
   "metadata": {
    "ExecuteTime": {
     "end_time": "2018-12-18T14:46:20.487729Z",
     "start_time": "2018-12-18T14:43:40.083764Z"
    }
   },
   "outputs": [
    {
     "name": "stdout",
     "output_type": "stream",
     "text": [
      "======================================\n",
      "Step 1: read_user_input\n",
      "======================================\n",
      "Reminder: if you want to use a custom control expresion, you must set control to 'custom'\n",
      "==> Setting patient_dir = case_id\n",
      "Setup done!\n",
      "======================================\n",
      "Step 2: download_and_preprocess_rnaseq\n",
      "======================================\n",
      "==> Checking if local file (/pdx-hts/Notebooks/data/preprocessed/exp/RCMB20.csv) exist.\n",
      "==> This file containes the expression of the PDXs. Printing dataframe's info:\n",
      "<class 'pandas.core.frame.DataFrame'>\n",
      "Index: 1 entries, RCMB20 to RCMB20\n",
      "Columns: 16247 entries, A1BG to ZZZ3\n",
      "dtypes: float64(16247)\n",
      "memory usage: 126.9+ KB\n",
      "==> None\n",
      "==> File /pdx-hts/Notebooks/patients/RCMB20/gene_abundance.sleuth.csv saved successfully\n",
      "==> Done preprocessing!\n",
      "======================================\n",
      "Step 3: classify_sample\n",
      "======================================\n"
     ]
    },
    {
     "name": "stderr",
     "output_type": "stream",
     "text": [
      "/opt/conda/lib/python3.6/site-packages/pandas/core/series.py:2890: FutureWarning: from_csv is deprecated. Please use read_csv(...) instead. Note that some of the default arguments are different, so please refer to the documentation for from_csv when changing your function calls\n",
      "  infer_datetime_format=infer_datetime_format)\n"
     ]
    },
    {
     "name": "stdout",
     "output_type": "stream",
     "text": [
      "     Cavalli     Cho  Northcott\n",
      "G3    0.5179  0.6719     0.5700\n",
      "G4    0.1694  0.1453     0.2650\n",
      "SHH   0.1598  0.1002     0.0897\n",
      "WNT   0.1529  0.0826     0.0753\n",
      "           Cavalli\n",
      "G3_gamma    0.2554\n",
      "G3_beta     0.1326\n",
      "G3_alpha    0.1299\n",
      "G4_alpha    0.0846\n",
      "WNT_alpha   0.0830\n",
      "SHH_alpha   0.0778\n",
      "WNT_beta    0.0699\n",
      "G4_gamma    0.0519\n",
      "SHH_gamma   0.0349\n",
      "G4_beta     0.0329\n",
      "SHH_delta   0.0307\n",
      "SHH_beta    0.0164\n",
      "           Subtypes     Cho\n",
      "3               SHH  0.1002\n",
      "1            G3-MYC  0.4437\n",
      "6               WNT  0.0826\n",
      "5  G3-photoreceptor  0.2282\n",
      "4          G4-Mixed  0.0865\n",
      "2       G4-neuronal  0.0588\n",
      "==> Done! Move along\n",
      "======================================\n",
      "Step 4: run_discover\n",
      "======================================\n",
      "==> About to perform DiSCoVER.\n"
     ]
    },
    {
     "name": "stderr",
     "output_type": "stream",
     "text": [
      "/opt/conda/lib/python3.6/site-packages/pandas/core/indexing.py:1020: FutureWarning: \n",
      "Passing list-likes to .loc or [] with any missing label will raise\n",
      "KeyError in the future, you can use .reindex() as an alternative.\n",
      "\n",
      "See the documentation here:\n",
      "http://pandas.pydata.org/pandas-docs/stable/indexing.html#deprecate-loc-reindex-listlike\n",
      "  return getattr(section, self.name)[new_key]\n"
     ]
    },
    {
     "name": "stdout",
     "output_type": "stream",
     "text": [
      "==> DiSCoVER done!\n",
      "==> Saving results to file.\n",
      "==> Saving done!\n",
      "==> NOT Restricting to clinically relevant drugs.\n"
     ]
    },
    {
     "name": "stderr",
     "output_type": "stream",
     "text": [
      "/opt/conda/lib/python3.6/site-packages/pandas/util/_decorators.py:118: FutureWarning: The `sheetname` keyword is deprecated, use `sheet_name` instead\n",
      "  return func(*args, **kwargs)\n"
     ]
    },
    {
     "name": "stdout",
     "output_type": "stream",
     "text": [
      "==> Done restricting to clinically relevant drugs!\n",
      "==> Making the DiSCoVER powerpoint.\n",
      "==> Using all of the drugs\n",
      "==> Done making the DiSCoVER powerpoint slide!\n",
      "==> Savig the variables to a file.\n",
      "==> Saving the formatted results of DiSCoVER to a csv\n",
      "==> Done savig the variables to a file!\n",
      "==> Done with all the taks in this cell. Move along.\n",
      "All analyses completed suscessfully with \"patient\" RCMB20\n"
     ]
    }
   ],
   "source": [
    "# \"RCMB20\": \"RCMB20\",\n",
    "run_pipeline(\"RCMB20\")"
   ]
  },
  {
   "cell_type": "code",
   "execution_count": 25,
   "metadata": {
    "ExecuteTime": {
     "end_time": "2018-12-18T14:48:53.867957Z",
     "start_time": "2018-12-18T14:46:20.495015Z"
    }
   },
   "outputs": [
    {
     "name": "stdout",
     "output_type": "stream",
     "text": [
      "======================================\n",
      "Step 1: read_user_input\n",
      "======================================\n",
      "Reminder: if you want to use a custom control expresion, you must set control to 'custom'\n",
      "==> Setting patient_dir = case_id\n",
      "Setup done!\n",
      "======================================\n",
      "Step 2: download_and_preprocess_rnaseq\n",
      "======================================\n",
      "==> Checking if local file (/pdx-hts/Notebooks/data/preprocessed/exp/RCMB24.csv) exist.\n",
      "==> This file containes the expression of the PDXs. Printing dataframe's info:\n",
      "<class 'pandas.core.frame.DataFrame'>\n",
      "Index: 1 entries, RCMB24 to RCMB24\n",
      "Columns: 16247 entries, A1BG to ZZZ3\n",
      "dtypes: float64(16247)\n",
      "memory usage: 126.9+ KB\n",
      "==> None\n",
      "==> File /pdx-hts/Notebooks/patients/RCMB24/gene_abundance.sleuth.csv saved successfully\n",
      "==> Done preprocessing!\n",
      "======================================\n",
      "Step 3: classify_sample\n",
      "======================================\n"
     ]
    },
    {
     "name": "stderr",
     "output_type": "stream",
     "text": [
      "/opt/conda/lib/python3.6/site-packages/pandas/core/series.py:2890: FutureWarning: from_csv is deprecated. Please use read_csv(...) instead. Note that some of the default arguments are different, so please refer to the documentation for from_csv when changing your function calls\n",
      "  infer_datetime_format=infer_datetime_format)\n"
     ]
    },
    {
     "name": "stdout",
     "output_type": "stream",
     "text": [
      "     Cavalli     Cho  Northcott\n",
      "SHH   0.6501  0.7451     0.7121\n",
      "WNT   0.1322  0.0620     0.0779\n",
      "G3    0.1225  0.1258     0.1196\n",
      "G4    0.0952  0.0671     0.0904\n",
      "           Cavalli\n",
      "SHH_alpha   0.3869\n",
      "SHH_delta   0.1288\n",
      "SHH_gamma   0.0850\n",
      "WNT_alpha   0.0691\n",
      "WNT_beta    0.0631\n",
      "G3_gamma    0.0616\n",
      "G4_alpha    0.0536\n",
      "SHH_beta    0.0494\n",
      "G3_beta     0.0346\n",
      "G3_alpha    0.0263\n",
      "G4_beta     0.0227\n",
      "G4_gamma    0.0189\n",
      "           Subtypes     Cho\n",
      "3               SHH  0.7451\n",
      "1            G3-MYC  0.0879\n",
      "6               WNT  0.0620\n",
      "5  G3-photoreceptor  0.0379\n",
      "4          G4-Mixed  0.0361\n",
      "2       G4-neuronal  0.0310\n",
      "==> Done! Move along\n",
      "======================================\n",
      "Step 4: run_discover\n",
      "======================================\n",
      "==> About to perform DiSCoVER.\n"
     ]
    },
    {
     "name": "stderr",
     "output_type": "stream",
     "text": [
      "/opt/conda/lib/python3.6/site-packages/pandas/core/indexing.py:1020: FutureWarning: \n",
      "Passing list-likes to .loc or [] with any missing label will raise\n",
      "KeyError in the future, you can use .reindex() as an alternative.\n",
      "\n",
      "See the documentation here:\n",
      "http://pandas.pydata.org/pandas-docs/stable/indexing.html#deprecate-loc-reindex-listlike\n",
      "  return getattr(section, self.name)[new_key]\n"
     ]
    },
    {
     "name": "stdout",
     "output_type": "stream",
     "text": [
      "==> DiSCoVER done!\n",
      "==> Saving results to file.\n",
      "==> Saving done!\n",
      "==> NOT Restricting to clinically relevant drugs.\n"
     ]
    },
    {
     "name": "stderr",
     "output_type": "stream",
     "text": [
      "/opt/conda/lib/python3.6/site-packages/pandas/util/_decorators.py:118: FutureWarning: The `sheetname` keyword is deprecated, use `sheet_name` instead\n",
      "  return func(*args, **kwargs)\n"
     ]
    },
    {
     "name": "stdout",
     "output_type": "stream",
     "text": [
      "==> Done restricting to clinically relevant drugs!\n",
      "==> Making the DiSCoVER powerpoint.\n",
      "==> Using all of the drugs\n",
      "==> Done making the DiSCoVER powerpoint slide!\n",
      "==> Savig the variables to a file.\n",
      "==> Saving the formatted results of DiSCoVER to a csv\n",
      "==> Done savig the variables to a file!\n",
      "==> Done with all the taks in this cell. Move along.\n",
      "All analyses completed suscessfully with \"patient\" RCMB24\n"
     ]
    }
   ],
   "source": [
    "# \"RCMB24\": \"RCMB24\",\n",
    "run_pipeline(\"RCMB24\")"
   ]
  },
  {
   "cell_type": "code",
   "execution_count": 26,
   "metadata": {
    "ExecuteTime": {
     "end_time": "2018-12-18T14:51:40.961524Z",
     "start_time": "2018-12-18T14:48:53.880869Z"
    }
   },
   "outputs": [
    {
     "name": "stdout",
     "output_type": "stream",
     "text": [
      "======================================\n",
      "Step 1: read_user_input\n",
      "======================================\n",
      "Reminder: if you want to use a custom control expresion, you must set control to 'custom'\n",
      "==> Setting patient_dir = case_id\n",
      "Setup done!\n",
      "======================================\n",
      "Step 2: download_and_preprocess_rnaseq\n",
      "======================================\n",
      "==> Checking if local file (/pdx-hts/Notebooks/data/preprocessed/exp/RCMB28.csv) exist.\n",
      "==> This file containes the expression of the PDXs. Printing dataframe's info:\n",
      "<class 'pandas.core.frame.DataFrame'>\n",
      "Index: 1 entries, RCMB28 to RCMB28\n",
      "Columns: 16247 entries, A1BG to ZZZ3\n",
      "dtypes: float64(16247)\n",
      "memory usage: 126.9+ KB\n",
      "==> None\n",
      "==> File /pdx-hts/Notebooks/patients/RCMB28/gene_abundance.sleuth.csv saved successfully\n",
      "==> Done preprocessing!\n",
      "======================================\n",
      "Step 3: classify_sample\n",
      "======================================\n"
     ]
    },
    {
     "name": "stderr",
     "output_type": "stream",
     "text": [
      "/opt/conda/lib/python3.6/site-packages/pandas/core/series.py:2890: FutureWarning: from_csv is deprecated. Please use read_csv(...) instead. Note that some of the default arguments are different, so please refer to the documentation for from_csv when changing your function calls\n",
      "  infer_datetime_format=infer_datetime_format)\n"
     ]
    },
    {
     "name": "stdout",
     "output_type": "stream",
     "text": [
      "     Cavalli     Cho  Northcott\n",
      "G3    0.5086  0.6521     0.6009\n",
      "G4    0.1845  0.1510     0.2513\n",
      "SHH   0.1726  0.1307     0.0847\n",
      "WNT   0.1343  0.0662     0.0631\n",
      "           Cavalli\n",
      "G3_gamma    0.2723\n",
      "G3_beta     0.1271\n",
      "G3_alpha    0.1092\n",
      "G4_alpha    0.0981\n",
      "SHH_alpha   0.0895\n",
      "WNT_alpha   0.0738\n",
      "WNT_beta    0.0605\n",
      "G4_gamma    0.0493\n",
      "G4_beta     0.0371\n",
      "SHH_delta   0.0330\n",
      "SHH_gamma   0.0323\n",
      "SHH_beta    0.0178\n",
      "           Subtypes     Cho\n",
      "3               SHH  0.1307\n",
      "1            G3-MYC  0.4778\n",
      "6               WNT  0.0662\n",
      "5  G3-photoreceptor  0.1743\n",
      "4          G4-Mixed  0.0835\n",
      "2       G4-neuronal  0.0675\n",
      "==> Done! Move along\n",
      "======================================\n",
      "Step 4: run_discover\n",
      "======================================\n",
      "==> About to perform DiSCoVER.\n"
     ]
    },
    {
     "name": "stderr",
     "output_type": "stream",
     "text": [
      "/opt/conda/lib/python3.6/site-packages/pandas/core/indexing.py:1020: FutureWarning: \n",
      "Passing list-likes to .loc or [] with any missing label will raise\n",
      "KeyError in the future, you can use .reindex() as an alternative.\n",
      "\n",
      "See the documentation here:\n",
      "http://pandas.pydata.org/pandas-docs/stable/indexing.html#deprecate-loc-reindex-listlike\n",
      "  return getattr(section, self.name)[new_key]\n"
     ]
    },
    {
     "name": "stdout",
     "output_type": "stream",
     "text": [
      "==> DiSCoVER done!\n",
      "==> Saving results to file.\n",
      "==> Saving done!\n",
      "==> NOT Restricting to clinically relevant drugs.\n"
     ]
    },
    {
     "name": "stderr",
     "output_type": "stream",
     "text": [
      "/opt/conda/lib/python3.6/site-packages/pandas/util/_decorators.py:118: FutureWarning: The `sheetname` keyword is deprecated, use `sheet_name` instead\n",
      "  return func(*args, **kwargs)\n"
     ]
    },
    {
     "name": "stdout",
     "output_type": "stream",
     "text": [
      "==> Done restricting to clinically relevant drugs!\n",
      "==> Making the DiSCoVER powerpoint.\n",
      "==> Using all of the drugs\n",
      "==> Done making the DiSCoVER powerpoint slide!\n",
      "==> Savig the variables to a file.\n",
      "==> Saving the formatted results of DiSCoVER to a csv\n",
      "==> Done savig the variables to a file!\n",
      "==> Done with all the taks in this cell. Move along.\n",
      "All analyses completed suscessfully with \"patient\" RCMB28\n"
     ]
    }
   ],
   "source": [
    "# \"RCMB28\": \"RCMB28\",\n",
    "run_pipeline(\"RCMB28\")"
   ]
  },
  {
   "cell_type": "code",
   "execution_count": 27,
   "metadata": {
    "ExecuteTime": {
     "end_time": "2018-12-18T14:54:26.739146Z",
     "start_time": "2018-12-18T14:51:40.964844Z"
    }
   },
   "outputs": [
    {
     "name": "stdout",
     "output_type": "stream",
     "text": [
      "======================================\n",
      "Step 1: read_user_input\n",
      "======================================\n",
      "Reminder: if you want to use a custom control expresion, you must set control to 'custom'\n",
      "==> Setting patient_dir = case_id\n",
      "Setup done!\n",
      "======================================\n",
      "Step 2: download_and_preprocess_rnaseq\n",
      "======================================\n",
      "==> Checking if local file (/pdx-hts/Notebooks/data/preprocessed/exp/RCMB32.csv) exist.\n",
      "==> This file containes the expression of the PDXs. Printing dataframe's info:\n",
      "<class 'pandas.core.frame.DataFrame'>\n",
      "Index: 1 entries, RCMB32 to RCMB32\n",
      "Columns: 16247 entries, A1BG to ZZZ3\n",
      "dtypes: float64(16247)\n",
      "memory usage: 126.9+ KB\n",
      "==> None\n",
      "==> File /pdx-hts/Notebooks/patients/RCMB32/gene_abundance.sleuth.csv saved successfully\n",
      "==> Done preprocessing!\n",
      "======================================\n",
      "Step 3: classify_sample\n",
      "======================================\n"
     ]
    },
    {
     "name": "stderr",
     "output_type": "stream",
     "text": [
      "/opt/conda/lib/python3.6/site-packages/pandas/core/series.py:2890: FutureWarning: from_csv is deprecated. Please use read_csv(...) instead. Note that some of the default arguments are different, so please refer to the documentation for from_csv when changing your function calls\n",
      "  infer_datetime_format=infer_datetime_format)\n"
     ]
    },
    {
     "name": "stdout",
     "output_type": "stream",
     "text": [
      "     Cavalli     Cho  Northcott\n",
      "SHH   0.4895  0.5919     0.5032\n",
      "G4    0.2000  0.1307     0.1775\n",
      "G3    0.1758  0.2030     0.2124\n",
      "WNT   0.1347  0.0744     0.1069\n",
      "           Cavalli\n",
      "SHH_alpha   0.2368\n",
      "G4_alpha    0.1115\n",
      "SHH_delta   0.1032\n",
      "G3_gamma    0.0785\n",
      "SHH_gamma   0.0760\n",
      "SHH_beta    0.0735\n",
      "WNT_alpha   0.0681\n",
      "WNT_beta    0.0666\n",
      "G3_beta     0.0583\n",
      "G4_gamma    0.0446\n",
      "G4_beta     0.0439\n",
      "G3_alpha    0.0390\n",
      "           Subtypes     Cho\n",
      "3               SHH  0.5919\n",
      "1            G3-MYC  0.1353\n",
      "6               WNT  0.0744\n",
      "5  G3-photoreceptor  0.0677\n",
      "4          G4-Mixed  0.0729\n",
      "2       G4-neuronal  0.0578\n",
      "==> Done! Move along\n",
      "======================================\n",
      "Step 4: run_discover\n",
      "======================================\n",
      "==> About to perform DiSCoVER.\n"
     ]
    },
    {
     "name": "stderr",
     "output_type": "stream",
     "text": [
      "/opt/conda/lib/python3.6/site-packages/pandas/core/indexing.py:1020: FutureWarning: \n",
      "Passing list-likes to .loc or [] with any missing label will raise\n",
      "KeyError in the future, you can use .reindex() as an alternative.\n",
      "\n",
      "See the documentation here:\n",
      "http://pandas.pydata.org/pandas-docs/stable/indexing.html#deprecate-loc-reindex-listlike\n",
      "  return getattr(section, self.name)[new_key]\n"
     ]
    },
    {
     "name": "stdout",
     "output_type": "stream",
     "text": [
      "==> DiSCoVER done!\n",
      "==> Saving results to file.\n",
      "==> Saving done!\n",
      "==> NOT Restricting to clinically relevant drugs.\n"
     ]
    },
    {
     "name": "stderr",
     "output_type": "stream",
     "text": [
      "/opt/conda/lib/python3.6/site-packages/pandas/util/_decorators.py:118: FutureWarning: The `sheetname` keyword is deprecated, use `sheet_name` instead\n",
      "  return func(*args, **kwargs)\n"
     ]
    },
    {
     "name": "stdout",
     "output_type": "stream",
     "text": [
      "==> Done restricting to clinically relevant drugs!\n",
      "==> Making the DiSCoVER powerpoint.\n",
      "==> Using all of the drugs\n",
      "==> Done making the DiSCoVER powerpoint slide!\n",
      "==> Savig the variables to a file.\n",
      "==> Saving the formatted results of DiSCoVER to a csv\n",
      "==> Done savig the variables to a file!\n",
      "==> Done with all the taks in this cell. Move along.\n",
      "All analyses completed suscessfully with \"patient\" RCMB32\n"
     ]
    }
   ],
   "source": [
    "# \"RCMB32\": \"RCMB32\",\n",
    "run_pipeline(\"RCMB32\")"
   ]
  },
  {
   "cell_type": "code",
   "execution_count": 28,
   "metadata": {
    "ExecuteTime": {
     "end_time": "2018-12-18T14:57:00.630356Z",
     "start_time": "2018-12-18T14:54:26.742543Z"
    }
   },
   "outputs": [
    {
     "name": "stdout",
     "output_type": "stream",
     "text": [
      "======================================\n",
      "Step 1: read_user_input\n",
      "======================================\n",
      "Reminder: if you want to use a custom control expresion, you must set control to 'custom'\n",
      "==> Setting patient_dir = case_id\n",
      "Setup done!\n",
      "======================================\n",
      "Step 2: download_and_preprocess_rnaseq\n",
      "======================================\n",
      "==> Checking if local file (/pdx-hts/Notebooks/data/preprocessed/exp/RCMB38.csv) exist.\n",
      "==> This file containes the expression of the PDXs. Printing dataframe's info:\n",
      "<class 'pandas.core.frame.DataFrame'>\n",
      "Index: 1 entries, RCMB38 to RCMB38\n",
      "Columns: 16247 entries, A1BG to ZZZ3\n",
      "dtypes: float64(16247)\n",
      "memory usage: 126.9+ KB\n",
      "==> None\n",
      "==> File /pdx-hts/Notebooks/patients/RCMB38/gene_abundance.sleuth.csv saved successfully\n",
      "==> Done preprocessing!\n",
      "======================================\n",
      "Step 3: classify_sample\n",
      "======================================\n"
     ]
    },
    {
     "name": "stderr",
     "output_type": "stream",
     "text": [
      "/opt/conda/lib/python3.6/site-packages/pandas/core/series.py:2890: FutureWarning: from_csv is deprecated. Please use read_csv(...) instead. Note that some of the default arguments are different, so please refer to the documentation for from_csv when changing your function calls\n",
      "  infer_datetime_format=infer_datetime_format)\n"
     ]
    },
    {
     "name": "stdout",
     "output_type": "stream",
     "text": [
      "     Cavalli     Cho  Northcott\n",
      "G4    0.5081  0.5459     0.5517\n",
      "G3    0.2685  0.3398     0.3134\n",
      "SHH   0.1376  0.0684     0.0905\n",
      "WNT   0.0858  0.0459     0.0444\n",
      "           Cavalli\n",
      "G4_gamma    0.2129\n",
      "G4_alpha    0.2058\n",
      "G3_alpha    0.1006\n",
      "G3_beta     0.0955\n",
      "G4_beta     0.0894\n",
      "G3_gamma    0.0724\n",
      "SHH_alpha   0.0545\n",
      "WNT_alpha   0.0451\n",
      "WNT_beta    0.0407\n",
      "SHH_gamma   0.0348\n",
      "SHH_delta   0.0250\n",
      "SHH_beta    0.0233\n",
      "           Subtypes     Cho\n",
      "3               SHH  0.0684\n",
      "1            G3-MYC  0.1312\n",
      "6               WNT  0.0459\n",
      "5  G3-photoreceptor  0.2086\n",
      "4          G4-Mixed  0.2792\n",
      "2       G4-neuronal  0.2667\n",
      "==> Done! Move along\n",
      "======================================\n",
      "Step 4: run_discover\n",
      "======================================\n",
      "==> About to perform DiSCoVER.\n"
     ]
    },
    {
     "name": "stderr",
     "output_type": "stream",
     "text": [
      "/opt/conda/lib/python3.6/site-packages/pandas/core/indexing.py:1020: FutureWarning: \n",
      "Passing list-likes to .loc or [] with any missing label will raise\n",
      "KeyError in the future, you can use .reindex() as an alternative.\n",
      "\n",
      "See the documentation here:\n",
      "http://pandas.pydata.org/pandas-docs/stable/indexing.html#deprecate-loc-reindex-listlike\n",
      "  return getattr(section, self.name)[new_key]\n"
     ]
    },
    {
     "name": "stdout",
     "output_type": "stream",
     "text": [
      "==> DiSCoVER done!\n",
      "==> Saving results to file.\n",
      "==> Saving done!\n",
      "==> NOT Restricting to clinically relevant drugs.\n"
     ]
    },
    {
     "name": "stderr",
     "output_type": "stream",
     "text": [
      "/opt/conda/lib/python3.6/site-packages/pandas/util/_decorators.py:118: FutureWarning: The `sheetname` keyword is deprecated, use `sheet_name` instead\n",
      "  return func(*args, **kwargs)\n"
     ]
    },
    {
     "name": "stdout",
     "output_type": "stream",
     "text": [
      "==> Done restricting to clinically relevant drugs!\n",
      "==> Making the DiSCoVER powerpoint.\n",
      "==> Using all of the drugs\n",
      "==> Done making the DiSCoVER powerpoint slide!\n",
      "==> Savig the variables to a file.\n",
      "==> Saving the formatted results of DiSCoVER to a csv\n",
      "==> Done savig the variables to a file!\n",
      "==> Done with all the taks in this cell. Move along.\n",
      "All analyses completed suscessfully with \"patient\" RCMB38\n"
     ]
    }
   ],
   "source": [
    "# \"RCMB38\": \"RCMB38\",\n",
    "run_pipeline(\"RCMB38\")"
   ]
  },
  {
   "cell_type": "code",
   "execution_count": 29,
   "metadata": {
    "ExecuteTime": {
     "end_time": "2018-12-18T14:59:41.362793Z",
     "start_time": "2018-12-18T14:57:00.637221Z"
    }
   },
   "outputs": [
    {
     "name": "stdout",
     "output_type": "stream",
     "text": [
      "======================================\n",
      "Step 1: read_user_input\n",
      "======================================\n",
      "Reminder: if you want to use a custom control expresion, you must set control to 'custom'\n",
      "==> Setting patient_dir = case_id\n",
      "Setup done!\n",
      "======================================\n",
      "Step 2: download_and_preprocess_rnaseq\n",
      "======================================\n",
      "==> Checking if local file (/pdx-hts/Notebooks/data/preprocessed/exp/RCMB40.csv) exist.\n",
      "==> This file containes the expression of the PDXs. Printing dataframe's info:\n",
      "<class 'pandas.core.frame.DataFrame'>\n",
      "Index: 1 entries, RCMB40 to RCMB40\n",
      "Columns: 16247 entries, A1BG to ZZZ3\n",
      "dtypes: float64(16247)\n",
      "memory usage: 126.9+ KB\n",
      "==> None\n",
      "==> File /pdx-hts/Notebooks/patients/RCMB40/gene_abundance.sleuth.csv saved successfully\n",
      "==> Done preprocessing!\n",
      "======================================\n",
      "Step 3: classify_sample\n",
      "======================================\n"
     ]
    },
    {
     "name": "stderr",
     "output_type": "stream",
     "text": [
      "/opt/conda/lib/python3.6/site-packages/pandas/core/series.py:2890: FutureWarning: from_csv is deprecated. Please use read_csv(...) instead. Note that some of the default arguments are different, so please refer to the documentation for from_csv when changing your function calls\n",
      "  infer_datetime_format=infer_datetime_format)\n"
     ]
    },
    {
     "name": "stdout",
     "output_type": "stream",
     "text": [
      "     Cavalli     Cho  Northcott\n",
      "G3    0.4511  0.5835     0.5616\n",
      "G4    0.2304  0.1947     0.2778\n",
      "SHH   0.2037  0.1603     0.1029\n",
      "WNT   0.1148  0.0615     0.0577\n",
      "           Cavalli\n",
      "G3_gamma    0.2370\n",
      "G3_beta     0.1243\n",
      "G4_alpha    0.1182\n",
      "SHH_alpha   0.1054\n",
      "G3_alpha    0.0898\n",
      "G4_gamma    0.0614\n",
      "WNT_alpha   0.0593\n",
      "WNT_beta    0.0555\n",
      "G4_beta     0.0508\n",
      "SHH_gamma   0.0409\n",
      "SHH_delta   0.0396\n",
      "SHH_beta    0.0178\n",
      "           Subtypes     Cho\n",
      "3               SHH  0.1603\n",
      "1            G3-MYC  0.4282\n",
      "6               WNT  0.0615\n",
      "5  G3-photoreceptor  0.1553\n",
      "4          G4-Mixed  0.1192\n",
      "2       G4-neuronal  0.0755\n",
      "==> Done! Move along\n",
      "======================================\n",
      "Step 4: run_discover\n",
      "======================================\n",
      "==> About to perform DiSCoVER.\n"
     ]
    },
    {
     "name": "stderr",
     "output_type": "stream",
     "text": [
      "/opt/conda/lib/python3.6/site-packages/pandas/core/indexing.py:1020: FutureWarning: \n",
      "Passing list-likes to .loc or [] with any missing label will raise\n",
      "KeyError in the future, you can use .reindex() as an alternative.\n",
      "\n",
      "See the documentation here:\n",
      "http://pandas.pydata.org/pandas-docs/stable/indexing.html#deprecate-loc-reindex-listlike\n",
      "  return getattr(section, self.name)[new_key]\n"
     ]
    },
    {
     "name": "stdout",
     "output_type": "stream",
     "text": [
      "==> DiSCoVER done!\n",
      "==> Saving results to file.\n",
      "==> Saving done!\n",
      "==> NOT Restricting to clinically relevant drugs.\n"
     ]
    },
    {
     "name": "stderr",
     "output_type": "stream",
     "text": [
      "/opt/conda/lib/python3.6/site-packages/pandas/util/_decorators.py:118: FutureWarning: The `sheetname` keyword is deprecated, use `sheet_name` instead\n",
      "  return func(*args, **kwargs)\n"
     ]
    },
    {
     "name": "stdout",
     "output_type": "stream",
     "text": [
      "==> Done restricting to clinically relevant drugs!\n",
      "==> Making the DiSCoVER powerpoint.\n",
      "==> Using all of the drugs\n",
      "==> Done making the DiSCoVER powerpoint slide!\n",
      "==> Savig the variables to a file.\n",
      "==> Saving the formatted results of DiSCoVER to a csv\n",
      "==> Done savig the variables to a file!\n",
      "==> Done with all the taks in this cell. Move along.\n",
      "All analyses completed suscessfully with \"patient\" RCMB40\n"
     ]
    }
   ],
   "source": [
    "# \"RCMB40\": \"RCMB40\"\n",
    "run_pipeline(\"RCMB40\")"
   ]
  },
  {
   "cell_type": "code",
   "execution_count": null,
   "metadata": {},
   "outputs": [],
   "source": []
  },
  {
   "cell_type": "code",
   "execution_count": 30,
   "metadata": {
    "ExecuteTime": {
     "end_time": "2018-12-18T14:59:41.441969Z",
     "start_time": "2018-12-18T14:59:41.371896Z"
    }
   },
   "outputs": [
    {
     "name": "stdout",
     "output_type": "stream",
     "text": [
      "done!\n"
     ]
    }
   ],
   "source": [
    "print('done!')"
   ]
  },
  {
   "cell_type": "code",
   "execution_count": 1,
   "metadata": {
    "ExecuteTime": {
     "end_time": "2018-12-18T14:06:15.497404Z",
     "start_time": "2018-12-18T14:06:15.442462Z"
    },
    "genepattern": {
     "name": "Login",
     "server": "https://cloud.genepattern.org/gp",
     "type": "auth"
    }
   },
   "outputs": [
    {
     "data": {
      "application/vnd.jupyter.widget-view+json": {
       "model_id": "d181831bccd74f9bb5a61873a570dd14",
       "version_major": 2,
       "version_minor": 0
      },
      "text/plain": [
       "GPAuthWidget()"
      ]
     },
     "metadata": {},
     "output_type": "display_data"
    }
   ],
   "source": [
    "# Requires GenePattern Notebook: pip install genepattern-notebook\n",
    "import gp\n",
    "import genepattern\n",
    "\n",
    "# Username and password removed for security reasons.\n",
    "genepattern.display(genepattern.session.register(\"https://cloud.genepattern.org/gp\", \"\", \"\"))"
   ]
  },
  {
   "cell_type": "code",
   "execution_count": 2,
   "metadata": {
    "ExecuteTime": {
     "end_time": "2018-12-18T14:06:15.616372Z",
     "start_time": "2018-12-18T14:06:15.554375Z"
    },
    "nbtools": {
     "description": "",
     "name": "set_case_id",
     "param_values": {
      "case_id": "BT084",
      "output_var": "case_id"
     },
     "show_code": false,
     "type": "uibuilder"
    }
   },
   "outputs": [
    {
     "data": {
      "application/vnd.jupyter.widget-view+json": {
       "model_id": "f46510d195104c04967eb9b059fbc688",
       "version_major": 2,
       "version_minor": 0
      },
      "text/plain": [
       "UIBuilder(function_import='set_case_id', name='set_case_id', params=[{'name': 'case_id', 'label': 'case_id', '…"
      ]
     },
     "metadata": {},
     "output_type": "display_data"
    }
   ],
   "source": [
    "@genepattern.build_ui(parameters={\n",
    "    \"output_var\": {\n",
    "        \"default\": \"case_id\",\n",
    "        \"hide\": False,\n",
    "    },\n",
    "    \"case_id\": {\"type\": \"choice\",\n",
    "                \"description\": \"The name of the case, e.g., 'BT084'\",\n",
    "                \"choices\": {\n",
    "                    \"BT084\": \"BT084\",\n",
    "                    \"DMB006\": \"DMB006\",\n",
    "                    \"ICB984\": \"ICB984\",\n",
    "                    \"ICB1299\": \"ICB1299\",\n",
    "                    \"ICB1487\": \"ICB1487\",\n",
    "                    \"ICB1572\": \"ICB1572\",\n",
    "                    \"MB002\": \"MB002\",\n",
    "                    \"MB009\": \"MB009\",\n",
    "                    \"MED211\": \"MED211\",\n",
    "                    \"MED411\": \"MED411\",\n",
    "                    \"MED1712\": \"MED1712\",\n",
    "                    \"MED1911\": \"MED1911\",\n",
    "                    \"MED2312\": \"MED2312\",\n",
    "                    \"RCMB18\": \"RCMB18\",\n",
    "                    \"RCMB20\": \"RCMB20\",\n",
    "                    \"RCMB24\": \"RCMB24\",\n",
    "                    \"RCMB28\": \"RCMB28\",\n",
    "                    \"RCMB32\": \"RCMB32\",\n",
    "                    \"RCMB38\": \"RCMB38\",\n",
    "                    \"RCMB40\": \"RCMB40\",},\n",
    "               \"default\":\"BT084\"},\n",
    "})\n",
    "def set_case_id(case_id):\n",
    "    print(f'case_id set to \"{case_id}\"')\n",
    "    return case_id"
   ]
  },
  {
   "cell_type": "markdown",
   "metadata": {},
   "source": [
    "## User input"
   ]
  },
  {
   "cell_type": "markdown",
   "metadata": {},
   "source": [
    "Select parameters before running the rest of the notebook."
   ]
  },
  {
   "cell_type": "markdown",
   "metadata": {},
   "source": [
    "<div class=\"alert alert-info\">\n",
    "<h3 style=\"margin-top: 0;\"> Instructions <i class=\"fa fa-info-circle\"></i></h3>\n",
    "Select parameters before running the rest of the notebook.\n",
    "</div>"
   ]
  },
  {
   "cell_type": "code",
   "execution_count": 3,
   "metadata": {
    "ExecuteTime": {
     "end_time": "2018-12-18T14:06:18.348289Z",
     "start_time": "2018-12-18T14:06:15.621620Z"
    },
    "nbtools": {
     "description": "",
     "name": "read_user_input",
     "param_values": {
      "DNA_Nexus": "false",
      "case_id": "{{case_id}}",
      "control": "original",
      "custom_control_expression": "None",
      "dna_nexus_bool": "false",
      "is_medullo": "true",
      "output_var": "setup",
      "patient_dir": "PDX1_dir"
     },
     "show_code": false,
     "type": "uibuilder"
    },
    "scrolled": false
   },
   "outputs": [
    {
     "data": {
      "application/vnd.jupyter.widget-view+json": {
       "model_id": "bdc70f0f4313475fb16129dd81475ae9",
       "version_major": 2,
       "version_minor": 0
      },
      "text/plain": [
       "UIBuilder(function_import='read_user_input', name='read_user_input', params=[{'name': 'case_id', 'label': 'cas…"
      ]
     },
     "metadata": {},
     "output_type": "display_data"
    }
   ],
   "source": [
    "from companion_script import *\n",
    "# # Select case\n",
    "# case_id = 'case17'\n",
    "# # This patient directory should match the directory name on DNANexus.\n",
    "# patient_dir = '18-10716_tumor-normal'\n",
    "# is_medullo = True # set False if it is another kind of brain tumor\n",
    "%load_ext autoreload\n",
    "%autoreload 2\n",
    "%matplotlib inline\n",
    "import readline # required for rpy2 extension\n",
    "%load_ext rpy2.ipython\n",
    "\n",
    "\n",
    "def rmagic_warning(\n",
    "    message,\n",
    "    category = rpy2.rinterface.RRuntimeWarning,\n",
    "    filename = '',\n",
    "    lineno = -1,\n",
    "    file=None,\n",
    "    line=None):\n",
    "    print(message)\n",
    "default_showwarning = warnings.showwarning\n",
    "\n",
    "\n",
    "@genepattern.build_ui(parameters={\n",
    "    \"output_var\": {\n",
    "        \"default\": \"setup\",\n",
    "        \"hide\": False,\n",
    "    },\n",
    "    \"case_id\": {\"type\": \"text\",\n",
    "                \"description\": \"The name of the case, e.g., 'PDX1'\",\n",
    "               \"default\":\"PDX1\"},\n",
    "    \"patient_dir\": {\"type\": \"text\",\n",
    "                    \"description\": 'For DNA Nexus downloads only. The name of the \"patient\" directory, e.g. \"18-10716_tumor-normal\" (quotes are required)',\n",
    "                    \"default\":\"PDX1_dir\"},\n",
    "    \"dna_nexus_bool\": {\"type\": \"bool\",\n",
    "                   \"description\": \"Whether or not this sample has been classified as medulloblastoma\",\n",
    "                  \"default\":False},\n",
    "    \"is_medullo\": {\"type\": \"bool\",\n",
    "                   \"description\": \"Whether or not this sample has been classified as medulloblastoma\",},\n",
    "    \"control\": {\"type\": \"choice\",\n",
    "                \"description\": \"Whether or not to use a custom control\",\n",
    "                \"choices\": {\n",
    "                    \"original\": \"original\",\n",
    "                    \"custom\": \"custom\",\n",
    "                            }\n",
    "               },\n",
    "    \"custom_control_expression\": {\"type\": \"file\",\n",
    "                           \"kinds\": [\"gct\"],\n",
    "                           \"description\": \"The file (or path to the GCT file) which contains the gene expression of the custom control.\",\n",
    "                           \"default\":None},\n",
    "})\n",
    "def read_user_input(case_id, patient_dir, dna_nexus_bool=False, is_medullo=False, control='original',custom_control_expression=None):\n",
    "    # Select control for DiSCoVER and Connectivity Map\n",
    "    # Generally, if the tumor is a medulloblastoma, we use `cerebellar_stem` (comment the `neural_stem` line).\n",
    "    # And if it is any other kind of brain tumor, we use `neural_stem`.\n",
    "    if control == 'original':\n",
    "        expression_control = 'cerebellar_stem' if is_medullo else 'neural_stem'\n",
    "    elif control == 'custom':\n",
    "        expression_control = 'custom_control'\n",
    "    else:\n",
    "        print('Unexpected value for variable named control, value:', control)\n",
    "        \n",
    "    if (len(custom_control_expression) is not 0) and (control is not 'custom'):\n",
    "        print(\"Reminder: if you want to use a custom control expresion, you must set control to 'custom'\")\n",
    "\n",
    "    base_dir = os.getcwd()\n",
    "    utilities_dir = '/build'\n",
    "    patients_dir = os.path.join(base_dir, 'patients')\n",
    "    if not dna_nexus_bool:\n",
    "        log('Setting patient_dir = case_id')\n",
    "        patient_dir = case_id\n",
    "        \n",
    "    in_dir = os.path.join(patients_dir, patient_dir)\n",
    "    \n",
    "    out_dir = in_dir\n",
    "    os.makedirs(out_dir, exist_ok=True)\n",
    "    \n",
    "#     out['base_dir'] = base_dir\n",
    "#     out['utilities_dir'] = utilities_dir\n",
    "#     out['patients_dir'] = patients_dir\n",
    "#     \n",
    "\n",
    "    platform = sys.platform\n",
    "    if platform.startswith('linux'):\n",
    "        os_string = 'linux'\n",
    "    elif platform == 'darwin':\n",
    "        os_string = 'mac'\n",
    "    else:\n",
    "        raise ValueError('Platform \"{}\" not supported'.format(platform))\n",
    "\n",
    "    # RNASeq quantification\n",
    "    kallisto_dir = '/build/kallisto'\n",
    "    kallisto_path = os.path.join(kallisto_dir, 'kallisto_{}-v0.44.0/kallisto'.format(os_string))\n",
    "    transcriptome_index_path = os.path.join(kallisto_dir, 'GRCh38.ensembl.transcriptome.idx')\n",
    "    local_fastqs_dir = os.path.join(in_dir, 'fastqs')\n",
    "    os.makedirs(local_fastqs_dir, exist_ok=True)\n",
    "    patient_gexp_file = os.path.join(out_dir, 'gene_abundance.sleuth.csv')\n",
    "\n",
    "    # Medulloblastoma classification\n",
    "#     from sklearn.ensemble import RandomForestClassifier\n",
    "#     from tumor_classification.medulloblastoma import classify_cavalli, classify_cho, classify_northcott\n",
    "    medullo_classify_out_dir = os.path.join(out_dir, 'medulloblastoma_classification')\n",
    "    if not os.path.exists(medullo_classify_out_dir):\n",
    "        os.mkdir(medullo_classify_out_dir)\n",
    "    cavalli_subgroup_file = os.path.join(medullo_classify_out_dir, 'cavalli_subgroups.csv')\n",
    "    cavalli_subgroup_direct_file = os.path.join(medullo_classify_out_dir, 'cavalli_subgroups_direct.csv')\n",
    "    cavalli_subtype_file = os.path.join(medullo_classify_out_dir, 'cavalli_subtypes.csv')\n",
    "    cho_subtype_file = os.path.join(medullo_classify_out_dir, 'cho_subtypes.csv')\n",
    "    cho_subgroup_file = os.path.join(medullo_classify_out_dir, 'cho_subgroups.csv')\n",
    "    northcott_subgroup_file = os.path.join(medullo_classify_out_dir, 'northcott_subgroups.csv')\n",
    "\n",
    "    drug_suggestion_out_dir = os.path.join(out_dir, 'drug_suggestions')\n",
    "    os.makedirs(drug_suggestion_out_dir, exist_ok=True)\n",
    "\n",
    "    # DiSCoVER\n",
    "    discover_out_dir = os.path.join(drug_suggestion_out_dir, 'discover/{}'.format(expression_control))\n",
    "    os.makedirs(discover_out_dir, exist_ok=True)\n",
    "    discover_heatmap_file = os.path.join(discover_out_dir, 'ctrp.png')\n",
    "    full_discover_results_file = os.path.join(discover_out_dir, 'discover.all.csv')\n",
    "    rdrugs_discover_file = os.path.join(discover_out_dir, '{}.discover.{}.reasonable.annotated.csv'.format(case_id, expression_control))\n",
    "\n",
    "    # Connectivity Map\n",
    "    cmap_out_dir = os.path.join(drug_suggestion_out_dir, 'cmap/{}'.format(expression_control))\n",
    "    os.makedirs(cmap_out_dir, exist_ok=True)\n",
    "    cmap_all_ranked_drugs_file = os.path.join(cmap_out_dir, '{}.cmap.{}.all.csv'.format(case_id, expression_control))\n",
    "    cmap_reasonable_ranked_drugs_file = os.path.join(cmap_out_dir, '{}.cmap.{}.reasonable.annotated.csv'.format(case_id, expression_control))\n",
    "    \n",
    "    # Powerpoint for MTB\n",
    "#     from slides import make_medullo_classification_slide, make_discover_workflow_slide, make_exp_drug_ranking_results_slide, make_intersection_slide\n",
    "    mtb_ppt_file = os.path.join(out_dir, '{}.mtb_slides.pptx'.format(case_id))\n",
    "\n",
    "    # DNANexus\n",
    "    dx_source_path = os.path.join(utilities_dir, 'dx-toolkit/environment')\n",
    "    dnanexus_project = 'UW_UCSD_RNAseq_collaboration_share'\n",
    "    # Replace the contents of this file with your own DNANexus token.\n",
    "    dnanexus_token_file = os.path.join(base_dir, 'dnanexus_token.txt')\n",
    "    # To use the dx command, we must update some environment variables. \n",
    "    # From the command line, this is done with source dx-toolkit/environment, \n",
    "    # but from Python we have to use a workaround, because normally any changes \n",
    "    # to environment variables done in a subprocess are not reflected in the \n",
    "    # parent process. The workaround runs the source command in a subprocess, \n",
    "    # fetches the environment variables from the subprocess and updates those \n",
    "    # of the parent process.\n",
    "#     from utils import source_and_update_env_vars\n",
    "    source_and_update_env_vars(dx_source_path)    \n",
    "    out = {\"case_id\": case_id,\n",
    "                 \"patient_dir\": patient_dir,\n",
    "                 \"is_medullo\": is_medullo}\n",
    "    out['dna_nexus_bool']=dna_nexus_bool\n",
    "    out['expression_control'] = expression_control\n",
    "    out['custom_control_expression'] = custom_control_expression\n",
    "    out['dnanexus_token_file'] = dnanexus_token_file\n",
    "    out['local_fastqs_dir'] = local_fastqs_dir\n",
    "    out['dnanexus_project'] = dnanexus_project\n",
    "    out['local_fastqs_dir'] = local_fastqs_dir\n",
    "    out['transcriptome_index_path'] = transcriptome_index_path\n",
    "    out['kallisto_path'] = kallisto_path\n",
    "    out['kallisto_dir'] = kallisto_dir\n",
    "    out['out_dir'] = out_dir\n",
    "    out['r_out_dir'] = out_dir.replace('\\\\',r'\\\\')\n",
    "    out['patient_gexp_file'] = patient_gexp_file\n",
    "    out['in_dir'] = in_dir\n",
    "    out['cavalli_subgroup_file'] = cavalli_subgroup_file\n",
    "    out['cavalli_subtype_file'] = cavalli_subtype_file\n",
    "    out['cavalli_subgroup_direct_file'] = cavalli_subgroup_direct_file\n",
    "    out['cho_subgroup_file'] = cho_subgroup_file\n",
    "    out['cho_subtype_file'] = cho_subtype_file\n",
    "    out['northcott_subgroup_file'] = northcott_subgroup_file\n",
    "    out['mtb_ppt_file'] = mtb_ppt_file\n",
    "    out['expression_control'] = expression_control\n",
    "    out['full_discover_results_file'] = full_discover_results_file\n",
    "    out['discover_out_dir'] = discover_out_dir\n",
    "    out['discover_heatmap_file'] = discover_heatmap_file\n",
    "    out['rdrugs_discover_file'] = rdrugs_discover_file\n",
    "    out['cmap_out_dir'] = cmap_out_dir\n",
    "    out['cmap_all_ranked_drugs_file'] = cmap_all_ranked_drugs_file\n",
    "    out['cmap_reasonable_ranked_drugs_file'] = cmap_reasonable_ranked_drugs_file\n",
    "    out['mtb_ppt_file'] = mtb_ppt_file\n",
    "    out['out_dir'] = os.path.join(patients_dir, case_id)\n",
    "\n",
    "    if not os.path.exists(out['out_dir']):\n",
    "        os.mkdir(out['out_dir'])\n",
    "    print('Setup done!')\n",
    "    pickle.dump(out, file=open(os.path.join(out['out_dir'], case_id+'_backup1_input.p'),'wb'))\n",
    "    return Bunch(out)"
   ]
  },
  {
   "cell_type": "markdown",
   "metadata": {},
   "source": [
    "<div class=\"well\">\n",
    "Running all cells below this point will execute all the analyses except for one: the Connectivity Map analysis at the end of the notebook, which requires two manual steps.\n",
    "</div>"
   ]
  },
  {
   "cell_type": "markdown",
   "metadata": {},
   "source": [
    "# Download RNAseq data"
   ]
  },
  {
   "cell_type": "code",
   "execution_count": 4,
   "metadata": {
    "ExecuteTime": {
     "end_time": "2018-12-18T14:06:18.494302Z",
     "start_time": "2018-12-18T14:06:18.351831Z"
    },
    "nbtools": {
     "description": "",
     "name": "download_and_preprocess_rnaseq",
     "param_values": {
      "input_expression_dir": "None",
      "output_var": "setup",
      "setup": "setup"
     },
     "show_code": false,
     "type": "uibuilder"
    }
   },
   "outputs": [
    {
     "data": {
      "application/vnd.jupyter.widget-view+json": {
       "model_id": "e5144c4eb7ea4d54af88958887be97d4",
       "version_major": 2,
       "version_minor": 0
      },
      "text/plain": [
       "UIBuilder(function_import='download_and_preprocess_rnaseq', name='download_and_preprocess_rnaseq', params=[{'n…"
      ]
     },
     "metadata": {},
     "output_type": "display_data"
    }
   ],
   "source": [
    "@genepattern.build_ui(parameters={\n",
    "    \"setup\": {\"default\": \"setup\",\n",
    "              \"hide\": False,\n",
    "              \"description\": \"The variable which has the setup information\"},\n",
    "    \"input_expression_dir\":{\"hide\":True},\n",
    "    \"output_var\": {\n",
    "        \"default\": \"setup\",\n",
    "        \"hide\": True,\n",
    "    },\n",
    "})\n",
    "def download_and_preprocess_rnaseq(setup, input_expression_dir = None):\n",
    "    setup.input_expression_dir = f'/pdx-hts/Notebooks/data/preprocessed/exp/{setup.case_id}.csv'\n",
    "    if setup.dna_nexus_bool:\n",
    "        if input_expression_dir is not None:\n",
    "            log(f\"input_expression_dir has a value ({setup.input_expression_dir}), and it will be ignored!\")\n",
    "        log('About to download fastqfiles from DNA Nexus. This may take a while.')\n",
    "        with open(setup.dnanexus_token_file, 'r') as f:\n",
    "            dnanexus_token = f.readline().strip()\n",
    "        login_command = 'dx login --token {} --noprojects; dx select {}'.format(dnanexus_token, setup.dnanexus_project)\n",
    "        # subprocess.check_output('ls', shell=True).decode('utf-8').strip()\n",
    "        subprocess.check_output(login_command, shell=True).decode('utf-8').strip()\n",
    "\n",
    "        find_fastq_command = 'dx find data --name \"*.fastq.gz\" --path {}:{}'.format(setup.dnanexus_project, setup.patient_dir)\n",
    "        find_fastq_return_lines = subprocess.check_output(find_fastq_command, shell=True).decode().strip().split('\\n')\n",
    "        re_string = '.*(/{}/.*\\.fastq.gz) .*'.format(setup.patient_dir)\n",
    "        fastq_path_re = re.compile(re_string)\n",
    "        remote_fastq_paths = []\n",
    "        local_fastq_subdirs = []\n",
    "\n",
    "        for line in find_fastq_return_lines:\n",
    "            search = fastq_path_re.search(line)\n",
    "            remote_fastq_path = search.group(1)\n",
    "            remote_fastq_paths.append(remote_fastq_path)\n",
    "            fastq_subdir_path = os.path.dirname(remote_fastq_path)\n",
    "            fastq_subdir = os.path.basename(fastq_subdir_path)\n",
    "            local_fastq_subdir = os.path.join(setup.local_fastqs_dir, fastq_subdir)\n",
    "            os.makedirs(local_fastq_subdir, exist_ok=True)\n",
    "            local_fastq_subdirs.append(local_fastq_subdir)\n",
    "\n",
    "        for remote_fastq_path, local_fastq_subdir in zip(remote_fastq_paths, local_fastq_subdirs):\n",
    "            download_command = 'dx download \"{}\" -o \"{}\"'.format(remote_fastq_path, local_fastq_subdir)\n",
    "            print('\\t'+download_command)\n",
    "            try:\n",
    "                a=subprocess.check_output(download_command, shell=True)\n",
    "            except subprocess.CalledProcessError as e:\n",
    "                print('\\tEncountered a dx error, this likely means you already have the file indicated above.')\n",
    "                print('\\tContinuing...\\n')\n",
    "                continue\n",
    "        log('Done downloading the fastq files.')\n",
    "        log('Preprocessing RNASeq data now:')\n",
    "        log('Using kallisto to compute transcript abundance.')\n",
    "        preprocess_rna_seq(setup)\n",
    "        log('Done with tanscript abundance.')\n",
    "        log('Using sleuth to aggregate transcript abundance into gene abbundance.')\n",
    "        run_sleuth(setup)\n",
    "        patient_exp = pd.read_csv(setup.patient_gexp_file, index_col=0).T\n",
    "        patient_exp.index = [setup.case_id]\n",
    "        setup.patient_exp = patient_exp\n",
    "        patient_exp.to_csv(setup.patient_gexp_file)\n",
    "        log('Habemus Genus Expressium *release the white smoke*')\n",
    "    else:\n",
    "        log(f'Checking if local file ({setup.input_expression_dir}) exist.')\n",
    "        if os.path.isfile(setup.input_expression_dir):\n",
    "            df = pd.read_csv(setup.input_expression_dir, index_col=0)\n",
    "            setup.expression_input = df\n",
    "            log(\"This file containes the expression of the PDXs. Printing dataframe's info:\")\n",
    "            log(setup.expression_input.info())\n",
    "        else:\n",
    "            log('File could not be located please check and run again.')\n",
    "        patient_exp = df\n",
    "        setup.patient_exp = patient_exp\n",
    "        patient_exp.to_csv(setup.patient_gexp_file)\n",
    "        log(f'File {setup.patient_gexp_file} saved successfully')\n",
    "    \n",
    "    pickle.dump(setup, file=open(os.path.join(setup.out_dir, setup.case_id+'_backup2_download.p'),'wb'))\n",
    "#     pickle.dump(setup, file=open(setup.out_dir+'_backup2_download.p','wb'))\n",
    "    log('Done preprocessing!')\n",
    "    return setup"
   ]
  },
  {
   "cell_type": "markdown",
   "metadata": {},
   "source": [
    "# Classify the tumor by medulloblastoma subgroup and subtype"
   ]
  },
  {
   "cell_type": "code",
   "execution_count": 5,
   "metadata": {
    "ExecuteTime": {
     "end_time": "2018-12-18T14:06:18.562212Z",
     "start_time": "2018-12-18T14:06:18.497552Z"
    },
    "nbtools": {
     "description": "This function classifies a medulloblastoma sample into a subgroup. Non-medulloblastoma samples are ignored.",
     "name": "classify_sample",
     "param_values": {
      "output_var": "setup",
      "setup": "setup"
     },
     "show_code": false,
     "type": "uibuilder"
    },
    "scrolled": true
   },
   "outputs": [
    {
     "data": {
      "application/vnd.jupyter.widget-view+json": {
       "model_id": "9a9fe548f26848d7a51d2fd4b8e98a2e",
       "version_major": 2,
       "version_minor": 0
      },
      "text/plain": [
       "UIBuilder(description='This function classifies a medulloblastoma sample into a subgroup. Non-medulloblastoma …"
      ]
     },
     "metadata": {},
     "output_type": "display_data"
    }
   ],
   "source": [
    "@genepattern.build_ui(\n",
    "    description=\"This function classifies a medulloblastoma sample into a subgroup. Non-medulloblastoma samples are ignored.\",\n",
    "    parameters={\n",
    "    \"setup\": {\"default\": \"setup\",\n",
    "              \"hide\": False,\n",
    "              \"description\": \"The variable which has the setup information\"},\n",
    "    \"output_var\": {\n",
    "        \"default\": \"setup\",\n",
    "        \"hide\": True,\n",
    "    },\n",
    "})\n",
    "def classify_sample(setup):\n",
    "    # We have three datasets we can use to classify based on expression:\n",
    "    # - [Cavalli et al. 2017](http://www.sciencedirect.com/science/article/pii/S1535610817302015) cohort. This cohort includes 763 tumors, and was used to define 12 finer-grained subtypes nested in the 4 subgroups. Both expression and methylation data are available.\n",
    "\n",
    "    # - [Cho et al. 2011](http://www.mesirovlab.org/medulloblastoma/cho/) cohort. This paper identified two subtypes within G3 and two within G4, for a total of 6. It contains 194 tumors.\n",
    "\n",
    "    # - [Northcott et al. 2017](http://www.nature.com/nature/journal/v547/n7663/full/nature22973.html) expression data (shared by Sebastian). The labels we have for this data are of the 4 basic subgroups only. There are 223 tumors.\n",
    "\n",
    "    # When finer-grained subtypes are known, we perform the finer-grained classification first and also collapse the subtypes to the 4 basic subgroups, so as to report both subtype and subgroup probabilities. Classification is done using random forests.\n",
    "\n",
    "    # Since the patient data are from the same platform and contain the same features each time, we can use pre-fit models to classify them. The classification methods also have a fallback in case the data looks different.\n",
    "\n",
    "    # The tumor board is arranging for methylation data to be obtained from patient samples as well, since it seems it may be more informative than expression. Methylation data would also allow comparison to a large and variety collection of brain tumors, currently available through a DKFZ [web portal](https://www.molecularneuropathology.org/mnp).\n",
    "\n",
    "    if setup.is_medullo:\n",
    "        # Read in patient's gene-level RNASeq TPM data\n",
    "        patient_exp = pd.read_csv(setup.patient_gexp_file, index_col=0)\n",
    "\n",
    "        cavalli_subgroups, cavalli_subtypes = classify_cavalli(patient_exp)\n",
    "        cavalli_subgroups.to_csv(setup.cavalli_subgroup_file)\n",
    "        cavalli_subtypes.to_csv(setup.cavalli_subtype_file)\n",
    "        setup.cavalli_subgroups = cavalli_subgroups\n",
    "        setup.cavalli_subgroups.name='Cavalli'\n",
    "        setup.cavalli_subtypes = cavalli_subtypes\n",
    "        setup.cavalli_subtypes.name='Cavalli'\n",
    "\n",
    "        cho_subgroups, cho_subtypes = classify_cho(patient_exp)\n",
    "        cho_subtypes.to_csv(setup.cho_subtype_file)\n",
    "        cho_subgroups.to_csv(setup.cho_subgroup_file)\n",
    "        setup.cho_subtypes = cho_subtypes\n",
    "        setup.cho_subtypes.name = 'Cho'\n",
    "        setup.cho_subgroups = cho_subgroups\n",
    "        setup.cho_subgroups.name = 'Cho'\n",
    "\n",
    "        northcott_subgroups = classify_northcott(patient_exp)\n",
    "        northcott_subgroups.to_csv(setup.northcott_subgroup_file)\n",
    "        setup.northcott_subgroups = northcott_subgroups\n",
    "        setup.northcott_subgroups.name = 'Northcott'\n",
    "        \n",
    "\n",
    "        make_medullo_classification_slide(setup.mtb_ppt_file,\n",
    "                                          setup.cavalli_subgroup_file,\n",
    "                                          setup.cavalli_subtype_file,\n",
    "                                          setup.cho_subgroup_file,\n",
    "                                          setup.cho_subtype_file,\n",
    "                                          setup.northcott_subgroup_file)\n",
    "        subgroups = pd.DataFrame(data=setup.cavalli_subgroups).join(setup.cho_subgroups).join(setup.northcott_subgroups)\n",
    "        setup.subgroups = subgroups\n",
    "        print(setup.subgroups)\n",
    "        cavalli_subtypes = pd.DataFrame(data=setup.cavalli_subtypes)\n",
    "        setup.cavalli_subtypes = cavalli_subtypes\n",
    "        print(cavalli_subtypes)\n",
    "        cho_subtypes = pd.DataFrame(pd.Series(index=[3,1,6,5,4,2], data=['SHH','G3-MYC','WNT','G3-photoreceptor','G4-Mixed','G4-neuronal'],name='Subtypes')).join(setup.cho_subtypes)\n",
    "        setup.cho_subtypes = cho_subtypes\n",
    "        print(cho_subtypes)\n",
    "        \n",
    "        log('Done! Move along')\n",
    "    else:\n",
    "        log('This is not medulloblastoma. Nothing to do here. Move along')\n",
    "#     pickle.dump(setup, file=open(setup.out_dir+'_backup3_classify.p','wb'))\n",
    "    pickle.dump(setup, file=open(os.path.join(setup.out_dir, setup.case_id+'_backup3_classify.p'),'wb'))\n",
    "    \n",
    "    return setup"
   ]
  },
  {
   "cell_type": "code",
   "execution_count": null,
   "metadata": {},
   "outputs": [],
   "source": []
  },
  {
   "cell_type": "markdown",
   "metadata": {},
   "source": [
    "# Suggest drugs based on RNAseq data (DiSCoVER)"
   ]
  },
  {
   "cell_type": "code",
   "execution_count": 6,
   "metadata": {
    "ExecuteTime": {
     "end_time": "2018-12-18T14:06:18.637159Z",
     "start_time": "2018-12-18T14:06:18.567807Z"
    },
    "nbtools": {
     "description": "Run DiSCoVER on the provided sample and control.",
     "name": "run_discover",
     "param_values": {
      "output_var": "setup",
      "setup": "setup"
     },
     "show_code": false,
     "type": "uibuilder"
    },
    "scrolled": true
   },
   "outputs": [
    {
     "data": {
      "application/vnd.jupyter.widget-view+json": {
       "model_id": "6c158de17ebc4f709f6c243cd3f2da0a",
       "version_major": 2,
       "version_minor": 0
      },
      "text/plain": [
       "UIBuilder(description='Run DiSCoVER on the provided sample and control.', function_import='run_discover', name…"
      ]
     },
     "metadata": {},
     "output_type": "display_data"
    }
   ],
   "source": [
    "@genepattern.build_ui(\n",
    "  description=\"Run DiSCoVER on the provided sample and control.\",\n",
    "  parameters={\n",
    "    \"setup\": {\"default\": \"setup\",\n",
    "              \"hide\": False,\n",
    "              \"description\": \"The variable which has the setup information\"},\n",
    "    \"output_var\": {\n",
    "        \"default\": \"setup\",\n",
    "        \"hide\": True,\n",
    "    },\n",
    "})\n",
    "def run_discover(setup):\n",
    "    from rpy2.robjects import numpy2ri\n",
    "    numpy2ri.activate()\n",
    "    from discover import discover_from_expression, plot_discover_from_expression\n",
    "    from drug_suggestion.expression.controls import load_control_exp\n",
    "    patient_exp = pd.read_csv(setup.patient_gexp_file, index_col=0)\n",
    "    control_exp = load_control_exp(setup.expression_control)\n",
    "    log(\"About to perform DiSCoVER.\")\n",
    "    discover_results = discover_from_expression(exp=patient_exp, \n",
    "                                                control_exp=control_exp, \n",
    "                                                verbose=False)\n",
    "    setup.raw_discover_results = discover_results\n",
    "#     pickle.dump(setup, file=open(setup.out_dir+'_backup4-0_DISCoVER.p','wb'))\n",
    "#     print(discover_results)\n",
    "    # move some files created by DiSCoVER\n",
    "#     for cl_name in ['ccle','ctrp','gdsc']:\n",
    "#         os.rename(f\"COSMIC_cell_lines_IDs_and_types_{cl_name}.csv\", os.path.join(setup.out_dir, f\"COSMIC_cell_lines_IDs_and_types_{cl_name}.csv\"))\n",
    "    \n",
    "    log(\"DiSCoVER done!\")\n",
    "    numpy2ri.deactivate()\n",
    "    log('Saving results to file.')\n",
    "    # display(discover_results)\n",
    "    discover_results.T.sort_values(by=setup.case_id, ascending=False).to_csv(setup.full_discover_results_file)\n",
    "    log(\"Saving done!\")\n",
    "    log(\"NOT Restricting to clinically relevant drugs.\")\n",
    "    #Not all drugs in CCLE, CTRP, and GDSC are realistic candidates for treatment. We compiled a list of medications that are FDA-approved or in late-stage clinical trials, and Dr. Wechsler-Reya curated it to include only those that are relevant for treating brain tumors. Here we limit the results to these drugs and add Dr. Wechsler-Reya's mechanism-of-action annotations. To enable comparison of drug lists, drugs from the different sources have been mapped to PubChem compound IDs (CIDs) using [PubChemPy](http://pubchempy.readthedocs.io/en/latest/).\n",
    "    from drug_suggestion.drug_annotation import subset_to_reasonable_drugs\n",
    "    from drug_suggestion.expression.discover import load_discover_drug_to_cids\n",
    "    disco2cid = load_discover_drug_to_cids()\n",
    "    reasonable_results = subset_to_reasonable_drugs(discover_results, \n",
    "                                                disco2cid, \n",
    "                                                out_prefix='discover.{}'.format(setup.expression_control), \n",
    "                                                out_dir=setup.discover_out_dir)\n",
    "    # This will override the file setup.rdrugs_discover_file\n",
    "    all_drugs = format_drugs(discover_results, \n",
    "                                disco2cid, \n",
    "                                out_prefix='discover.{}'.format(setup.expression_control), \n",
    "                                out_dir=setup.discover_out_dir)\n",
    "    log('Done restricting to clinically relevant drugs!')\n",
    "    \n",
    "##     log('making a discover illustrative method')\n",
    "##     from drug_suggestion.expression.discover import plot_discover_from_expression\n",
    "##     plot_discover_from_expression(case_id, \n",
    "##                                   discover_results, \n",
    "##                                   exp=patient_exp,\n",
    "##                                   control_exp=control_exp,\n",
    "##                                   cl='ctrp',\n",
    "##                                   out_file=discover_heatmap_file)\n",
    "##     make_discover_workflow_slide(mtb_ppt_file, discover_heatmap_file)\n",
    "    log('Making the DiSCoVER powerpoint.')\n",
    "    rdrugs_discover = pd.read_csv(setup.rdrugs_discover_file, index_col=None)\n",
    "\n",
    "    \n",
    "    # Using all of the drugs\n",
    "    log('Using all of the drugs')\n",
    "    df = split_discover_dataframe(df=rdrugs_discover)\n",
    "    df = rank_drugs_discover(df)\n",
    "#     df.head()\n",
    "    make_exp_drug_ranking_results_slide(setup.mtb_ppt_file, df.head(20), setup.expression_control, method='DiSCoVER')\n",
    "    log('Done making the DiSCoVER powerpoint slide!')\n",
    "    log('Savig the variables to a file.')\n",
    "    setup.discover_results = discover_results\n",
    "    setup.disco2cid = disco2cid\n",
    "    setup.control_exp = control_exp\n",
    "    setup.reasonable_results = reasonable_results\n",
    "    setup.df = df\n",
    "    log('Saving the formatted results of DiSCoVER to a csv')\n",
    "    df.to_csv(os.path.join(setup.out_dir, setup.case_id+'_formated_DISCoVER_results.csv'))\n",
    "#     pickle.dump(setup, file=open(setup.out_dir+'_backup4_DISCoVER.p','wb'))\n",
    "    pickle.dump(setup, file=open(os.path.join(setup.out_dir, setup.case_id+'_backup4_DISCoVER.p'),'wb'))\n",
    "#     pickle.dump(setup, file=open(setup.case_id+'_DISCoVER.p','wb'))\n",
    "    log('Done savig the variables to a file!')\n",
    "    \n",
    "    log('Done with all the taks in this cell. Move along.')\n",
    "    return setup"
   ]
  },
  {
   "cell_type": "code",
   "execution_count": null,
   "metadata": {},
   "outputs": [],
   "source": []
  }
 ],
 "metadata": {
  "kernelspec": {
   "display_name": "Python 3",
   "language": "python",
   "name": "python3"
  },
  "language_info": {
   "codemirror_mode": {
    "name": "ipython",
    "version": 3
   },
   "file_extension": ".py",
   "mimetype": "text/x-python",
   "name": "python",
   "nbconvert_exporter": "python",
   "pygments_lexer": "ipython3",
   "version": "3.6.3"
  }
 },
 "nbformat": 4,
 "nbformat_minor": 2
}
