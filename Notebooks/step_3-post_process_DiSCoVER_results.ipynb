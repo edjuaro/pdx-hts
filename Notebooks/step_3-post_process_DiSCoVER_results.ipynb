{
 "cells": [
  {
   "cell_type": "code",
   "execution_count": 2,
   "metadata": {
    "ExecuteTime": {
     "end_time": "2018-12-17T20:12:10.023788Z",
     "start_time": "2018-12-17T20:12:09.496234Z"
    }
   },
   "outputs": [
    {
     "name": "stdout",
     "output_type": "stream",
     "text": [
      "BT084\t ICB1487  MB002    MED1911  MED411  antes_BT084     old_PDX1\r\n",
      "DMB006\t ICB1572  MB009    MED211   RCMB18  old_BT084\r\n",
      "ICB1299  ICB984   MED1712  MED2312  RCMB20  old_DMB006_old\r\n"
     ]
    }
   ],
   "source": [
    "!ls patients"
   ]
  },
  {
   "cell_type": "code",
   "execution_count": 3,
   "metadata": {
    "ExecuteTime": {
     "end_time": "2018-12-17T20:12:42.813620Z",
     "start_time": "2018-12-17T20:12:42.547760Z"
    }
   },
   "outputs": [],
   "source": [
    "import pandas as pd"
   ]
  },
  {
   "cell_type": "code",
   "execution_count": null,
   "metadata": {},
   "outputs": [],
   "source": [
    "# Load metadata\n",
    "metadata = pd."
   ]
  }
 ],
 "metadata": {
  "kernelspec": {
   "display_name": "Python 3",
   "language": "python",
   "name": "python3"
  },
  "language_info": {
   "codemirror_mode": {
    "name": "ipython",
    "version": 3
   },
   "file_extension": ".py",
   "mimetype": "text/x-python",
   "name": "python",
   "nbconvert_exporter": "python",
   "pygments_lexer": "ipython3",
   "version": "3.6.3"
  }
 },
 "nbformat": 4,
 "nbformat_minor": 2
}
