{
 "cells": [
  {
   "cell_type": "code",
   "execution_count": 1,
   "metadata": {
    "ExecuteTime": {
     "end_time": "2019-01-16T17:34:51.592644Z",
     "start_time": "2019-01-16T17:34:49.910200Z"
    }
   },
   "outputs": [],
   "source": [
    "import warnings\n",
    "warnings.simplefilter(action='ignore', category=FutureWarning)\n",
    "import pandas as pd\n",
    "import pickle\n",
    "import os\n",
    "from common_imports import *\n",
    "from companion_script import *\n",
    "%load_ext autoreload\n",
    "case_id = \"DMB006\"\n",
    "setup = pickle.load(file=open(os.path.join('patients',case_id,case_id+'_backup4_DISCoVER.p'),'rb'))"
   ]
  },
  {
   "cell_type": "code",
   "execution_count": 156,
   "metadata": {
    "ExecuteTime": {
     "end_time": "2019-01-16T20:33:09.423124Z",
     "start_time": "2019-01-16T20:32:38.614456Z"
    },
    "scrolled": true
   },
   "outputs": [
    {
     "name": "stdout",
     "output_type": "stream",
     "text": [
      "==> About to perform DiSCoVER.\n",
      "Modifying it on 2018-11-26\n",
      "Loading CTRP\n",
      "Projecting disease gene sets\n",
      "I'ts ssgsea...\n",
      "ssGSEA results for ctrp\n",
      "            DMB006\n",
      "NCIH524   0.345268\n",
      "NCIH1184  0.323423\n",
      "DMS273    0.311811\n",
      "HCC33     0.293539\n",
      "D283MED   0.259917\n",
      "Matching to drug response profiles\n",
      "Writing file: cell_lines_IDs_and_types_ctrp.csv\n",
      "==> DiSCoVER done!\n",
      "==> Moving files contaiend enrichment of cell lines\n",
      "==> Moved cell_lines_IDs_and_types_ccle.csv to /pdx-hts/Notebooks/patients/DMB006/drug_suggestions/discover/cerebellar_stem/cell_lines_IDs_and_types_ccle.csv\n",
      "==> Moved cell_lines_IDs_and_types_COSMIC_IDS_gdsc.csv to /pdx-hts/Notebooks/patients/DMB006/drug_suggestions/discover/cerebellar_stem/cell_lines_IDs_and_types_COSMIC_IDS_gdsc.csv\n",
      "==> Moved cell_lines_IDs_and_types_ctrp.csv to /pdx-hts/Notebooks/patients/DMB006/drug_suggestions/discover/cerebellar_stem/cell_lines_IDs_and_types_ctrp.csv\n",
      "==> Ranking cell lines by enrichment and saving those\n",
      "CCLE is missing 3 cell lines (out of 475)\n",
      "CTRP is missing 5 cell lines (out of 633)\n"
     ]
    }
   ],
   "source": [
    "from rpy2.robjects import numpy2ri\n",
    "numpy2ri.activate()\n",
    "#     from discover import discover_from_expression, plot_discover_from_expression\n",
    "from discover_temp import discover_from_expression, plot_discover_from_expression\n",
    "from drug_suggestion.expression.controls import load_control_exp\n",
    "patient_exp = pd.read_csv(setup.patient_gexp_file, index_col=0)\n",
    "control_exp = load_control_exp(setup.expression_control)\n",
    "log(\"About to perform DiSCoVER.\")\n",
    "discover_results = discover_from_expression(exp=patient_exp, \n",
    "                                            control_exp=control_exp, \n",
    "                                            verbose=True,extra_outputs=True)\n",
    "setup.raw_discover_results = discover_results\n",
    "#     pickle.dump(setup, file=open(setup.out_dir+'_backup4-0_DISCoVER.p','wb'))\n",
    "#     print(discover_results)\n",
    "# move some files created by DiSCoVER\n",
    "#     for cl_name in ['ccle','ctrp','gdsc']:\n",
    "#         os.rename(f\"COSMIC_cell_lines_IDs_and_types_{cl_name}.csv\", os.path.join(setup.out_dir, f\"COSMIC_cell_lines_IDs_and_types_{cl_name}.csv\"))\n",
    "\n",
    "log(\"DiSCoVER done!\")\n",
    "numpy2ri.deactivate()\n",
    "log(\"Moving files contaiend enrichment of cell lines\")\n",
    "for current_file in ['cell_lines_IDs_and_types_ccle.csv','cell_lines_IDs_and_types_COSMIC_IDS_gdsc.csv','cell_lines_IDs_and_types_ctrp.csv']:\n",
    "    os.rename(current_file,os.path.join(setup.discover_out_dir,current_file))\n",
    "    log(f'Moved {current_file} to {os.path.join(setup.discover_out_dir,current_file)}')\n",
    "log(\"Ranking cell lines by enrichment and saving those\")\n",
    "ranked_diseases_from_enrichment = rank_cell_lines(setup)\n",
    "setup.ranked_diseases_from_enrichment = ranked_diseases_from_enrichment"
   ]
  },
  {
   "cell_type": "code",
   "execution_count": null,
   "metadata": {
    "ExecuteTime": {
     "end_time": "2019-01-16T17:15:18.875920Z",
     "start_time": "2019-01-16T17:15:18.870082Z"
    }
   },
   "outputs": [],
   "source": []
  },
  {
   "cell_type": "code",
   "execution_count": 157,
   "metadata": {
    "ExecuteTime": {
     "end_time": "2019-01-16T20:34:08.575195Z",
     "start_time": "2019-01-16T20:33:47.748743Z"
    }
   },
   "outputs": [
    {
     "name": "stdout",
     "output_type": "stream",
     "text": [
      "Modifying it on 2018-11-26\n",
      "Loading CTRP\n",
      "Projecting disease gene sets\n",
      "I'ts ssgsea...\n",
      "ssGSEA results for ctrp\n",
      "            DMB006\n",
      "NCIH524   0.345268\n",
      "NCIH1184  0.323423\n",
      "DMS273    0.311811\n",
      "HCC33     0.293539\n",
      "D283MED   0.259917\n",
      "Matching to drug response profiles\n",
      "Writing file: cell_lines_IDs_and_types_ctrp.csv\n"
     ]
    }
   ],
   "source": [
    "%autoreload 1\n",
    "from discover_temp import discover_from_expression\n",
    "numpy2ri.activate()\n",
    "discover_results = discover_from_expression(exp=patient_exp, \n",
    "                                            control_exp=control_exp, \n",
    "                                            verbose=True,\n",
    "                                            extra_outputs=True)\n",
    "numpy2ri.deactivate()"
   ]
  },
  {
   "cell_type": "code",
   "execution_count": 154,
   "metadata": {
    "ExecuteTime": {
     "end_time": "2019-01-16T20:28:53.405020Z",
     "start_time": "2019-01-16T20:28:53.394527Z"
    }
   },
   "outputs": [],
   "source": [
    "def standarize_string(what):\n",
    "    ascii_8bit = re.sub(r'[^ -~]', '', what).lower() # keeping only 8-bit ascii, making lowercase (http://www.catonmat.net/blog/my-favorite-regex/)\n",
    "    return re.sub(r'[ _-]', '', ascii_8bit) # remove space, underscore, and dash (\" _-\")\n",
    "\n",
    "\n",
    "# the name of the enrichment is the same as the patient ID which is stored in setup.case_id\n",
    "def add_rank(df,by,name):\n",
    "    df = df.sort_values(ascending=False, by=setup.case_id)\n",
    "    df[name] = df[by].rank(ascending=False)\n",
    "    return df\n",
    "\n",
    "\n",
    "# Take each disease and assign it a rank\n",
    "def rank_diseases(df):\n",
    "    rank_name = df.columns[-1]\n",
    "    new_df = pd.DataFrame()\n",
    "    to_add = pd.Series()\n",
    "    new_ix = 0\n",
    "    for ix,row in df.loc[:,['Disease',rank_name]].iterrows():\n",
    "        for disease in row['Disease'].split('__&&__'):\n",
    "            to_add['Disease'] = disease\n",
    "            to_add[rank_name] = row[rank_name]\n",
    "            to_add.name = new_ix\n",
    "            new_df = new_df.append(to_add)\n",
    "#             print(to_add)\n",
    "            new_ix += 1\n",
    "    return new_df\n",
    "\n",
    "\n",
    "def average_disease_rank(df,rank_name):\n",
    "    new_df = pd.DataFrame()\n",
    "    for disease in np.unique(df['Disease']):\n",
    "        new_df.loc[disease.lower(),'mean_rank'] = df[df['Disease']==disease].loc[:,rank_name].median()\n",
    "        new_df.loc[disease.lower(),'weight'] = len(df[df['Disease']==disease].loc[:,rank_name])\n",
    "    return new_df.sort_values(by='mean_rank')"
   ]
  },
  {
   "cell_type": "code",
   "execution_count": 158,
   "metadata": {
    "ExecuteTime": {
     "end_time": "2019-01-16T20:36:12.210944Z",
     "start_time": "2019-01-16T20:36:12.190842Z"
    }
   },
   "outputs": [],
   "source": [
    "def rank_cell_lines(setup):\n",
    "    # first load some dictionaries\n",
    "    cid2dic = pickle.load(file=open('discover_temp/cellosaurus/cellosaurus_cosmic_id_dic.p','rb'))\n",
    "    name2dic = pickle.load(file=open('discover_temp/cellosaurus/cellosaurus_name_dic.p','rb'))\n",
    "    \n",
    "    # CCLE\n",
    "    ccle = pd.read_csv(os.path.join(setup.discover_out_dir,\"cell_lines_IDs_and_types_ccle.csv\"),index_col=0)\n",
    "    missing = 0\n",
    "    for ix, row in ccle.iterrows():\n",
    "        name = standarize_string(ix)\n",
    "        try: \n",
    "            dic = name2dic[name]\n",
    "        except KeyError:\n",
    "            missing += 1\n",
    "            dic = {}\n",
    "            dic['Names'] = ix\n",
    "            dic['Disease'] = 'N/A'\n",
    "            dic['CellosaurusID'] = 'N/A'       \n",
    "        ccle.loc[ix,'Names'] = dic['Names']\n",
    "        ccle.loc[ix,'CellosaurusID'] = dic['CellosaurusID']\n",
    "        ccle.at[ix,'Disease'] = dic['Disease']\n",
    "    if missing >0:\n",
    "        log(f'CCLE is missing {missing} cell lines (out of {len(ccle)})')\n",
    "    ccle.to_excel(os.path.join(setup.discover_out_dir,\"processed_cell_lines_info_ccle.xlsx\"))\n",
    "    # ccle.head()\n",
    "\n",
    "    #CTRP\n",
    "    ctrp = pd.read_csv(os.path.join(setup.discover_out_dir,\"cell_lines_IDs_and_types_ctrp.csv\"),index_col=0)\n",
    "    missing = 0\n",
    "    for ix, row in ctrp.iterrows():\n",
    "        name = standarize_string(ix)\n",
    "        try: \n",
    "            dic = name2dic[name]\n",
    "        except KeyError:\n",
    "            missing += 1\n",
    "            dic = {}\n",
    "            dic['Names'] = ix\n",
    "            dic['Disease'] = 'N/A'\n",
    "            dic['CellosaurusID'] = 'N/A'       \n",
    "        ctrp.loc[ix,'Names'] = dic['Names']\n",
    "        ctrp.loc[ix,'CellosaurusID'] = dic['CellosaurusID']\n",
    "        ctrp.at[ix,'Disease'] = dic['Disease']\n",
    "    if missing >0:\n",
    "        log(f'CTRP is missing {missing} cell lines (out of {len(ctrp)})')\n",
    "    ctrp.to_excel(os.path.join(setup.discover_out_dir,\"processed_cell_lines_info_ctrp.xlsx\"))\n",
    "    # ctrp.head()\n",
    "\n",
    "    # GDSC\n",
    "    gdsc = pd.read_csv(os.path.join(setup.discover_out_dir,\"cell_lines_IDs_and_types_COSMIC_IDS_gdsc.csv\"),index_col=0)\n",
    "    missing = 0\n",
    "    for ix, row in gdsc.iterrows():\n",
    "        cid = str(int(row['COSMIC ID']))\n",
    "        try:\n",
    "            dic = cid2dic[cid]\n",
    "            gdsc.loc[ix,'Names'] = dic['Names']\n",
    "            gdsc.at[ix,'Disease'] = dic['Disease']\n",
    "            gdsc.loc[ix,'CellosaurusID'] = dic['CellosaurusID']\n",
    "        except KeyError:\n",
    "            missing+=1\n",
    "    if missing>0:\n",
    "        log(f\"GDSC is missing {missing} cell lines (out of {len(gdsc)}). That's a bit troubling\")\n",
    "    gdsc.to_excel(os.path.join(setup.discover_out_dir,\"processed_cell_lines_info_gdsc.xlsx\"))\n",
    "    # gdsc.head()\n",
    "        \n",
    "    # add ranks\n",
    "    ccle = add_rank(df=ccle,by=setup.case_id,name='CCLE_rank')\n",
    "    ctrp = add_rank(df=ctrp,by=setup.case_id,name='CTRP_rank')\n",
    "    gdsc = add_rank(df=gdsc,by=setup.case_id,name='GDSC_rank')\n",
    "    \n",
    "    # Unique disease names, ranked\n",
    "    ccle_rank = rank_diseases(df=ccle)\n",
    "    ctrp_rank = rank_diseases(df=ctrp)\n",
    "    gdsc_rank = rank_diseases(df=gdsc)\n",
    "    \n",
    "    #Merge the three databases\n",
    "    merged = ccle_rank.rename({\"CCLE_rank\": \"rank\"}, axis='columns').append(ctrp_rank.rename({\"CTRP_rank\": \"rank\"}, axis='columns')).append(gdsc_rank.rename({\"GDSC_rank\": \"rank\"}, axis='columns'))\n",
    "    merged['Disease'] = merged.apply(lambda x: x['Disease'].lower(), axis=1)\n",
    "    \n",
    "    # Only the merged rank will be printed for now\n",
    "    # ccle_average_rank = average_disease_rank(df=ccle_rank,rank_name='CCLE_rank')\n",
    "    # ctrp_average_rank = average_disease_rank(df=ctrp_rank,rank_name='CTRP_rank')\n",
    "    # gdsc_average_rank = average_disease_rank(df=gdsc_rank,rank_name='GDSC_rank')\n",
    "    merged_rank = average_disease_rank(df=merged,rank_name='rank')\n",
    "    merged_rank.to_csv(os.path.join(setup.discover_out_dir,\"cell_lines_rank.csv\"))\n",
    "    return merged_rank"
   ]
  },
  {
   "cell_type": "code",
   "execution_count": 3,
   "metadata": {
    "ExecuteTime": {
     "end_time": "2019-01-16T17:36:58.849508Z",
     "start_time": "2019-01-16T17:36:58.623586Z"
    }
   },
   "outputs": [],
   "source": []
  },
  {
   "cell_type": "code",
   "execution_count": 5,
   "metadata": {
    "ExecuteTime": {
     "end_time": "2019-01-16T17:43:33.111315Z",
     "start_time": "2019-01-16T17:43:33.106365Z"
    }
   },
   "outputs": [],
   "source": []
  },
  {
   "cell_type": "code",
   "execution_count": 34,
   "metadata": {
    "ExecuteTime": {
     "end_time": "2019-01-16T17:59:53.150348Z",
     "start_time": "2019-01-16T17:59:50.620268Z"
    }
   },
   "outputs": [
    {
     "name": "stdout",
     "output_type": "stream",
     "text": [
      "CCLE is missing 3 cell lines (out of 475)\n",
      "CTRP is missing 5 cell lines (out of 633)\n"
     ]
    }
   ],
   "source": []
  },
  {
   "cell_type": "code",
   "execution_count": 31,
   "metadata": {
    "ExecuteTime": {
     "end_time": "2019-01-16T17:56:28.052932Z",
     "start_time": "2019-01-16T17:56:28.045596Z"
    }
   },
   "outputs": [],
   "source": []
  },
  {
   "cell_type": "code",
   "execution_count": 35,
   "metadata": {
    "ExecuteTime": {
     "end_time": "2019-01-16T18:00:03.220099Z",
     "start_time": "2019-01-16T18:00:03.211321Z"
    },
    "scrolled": true
   },
   "outputs": [],
   "source": []
  },
  {
   "cell_type": "code",
   "execution_count": 150,
   "metadata": {
    "ExecuteTime": {
     "end_time": "2019-01-16T19:48:19.495785Z",
     "start_time": "2019-01-16T19:48:19.490202Z"
    }
   },
   "outputs": [
    {
     "name": "stdout",
     "output_type": "stream",
     "text": [
      "475 633 985\n"
     ]
    }
   ],
   "source": [
    "print(len(ccle),len(ctrp),len(gdsc))"
   ]
  },
  {
   "cell_type": "code",
   "execution_count": 149,
   "metadata": {
    "ExecuteTime": {
     "end_time": "2019-01-16T19:48:00.132720Z",
     "start_time": "2019-01-16T19:48:00.113671Z"
    }
   },
   "outputs": [
    {
     "data": {
      "text/html": [
       "<div>\n",
       "<style scoped>\n",
       "    .dataframe tbody tr th:only-of-type {\n",
       "        vertical-align: middle;\n",
       "    }\n",
       "\n",
       "    .dataframe tbody tr th {\n",
       "        vertical-align: top;\n",
       "    }\n",
       "\n",
       "    .dataframe thead th {\n",
       "        text-align: right;\n",
       "    }\n",
       "</style>\n",
       "<table border=\"1\" class=\"dataframe\">\n",
       "  <thead>\n",
       "    <tr style=\"text-align: right;\">\n",
       "      <th></th>\n",
       "      <th>DMB006</th>\n",
       "      <th>Names</th>\n",
       "      <th>CellosaurusID</th>\n",
       "      <th>Disease</th>\n",
       "      <th>CCLE_rank</th>\n",
       "    </tr>\n",
       "  </thead>\n",
       "  <tbody>\n",
       "    <tr>\n",
       "      <th>NCIH1184</th>\n",
       "      <td>0.323423</td>\n",
       "      <td>NCI-H1184__&amp;&amp;__H1184__&amp;&amp;__H-1184__&amp;&amp;__NCIH1184</td>\n",
       "      <td>CVCL_1458</td>\n",
       "      <td>Small cell lung carcinoma__&amp;&amp;__Lymph node</td>\n",
       "      <td>1.0</td>\n",
       "    </tr>\n",
       "    <tr>\n",
       "      <th>NCIH1092</th>\n",
       "      <td>0.302924</td>\n",
       "      <td>NCI-H1092__&amp;&amp;__H1092__&amp;&amp;__H-1092</td>\n",
       "      <td>CVCL_1454</td>\n",
       "      <td>Small cell lung carcinoma__&amp;&amp;__Bone marrow</td>\n",
       "      <td>2.0</td>\n",
       "    </tr>\n",
       "    <tr>\n",
       "      <th>NCIH1155</th>\n",
       "      <td>0.255616</td>\n",
       "      <td>NCI-H1155__&amp;&amp;__H1155__&amp;&amp;__H-1155__&amp;&amp;__NCIH1155...</td>\n",
       "      <td>CVCL_1456</td>\n",
       "      <td>Large cell lung carcinoma__&amp;&amp;__Lymph node</td>\n",
       "      <td>3.0</td>\n",
       "    </tr>\n",
       "    <tr>\n",
       "      <th>NCIH1694</th>\n",
       "      <td>0.237658</td>\n",
       "      <td>NCI-H1694__&amp;&amp;__H1694__&amp;&amp;__H-1694</td>\n",
       "      <td>CVCL_1489</td>\n",
       "      <td>Small cell lung carcinoma__&amp;&amp;__Ascites</td>\n",
       "      <td>4.0</td>\n",
       "    </tr>\n",
       "    <tr>\n",
       "      <th>NCIH1341</th>\n",
       "      <td>0.213815</td>\n",
       "      <td>NCI-H1341__&amp;&amp;__H1341__&amp;&amp;__H-1341</td>\n",
       "      <td>CVCL_1463</td>\n",
       "      <td>Small cell lung carcinoma__&amp;&amp;__Cervix</td>\n",
       "      <td>5.0</td>\n",
       "    </tr>\n",
       "  </tbody>\n",
       "</table>\n",
       "</div>"
      ],
      "text/plain": [
       "            DMB006                                              Names  \\\n",
       "NCIH1184  0.323423     NCI-H1184__&&__H1184__&&__H-1184__&&__NCIH1184   \n",
       "NCIH1092  0.302924                   NCI-H1092__&&__H1092__&&__H-1092   \n",
       "NCIH1155  0.255616  NCI-H1155__&&__H1155__&&__H-1155__&&__NCIH1155...   \n",
       "NCIH1694  0.237658                   NCI-H1694__&&__H1694__&&__H-1694   \n",
       "NCIH1341  0.213815                   NCI-H1341__&&__H1341__&&__H-1341   \n",
       "\n",
       "         CellosaurusID                                     Disease  CCLE_rank  \n",
       "NCIH1184     CVCL_1458   Small cell lung carcinoma__&&__Lymph node        1.0  \n",
       "NCIH1092     CVCL_1454  Small cell lung carcinoma__&&__Bone marrow        2.0  \n",
       "NCIH1155     CVCL_1456   Large cell lung carcinoma__&&__Lymph node        3.0  \n",
       "NCIH1694     CVCL_1489      Small cell lung carcinoma__&&__Ascites        4.0  \n",
       "NCIH1341     CVCL_1463       Small cell lung carcinoma__&&__Cervix        5.0  "
      ]
     },
     "execution_count": 149,
     "metadata": {},
     "output_type": "execute_result"
    }
   ],
   "source": [
    "# ccle.head()"
   ]
  },
  {
   "cell_type": "code",
   "execution_count": 50,
   "metadata": {
    "ExecuteTime": {
     "end_time": "2019-01-16T18:12:03.162264Z",
     "start_time": "2019-01-16T18:12:03.156845Z"
    }
   },
   "outputs": [],
   "source": [
    "\n",
    "    "
   ]
  },
  {
   "cell_type": "code",
   "execution_count": 54,
   "metadata": {
    "ExecuteTime": {
     "end_time": "2019-01-16T18:13:53.731706Z",
     "start_time": "2019-01-16T18:13:48.535576Z"
    }
   },
   "outputs": [],
   "source": []
  },
  {
   "cell_type": "code",
   "execution_count": 59,
   "metadata": {
    "ExecuteTime": {
     "end_time": "2019-01-16T18:19:42.124345Z",
     "start_time": "2019-01-16T18:19:42.105424Z"
    }
   },
   "outputs": [
    {
     "data": {
      "text/html": [
       "<div>\n",
       "<style scoped>\n",
       "    .dataframe tbody tr th:only-of-type {\n",
       "        vertical-align: middle;\n",
       "    }\n",
       "\n",
       "    .dataframe tbody tr th {\n",
       "        vertical-align: top;\n",
       "    }\n",
       "\n",
       "    .dataframe thead th {\n",
       "        text-align: right;\n",
       "    }\n",
       "</style>\n",
       "<table border=\"1\" class=\"dataframe\">\n",
       "  <thead>\n",
       "    <tr style=\"text-align: right;\">\n",
       "      <th></th>\n",
       "      <th>CCLE_rank</th>\n",
       "      <th>Disease</th>\n",
       "    </tr>\n",
       "  </thead>\n",
       "  <tbody>\n",
       "    <tr>\n",
       "      <th>0</th>\n",
       "      <td>1.0</td>\n",
       "      <td>Small cell lung carcinoma</td>\n",
       "    </tr>\n",
       "    <tr>\n",
       "      <th>1</th>\n",
       "      <td>1.0</td>\n",
       "      <td>Lymph node</td>\n",
       "    </tr>\n",
       "    <tr>\n",
       "      <th>2</th>\n",
       "      <td>2.0</td>\n",
       "      <td>Small cell lung carcinoma</td>\n",
       "    </tr>\n",
       "    <tr>\n",
       "      <th>3</th>\n",
       "      <td>2.0</td>\n",
       "      <td>Bone marrow</td>\n",
       "    </tr>\n",
       "    <tr>\n",
       "      <th>4</th>\n",
       "      <td>3.0</td>\n",
       "      <td>Large cell lung carcinoma</td>\n",
       "    </tr>\n",
       "  </tbody>\n",
       "</table>\n",
       "</div>"
      ],
      "text/plain": [
       "   CCLE_rank                    Disease\n",
       "0        1.0  Small cell lung carcinoma\n",
       "1        1.0                 Lymph node\n",
       "2        2.0  Small cell lung carcinoma\n",
       "3        2.0                Bone marrow\n",
       "4        3.0  Large cell lung carcinoma"
      ]
     },
     "execution_count": 59,
     "metadata": {},
     "output_type": "execute_result"
    }
   ],
   "source": [
    "ccle_rank.head()"
   ]
  },
  {
   "cell_type": "code",
   "execution_count": 145,
   "metadata": {
    "ExecuteTime": {
     "end_time": "2019-01-16T19:39:04.170542Z",
     "start_time": "2019-01-16T19:39:04.085432Z"
    }
   },
   "outputs": [
    {
     "data": {
      "text/html": [
       "<div>\n",
       "<style scoped>\n",
       "    .dataframe tbody tr th:only-of-type {\n",
       "        vertical-align: middle;\n",
       "    }\n",
       "\n",
       "    .dataframe tbody tr th {\n",
       "        vertical-align: top;\n",
       "    }\n",
       "\n",
       "    .dataframe thead th {\n",
       "        text-align: right;\n",
       "    }\n",
       "</style>\n",
       "<table border=\"1\" class=\"dataframe\">\n",
       "  <thead>\n",
       "    <tr style=\"text-align: right;\">\n",
       "      <th></th>\n",
       "      <th>Disease</th>\n",
       "      <th>rank</th>\n",
       "    </tr>\n",
       "  </thead>\n",
       "  <tbody>\n",
       "    <tr>\n",
       "      <th>0</th>\n",
       "      <td>small cell lung carcinoma</td>\n",
       "      <td>1.0</td>\n",
       "    </tr>\n",
       "    <tr>\n",
       "      <th>1</th>\n",
       "      <td>lymph node</td>\n",
       "      <td>1.0</td>\n",
       "    </tr>\n",
       "    <tr>\n",
       "      <th>2</th>\n",
       "      <td>small cell lung carcinoma</td>\n",
       "      <td>2.0</td>\n",
       "    </tr>\n",
       "    <tr>\n",
       "      <th>3</th>\n",
       "      <td>bone marrow</td>\n",
       "      <td>2.0</td>\n",
       "    </tr>\n",
       "    <tr>\n",
       "      <th>4</th>\n",
       "      <td>large cell lung carcinoma</td>\n",
       "      <td>3.0</td>\n",
       "    </tr>\n",
       "  </tbody>\n",
       "</table>\n",
       "</div>"
      ],
      "text/plain": [
       "                     Disease  rank\n",
       "0  small cell lung carcinoma   1.0\n",
       "1                 lymph node   1.0\n",
       "2  small cell lung carcinoma   2.0\n",
       "3                bone marrow   2.0\n",
       "4  large cell lung carcinoma   3.0"
      ]
     },
     "execution_count": 145,
     "metadata": {},
     "output_type": "execute_result"
    }
   ],
   "source": [
    "# df.rename({\"CCLE_rank\": \"rank\"}, axis='columns')\n",
    "\n",
    "# merged.head()"
   ]
  },
  {
   "cell_type": "code",
   "execution_count": 127,
   "metadata": {
    "ExecuteTime": {
     "end_time": "2019-01-16T19:07:55.354742Z",
     "start_time": "2019-01-16T19:07:55.349547Z"
    }
   },
   "outputs": [],
   "source": []
  },
  {
   "cell_type": "code",
   "execution_count": 146,
   "metadata": {
    "ExecuteTime": {
     "end_time": "2019-01-16T19:46:58.609173Z",
     "start_time": "2019-01-16T19:46:56.461908Z"
    }
   },
   "outputs": [],
   "source": []
  },
  {
   "cell_type": "code",
   "execution_count": 151,
   "metadata": {
    "ExecuteTime": {
     "end_time": "2019-01-16T19:57:40.550091Z",
     "start_time": "2019-01-16T19:57:40.495355Z"
    },
    "scrolled": false
   },
   "outputs": [
    {
     "data": {
      "text/html": [
       "<div>\n",
       "<style scoped>\n",
       "    .dataframe tbody tr th:only-of-type {\n",
       "        vertical-align: middle;\n",
       "    }\n",
       "\n",
       "    .dataframe tbody tr th {\n",
       "        vertical-align: top;\n",
       "    }\n",
       "\n",
       "    .dataframe thead th {\n",
       "        text-align: right;\n",
       "    }\n",
       "</style>\n",
       "<table border=\"1\" class=\"dataframe\">\n",
       "  <thead>\n",
       "    <tr style=\"text-align: right;\">\n",
       "      <th></th>\n",
       "      <th>mean_rank</th>\n",
       "      <th>weight</th>\n",
       "    </tr>\n",
       "  </thead>\n",
       "  <tbody>\n",
       "    <tr>\n",
       "      <th>cervix</th>\n",
       "      <td>5.0</td>\n",
       "      <td>1.0</td>\n",
       "    </tr>\n",
       "    <tr>\n",
       "      <th>brain</th>\n",
       "      <td>12.0</td>\n",
       "      <td>3.0</td>\n",
       "    </tr>\n",
       "    <tr>\n",
       "      <th>adrenal gland neuroblastoma</th>\n",
       "      <td>15.0</td>\n",
       "      <td>1.0</td>\n",
       "    </tr>\n",
       "    <tr>\n",
       "      <th>pancreatic somatostatinoma</th>\n",
       "      <td>20.0</td>\n",
       "      <td>1.0</td>\n",
       "    </tr>\n",
       "    <tr>\n",
       "      <th>prostate carcinoma</th>\n",
       "      <td>21.0</td>\n",
       "      <td>2.0</td>\n",
       "    </tr>\n",
       "  </tbody>\n",
       "</table>\n",
       "</div>"
      ],
      "text/plain": [
       "                             mean_rank  weight\n",
       "cervix                             5.0     1.0\n",
       "brain                             12.0     3.0\n",
       "adrenal gland neuroblastoma       15.0     1.0\n",
       "pancreatic somatostatinoma        20.0     1.0\n",
       "prostate carcinoma                21.0     2.0"
      ]
     },
     "metadata": {},
     "output_type": "display_data"
    },
    {
     "data": {
      "text/html": [
       "<div>\n",
       "<style scoped>\n",
       "    .dataframe tbody tr th:only-of-type {\n",
       "        vertical-align: middle;\n",
       "    }\n",
       "\n",
       "    .dataframe tbody tr th {\n",
       "        vertical-align: top;\n",
       "    }\n",
       "\n",
       "    .dataframe thead th {\n",
       "        text-align: right;\n",
       "    }\n",
       "</style>\n",
       "<table border=\"1\" class=\"dataframe\">\n",
       "  <thead>\n",
       "    <tr style=\"text-align: right;\">\n",
       "      <th></th>\n",
       "      <th>mean_rank</th>\n",
       "      <th>weight</th>\n",
       "    </tr>\n",
       "  </thead>\n",
       "  <tbody>\n",
       "    <tr>\n",
       "      <th>cervix</th>\n",
       "      <td>10.0</td>\n",
       "      <td>1.0</td>\n",
       "    </tr>\n",
       "    <tr>\n",
       "      <th>small cell lung carcinoma</th>\n",
       "      <td>15.0</td>\n",
       "      <td>19.0</td>\n",
       "    </tr>\n",
       "    <tr>\n",
       "      <th>adrenal gland neuroblastoma</th>\n",
       "      <td>20.0</td>\n",
       "      <td>2.0</td>\n",
       "    </tr>\n",
       "    <tr>\n",
       "      <th>brain</th>\n",
       "      <td>23.0</td>\n",
       "      <td>5.0</td>\n",
       "    </tr>\n",
       "    <tr>\n",
       "      <th>vertebra</th>\n",
       "      <td>30.0</td>\n",
       "      <td>1.0</td>\n",
       "    </tr>\n",
       "  </tbody>\n",
       "</table>\n",
       "</div>"
      ],
      "text/plain": [
       "                             mean_rank  weight\n",
       "cervix                            10.0     1.0\n",
       "small cell lung carcinoma         15.0    19.0\n",
       "adrenal gland neuroblastoma       20.0     2.0\n",
       "brain                             23.0     5.0\n",
       "vertebra                          30.0     1.0"
      ]
     },
     "metadata": {},
     "output_type": "display_data"
    },
    {
     "data": {
      "text/html": [
       "<div>\n",
       "<style scoped>\n",
       "    .dataframe tbody tr th:only-of-type {\n",
       "        vertical-align: middle;\n",
       "    }\n",
       "\n",
       "    .dataframe tbody tr th {\n",
       "        vertical-align: top;\n",
       "    }\n",
       "\n",
       "    .dataframe thead th {\n",
       "        text-align: right;\n",
       "    }\n",
       "</style>\n",
       "<table border=\"1\" class=\"dataframe\">\n",
       "  <thead>\n",
       "    <tr style=\"text-align: right;\">\n",
       "      <th></th>\n",
       "      <th>mean_rank</th>\n",
       "      <th>weight</th>\n",
       "    </tr>\n",
       "  </thead>\n",
       "  <tbody>\n",
       "    <tr>\n",
       "      <th>small cell lung carcinoma</th>\n",
       "      <td>33.5</td>\n",
       "      <td>58.0</td>\n",
       "    </tr>\n",
       "    <tr>\n",
       "      <th>lung carcinoma</th>\n",
       "      <td>35.0</td>\n",
       "      <td>1.0</td>\n",
       "    </tr>\n",
       "    <tr>\n",
       "      <th>thyroid gland squamous cell carcinoma</th>\n",
       "      <td>43.0</td>\n",
       "      <td>1.0</td>\n",
       "    </tr>\n",
       "    <tr>\n",
       "      <th>adrenal gland</th>\n",
       "      <td>44.5</td>\n",
       "      <td>2.0</td>\n",
       "    </tr>\n",
       "    <tr>\n",
       "      <th>supraclavicular lymph node</th>\n",
       "      <td>59.5</td>\n",
       "      <td>2.0</td>\n",
       "    </tr>\n",
       "  </tbody>\n",
       "</table>\n",
       "</div>"
      ],
      "text/plain": [
       "                                       mean_rank  weight\n",
       "small cell lung carcinoma                   33.5    58.0\n",
       "lung carcinoma                              35.0     1.0\n",
       "thyroid gland squamous cell carcinoma       43.0     1.0\n",
       "adrenal gland                               44.5     2.0\n",
       "supraclavicular lymph node                  59.5     2.0"
      ]
     },
     "metadata": {},
     "output_type": "display_data"
    },
    {
     "data": {
      "text/html": [
       "<div>\n",
       "<style scoped>\n",
       "    .dataframe tbody tr th:only-of-type {\n",
       "        vertical-align: middle;\n",
       "    }\n",
       "\n",
       "    .dataframe tbody tr th {\n",
       "        vertical-align: top;\n",
       "    }\n",
       "\n",
       "    .dataframe thead th {\n",
       "        text-align: right;\n",
       "    }\n",
       "</style>\n",
       "<table border=\"1\" class=\"dataframe\">\n",
       "  <thead>\n",
       "    <tr style=\"text-align: right;\">\n",
       "      <th></th>\n",
       "      <th>mean_rank</th>\n",
       "      <th>weight</th>\n",
       "    </tr>\n",
       "  </thead>\n",
       "  <tbody>\n",
       "    <tr>\n",
       "      <th>cervix</th>\n",
       "      <td>10.0</td>\n",
       "      <td>3.0</td>\n",
       "    </tr>\n",
       "    <tr>\n",
       "      <th>adrenal gland neuroblastoma</th>\n",
       "      <td>26.0</td>\n",
       "      <td>5.0</td>\n",
       "    </tr>\n",
       "    <tr>\n",
       "      <th>small cell lung carcinoma</th>\n",
       "      <td>28.5</td>\n",
       "      <td>88.0</td>\n",
       "    </tr>\n",
       "    <tr>\n",
       "      <th>lung carcinoma</th>\n",
       "      <td>35.0</td>\n",
       "      <td>1.0</td>\n",
       "    </tr>\n",
       "    <tr>\n",
       "      <th>pancreatic somatostatinoma</th>\n",
       "      <td>35.0</td>\n",
       "      <td>3.0</td>\n",
       "    </tr>\n",
       "  </tbody>\n",
       "</table>\n",
       "</div>"
      ],
      "text/plain": [
       "                             mean_rank  weight\n",
       "cervix                            10.0     3.0\n",
       "adrenal gland neuroblastoma       26.0     5.0\n",
       "small cell lung carcinoma         28.5    88.0\n",
       "lung carcinoma                    35.0     1.0\n",
       "pancreatic somatostatinoma        35.0     3.0"
      ]
     },
     "metadata": {},
     "output_type": "display_data"
    }
   ],
   "source": [
    "display(ccle_average_rank.head())\n",
    "display(ctrp_average_rank.head())\n",
    "display(gdsc_average_rank.head())\n",
    "display(merged_rank.head())"
   ]
  },
  {
   "cell_type": "code",
   "execution_count": 131,
   "metadata": {
    "ExecuteTime": {
     "end_time": "2019-01-16T19:08:23.513843Z",
     "start_time": "2019-01-16T19:08:23.506837Z"
    }
   },
   "outputs": [
    {
     "data": {
      "text/plain": [
       "mean_rank    67.0\n",
       "weight        1.0\n",
       "Name: cervix, dtype: float64"
      ]
     },
     "execution_count": 131,
     "metadata": {},
     "output_type": "execute_result"
    }
   ],
   "source": [
    "gdsc_average_rank.loc['cervix',:]"
   ]
  },
  {
   "cell_type": "code",
   "execution_count": 152,
   "metadata": {
    "ExecuteTime": {
     "end_time": "2019-01-16T19:57:59.106096Z",
     "start_time": "2019-01-16T19:57:59.098669Z"
    }
   },
   "outputs": [
    {
     "data": {
      "text/plain": [
       "mean_rank    74.0\n",
       "weight        8.0\n",
       "Name: medulloblastoma, dtype: float64"
      ]
     },
     "execution_count": 152,
     "metadata": {},
     "output_type": "execute_result"
    }
   ],
   "source": []
  },
  {
   "cell_type": "code",
   "execution_count": null,
   "metadata": {},
   "outputs": [],
   "source": []
  },
  {
   "cell_type": "code",
   "execution_count": null,
   "metadata": {},
   "outputs": [],
   "source": []
  },
  {
   "cell_type": "code",
   "execution_count": null,
   "metadata": {},
   "outputs": [],
   "source": [
    "# def run_discover(setup):\n",
    "    \n",
    "    \n",
    "    \n",
    "    \n",
    "    \n",
    "    log('Saving results to file.')\n",
    "    # display(discover_results)\n",
    "    discover_results.T.sort_values(by=setup.case_id, ascending=False).to_csv(setup.full_discover_results_file)\n",
    "    log(\"Saving done!\")\n",
    "    log(\"NOT Restricting to clinically relevant drugs.\")\n",
    "    #Not all drugs in CCLE, CTRP, and GDSC are realistic candidates for treatment. We compiled a list of medications that are FDA-approved or in late-stage clinical trials, and Dr. Wechsler-Reya curated it to include only those that are relevant for treating brain tumors. Here we limit the results to these drugs and add Dr. Wechsler-Reya's mechanism-of-action annotations. To enable comparison of drug lists, drugs from the different sources have been mapped to PubChem compound IDs (CIDs) using [PubChemPy](http://pubchempy.readthedocs.io/en/latest/).\n",
    "    from drug_suggestion.drug_annotation import subset_to_reasonable_drugs\n",
    "    from drug_suggestion.expression.discover import load_discover_drug_to_cids\n",
    "    disco2cid = load_discover_drug_to_cids()\n",
    "    reasonable_results = subset_to_reasonable_drugs(discover_results, \n",
    "                                                disco2cid, \n",
    "                                                out_prefix='discover.{}'.format(setup.expression_control), \n",
    "                                                out_dir=setup.discover_out_dir)\n",
    "    # This will override the file setup.rdrugs_discover_file\n",
    "    all_drugs = format_drugs(discover_results, \n",
    "                                disco2cid, \n",
    "                                out_prefix='discover.{}'.format(setup.expression_control), \n",
    "                                out_dir=setup.discover_out_dir)\n",
    "    log('Done restricting to clinically relevant drugs!')\n",
    "    \n",
    "##     log('making a discover illustrative method')\n",
    "##     from drug_suggestion.expression.discover import plot_discover_from_expression\n",
    "##     plot_discover_from_expression(case_id, \n",
    "##                                   discover_results, \n",
    "##                                   exp=patient_exp,\n",
    "##                                   control_exp=control_exp,\n",
    "##                                   cl='ctrp',\n",
    "##                                   out_file=discover_heatmap_file)\n",
    "##     make_discover_workflow_slide(mtb_ppt_file, discover_heatmap_file)\n",
    "    log('Making the DiSCoVER powerpoint.')\n",
    "    rdrugs_discover = pd.read_csv(setup.rdrugs_discover_file, index_col=None)\n",
    "\n",
    "    \n",
    "    # Using all of the drugs\n",
    "    log('Using all of the drugs')\n",
    "    df = split_discover_dataframe(df=rdrugs_discover)\n",
    "    df = rank_drugs_discover(df)\n",
    "#     df.head()\n",
    "    make_exp_drug_ranking_results_slide(setup.mtb_ppt_file, df.head(20), setup.expression_control, method='DiSCoVER')\n",
    "    log('Done making the DiSCoVER powerpoint slide!')\n",
    "    log('Savig the variables to a file.')\n",
    "    setup.discover_results = discover_results\n",
    "    setup.disco2cid = disco2cid\n",
    "    setup.control_exp = control_exp\n",
    "    setup.reasonable_results = reasonable_results\n",
    "    setup.df = df\n",
    "    log('Saving the formatted results of DiSCoVER to a csv')\n",
    "    df.to_csv(os.path.join(setup.out_dir, setup.case_id+'_formated_DISCoVER_results.csv'))\n",
    "#     pickle.dump(setup, file=open(setup.out_dir+'_backup4_DISCoVER.p','wb'))\n",
    "    pickle.dump(setup, file=open(os.path.join(setup.out_dir, setup.case_id+'_backup4_DISCoVER.p'),'wb'))\n",
    "#     pickle.dump(setup, file=open(setup.case_id+'_DISCoVER.p','wb'))\n",
    "    log('Done savig the variables to a file!')\n",
    "    \n",
    "    log('Done with all the taks in this cell. Move along.')\n",
    "    return setup"
   ]
  }
 ],
 "metadata": {
  "kernelspec": {
   "display_name": "Python 3",
   "language": "python",
   "name": "python3"
  },
  "language_info": {
   "codemirror_mode": {
    "name": "ipython",
    "version": 3
   },
   "file_extension": ".py",
   "mimetype": "text/x-python",
   "name": "python",
   "nbconvert_exporter": "python",
   "pygments_lexer": "ipython3",
   "version": "3.6.3"
  }
 },
 "nbformat": 4,
 "nbformat_minor": 2
}
