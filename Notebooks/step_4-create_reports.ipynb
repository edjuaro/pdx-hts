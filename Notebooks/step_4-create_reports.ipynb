{
 "cells": [
  {
   "cell_type": "code",
   "execution_count": 1,
   "metadata": {
    "ExecuteTime": {
     "end_time": "2018-12-18T20:27:40.230924Z",
     "start_time": "2018-12-18T20:03:13.406446Z"
    }
   },
   "outputs": [
    {
     "name": "stdout",
     "output_type": "stream",
     "text": [
      "Collecting ccal\n",
      "  Downloading https://files.pythonhosted.org/packages/44/28/278b51074791607cbcce4db53c572ee004824077905e7e0dea8fa257f797/ccal-0.8.11-py3-none-any.whl (56.9MB)\n",
      "\u001b[K    100% |################################| 56.9MB 18kB/s ta 0:00:017 0% |                                | 266kB 67kB/s eta 0:13:54    0% |                                | 460kB 83kB/s eta 0:11:19    2% |                                | 1.3MB 29kB/s eta 0:31:12    3% |#                               | 1.9MB 14kB/s eta 1:02:24    4% |#                               | 2.5MB 16kB/s eta 0:53:46    4% |#                               | 2.7MB 37kB/s eta 0:24:21    4% |#                               | 2.7MB 18kB/s eta 0:49:33    7% |##                              | 4.0MB 86kB/s eta 0:10:13    7% |##                              | 4.3MB 70kB/s eta 0:12:24    7% |##                              | 4.4MB 56kB/s eta 0:15:33    7% |##                              | 4.5MB 40kB/s eta 0:21:50    8% |##                              | 4.9MB 55kB/s eta 0:15:33    9% |###                             | 5.3MB 39kB/s eta 0:21:56    11% |###                             | 6.6MB 16kB/s eta 0:50:20    12% |####                            | 7.2MB 26kB/s eta 0:30:52    12% |####                            | 7.3MB 41kB/s eta 0:20:10    12% |####                            | 7.3MB 38kB/s eta 0:21:38    13% |####                            | 7.4MB 33kB/s eta 0:24:58    13% |####                            | 7.7MB 39kB/s eta 0:20:50    15% |####                            | 8.8MB 13kB/s eta 1:01:09    15% |#####                           | 8.9MB 32kB/s eta 0:24:41    17% |#####                           | 10.1MB 45kB/s eta 0:17:10    19% |######                          | 10.9MB 41kB/s eta 0:18:41    19% |######                          | 11.2MB 35kB/s eta 0:21:44    21% |######                          | 12.0MB 35kB/s eta 0:21:11    21% |######                          | 12.1MB 44kB/s eta 0:16:54    22% |#######                         | 12.5MB 29kB/s eta 0:24:42    22% |#######                         | 12.7MB 52kB/s eta 0:14:08    23% |#######                         | 13.2MB 57kB/s eta 0:12:46    23% |#######                         | 13.5MB 47kB/s eta 0:15:18    25% |########                        | 14.5MB 39kB/s eta 0:17:56    25% |########                        | 14.7MB 52kB/s eta 0:13:26    26% |########                        | 15.3MB 47kB/s eta 0:14:37    31% |#########                       | 17.7MB 21kB/s eta 0:30:13    31% |##########                      | 17.9MB 15kB/s eta 0:42:07    33% |##########                      | 18.9MB 11kB/s eta 0:54:17    33% |##########                      | 19.0MB 18kB/s eta 0:34:18    33% |##########                      | 19.3MB 19kB/s eta 0:32:06    33% |##########                      | 19.3MB 23kB/s eta 0:27:14    35% |###########                     | 20.0MB 19kB/s eta 0:31:17    40% |#############                   | 23.2MB 63kB/s eta 0:08:53    42% |#############                   | 23.9MB 48kB/s eta 0:11:18    43% |##############                  | 25.0MB 52kB/s eta 0:10:11    44% |##############                  | 25.1MB 33kB/s eta 0:15:51    49% |###############                 | 28.4MB 49kB/s eta 0:09:38    50% |################                | 28.5MB 57kB/s eta 0:08:16    50% |################                | 28.6MB 18kB/s eta 0:25:26    50% |################                | 28.7MB 28kB/s eta 0:16:18    50% |################                | 28.7MB 38kB/s eta 0:12:10    50% |################                | 28.9MB 26kB/s eta 0:17:36    55% |#################               | 31.4MB 73kB/s eta 0:05:47    56% |##################              | 32.2MB 33kB/s eta 0:12:21    58% |##################              | 33.0MB 32kB/s eta 0:12:25    58% |##################              | 33.3MB 41kB/s eta 0:09:34    60% |###################             | 34.5MB 70kB/s eta 0:05:17    61% |###################             | 35.0MB 72kB/s eta 0:05:04    62% |####################            | 35.8MB 56kB/s eta 0:06:12    64% |####################            | 36.6MB 64kB/s eta 0:05:15    64% |####################            | 36.6MB 50kB/s eta 0:06:43    64% |####################            | 36.7MB 56kB/s eta 0:06:00    65% |####################            | 37.2MB 39kB/s eta 0:08:18    67% |#####################           | 38.6MB 49kB/s eta 0:06:13    70% |######################          | 40.1MB 65kB/s eta 0:04:15    71% |######################          | 40.4MB 48kB/s eta 0:05:37    73% |#######################         | 41.5MB 34kB/s eta 0:07:20    74% |#######################         | 42.3MB 28kB/s eta 0:08:34    75% |########################        | 42.7MB 43kB/s eta 0:05:25    75% |########################        | 43.1MB 51kB/s eta 0:04:27    80% |#########################       | 45.7MB 39kB/s eta 0:04:43    82% |##########################      | 46.8MB 65kB/s eta 0:02:34    85% |###########################     | 48.7MB 44kB/s eta 0:03:07    86% |###########################     | 49.3MB 42kB/s eta 0:02:57    87% |###########################     | 49.7MB 56kB/s eta 0:02:08    90% |#############################   | 51.7MB 52kB/s eta 0:01:40    94% |##############################  | 53.7MB 60kB/s eta 0:00:53    94% |##############################  | 53.8MB 37kB/s eta 0:01:24    94% |##############################  | 54.0MB 61kB/s eta 0:00:47    96% |##############################  | 54.8MB 56kB/s eta 0:00:37    97% |############################### | 55.7MB 32kB/s eta 0:00:38    98% |############################### | 56.2MB 29kB/s eta 0:00:22    99% |############################### | 56.5MB 65kB/s eta 0:00:07\n",
      "\u001b[?25hInstalling collected packages: ccal\n",
      "Successfully installed ccal-0.8.11\n",
      "\u001b[33mYou are using pip version 9.0.1, however version 18.1 is available.\n",
      "You should consider upgrading via the 'pip install --upgrade pip' command.\u001b[0m\n"
     ]
    }
   ],
   "source": [
    "!pip install ccal"
   ]
  },
  {
   "cell_type": "code",
   "execution_count": 3,
   "metadata": {
    "ExecuteTime": {
     "end_time": "2018-12-18T20:31:20.353761Z",
     "start_time": "2018-12-18T20:31:15.365375Z"
    }
   },
   "outputs": [
    {
     "name": "stdout",
     "output_type": "stream",
     "text": [
      "Collecting click\n",
      "  Downloading https://files.pythonhosted.org/packages/fa/37/45185cb5abbc30d7257104c434fe0b07e5a195a6847506c074527aa599ec/Click-7.0-py2.py3-none-any.whl (81kB)\n",
      "\u001b[K    100% |################################| 81kB 106kB/s a 0:00:011\n",
      "\u001b[?25hInstalling collected packages: click\n",
      "Successfully installed click-7.0\n",
      "\u001b[33mYou are using pip version 9.0.1, however version 18.1 is available.\n",
      "You should consider upgrading via the 'pip install --upgrade pip' command.\u001b[0m\n"
     ]
    }
   ],
   "source": [
    "!pip install click"
   ]
  },
  {
   "cell_type": "code",
   "execution_count": 5,
   "metadata": {
    "ExecuteTime": {
     "end_time": "2018-12-18T20:46:23.196075Z",
     "start_time": "2018-12-18T20:31:50.194434Z"
    }
   },
   "outputs": [
    {
     "name": "stdout",
     "output_type": "stream",
     "text": [
      "Collecting plotly\n",
      "  Downloading https://files.pythonhosted.org/packages/32/d6/82333db5a6f56f828d817d49ae6ea153125d70214a189686afe784e159ad/plotly-3.4.2-py2.py3-none-any.whl (37.8MB)\n",
      "\u001b[K    100% |################################| 37.8MB 22kB/s ta 0:00:016 3% |#                               | 1.3MB 61kB/s eta 0:09:49    9% |##                              | 3.5MB 40kB/s eta 0:14:11    12% |###                             | 4.6MB 107kB/s eta 0:05:08    23% |#######                         | 8.9MB 21kB/s eta 0:22:22    25% |########                        | 9.7MB 45kB/s eta 0:10:20    25% |########                        | 9.7MB 62kB/s eta 0:07:30    32% |##########                      | 12.2MB 25kB/s eta 0:16:34    32% |##########                      | 12.2MB 42kB/s eta 0:10:06    33% |##########                      | 12.7MB 55kB/s eta 0:07:36    38% |############                    | 14.5MB 65kB/s eta 0:05:54    43% |#############                   | 16.3MB 49kB/s eta 0:07:10    45% |##############                  | 17.3MB 34kB/s eta 0:09:51    45% |##############                  | 17.3MB 35kB/s eta 0:09:42    46% |##############                  | 17.7MB 50kB/s eta 0:06:39    48% |###############                 | 18.2MB 42kB/s eta 0:07:35    48% |###############                 | 18.3MB 39kB/s eta 0:08:10    49% |###############                 | 18.6MB 16kB/s eta 0:19:23    53% |#################               | 20.3MB 50kB/s eta 0:05:49    54% |#################               | 20.6MB 51kB/s eta 0:05:30    63% |####################            | 24.1MB 52kB/s eta 0:04:23    63% |####################            | 24.2MB 50kB/s eta 0:04:30    64% |####################            | 24.4MB 48kB/s eta 0:04:38    66% |#####################           | 25.1MB 62kB/s eta 0:03:21    67% |#####################           | 25.3MB 41kB/s eta 0:04:58    74% |#######################         | 28.2MB 45kB/s eta 0:03:29    80% |#########################       | 30.4MB 53kB/s eta 0:02:17    88% |############################    | 33.5MB 31kB/s eta 0:02:15    89% |############################    | 34.0MB 32kB/s eta 0:01:58    90% |############################    | 34.2MB 43kB/s eta 0:01:23    91% |#############################   | 34.5MB 57kB/s eta 0:00:57    92% |#############################   | 35.0MB 47kB/s eta 0:01:00    94% |##############################  | 35.6MB 41kB/s eta 0:00:53    94% |##############################  | 35.7MB 47kB/s eta 0:00:44    97% |############################### | 37.0MB 28kB/s eta 0:00:29    98% |############################### | 37.0MB 48kB/s eta 0:00:15\n",
      "\u001b[?25hRequirement already satisfied: requests in /opt/conda/lib/python3.6/site-packages (from plotly)\n",
      "Requirement already satisfied: six in /opt/conda/lib/python3.6/site-packages (from plotly)\n",
      "Requirement already satisfied: pytz in /opt/conda/lib/python3.6/site-packages (from plotly)\n",
      "Requirement already satisfied: decorator>=4.0.6 in /opt/conda/lib/python3.6/site-packages (from plotly)\n",
      "Collecting retrying>=1.3.3 (from plotly)\n",
      "  Downloading https://files.pythonhosted.org/packages/44/ef/beae4b4ef80902f22e3af073397f079c96969c69b2c7d52a57ea9ae61c9d/retrying-1.3.3.tar.gz\n",
      "Requirement already satisfied: nbformat>=4.2 in /opt/conda/lib/python3.6/site-packages (from plotly)\n",
      "Requirement already satisfied: chardet<3.1.0,>=3.0.2 in /opt/conda/lib/python3.6/site-packages (from requests->plotly)\n",
      "Requirement already satisfied: idna<2.7,>=2.5 in /opt/conda/lib/python3.6/site-packages (from requests->plotly)\n",
      "Requirement already satisfied: urllib3<1.23,>=1.21.1 in /opt/conda/lib/python3.6/site-packages (from requests->plotly)\n",
      "Requirement already satisfied: certifi>=2017.4.17 in /opt/conda/lib/python3.6/site-packages (from requests->plotly)\n",
      "Requirement already satisfied: jsonschema!=2.5.0,>=2.4 in /opt/conda/lib/python3.6/site-packages (from nbformat>=4.2->plotly)\n",
      "Requirement already satisfied: traitlets>=4.1 in /opt/conda/lib/python3.6/site-packages (from nbformat>=4.2->plotly)\n",
      "Requirement already satisfied: ipython-genutils in /opt/conda/lib/python3.6/site-packages (from nbformat>=4.2->plotly)\n",
      "Requirement already satisfied: jupyter-core in /opt/conda/lib/python3.6/site-packages (from nbformat>=4.2->plotly)\n",
      "Building wheels for collected packages: retrying\n",
      "  Running setup.py bdist_wheel for retrying ... \u001b[?25ldone\n",
      "\u001b[?25h  Stored in directory: /home/jovyan/.cache/pip/wheels/d7/a9/33/acc7b709e2a35caa7d4cae442f6fe6fbf2c43f80823d46460c\n",
      "Successfully built retrying\n",
      "Installing collected packages: retrying, plotly\n",
      "Successfully installed plotly-3.4.2 retrying-1.3.3\n",
      "\u001b[33mYou are using pip version 9.0.1, however version 18.1 is available.\n",
      "You should consider upgrading via the 'pip install --upgrade pip' command.\u001b[0m\n"
     ]
    }
   ],
   "source": [
    "!pip install plotly"
   ]
  },
  {
   "cell_type": "code",
   "execution_count": 10,
   "metadata": {
    "ExecuteTime": {
     "end_time": "2018-12-18T21:32:22.912978Z",
     "start_time": "2018-12-18T21:32:21.925955Z"
    }
   },
   "outputs": [
    {
     "name": "stdout",
     "output_type": "stream",
     "text": [
      "Requirement already satisfied: pyfaidx==0.5.5.2 in /opt/conda/lib/python3.6/site-packages\n",
      "Requirement already satisfied: setuptools>=0.7 in /opt/conda/lib/python3.6/site-packages (from pyfaidx==0.5.5.2)\n",
      "Requirement already satisfied: six in /opt/conda/lib/python3.6/site-packages (from pyfaidx==0.5.5.2)\n",
      "\u001b[33mYou are using pip version 9.0.1, however version 18.1 is available.\n",
      "You should consider upgrading via the 'pip install --upgrade pip' command.\u001b[0m\n"
     ]
    }
   ],
   "source": [
    "!pip install pyfaidx==0.5.5.2"
   ]
  },
  {
   "cell_type": "code",
   "execution_count": 17,
   "metadata": {
    "ExecuteTime": {
     "end_time": "2018-12-18T21:35:55.474201Z",
     "start_time": "2018-12-18T21:35:42.646125Z"
    }
   },
   "outputs": [
    {
     "name": "stdout",
     "output_type": "stream",
     "text": [
      "Collecting pytabix\n",
      "  Downloading https://files.pythonhosted.org/packages/84/6a/520ecf75c2ada77492cb4ed21fb22aed178e791df434ca083b59fffadddd/pytabix-0.1.tar.gz (45kB)\n",
      "\u001b[K    100% |################################| 51kB 7.0kB/s ta 0:00:01\n",
      "\u001b[?25hBuilding wheels for collected packages: pytabix\n",
      "  Running setup.py bdist_wheel for pytabix ... \u001b[?25lerror\n",
      "  Complete output from command /opt/conda/bin/python -u -c \"import setuptools, tokenize;__file__='/tmp/pip-build-y6n8eb9f/pytabix/setup.py';f=getattr(tokenize, 'open', open)(__file__);code=f.read().replace('\\r\\n', '\\n');f.close();exec(compile(code, __file__, 'exec'))\" bdist_wheel -d /tmp/tmpekercx93pip-wheel- --python-tag cp36:\n",
      "  running bdist_wheel\n",
      "  running build\n",
      "  running build_py\n",
      "  creating build\n",
      "  creating build/lib.linux-x86_64-3.6\n",
      "  creating build/lib.linux-x86_64-3.6/test\n",
      "  copying test/test.py -> build/lib.linux-x86_64-3.6/test\n",
      "  copying test/__init__.py -> build/lib.linux-x86_64-3.6/test\n",
      "  copying test/example.gtf.gz -> build/lib.linux-x86_64-3.6/test\n",
      "  copying test/example.gtf.gz.tbi -> build/lib.linux-x86_64-3.6/test\n",
      "  running build_ext\n",
      "  building 'tabix' extension\n",
      "  creating build/temp.linux-x86_64-3.6\n",
      "  creating build/temp.linux-x86_64-3.6/src\n",
      "  gcc -pthread -B /opt/conda/compiler_compat -Wl,--sysroot=/ -Wsign-compare -DNDEBUG -g -fwrapv -O3 -Wall -Wstrict-prototypes -fPIC -D_FILE_OFFSET_BITS=64 -D_USE_KNETFILE=1 -Isrc -I/opt/conda/include/python3.6m -c src/bgzf.c -o build/temp.linux-x86_64-3.6/src/bgzf.o\n",
      "  In file included from src/bgzf.c:31:0:\n",
      "  src/bgzf.h:33:18: fatal error: zlib.h: No such file or directory\n",
      "  compilation terminated.\n",
      "  error: command 'gcc' failed with exit status 1\n",
      "  \n",
      "  ----------------------------------------\n",
      "\u001b[31m  Failed building wheel for pytabix\u001b[0m\n",
      "\u001b[?25h  Running setup.py clean for pytabix\n",
      "Failed to build pytabix\n",
      "Installing collected packages: pytabix\n",
      "  Running setup.py install for pytabix ... \u001b[?25lerror\n",
      "    Complete output from command /opt/conda/bin/python -u -c \"import setuptools, tokenize;__file__='/tmp/pip-build-y6n8eb9f/pytabix/setup.py';f=getattr(tokenize, 'open', open)(__file__);code=f.read().replace('\\r\\n', '\\n');f.close();exec(compile(code, __file__, 'exec'))\" install --record /tmp/pip-7l14tefx-record/install-record.txt --single-version-externally-managed --compile:\n",
      "    running install\n",
      "    running build\n",
      "    running build_py\n",
      "    creating build\n",
      "    creating build/lib.linux-x86_64-3.6\n",
      "    creating build/lib.linux-x86_64-3.6/test\n",
      "    copying test/test.py -> build/lib.linux-x86_64-3.6/test\n",
      "    copying test/__init__.py -> build/lib.linux-x86_64-3.6/test\n",
      "    copying test/example.gtf.gz -> build/lib.linux-x86_64-3.6/test\n",
      "    copying test/example.gtf.gz.tbi -> build/lib.linux-x86_64-3.6/test\n",
      "    running build_ext\n",
      "    building 'tabix' extension\n",
      "    creating build/temp.linux-x86_64-3.6\n",
      "    creating build/temp.linux-x86_64-3.6/src\n",
      "    gcc -pthread -B /opt/conda/compiler_compat -Wl,--sysroot=/ -Wsign-compare -DNDEBUG -g -fwrapv -O3 -Wall -Wstrict-prototypes -fPIC -D_FILE_OFFSET_BITS=64 -D_USE_KNETFILE=1 -Isrc -I/opt/conda/include/python3.6m -c src/bgzf.c -o build/temp.linux-x86_64-3.6/src/bgzf.o\n",
      "    In file included from src/bgzf.c:31:0:\n",
      "    src/bgzf.h:33:18: fatal error: zlib.h: No such file or directory\n",
      "    compilation terminated.\n",
      "    error: command 'gcc' failed with exit status 1\n",
      "    \n",
      "    ----------------------------------------\n",
      "\u001b[31mCommand \"/opt/conda/bin/python -u -c \"import setuptools, tokenize;__file__='/tmp/pip-build-y6n8eb9f/pytabix/setup.py';f=getattr(tokenize, 'open', open)(__file__);code=f.read().replace('\\r\\n', '\\n');f.close();exec(compile(code, __file__, 'exec'))\" install --record /tmp/pip-7l14tefx-record/install-record.txt --single-version-externally-managed --compile\" failed with error code 1 in /tmp/pip-build-y6n8eb9f/pytabix/\u001b[0m\n",
      "\u001b[33mYou are using pip version 9.0.1, however version 18.1 is available.\n",
      "You should consider upgrading via the 'pip install --upgrade pip' command.\u001b[0m\n",
      "\u001b[?25h"
     ]
    }
   ],
   "source": [
    "!pip install pytabix"
   ]
  },
  {
   "cell_type": "code",
   "execution_count": 18,
   "metadata": {
    "ExecuteTime": {
     "end_time": "2018-12-18T21:37:05.885445Z",
     "start_time": "2018-12-18T21:36:16.686747Z"
    }
   },
   "outputs": [
    {
     "name": "stdout",
     "output_type": "stream",
     "text": [
      "Solving environment: failed\n",
      "\n",
      "PackagesNotFoundError: The following packages are not available from current channels:\n",
      "\n",
      "  - pytabix\n",
      "\n",
      "Current channels:\n",
      "\n",
      "  - https://conda.anaconda.org/conda-forge/linux-64\n",
      "  - https://conda.anaconda.org/conda-forge/noarch\n",
      "  - https://repo.continuum.io/pkgs/main/linux-64\n",
      "  - https://repo.continuum.io/pkgs/main/noarch\n",
      "  - https://repo.continuum.io/pkgs/free/linux-64\n",
      "  - https://repo.continuum.io/pkgs/free/noarch\n",
      "  - https://repo.continuum.io/pkgs/r/linux-64\n",
      "  - https://repo.continuum.io/pkgs/r/noarch\n",
      "  - https://repo.continuum.io/pkgs/pro/linux-64\n",
      "  - https://repo.continuum.io/pkgs/pro/noarch\n",
      "\n",
      "\n"
     ]
    }
   ],
   "source": [
    "!conda install -y pytabix"
   ]
  },
  {
   "cell_type": "code",
   "execution_count": 11,
   "metadata": {
    "ExecuteTime": {
     "end_time": "2018-12-18T21:32:30.746842Z",
     "start_time": "2018-12-18T21:32:30.691888Z"
    },
    "scrolled": true
   },
   "outputs": [
    {
     "name": "stdout",
     "output_type": "stream",
     "text": [
      "CCAL version 0.8.11 @ /opt/conda/lib/python3.6/site-packages/ccal/__init__.py\n"
     ]
    },
    {
     "ename": "ModuleNotFoundError",
     "evalue": "No module named 'tabix'",
     "output_type": "error",
     "traceback": [
      "\u001b[0;31m---------------------------------------------------------------------------\u001b[0m",
      "\u001b[0;31mModuleNotFoundError\u001b[0m                       Traceback (most recent call last)",
      "\u001b[0;32m<ipython-input-11-7e952c7cceb3>\u001b[0m in \u001b[0;36m<module>\u001b[0;34m()\u001b[0m\n\u001b[0;32m----> 1\u001b[0;31m \u001b[0;32mimport\u001b[0m \u001b[0mccal\u001b[0m\u001b[0;34m\u001b[0m\u001b[0m\n\u001b[0m",
      "\u001b[0;32m/opt/conda/lib/python3.6/site-packages/ccal/__init__.py\u001b[0m in \u001b[0;36m<module>\u001b[0;34m()\u001b[0m\n\u001b[1;32m    108\u001b[0m \u001b[0;32mfrom\u001b[0m \u001b[0;34m.\u001b[0m\u001b[0mmutational_signature\u001b[0m\u001b[0;34m.\u001b[0m\u001b[0mmutational_signature\u001b[0m\u001b[0;34m.\u001b[0m\u001b[0mnormalize_contig\u001b[0m \u001b[0;32mimport\u001b[0m \u001b[0mnormalize_contig\u001b[0m\u001b[0;34m\u001b[0m\u001b[0m\n\u001b[1;32m    109\u001b[0m \u001b[0;32mfrom\u001b[0m \u001b[0;34m.\u001b[0m\u001b[0mgene\u001b[0m\u001b[0;34m.\u001b[0m\u001b[0mgene\u001b[0m\u001b[0;34m.\u001b[0m\u001b[0mselect_gene_symbol\u001b[0m \u001b[0;32mimport\u001b[0m \u001b[0mselect_gene_symbol\u001b[0m\u001b[0;34m\u001b[0m\u001b[0m\n\u001b[0;32m--> 110\u001b[0;31m \u001b[0;32mfrom\u001b[0m \u001b[0;34m.\u001b[0m\u001b[0mgenome\u001b[0m\u001b[0;34m.\u001b[0m\u001b[0mgenome\u001b[0m\u001b[0;34m.\u001b[0m\u001b[0mGenome\u001b[0m \u001b[0;32mimport\u001b[0m \u001b[0mis_valid_vcf_gz\u001b[0m\u001b[0;34m\u001b[0m\u001b[0m\n\u001b[0m\u001b[1;32m    111\u001b[0m \u001b[0;32mfrom\u001b[0m \u001b[0;34m.\u001b[0m\u001b[0mgenome\u001b[0m\u001b[0;34m.\u001b[0m\u001b[0mgenome\u001b[0m\u001b[0;34m.\u001b[0m\u001b[0mGenome\u001b[0m \u001b[0;32mimport\u001b[0m \u001b[0mGenome\u001b[0m\u001b[0;34m\u001b[0m\u001b[0m\n\u001b[1;32m    112\u001b[0m \u001b[0;32mfrom\u001b[0m \u001b[0;34m.\u001b[0m\u001b[0mclassification\u001b[0m\u001b[0;34m.\u001b[0m\u001b[0mclassification\u001b[0m\u001b[0;34m.\u001b[0m\u001b[0mtrain_and_classify\u001b[0m \u001b[0;32mimport\u001b[0m \u001b[0mtrain_and_classify\u001b[0m\u001b[0;34m\u001b[0m\u001b[0m\n",
      "\u001b[0;32m/opt/conda/lib/python3.6/site-packages/ccal/genome/genome/Genome.py\u001b[0m in \u001b[0;36m<module>\u001b[0;34m()\u001b[0m\n\u001b[1;32m      7\u001b[0m     \u001b[0mget_chromosome_size_from_fasta_gz\u001b[0m\u001b[0;34m,\u001b[0m\u001b[0;34m\u001b[0m\u001b[0m\n\u001b[1;32m      8\u001b[0m )\n\u001b[0;32m----> 9\u001b[0;31m from .variant.variant.access_vcf import (\n\u001b[0m\u001b[1;32m     10\u001b[0m     \u001b[0mcount_gene_impacts_from_variant_dicts\u001b[0m\u001b[0;34m,\u001b[0m\u001b[0;34m\u001b[0m\u001b[0m\n\u001b[1;32m     11\u001b[0m     \u001b[0mcount_vcf_gz_rows\u001b[0m\u001b[0;34m,\u001b[0m\u001b[0;34m\u001b[0m\u001b[0m\n",
      "\u001b[0;32m/opt/conda/lib/python3.6/site-packages/ccal/genome/genome/variant/variant/access_vcf.py\u001b[0m in \u001b[0;36m<module>\u001b[0;34m()\u001b[0m\n\u001b[1;32m      2\u001b[0m \u001b[0;32mfrom\u001b[0m \u001b[0mwarnings\u001b[0m \u001b[0;32mimport\u001b[0m \u001b[0mwarn\u001b[0m\u001b[0;34m\u001b[0m\u001b[0m\n\u001b[1;32m      3\u001b[0m \u001b[0;34m\u001b[0m\u001b[0m\n\u001b[0;32m----> 4\u001b[0;31m \u001b[0;32mfrom\u001b[0m \u001b[0mtabix\u001b[0m \u001b[0;32mimport\u001b[0m \u001b[0mopen\u001b[0m \u001b[0;32mas\u001b[0m \u001b[0mtabix_open\u001b[0m\u001b[0;34m\u001b[0m\u001b[0m\n\u001b[0m\u001b[1;32m      5\u001b[0m \u001b[0;34m\u001b[0m\u001b[0m\n\u001b[1;32m      6\u001b[0m \u001b[0mVCF_COLUMNS\u001b[0m \u001b[0;34m=\u001b[0m \u001b[0;34m(\u001b[0m\u001b[0;34m\"CHROM\"\u001b[0m\u001b[0;34m,\u001b[0m \u001b[0;34m\"POS\"\u001b[0m\u001b[0;34m,\u001b[0m \u001b[0;34m\"ID\"\u001b[0m\u001b[0;34m,\u001b[0m \u001b[0;34m\"REF\"\u001b[0m\u001b[0;34m,\u001b[0m \u001b[0;34m\"ALT\"\u001b[0m\u001b[0;34m,\u001b[0m \u001b[0;34m\"QUAL\"\u001b[0m\u001b[0;34m,\u001b[0m \u001b[0;34m\"FILTER\"\u001b[0m\u001b[0;34m,\u001b[0m \u001b[0;34m\"INFO\"\u001b[0m\u001b[0;34m,\u001b[0m \u001b[0;34m\"FORMAT\"\u001b[0m\u001b[0;34m)\u001b[0m\u001b[0;34m\u001b[0m\u001b[0m\n",
      "\u001b[0;31mModuleNotFoundError\u001b[0m: No module named 'tabix'"
     ]
    }
   ],
   "source": [
    "import ccal"
   ]
  },
  {
   "cell_type": "code",
   "execution_count": null,
   "metadata": {},
   "outputs": [],
   "source": []
  }
 ],
 "metadata": {
  "kernelspec": {
   "display_name": "Python 3",
   "language": "python",
   "name": "python3"
  },
  "language_info": {
   "codemirror_mode": {
    "name": "ipython",
    "version": 3
   },
   "file_extension": ".py",
   "mimetype": "text/x-python",
   "name": "python",
   "nbconvert_exporter": "python",
   "pygments_lexer": "ipython3",
   "version": "3.6.3"
  }
 },
 "nbformat": 4,
 "nbformat_minor": 2
}
